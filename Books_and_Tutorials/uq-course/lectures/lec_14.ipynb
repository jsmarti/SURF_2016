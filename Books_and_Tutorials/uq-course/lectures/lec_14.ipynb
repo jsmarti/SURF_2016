{
 "cells": [
  {
   "cell_type": "markdown",
   "metadata": {
    "slideshow": {
     "slide_type": "slide"
    }
   },
   "source": [
    "# Lecture 14 Global and Local Sensitivity Analysis"
   ]
  },
  {
   "cell_type": "markdown",
   "metadata": {
    "slideshow": {
     "slide_type": "slide"
    }
   },
   "source": [
    "## Objectives\n",
    "\n",
    "+ Objective 1 - Learn the concept of global and local sensitivity analysis\n", 
    "+ Objective 2 - Learn the methods of global and local sensitivity analysis\n",      
    "+ Objective 3 - In particular, learn to use Sobol' indices for global sensitivity analysis\n",
    "+ Objective 4 - In particular, learn to use PC-based Sobol' indices for global sensitivity analysis"
   ]
  },
  {
   "cell_type": "markdown",
   "metadata": {
    "slideshow": {
     "slide_type": "slide"
    }
   },
   "source": [
    "## Readings\n",
    "\n",
    "+ B. Sudret, C.V. Mai, Computing derivative-based global sensitivity measures using polynomial chaos expansions, Reliability Eng. & System Safety, 134: 241-250, 2015\n",
    "\n",
    "+ G. Lin and G.E. Karniadakis, Sensitivity Analysis and Stochastic Simulations of Non-equilibrium Plasma Flow, International Journal for Numerical Methods in Engineering, 80(6-7):738-766, 2009\n",
    "+ A. Saltelli, S. Tarantola, F. Campolongo, M. Ratto, Sensitivity analysis in practice: a guide to assessing scientific models, Wiley, 2004\n",
    "+ Saltelli, A., Ratto, M., Andres, T., Campolongo, F., Cariboni, J., Gatelli, D., Saisana, M., and Tarantola, S. Global Sensitivity Analysis. The Primer, John Wiley and Sons, 2008."
    ]
  },
  {
   "cell_type": "markdown",
   "metadata": {
    "slideshow": {
     "slide_type": "slide"
    }
   },
   "source": [
    "## UQ and Sensitivity Analysis Framework\n",
    "\n",
    "![](figures/sens0.png)\n"
   ]
  },
  {
   "cell_type": "markdown",
   "metadata": {
    "slideshow": {
     "slide_type": "slide"
    }
   },
   "source": [
    "## Sensitivity Analysis\n",
    "\n",
    "+ Sensitivity analysis is defined as the study of how uncertainty in the output of a model can be attributed to different sources of uncertainty in the model input.\n",
    "\n",
    "+ Sensitivity analysis helps to understand how the parameters and states (model variables or optimization design variables) of a computer model influence the quantity of interest or optimization cost function\n",
    "+ Sensitivity analysis before simulation or optimization — Determine the influence of the parameters of a computer model on the output. \n",
    "+ Use sensitivity analysis to rank parameters in order of influence so that you can determine the most influential parameters. \n",
    "+ Optimize the model by tuning the most influential parameters or perform experiments to better characterize those parameters.\n",
    "+ Sensitivity analysis after simulation or optimization — Test how robust the cost function is to small changes in the values of model parameters or optimized parameters.\n"
    ]
  },
    {
   "cell_type": "markdown",
   "metadata": {
    "slideshow": {
     "slide_type": "slide"
    }
   },
   "source": [
    "## Local Sensitivity Analysis\n",
    "\n",
    "+  local sensitivity analysis, which is derivative based (numerical or analytical). \n",
    "+ Mathematically, the sensitivity of the cost function with respect to certain parameters\n",
    "+ is equal to the partial derivative of the cost function with respect to those parameters.\n",
    "+ The term local refers to the fact that all derivatives are taken at a single point. \n",
    "+ Local sensitivity analysis is a one-at-a-time (OAT) technique. \n",
    "+ OAT techniques analyze the effect of one parameter on the cost function at a time, keeping the other parameters fixed. \n",
    "+ They explore only a small fraction of the design space, especially when there are many parameters. \n",
    "+ Also, they do not provide insight about how the interactions between parameters influence the cost function."
    ]
  },
      {
   "cell_type": "markdown",
    "metadata": {
    "slideshow": {
     "slide_type": "slide"
    }
   },
   "source": [
    "## Methods for Local Sensitivity Analysis\n",
    "\n",
    "+  Morris Method \n",
    "+ Multi-Element Sparse Collocation based One-at-a-Time Method\n",
    "+ Quasi Monte Carlo based One-at-a-Time Method\n",
    "+ Monte Carlo based One-at-a-Time Method"
    ]
  },
     {
   "cell_type": "markdown",
   "metadata": {
    "slideshow": {
     "slide_type": "slide"
    }
   },
   "source": [
    "## Local Sensitivity Analysis - One-at-a-Time Method\n",
    "\n",
    "![](figures/sens46.png)\n"
   ]
  },
       {
   "cell_type": "markdown",
   "metadata": {
    "slideshow": {
     "slide_type": "slide"
    }
   },
   "source": [
    "## Convergence Study of Local Sensitivity Analysis\n",
    "\n",
    "![](figures/sens47.png)\n"
   ]
  },
  {
   "cell_type": "markdown",
    "metadata": {
    "slideshow": {
     "slide_type": "slide"
    }
   },
   "source": [
    "## Global Sensitivity Analysis\n",
    "\n",
    "+ global sensitivity analysis uses a representative (global) set of samples to explore the design space\n",
    "+ Sample the model parameters using experimental design principles. That is, for each parameter, generate multiple values that the parameter can assume. \n",
    "+ Define the parameter sample space by specifying probability distributions for each parameter. You can also specify parameter correlations\n",
    "+ Evaluate the quantity of interest or optimization cost function at each sample point. You can plot quantity of interest or the cost function output for the samples to visually analyze trends. \n",
    "+ Formally analyze the relation between the quantity of interest or cost function and the parameters, and rank the parametric sensitivity.\n"
    ]
  },
   {
   "cell_type": "markdown",
   "metadata": {
    "slideshow": {
     "slide_type": "slide"
    }
   },
   "source": [
    "## Outline\n",
    "\n",
    "![](figures/sens01.png)\n"
   ]
  },
   {
   "cell_type": "markdown",
   "metadata": {
    "slideshow": {
     "slide_type": "slide"
    }
   },
   "source": [
    "## Spectral expansion in random space\n",
    "\n",
    "![](figures/sens1.png)\n"
   ]
  },
   {
   "cell_type": "markdown",
   "metadata": {
    "slideshow": {
     "slide_type": "slide"
    }
   },
   "source": [
    "## Polynomial chaos basis\n",
    "\n",
    "![](figures/sens2.png)\n"
   ]
  },
   {
   "cell_type": "markdown",
   "metadata": {
    "slideshow": {
     "slide_type": "slide"
    }
   },
   "source": [
    "## Polynomial chaos basis\n",
    "\n",
    "![](figures/sens3.png)\n"
   ]
  },
     {
   "cell_type": "markdown",
   "metadata": {
    "slideshow": {
     "slide_type": "slide"
    }
   },
   "source": [
    "## Practical implementation\n",
    "\n",
    "![](figures/sens4.png)\n"
   ]
  },
     {
   "cell_type": "markdown",
   "metadata": {
    "slideshow": {
     "slide_type": "slide"
    }
   },
   "source": [
    "## Application example I\n",
    "\n",
    "![](figures/sens5.png)\n"
   ]
  },
     {
   "cell_type": "markdown",
   "metadata": {
    "slideshow": {
     "slide_type": "slide"
    }
   },
   "source": [
    "## Application example II\n",
    "\n",
    "![](figures/sens6.png)\n"
   ]
  },
     {
   "cell_type": "markdown",
   "metadata": {
    "slideshow": {
     "slide_type": "slide"
    }
   },
   "source": [
    "## Application example III\n",
    "\n",
    "![](figures/sens7.png)\n"
   ]
  },
       {
   "cell_type": "markdown",
   "metadata": {
    "slideshow": {
     "slide_type": "slide"
    }
   },
   "source": [
    "## Various approach for computing the coefficients\n",
    "\n",
    "![](figures/sens8.png)\n"
   ]
  },
         {
   "cell_type": "markdown",
   "metadata": {
    "slideshow": {
     "slide_type": "slide"
    }
   },
   "source": [
    "## Statistical approach: least-square minimization\n",
    "\n",
    "![](figures/sens9.png)\n"
   ]
  },
         {
   "cell_type": "markdown",
   "metadata": {
    "slideshow": {
     "slide_type": "slide"
    }
   },
   "source": [
    "## Least-Square Minimization: continuous solution\n",
    "\n",
    "![](figures/sens10.png)\n"
   ]
  },
         {
   "cell_type": "markdown",
   "metadata": {
    "slideshow": {
     "slide_type": "slide"
    }
   },
   "source": [
    "## Least-Square Minimization: discretized solution\n",
    "\n",
    "![](figures/sens11.png)\n"
   ]
  },
           {
   "cell_type": "markdown",
   "metadata": {
    "slideshow": {
     "slide_type": "slide"
    }
   },
   "source": [
    "## Least-Square Minimization: procedure\n",
    "\n",
    "![](figures/sens12.png)\n"
   ]
  },
           {
   "cell_type": "markdown",
   "metadata": {
    "slideshow": {
     "slide_type": "slide"
    }
   },
   "source": [
    "## Choice of the experimental design\n",
    "\n",
    "![](figures/sens13.png)\n"
   ]
  },
             {
   "cell_type": "markdown",
   "metadata": {
    "slideshow": {
     "slide_type": "slide"
    }
   },
   "source": [
    "## Validation of the surrogate model\n",
    "\n",
    "![](figures/sens14.png)\n"
   ]
  },
            {
   "cell_type": "markdown",
   "metadata": {
    "slideshow": {
     "slide_type": "slide"
    }
   },
   "source": [
    "## Error estimators - coefficient of determination\n",
    "\n",
    "![](figures/sens15.png)\n"
   ]
  },
              {
   "cell_type": "markdown",
   "metadata": {
    "slideshow": {
     "slide_type": "slide"
    }
   },
   "source": [
    "## Error estimators - Leave-one-out cross validation\n",
    "\n",
    "![](figures/sens16.png)\n"
   ]
  },
               {
   "cell_type": "markdown",
   "metadata": {
    "slideshow": {
     "slide_type": "slide"
    }
   },
   "source": [
    "## Cross validation - Implementation\n",
    "\n",
    "![](figures/sens17.png)\n"
   ]
  },
                 {
   "cell_type": "markdown",
   "metadata": {
    "slideshow": {
     "slide_type": "slide"
    }
   },
   "source": [
    "## Cross validation - Implementation\n",
    "\n",
    "![](figures/sens18.png)\n"
   ]
  },
                 {
   "cell_type": "markdown",
   "metadata": {
    "slideshow": {
     "slide_type": "slide"
    }
   },
   "source": [
    "## Sparse PC expansions\n",
    "\n",
    "![](figures/sens19.png)\n"
   ]
  },
                 {
   "cell_type": "markdown",
   "metadata": {
    "slideshow": {
     "slide_type": "slide"
    }
   },
   "source": [
    "## Sensitivity analysis - Sobol' decomposition (Sobol' 1993, Saltelli et al. 2000)\n",
    "\n",
    "![](figures/sens20.png)\n"
   ]
  },
                   {
   "cell_type": "markdown",
   "metadata": {
    "slideshow": {
     "slide_type": "slide"
    }
   },
   "source": [
    "## Sobol' decomposition Properties\n",
    "\n",
    "![](figures/sens21.png)\n"
   ]
  },
                   {
   "cell_type": "markdown",
   "metadata": {
    "slideshow": {
     "slide_type": "slide"
    }
   },
   "source": [
    "## Sobol' indices\n",
    "\n",
    "![](figures/sens22.png)\n"
   ]
  },
                   {
   "cell_type": "markdown",
   "metadata": {
    "slideshow": {
     "slide_type": "slide"
    }
   },
   "source": [
    "## Sobol' indices\n",
    "\n",
    "![](figures/sens23.png)\n"
   ]
  },
                     {
   "cell_type": "markdown",
   "metadata": {
    "slideshow": {
     "slide_type": "slide"
    }
   },
   "source": [
    "## First order and total Sobol' indices\n",
    "\n",
    "![](figures/sens24.png)\n"
   ]
  },
                     {
   "cell_type": "markdown",
   "metadata": {
    "slideshow": {
     "slide_type": "slide"
    }
   },
   "source": [
    "## Polynomial chaos expansions: moments\n",
    "\n",
    "![](figures/sens25.png)\n"
   ]
  },
                       {
   "cell_type": "markdown",
   "metadata": {
    "slideshow": {
     "slide_type": "slide"
    }
   },
   "source": [
    "## Sobol' decomposition from Polynomial chaos expansions\n",
    "\n",
    "![](figures/sens26.png)\n"
   ]
  },
                       {
   "cell_type": "markdown",
   "metadata": {
    "slideshow": {
     "slide_type": "slide"
    }
   },
   "source": [
    "## Partial variances\n",
    "\n",
    "![](figures/sens27.png)\n"
   ]
  },
                       {
   "cell_type": "markdown",
   "metadata": {
    "slideshow": {
     "slide_type": "slide"
    }
   },
   "source": [
    "## Sobol' decomposition from PC expansions (Sudret (2006-08), Blatman 2010)\n",
    "\n",
    "![](figures/sens28.png)\n"
   ]
  },
                       {
   "cell_type": "markdown",
   "metadata": {
    "slideshow": {
     "slide_type": "slide"
    }
   },
   "source": [
    "## Example\n",
    "\n",
    "![](figures/sens29.png)\n"
   ]
  },
                       {
   "cell_type": "markdown",
   "metadata": {
    "slideshow": {
     "slide_type": "slide"
    }
   },
   "source": [
    "## Ishigami function\n",
    "\n",
    "![](figures/sens30.png)\n"
   ]
  },
                         {
   "cell_type": "markdown",
   "metadata": {
    "slideshow": {
     "slide_type": "slide"
    }
   },
   "source": [
    "## First order Sobol' indices\n",
    "\n",
    "![](figures/sens31.png)\n"
   ]
  },
                         {
   "cell_type": "markdown",
   "metadata": {
    "slideshow": {
     "slide_type": "slide"
    }
   },
   "source": [
    "## First order Sobol' indices\n",
    "\n",
    "![](figures/sens32.png)\n"
   ]
  },
                           {
   "cell_type": "markdown",
   "metadata": {
    "slideshow": {
     "slide_type": "slide"
    }
   },
   "source": [
    "## Total Sobol' indices\n",
    "\n",
    "![](figures/sens33.png)\n"
   ]
  },
                             {
   "cell_type": "markdown",
   "metadata": {
    "slideshow": {
     "slide_type": "slide"
    }
   },
   "source": [
    "## Total Sobol' indices - small design and replication\n",
    "\n",
    "![](figures/sens34.png)\n"
   ]
  },
                             {
   "cell_type": "markdown",
   "metadata": {
    "slideshow": {
     "slide_type": "slide"
    }
   },
   "source": [
    "## Morris function - Definition (M=20 variables)\n",
    "\n",
    "![](figures/sens35.png)\n"
   ]
  },
                             {
   "cell_type": "markdown",
   "metadata": {
    "slideshow": {
     "slide_type": "slide"
    }
   },
   "source": [
    "## Morris function - Sensitivity results\n",
    "\n",
    "![](figures/sens36.png)\n"
   ]
  },
                             {
   "cell_type": "markdown",
   "metadata": {
    "slideshow": {
     "slide_type": "slide"
    }
   },
   "source": [
    "## MOrris function - Sparsity of the model\n",
    "\n",
    "![](figures/sens37.png)\n"
   ]
  },
                             {
   "cell_type": "markdown",
   "metadata": {
    "slideshow": {
     "slide_type": "slide"
    }
   },
   "source": [
    "## High dimensional example\n",
    "\n",
    "![](figures/sens38.png)\n"
   ]
  },
                             {
   "cell_type": "markdown",
   "metadata": {
    "slideshow": {
     "slide_type": "slide"
    }
   },
   "source": [
    "## Reference results\n",
    "\n",
    "![](figures/sens39.png)\n"
   ]
  },
                             {
   "cell_type": "markdown",
   "metadata": {
    "slideshow": {
     "slide_type": "slide"
    }
   },
   "source": [
    "## Reference results\n",
    "\n",
    "![](figures/sens40.png)\n"
   ]
  },
                               {
   "cell_type": "markdown",
   "metadata": {
    "slideshow": {
     "slide_type": "slide"
    }
   },
   "source": [
    "## Reference results\n",
    "\n",
    "![](figures/sens41.png)\n"
   ]
  },
                               {
   "cell_type": "markdown",
   "metadata": {
    "slideshow": {
     "slide_type": "slide"
    }
   },
   "source": [
    "## PC-based vs. MCS-based Sobol' indices\n",
    "\n",
    "![](figures/sens42.png)\n"
   ]
  },
                                 {
   "cell_type": "markdown",
   "metadata": {
    "slideshow": {
     "slide_type": "slide"
    }
   },
   "source": [
    "![](figures/sens44.png)\n"
   ]
  },
                                 {
   "cell_type": "markdown",
   "metadata": {
    "slideshow": {
     "slide_type": "slide"
    }
   },
   "source": [
    "![](figures/sens45.png)\n"
   ]
  },
                                   {
   "cell_type": "markdown",
   "metadata": {
    "slideshow": {
     "slide_type": "slide"
    }
   },
   "source": [
    "![](figures/sens48.png)\n"
   ]
  },
                                   {
   "cell_type": "markdown",
   "metadata": {
    "slideshow": {
     "slide_type": "slide"
    }
   },
   "source": [
    "![](figures/sens49.png)\n"
   ]
  },
                               {
   "cell_type": "markdown",
   "metadata": {
    "slideshow": {
     "slide_type": "slide"
    }
   },
   "source": [
    "## Conclusions\n",
    "\n",
    "![](figures/sens43.png)\n"
   ]
  },
    {
   "cell_type": "markdown",
   "metadata": {
    "slideshow": {
     "slide_type": "slide"
    }
   },
   "source": [
    "## ANOVA Expansions\n",
    "\n",
    "![](figures/a1.png)\n"
   ]
  },
  {
   "cell_type": "markdown",
   "metadata": {
    "slideshow": {
     "slide_type": "slide"
    }
   },
   "source": [
    "## ANOVA Expansions\n",
    "\n",
    "![](figures/a2.png)\n"
   ]
  },
  {
   "cell_type": "markdown",
   "metadata": {
    "slideshow": {
     "slide_type": "slide"
    }
   },
   "source": [
    "## ANOVA Expansions\n",
    "\n",
    "![](figures/a3.png)\n"
   ]
  },
  {
   "cell_type": "markdown",
   "metadata": {
    "slideshow": {
     "slide_type": "slide"
    }
   },
   "source": [
    "## ANOVA Expansions\n",
    "\n",
    "![](figures/a4.png)\n"
   ]
  },
  {
   "cell_type": "markdown",
   "metadata": {
    "slideshow": {
     "slide_type": "slide"
    }
   },
   "source": [
    "## ANOVA Expansions\n",
    "\n",
    "![](figures/a5.png)\n"
   ]
  },
  {
   "cell_type": "markdown",
   "metadata": {
    "slideshow": {
     "slide_type": "slide"
    }
   },
   "source": [
    "## ANOVA Expansions\n",
    "\n",
    "![](figures/a6.png)\n"
   ]
  },
  {
   "cell_type": "markdown",
   "metadata": {
    "slideshow": {
     "slide_type": "slide"
    }
   },
   "source": [
    "## ANOVA Expansions\n",
    "\n",
    "![](figures/a7.png)\n"
   ]
  },
  {
   "cell_type": "markdown",
   "metadata": {
    "slideshow": {
     "slide_type": "slide"
    }
   },
   "source": [
    "## ANOVA Expansions\n",
    "\n",
    "![](figures/a8.png)\n"
   ]
  },
  {
   "cell_type": "markdown",
   "metadata": {
    "slideshow": {
     "slide_type": "slide"
    }
   },
   "source": [
    "## ANOVA Expansions\n",
    "\n",
    "![](figures/a9.png)\n"
   ]
  },
  {
   "cell_type": "markdown",
   "metadata": {
    "slideshow": {
     "slide_type": "slide"
    }
   },
   "source": [
    "## ANOVA Expansions\n",
    "\n",
    "![](figures/a10.png)\n"
   ]
  },
  {
   "cell_type": "markdown",
   "metadata": {
    "slideshow": {
     "slide_type": "slide"
    }
   },
   "source": [
    "## ANOVA Expansions\n",
    "\n",
    "![](figures/a11.png)\n"
   ]
  },
  {
   "cell_type": "markdown",
   "metadata": {
    "slideshow": {
     "slide_type": "slide"
    }
   },
   "source": [
    "## ANOVA Expansions\n",
    "\n",
    "![](figures/a12.png)\n"
   ]
  },
  {
   "cell_type": "markdown",
   "metadata": {
    "slideshow": {
     "slide_type": "slide"
    }
   },
   "source": [
    "## ANOVA Expansions\n",
    "\n",
    "![](figures/a13.png)\n"
   ]
  },
  {
   "cell_type": "markdown",
   "metadata": {
    "slideshow": {
     "slide_type": "slide"
    }
   },
   "source": [
    "## ANOVA Expansions\n",
    "\n",
    "![](figures/a14.png)\n"
   ]
  },
  {
   "cell_type": "markdown",
   "metadata": {
    "slideshow": {
     "slide_type": "slide"
    }
   },
   "source": [
    "## ANOVA Expansions\n",
    "\n",
    "![](figures/a15.png)\n"
   ]
  },
  {
   "cell_type": "markdown",
   "metadata": {
    "slideshow": {
     "slide_type": "slide"
    }
   },
   "source": [
    "## ANOVA Expansions\n",
    "\n",
    "![](figures/a16.png)\n"
   ]
  },
  {
   "cell_type": "markdown",
   "metadata": {
    "slideshow": {
     "slide_type": "slide"
    }
   },
   "source": [
    "## ANOVA Expansions\n",
    "\n",
    "![](figures/a17.png)\n"
   ]
  },
  {
   "cell_type": "markdown",
   "metadata": {
    "slideshow": {
     "slide_type": "slide"
    }
   },
   "source": [
    "## ANOVA Expansions\n",
    "\n",
    "![](figures/a18.png)\n"
   ]
  },
  {
   "cell_type": "markdown",
   "metadata": {
    "slideshow": {
     "slide_type": "slide"
    }
   },
   "source": [
    "## Other developments\n",
    "\n",
    "![](figures/a19.png)\n"
   ]
  },
  {
   "cell_type": "markdown",
   "metadata": {
    "slideshow": {
     "slide_type": "slide"
    }
   },
   "source": [
    "## Open questions and challenges\n",
    "\n",
    "![](figures/a20.png)\n"
   ]
  },
  {
   "cell_type": "markdown",
   "metadata": {
    "slideshow": {
     "slide_type": "slide"
    }
   },
   "source": [
    "## Open questions and challenges\n",
    "\n",
    "![](figures/a21.png)\n"
   ]
  },
  {
   "cell_type": "markdown",
   "metadata": {
    "slideshow": {
     "slide_type": "slide"
    }
   },
   "source": [
    "## Open questions and challenges\n",
    "\n",
    "![](figures/a22.png)\n"
   ]
  },
  {
   "cell_type": "markdown",
   "metadata": {
    "slideshow": {
     "slide_type": "slide"
    }
   },
   "source": [
    "## References\n",
    "\n",
    "![](figures/a23.png)\n"
   ]
  },
  {
   "cell_type": "markdown",
   "metadata": {
    "slideshow": {
     "slide_type": "slide"
    }
   },
   "source": [
    "## References\n",
    "\n",
    "![](figures/a24.png)\n"
   ]
  },
  {
   "cell_type": "code",
   "execution_count": null,
   "metadata": {
    "collapsed": true
   },
   "outputs": [],
   "source": []
  }
 ],
 "metadata": {
  "kernelspec": {
   "display_name": "Python 2",
   "language": "python",
   "name": "python2"
  },
  "language_info": {
   "codemirror_mode": {
    "name": "ipython",
    "version": 2
   },
   "file_extension": ".py",
   "mimetype": "text/x-python",
   "name": "python",
   "nbconvert_exporter": "python",
   "pygments_lexer": "ipython2",
   "version": "2.7.10"
  },
  "latex_envs": {
   "bibliofile": "biblio.bib",
   "cite_by": "apalike",
   "current_citInitial": 1,
   "eqLabelWithNumbers": true,
   "eqNumInitial": 0
  }
 },
 "nbformat": 4,
 "nbformat_minor": 0
}

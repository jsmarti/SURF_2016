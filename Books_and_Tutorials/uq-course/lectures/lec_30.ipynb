{
 "cells": [
  {
   "cell_type": "markdown",
   "metadata": {},
   "source": [
    "# Lecture 30 - Bayesian Global Optimization\n",
    "\n",
    "> In teaching, there can be too much emphasis on certainty and a proper appreciation of uncertainty is to be encouraged. \n",
    "> Dennis Lindley."
   ]
  },
  {
   "cell_type": "markdown",
   "metadata": {},
   "source": [
    "## Objectives\n",
    "\n",
    "+ What is **BGO**?\n",
    "+ Motivation for **BGO**.\n",
    "+ What is an Information acquisition function (IAF)?\n",
    "+ Different extensions of BGO."
   ]
  },
  {
   "cell_type": "markdown",
   "metadata": {},
   "source": [
    "## Readings\n",
    "\n",
    "The following papers can be useful for this lecture:\n",
    "\n",
    "+ Efficient Global Optimization of Expensive Black-Box Functions, (Jones et al, 1998)\n",
    "+ A Taxonomy of Global Optimization Methods Based on Response Surfaces (Jones, 2001)"
   ]
  },
  {
   "cell_type": "markdown",
   "metadata": {},
   "source": [
    "## Current state of the art\n",
    "\n",
    "For unimodal functions:\n",
    "\n",
    "+ Sequential linear programming\n",
    "+ Method of centres\n",
    "+ Sequential quadratic programming\n",
    "\n",
    "For multimodal functions:\n",
    "\n",
    "+ Genetic algorithm\n",
    "+ Simulated annealing\n",
    "+ Particle swarm optimization\n",
    "\n",
    "For multiobjective optimization:\n",
    "\n",
    "Non-dominated sorting Genetic algorithm (NSGA) is used for optimization and the following are used for defining the objective function (called the fitness function).\n",
    "\n",
    "+ Gaming approach\n",
    "+ Weighted sum approach\n",
    "+ Goal attainment approach"
   ]
  },
  {
   "cell_type": "markdown",
   "metadata": {},
   "source": [
    "## Computational burden \n",
    "\n",
    "> The above methods require a large number of function evaluations, which is feasible only when we have cheap to evaluate functions."
   ]
  },
  {
   "cell_type": "markdown",
   "metadata": {},
   "source": [
    "## Motivation for BGO\n",
    "\n",
    "+ Expensive to evaluate objective function (most codes in computational research).\n",
    "+ Little or no information about the objective function (like black-box).\n",
    "+ No gradients available.\n",
    "+ Noisy observations.\n",
    "+ High dimensional.\n",
    "\n",
    "If one has obtained a given set of data about the system, and has to run the experiment or an expensive computer code, then how does one decide the inputs at which to run the above simulation??"
   ]
  },
  {
   "cell_type": "markdown",
   "metadata": {},
   "source": [
    "## Bayesian global optimization (BGO) algorithm\n",
    "\n",
    "+ Observe initial pool of inputs-outputs (measurements).\n",
    "+ Using Bayes rule to combine the prior and the measurements to build a GP surrogate.\n",
    "+ Run the simulation at the input which has the maximum value of the IAF.\n",
    "+ Add the new data point to the set of observations.\n",
    "+ Update the surrogate model."
   ]
  },
  {
   "cell_type": "markdown",
   "metadata": {},
   "source": [
    "## Information acquisition functions (IAF)\n",
    "\n",
    "An **IAF** quantifies the merit of making an observation (running a simulation) at a particular point in the design pool (untried inputs). The following are some of the widely used IAFs.\n",
    "\n",
    "+ Probability of Improvement (POI)\n",
    "+ Expected improvement (EI)\n",
    "+ Knowledge Gradient (KG)"
   ]
  }
 ],
 "metadata": {
  "celltoolbar": "Slideshow",
  "kernelspec": {
   "display_name": "Python 2",
   "language": "python",
   "name": "python2"
  },
  "language_info": {
   "codemirror_mode": {
    "name": "ipython",
    "version": 2
   },
   "file_extension": ".py",
   "mimetype": "text/x-python",
   "name": "python",
   "nbconvert_exporter": "python",
   "pygments_lexer": "ipython2",
   "version": "2.7.11"
  },
  "latex_envs": {
   "bibliofile": "biblio.bib",
   "cite_by": "apalike",
   "current_citInitial": 1,
   "eqLabelWithNumbers": true,
   "eqNumInitial": 0
  }
 },
 "nbformat": 4,
 "nbformat_minor": 0
}

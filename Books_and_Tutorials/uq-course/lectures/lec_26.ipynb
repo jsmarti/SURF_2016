{
 "cells": [
  {
   "cell_type": "markdown",
   "metadata": {},
   "source": [
    "# Lecture 26 - Bayesian Model Selection"
   ]
  },
  {
   "cell_type": "markdown",
   "metadata": {},
   "source": [
    "## Objectives\n",
    "\n",
    "+ Compute the model evidence using [pysmc](https://github.com/PredictiveScienceLab/pysmc).\n",
    "+ Do model selection with [pysmc](https://github.com/PredictiveScienceLab/pysmc)."
   ]
  },
  {
   "cell_type": "code",
   "execution_count": 31,
   "metadata": {
    "collapsed": false
   },
   "outputs": [],
   "source": [
    "import numpy as np\n",
    "import scipy\n",
    "import matplotlib.pyplot as plt\n",
    "import seaborn as sns\n",
    "import sklearn\n",
    "import pymc as pm\n",
    "import pysmc as ps\n",
    "%matplotlib inline\n",
    "\n",
    "# We need a generic function that computes the design matrix\n",
    "def compute_design_matrix(X, phi):\n",
    "    \"\"\"\n",
    "    Arguments:\n",
    "    \n",
    "    X   -  The observed inputs (1D array)\n",
    "    phi -  The basis functions.\n",
    "    \"\"\"\n",
    "    num_observations = X.shape[0]\n",
    "    num_basis = phi.num_basis\n",
    "    Phi = np.ndarray((num_observations, num_basis))\n",
    "    for i in xrange(num_observations):\n",
    "        Phi[i, :] = phi(X[i, :])\n",
    "    return Phi\n",
    "\n",
    "class PolynomialBasis(object):\n",
    "    \"\"\"\n",
    "    A set of linear basis functions.\n",
    "    \n",
    "    Arguments:\n",
    "    degree  -  The degree of the polynomial.\n",
    "    \"\"\"\n",
    "    def __init__(self, degree):\n",
    "        self.degree = degree\n",
    "        self.num_basis = degree + 1\n",
    "    def __call__(self, x):\n",
    "        return np.array([x[0] ** i for i in range(self.degree + 1)])\n",
    "    \n",
    "\n",
    "class FourierBasis(object):\n",
    "    \"\"\"\n",
    "    A set of linear basis functions.\n",
    "    \n",
    "    Arguments:\n",
    "    num_terms  -  The number of Fourier terms.\n",
    "    L          -  The period of the function.\n",
    "    \"\"\"\n",
    "    def __init__(self, num_terms, L):\n",
    "        self.num_terms = num_terms\n",
    "        self.L = L\n",
    "        self.num_basis = 2 * num_terms\n",
    "    def __call__(self, x):\n",
    "        res = np.ndarray((self.num_basis,))\n",
    "        for i in xrange(num_terms):\n",
    "            res[2 * i] = np.cos(2 * i * np.pi / self.L * x[0])\n",
    "            res[2 * i + 1] = np.sin(2 * (i+1) * np.pi / self.L * x[0])\n",
    "        return res\n",
    "    \n",
    "\n",
    "class RadialBasisFunctions(object):\n",
    "    \"\"\"\n",
    "    A set of linear basis functions.\n",
    "    \n",
    "    Arguments:\n",
    "    X   -  The centers of the radial basis functions.\n",
    "    ell -  The assumed lengthscale.\n",
    "    \"\"\"\n",
    "    def __init__(self, X, ell):\n",
    "        self.X = X\n",
    "        self.ell = ell\n",
    "        self.num_basis = X.shape[0]\n",
    "    def __call__(self, x):\n",
    "        return np.exp(-.5 * (x - self.X) ** 2 / self.ell ** 2).flatten()"
   ]
  },
  {
   "cell_type": "markdown",
   "metadata": {},
   "source": [
    "## Sanity check - Does the calculation of the evidence with PySMC work?\n",
    "\n",
    "Let\n",
    "$$\n",
    "p(\\theta) = \\mathcal{N}(\\theta|0, 1),\n",
    "$$\n",
    "and\n",
    "$$\n",
    "p(y|\\theta) = \\mathcal{N}(y|\\theta,0).\n",
    "$$\n",
    "The posterior of $\\theta$ given $y$ is:\n",
    "$$\n",
    "p(\\theta|y) = \\frac{p(y|\\theta)p(\\theta)}{Z},\n",
    "$$\n",
    "where\n",
    "$$\n",
    "Z = \\int_{-\\infty}^{\\infty} p(y|\\theta)p(\\theta)d\\theta.\n",
    "$$\n",
    "Let's first calculate $Z$ analytically."
   ]
  },
  {
   "cell_type": "code",
   "execution_count": 6,
   "metadata": {
    "collapsed": false
   },
   "outputs": [
    {
     "data": {
      "image/png": "[encoded data removed]",
      "text/latex": [
       "$$\\frac{0.5}{\\sqrt{\\pi}} e^{- 0.25 y^{2}}$$"
      ],
      "text/plain": [
       "            2\n",
       "     -0.25⋅y \n",
       "0.5⋅ℯ        \n",
       "─────────────\n",
       "      ___    \n",
       "    ╲╱ π     "
      ]
     },
     "execution_count": 6,
     "metadata": {},
     "output_type": "execute_result"
    }
   ],
   "source": [
    "import sympy\n",
    "import sympy.stats\n",
    "sympy.init_printing()\n",
    "y, t = sympy.symbols('y \\\\theta')\n",
    "q = 1. / sympy.sqrt(2. * sympy.pi) * sympy.exp(-0.5 * (y - t) ** 2) * \\\n",
    "    1. / sympy.sqrt(2. * sympy.pi) * sympy.exp(-0.5 * t ** 2)\n",
    "sympy.simplify(sympy.integrate(q, (t, -sympy.oo, sympy.oo)))"
   ]
  },
  {
   "cell_type": "markdown",
   "metadata": {},
   "source": [
    "So, if the observed $y$ was zero, then the Z should be:\n",
    "$$\n",
    "Z = \\frac{1}{2\\sqrt{\\pi}}.\n",
    "$$"
   ]
  },
  {
   "cell_type": "code",
   "execution_count": 7,
   "metadata": {
    "collapsed": false
   },
   "outputs": [
    {
     "name": "stdout",
     "output_type": "stream",
     "text": [
      "log Z = -1.266e+00\n"
     ]
    }
   ],
   "source": [
    "Z = 1 /  2. / np.sqrt(np.pi)\n",
    "print 'log Z = {0:1.3e}'.format(np.log(Z))"
   ]
  },
  {
   "cell_type": "markdown",
   "metadata": {},
   "source": [
    "All, right. Now, let's program this thing in pysmc and compare the results.\n",
    "\n",
    "We start with the model:"
   ]
  },
  {
   "cell_type": "code",
   "execution_count": 8,
   "metadata": {
    "collapsed": true
   },
   "outputs": [],
   "source": [
    "def make_model(y=0.):\n",
    "    # The gamma parameter\n",
    "    gamma = 1.\n",
    "    \n",
    "    # The prior over theta\n",
    "    theta = pm.Normal('$\\theta$', mu=0., tau=1., value=0.)\n",
    "    \n",
    "    # The likelihood term - which must contain gamma in it\n",
    "    @pm.stochastic(observed=True)\n",
    "    def likelihood(value=y, gamma=gamma, theta=theta):\n",
    "        return gamma * pm.normal_like(value, theta, 1.)\n",
    "    \n",
    "    return locals()"
   ]
  },
  {
   "cell_type": "markdown",
   "metadata": {},
   "source": [
    "Now we initialize the model and run PySMC."
   ]
  },
  {
   "cell_type": "code",
   "execution_count": 9,
   "metadata": {
    "collapsed": false
   },
   "outputs": [
    {
     "name": "stdout",
     "output_type": "stream",
     "text": [
      "------------------------\n",
      "START SMC Initialization\n",
      "------------------------\n",
      "- initializing at gamma : 0.0\n",
      "- initializing by sampling from the prior: SUCCESS\n",
      "----------------------\n",
      "END SMC Initialization\n",
      "----------------------\n",
      "-----------------\n",
      "START SMC MOVE TO\n",
      "-----------------\n",
      "initial  gamma : 0.0\n",
      "final gamma : 1.0\n",
      "ess reduction:  0.9\n",
      "- tuning the MCMC parameters:\n",
      "\t- tuning step method: <pysmc._step_methods.RandomWalk object at 0x10642ad10>\n",
      "- finding next gamma.\n",
      "- moving to gamma : 0.866099702268\n",
      "- performing 1 MCMC steps per particle\n",
      "- logZ -1.062e+00\n",
      " [-----------------100%-----------------] 100 of 100 complete in 0.0 sec\n",
      "- acceptance rate for each step method:\n",
      "\t- <pysmc._step_methods.RandomWalk object at 0x10642ad10> : 0.94\n",
      "- tuning the MCMC parameters:\n",
      "\t- tuning step method: <pysmc._step_methods.RandomWalk object at 0x10642ad10>\n",
      "\n",
      "\t\tadaptive_scale_factor: 1.1\n",
      "\n",
      "\t\tSUCCESS\n",
      "- finding next gamma.\n",
      "- \twe can move directly to the target gamma...\n",
      "- moving to gamma : 1.0\n",
      "- performing 1 MCMC steps per particle\n",
      "- logZ -1.511e-01\n",
      " [-----------------100%-----------------] 100 of 100 complete in 0.0 sec\n",
      "- acceptance rate for each step method:\n",
      "\t- <pysmc._step_methods.RandomWalk object at 0x10642ad10> : 0.96\n",
      "- total number of MCMC steps: 200\n",
      "---------------\n",
      "END SMC MOVE TO\n",
      "---------------\n"
     ]
    }
   ],
   "source": [
    "model = make_model(y=0.)\n",
    "mcmc = pm.MCMC(model)\n",
    "mcmc.use_step_method(ps.RandomWalk, model['theta'])\n",
    "smc = ps.SMC(mcmc, num_particles=100, num_mcmc=1, verbose=4, ess_reduction=0.9)\n",
    "smc.initialize(0.)\n",
    "smc.move_to(1.)"
   ]
  },
  {
   "cell_type": "markdown",
   "metadata": {},
   "source": [
    "Here are the log Z ratios that we gathered along the way:"
   ]
  },
  {
   "cell_type": "code",
   "execution_count": 10,
   "metadata": {
    "collapsed": false
   },
   "outputs": [
    {
     "name": "stdout",
     "output_type": "stream",
     "text": [
      "[-1.0621839748778585, -0.15113426122624052]\n"
     ]
    }
   ],
   "source": [
    "print smc.log_Zs"
   ]
  },
  {
   "cell_type": "markdown",
   "metadata": {},
   "source": [
    "The evidence is the sum of these:"
   ]
  },
  {
   "cell_type": "code",
   "execution_count": 11,
   "metadata": {
    "collapsed": false
   },
   "outputs": [
    {
     "name": "stdout",
     "output_type": "stream",
     "text": [
      "Log Z SMC estiamte: -1.213318e+00\n"
     ]
    }
   ],
   "source": [
    "print 'Log Z SMC estiamte: {0:1.6e}'.format(np.sum(smc.log_Zs))"
   ]
  },
  {
   "cell_type": "markdown",
   "metadata": {},
   "source": [
    "Which is close to the truth."
   ]
  },
  {
   "cell_type": "markdown",
   "metadata": {},
   "source": [
    "## Questions\n",
    "+ Repeat the calculations above for a varying number of SMC particles. Start from 10 and go up to 10,000."
   ]
  },
  {
   "cell_type": "markdown",
   "metadata": {},
   "source": [
    "## Polynomial Regression"
   ]
  },
  {
   "cell_type": "markdown",
   "metadata": {},
   "source": [
    "We are going to implement a standard Bayesian linear regression using pymc and train it with pysmc.\n",
    "We will compute the evidence in order to select the best class of basis functions.\n",
    "\n",
    "The model is as follows. The output $y$ conditioned on the input $x$, the weights of the basis functions $w$ and\n",
    "the noise variance $\\sigma^2$ has likelihood:\n",
    "$$\n",
    "p(y|x,w,\\sigma, \\mathcal{M}) = \\mathcal{N}(y|w^T\\phi_{\\mathcal{M}}(x), \\sigma^2),\n",
    "$$\n",
    "where $\\phi_{\\mathcal{M},1}(\\cdot), \\dots, \\phi_{\\mathcal{M},m_{\\mathcal{M}}}(\\cdot)$ are the\n",
    "$m_{\\mathcal{M}}$ basis functions of the model $\\mathcal{M}$.\n",
    "We put a normal prior on the weights:\n",
    "$$\n",
    "p(w|\\alpha) = \\mathcal{N}(w|0, \\alpha I_{m_{\\mathcal{M}}}),\n",
    "$$\n",
    "and an inverse Gamma prior for $\\sigma$ and $\\alpha$:\n",
    "$$\n",
    "p(\\sigma^2) = \\mbox{IG}(\\sigma^2|1, 1),\n",
    "$$\n",
    "and\n",
    "$$\n",
    "p(\\alpha) = \\mbox{IG}(\\alpha|1,1).\n",
    "$$\n",
    "\n",
    "Assume that the data we have observed are:\n",
    "$$\n",
    "x_{1:n} = \\{x_1,\\dots,x_n\\},\\;\\mbox{and}\\;y_{1:n} = \\{y_1,\\dots,y_n\\}.\n",
    "$$\n",
    "Consider the design matrix $\\Phi_{\\mathcal{M}}\\in\\mathbb{R}^{n\\times m}$:\n",
    "$$\n",
    "\\Phi_{\\mathcal{M},ij} = \\phi_{\\mathcal{M},j}(x_i).\n",
    "$$\n",
    "The likelihood of the data is:\n",
    "$$\n",
    "p(y_{1:n} | x_{1:n}, w, \\sigma, \\mathcal{M}) = \\mathcal{N}(y_{1:n}|\\Phi_{\\mathcal{M}}w, \\sigma^2I_n).\n",
    "$$\n",
    "Let's turn this into pymc code."
   ]
  },
  {
   "cell_type": "code",
   "execution_count": 24,
   "metadata": {
    "collapsed": true
   },
   "outputs": [],
   "source": [
    "def make_model(Phi, y):\n",
    "    # The parameter gamma\n",
    "    gamma = 1.\n",
    "    # The prior for sigma\n",
    "    sigma2 = pm.InverseGamma('sigma2', .5, 0.5)\n",
    "    # The prior for alpha\n",
    "    alpha = pm.InverseGamma('alpha', .5, .5)\n",
    "    # The prior of the weights\n",
    "    w = pm.Normal('w', mu=np.zeros(Phi.shape[1]), tau=alpha)\n",
    "    # The likelihood\n",
    "    @pm.stochastic(observed=True)\n",
    "    def likelihood(value=y, Phi=Phi, gamma=gamma, w=w, sigma2=sigma2):\n",
    "        return gamma * pm.normal_like(value, np.dot(Phi, w), 1. / sigma2)\n",
    "    return locals()"
   ]
  },
  {
   "cell_type": "markdown",
   "metadata": {
    "collapsed": true
   },
   "source": [
    "Let's generate some fake data to play with:"
   ]
  },
  {
   "cell_type": "code",
   "execution_count": 22,
   "metadata": {
    "collapsed": false
   },
   "outputs": [
    {
     "data": {
      "text/plain": [
       "[<matplotlib.lines.Line2D at 0x12291f350>]"
      ]
     },
     "execution_count": 22,
     "metadata": {},
     "output_type": "execute_result"
    },
    {
     "data": {
      "image/png": "[encoded data removed]",
      "text/plain": [
       "<matplotlib.figure.Figure at 0x122850f90>"
      ]
     },
     "metadata": {},
     "output_type": "display_data"
    }
   ],
   "source": [
    "np.random.seed(12345)\n",
    "num_samples = 50\n",
    "sigma2 = 1e-6\n",
    "X = 2 * np.random.rand(num_samples) - 1.\n",
    "y = 0.5 * X  ** 3 - 0.3 * X ** 2 + np.sqrt(sigma2) * np.random.rand(num_samples)\n",
    "plt.plot(X, y, 'kx', markeredgewidth=2)"
   ]
  },
  {
   "cell_type": "markdown",
   "metadata": {},
   "source": [
    "Now, let's create a function that trains the model using pysmc for a polynomial basis with a given order."
   ]
  },
  {
   "cell_type": "code",
   "execution_count": 19,
   "metadata": {
    "collapsed": true
   },
   "outputs": [],
   "source": [
    "def fit_poly(phi, X, y, num_particles=100, verbose=0):\n",
    "    Phi = compute_design_matrix(X[:, None], phi)\n",
    "    model = make_model(Phi, y)\n",
    "    mcmc = pm.MCMC(model)\n",
    "    mcmc.use_step_method(ps.RandomWalk, model['w'])\n",
    "    mcmc.use_step_method(ps.LognormalRandomWalk, model['alpha'])\n",
    "    mcmc.use_step_method(ps.LognormalRandomWalk, model['sigma2'])\n",
    "    smc = ps.SMC(mcmc, num_particles=num_particles, num_mcmc=10, verbose=verbose, ess_reduction=0.95)\n",
    "    smc.initialize(0.)\n",
    "    smc.move_to(1.)\n",
    "    return smc"
   ]
  },
  {
   "cell_type": "markdown",
   "metadata": {},
   "source": [
    "Now, let's define a function that plots the posteriors of everything."
   ]
  },
  {
   "cell_type": "code",
   "execution_count": 20,
   "metadata": {
    "collapsed": true
   },
   "outputs": [],
   "source": [
    "def plot_posteriors(smc):\n",
    "    pa = smc.get_particle_approximation()\n",
    "    pa.resample()\n",
    "    W = pa.w\n",
    "    fig, ax = plt.subplots()\n",
    "    for j in xrange(W.shape[1]):\n",
    "        ax.hist(W[:, j], normed=True, alpha=0.5, label='$w_{%d}$' % j)\n",
    "    plt.legend(loc='best')\n",
    "    fig, ax = plt.subplots()\n",
    "    alpha = pa.alpha\n",
    "    ax.hist(alpha, normed=True, label='$\\alpha$', alpha=0.5)\n",
    "    ax.set_xlabel('alpha')\n",
    "    fig, ax = plt.subplots()\n",
    "    sigma2 = pa.sigma2\n",
    "    ax.hist(sigma2, normed=True, label='$\\sigma^2$', alpha=0.5)\n",
    "    ax.set_xlabel('sigma2')"
   ]
  },
  {
   "cell_type": "markdown",
   "metadata": {},
   "source": [
    "Let's also have a function that plots the predictive distribution:"
   ]
  },
  {
   "cell_type": "code",
   "execution_count": 16,
   "metadata": {
    "collapsed": true
   },
   "outputs": [],
   "source": [
    "def plot_predictive(phi, smc, num_samples=100):\n",
    "    Xt = np.linspace(-1, 1, 100)\n",
    "    Phit = compute_design_matrix(Xt[:, None], phi)\n",
    "    pa = smc.get_particle_approximation()\n",
    "    pa.resample()\n",
    "    W = pa.w\n",
    "    sigma2 = pa.sigma2\n",
    "    # We find the percantiles numerically\n",
    "    Ys = np.ndarray((num_samples * pa.num_particles, Phit.shape[0]))\n",
    "    for i in xrange(W.shape[0]):\n",
    "        w = W[i, :]\n",
    "        sigma = np.sqrt(sigma2[i])\n",
    "        Yt = np.dot(Phit, w)\n",
    "        for j in xrange(num_samples):\n",
    "            Ys[i * num_samples + j, :] = Yt + sigma * np.random.randn(*Yt.shape)\n",
    "    Ym = np.percentile(Ys, 50, axis=0)\n",
    "    Yu = np.percentile(Ys, 97.5, axis=0)\n",
    "    Yl = np.percentile(Ys, 2.5, axis=0)\n",
    "    fig, ax = plt.subplots()\n",
    "    ax.plot(Xt, Ym, color=sns.color_palette()[0])\n",
    "    ax.fill_between(Xt, Yl, Yu, color=sns.color_palette()[0], alpha=0.25)\n",
    "    ax.plot(X, y, 'kx', markeredgewidth=2)"
   ]
  },
  {
   "cell_type": "code",
   "execution_count": 25,
   "metadata": {
    "collapsed": false
   },
   "outputs": [
    {
     "name": "stdout",
     "output_type": "stream",
     "text": [
      "------------------------\n",
      "START SMC Initialization\n",
      "------------------------\n",
      "- initializing at gamma : 0.0\n",
      "- initializing by sampling from the prior: SUCCESS\n",
      "----------------------\n",
      "END SMC Initialization\n",
      "----------------------\n",
      "-----------------\n",
      "START SMC MOVE TO\n",
      "-----------------\n",
      "initial  gamma : 0.0\n",
      "final gamma : 1.0\n",
      "ess reduction:  0.95\n",
      "- moving to gamma : 0.00347760671433\n",
      "- performing 10 MCMC steps per particle\n",
      "- logZ -3.472e-01\n",
      "\n",
      "- moving to gamma : 0.0082719286086\n",
      "- performing 10 MCMC steps per particle\n",
      "- logZ -4.474e-01\n",
      "\n",
      "- moving to gamma : 0.0123670709416\n",
      "- performing 10 MCMC steps per particle\n",
      "- logZ -3.263e-01\n",
      "\n",
      "- moving to gamma : 0.0157200333148\n",
      "- performing 10 MCMC steps per particle\n",
      "- logZ -2.385e-01\n",
      "\n",
      "- moving to gamma : 0.0200562651726\n",
      "- performing 10 MCMC steps per particle\n",
      "- logZ -2.868e-01\n",
      "\n",
      "- moving to gamma : 0.0242066435474\n",
      "- performing 10 MCMC steps per particle\n",
      "- logZ -2.546e-01\n",
      "\n",
      "- moving to gamma : 0.0277440907234\n",
      "- performing 10 MCMC steps per particle\n",
      "- logZ -1.963e-01\n",
      "\n",
      "- moving to gamma : 0.031643527712\n",
      "- performing 10 MCMC steps per particle\n",
      "- logZ -2.120e-01\n",
      "\n",
      "- moving to gamma : 0.0399559178283\n",
      "- performing 10 MCMC steps per particle\n",
      "- logZ -4.114e-01\n",
      "\n",
      "- moving to gamma : 0.0464658168617\n",
      "- performing 10 MCMC steps per particle\n",
      "- logZ -2.863e-01\n",
      "\n",
      "- moving to gamma : 0.0550712801216\n",
      "- performing 10 MCMC steps per particle\n",
      "- logZ -3.304e-01\n",
      "\n",
      "- moving to gamma : 0.0613643525786\n",
      "- performing 10 MCMC steps per particle\n",
      "- logZ -2.254e-01\n",
      "\n",
      "- moving to gamma : 0.069893336446\n",
      "- performing 10 MCMC steps per particle\n",
      "- logZ -2.761e-01\n",
      "\n",
      "- moving to gamma : 0.0780354503375\n",
      "- performing 10 MCMC steps per particle\n",
      "- logZ -2.305e-01\n",
      "\n",
      "- moving to gamma : 0.0859873157583\n",
      "- performing 10 MCMC steps per particle\n",
      "- logZ -2.147e-01\n",
      "\n",
      "- moving to gamma : 0.0931884968363\n",
      "- performing 10 MCMC steps per particle\n",
      "- logZ -1.840e-01\n",
      "\n",
      "- moving to gamma : 0.108432824821\n",
      "- performing 10 MCMC steps per particle\n",
      "- logZ -3.484e-01\n",
      "\n",
      "- moving to gamma : 0.12028172684\n",
      "- performing 10 MCMC steps per particle\n",
      "- logZ -2.178e-01\n",
      "\n",
      "- moving to gamma : 0.131357159257\n",
      "- performing 10 MCMC steps per particle\n",
      "- logZ -1.878e-01\n",
      "\n",
      "- moving to gamma : 0.142160068356\n",
      "- performing 10 MCMC steps per particle\n",
      "- logZ -1.797e-01\n",
      "\n",
      "- moving to gamma : 0.155553812222\n",
      "- performing 10 MCMC steps per particle\n",
      "- logZ -1.807e-01\n",
      "\n",
      "- moving to gamma : 0.168521679995\n",
      "- performing 10 MCMC steps per particle\n",
      "- logZ -1.518e-01\n",
      "\n",
      "- moving to gamma : 0.185068215702\n",
      "- performing 10 MCMC steps per particle\n",
      "- logZ -1.373e-01\n",
      "\n",
      "- moving to gamma : 0.199392085917\n",
      "- performing 10 MCMC steps per particle\n",
      "- logZ -8.739e-02\n",
      "\n",
      "- moving to gamma : 0.22349727535\n",
      "- performing 10 MCMC steps per particle\n",
      "- logZ -9.538e-02\n",
      "\n",
      "- moving to gamma : 0.236106416789\n",
      "- performing 10 MCMC steps per particle\n",
      "- logZ -1.484e-02\n",
      "\n",
      "- moving to gamma : 0.247912090074\n",
      "- performing 10 MCMC steps per particle\n",
      "- logZ 6.782e-03\n",
      "\n",
      "- moving to gamma : 0.258216907924\n",
      "- performing 10 MCMC steps per particle\n",
      "- logZ 2.378e-02\n",
      "\n",
      "- moving to gamma : 0.268736804505\n",
      "- performing 10 MCMC steps per particle\n",
      "- logZ 5.960e-02\n",
      "\n",
      "- moving to gamma : 0.27687692884\n",
      "- performing 10 MCMC steps per particle\n",
      "- logZ 5.744e-02\n",
      "\n",
      "- moving to gamma : 0.285686638608\n",
      "- performing 10 MCMC steps per particle\n",
      "- logZ 7.254e-02\n",
      "\n",
      "- moving to gamma : 0.294116663296\n",
      "- performing 10 MCMC steps per particle\n",
      "- logZ 6.159e-02\n",
      "\n",
      "- moving to gamma : 0.316648686759\n",
      "- performing 10 MCMC steps per particle\n",
      "- logZ 2.197e-01\n",
      "\n",
      "- moving to gamma : 0.330659191433\n",
      "- performing 10 MCMC steps per particle\n",
      "- logZ 1.522e-01\n",
      "\n",
      "- moving to gamma : 0.341478741747\n",
      "- performing 10 MCMC steps per particle\n",
      "- logZ 1.299e-01\n",
      "\n",
      "- moving to gamma : 0.353908560624\n",
      "- performing 10 MCMC steps per particle\n",
      "- logZ 1.594e-01\n",
      "\n",
      "- moving to gamma : 0.36619345246\n",
      "- performing 10 MCMC steps per particle\n",
      "- logZ 1.738e-01\n",
      "\n",
      "- moving to gamma : 0.377734323312\n",
      "- performing 10 MCMC steps per particle\n",
      "- logZ 1.846e-01\n",
      "\n",
      "- moving to gamma : 0.389213440415\n",
      "- performing 10 MCMC steps per particle\n",
      "- logZ 1.885e-01\n",
      "\n",
      "- moving to gamma : 0.401586924562\n",
      "- performing 10 MCMC steps per particle\n",
      "- logZ 2.197e-01\n",
      "\n",
      "- moving to gamma : 0.430534882734\n",
      "- performing 10 MCMC steps per particle\n",
      "- logZ 5.516e-01\n",
      "\n",
      "- moving to gamma : 0.443836536204\n",
      "- performing 10 MCMC steps per particle\n",
      "- logZ 2.876e-01\n",
      "\n",
      "- moving to gamma : 0.456238286933\n",
      "- performing 10 MCMC steps per particle\n",
      "- logZ 2.842e-01\n",
      "\n",
      "- moving to gamma : 0.466962174416\n",
      "- performing 10 MCMC steps per particle\n",
      "- logZ 2.569e-01\n",
      "\n",
      "- moving to gamma : 0.477036138598\n",
      "- performing 10 MCMC steps per particle\n",
      "- logZ 2.361e-01\n",
      "\n",
      "- moving to gamma : 0.48654831893\n",
      "- performing 10 MCMC steps per particle\n",
      "- logZ 2.302e-01\n",
      "\n",
      "- moving to gamma : 0.497134895318\n",
      "- performing 10 MCMC steps per particle\n",
      "- logZ 2.654e-01\n",
      "\n",
      "- moving to gamma : 0.503868092471\n",
      "- performing 10 MCMC steps per particle\n",
      "- logZ 1.764e-01\n",
      "\n",
      "- moving to gamma : 0.529875978735\n",
      "- performing 10 MCMC steps per particle\n",
      "- logZ 6.916e-01\n",
      "\n",
      "- moving to gamma : 0.542722967635\n",
      "- performing 10 MCMC steps per particle\n",
      "- logZ 3.729e-01\n",
      "\n",
      "- moving to gamma : 0.552189765732\n",
      "- performing 10 MCMC steps per particle\n",
      "- logZ 2.796e-01\n",
      "\n",
      "- moving to gamma : 0.563248010625\n",
      "- performing 10 MCMC steps per particle\n",
      "- logZ 3.377e-01\n",
      "\n",
      "- moving to gamma : 0.574732180187\n",
      "- performing 10 MCMC steps per particle\n",
      "- logZ 3.572e-01\n",
      "\n",
      "- moving to gamma : 0.58443461307\n",
      "- performing 10 MCMC steps per particle\n",
      "- logZ 3.086e-01\n",
      "\n",
      "- moving to gamma : 0.599680837093\n",
      "- performing 10 MCMC steps per particle\n",
      "- logZ 4.768e-01\n",
      "\n",
      "- moving to gamma : 0.616891666858\n",
      "- performing 10 MCMC steps per particle\n",
      "- logZ 5.450e-01\n",
      "\n",
      "- moving to gamma : 0.646088931619\n",
      "- performing 10 MCMC steps per particle\n",
      "- logZ 9.558e-01\n",
      "\n",
      "- moving to gamma : 0.661647151683\n",
      "- performing 10 MCMC steps per particle\n",
      "- logZ 5.285e-01\n",
      "\n",
      "- moving to gamma : 0.67476072383\n",
      "- performing 10 MCMC steps per particle\n",
      "- logZ 4.602e-01\n",
      "\n",
      "- moving to gamma : 0.685840555346\n",
      "- performing 10 MCMC steps per particle\n",
      "- logZ 3.942e-01\n",
      "\n",
      "- moving to gamma : 0.696800161381\n",
      "- performing 10 MCMC steps per particle\n",
      "- logZ 3.938e-01\n",
      "\n",
      "- moving to gamma : 0.705619805556\n",
      "- performing 10 MCMC steps per particle\n",
      "- logZ 3.191e-01\n",
      "\n",
      "- moving to gamma : 0.713167429245\n",
      "- performing 10 MCMC steps per particle\n",
      "- logZ 2.770e-01\n",
      "\n",
      "- moving to gamma : 0.724368221276\n",
      "- performing 10 MCMC steps per particle\n",
      "- logZ 4.187e-01\n",
      "\n",
      "- moving to gamma : 0.765547638349\n",
      "- performing 10 MCMC steps per particle\n",
      "- logZ 1.591e+00\n",
      "\n",
      "- moving to gamma : 0.788169802834\n",
      "- performing 10 MCMC steps per particle\n",
      "- logZ 8.770e-01\n",
      "\n",
      "- moving to gamma : 0.809438829655\n",
      "- performing 10 MCMC steps per particle\n",
      "- logZ 8.391e-01\n",
      "\n",
      "- moving to gamma : 0.829898295446\n",
      "- performing 10 MCMC steps per particle\n",
      "- logZ 8.203e-01\n",
      "\n",
      "- moving to gamma : 0.84808724287\n",
      "- performing 10 MCMC steps per particle\n",
      "- logZ 7.471e-01\n",
      "\n",
      "- moving to gamma : 0.865562903712\n",
      "- performing 10 MCMC steps per particle\n",
      "- logZ 7.201e-01\n",
      "\n",
      "- moving to gamma : 0.893942736034\n",
      "- performing 10 MCMC steps per particle\n",
      "- logZ 1.198e+00\n",
      "\n",
      "- moving to gamma : 0.921796689841\n",
      "- performing 10 MCMC steps per particle\n",
      "- logZ 1.199e+00\n",
      "\n",
      "- moving to gamma : 0.964962586078\n",
      "- performing 10 MCMC steps per particle\n",
      "- logZ 1.926e+00\n",
      "\n",
      "- moving to gamma : 0.986051909695\n",
      "- performing 10 MCMC steps per particle\n",
      "- logZ 9.661e-01\n",
      "\n",
      "- moving to gamma : 1.0\n",
      "- performing 10 MCMC steps per particle\n",
      "- logZ 6.521e-01\n",
      "\n",
      "- total number of MCMC steps: 75000\n",
      "---------------\n",
      "END SMC MOVE TO\n",
      "---------------\n"
     ]
    },
    {
     "data": {
      "image/png": "[encoded data removed]",
      "text/plain": [
       "<matplotlib.figure.Figure at 0x12294e150>"
      ]
     },
     "metadata": {},
     "output_type": "display_data"
    },
    {
     "data": {
      "image/png": "[encoded data removed]",
      "text/plain": [
       "<matplotlib.figure.Figure at 0x1219fb710>"
      ]
     },
     "metadata": {},
     "output_type": "display_data"
    },
    {
     "data": {
      "image/png": "[encoded data removed]",
      "text/plain": [
       "<matplotlib.figure.Figure at 0x122545790>"
      ]
     },
     "metadata": {},
     "output_type": "display_data"
    },
    {
     "data": {
      "image/png": "[encoded data removed]",
      "text/plain": [
       "<matplotlib.figure.Figure at 0x1227aa810>"
      ]
     },
     "metadata": {},
     "output_type": "display_data"
    }
   ],
   "source": [
    "phi = PolynomialBasis(3)\n",
    "smc = fit_poly(phi, X, y, num_particles=100, verbose=1)\n",
    "plot_posteriors(smc)\n",
    "plot_predictive(phi, smc)"
   ]
  },
  {
   "cell_type": "markdown",
   "metadata": {},
   "source": [
    "Now, we can compute and compare the evidence of all  models:"
   ]
  },
  {
   "cell_type": "code",
   "execution_count": 28,
   "metadata": {
    "collapsed": false
   },
   "outputs": [
    {
     "name": "stdout",
     "output_type": "stream",
     "text": [
      "degree 1 gives 8.614e+00\n",
      "degree 2 gives 1.200e+01\n",
      "degree 3 gives 1.652e+01\n",
      "degree 4 gives 1.620e+01\n",
      "degree 5 gives 1.637e+01\n"
     ]
    }
   ],
   "source": [
    "# Evaluate the evidence for the various degrees\n",
    "log_Zs = []\n",
    "for d in [1, 2, 3, 4, 5]:\n",
    "    phi = phi = PolynomialBasis(d)\n",
    "    smc = fit_poly(phi, X, y, num_particles=100)\n",
    "    log_Z = np.sum(smc.log_Zs)\n",
    "    print 'degree {0:1d} gives {1:1.3e}'.format(d, log_Z)\n",
    "    log_Zs.append(log_Z)"
   ]
  },
  {
   "cell_type": "code",
   "execution_count": 29,
   "metadata": {
    "collapsed": false,
    "scrolled": true
   },
   "outputs": [
    {
     "data": {
      "text/plain": [
       "<Container object of 5 artists>"
      ]
     },
     "execution_count": 29,
     "metadata": {},
     "output_type": "execute_result"
    },
    {
     "data": {
      "image/png": "[encoded data removed]",
      "text/plain": [
       "<matplotlib.figure.Figure at 0x11ed28e10>"
      ]
     },
     "metadata": {},
     "output_type": "display_data"
    }
   ],
   "source": [
    "fig, ax = plt.subplots()\n",
    "ax.bar(np.arange(1, len(log_Zs) + 1), np.exp(log_Zs) / np.sum(np.exp(log_Zs)))"
   ]
  },
  {
   "cell_type": "markdown",
   "metadata": {},
   "source": [
    "## Questions\n",
    "+ The model with degree 3 polynomials has the gradest evidence. However, the degree 4 and 5 seem also very plaussible. Is this a problem for the theory of Bayesian model selection? What complicates things here, is that model 3 is included in model 4 which is included in model 5. This requires us to design special priors for the models being right. They have to be consistent in some sense. For example, if model 3 is right then model 4 must be right, etc.\n",
    "\n",
    "+ In the space below, we load the motorcycle data. By copy pasting the code above and by making small modifications, evaluate the model evidence for a 1) Polynomial basis; 2) a Fourier basis; and 3) a Radial basis function basis. Feel free to pick the parameters of these basis functions to be the best we found in [Lecture 9](./lec_09.ipynb)."
   ]
  },
  {
   "cell_type": "code",
   "execution_count": 30,
   "metadata": {
    "collapsed": false
   },
   "outputs": [
    {
     "data": {
      "text/plain": [
       "<matplotlib.text.Text at 0x122843690>"
      ]
     },
     "execution_count": 30,
     "metadata": {},
     "output_type": "execute_result"
    },
    {
     "data": {
      "image/png": "[encoded data removed]",
      "text/plain": [
       "<matplotlib.figure.Figure at 0x12027e3d0>"
      ]
     },
     "metadata": {},
     "output_type": "display_data"
    }
   ],
   "source": [
    "data = np.loadtxt('../data/motor.dat')\n",
    "X = data[:, 0][:, None]\n",
    "Y = data[:, 1]\n",
    "fig, ax = plt.subplots()\n",
    "ax.plot(X, Y, 'x', markeredgewidth=2)\n",
    "ax.set_xlabel('$x$')\n",
    "ax.set_ylabel('$y$')"
   ]
  }
 ],
 "metadata": {
  "kernelspec": {
   "display_name": "Python 2",
   "language": "python",
   "name": "python2"
  },
  "language_info": {
   "codemirror_mode": {
    "name": "ipython",
    "version": 2
   },
   "file_extension": ".py",
   "mimetype": "text/x-python",
   "name": "python",
   "nbconvert_exporter": "python",
   "pygments_lexer": "ipython2",
   "version": "2.7.11"
  },
  "latex_envs": {
   "bibliofile": "biblio.bib",
   "cite_by": "apalike",
   "current_citInitial": 1,
   "eqLabelWithNumbers": true,
   "eqNumInitial": 0
  }
 },
 "nbformat": 4,
 "nbformat_minor": 0
}

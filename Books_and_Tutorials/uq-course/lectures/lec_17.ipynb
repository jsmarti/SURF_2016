{
 "cells": [
  {
   "cell_type": "markdown",
   "metadata": {
    "slideshow": {
     "slide_type": "slide"
    }
   },
   "source": [
    "# Lecture 17 Numerical methods for inverse problems II"
   ]
  },
  {
   "cell_type": "markdown",
   "metadata": {
    "slideshow": {
     "slide_type": "slide"
    }
   },
   "source": [
    "## Objectives\n",
    "\n",
    "+ Objective 1: How to choose the regularization parameters? \n",
    "+ Objective 2: Use surrogate-based forward model for large-scale inverse problems\n",
    "+ Objective 3: Introduction to Bayesian methods for inverse problems"
   ]
  },
  {
   "cell_type": "markdown",
   "metadata": {
    "slideshow": {
     "slide_type": "slide"
    }
   },
   "source": [
    "## Readings\n",
    "\n",
    "+ Numerical Methods for Inverse Problems (Curti R. Vogel)\n",
    "\n",
    "+ Jari Kaipio and Erkki Somersalo, Statistical and Computational Inverse Problems"
       ]
  },
     {
   "cell_type": "markdown",
   "metadata": {
    "slideshow": {
     "slide_type": "slide"
    }
   },
   "source": [
    "Inverse Problem\n",
    "![](figures/si20.png)"
   ]
  },
       {
   "cell_type": "markdown",
   "metadata": {
    "slideshow": {
     "slide_type": "slide"
    }
   },
   "source": [
    "Examples of Inverse Problems: 2D decovolution (image deblurring)\n",
    "![](figures/si21.png)"
   ]
  },
       {
   "cell_type": "markdown",
   "metadata": {
    "slideshow": {
     "slide_type": "slide"
    }
   },
   "source": [
    "Examples of Inverse Problems: 2D decovolution (image deblurring)\n",
    "![](figures/si22.png)"
   ]
  },
       {
   "cell_type": "markdown",
   "metadata": {
    "slideshow": {
     "slide_type": "slide"
    }
   },
   "source": [
    "Stochastic Inverse Problem\n",
    "![](figures/si23.png)"
   ]
  },
       {
   "cell_type": "markdown",
   "metadata": {
    "slideshow": {
     "slide_type": "slide"
    }
   },
   "source": [
    "Stochastic Inverse Problem\n",
    "![](figures/si24.png)"
   ]
  },
       {
   "cell_type": "markdown",
   "metadata": {
    "slideshow": {
     "slide_type": "slide"
    }
   },
   "source": [
    "Stochastic Inverse Problem\n",
    "![](figures/si25.png)"
   ]
  },
    {
   "cell_type": "markdown",
   "metadata": {
    "slideshow": {
     "slide_type": "slide"
    }
   },
   "source": [
    "Stochastic Inverse Problem\n",
    "![](figures/i79.png)"
   ]
  },
      {
   "cell_type": "markdown",
   "metadata": {
    "slideshow": {
     "slide_type": "slide"
    }
   },
   "source": [
    "Stochastic Inverse Problem\n",
    "![](figures/i80.png)"
   ]
  },
        {
   "cell_type": "markdown",
   "metadata": {
    "slideshow": {
     "slide_type": "slide"
    }
   },
   "source": [
    "Stochastic Inverse Problem\n",
    "![](figures/i81.png)"
   ]
  },
        {
   "cell_type": "markdown",
   "metadata": {
    "slideshow": {
     "slide_type": "slide"
    }
   },
   "source": [
    "Stochastic Inverse Problem\n",
    "![](figures/i82.png)"
   ]
  },
        {
   "cell_type": "markdown",
   "metadata": {
    "slideshow": {
     "slide_type": "slide"
    }
   },
   "source": [
    "Stochastic Inverse Problem\n",
    "![](figures/i83.png)"
   ]
  },
         {
   "cell_type": "markdown",
   "metadata": {
    "slideshow": {
     "slide_type": "slide"
    }
   },
   "source": [
    "Stochastic Inverse Problem\n",
    "![](figures/i84.png)"
   ]
  },
         {
   "cell_type": "markdown",
   "metadata": {
    "slideshow": {
     "slide_type": "slide"
    }
   },
   "source": [
    "Stochastic Inverse Problem\n",
    "![](figures/i85.png)"
   ]
  },
         {
   "cell_type": "markdown",
   "metadata": {
    "slideshow": {
     "slide_type": "slide"
    }
   },
   "source": [
    "Stochastic Inverse Problem\n",
    "![](figures/i86.png)"
   ]
  },
         {
   "cell_type": "markdown",
   "metadata": {
    "slideshow": {
     "slide_type": "slide"
    }
   },
   "source": [
    "Stochastic Inverse Problem\n",
    "![](figures/i87.png)"
   ]
  },
         {
   "cell_type": "markdown",
   "metadata": {
    "slideshow": {
     "slide_type": "slide"
    }
   },
   "source": [
    "Stochastic Inverse Problem\n",
    "![](figures/i88.png)"
   ]
  },
         {
   "cell_type": "markdown",
   "metadata": {
    "slideshow": {
     "slide_type": "slide"
    }
   },
   "source": [
    "Stochastic Inverse Problem\n",
    "![](figures/i89.png)"
   ]
  },
         {
   "cell_type": "markdown",
   "metadata": {
    "slideshow": {
     "slide_type": "slide"
    }
   },
   "source": [
    "Stochastic Inverse Problem\n",
    "![](figures/i90.png)"
   ]
  },
           {
   "cell_type": "markdown",
   "metadata": {
    "slideshow": {
     "slide_type": "slide"
    }
   },
   "source": [
    "Stochastic Inverse Problem\n",
    "![](figures/i91.png)"
   ]
  },
           {
   "cell_type": "markdown",
   "metadata": {
    "slideshow": {
     "slide_type": "slide"
    }
   },
   "source": [
    "Stochastic Inverse Problem\n",
    "![](figures/i92.png)"
   ]
  },
           {
   "cell_type": "markdown",
   "metadata": {
    "slideshow": {
     "slide_type": "slide"
    }
   },
   "source": [
    "Stochastic Inverse Problem\n",
    "![](figures/i93.png)"
   ]
  },
           {
   "cell_type": "markdown",
   "metadata": {
    "slideshow": {
     "slide_type": "slide"
    }
   },
   "source": [
    "Stochastic Inverse Problem\n",
    "![](figures/i94.png)"
   ]
  },
           {
   "cell_type": "markdown",
   "metadata": {
    "slideshow": {
     "slide_type": "slide"
    }
   },
   "source": [
    "Stochastic Inverse Problem\n",
    "![](figures/i95.png)"
   ]
  },
           {
   "cell_type": "markdown",
   "metadata": {
    "slideshow": {
     "slide_type": "slide"
    }
   },
   "source": [
    "Stochastic Inverse Problem\n",
    "![](figures/i96.png)"
   ]
  },
           {
   "cell_type": "markdown",
   "metadata": {
    "slideshow": {
     "slide_type": "slide"
    }
   },
   "source": [
    "Stochastic Inverse Problem\n",
    "![](figures/i97.png)"
   ]
  },
           {
   "cell_type": "markdown",
   "metadata": {
    "slideshow": {
     "slide_type": "slide"
    }
   },
   "source": [
    "Stochastic Inverse Problem\n",
    "![](figures/i98.png)"
   ]
  },
           {
   "cell_type": "markdown",
   "metadata": {
    "slideshow": {
     "slide_type": "slide"
    }
   },
   "source": [
    "Stochastic Inverse Problem\n",
    "![](figures/i99.png)"
   ]
  },
           {
   "cell_type": "markdown",
   "metadata": {
    "slideshow": {
     "slide_type": "slide"
    }
   },
   "source": [
    "Stochastic Inverse Problem\n",
    "![](figures/i100.png)"
   ]
  },
           {
   "cell_type": "markdown",
   "metadata": {
    "slideshow": {
     "slide_type": "slide"
    }
   },
   "source": [
    "Stochastic Inverse Problem\n",
    "![](figures/i101.png)"
   ]
  },
           {
   "cell_type": "markdown",
   "metadata": {
    "slideshow": {
     "slide_type": "slide"
    }
   },
   "source": [
    "Stochastic Inverse Problem\n",
    "![](figures/i102.png)"
   ]
  },
           {
   "cell_type": "markdown",
   "metadata": {
    "slideshow": {
     "slide_type": "slide"
    }
   },
   "source": [
    "Stochastic Inverse Problem\n",
    "![](figures/i103.png)"
   ]
  },
           {
   "cell_type": "markdown",
   "metadata": {
    "slideshow": {
     "slide_type": "slide"
    }
   },
   "source": [
    "Stochastic Inverse Problem\n",
    "![](figures/i104.png)"
   ]
  },
           {
   "cell_type": "markdown",
   "metadata": {
    "slideshow": {
     "slide_type": "slide"
    }
   },
   "source": [
    "Stochastic Inverse Problem\n",
    "![](figures/i105.png)"
   ]
  },
           {
   "cell_type": "markdown",
   "metadata": {
    "slideshow": {
     "slide_type": "slide"
    }
   },
   "source": [
    "Stochastic Inverse Problem\n",
    "![](figures/i106.png)"
   ]
  },
           {
   "cell_type": "markdown",
   "metadata": {
    "slideshow": {
     "slide_type": "slide"
    }
   },
   "source": [
    "Stochastic Inverse Problem\n",
    "![](figures/i107.png)"
   ]
  },
           {
   "cell_type": "markdown",
   "metadata": {
    "slideshow": {
     "slide_type": "slide"
    }
   },
   "source": [
    "Stochastic Inverse Problem\n",
    "![](figures/i108.png)"
   ]
  },
  {
   "cell_type": "markdown",
   "metadata": {
    "slideshow": {
     "slide_type": "slide"
    }
   },
   "source": [
    "+ The computational cost of large-scale inverse problems is prohibitive due to repeative expensive forward model runs\n",
    "\n",
    "+ \"Everything should be made as simple as possible, but not simpler\", Albert Einstein\n",
    "\n",
    "+ Building an accurate and efficient surrogate model can greatly reduce the computational burdern in large-scale inverse problem "
   ]
  },
  {
   "cell_type": "markdown",
   "metadata": {
    "slideshow": {
     "slide_type": "slide"
    }
   },
   "source": [
    "# Surrogate Models\n",
    "+ Regression (e.g. Gaussian Process) or Interpolation-based Models (e.g., radial basis functions) \n",
    "+ Projection-based Models\n",
    "+ Eigenfunction or Modal Expansions\n",
    "+ Snapshot-based Methods including POD\n",
    "+ ANOVA Techniques"
   ]
  },
  {
   "cell_type": "markdown",
   "metadata": {
    "slideshow": {
     "slide_type": "slide"
    }
   },
   "source": [
    "Stochastic Inverse Problem\n",
    "![](figures/si1.png)"
   ]
  },
  {
   "cell_type": "markdown",
   "metadata": {
    "slideshow": {
     "slide_type": "slide"
    }
   },
   "source": [
    "Bayesian Inference for Stochastic Inverse Problem\n",
    "![](figures/si2.png)"
   ]
  },
  {
   "cell_type": "markdown",
   "metadata": {
    "slideshow": {
     "slide_type": "slide"
    }
   },
   "source": [
    "Surrogate-based Bayesian Inference \n",
    "![](figures/si3.png)"
   ]
  },
  {
   "cell_type": "markdown",
   "metadata": {
    "slideshow": {
     "slide_type": "slide"
    }
   },
   "source": [
    "gPC Surrogate-based Bayesian Inversion - Convergence Analysis\n",
    "![](figures/si4.png)"
   ]
  },
  {
   "cell_type": "markdown",
   "metadata": {
    "slideshow": {
     "slide_type": "slide"
    }
   },
   "source": [
    "Inverse Problem: Supersensitivity in Burgers Equation\n",
    "![](figures/si5.png)"
   ]
  },
  {
   "cell_type": "markdown",
   "metadata": {
    "slideshow": {
     "slide_type": "slide"
    }
   },
   "source": [
    "![](figures/si6.png)"
   ]
  },
  {
   "cell_type": "markdown",
   "metadata": {
    "slideshow": {
     "slide_type": "slide"
    }
   },
   "source": [
    "Inverse Problem: Step Function\n",
    "![](figures/si7.png)"
   ]
  },
  {
   "cell_type": "markdown",
   "metadata": {
    "slideshow": {
     "slide_type": "slide"
    }
   },
   "source": [
    "![](figures/si8.png)"
   ]
  },
  {
   "cell_type": "markdown",
   "metadata": {
    "slideshow": {
     "slide_type": "slide"
    }
   },
   "source": [
    "Inverse Problem: Biological Application\n",
    "![](figures/si9.png)"
   ]
  },
  {
   "cell_type": "markdown",
   "metadata": {
    "slideshow": {
     "slide_type": "slide"
    }
   },
   "source": [
    "Marginal Posterior Densities\n",
    "![](figures/si10.png)"
   ]
  },
    {
   "cell_type": "markdown",
   "metadata": {
    "slideshow": {
     "slide_type": "slide"
    }
   },
   "source": [
    "Bayesian Inversion\n",
    "![](figures/si26.png)"
   ]
  },
      {
   "cell_type": "markdown",
   "metadata": {
    "slideshow": {
     "slide_type": "slide"
    }
   },
   "source": [
    "Bayesian Inversion\n",
    "![](figures/si27.png)"
   ]
  },
      {
   "cell_type": "markdown",
   "metadata": {
    "slideshow": {
     "slide_type": "slide"
    }
   },
   "source": [
    "Typical summary estimates\n",
    "![](figures/si28.png)"
   ]
  },
      {
   "cell_type": "markdown",
   "metadata": {
    "slideshow": {
     "slide_type": "slide"
    }
   },
   "source": [
    "Bayesian Inversion\n",
    "![](figures/si29.png)"
   ]
  },
      {
   "cell_type": "markdown",
   "metadata": {
    "slideshow": {
     "slide_type": "slide"
    }
   },
   "source": [
    "Bayesian Inversion\n",
    "![](figures/si30.png)"
   ]
  },
      {
   "cell_type": "markdown",
   "metadata": {
    "slideshow": {
     "slide_type": "slide"
    }
   },
   "source": [
    "Bayesian Inversion\n",
    "![](figures/si31.png)"
   ]
  },
      {
   "cell_type": "markdown",
   "metadata": {
    "slideshow": {
     "slide_type": "slide"
    }
   },
   "source": [
    "Examples of likelihood models\n",
    "![](figures/si32.png)"
   ]
  },
      {
   "cell_type": "markdown",
   "metadata": {
    "slideshow": {
     "slide_type": "slide"
    }
   },
   "source": [
    "Examples of likelihood models\n",
    "![](figures/si33.png)"
   ]
  },
      {
   "cell_type": "markdown",
   "metadata": {
    "slideshow": {
     "slide_type": "slide"
    }
   },
   "source": [
    "Examples of prior models: Positivity prior\n",
    "![](figures/si34.png)"
   ]
  },
      {
   "cell_type": "markdown",
   "metadata": {
    "slideshow": {
     "slide_type": "slide"
    }
   },
   "source": [
    "Examples of prior models: Generic (qualitative) models\n",
    "![](figures/si35.png)"
   ]
  },
      {
   "cell_type": "markdown",
   "metadata": {
    "slideshow": {
     "slide_type": "slide"
    }
   },
   "source": [
    "Bayesian Inversion\n",
    "![](figures/si36.png)"
   ]
  },
      {
   "cell_type": "markdown",
   "metadata": {
    "slideshow": {
     "slide_type": "slide"
    }
   },
   "source": [
    "Bayesian Inversion\n",
    "![](figures/si37.png)"
   ]
  },
      {
   "cell_type": "markdown",
   "metadata": {
    "slideshow": {
     "slide_type": "slide"
    }
   },
   "source": [
    "Bayesian Inversion\n",
    "![](figures/si38.png)"
   ]
  },
      {
   "cell_type": "markdown",
   "metadata": {
    "slideshow": {
     "slide_type": "slide"
    }
   },
   "source": [
    "Bayesian Inversion\n",
    "![](figures/si39.png)"
   ]
  },
      {
   "cell_type": "markdown",
   "metadata": {
    "slideshow": {
     "slide_type": "slide"
    }
   },
   "source": [
    "Bayesian Inversion\n",
    "![](figures/si40.png)"
   ]
  },
      {
   "cell_type": "markdown",
   "metadata": {
    "slideshow": {
     "slide_type": "slide"
    }
   },
   "source": [
    "Bayesian Inversion\n",
    "![](figures/si41.png)"
   ]
  },
      {
   "cell_type": "markdown",
   "metadata": {
    "slideshow": {
     "slide_type": "slide"
    }
   },
   "source": [
    "Bayesian Inversion\n",
    "![](figures/si42.png)"
   ]
  },
      {
   "cell_type": "markdown",
   "metadata": {
    "slideshow": {
     "slide_type": "slide"
    }
   },
   "source": [
    "Bayesian Inversion\n",
    "![](figures/si43.png)"
   ]
  },
      {
   "cell_type": "markdown",
   "metadata": {
    "slideshow": {
     "slide_type": "slide"
    }
   },
   "source": [
    "Visualization of priors\n",
    "![](figures/si44.png)"
   ]
  },
      {
   "cell_type": "markdown",
   "metadata": {
    "slideshow": {
     "slide_type": "slide"
    }
   },
   "source": [
    "Bayesian Inversion\n",
    "![](figures/si45.png)"
   ]
  },
      {
   "cell_type": "markdown",
   "metadata": {
    "slideshow": {
     "slide_type": "slide"
    }
   },
   "source": [
    "Bayesian Inversion\n",
    "![](figures/si46.png)"
   ]
  },
      {
   "cell_type": "markdown",
   "metadata": {
    "slideshow": {
     "slide_type": "slide"
    }
   },
   "source": [
    "Computation of the estimates\n",
    "![](figures/si47.png)"
   ]
  },
      {
   "cell_type": "markdown",
   "metadata": {
    "slideshow": {
     "slide_type": "slide"
    }
   },
   "source": [
    "Example\n",
    "![](figures/si48.png)"
   ]
  },
      {
   "cell_type": "markdown",
   "metadata": {
    "slideshow": {
     "slide_type": "slide"
    }
   },
   "source": [
    "About solving the Gaussian problem\n",
    "![](figures/si49.png)"
   ]
  },
      {
   "cell_type": "markdown",
   "metadata": {
    "slideshow": {
     "slide_type": "slide"
    }
   },
   "source": [
    "Computation of the estimates: MAP\n",
    "![](figures/si50.png)"
   ]
  },
      {
   "cell_type": "markdown",
   "metadata": {
    "slideshow": {
     "slide_type": "slide"
    }
   },
   "source": [
    "Computation of the estimates: Integration based estimates\n",
    "![](figures/si51.png)"
   ]
  },
      {
   "cell_type": "markdown",
   "metadata": {
    "slideshow": {
     "slide_type": "slide"
    }
   },
   "source": [
    "Computation of the estimates: Monte Carlo integration\n",
    "![](figures/si52.png)"
   ]
  },
      {
   "cell_type": "markdown",
   "metadata": {
    "slideshow": {
     "slide_type": "slide"
    }
   },
   "source": [
    "Computation of the estimates: MCMC\n",
    "![](figures/si53.png)",
    "We will cover it in next several lectures"
   ]
  },
  {
   "cell_type": "code",
   "execution_count": null,
   "metadata": {
    "collapsed": true
   },
   "outputs": [],
   "source": []
  }
 ],
 "metadata": {
  "celltoolbar": "Slideshow",
  "kernelspec": {
   "display_name": "Python 2",
   "language": "python",
   "name": "python2"
  },
  "language_info": {
   "codemirror_mode": {
    "name": "ipython",
    "version": 2
   },
   "file_extension": ".py",
   "mimetype": "text/x-python",
   "name": "python",
   "nbconvert_exporter": "python",
   "pygments_lexer": "ipython2",
   "version": "2.7.11"
  },
  "latex_envs": {
   "bibliofile": "biblio.bib",
   "cite_by": "apalike",
   "current_citInitial": 1,
   "eqLabelWithNumbers": true,
   "eqNumInitial": 0
  }
 },
 "nbformat": 4,
 "nbformat_minor": 0
}

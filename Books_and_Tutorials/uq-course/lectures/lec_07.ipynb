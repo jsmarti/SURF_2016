{
 "cells": [
  {
   "cell_type": "markdown",
   "metadata": {},
   "source": [
    "# Lecture 7 - Uncertainty Propagation using Polynomial Chaos II"
   ]
  },
  {
   "cell_type": "markdown",
   "metadata": {},
   "source": [
    "## Objectives\n",
    "\n",
    "+ Objective 1: Learn about the stochastic collocation method \n",
    "+ Efficient mehtods for high-d integration \n",
    "+ Objective 2: Extensions, challenges, and open questions of polynomial chaos\n"
   ]
  },
  {
   "cell_type": "markdown",
   "metadata": {
    "slideshow": {
     "slide_type": "-"
    }
   },
   "source": [
    "## Readings\n",
    "\n",
    "+ Numerical Methods for Stochastic Computations: A Spectral Method Approach (Dongbin Xiu, 2010)\n",
    "\n",
    "+ Uncertainty Quantification: Theory, Implementation, and Applications (Ralph C. Smith, 2014) \n"
   ]
  },
  {
   "cell_type": "markdown",
   "metadata": {
    "slideshow": {
     "slide_type": "slide"
    }
   },
   "source": [
    "## A brief reminder\n",
    "\n",
    "![](figures/collocation1.png)\n"
   ]
  },
  {
   "cell_type": "markdown",
   "metadata": {
    "slideshow": {
     "slide_type": "slide"
    }
   },
   "source": [
    "## Fields and KL expansions\n",
    "\n",
    "![](figures/kl1.png)\n"
   ]
  },
  {
   "cell_type": "markdown",
   "metadata": {
    "slideshow": {
     "slide_type": "slide"
    }
   },
   "source": [
    "## Fields and KL expansions\n",
    "\n",
    "![](figures/kl2.png)\n"
   ]
  },
  {
   "cell_type": "markdown",
   "metadata": {
    "slideshow": {
     "slide_type": "slide"
    }
   },
   "source": [
    "## Fields and KL expansions\n",
    "\n",
    "![](figures/kl3.png)\n"
   ]
  },
  {
   "cell_type": "markdown",
   "metadata": {
    "slideshow": {
     "slide_type": "slide"
    }
   },
   "source": [
    "## Fields and KL expansions\n",
    "\n",
    "![](figures/kl4.png)\n"
   ]
  },
  {
   "cell_type": "markdown",
   "metadata": {
    "slideshow": {
     "slide_type": "slide"
    }
   },
   "source": [
    "## Fields and KL expansions\n",
    "\n",
    "![](figures/kl5.png)\n"
   ]
  },
  {
   "cell_type": "markdown",
   "metadata": {
    "slideshow": {
     "slide_type": "slide"
    }
   },
   "source": [
    "## Fields and KL expansions\n",
    "\n",
    "![](figures/kl6.png)\n"
   ]
  },
  {
   "cell_type": "markdown",
   "metadata": {
    "slideshow": {
     "slide_type": "slide"
    }
   },
   "source": [
    "## Stochastic collocation method\n",
    "\n",
    "![](figures/collocation2.png)\n"
   ]
  },
  {
   "cell_type": "markdown",
   "metadata": {
    "slideshow": {
     "slide_type": "slide"
    }
   },
   "source": [
    "## Stochastic collocation method\n",
    "\n",
    "![](figures/collocation3.png)\n"
   ]
  },
  {
   "cell_type": "markdown",
   "metadata": {
    "slideshow": {
     "slide_type": "slide"
    }
   },
   "source": [
    "## Stochastic collocation method\n",
    "\n",
    "![](figures/collocation4.png)\n"
   ]
  },
  {
   "cell_type": "markdown",
   "metadata": {
    "slideshow": {
     "slide_type": "slide"
    }
   },
   "source": [
    "## Stochastic collocation method\n",
    "\n",
    "![](figures/collocation5.png)\n"
   ]
  },
  {
   "cell_type": "markdown",
   "metadata": {
    "slideshow": {
     "slide_type": "slide"
    }
   },
   "source": [
    "## Stochastic collocation method\n",
    "\n",
    "![](figures/collocation6.png)\n"
   ]
  },
  {
   "cell_type": "markdown",
   "metadata": {
    "slideshow": {
     "slide_type": "slide"
    }
   },
   "source": [
    "## Stochastic collocation method\n",
    "\n",
    "![](figures/collocation7.png)\n"
   ]
  },
  {
   "cell_type": "markdown",
   "metadata": {
    "slideshow": {
     "slide_type": "slide"
    }
   },
   "source": [
    "## Stochastic collocation method\n",
    "\n",
    "![](figures/collocation8.png)\n"
   ]
  },
  {
   "cell_type": "markdown",
   "metadata": {
    "slideshow": {
     "slide_type": "slide"
    }
   },
   "source": [
    "## Case Studies: Solving Stochastic ODEs using the Collocation Approach\n",
    "It is easy to show that the coefficients of $y(t;\\xi)$ expanded in the basis of $\\phi_i(\\xi)$,\n",
    "$$\n",
    "y(t;\\xi) = \\sum_{k=1}^{d_y}y_k(t)\\phi_k(\\xi),\n",
    "$$\n",
    "are given by:\n",
    "$$\n",
    "y_k(t) = \\langle y\\phi_k\\rangle = \\int y(t;\\xi)\\phi_k(\\xi)p(\\xi)d\\xi.$$\n"
   ]
  },
  {
   "cell_type": "markdown",
   "metadata": {
    "slideshow": {
     "slide_type": "slide"
    }
   },
   "source": [
    "Therefore, if we could evaluate the solution of the ODE for any given $\\xi$ we could compute them by simply approximating the RHS integral via a quadrature rule.\n",
    "In particular, we have:\n",
    "$$\n",
    "y_k(t) \\approx \\sum_{n=1}^N w^{(n)} y(t;\\xi^{(n)})\\phi_k(\\xi^{(n)}).\n",
    "$$\n",
    "Let's do this an compare the results to the ones we obtained with the Galarkin approach."
   ]
  },
  {
   "cell_type": "code",
   "execution_count": 140,
   "metadata": {
    "collapsed": true,
    "slideshow": {
     "slide_type": "slide"
    }
   },
   "outputs": [],
   "source": [
    "# We are going to use the quadrature points in quad (quad.w, quad.x)\n",
    "# Here, we will store the coefficients of the expansion at each timestep:\n",
    "y_col = np.zeros(y.shape) # y is the matrix in which we stored the Galerkin solution.\n",
    "# Matrix containing the value of the polynomials on the quadrature points\n",
    "Phi = phi(quad.x)\n",
    "# Loop over all the quadrature points\n",
    "for n in xrange(quad.x.shape[0]):\n",
    "    # Solve the problem at this quadrature point\n",
    "    k = 0.1 + 0.01 * quad.x[n]\n",
    "    y_sample = scipy.integrate.odeint(rhs_deter, [1.], t, args=(k,)).flatten()\n",
    "    # Update y_col\n",
    "    y_col += quad.w[n] * np.einsum('t,k->tk', y_sample, Phi[n, :])\n",
    "# Now, this is the mean predicted by collocation:\n",
    "y_col_m = y_col[:, 0]\n",
    "# Variance\n",
    "y_col_v = np.sum(y_col[:, 1:] ** 2., axis=1)"
   ]
  },
  {
   "cell_type": "code",
   "execution_count": 145,
   "metadata": {
    "collapsed": false,
    "slideshow": {
     "slide_type": "slide"
    }
   },
   "outputs": [
    {
     "data": {
      "text/plain": [
       "<matplotlib.text.Text at 0x11ae4d0d0>"
      ]
     },
     "execution_count": 145,
     "metadata": {},
     "output_type": "execute_result"
    },
    {
     "data": {
      "image/png": "[encoded data removed]",
      "text/plain": [
       "<matplotlib.figure.Figure at 0x119fc3210>"
      ]
     },
     "metadata": {},
     "output_type": "display_data"
    }
   ],
   "source": [
    "# Comparing the means:\n",
    "plt.plot(t, y_m, label='PC (Galerkin) mean')\n",
    "plt.plot(t, y_mc_m, '--', label='MC mean')\n",
    "plt.plot(t, y_col_m, '-.', label='PC (Collocation) mean')\n",
    "plt.legend()\n",
    "plt.xlabel('$t$')\n",
    "plt.ylabel(r'$\\mathbb{E}_{\\xi}[y(t;\\xi)]$')"
   ]
  },
  {
   "cell_type": "code",
   "execution_count": 144,
   "metadata": {
    "collapsed": false,
    "slideshow": {
     "slide_type": "slide"
    }
   },
   "outputs": [
    {
     "data": {
      "text/plain": [
       "<matplotlib.text.Text at 0x11a1d6910>"
      ]
     },
     "execution_count": 144,
     "metadata": {},
     "output_type": "execute_result"
    },
    {
     "data": {
      "image/png": "[encoded data removed]",
      "text/plain": [
       "<matplotlib.figure.Figure at 0x11af89450>"
      ]
     },
     "metadata": {},
     "output_type": "display_data"
    }
   ],
   "source": [
    "# Comparing the variances:\n",
    "plt.plot(t, y_v, label='PC (Galerkin) var.')\n",
    "plt.plot(t, y_mc_v, '--', label='MC var.')\n",
    "plt.plot(t, y_col_v, '-.', label='PC (Collocation) var.')\n",
    "plt.legend()\n",
    "plt.xlabel('$t$')\n",
    "plt.ylabel(r'$\\mathbb{V}_{\\xi}[y(t;\\xi)]$')"
   ]
  },
  {
   "cell_type": "markdown",
   "metadata": {
    "slideshow": {
     "slide_type": "slide"
    }
   },
   "source": [
    "## Stochastic collocation method\n",
    "\n",
    "![](figures/collocation9.png)\n"
   ]
  },
  {
   "cell_type": "markdown",
   "metadata": {
    "slideshow": {
     "slide_type": "slide"
    }
   },
   "source": [
    "## Stochastic collocation method\n",
    "\n",
    "![](figures/collocation10.png)\n"
   ]
  },
  {
   "cell_type": "markdown",
   "metadata": {
    "slideshow": {
     "slide_type": "slide"
    }
   },
   "source": [
    "## Stochastic collocation method\n",
    "\n",
    "![](figures/collocation11.png)\n"
   ]
  },
  {
   "cell_type": "markdown",
   "metadata": {
    "slideshow": {
     "slide_type": "slide"
    }
   },
   "source": [
    "## Stochastic collocation method\n",
    "\n",
    "![](figures/collocation12.png)\n"
   ]
  },
  {
   "cell_type": "markdown",
   "metadata": {
    "slideshow": {
     "slide_type": "slide"
    }
   },
   "source": [
    "## Stochastic collocation method\n",
    "\n",
    "![](figures/collocation13.png)\n"
   ]
  },
  {
   "cell_type": "markdown",
   "metadata": {
    "slideshow": {
     "slide_type": "slide"
    }
   },
   "source": [
    "## Stochastic collocation method\n",
    "\n",
    "![](figures/collocation14.png)\n"
   ]
  },
  {
   "cell_type": "markdown",
   "metadata": {
    "slideshow": {
     "slide_type": "slide"
    }
   },
   "source": [
    "## Stochastic collocation method\n",
    "\n",
    "![](figures/collocation15.png)\n"
   ]
  },
  {
   "cell_type": "markdown",
   "metadata": {
    "slideshow": {
     "slide_type": "slide"
    }
   },
   "source": [
    "## Stochastic collocation method\n",
    "\n",
    "![](figures/collocation16.png)\n"
   ]
  },
  {
   "cell_type": "markdown",
   "metadata": {
    "slideshow": {
     "slide_type": "slide"
    }
   },
   "source": [
    "## Stochastic collocation method\n",
    "\n",
    "![](figures/collocation17.png)\n"
   ]
  },
  {
   "cell_type": "markdown",
   "metadata": {
    "slideshow": {
     "slide_type": "slide"
    }
   },
   "source": [
    "## Stochastic collocation method\n",
    "\n",
    "![](figures/collocation18.png)\n"
   ]
  },
  {
   "cell_type": "markdown",
   "metadata": {
    "slideshow": {
     "slide_type": "slide"
    }
   },
   "source": [
    "## Stochastic collocation method\n",
    "\n",
    "![](figures/collocation19.png)\n"
   ]
  },
  {
   "cell_type": "markdown",
   "metadata": {
    "slideshow": {
     "slide_type": "slide"
    }
   },
   "source": [
    "## Stochastic collocation method\n",
    "\n",
    "![](figures/collocation20.png)\n"
   ]
  },
  {
   "cell_type": "markdown",
   "metadata": {
    "slideshow": {
     "slide_type": "slide"
    }
   },
   "source": [
    "## Stochastic collocation method\n",
    "\n",
    "![](figures/collocation21.png)\n"
   ]
  },
  {
   "cell_type": "markdown",
   "metadata": {
    "slideshow": {
     "slide_type": "slide"
    }
   },
   "source": [
    "## Stochastic collocation method\n",
    "\n",
    "![](figures/collocation22.png)\n"
   ]
  },
  {
   "cell_type": "markdown",
   "metadata": {
    "slideshow": {
     "slide_type": "slide"
    }
   },
   "source": [
    "## Stochastic collocation method\n",
    "\n",
    "![](figures/collocation23.png)\n"
   ]
  },
  {
   "cell_type": "markdown",
   "metadata": {
    "slideshow": {
     "slide_type": "slide"
    }
   },
   "source": [
    "## Stochastic collocation method\n",
    "\n",
    "![](figures/collocation24.png)\n"
   ]
  },
  {
   "cell_type": "markdown",
   "metadata": {
    "slideshow": {
     "slide_type": "slide"
    }
   },
   "source": [
    "## Stochastic collocation method\n",
    "\n",
    "![](figures/collocation25.png)\n"
   ]
  },
  {
   "cell_type": "markdown",
   "metadata": {
    "slideshow": {
     "slide_type": "slide"
    }
   },
   "source": [
    "## Stochastic collocation method\n",
    "\n",
    "![](figures/collocation26.png)\n"
   ]
  },
  {
   "cell_type": "markdown",
   "metadata": {
    "slideshow": {
     "slide_type": "slide"
    }
   },
   "source": [
    "## Lecture outline\n",
    "\n",
    "![](figures/hd1.png)\n"
   ]
  },
  {
   "cell_type": "markdown",
   "metadata": {
    "slideshow": {
     "slide_type": "slide"
    }
   },
   "source": [
    "## A brief overview\n",
    "\n",
    "![](figures/hd2.png)\n"
   ]
  },
  {
   "cell_type": "markdown",
   "metadata": {
    "slideshow": {
     "slide_type": "slide"
    }
   },
   "source": [
    "## A brief overview\n",
    "\n",
    "![](figures/hd3.png)\n"
   ]
  },
  {
   "cell_type": "markdown",
   "metadata": {
    "slideshow": {
     "slide_type": "slide"
    }
   },
   "source": [
    "## Uncertain geometries\n",
    "\n",
    "![](figures/hd4.png)\n"
   ]
  },
  {
   "cell_type": "markdown",
   "metadata": {
    "slideshow": {
     "slide_type": "slide"
    }
   },
   "source": [
    "## Uncertain geometries\n",
    "\n",
    "![](figures/hd5.png)\n"
   ]
  },
  {
   "cell_type": "markdown",
   "metadata": {
    "slideshow": {
     "slide_type": "slide"
    }
   },
   "source": [
    "## Uncertain geometries\n",
    "\n",
    "![](figures/hd6.png)\n"
   ]
  },
  {
   "cell_type": "markdown",
   "metadata": {
    "slideshow": {
     "slide_type": "slide"
    }
   },
   "source": [
    "## Uncertain geometries\n",
    "\n",
    "![](figures/hd7.png)\n"
   ]
  },
  {
   "cell_type": "markdown",
   "metadata": {
    "slideshow": {
     "slide_type": "slide"
    }
   },
   "source": [
    "## Uncertain geometries\n",
    "\n",
    "![](figures/hd8.png)\n"
   ]
  },
  {
   "cell_type": "markdown",
   "metadata": {
    "slideshow": {
     "slide_type": "slide"
    }
   },
   "source": [
    "## Uncertain geometries summary\n",
    "\n",
    "![](figures/hd9.png)\n"
   ]
  },
  {
   "cell_type": "markdown",
   "metadata": {
    "slideshow": {
     "slide_type": "slide"
    }
   },
   "source": [
    "## ANOVA Expansions\n",
    "\n",
    "![](figures/a1.png)\n"
   ]
  },
  {
   "cell_type": "markdown",
   "metadata": {
    "slideshow": {
     "slide_type": "slide"
    }
   },
   "source": [
    "## ANOVA Expansions\n",
    "\n",
    "![](figures/a2.png)\n"
   ]
  },
  {
   "cell_type": "markdown",
   "metadata": {
    "slideshow": {
     "slide_type": "slide"
    }
   },
   "source": [
    "## ANOVA Expansions\n",
    "\n",
    "![](figures/a3.png)\n"
   ]
  },
  {
   "cell_type": "markdown",
   "metadata": {
    "slideshow": {
     "slide_type": "slide"
    }
   },
   "source": [
    "## ANOVA Expansions\n",
    "\n",
    "![](figures/a4.png)\n"
   ]
  },
  {
   "cell_type": "markdown",
   "metadata": {
    "slideshow": {
     "slide_type": "slide"
    }
   },
   "source": [
    "## ANOVA Expansions\n",
    "\n",
    "![](figures/a5.png)\n"
   ]
  },
  {
   "cell_type": "markdown",
   "metadata": {
    "slideshow": {
     "slide_type": "slide"
    }
   },
   "source": [
    "## ANOVA Expansions\n",
    "\n",
    "![](figures/a6.png)\n"
   ]
  },
  {
   "cell_type": "markdown",
   "metadata": {
    "slideshow": {
     "slide_type": "slide"
    }
   },
   "source": [
    "## ANOVA Expansions\n",
    "\n",
    "![](figures/a7.png)\n"
   ]
  },
  {
   "cell_type": "markdown",
   "metadata": {
    "slideshow": {
     "slide_type": "slide"
    }
   },
   "source": [
    "## ANOVA Expansions\n",
    "\n",
    "![](figures/a8.png)\n"
   ]
  },
  {
   "cell_type": "markdown",
   "metadata": {
    "slideshow": {
     "slide_type": "slide"
    }
   },
   "source": [
    "## ANOVA Expansions\n",
    "\n",
    "![](figures/a9.png)\n"
   ]
  },
  {
   "cell_type": "markdown",
   "metadata": {
    "slideshow": {
     "slide_type": "slide"
    }
   },
   "source": [
    "## ANOVA Expansions\n",
    "\n",
    "![](figures/a10.png)\n"
   ]
  },
  {
   "cell_type": "markdown",
   "metadata": {
    "slideshow": {
     "slide_type": "slide"
    }
   },
   "source": [
    "## ANOVA Expansions\n",
    "\n",
    "![](figures/a11.png)\n"
   ]
  },
  {
   "cell_type": "markdown",
   "metadata": {
    "slideshow": {
     "slide_type": "slide"
    }
   },
   "source": [
    "## ANOVA Expansions\n",
    "\n",
    "![](figures/a12.png)\n"
   ]
  },
  {
   "cell_type": "markdown",
   "metadata": {
    "slideshow": {
     "slide_type": "slide"
    }
   },
   "source": [
    "## ANOVA Expansions\n",
    "\n",
    "![](figures/a13.png)\n"
   ]
  },
  {
   "cell_type": "markdown",
   "metadata": {
    "slideshow": {
     "slide_type": "slide"
    }
   },
   "source": [
    "## ANOVA Expansions\n",
    "\n",
    "![](figures/a14.png)\n"
   ]
  },
  {
   "cell_type": "markdown",
   "metadata": {
    "slideshow": {
     "slide_type": "slide"
    }
   },
   "source": [
    "## ANOVA Expansions\n",
    "\n",
    "![](figures/a15.png)\n"
   ]
  },
  {
   "cell_type": "markdown",
   "metadata": {
    "slideshow": {
     "slide_type": "slide"
    }
   },
   "source": [
    "## ANOVA Expansions\n",
    "\n",
    "![](figures/a16.png)\n"
   ]
  },
  {
   "cell_type": "markdown",
   "metadata": {
    "slideshow": {
     "slide_type": "slide"
    }
   },
   "source": [
    "## ANOVA Expansions\n",
    "\n",
    "![](figures/a17.png)\n"
   ]
  },
  {
   "cell_type": "markdown",
   "metadata": {
    "slideshow": {
     "slide_type": "slide"
    }
   },
   "source": [
    "## ANOVA Expansions\n",
    "\n",
    "![](figures/a18.png)\n"
   ]
  },
  {
   "cell_type": "markdown",
   "metadata": {
    "slideshow": {
     "slide_type": "slide"
    }
   },
   "source": [
    "## Other developments\n",
    "\n",
    "![](figures/a19.png)\n"
   ]
  },
  {
   "cell_type": "markdown",
   "metadata": {
    "slideshow": {
     "slide_type": "slide"
    }
   },
   "source": [
    "## Open questions and challenges\n",
    "\n",
    "![](figures/a20.png)\n"
   ]
  },
  {
   "cell_type": "markdown",
   "metadata": {
    "slideshow": {
     "slide_type": "slide"
    }
   },
   "source": [
    "## Open questions and challenges\n",
    "\n",
    "![](figures/a21.png)\n"
   ]
  },
  {
   "cell_type": "markdown",
   "metadata": {
    "slideshow": {
     "slide_type": "slide"
    }
   },
   "source": [
    "## Open questions and challenges\n",
    "\n",
    "![](figures/a22.png)\n"
   ]
  },
  {
   "cell_type": "markdown",
   "metadata": {
    "slideshow": {
     "slide_type": "slide"
    }
   },
   "source": [
    "## References\n",
    "\n",
    "![](figures/a23.png)\n"
   ]
  },
  {
   "cell_type": "markdown",
   "metadata": {
    "slideshow": {
     "slide_type": "slide"
    }
   },
   "source": [
    "## References\n",
    "\n",
    "![](figures/a24.png)\n"
   ]
  },
  {
   "cell_type": "code",
   "execution_count": null,
   "metadata": {
    "collapsed": true
   },
   "outputs": [],
   "source": []
  }
 ],
 "metadata": {
  "kernelspec": {
   "display_name": "Python 2",
   "language": "python",
   "name": "python2"
  },
  "language_info": {
   "codemirror_mode": {
    "name": "ipython",
    "version": 2
   },
   "file_extension": ".py",
   "mimetype": "text/x-python",
   "name": "python",
   "nbconvert_exporter": "python",
   "pygments_lexer": "ipython2",
   "version": "2.7.11"
  },
  "latex_envs": {
   "bibliofile": "biblio.bib",
   "cite_by": "apalike",
   "current_citInitial": 1,
   "eqLabelWithNumbers": true,
   "eqNumInitial": 0
  }
 },
 "nbformat": 4,
 "nbformat_minor": 0
}

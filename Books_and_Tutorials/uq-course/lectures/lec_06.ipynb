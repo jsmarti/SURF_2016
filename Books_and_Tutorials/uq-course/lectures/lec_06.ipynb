{
 "cells": [
  {
   "cell_type": "markdown",
   "metadata": {
    "slideshow": {
     "slide_type": "slide"
    }
   },
   "source": [
    "# Lecture 6 - Uncertainty Propagation using Polynomial Chaos I"
   ]
  },
  {
   "cell_type": "markdown",
   "metadata": {
    "slideshow": {
     "slide_type": "slide"
    }
   },
   "source": [
    "## Objectives\n",
    "\n",
    "+ Objective 1: To introduce polynomial Chaos (PC) as an attractive \n",
    "and efficient way of dealing with such challenges in the context of complex systems \n",
    "+ objective 2: Learn about the basic polynomial chaos expansion \n",
    "+ Objective 3: Learn about the stochastic Galerkin method \n"
   ]
  },
    {
   "cell_type": "markdown",
   "metadata": {
    "slideshow": {
     "slide_type": "-"
    }
   },
   "source": [
    "## Readings\n",
    "\n",
    "+ Numerical Methods for Stochastic Computations: A Spectral Method Approach (Dongbin Xiu, 2010)\n",
    "\n",
    "+ Uncertainty Quantification: Theory, Implementation, and Applications (Ralph C. Smith, 2014) \n"
   ]
  },
  {
   "cell_type": "markdown",
   "metadata": {
    "slideshow": {
     "slide_type": "slide"
    }
   },
   "source": [
    "## Challenges in classic UQ methods\n",
    "There are serious problems with the classic UQ methods: \n",
    "+ Monte Carlo methods are flexible and general, but the convergence\n",
    "rate is problematic: one digit requires 100 simulations \n",
    "+ Moment/Perturbation methods are too complex and intrusive to serve as a genral tool. \n",
    "\n",
    "\n",
    "How can be strive to improve this? \n",
    "\n",
    "MC approximates the density using piecewise constant samples - \n",
    "\n",
    "resulting in the slow pointwise convergence \n"
   ]
  },
  {
   "cell_type": "markdown",
   "metadata": {
    "slideshow": {
     "slide_type": "slide"
    }
   },
   "source": [
    "## Challenges in classic UQ methods \n",
    "We will: \n",
    "+ Make assumption on the nature of the aleatory uncertainty \n",
    " through the input variables \n",
    "+ Make some assumptions on the character of the epistemic \n",
    "uncertainty, possibly using just uniformly distributed variables \n",
    "\n",
    "\n",
    "These are random variables with a smooth density \n",
    "\n",
    "\n",
    "From an approximation standpoint of view, using piecewise constant \n",
    "functions to represent a smooth function is a poor choice \n"
   ]
  },
  {
   "cell_type": "markdown",
   "metadata": {
    "slideshow": {
     "slide_type": "slide"
    }
   },
   "source": [
    "## Inspiration from global expansions \n",
    "\n",
    "Consider a smooth period function:\n",
    "\n",
    "$$u(x)=\\frac{3}{5-4 \\cos(x)}$$\n",
    "![](figures/gexp.png)\n",
    "\n",
    "\n",
    "Challenge: How ot take advantae of this for UQ study? \n"
   ]
  },
  {
   "cell_type": "markdown",
   "metadata": {
    "slideshow": {
     "slide_type": "slide"
    }
   },
   "source": [
    "## The Wiener Chaos expansion \n",
    "\n",
    "Define the space of square integrable functions\n",
    "$$L^2_{Fx}=\\{f: I \\rightarrow R | E[f^2] < \\infty\\}  $$\n",
    "\n",
    "\n",
    "Provided $f \\in L^2_{Fx},$ we have \n",
    "\n",
    "$$f(X)={\\sum^\\infty_{n=0}\\hat{f}_n \\Phi_n(X)}$$ \n",
    "\n",
    "$$\\hat{f}_n=\\frac{E[f(X)\\Phi_n(X)]}{\\gamma_n}, \\; \\gamma_n=E[\\Phi^2_n(X)]$$ \n",
    "\n",
    "Where the Polynomial Chaos basis satisfies: \n",
    "$$E[\\Phi_m(X)\\Phi_n(X)]=\\int{\\Phi_m(X(x))\\Phi_n(X(x))}dF_x(x)=\\gamma_n \\delta_{mn}$$ \n",
    "Basis depends on the distribution of the random variable! \n"
   ]
  },
  {
   "cell_type": "markdown",
   "metadata": {
    "slideshow": {
     "slide_type": "slide"
    }
   },
   "source": [
    "## The Wiener Chaos expansion \n",
    "\n",
    "Consider Gaussian variables with \n",
    "$$ f_X(x)=\\frac{1}{\\sqrt{2\\pi}}\\exp^{-x^2/2}  $$\n",
    "The corresponding polynomials are the Hermite Polynomials \n",
    "\n",
    "$H_o(X)=1$, $H_1(X)=X$, $H_2(X)=X^2-1$, $H_3(X)=X^3-3X$ \n",
    "![](figures/hermite.png)\n"
   ]
  },
  {
   "cell_type": "markdown",
   "metadata": {
    "slideshow": {
     "slide_type": "slide"
    }
   },
   "source": [
    "## The Wiener Chaos expansion \n",
    "\n",
    "If we now consider the truncated expansion \n",
    "$$ P_N f(X)=\\sum_{n=0}^{N}\\hat{f}_n\\Phi_n(X) $$\n",
    "The strong convergence follows directly from classic theory \n",
    "\n",
    "$$||f-P_N f||_{L^2_{Fx}} \\rightarrow 0, \\; N \\rightarrow \\infty$$ \n",
    "\n",
    "If we now consider a more general problem\n",
    "\n",
    "$$Z_N=\\sum_{n=0}^{N}\\hat{a}_n\\Phi_n(X), \\;X \\in L^2_{Fx},\\; Z \\in L^2_{Fz}. $$\n",
    "Weak convergence can be achieved by defining\n",
    "\n",
    "$$\\hat{a}_n=\\frac{1}{\\gamma_n} E_X[F^{-1}_{Z}(F_X(X))\\Phi_n(X)]$$\n",
    "\n",
    "We can use one random variable to approximate another.\n"
   ]
  },
  {
   "cell_type": "markdown",
   "metadata": {
    "slideshow": {
     "slide_type": "slide"
    }
   },
   "source": [
    "## The Wiener Chaos expansion \n",
    "\n",
    "![](figures/pcapprox.png)\n",
    "\n",
    "It is clear that choosing the right basis - associated with the nature of the random variable - is the key to performance \n",
    "\n",
    "This is the advantage and the curese - as we shall see.\n"
   ]
  },
  {
   "cell_type": "markdown",
   "metadata": {
    "slideshow": {
     "slide_type": "slide"
    }
   },
   "source": [
    "## The Wiener Chaos expansion \n",
    "\n",
    "The extension to multiple random variables follows:\n",
    "Define:\n",
    "$$F_{Xi}(X_i)=P(X_i \\leq x_i), \\; x_i \\in I_{Xi}, $$ \n",
    "\n",
    "$$X=(X_1,...,X_d),\\; F_X=F_{X1} \\times ...\\times F_{Xd} $$ \n",
    "\n",
    "and the multi-dimensional polynomial chaos \n",
    "\n",
    "$$\\Phi_i(X)=\\Phi_{i1}(X_1) \\times ... \\times \\Phi_{id}(X_d),\\; |i| \\leq N,$$ \n",
    "\n",
    "$$E[\\Phi_i(X)\\Phi_j(X)]=\\int {\\Phi_i(x)\\Phi_j(x)dF_X(x)=\\gamma_i \\delta_{ij},\\; \\gamma_i=E[\\Phi_i^2]}. $$ \n",
    "\n",
    "The homogeneous Chaos expansion is: \n",
    "\n",
    "$$f_N(X)=\\sum_{|i|=0}^N \\hat{f}_i\\Phi_i(X) \\in P_N^d,\\; dim P_N^d=\\frac{(N+d)!}{N!d!} $$\n",
    "\n",
    "The 'curse of dimension' shows its face!\n"
   ]
  },
  {
   "cell_type": "markdown",
   "metadata": {
    "slideshow": {
     "slide_type": "slide"
    }
   },
   "source": [
    "## The Wiener Chaos expansion \n",
    "\n",
    "Assuming the Chaos expansion is known, we need statistics:\n",
    "$$f_N(\\textbf{X})= \\sum_{|i|=0}^N \\hat{f}_i\\Phi_i(\\textbf{X}) \\in P_N^d. $$\n",
    "The expectation follows from:\n",
    "\n",
    "$$\\mu=E[f] \\approx E[f_N]=\\int{\\sum_{|i|=0}^N \\hat{f}_i\\Phi_i(\\textbf{X})}dF_X=\\hat{f}_0$$ \n",
    "\n",
    "In a similar fashion, the variance is\n",
    "$$var(f)=E[(f-\\mu)^2]\\approx \\sum_{|i|>0}^N \\gamma_i \\hat{f}_i^2$$ \n",
    "\n",
    "Other moments can be obtained in a similar fashion. \n",
    "\n",
    "Functions of the expansion can also be estimated through Monte Carlo sampling. \n"
   ]
  },
  {
   "cell_type": "markdown",
   "metadata": {
    "slideshow": {
     "slide_type": "slide"
    }
   },
   "source": [
    "## Summary of What we have discussed\n",
    "\n",
    "+ We have discussed the shortcomings of classic\n",
    "methods such as Monte Carlo methods.\n",
    "+ We have realized that smoothness in the behaviro of \n",
    "the random variables shoudl be explored.\n",
    "+ We have introduced the Polynomial Chaos to achieve this goal. \n",
    "+ We will use this insight to solve differential \n",
    "equations and demonstrate the promised benefits. \n"
   ]
  },
  {
   "cell_type": "markdown",
   "metadata": {
    "slideshow": {
     "slide_type": "slide"
    }
   },
   "source": [
    "## Building Blocks for Polynomial Chaos: Orthogonal Polynomials\n",
    "Consider the random variable:\n",
    "$$\n",
    "\\xi \\sim p(\\xi) = \\mathcal{N}(0, 1).\n",
    "$$\n",
    "The orthogonal polynomials with respect to $p(\\xi)$, i.e., the $\\phi_i(\\xi)$ such that:\n",
    "$$\n",
    "\\langle \\phi_i \\phi_j \\rangle = \\int \\phi_i(\\xi) \\phi_j(\\xi) p(\\xi)d\\xi = \\delta_{ij},\n",
    "$$\n",
    "can be found with ``orthpol``."
   ]
  },
  {
   "cell_type": "code",
   "execution_count": 55,
   "metadata": {
    "collapsed": false,
    "slideshow": {
     "slide_type": "slide"
    }
   },
   "outputs": [
    {
     "data": {
      "text/plain": [
       "[<matplotlib.lines.Line2D at 0x115215d90>,\n",
       " <matplotlib.lines.Line2D at 0x115215f90>,\n",
       " <matplotlib.lines.Line2D at 0x1152230d0>,\n",
       " <matplotlib.lines.Line2D at 0x115223210>,\n",
       " <matplotlib.lines.Line2D at 0x115223350>,\n",
       " <matplotlib.lines.Line2D at 0x115223490>]"
      ]
     },
     "execution_count": 55,
     "metadata": {},
     "output_type": "execute_result"
    },
    {
     "data": {
      "image/png": "[encoded data removed]",
      "text/plain": [
       "<matplotlib.figure.Figure at 0x10f6a6290>"
      ]
     },
     "metadata": {},
     "output_type": "display_data"
    }
   ],
   "source": [
    "import numpy as np\n",
    "import scipy.stats as st\n",
    "import orthpol\n",
    "import matplotlib.pyplot as plt\n",
    "import seaborn as sns\n",
    "%matplotlib inline\n",
    "xi = st.norm()\n",
    "degree = 5\n",
    "phi = orthpol.OrthogonalPolynomial(degree, xi)\n",
    "xis = np.linspace(-3, 3, 100)\n",
    "plt.plot(xis, phi(xis))"
   ]
  },
  {
   "cell_type": "markdown",
   "metadata": {
    "slideshow": {
     "slide_type": "slide"
    }
   },
   "source": [
    "## Building Blocks for Polynomial Chaos: Quadrature Rules\n",
    "\n",
    "A quadrture rule is a set of weihts and points, $\\{(w^{(n)}, \\xi^{(n)})\\}_{n=1}^N$, that allows us to approximate expectations of arbitrary functions $f(\\xi)$ with respect to $p(\\xi)$ as follows:\n",
    "$$\n",
    "\\langle f(\\xi) \\rangle \\equiv \\int f(\\xi)p(\\xi)d\\xi \\approx \\sum_{n=1}^Nw^{(n)}f(\\xi^{(n)}).\n",
    "$$\n",
    "Let's use ``orthpol`` to construct such a quadrature rule for our normal random variable. We will use $N=500$ quadature points."
   ]
  },
  {
   "cell_type": "code",
   "execution_count": 56,
   "metadata": {
    "collapsed": false,
    "slideshow": {
     "slide_type": "slide"
    }
   },
   "outputs": [
    {
     "data": {
      "text/plain": [
       "<matplotlib.text.Text at 0x115118d10>"
      ]
     },
     "execution_count": 56,
     "metadata": {},
     "output_type": "execute_result"
    },
    {
     "data": {
      "image/png": "[encoded data removed]",
      "text/plain": [
       "<matplotlib.figure.Figure at 0x11526e850>"
      ]
     },
     "metadata": {},
     "output_type": "display_data"
    }
   ],
   "source": [
    "quad = orthpol.QuadratureRule(left=-np.inf, right=np.inf, wf=xi.pdf, ncap=100)\n",
    "plt.plot(quad.x, quad.w, '.')\n",
    "plt.xlabel(r'$\\xi^{(n)}$')\n",
    "plt.ylabel(r'$w^{(n)}$')"
   ]
  },
  {
   "cell_type": "markdown",
   "metadata": {
    "slideshow": {
     "slide_type": "slide"
    }
   },
   "source": [
    "Let's use this quadrature to verify the orthonormality of the weights, i.e., that:\n",
    "$$\n",
    "\\langle \\phi_i \\phi_j \\rangle = \\delta_{ij}.\n",
    "$$\n",
    "To check this, we will comute the matrix:\n",
    "$$\n",
    "\\Delta_{ij} = \\sum_{n=1}^N w^{(n)} \\phi_i(\\xi^{(n)})\\phi_j(\\xi^{(n)}),\n",
    "$$\n",
    "and compare it to the identity matrix."
   ]
  },
  {
   "cell_type": "code",
   "execution_count": 64,
   "metadata": {
    "collapsed": false,
    "slideshow": {
     "slide_type": "slide"
    }
   },
   "outputs": [
    {
     "data": {
      "text/plain": [
       "<matplotlib.colorbar.Colorbar at 0x1170c1cd0>"
      ]
     },
     "execution_count": 64,
     "metadata": {},
     "output_type": "execute_result"
    },
    {
     "data": {
      "image/png": "[encoded data removed]",
      "text/plain": [
       "<matplotlib.figure.Figure at 0x115c81a10>"
      ]
     },
     "metadata": {},
     "output_type": "display_data"
    }
   ],
   "source": [
    "Phi = phi(quad.x)\n",
    "delta = np.einsum('n,ni,nj->ij',quad.w, Phi, Phi)\n",
    "plt.imshow(delta)\n",
    "plt.colorbar()"
   ]
  },
  {
   "cell_type": "code",
   "execution_count": 63,
   "metadata": {
    "collapsed": false,
    "slideshow": {
     "slide_type": "slide"
    }
   },
   "outputs": [
    {
     "name": "stdout",
     "output_type": "stream",
     "text": [
      "[ 0.99999976  0.99999674  1.00001608  1.00025015  1.00022865  0.99566874]\n"
     ]
    }
   ],
   "source": [
    "print np.diag(delta)"
   ]
  },
  {
   "cell_type": "markdown",
   "metadata": {
    "slideshow": {
     "slide_type": "slide"
    }
   },
   "source": [
    "## Discussion about smoothness assumption\n",
    "\n",
    "+ The assumption of smoothness is no the random variable\n",
    "+ Not on the solution \n",
    "![](figures/smoothness.png)\n"
   ]
  },
  {
   "cell_type": "markdown",
   "metadata": {
    "slideshow": {
     "slide_type": "slide"
    }
   },
   "source": [
    "## Stochastic Galerkin methods\n",
    "+ A brief reminder\n",
    "+ Stochastic Galerkin method for SODEs\n",
    "+ Stochastic Galerkin method for SPDEs\n",
    "+ Extensions to non-Gaussian variables\n",
    "+ Summary of what we have discussed\n"
   ]
  },
  {
   "cell_type": "markdown",
   "metadata": {
    "slideshow": {
     "slide_type": "slide"
    }
   },
   "source": [
    "## A brief reminder\n",
    "\n",
    "Through a series of arguments we realized:\n",
    "\n",
    "+ We need to be able to quantify with the impact of uncertainty in modeling of complex systems\n",
    "+ While MC is tested and tried, its cost is problematic for complex systems and/or high accuracy requirements\n",
    "+ For many systems, the random variables have smooth densities and this we should explore\n",
    "+ We introduced the Wiener Chaos expansion for this purpose\n"
   ]
  },
  {
   "cell_type": "markdown",
   "metadata": {
    "slideshow": {
     "slide_type": "slide"
    }
   },
   "source": [
    "## A brief reminder\n",
    "\n",
    "We introduced the homogeneous Chaos expansion:\n",
    "$$f_N(X)=\\sum_{|i|=0}^N \\hat{f}_i\\Phi_i(X) \\in P_N^d,\\; dim P_N^d=\\frac{(N+d)!}{N!d!} $$\n",
    "\n",
    "to represent functions of d-dimensional random vectors\n",
    "\n",
    "$$X=(X_1,...,X_d)$$\n",
    "\n",
    "$$ F_{Xi}(X_i)=P(X_i \\leq x_i), \\; x_i \\in I_{Xi}, $$ \n",
    "\n",
    "$$F_X=F_{X1} \\times ...\\times F_{Xd} $$ \n",
    "\n",
    "Here we define the Polnomial Chaos\n",
    "\n",
    "$$ \\Phi_i(X)=\\Phi_{i1}(X_1) \\times ... \\times \\Phi_{id}(X_d),\\; |i| \\leq N,$$ \n",
    "\n",
    "$$ E[\\Phi_i(X)\\Phi_j(X)]=\\int {\\Phi_i(x)\\Phi_j(x)dF_X(x)=\\gamma_i \\delta_{ij},\\; \\gamma_i=E[\\Phi_i^2]}. $$ \n",
    "\n",
    "For Gaussian variables, these are known as Hermite Polynomial\n"
   ]
  },
  {
   "cell_type": "markdown",
   "metadata": {
    "slideshow": {
     "slide_type": "slide"
    }
   },
   "source": [
    "## Stochastic Galerkin for SODEs\n",
    "\n",
    "Let us see how we can use these development:\n",
    "\n",
    "+ We consider again the simple ODE\n",
    "$$\n",
    "\\frac{dy}{dt} = ky,\n",
    "$$\n",
    "with $y(0) = y_0$ where $k$ is an uncertain constant.\n",
    "Note: This is very simple problem for illustration only!\n"
   ]
  },
  {
   "cell_type": "markdown",
   "metadata": {
    "slideshow": {
     "slide_type": "slide"
    }
   },
   "source": [
    "## Case Studies: Solving Stochastic ODEs via the Stochastic Galerkin Approach\n",
    "Let us use now these ideas to solve the following ODE with random coefficients. Consider the problem:\n",
    "$$\n",
    "\\frac{dy}{dt} = ky,\n",
    "$$\n",
    "with $y(0) = y_0$ where $k$ is an uncertain constant. Assume that the uncertainty in $k$ can be expressed as follows:\n",
    "$$\n",
    "k \\sim \\mathcal{N}(\\mu, \\sigma^2).\n",
    "$$\n",
    "This random variable has the nice property that it can be expressed in terms of a $\\xi\\sim\\mathcal{N}(0,1)$ in a very straightforward way:\n",
    "$$\n",
    "k = \\mu + \\sigma\\xi.$$\n"
   ]
  },
  {
   "cell_type": "markdown",
   "metadata": {
    "slideshow": {
     "slide_type": "slide"
    }
   },
   "source": [
    "What simplifies the analysis significantly is actually expanding $k$ in the $\\phi_i(\\xi)$'s, i.e., by writing:\n",
    "$$\n",
    "k = \\sum_{i=1}^{d_k} k_i\\phi_i(\\xi).\n",
    "$$\n",
    "In this case, this is trivial to do by hand, but let's do it the formal way.\n",
    "Multiplying both sides by $\\phi_j(\\xi)$ and taking the expectation of $\\xi$ yields:\n",
    "$$\n",
    "k_i = \\langle k\\phi_i\\rangle = \\int k(\\xi)\\phi_i(\\xi)p(\\xi)d\\xi \\approx \\sum_{n=1}^Nw^{(n)}k(\\xi^{(n)})\\phi_i(\\xi^{(n)}).\n",
    "$$\n",
    "Let's see what expansion we would get for $\\mu = 0.1$ and $\\sigma=0.01$:"
   ]
  },
  {
   "cell_type": "code",
   "execution_count": 68,
   "metadata": {
    "collapsed": false,
    "slideshow": {
     "slide_type": "slide"
    }
   },
   "outputs": [
    {
     "name": "stdout",
     "output_type": "stream",
     "text": [
      "[  9.99999881e-02   9.99998368e-03  -2.13933342e-07   1.45623142e-07\n",
      "   9.13355789e-07   1.25470313e-06]\n"
     ]
    }
   ],
   "source": [
    "k = lambda(xi): 0.1 + 0.01 * xi\n",
    "k_coeff = np.einsum('n,n,ni', quad.w, k(quad.x), Phi)\n",
    "print k_coeff"
   ]
  },
  {
   "cell_type": "markdown",
   "metadata": {
    "slideshow": {
     "slide_type": "slide"
    }
   },
   "source": [
    "As exected, to numerical accuracy, we find that k has just two significant coefficients."
   ]
  },
  {
   "cell_type": "markdown",
   "metadata": {
    "slideshow": {
     "slide_type": "slide"
    }
   },
   "source": [
    "We will expand the solution of the ODE, $y(t;\\xi)$, in the basis formed by the $\\phi_i(\\xi)$'s, i.e., we will have:\n",
    "$$\n",
    "y(t;\\xi) = \\sum_{i=1}^\\infty y_i(t)\\phi_i(\\xi).\n",
    "$$\n",
    "Of course, at the end of the day, we will just keep 5-6 terms of this expansion so that the sum is finite. We have, by differentiating both sides of the above equation:\n",
    "$$\n",
    "\\sum_{i=1}^{d_y} \\dot{y_i}\\phi_i(\\xi) = \\dot{y} = ky = \\left(\\sum_{i=1}^{d_k} k_i\\phi_i(\\xi)\\right)\\left(\\sum_{j=1}^{d_y} y_j\\phi_j(\\xi)\\right).\n",
    "$$\n",
    "Joining the sums on the RHS, we get:\n",
    "$$\n",
    "\\sum_{i=1}^{d_y} \\dot{y_i}\\phi_i(\\xi) = \n",
    "\\sum_{i=1}^{d_k} \\sum_{j=1}^{d_y} k_i\\phi_i(\\xi)y_j\\phi_j(\\xi)$$\n"
   ]
  },
  {
   "cell_type": "markdown",
   "metadata": {
    "slideshow": {
     "slide_type": "slide"
    }
   },
   "source": [
    "Now, we multiply both terms by $\\phi_k(\\xi)$ and take the expecation over $\\xi$. This yields:\n",
    "$$\n",
    "\\sum_{i=1}^{d_y} \\dot{y_i}\\langle \\phi_i\\phi_k\\rangle = \\sum_{i=1}^{d_k}\\sum_{j=1}^{d_y} k_i y_j\\langle \\phi_i\\phi_j\\phi_k\\rangle.\n",
    "$$\n",
    "Now, notice that because of the orthonormality of the basis functions, we have $\\langle\\phi_i\\phi_k\\rangle=\\delta_{ij}$ so that the LHS can be simplified significantly.\n",
    "Therefore, the stochastic ODE becomes equivalent to the following (theoretically) infinite dimensional dynamical system:\n",
    "$$\n",
    "\\dot{y}_k = \\sum_{i=1}^{d_k}\\sum_{j=1}^{d_y} k_i H_{ijk}y_j,\n",
    "$$\n",
    "for $k=1,\\dots,d_y$, where we have introduced the 3D array:\n",
    "$$\n",
    "H_{ijl} = \\langle \\phi_i \\phi_j \\phi_k\\rangle = \\int \\phi_i(\\xi)\\phi_j(\\xi)\\phi_k(\\xi)p(\\xi)d\\xi.\n",
    "$$"
   ]
  },
  {
   "cell_type": "markdown",
   "metadata": {
    "slideshow": {
     "slide_type": "slide"
    }
   },
   "source": [
    "To find the initial conditions of the this dynamical system, all we have to do is expand $y(t=0;\\xi) = y_0$ in the same basis. We, trivially, have:\n",
    "$$\n",
    "y_k(t=0) = \\langle y_0 \\phi_k\\rangle,\n",
    "$$\n",
    "for $k=1,\\dots,d_y$. If $y_0$ does not depend on $\\xi$, e.g., if it is a constant, then we trivially get:\n",
    "$$\n",
    "y_1(t=0) = y_0,\n",
    "$$\n",
    "and\n",
    "$$\n",
    "y_k(t=0) = 0,\n",
    "$$\n",
    "for $k=2,\\dots,d_y$."
   ]
  },
  {
   "cell_type": "markdown",
   "metadata": {
    "slideshow": {
     "slide_type": "slide"
    }
   },
   "source": [
    "To wrap it up, it all boils down to solving the following initial value problem:\n",
    "$$\n",
    "\\dot{y}_k = \\sum_{i=1}^{d_k}\\sum_{j=1}^{d_y} k_i H_{ijk}y_j,\n",
    "$$\n",
    "$$\n",
    "y_1(t=0) = y_0,\n",
    "$$\n",
    "and\n",
    "$$\n",
    "y_k(t=0) = 0,\n",
    "$$\n",
    "for $k=2,\\dots,d_y$."
   ]
  },
  {
   "cell_type": "markdown",
   "metadata": {
    "slideshow": {
     "slide_type": "slide"
    }
   },
   "source": [
    "The only thing we are actually missing is the 3D array:\n",
    "$$\n",
    "H_{ijk} = \\langle \\phi_i \\phi_j \\phi_k\\rangle = \\int \\phi_i(\\xi)\\phi_j(\\xi)\\phi_k(\\xi)p(\\xi)d\\xi \\approx \\sum_{n=1}^{N}w^{(n)}\\phi_i(\\xi^{(n)})\\phi_j(\\xi^{(n)})\\phi_k(\\xi^{(n)})\n",
    "$$\n",
    "Here is how we can compute it:"
   ]
  },
  {
   "cell_type": "code",
   "execution_count": 65,
   "metadata": {
    "collapsed": true,
    "slideshow": {
     "slide_type": "slide"
    }
   },
   "outputs": [],
   "source": [
    "H = np.einsum('n,ni,nj,nk->ijk', quad.w, Phi, Phi, Phi)"
   ]
  },
  {
   "cell_type": "markdown",
   "metadata": {
    "slideshow": {
     "slide_type": "slide"
    }
   },
   "source": [
    "Alright, let's solve the system numerically. We are going to use the functionality of ``scipy`` to do this. The only thing we need to worry about is implementing the RHS of the dynamical system. This is easy:"
   ]
  },
  {
   "cell_type": "code",
   "execution_count": 86,
   "metadata": {
    "collapsed": true,
    "slideshow": {
     "slide_type": "slide"
    }
   },
   "outputs": [],
   "source": [
    "def rhs(y, t, k_coeff, H):\n",
    "    \"\"\"\n",
    "    Evaluates the RHS of the dynamical system that is equivalent to the random ODE.\n",
    "    \"\"\"\n",
    "    return np.einsum('i,ijk,j->k', k_coeff, H, y)"
   ]
  },
  {
   "cell_type": "markdown",
   "metadata": {
    "slideshow": {
     "slide_type": "slide"
    }
   },
   "source": [
    "Let's solve the problem."
   ]
  },
  {
   "cell_type": "code",
   "execution_count": 88,
   "metadata": {
    "collapsed": false
   },
   "outputs": [],
   "source": [
    "import scipy.integrate\n",
    "# The expansion of y(t;xi) has this dimensionality\n",
    "d_y = degree + 1\n",
    "# The initial condition:\n",
    "y0 = np.zeros((d_y,))\n",
    "y0[0] = 1.\n",
    "# We are going to solve until this time\n",
    "T = 5.\n",
    "# and we want the result on these timesteps:\n",
    "t = np.linspace(0, T, 500)\n",
    "# Here we go:\n",
    "y = scipy.integrate.odeint(rhs, y0, t, args=(k_coeff, H))"
   ]
  },
  {
   "cell_type": "markdown",
   "metadata": {
    "slideshow": {
     "slide_type": "slide"
    }
   },
   "source": [
    "Let's visualize the results. We start with the coefficients $y_k(t)$."
   ]
  },
  {
   "cell_type": "code",
   "execution_count": 100,
   "metadata": {
    "collapsed": false
   },
   "outputs": [
    {
     "data": {
      "text/plain": [
       "<matplotlib.text.Text at 0x11971dc90>"
      ]
     },
     "execution_count": 100,
     "metadata": {},
     "output_type": "execute_result"
    },
    {
     "data": {
      "image/png": "[encoded data removed]",
      "text/plain": [
       "<matplotlib.figure.Figure at 0x1196952d0>"
      ]
     },
     "metadata": {},
     "output_type": "display_data"
    }
   ],
   "source": [
    "plt.plot(t, y)\n",
    "plt.xlabel('$t$')\n",
    "plt.ylabel('$y_k(t)$')"
   ]
  },
  {
   "cell_type": "markdown",
   "metadata": {
    "slideshow": {
     "slide_type": "slide"
    }
   },
   "source": [
    "Now, let's do some of the statistics. The mean of the response is:\n",
    "$$\n",
    "\\mathbb{E}_\\xi[y(t;\\xi)] = y_1(t).\n",
    "$$\n",
    "The variance of the response is:\n",
    "$$\n",
    "\\mathbb{V}_{\\xi}[y(t;\\xi] = \\sum_{k=2}^{d_y}y_k^2(t).\n",
    "$$\n",
    "Let's use them to plot 95% predictive error bars:"
   ]
  },
  {
   "cell_type": "code",
   "execution_count": 103,
   "metadata": {
    "collapsed": false,
    "slideshow": {
     "slide_type": "slide"
    }
   },
   "outputs": [
    {
     "data": {
      "text/plain": [
       "<matplotlib.text.Text at 0x1198f8510>"
      ]
     },
     "execution_count": 103,
     "metadata": {},
     "output_type": "execute_result"
    },
    {
     "data": {
      "image/png": "[encoded data removed]",
      "text/plain": [
       "<matplotlib.figure.Figure at 0x119dc4550>"
      ]
     },
     "metadata": {},
     "output_type": "display_data"
    }
   ],
   "source": [
    "# Mean\n",
    "y_m = y[:, 0]\n",
    "# Variance\n",
    "y_v = np.sum(y[:, 1:] ** 2., axis=1)\n",
    "# Standard deviation\n",
    "y_s = np.sqrt(y_v)\n",
    "# Lower predictive bound\n",
    "y_l = y_m - 1.96 * y_s\n",
    "# Upper predictive bound\n",
    "y_u = y_m + 1.96 * y_s\n",
    "# Plot it\n",
    "plt.plot(t, y_m)\n",
    "plt.fill_between(t, y_l, y_u, alpha=0.25)\n",
    "plt.xlabel('$t$')\n",
    "plt.ylabel('$y(t)$')"
   ]
  },
  {
   "cell_type": "markdown",
   "metadata": {
    "slideshow": {
     "slide_type": "slide"
    }
   },
   "source": [
    "## Stochastic Galerkin for SODEs\n",
    "\n",
    "![](figures/gpcode1.png)\n"
   ]
  },
  {
   "cell_type": "markdown",
   "metadata": {
    "slideshow": {
     "slide_type": "slide"
    }
   },
   "source": [
    "## Stochastic Galerkin for SODEs\n",
    "\n",
    "A few observations are work making\n",
    "\n",
    "+ Solving with the mean coefficients is not sufficient\n",
    "+ A stochastic scalar problem becomes a deterministic system \n",
    "+ Some work is needed to derive system and matrix entries $e_{ijk}=E[H_i H_j H_k]$\n",
    "+ System is only coupled with multiplicative randomness \n",
    "+ Spectral convergence is clear, i.e., we have recovered the benefits of global expansions form PDE solvers \n"
   ]
  },
    {
   "cell_type": "markdown",
   "metadata": {
    "slideshow": {
     "slide_type": "slide"
    }
   },
   "source": [
    "## Comparison to Monte Carlo\n",
    "Just for fun, let's draw some samples of $\\xi$, solve the problem for each one of them, and plot the results on top of the previous plot. We have done a good job only if the drawn samples fall within the bounds we derived. Let's see."
   ]
  },
  {
   "cell_type": "code",
   "execution_count": 116,
   "metadata": {
    "collapsed": false
   },
   "outputs": [
    {
     "data": {
      "image/png": "[encoded data removed]",
      "text/plain": [
       "<matplotlib.figure.Figure at 0x11abfd890>"
      ]
     },
     "metadata": {},
     "output_type": "display_data"
    }
   ],
   "source": [
    "# RHS for the deterministic problem (k fixed)\n",
    "def rhs_deter(y, t, k):\n",
    "    return k * y\n",
    "# Plot the solution we got with polynomial chaos:\n",
    "plt.plot(t, y_m)\n",
    "plt.fill_between(t, y_l, y_u, alpha=0.25)\n",
    "plt.xlabel('$t$')\n",
    "plt.ylabel('$y(t)$')\n",
    "# And let's do 5 samples of xi\n",
    "for i in xrange(10):\n",
    "    xi = np.random.randn()\n",
    "    k = 0.1 + 0.01 * xi\n",
    "    y_sample = scipy.integrate.odeint(rhs_deter, [1.], t, args=(k,))\n",
    "    plt.plot(t, y_sample, linewidth=0.5, color=sns.color_palette()[2])"
   ]
  },
  {
   "cell_type": "markdown",
   "metadata": {
    "slideshow": {
     "slide_type": "slide"
    }
   },
   "source": [
    "Let's do another test. Let's try to compare the mean and the variance we found with polynomial chaos, with the one we would have found with Monte Carlo. We will take 10,000 samples just to be sure that we have converent statistics."
   ]
  },
  {
   "cell_type": "code",
   "execution_count": 120,
   "metadata": {
    "collapsed": true,
    "slideshow": {
     "slide_type": "slide"
    }
   },
   "outputs": [],
   "source": [
    "# Accumulator for y(t;\\xi)\n",
    "y_mc = np.zeros(t.shape)\n",
    "# Accumulator for y(t;\\xi) ** 2\n",
    "y_mc2 = np.zeros(t.shape)\n",
    "# The number of samples to take:\n",
    "num_samples = 10000\n",
    "# Start sampling\n",
    "for i in xrange(num_samples):\n",
    "    xi = np.random.randn()\n",
    "    k = 0.1 + 0.01 * xi\n",
    "    y_sample = scipy.integrate.odeint(rhs_deter, [1.], t, args=(k,)).flatten()\n",
    "    y_mc += y_sample\n",
    "    y_mc2 += y_sample ** 2\n",
    "# The mean statistic through Monte Carlo\n",
    "y_mc_m = y_mc / num_samples\n",
    "# The variance statistic through Monte Carlo\n",
    "y_mc_v = y_mc2 / num_samples - y_mc_m ** 2"
   ]
  },
  {
   "cell_type": "code",
   "execution_count": 129,
   "metadata": {
    "collapsed": false,
    "slideshow": {
     "slide_type": "slide"
    }
   },
   "outputs": [
    {
     "data": {
      "text/plain": [
       "<matplotlib.text.Text at 0x11a83a210>"
      ]
     },
     "execution_count": 129,
     "metadata": {},
     "output_type": "execute_result"
    },
    {
     "data": {
      "image/png": "[encoded data removed]",
      "text/plain": [
       "<matplotlib.figure.Figure at 0x11af422d0>"
      ]
     },
     "metadata": {},
     "output_type": "display_data"
    }
   ],
   "source": [
    "# Comparing the means:\n",
    "plt.plot(t, y_m, label='PC mean')\n",
    "plt.plot(t, y_mc_m, '--', label='MC mean')\n",
    "plt.legend()\n",
    "plt.xlabel('$t$')\n",
    "plt.ylabel(r'$\\mathbb{E}_{\\xi}[y(t;\\xi)]$')"
   ]
  },
  {
   "cell_type": "code",
   "execution_count": 130,
   "metadata": {
    "collapsed": false,
    "slideshow": {
     "slide_type": "slide"
    }
   },
   "outputs": [
    {
     "data": {
      "text/plain": [
       "<matplotlib.text.Text at 0x11a643dd0>"
      ]
     },
     "execution_count": 130,
     "metadata": {},
     "output_type": "execute_result"
    },
    {
     "data": {
      "image/png": "[encoded data removed]",
      "text/plain": [
       "<matplotlib.figure.Figure at 0x11b071e90>"
      ]
     },
     "metadata": {},
     "output_type": "display_data"
    }
   ],
   "source": [
    "# Comparing the variances:\n",
    "plt.plot(t, y_v, label='PC var.')\n",
    "plt.plot(t, y_mc_v, '--', label='MC var.')\n",
    "plt.legend()\n",
    "plt.xlabel('$t$')\n",
    "plt.ylabel(r'$\\mathbb{V}_{\\xi}[y(t;\\xi)]$')"
   ]
  },
  {
   "cell_type": "markdown",
   "metadata": {
    "slideshow": {
     "slide_type": "slide"
    }
   },
   "source": [
    "## Stochastic Galerkin for SODEs\n",
    "\n",
    "![](figures/gpcode2.png)\n"
   ]
  },
   {
   "cell_type": "markdown",
   "metadata": {
    "slideshow": {
     "slide_type": "slide"
    }
   },
   "source": [
    "## Stochastic Galerkin for SODEs\n",
    "\n",
    "![](figures/gpcode3.png)\n"
   ]
  },
    {
   "cell_type": "markdown",
   "metadata": {
    "slideshow": {
     "slide_type": "slide"
    }
   },
   "source": [
    "## Stochastic Galerkin for SODEs\n",
    "\n",
    "![](figures/gpcode4.png)\n"
   ]
  }, 
      {
   "cell_type": "markdown",
   "metadata": {
    "slideshow": {
     "slide_type": "slide"
    }
   },
   "source": [
    "## Stochastic Galerkin for SODEs\n",
    "\n",
    "![](figures/gpcode5.png)\n"
   ]
  }, 
     {
   "cell_type": "markdown",
   "metadata": {
    "slideshow": {
     "slide_type": "slide"
    }
   },
   "source": [
    "## Stochastic Galerkin for SODEs\n",
    "\n",
    "Let us summarize our results for SDEs\n",
    "\n",
    "+ Approach is systematic\n",
      "\n",
    "SDE scalar problems leads to deterministic coupled systems of ODEs \n",
      "\n",
    "Results for both linear and non-linear are convincing and the potential for savings significant.\n",
      "\n",
    "Question: What changes for SPDEs?\n"
   ]
  }, 
   {
   "cell_type": "markdown",
   "metadata": {
    "slideshow": {
     "slide_type": "slide"
    }
   },
   "source": [
    "## Stochastic Galerkin for SPDEs\n",
    "\n",
    "![](figures/gpcode6.png)\n"
   ]
  }, 
   {
   "cell_type": "markdown",
   "metadata": {
    "slideshow": {
     "slide_type": "slide"
    }
   },
   "source": [
    "## Stochastic Galerkin for SPDEs\n",
    "\n",
    "![](figures/gpcode7.png)\n"
   ]
  }, 
    {
   "cell_type": "markdown",
   "metadata": {
    "slideshow": {
     "slide_type": "slide"
    }
   },
   "source": [
    "## Stochastic Galerkin for SPDEs\n",
    "\n",
    "![](figures/gpcode8.png)\n"
   ]
  }, 
    {
   "cell_type": "markdown",
   "metadata": {
    "slideshow": {
     "slide_type": "slide"
    }
   },
   "source": [
    "## Stochastic Galerkin for SPDEs\n",
    "\n",
    "![](figures/gpcode9.png)\n"
   ]
  }, 
    {
   "cell_type": "markdown",
   "metadata": {
    "slideshow": {
     "slide_type": "slide"
    }
   },
   "source": [
    "## Stochastic Galerkin for SPDEs\n",
    "\n",
    "![](figures/gpcode10.png)\n"
   ]
  }, 
    {
   "cell_type": "markdown",
   "metadata": {
    "slideshow": {
     "slide_type": "slide"
    }
   },
   "source": [
    "## Stochastic Galerkin for SPDEs\n",
    "\n",
    "![](figures/gpcode11.png)\n"
   ]
  }, 
    {
   "cell_type": "markdown",
   "metadata": {
    "slideshow": {
     "slide_type": "slide"
    }
   },
   "source": [
    "## Stochastic Galerkin for SPDEs\n",
    "\n",
    "![](figures/gpcode12.png)\n"
   ]
  }, 
    {
   "cell_type": "markdown",
   "metadata": {
    "slideshow": {
     "slide_type": "slide"
    }
   },
   "source": [
    "## Stochastic Galerkin for SPDEs\n",
    "\n",
    "![](figures/gpcode13.png)\n"
   ]
  }, 
    {
   "cell_type": "markdown",
   "metadata": {
    "slideshow": {
     "slide_type": "slide"
    }
   },
   "source": [
    "## Stochastic Galerkin for SPDEs\n",
    "\n",
    "![](figures/gpcode14.png)\n"
   ]
  }, 
    {
   "cell_type": "markdown",
   "metadata": {
    "slideshow": {
     "slide_type": "slide"
    }
   },
   "source": [
    "## Stochastic Galerkin for SPDEs\n",
    "\n",
    "![](figures/gpcode15.png)\n"
   ]
  }, 
    {
   "cell_type": "markdown",
   "metadata": {
    "slideshow": {
     "slide_type": "slide"
    }
   },
   "source": [
    "## Stochastic Galerkin for SPDEs\n",
    "\n",
    "![](figures/gpcode16.png)\n"
   ]
  }, 
    {
   "cell_type": "markdown",
   "metadata": {
    "slideshow": {
     "slide_type": "slide"
    }
   },
   "source": [
    "## Stochastic Galerkin for SPDEs\n",
    "\n",
    "![](figures/gpcode17.png)\n"
   ]
  }, 
    {
   "cell_type": "markdown",
   "metadata": {
    "slideshow": {
     "slide_type": "slide"
    }
   },
   "source": [
    "## Stochastic Galerkin for SPDEs\n",
    "\n",
    "![](figures/gpcode18.png)\n"
   ]
  }, 
    {
   "cell_type": "markdown",
   "metadata": {
    "slideshow": {
     "slide_type": "slide"
    }
   },
   "source": [
    "## Stochastic Galerkin for SPDEs\n",
    "\n",
    "![](figures/gpcode19.png)\n"
   ]
  }, 
    {
   "cell_type": "markdown",
   "metadata": {
    "slideshow": {
     "slide_type": "slide"
    }
   },
   "source": [
    "## Stochastic Galerkin for SPDEs\n",
    "\n",
    "![](figures/gpcode20.png)\n"
   ]
  }, 
    {
   "cell_type": "markdown",
   "metadata": {
    "slideshow": {
     "slide_type": "slide"
    }
   },
   "source": [
    "## Stochastic Galerkin for SPDEs\n",
    "\n",
    "![](figures/gpcode21.png)\n"
   ]
  }, 
    {
   "cell_type": "markdown",
   "metadata": {
    "slideshow": {
     "slide_type": "slide"
    }
   },
   "source": [
    "## Non-Gaussian variables and gPC\n",
    "\n",
    "![](figures/gpcode22.png)\n"
   ]
  }, 
    {
   "cell_type": "markdown",
   "metadata": {
    "slideshow": {
     "slide_type": "slide"
    }
   },
   "source": [
    "## Non-Gaussian variables and gPC\n",
    "\n",
    "![](figures/gpcode23.png)\n"
   ]
  }, 
    {
   "cell_type": "markdown",
   "metadata": {
    "slideshow": {
     "slide_type": "slide"
    }
   },
   "source": [
    "## Non-Gaussian variables and gPC\n",
    "\n",
    "![](figures/gpcode24.png)\n"
   ]
  }, 
    {
   "cell_type": "markdown",
   "metadata": {
    "slideshow": {
     "slide_type": "slide"
    }
   },
   "source": [
    "## Non-Gaussian variables and gPC\n",
    "\n",
    "![](figures/gpcode25.png)\n"
   ]
  }, 
    {
   "cell_type": "markdown",
   "metadata": {
    "slideshow": {
     "slide_type": "slide"
    }
   },
   "source": [
    "## Non-Gaussian variables and gPC\n",
    "\n",
    "![](figures/gpcode26.png)\n"
   ]
  }, 
    {
   "cell_type": "markdown",
   "metadata": {
    "slideshow": {
     "slide_type": "slide"
    }
   },
   "source": [
    "## Non-Gaussian variables and gPC\n",
    "\n",
    "![](figures/gpcode27.png)\n"
   ]
  }, 
    {
   "cell_type": "markdown",
   "metadata": {
    "slideshow": {
     "slide_type": "slide"
    }
   },
   "source": [
    "## Non-Gaussian variables and gPC\n",
    "\n",
    "![](figures/gpcode28.png)\n"
   ]
  }, 
    {
   "cell_type": "markdown",
   "metadata": {
    "slideshow": {
     "slide_type": "slide"
    }
   },
   "source": [
    "## Non-Gaussian variables and gPC\n",
    "\n",
    "![](figures/gpcode29.png)\n"
   ]
  }, 
    {
   "cell_type": "markdown",
   "metadata": {
    "slideshow": {
     "slide_type": "slide"
    }
   },
   "source": [
    "## Non-Gaussian variables and gPC\n",
    "\n",
    "![](figures/gpcode30.png)\n"
   ]
  }, 
    {
   "cell_type": "markdown",
   "metadata": {
    "slideshow": {
     "slide_type": "slide"
    }
   },
   "source": [
    "## Summary of what we have discussed\n",
    "\n",
    "![](figures/gpcode31.png)\n"
   ]
  }, 
    {
   "cell_type": "markdown",
   "metadata": {
    "slideshow": {
     "slide_type": "slide"
    }
   },
   "source": [
    "## Stochastic Galerkin for SODEs\n",
    "\n",
    "![](figures/gpcode32.png)\n"
   ]
  },  
  {
   "cell_type": "code",
   "execution_count": null,
   "metadata": {
    "collapsed": true
   },
   "outputs": [],
   "source": []
  }
 ],
 "metadata": {
  "kernelspec": {
   "display_name": "Python 2",
   "language": "python",
   "name": "python2"
  },
  "language_info": {
   "codemirror_mode": {
    "name": "ipython",
    "version": 2
   },
   "file_extension": ".py",
   "mimetype": "text/x-python",
   "name": "python",
   "nbconvert_exporter": "python",
   "pygments_lexer": "ipython2",
   "version": "2.7.11"
  },
  "latex_envs": {
   "bibliofile": "biblio.bib",
   "cite_by": "apalike",
   "current_citInitial": 1,
   "eqLabelWithNumbers": true,
   "eqNumInitial": 0
  }
 },
 "nbformat": 4,
 "nbformat_minor": 0
}

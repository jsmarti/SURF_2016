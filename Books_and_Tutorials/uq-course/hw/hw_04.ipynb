{
 "cells": [
  {
   "cell_type": "markdown",
   "metadata": {},
   "source": [
    "# Homework 4: Sensitivity Analysis - Due March 31 Mid Night\n",
    "\n",
    "Covers Lecture 14. "
   ]
  },
  {
   "cell_type": "markdown",
   "metadata": {
    "collapsed": true
   },
   "source": [
    "1. Conduct sensitivity analysis with the analytical function\n",
    "\n",
    "$y=f(x)+\\sin(2\\pi x_1-\\pi)+7\\sin^2(2\\pi x_2-\\pi)+0.1(2\\pi x_3-\\pi)^4\\sin(2\\pi x_1-\\pi)$\n",
    "\n",
    "where the input vector x is uncertain. This uncertainty is characterized by the following distributions:\n",
    "\n",
    "$x_1 \\sim Unif[0,1]$\n",
    "\n",
    "$x_2 \\sim Normal(0.5,0.2)$\n",
    "\n",
    "$x_3 \\sim Unif[2,3]$\n",
    "\n",
    "with all of teh $x_j$ mutually independent."
   ]
  },
  {
   "cell_type": "markdown",
   "metadata": {},
   "source": [
    "1 (a): Generate an Lattin Hypercube Sample of size $n=1000$ and make scatterplots for the output versus the 3 input variables.\n",
    "\n",
    "1 (b): Use the Sobol method to conduct sensitivity analsyis and calculate the total effect variance indices for the three inputs using the Sobol method. \n",
    "\n",
    "1 (c): Use pie chart or bin chart to visualize the total effect variance indices. \n",
    "\n",
    "Hint: You can use the Python Sensitivity Analysis Library https://github.com/SALib/SALib or you can use the R sensitivity package https://cran.r-project.org/web/packages/sensitivity/sensitivity.pdf."
   ]
  },
  {
   "cell_type": "markdown",
   "metadata": {},
   "source": [
    "2 Let's reconsider the problem in HW2 (you can use the Python code that you have developed in HW2):\n",
    "\n",
    "\n",
    "Consider the steady state heat equation on a heterogeneous rod with no heat sources:\n",
    "$$\n",
    "\\frac{d}{dx}\\left(c(x)\\frac{d}{dx}T(x)\\right) = 0,\n",
    "$$\n",
    "and boundary values:\n",
    "$$\n",
    "T(0) = 1\\;\\mbox{and}\\;T(1) = 0.\n",
    "$$"
   ]
  },
  {
   "cell_type": "markdown",
   "metadata": {},
   "source": [
    "We are interested in cases in which we are uncertain about the conductivity, $c(x)$.\n",
    "Before we proceed, we need to put together all our prior beliefs and come up with a stochastic model for $c(x)$ that represents our uncertainty.\n",
    "This requires assigning a probability measure on a function space (the subject of [Lecture 9](../lectures/lec_09.ipynb)).\n",
    "For now, we will just give you a model.\n",
    "We will model $c = c(x;\\boldsymbol{\\xi})$ as:\n",
    "$$\n",
    "c(x;\\boldsymbol{\\xi}) = c_0(x)\\exp\\{g(x;\\boldsymbol{\\xi})\\},\n",
    "$$\n",
    "where $k_0(x)$ is a \"mean\" conductivity level and $g(x;\\boldsymbol{\\xi})$ is a random field.\n",
    "The reason for the exponential is that $k(x;\\boldsymbol{x})$ must be positive.\n",
    "Assume that $g(x;\\boldsymbol{\\xi})$ has the following form:\n",
    "$$\n",
    "g(x;\\boldsymbol{\\xi}) = \\sum_{i=1}^\\infty\\xi_i\\phi_i(x),\n",
    "$$\n",
    "where $\\phi_i(x)$ are functions of $x$ and $\\xi_i$ are independent standard normal random variables with zero mean and unit variance.\n",
    "For this particular example, we will assume that:\n",
    "$$\n",
    "\\phi_i(x) = \\frac{\\sqrt{2}\\sigma}{(i - \\frac{1}{2})\\pi}\\sin\\left((i-\\frac{1}{2})\\pi x\\right),\n",
    "$$\n",
    "where $\\sigma>0$ is a parameter controlling the variance of the random field.\n",
    "For the record, this corresponds to a random field known as the [Wiener-Lévy process](https://en.wikipedia.org/wiki/Wiener_process).\n",
    "Since, we cannot actually work with the infinite sums, let's truncate at $i=d$ and define:\n",
    "$$\n",
    "g_d(x;\\boldsymbol{\\xi}) = \\sum_{i=1}^d\\xi_i\\phi_i(x).\n",
    "$$\n",
    "Let's implement the field:"
   ]
  },
  {
   "cell_type": "code",
   "execution_count": 2,
   "metadata": {
    "collapsed": false
   },
   "outputs": [
    {
     "name": "stderr",
     "output_type": "stream",
     "text": [
      "C:\\Users\\Guang\\Anaconda2\\lib\\site-packages\\matplotlib\\__init__.py:872: UserWarning: axes.color_cycle is deprecated and replaced with axes.prop_cycle; please use the latter.\n",
      "  warnings.warn(self.msg_depr % (key, alt_key))\n"
     ]
    }
   ],
   "source": [
    "import numpy as np\n",
    "import math\n",
    "import matplotlib.pyplot as plt\n",
    "import seaborn as sns\n",
    "%matplotlib inline\n",
    "\n",
    "# This computes the random field given a xi\n",
    "def g(x, xi, sigma=1.):\n",
    "    \"\"\"\n",
    "    Arguments:\n",
    "    x     -   One dimensional vector containing the points at which you wish to evaluate the field.\n",
    "    xi    -   One dimensional vector of the random variables. The dimensionality of this vector\n",
    "              corresponds to the ``d`` in the math above.\n",
    "    sigma -   This is the variance of the field.\n",
    "    \"\"\"\n",
    "    res = np.zeros(x.shape[0])\n",
    "    d = xi.shape[0]\n",
    "    for i in xrange(d):\n",
    "        res += xi[i] * math.sqrt(2) * sigma / (i - .5) / math.pi * np.sin((i - .5) * math.pi * x)\n",
    "    return res"
   ]
  },
  {
   "cell_type": "code",
   "execution_count": 4,
   "metadata": {
    "collapsed": false
   },
   "outputs": [
    {
     "data": {
      "image/png": "[encoded data removed]",
      "text/plain": [
       "<matplotlib.figure.Figure at 0xa25c9b0>"
      ]
     },
     "metadata": {},
     "output_type": "display_data"
    }
   ],
   "source": [
    "# Take some samples now\n",
    "x = np.linspace(0, 1, 100)\n",
    "d = 10\n",
    "fig, ax = plt.subplots()\n",
    "for i in xrange(10):\n",
    "    xi = np.random.randn(d)\n",
    "    ax.plot(x, np.exp(g(x, xi)), color=sns.color_palette()[0], linewidth=0.5)\n",
    "plt.show()"
   ]
  },
  {
   "cell_type": "markdown",
   "metadata": {},
   "source": [
    "We need to create a solver. We will develop a solver based on the [finite volume method](https://en.wikipedia.org/wiki/Finite_volume_method) using [FiPy](http://www.ctcms.nist.gov/fipy).\n",
    "You have to install the following packages:\n",
    "```\n",
    "pip install ez_setup\n",
    "pip install fipy\n",
    "```\n",
    "Here is the solver:"
   ]
  },
  {
   "cell_type": "code",
   "execution_count": null,
   "metadata": {
    "collapsed": true
   },
   "outputs": [],
   "source": [
    "import fipy\n",
    "\n",
    "class SteadyStateHeat1DSolver(object):\n",
    "    \n",
    "    \"\"\"\n",
    "    Solves the 1D steady state heat equation with dirichlet boundary conditions.\n",
    "    It uses the stochastic model we developed above to define the random conductivity.\n",
    "    \n",
    "    Arguments:\n",
    "    nx          -    Number of grid points\n",
    "    value_left  -    The value at the left side of the boundary.\n",
    "    value_right -    The value at the right side of the boundary.\n",
    "    \"\"\"\n",
    "    \n",
    "    def __init__(self, nx=100, value_left=1., value_right=0.):\n",
    "        self.nx = nx\n",
    "        self.dx = 1. / nx\n",
    "        self.mesh = fipy.Grid1D(nx=self.nx, dx=self.dx)\n",
    "        self.phi = fipy.CellVariable(name='$T(x)$', mesh=self.mesh, value=0.)\n",
    "        self.C = fipy.FaceVariable(name='$C(x)$', mesh=self.mesh, value=1.)\n",
    "        self.phi.constrain(value_left, self.mesh.facesLeft)\n",
    "        self.phi.constrain(value_right, self.mesh.facesRight)\n",
    "        self.eq = fipy.DiffusionTerm(coeff=self.C)\n",
    "        \n",
    "    def __call__(self, xi):\n",
    "        \"\"\"\n",
    "        Evaluates the code at a specific xi.\n",
    "        \"\"\"\n",
    "        x = self.mesh.faceCenters.value.flatten()\n",
    "        g_val = g(x, xi)\n",
    "        self.C.setValue(np.exp(g_val))\n",
    "        self.eq.solve(var=self.phi)\n",
    "        return self.phi.value.flatten()"
   ]
  },
  {
   "cell_type": "markdown",
   "metadata": {},
   "source": [
    "The output quantity of interest is $T(x=0.5)$. Consider the number of dimensionality for $c(x;\\xi)$ is $10$. \n",
    "\n",
    "Question: \n",
    "2 (a): Generate an Lattin Hypercube Sample of size $n=100$.\n",
    "\n",
    "2 (b): Use the Sobol method to conduct sensitivity analsyis and calculate the total effect variance indices for the $10$ inputs using the Sobol method with respect to the output quantity of interest $T(x=0.5)$. \n",
    "\n",
    "2 (c): Use pie chart or bin chart to visualize the total effect variance indices. \n",
    "\n",
    "Hint: You can use the Python Sensitivity Analysis Library https://github.com/SALib/SALib or you can use the R sensitivity package https://cran.r-project.org/web/packages/sensitivity/sensitivity.pdf.\n"
   ]
  },
  {
   "cell_type": "code",
   "execution_count": null,
   "metadata": {
    "collapsed": true
   },
   "outputs": [],
   "source": []
  }
 ],
 "metadata": {
  "kernelspec": {
   "display_name": "Python 2",
   "language": "python",
   "name": "python2"
  },
  "language_info": {
   "codemirror_mode": {
    "name": "ipython",
    "version": 2
   },
   "file_extension": ".py",
   "mimetype": "text/x-python",
   "name": "python",
   "nbconvert_exporter": "python",
   "pygments_lexer": "ipython2",
   "version": "2.7.11"
  },
  "latex_envs": {
   "bibliofile": "biblio.bib",
   "cite_by": "apalike",
   "current_citInitial": 1,
   "eqLabelWithNumbers": true,
   "eqNumInitial": 0
  }
 },
 "nbformat": 4,
 "nbformat_minor": 0
}

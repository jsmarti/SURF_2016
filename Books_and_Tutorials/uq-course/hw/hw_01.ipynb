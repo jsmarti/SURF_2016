{
 "cells": [
  {
   "cell_type": "markdown",
   "metadata": {},
   "source": [
    "# Homework 1\n",
    "\n",
    "Covers Lectures [1](../lectures/lec_01.ipynb), [2](../lectures/lec_02.ipynb), and [3](../lectures/lec_02.ipynb). To solve the following excercises use:\n",
    "+ Common sense\n",
    "+ The obvious, the product, and the sum rules of probability."
   ]
  },
  {
   "cell_type": "markdown",
   "metadata": {
    "collapsed": true
   },
   "source": [
    "1. This exercise demonstrates the probability theory is actually an extension of logic. Assume that you know that \"A implies B\". That is, your prior information is:\n",
    "   $$\n",
    "   I = \\{A\\implies B\\}.\n",
    "   $$\n",
    "   Show that:\n",
    "     1. $p(AB|I) = p(A|I)$ (use common sense).\n",
    "     2. If $p(A|I) = 1$, then $p(B|I) = 1$.\n",
    "     3. If $p(B|I) = 0$, then $p(A|I) = 0$.\n",
    "     4. B and C show that probability theory is consistent with Aristotelian logic. Now, you will discover how it extends it. Show that if B is true, then A becomes more plausible, i.e.\n",
    "      $$\n",
    "      p(A|BI) \\ge p(A|I).\n",
    "      $$\n",
    "     5. Give at least two examples of D that apply to various scientific fields. To get you started, here are two examples:\n",
    "       1. A: It is raining. B: There are clouds in the sky. Clearly, $A\\implies B$. D tells us that if there are clouds in the sky, raining becomes more plausible.\n",
    "       2. A: General  relativity. B: Light is deflected in the presence of massive bodies. Here $A\\implies B$. Observing that B is true makes A more plausible.\n",
    "     6. Show that if A is false, then B becomes less plausible.\n",
    "        $$\n",
    "        P(B|\\neg A I) \\le p(B|I).\n",
    "        $$\n",
    "     7. Can you think of an example of scientific reasoning that involves F? For example:\n",
    "        1. A: It is raining. B: There are clouds in the sky. F tells us that if it is not raining, then it is less plausible that there are clouds in the sky.\n",
    "     7. Do D and F contradict Karl Popper's *principle of falsification*, \"A theory in the empirical sciences can never be proven, but it can be falsified, meaning that it can and should be scrutinized by decisive experiments.\" Source: [Wikipedia](https://en.wikipedia.org/wiki/Karl_Popper))\n",
    "\n",
    "2. Consider the medical diagnosis example of [Lecture 2](../lectures/lec_02.ipynb).\n",
    "    1. Compute the probability that a patient that tested negative has tuberculosis. Does the test change our prior state of knowledge about about the patient?\n",
    "    2. What would a good test look like? Find values for $p(A|B,I) = p(\\mbox{test is positive}|\\mbox{has tuberculosis},I)$ and $p(A|\\neg B, I) = p(\\mbox{test is positive}|\\mbox{does not have tuberculosis}, I)$, so that $p(B|A,I) = p(\\mbox{has tuberculosis}|\\mbox{test is positive},I) = 0.99$. There are more than one solutions. How would you pick a good one? Thinking in this way can help you set goals if you work in R&D. If you have time, try to figure out whether or not there exists such an accurate test for tuberculosis.\n",
    "\n",
    "3. Let $A$ and $B$ be independent conditional on $I$. Prove that:\n",
    "$$\n",
    "A\\perp B|I \\iff p(AB|I) = p(A|I)p(B|I).\n",
    "$$\n",
    "Hint: Use the fact that $A\\perp B|I$ *means* $p(A|B,I) = p(A|I)$ \n",
    "(or $p(B|A,I) = p(B|I)$).\n",
    "\n",
    "3. Let $X$ be a continuous random variable and $F(x) = p(X \\le x)$ be its cummulative distribution function. Using only the basic rules of probability, prove that:\n",
    "    1. The CDF starts at zero and goes up to one:\n",
    "$$\n",
    "F(-\\infty) = 0\\;\\mbox{and}\\;F(+\\infty) = 1.\n",
    "$$\n",
    "\n",
    "    2. $F(x)$ is an increasing function of $x$, i.e.,\n",
    "$$\n",
    "x_1 \\le x_2 \\implies F(x_1)\\le F(x_2).\n",
    "$$\n",
    "\n",
    "    3. The probability of $X$ being in the interval $[x_1,x_2]$ is:\n",
    "$$\n",
    "p(x_1 \\le X \\le x_2|I) = F(x_2) - F(x_1).\n",
    "$$\n",
    "\n",
    "4. Let $X$ be a random variable. Prove that:\n",
    "$$\n",
    "\\mathbb{V}[X] = \\mathbb{E}[X^2] - \\left(\\mathbb{E}[X]\\right)^2.\n",
    "$$\n",
    "\n",
    "5. Let $X$ be the following random variable:\n",
    "$$\n",
    "X = \\begin{cases}\n",
    "1,& \\theta,\\\\\n",
    "0,& 1-\\theta,\n",
    "\\end{cases}\n",
    "$$\n",
    "Compute its variance $\\mathbb{V}[X]$.\n",
    "\n",
    "6. Let $X | a, b\\sim \\mbox{Beta}(X|a,b)$. Use the properties of the [Beta function](https://en.wikipedia.org/wiki/Beta_function) to compute by integration $\\mathbb{E}[X|a,b]$ and $\\mathbb{V}[X|a,b]$.\n",
    "\n",
    "7. Let's say that you wish to analyze a coin flipping experiment and you do not know what the probability of getting heads, $\\theta$, is. Therefore, you have to model $\\theta$ as a random variable and assign a probability density to it. Since $\\theta$ takes values between 0 and 1, you decide to assign a Beta distribution to it. Using the corresponding interactive tool of [Lecture 3](../lectures/lec_03.ipynb), try to find parameters $a$ and $b$ that describe the following states of knowledge:\n",
    "    + The coin is fair.\n",
    "    + The coin is slightly biased towards heads.\n",
    "    + The coin is slightly biased towards tails.\n",
    "    + The coin is definitely biased towards heads.\n",
    "    + The coin is definitely biased towards tails.\n",
    "    + The coin is definitely biased, but I don't know how."
   ]
  },
  {
   "cell_type": "code",
   "execution_count": null,
   "metadata": {
    "collapsed": true
   },
   "outputs": [],
   "source": []
  }
 ],
 "metadata": {
  "kernelspec": {
   "display_name": "Python 2",
   "language": "python",
   "name": "python2"
  },
  "language_info": {
   "codemirror_mode": {
    "name": "ipython",
    "version": 2
   },
   "file_extension": ".py",
   "mimetype": "text/x-python",
   "name": "python",
   "nbconvert_exporter": "python",
   "pygments_lexer": "ipython2",
   "version": "2.7.11"
  },
  "latex_envs": {
   "bibliofile": "biblio.bib",
   "cite_by": "apalike",
   "current_citInitial": 1,
   "eqLabelWithNumbers": true,
   "eqNumInitial": 0
  }
 },
 "nbformat": 4,
 "nbformat_minor": 0
}

{
 "metadata": {
  "name": "",
  "signature": "sha256:09f0c4a23d19d83f45364ecc8716c8aa9c856558700596c9958e01dee08cc31a"
 },
 "nbformat": 3,
 "nbformat_minor": 0,
 "worksheets": [
  {
   "cells": [
    {
     "cell_type": "heading",
     "level": 1,
     "metadata": {},
     "source": [
      "08/05/15  Theano day!  "
     ]
    },
    {
     "cell_type": "heading",
     "level": 2,
     "metadata": {},
     "source": [
      "Notes on the theano day organized in the group by James, Zhenwen and Andreas."
     ]
    },
    {
     "cell_type": "heading",
     "level": 2,
     "metadata": {},
     "source": [
      "Written by Alessandra Tosi, Fariba Yusefi and Javier Gonzalez"
     ]
    },
    {
     "cell_type": "code",
     "collapsed": false,
     "input": [
      "# Import Theano to start! \n",
      "import theano\n",
      "import GPy\n",
      "from theano import tensor as T\n",
      "import numpy as np"
     ],
     "language": "python",
     "metadata": {},
     "outputs": [],
     "prompt_number": 1
    },
    {
     "cell_type": "heading",
     "level": 2,
     "metadata": {},
     "source": [
      "1. Getting started"
     ]
    },
    {
     "cell_type": "code",
     "collapsed": false,
     "input": [
      "# Create a two dimensioanal array\n",
      "X = T.matrix()"
     ],
     "language": "python",
     "metadata": {},
     "outputs": [],
     "prompt_number": 2
    },
    {
     "cell_type": "code",
     "collapsed": false,
     "input": [
      "# Sum of the elements (even when is empty)\n",
      "f = T.sum(T.square(X))\n",
      "f"
     ],
     "language": "python",
     "metadata": {},
     "outputs": [
      {
       "metadata": {},
       "output_type": "pyout",
       "prompt_number": 3,
       "text": [
        "Sum.0"
       ]
      }
     ],
     "prompt_number": 3
    },
    {
     "cell_type": "code",
     "collapsed": false,
     "input": [
      "# Define theano function using f and X\n",
      "my_func = theano.function([X], f) "
     ],
     "language": "python",
     "metadata": {},
     "outputs": [],
     "prompt_number": 4
    },
    {
     "cell_type": "code",
     "collapsed": false,
     "input": [
      "# Generate some values for X and evaluate\n",
      "X_values = np.random.randn(3,4)\n",
      "my_func(X_values) "
     ],
     "language": "python",
     "metadata": {},
     "outputs": [
      {
       "metadata": {},
       "output_type": "pyout",
       "prompt_number": 5,
       "text": [
        "array(12.963304040797144)"
       ]
      }
     ],
     "prompt_number": 5
    },
    {
     "cell_type": "code",
     "collapsed": false,
     "input": [
      "# Define gradients\n",
      "g = theano.grad(f,X)"
     ],
     "language": "python",
     "metadata": {},
     "outputs": [],
     "prompt_number": 6
    },
    {
     "cell_type": "code",
     "collapsed": false,
     "input": [
      "# Compute the derivarives\n",
      "mu_new_func = theano.function([X], [f,g]) "
     ],
     "language": "python",
     "metadata": {},
     "outputs": [],
     "prompt_number": 7
    },
    {
     "cell_type": "code",
     "collapsed": false,
     "input": [
      "# Theano derivatives\n",
      "mu_new_func(X_values)"
     ],
     "language": "python",
     "metadata": {},
     "outputs": [
      {
       "metadata": {},
       "output_type": "pyout",
       "prompt_number": 8,
       "text": [
        "[array(12.963304040797144),\n",
        " array([[-2.38163752, -2.16098669, -0.87717575,  0.69632923],\n",
        "        [ 2.54935613, -1.25319369,  0.35672432, -1.84071505],\n",
        "        [ 0.31138535, -2.65571952,  1.61767688,  4.34798378]])]"
       ]
      }
     ],
     "prompt_number": 8
    },
    {
     "cell_type": "code",
     "collapsed": false,
     "input": [
      "# Exact derivatives\n",
      "X_values*2 "
     ],
     "language": "python",
     "metadata": {},
     "outputs": [
      {
       "metadata": {},
       "output_type": "pyout",
       "prompt_number": 9,
       "text": [
        "array([[-2.38163752, -2.16098669, -0.87717575,  0.69632923],\n",
        "       [ 2.54935613, -1.25319369,  0.35672432, -1.84071505],\n",
        "       [ 0.31138535, -2.65571952,  1.61767688,  4.34798378]])"
       ]
      }
     ],
     "prompt_number": 9
    },
    {
     "cell_type": "heading",
     "level": 2,
     "metadata": {},
     "source": [
      "2. Linear regression"
     ]
    },
    {
     "cell_type": "code",
     "collapsed": false,
     "input": [
      "# Define the elements of the regression\n",
      "w = T.dvector()\n",
      "Xw = T.dot(X,w)\n",
      "y = T.dvector()\n",
      "error = T.sum(T.square(y-Xw))\n",
      "sigma = T.dscalar()\n",
      "neg_log_lik = 0.5*y.size*np.log(2*np.pi) + 0.5*y.size*T.log(sigma**2) + 0.5*error/sigma**2 "
     ],
     "language": "python",
     "metadata": {},
     "outputs": [],
     "prompt_number": 10
    },
    {
     "cell_type": "code",
     "collapsed": false,
     "input": [
      "# Create objective\n",
      "my_func = theano.function([X, y, sigma, w], [neg_log_lik, theano.grad(neg_log_lik, w), theano.grad(neg_log_lik, sigma)]) "
     ],
     "language": "python",
     "metadata": {},
     "outputs": [],
     "prompt_number": 11
    },
    {
     "cell_type": "code",
     "collapsed": false,
     "input": [
      "# test with data\n",
      "w_true = np.random.randn(2)\n",
      "X_values = np.random.randn(200,2)   \n",
      "y = np.dot(X_values, w_true) + np.random.randn(200)*0.01\n",
      "y_values = np.dot(X_values, w_true) + np.random.randn(200)*0.01"
     ],
     "language": "python",
     "metadata": {},
     "outputs": [],
     "prompt_number": 12
    },
    {
     "cell_type": "code",
     "collapsed": false,
     "input": [
      "# evaluate likelihood, gradiends with respect to w and gradients with respect to sigma\n",
      "my_func(X_values, y_values , 0.02, np.array([1,1])) "
     ],
     "language": "python",
     "metadata": {},
     "outputs": [
      {
       "metadata": {},
       "output_type": "pyout",
       "prompt_number": 13,
       "text": [
        "[array(1740553.6503363969),\n",
        " array([ 1130920.6618946 ,   756385.18434244]),\n",
        " array(-174105226.72308418)]"
       ]
      }
     ],
     "prompt_number": 13
    },
    {
     "cell_type": "heading",
     "level": 2,
     "metadata": {},
     "source": [
      "3. Team work (Alessandra, Fariba and Javier): implementing an RBF kernel in GPy using theano"
     ]
    },
    {
     "cell_type": "code",
     "collapsed": false,
     "input": [
      "# elements of the kernel\n",
      "X   = T.matrix()\n",
      "Z   = T.matrix()\n",
      "len_scale  = T.dscalar()\n",
      "sigma2  = T.dscalar()"
     ],
     "language": "python",
     "metadata": {},
     "outputs": [],
     "prompt_number": 14
    },
    {
     "cell_type": "code",
     "collapsed": false,
     "input": [
      "# create the RBF kernel\n",
      "r2 = ((X[:,None,:]/len_scale - Z[None,:,:]/len_scale)**2).sum(2)\n",
      "rbf_kernel = sigma2*T.exp(-0.5*r2)"
     ],
     "language": "python",
     "metadata": {},
     "outputs": [],
     "prompt_number": 15
    },
    {
     "cell_type": "code",
     "collapsed": false,
     "input": [
      "# Create the theano functions for r2 and the kernel\n",
      "r2_eval   = theano.function([X,Z,len_scale],[r2])\n",
      "kern_eval = theano.function([X,Z,len_scale,sigma2],[rbf_kernel])"
     ],
     "language": "python",
     "metadata": {},
     "outputs": [],
     "prompt_number": 16
    },
    {
     "cell_type": "code",
     "collapsed": false,
     "input": [
      "# Generate some data to evaluate r2 and the kernel\n",
      "X_val = np.random.randn(4,2)\n",
      "Z_val = np.random.randn(6,2)\n",
      "sigma2_val  = 1\n",
      "len_scale_val = 2"
     ],
     "language": "python",
     "metadata": {},
     "outputs": [],
     "prompt_number": 17
    },
    {
     "cell_type": "code",
     "collapsed": false,
     "input": [
      "# Distances evaluation!!! Order of the arguments should match\n",
      "r2_eval(X_val,Z_val,len_scale_val)"
     ],
     "language": "python",
     "metadata": {},
     "outputs": [
      {
       "metadata": {},
       "output_type": "pyout",
       "prompt_number": 18,
       "text": [
        "[array([[ 0.11363081,  0.02207483,  0.26821606,  0.33116141,  0.28348765,\n",
        "          1.18291004],\n",
        "        [ 0.47115938,  0.14625441,  0.84486132,  0.57121556,  0.13850336,\n",
        "          0.89131393],\n",
        "        [ 0.21376622,  0.34201811,  0.04655479,  0.6857568 ,  0.98337181,\n",
        "          2.25323581],\n",
        "        [ 0.3233845 ,  0.7621669 ,  0.23656762,  0.48814614,  1.35426331,\n",
        "          2.07027349]])]"
       ]
      }
     ],
     "prompt_number": 18
    },
    {
     "cell_type": "code",
     "collapsed": false,
     "input": [
      "# Kernel evaluation\n",
      "kern_eval(X_val,Z_val,len_scale_val,sigma2_val)"
     ],
     "language": "python",
     "metadata": {},
     "outputs": [
      {
       "metadata": {},
       "output_type": "pyout",
       "prompt_number": 19,
       "text": [
        "[array([[ 0.94476845,  0.98902328,  0.87449559,  0.84740147,  0.86784355,\n",
        "          0.55352131],\n",
        "        [ 0.7901127 ,  0.92948259,  0.6554517 ,  0.75155733,  0.93309181,\n",
        "          0.64040341],\n",
        "        [ 0.89863071,  0.84281394,  0.97699143,  0.70972451,  0.61159444,\n",
        "          0.32412763],\n",
        "        [ 0.85070297,  0.68312088,  0.88844387,  0.78343039,  0.50807223,\n",
        "          0.35517781]])]"
       ]
      }
     ],
     "prompt_number": 19
    },
    {
     "cell_type": "code",
     "collapsed": false,
     "input": [
      "# We check that it matches with the same GPy kernel"
     ],
     "language": "python",
     "metadata": {},
     "outputs": [],
     "prompt_number": 20
    },
    {
     "cell_type": "code",
     "collapsed": false,
     "input": [
      "kernelGPy = GPy.kern.RBF(2, variance = sigma2_val, lengthscale=len_scale_val)"
     ],
     "language": "python",
     "metadata": {},
     "outputs": [],
     "prompt_number": 21
    },
    {
     "cell_type": "code",
     "collapsed": false,
     "input": [
      "kernelGPy.K(X_val,Z_val)"
     ],
     "language": "python",
     "metadata": {},
     "outputs": [
      {
       "metadata": {},
       "output_type": "pyout",
       "prompt_number": 22,
       "text": [
        "array([[ 0.94476845,  0.98902328,  0.87449559,  0.84740147,  0.86784355,\n",
        "         0.55352131],\n",
        "       [ 0.7901127 ,  0.92948259,  0.6554517 ,  0.75155733,  0.93309181,\n",
        "         0.64040341],\n",
        "       [ 0.89863071,  0.84281394,  0.97699143,  0.70972451,  0.61159444,\n",
        "         0.32412763],\n",
        "       [ 0.85070297,  0.68312088,  0.88844387,  0.78343039,  0.50807223,\n",
        "         0.35517781]])"
       ]
      }
     ],
     "prompt_number": 22
    },
    {
     "cell_type": "markdown",
     "metadata": {},
     "source": [
      "So, it works!"
     ]
    },
    {
     "cell_type": "code",
     "collapsed": false,
     "input": [
      "# We calculate the derivatives of our kernel with respect to sigma2\n",
      "dL_dK = T.matrix()\n",
      "h =  T.sum(dL_dK * rbf_kernel) "
     ],
     "language": "python",
     "metadata": {},
     "outputs": [],
     "prompt_number": 24
    },
    {
     "cell_type": "code",
     "collapsed": false,
     "input": [
      "# Define gradients with respect to sigma2\n",
      "grads_wrt_sigma2 = theano.grad(h,sigma2)\n",
      "grads_wrt_sigma2_eval = theano.function([X,Z,len_scale,sigma2,dL_dK],grads_wrt_sigma2)"
     ],
     "language": "python",
     "metadata": {},
     "outputs": [],
     "prompt_number": 25
    },
    {
     "cell_type": "code",
     "collapsed": false,
     "input": [
      "# Define gradients with respect to the lengthscale\n",
      "grads_wrt_lengthscale = theano.grad(h,len_scale)\n",
      "grads_wrt_lengthscale_eval = theano.function([X,Z,len_scale,sigma2,dL_dK],grads_wrt_lengthscale)"
     ],
     "language": "python",
     "metadata": {},
     "outputs": [],
     "prompt_number": 26
    },
    {
     "cell_type": "code",
     "collapsed": false,
     "input": [
      "# Define gradients with respect to X\n",
      "grads_wrt_X= theano.grad(h,X)\n",
      "grads_wrt_X_eval = theano.function([X,Z,len_scale,sigma2,dL_dK],grads_wrt_X)"
     ],
     "language": "python",
     "metadata": {},
     "outputs": [],
     "prompt_number": 28
    },
    {
     "cell_type": "code",
     "collapsed": false,
     "input": [
      "# All gradients together\n",
      "grads_all_eval = theano.function([X,Z,len_scale,sigma2,dL_dK], [grads_wrt_sigma2, grads_wrt_lengthscale, grads_wrt_X])"
     ],
     "language": "python",
     "metadata": {},
     "outputs": [],
     "prompt_number": 29
    },
    {
     "cell_type": "code",
     "collapsed": false,
     "input": [
      "# We test the result in a simple GPy model\n",
      "import GPy\n",
      "from matplotlib import pyplot as plt"
     ],
     "language": "python",
     "metadata": {},
     "outputs": [],
     "prompt_number": 30
    },
    {
     "cell_type": "code",
     "collapsed": false,
     "input": [
      "# Some data\n",
      "x = np.linspace(-np.pi, np.pi, 201)[:,None]\n",
      "y = np.sin(x) + np.random.rand(201)[:,None]"
     ],
     "language": "python",
     "metadata": {},
     "outputs": [],
     "prompt_number": 31
    },
    {
     "cell_type": "code",
     "collapsed": false,
     "input": [
      "# plot the model\n",
      "%pylab inline\n",
      "model = GPy.models.GPRegression(x,y)\n",
      "model.optimize()\n",
      "model.plot()"
     ],
     "language": "python",
     "metadata": {},
     "outputs": [
      {
       "output_type": "stream",
       "stream": "stdout",
       "text": [
        "Populating the interactive namespace from numpy and matplotlib\n"
       ]
      },
      {
       "output_type": "stream",
       "stream": "stderr",
       "text": [
        "WARNING: pylab import has clobbered these variables: ['f']\n",
        "`%matplotlib` prevents importing * from pylab and numpy\n"
       ]
      },
      {
       "metadata": {},
       "output_type": "pyout",
       "prompt_number": 33,
       "text": [
        "{'dataplot': [<matplotlib.lines.Line2D at 0x5d0c110>],\n",
        " 'gpplot': [[<matplotlib.lines.Line2D at 0x5d0a090>],\n",
        "  [<matplotlib.patches.Polygon at 0x5d0a290>],\n",
        "  [<matplotlib.lines.Line2D at 0x5d0a7d0>],\n",
        "  [<matplotlib.lines.Line2D at 0x5d0abd0>]]}"
       ]
      },
      {
       "metadata": {},
       "output_type": "display_data",
       "png": "[encoded data removed]",
       "text": [
        "<matplotlib.figure.Figure at 0x58b9850>"
       ]
      }
     ],
     "prompt_number": 33
    },
    {
     "cell_type": "code",
     "collapsed": false,
     "input": [
      "## Class of kernels for GPy using theano (that uses our grads_all_eval)\n",
      "\n",
      "class TheanoKern(GPy.kern.Kern):\n",
      "    def __init__(self, input_dim, variance=1., lengthscale=1.):\n",
      "        GPy.kern.Kern.__init__(self, input_dim, active_dims=None, name='theanokern')\n",
      "        self.var = GPy.core.Param('variance', variance)\n",
      "        self.ls = GPy.core.Param('lengthscale', lengthscale)\n",
      "        self.link_parameters(self.var, self.ls)\n",
      "        # Add here a function which initializes all the theano symbolic functions\n",
      "        \n",
      "    def K(self, X, X2=None):\n",
      "        if X2 is None:\n",
      "            X2 = X\n",
      "        return kern_eval(X, X2, self.ls[0], self.var[0])[0]\n",
      "    \n",
      "    def Kdiag(self, X):\n",
      "        return np.diag(self.K(X))\n",
      "    \n",
      "    def update_gradients_full(self, dL_dK, X, X2=None):\n",
      "        if X2 is None:\n",
      "            X2 = X\n",
      "        dvar, dl, dX = grads_all_eval(X, X2, self.ls[0], self.var[0], dL_dK)\n",
      "        self.var.gradient = dvar\n",
      "        self.ls.gradient = dl \n",
      "    \n",
      "    def gradients_X(self, dL_dK, X, X2=None):\n",
      "        if X2 is None:\n",
      "            X2 = X\n",
      "        return grads_wrt_X_eval(X, X2, self.ls[0], self.var[0], dL_dK)\n",
      "    \n",
      "    def update_gradients_diag(self, dL_dKdiag, X):\n",
      "        pass"
     ],
     "language": "python",
     "metadata": {},
     "outputs": [],
     "prompt_number": 81
    },
    {
     "cell_type": "code",
     "collapsed": false,
     "input": [
      "# Create our theano kernel\n",
      "k = TheanoKern(2)\n",
      "k.K(X_val)"
     ],
     "language": "python",
     "metadata": {},
     "outputs": [
      {
       "metadata": {},
       "output_type": "pyout",
       "prompt_number": 70,
       "text": [
        "array([[ 1.        ,  0.7246144 ,  0.63578887,  0.20724078],\n",
        "       [ 0.7246144 ,  1.        ,  0.22850941,  0.04283463],\n",
        "       [ 0.63578887,  0.22850941,  1.        ,  0.3758315 ],\n",
        "       [ 0.20724078,  0.04283463,  0.3758315 ,  1.        ]])"
       ]
      }
     ],
     "prompt_number": 70
    },
    {
     "cell_type": "code",
     "collapsed": false,
     "input": [
      "# model\n",
      "m = GPy.models.GPRegression(x, y, kernel=TheanoKern(1))"
     ],
     "language": "python",
     "metadata": {},
     "outputs": [],
     "prompt_number": 83
    },
    {
     "cell_type": "code",
     "collapsed": false,
     "input": [
      "# Ckeck with the gradients\n",
      "m.checkgrad(1)"
     ],
     "language": "python",
     "metadata": {},
     "outputs": [
      {
       "output_type": "stream",
       "stream": "stdout",
       "text": [
        "                     Name                      |     Ratio     |  Difference   |  Analytical   |   Numerical   |   dF_ratio    \n",
        "-------------------------------------------------------------------------------------------------------------------------------\n",
        "\u001b[92m GP_regression.theanokern.variance[[0]] \u001b[0m       |   1.000000    |   0.000000    |   1.896246    |   1.896246    |     2e-08     \n",
        "\u001b[92m GP_regression.theanokern.lengthscale[[0]] \u001b[0m    |   1.000000    |   0.000000    |   -5.847597   |   -5.847597   |     6e-08     \n",
        "\u001b[92m GP_regression.Gaussian_noise.variance[[0]] \u001b[0m   |   1.000000    |   0.000000    |   56.397305   |   56.397305   |     6e-07     \n"
       ]
      },
      {
       "metadata": {},
       "output_type": "pyout",
       "prompt_number": 84,
       "text": [
        "True"
       ]
      }
     ],
     "prompt_number": 84
    },
    {
     "cell_type": "markdown",
     "metadata": {},
     "source": [
      "Done! :)"
     ]
    },
    {
     "cell_type": "code",
     "collapsed": false,
     "input": [],
     "language": "python",
     "metadata": {},
     "outputs": []
    },
    {
     "cell_type": "code",
     "collapsed": false,
     "input": [],
     "language": "python",
     "metadata": {},
     "outputs": []
    },
    {
     "cell_type": "code",
     "collapsed": false,
     "input": [],
     "language": "python",
     "metadata": {},
     "outputs": []
    }
   ],
   "metadata": {}
  }
 ]
}
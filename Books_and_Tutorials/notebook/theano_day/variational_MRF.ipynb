{
 "cells": [
  {
   "cell_type": "markdown",
   "metadata": {},
   "source": [
    "# 08/05/15  Example of variational inference using Theano (for Markov Random Fields)!  "
   ]
  },
  {
   "cell_type": "markdown",
   "metadata": {},
   "source": [
    "## Written by Andreas Damianou, James Hensman, Srijith Prabhakaran, Varvara Logacheva, Alan Saul, Zhenwen Dai"
   ]
  },
  {
   "cell_type": "markdown",
   "metadata": {},
   "source": [
    "This is a simple example on using Theano to implement a simple probabilistic model. The greatest advantage of using Theano, is that we don't have to compute the analytic gradients for optimising the model. \n",
    "\n",
    "This notebook is indended to demonstrate the basic functionality, errors/bugs are likely to be present!! If you find bugs/errors, please contact one of the authors!\n"
   ]
  },
  {
   "cell_type": "markdown",
   "metadata": {},
   "source": [
    "## Markov Random Fields\n",
    "\n",
    "A Markov Random Field (MRF) is an undirected graphical model. We consider nodes in the graph to take values in the set $\\{+1, -1\\}$. A subset of these nodes are instantiations of the latent variable $\\mathbf{x}$, and another subset are instantiations of the observed set $\\mathbf{y}$. Both $x_i, y_i$ take values from $\\{+1, -1\\}$. We can equivalently write $\\mathbf{x} \\in \\Re^{ND\\times 1}$ as a matrix $\\mathbf{X} \\in \\Re^{N \\times D}$, in order to define neighbouring relationships between elements (e.g. $\\mathbf{X}_{2,2}$ has as neighbours $\\mathbf{X}_{1,2},\\mathbf{X}_{2,1},\\mathbf{X}_{2,3}$ and $\\mathbf{X}_{3,2}$). Similarly for $\\mathbf{y}$.\n",
    "\n",
    "Sources:\n",
    "\n",
    "1) Bishop's book (PRML), p. 383 \n",
    "\n",
    "2) MacKay's book (Inf. Theory, Inference and learning algorithms), Variational Inference section (Ising model).\n",
    "\n",
    "\n",
    "The energy function for the model is written as:\n",
    "\\begin{equation}\n",
    "E(\\mathbf{x}, \\mathbf{y}) = h \\sum_i x_i - \\beta \\sum_{\\{i,j\\}} x_i x_j - \\eta \\sum_i x_i y_i  \\; \\; \\; \\text{(1)}\n",
    "\\end{equation}\n",
    "where $h,\\beta,\\eta$ are scalar parameters and $\\{i,j\\}$ in the second summation refers to nodes that are neighbours.\n",
    "\n",
    "The joint distribution over $\\mathbf{x}, \\mathbf{y}$ given the parameters (omitted for clarity), is given from:\n",
    "\n",
    "\\begin{equation}\n",
    "p( \\mathbf{x}, \\mathbf{y} ) = \\frac{1}{Z} \\exp{ \\left(-E(\\mathbf{x}, \\mathbf{y})\\right)}, \\; \\; \\; \\text{(2)}\n",
    "\\end{equation}\n",
    "where $Z$ is the normalisation constant (known as partition function) obtained by summing over all possible values of $\\mathbf{x}$.\n",
    "\n",
    "Next, we will implement the energy function in Theano."
   ]
  },
  {
   "cell_type": "markdown",
   "metadata": {},
   "source": [
    "## Implementation of the energy function in Theano"
   ]
  },
  {
   "cell_type": "code",
   "execution_count": 1,
   "metadata": {
    "collapsed": false
   },
   "outputs": [
    {
     "name": "stdout",
     "output_type": "stream",
     "text": [
      "Couldn't import dot_parser, loading of dot files will not be possible.\n",
      "Populating the interactive namespace from numpy and matplotlib\n"
     ]
    },
    {
     "name": "stderr",
     "output_type": "stream",
     "text": [
      "WARNING: pylab import has clobbered these variables: ['linalg', 'draw_if_interactive', 'random', 'power', 'info', 'fft']\n",
      "`%matplotlib` prevents importing * from pylab and numpy\n"
     ]
    }
   ],
   "source": [
    "# Import Theano\n",
    "import theano\n",
    "# Tensor is the most useful module to import for our purposes. Let's make a shorthand\n",
    "from theano import tensor as T\n",
    "# Let's import other useful libraries\n",
    "import numpy as np\n",
    "import scipy as sp \n",
    "import Image\n",
    "import pylab as pb\n",
    "%pylab inline\n",
    "\n",
    "pb.ion()"
   ]
  },
  {
   "cell_type": "markdown",
   "metadata": {},
   "source": [
    "Tip: if running Theano from the terminal through ipython, it might be helpful for debugging to open ipython using:\n",
    "\n",
    "THEANO_FLAGS='optimize=None' ipython\n",
    "\n",
    "Next we define the actual theano function. The expression to be evaluated (the energy function) is not trivially implemented in one line of code, therefore we might need intermediate variables. However, in the end all we're interested in, is the final symbolic expression for the energy function, and not the intermediate symbolic variables. Therefore, we might create the symbolic function within a python function:"
   ]
  },
  {
   "cell_type": "code",
   "execution_count": 11,
   "metadata": {
    "collapsed": false
   },
   "outputs": [],
   "source": [
    "def build_theano_energy_func():\n",
    "    \"\"\" \n",
    "    All symbolic objects need to be declared with their type before being used.\n",
    "    Here, imatrix is a matrix of integers, d of doubles etc\n",
    "    \"\"\"\n",
    "    X = T.imatrix()\n",
    "    Y = T.imatrix()\n",
    "    b = T.dscalar()\n",
    "    h = T.dscalar()\n",
    "    e = T.dscalar()\n",
    "    \n",
    "    # Implement the second part of the energy function, requiring summation\n",
    "    # over neighbours. A trick (thanks to J. Hensman!) is to do it by summing\n",
    "    # the two \"shifted\" matrices by columns and rows to get partial sums, which\n",
    "    # are then summed together\n",
    "    sum_cols  = T.sum(X[:,:-1]*X[:,1:])\n",
    "    sum_rows  = T.sum(X[:-1,:]*X[1:,:])\n",
    "    sum_XX    = sum_cols + sum_rows\n",
    "    \n",
    "    # The last term of the energy function\n",
    "    sumXY = T.sum(X*Y)\n",
    "    \n",
    "    # The first term plus everything put together\n",
    "    energy_function = h*T.sum(X) - b*sum_XX - e*sumXY\n",
    "    \n",
    "    # The object to be returned is a theano function. Inputs to this function\n",
    "    # are given as a list, and those are the latents, the observed and the\n",
    "    # scalar paramters\n",
    "    return theano.function([X,Y,b,h,e],energy_function,allow_input_downcast=True)\n"
   ]
  },
  {
   "cell_type": "markdown",
   "metadata": {},
   "source": [
    "Let's test it:"
   ]
  },
  {
   "cell_type": "code",
   "execution_count": 12,
   "metadata": {
    "collapsed": true
   },
   "outputs": [],
   "source": [
    "# Create toy data\n",
    "N = 10\n",
    "D = 5\n",
    "\n",
    "# Random values from the choice of -1,1\n",
    "Yval  = np.random.choice([-1,1], (N,D))\n",
    "Xval  = np.random.choice([-1,1], (N,D))\n",
    "RSval = np.random.randn(N,D)\n",
    "b_init = 1\n",
    "h_init = 1\n",
    "e_init = 1"
   ]
  },
  {
   "cell_type": "code",
   "execution_count": 13,
   "metadata": {
    "collapsed": false
   },
   "outputs": [
    {
     "data": {
      "text/plain": [
       "<theano.compile.function_module.Function at 0x7f01f5921e10>"
      ]
     },
     "execution_count": 13,
     "metadata": {},
     "output_type": "execute_result"
    }
   ],
   "source": [
    "f  = build_theano_energy_func()\n",
    "f"
   ]
  },
  {
   "cell_type": "markdown",
   "metadata": {},
   "source": [
    "Successful compilation is a good sign, but many errors actually occur during runtime. Let's call the function then:"
   ]
  },
  {
   "cell_type": "code",
   "execution_count": 14,
   "metadata": {
    "collapsed": false
   },
   "outputs": [
    {
     "data": {
      "text/plain": [
       "array(-7.0)"
      ]
     },
     "execution_count": 14,
     "metadata": {},
     "output_type": "execute_result"
    }
   ],
   "source": [
    "f(Xval, Yval, b_init, h_init, e_init)"
   ]
  },
  {
   "cell_type": "markdown",
   "metadata": {},
   "source": [
    "Seems to work!\n"
   ]
  },
  {
   "cell_type": "markdown",
   "metadata": {},
   "source": [
    "## Mean-field variational inference\n",
    "\n"
   ]
  },
  {
   "cell_type": "markdown",
   "metadata": {},
   "source": [
    "But to train the model, what we want is to not simply evaluate the energy function, but to find the posterior of the parameters given the data. The full posterior is $p(\\mathbf{x}, \\beta,h,\\eta | \\mathbf{y})$. However, to evaluate it we'd need to find the normalising constant $Z$. This is a very difficult problem, because evaluating $Z$ requires marginalisation over $\\mathbf{x}$, i.e. averaging over all possible states for that variable. This cannot be achieved analytically, but instead we can resort to mean-field variational inference. For a certain type of approximating variational distributions, we can approximate the posterior for $\\mathbf{x}$. However, to approximate the full posterior is not easy, because the partition function is a constant with respect to $\\mathbf{x}$ (since it's marginalised out), but still includes $\\beta, h, \\eta$. \n",
    "\n",
    "Therefore, we will assume that these parameters are given and we will only focus on finding the approximate posterior $p(\\mathbf{x} | \\beta, h, \\eta, \\mathbf{y})$. We will also omit the dependence on $\\beta, h, \\eta$ further on, for clarity.\n",
    "\n"
   ]
  },
  {
   "cell_type": "markdown",
   "metadata": {},
   "source": [
    "For a variational distribution $q(\\mathbf{x})$, we want to find:\n",
    "\\begin{align}\n",
    "  & \\text{KL}(q(\\mathbf{x}) || p(\\mathbf{x} | \\mathbf{y}) \\\\\n",
    "= & \\text{KL}\\left( q(\\mathbf{x}) || \\frac{p(\\mathbf{x} , \\mathbf{y})}{p(\\mathbf{y})} \\right) \\\\\n",
    "= & \\langle \\log q(\\mathbf{x}) - \\log p(\\mathbf{x},\\mathbf{y}) \\rangle_{q(\\mathbf{x})} + \\log p(\\mathbf{y}) \\\\\n",
    "& \\langle \\log q(\\mathbf{x}) + E(\\mathbf{x},\\mathbf{y}) \\rangle_{q(\\mathbf{x})} + \\log Z +\\log p(\\mathbf{y})\n",
    "\\end{align}"
   ]
  },
  {
   "cell_type": "markdown",
   "metadata": {},
   "source": [
    "To optimise this expression w.r.t. $\\mathbf{x}$, we drop the two last terms that do not depend on it, and obtain our final objective:\n",
    "\\begin{equation}\n",
    "\\mathcal{F} = \\langle \\log q(\\mathbf{x}) \\rangle_{q(\\mathbf{x})} + \\langle E(\\mathbf{x},\\mathbf{y}) \\rangle_{q(\\mathbf{x})} \\; \\; \\; \\text{(3)}\n",
    "\\end{equation}"
   ]
  },
  {
   "cell_type": "markdown",
   "metadata": {},
   "source": [
    "For this expression to be tractable, we select a variational distribution as a product of Bernoulli's:\n",
    "\\begin{equation}\n",
    "q(\\mathbf{x}) = \\prod_i q(x_i) \\; \\; \\; \\text{(4)}\n",
    "\\end{equation}\n",
    "where:\n",
    "\n",
    "$q(x_i) = \\rho_i,  \\ \\; \\; \\; \\; \\; \\; \\; $  if $x_i=+1$\n",
    "\n",
    "$q(x_i) = (1-\\rho_i)$, if $x_i=-1$"
   ]
  },
  {
   "cell_type": "markdown",
   "metadata": {},
   "source": [
    "Given this distribution, the first term of $\\mathcal{F}$ is simply:\n",
    "\\begin{equation}\n",
    " \\langle \\log q(\\mathbf{x}) \\rangle_{q(\\mathbf{x})} = \\rho_i \\log \\rho_i + (1-\\rho_i) \\log(1-\\rho_i) \\; \\; \\; \\text{(5)}\n",
    "\\end{equation}"
   ]
  },
  {
   "cell_type": "markdown",
   "metadata": {},
   "source": [
    "The second term is found by replacing the energy function $E(\\mathbf{x},\\mathbf{y})$ from eq. (1), and itself gives us three terms:\n"
   ]
  },
  {
   "cell_type": "markdown",
   "metadata": {},
   "source": [
    "\\begin{align}\n",
    "\\langle E(\\mathbf{x},\\mathbf{y}) \\rangle_{q(\\mathbf{x})} &= \\langle h \\sum_i x_i + \\beta \\sum_{\\{i,j\\}} x_i x_j + \\eta \\sum_i x_i y_i \\rangle_{q(\\mathbf{x})}  \\\\\n",
    "&= h \\sum_i (2\\rho_i-1 ) + \\beta \\sum_{\\{i,j\\}} \\left( (2\\rho_i-1)(2\\rho_j-1)\\right) + \\eta \\sum_i (2\\rho_i)y_i \\; \\; \\; \\text{(6)}\n",
    "\\end{align}"
   ]
  },
  {
   "cell_type": "markdown",
   "metadata": {},
   "source": [
    "Replacing eq. 5,6) into (3), we get the final bound, which we will write with two indexes to facilitate translation into python. Specifically, the $c$ and $r$ are used to denote any consistent way of summing over all columns and rows of a matrix $\\mathbf{R}$ which contains the variational parameters. The matrix notation comes from the fact that $\\mathbf{R}$ can be stored as an $N \\times D$ matrix instead of a long $ND \\times 1$ vector. Further, $\\{ i,j \\}$ denotes neighbouring elements, as before. Therefore, we have:\n",
    "\n",
    "\\begin{align}\n",
    "\\mathcal{F} &= \\sum_{c,r} \\left[ \\rho_{c,r} \\log \\rho_{c,r} + (1-\\rho_{c,r}) \\log( 1-\\rho_{c,r}) + (h+\\eta y_{c,r})(2 \\rho_{c,r}-1) \\right] \\\\\n",
    "& + \\beta \\sum_{\\{i,j\\}} (2\\rho_i-1)(2\\rho_j-1) \\qquad \\qquad \\qquad \\qquad \\qquad \\qquad \\qquad \\qquad \\qquad \\qquad \\text{(7)}\n",
    "\\end{align}\n",
    "\n",
    "And here's how to implement this in Theano:"
   ]
  },
  {
   "cell_type": "code",
   "execution_count": 16,
   "metadata": {
    "collapsed": false
   },
   "outputs": [],
   "source": [
    "def build_expected_energy_func():\n",
    "    # Declare all the variables to be used.\n",
    "    \n",
    "    # N and D are given as parameters, so that we know how to reshape RV\n",
    "    N  = T.iscalar()\n",
    "    D  = T.iscalar()\n",
    "    # RV is the vector of \\rho's, serialised with shape NDx1\n",
    "    RV = T.dvector()\n",
    "    Y  = T.imatrix()\n",
    "    b  = T.dscalar()\n",
    "    h  = T.dscalar()\n",
    "    e  = T.dscalar()\n",
    "    \n",
    "    # RS is RV reshaped into a matrix (which makes the neighbouring connections clear)\n",
    "    RS = T.reshape(RV, (N,D))\n",
    "    \n",
    "    # R must have entries between 0 and 1. This can be forced by having RS to be free\n",
    "    # parameters and push them through a sigmoid.\n",
    "    R = T.nnet.sigmoid(RS)\n",
    "\n",
    "    # This computation is for eq. (7), using the same trick as for the energy function.\n",
    "    sum_ij = T.sum(R*T.log(R) + (1-R) * T.log(1-R) + (h + e*Y)*(2*R-1))\n",
    "    sum_ij_neighbor_cols = T.sum((2*R[:,:-1]-1)*(2*R[:,1:]-1))\n",
    "    sum_ij_neighbor_rows = T.sum((2*R[:-1,:]-1)*(2*R[1:,:]-1))\n",
    "    sum_ij_neighbor = sum_ij_neighbor_rows + sum_ij_neighbor_cols\n",
    "\n",
    "    expected_energy_function = sum_ij + b*sum_ij_neighbor\n",
    "\n",
    "    # first part are inputs to the built function. Then a list of outputs. Our function \n",
    "    # will return as outputs the objective and the gradients.\n",
    "    return theano.function([RV,Y,b,h,e, N, D],[expected_energy_function, theano.grad(expected_energy_function,RV)],allow_input_downcast=True)\n"
   ]
  },
  {
   "cell_type": "markdown",
   "metadata": {},
   "source": [
    "As can be seen, once we implement the objective, then the gradient can be simply returned by calling one more function! Another trick used, is to represent the parameters separately in the optimiser and separately internally. Specifically, the optimiser sees a vector of real values, and the programme then transforms them to a matrix of elements in [0,1], firstly through a reshaping and then through pushing through the sigmoid.\\\n",
    "\n",
    "Test the syntax:"
   ]
  },
  {
   "cell_type": "code",
   "execution_count": 17,
   "metadata": {
    "collapsed": true
   },
   "outputs": [],
   "source": [
    "Ef = build_expected_energy_func()"
   ]
  },
  {
   "cell_type": "markdown",
   "metadata": {},
   "source": [
    "Test running it:"
   ]
  },
  {
   "cell_type": "code",
   "execution_count": 18,
   "metadata": {
    "collapsed": false
   },
   "outputs": [
    {
     "name": "stdout",
     "output_type": "stream",
     "text": [
      "Optimization terminated successfully.\n",
      "         Current function value: -86.039966\n",
      "         Iterations: 412\n",
      "         Function evaluations: 455\n",
      "         Gradient evaluations: 455\n"
     ]
    }
   ],
   "source": [
    "Ef(RSval.flatten(), Yval, b_init, h_init, e_init, N, D)\n",
    "\n",
    "options = dict()\n",
    "options['disp']=True\n",
    "\n",
    "res=sp.optimize.minimize(Ef, RSval.flatten(), (Yval, b_init, h_init, e_init, N, D), jac=True, options=options)#, bounds=optBounds)\n",
    "\n",
    "optimised_params = res['x']"
   ]
  },
  {
   "cell_type": "markdown",
   "metadata": {},
   "source": [
    "It works! Now let's move to an application.\n",
    "\n",
    "\n",
    "## Image denoising\n",
    "\n",
    "We'll attempt to use the MRF as an image denoiser, as in Bishop's book. To begin with, we'll load the image of the the incredibly complex flag of Japan:"
   ]
  },
  {
   "cell_type": "code",
   "execution_count": 19,
   "metadata": {
    "collapsed": true
   },
   "outputs": [],
   "source": [
    "import urllib, cStringIO\n",
    "URL='http://upload.wikimedia.org/wikipedia/en/thumb/9/9e/Flag_of_Japan.svg/1280px-Flag_of_Japan.svg.png'\n",
    "file = cStringIO.StringIO(urllib.urlopen(URL).read())\n",
    "img = Image.open(file).convert('L')"
   ]
  },
  {
   "cell_type": "markdown",
   "metadata": {},
   "source": [
    "We can optionally reshape the image. We will also \"binarize\" it."
   ]
  },
  {
   "cell_type": "code",
   "execution_count": 20,
   "metadata": {
    "collapsed": false
   },
   "outputs": [
    {
     "data": {
      "image/png": "[encoded data removed]",
      "text/plain": [
       "<matplotlib.figure.Figure at 0x7f01ed6cb0d0>"
      ]
     },
     "metadata": {},
     "output_type": "display_data"
    }
   ],
   "source": [
    "im_reshape=False\n",
    "\n",
    "if im_reshape:\n",
    "    perc=.25\n",
    "    im = np.asarray(img)\n",
    "    N,D = im.shape\n",
    "    img = img.resize((int(np.ceil(D*perc)),int(np.ceil(N*perc))),Image.ANTIALIAS)\n",
    "    im = np.asarray(img)\n",
    "    N,D = im.shape\n",
    "else:\n",
    "    im = np.asarray(img)\n",
    "    N,D = im.shape\n",
    "\n",
    "# Normalise pixel values between 0 and 1\n",
    "im = im / 255.\n",
    "\n",
    "# Shift spectrum from 0,1 to -1, 1\n",
    "im = np.where(im < 0.4, -1, 1)\n",
    "\n",
    "pb.imshow(im,cmap=pb.cm.gray)\n",
    "pb.title('Original image')\n",
    "pb.show()\n"
   ]
  },
  {
   "cell_type": "markdown",
   "metadata": {},
   "source": [
    "We'll add noise to the picture (20% noise, feel free to change the parameters). \n",
    "Then, we'll initlise the R parameters. One way to do it, is based on the data. There are other suggested ways (commented out), feel free to explore.\n",
    "\n",
    "The parameters are hardcoded and suboptimal, you can try different values too."
   ]
  },
  {
   "cell_type": "code",
   "execution_count": 21,
   "metadata": {
    "collapsed": false
   },
   "outputs": [
    {
     "ename": "KeyboardInterrupt",
     "evalue": "",
     "output_type": "error",
     "traceback": [
      "\u001b[1;31m---------------------------------------------------------------------------\u001b[0m",
      "\u001b[1;31mKeyboardInterrupt\u001b[0m                         Traceback (most recent call last)",
      "\u001b[1;32m<ipython-input-21-4c9517263d5d>\u001b[0m in \u001b[0;36m<module>\u001b[1;34m()\u001b[0m\n\u001b[0;32m     21\u001b[0m \u001b[1;33m\u001b[0m\u001b[0m\n\u001b[0;32m     22\u001b[0m \u001b[1;31m# This is a bit buggy, sometimes the output is displayed in the terminal instead of inline here...\u001b[0m\u001b[1;33m\u001b[0m\u001b[1;33m\u001b[0m\u001b[0m\n\u001b[1;32m---> 23\u001b[1;33m \u001b[0mres\u001b[0m\u001b[1;33m=\u001b[0m\u001b[0msp\u001b[0m\u001b[1;33m.\u001b[0m\u001b[0moptimize\u001b[0m\u001b[1;33m.\u001b[0m\u001b[0mminimize\u001b[0m\u001b[1;33m(\u001b[0m\u001b[0mEf\u001b[0m\u001b[1;33m,\u001b[0m \u001b[0mRSval\u001b[0m\u001b[1;33m.\u001b[0m\u001b[0mflatten\u001b[0m\u001b[1;33m(\u001b[0m\u001b[1;33m)\u001b[0m\u001b[1;33m,\u001b[0m \u001b[1;33m(\u001b[0m\u001b[0mYval\u001b[0m\u001b[1;33m,\u001b[0m \u001b[0mb_init\u001b[0m\u001b[1;33m,\u001b[0m \u001b[0mh_init\u001b[0m\u001b[1;33m,\u001b[0m \u001b[0me_init\u001b[0m\u001b[1;33m,\u001b[0m \u001b[0mN\u001b[0m\u001b[1;33m,\u001b[0m \u001b[0mD\u001b[0m\u001b[1;33m)\u001b[0m\u001b[1;33m,\u001b[0m \u001b[0mjac\u001b[0m\u001b[1;33m=\u001b[0m\u001b[0mTrue\u001b[0m\u001b[1;33m,\u001b[0m \u001b[0mmethod\u001b[0m\u001b[1;33m=\u001b[0m\u001b[1;34m'L-BFGS-B'\u001b[0m\u001b[1;33m,\u001b[0m \u001b[0moptions\u001b[0m\u001b[1;33m=\u001b[0m\u001b[0moptions\u001b[0m \u001b[1;33m)\u001b[0m\u001b[1;33m\u001b[0m\u001b[0m\n\u001b[0m",
      "\u001b[1;32m/home/zhenwen/anaconda/lib/python2.7/site-packages/scipy/optimize/_minimize.pyc\u001b[0m in \u001b[0;36mminimize\u001b[1;34m(fun, x0, args, method, jac, hess, hessp, bounds, constraints, tol, callback, options)\u001b[0m\n\u001b[0;32m    442\u001b[0m     \u001b[1;32melif\u001b[0m \u001b[0mmeth\u001b[0m \u001b[1;33m==\u001b[0m \u001b[1;34m'l-bfgs-b'\u001b[0m\u001b[1;33m:\u001b[0m\u001b[1;33m\u001b[0m\u001b[0m\n\u001b[0;32m    443\u001b[0m         return _minimize_lbfgsb(fun, x0, args, jac, bounds,\n\u001b[1;32m--> 444\u001b[1;33m                                 callback=callback, **options)\n\u001b[0m\u001b[0;32m    445\u001b[0m     \u001b[1;32melif\u001b[0m \u001b[0mmeth\u001b[0m \u001b[1;33m==\u001b[0m \u001b[1;34m'tnc'\u001b[0m\u001b[1;33m:\u001b[0m\u001b[1;33m\u001b[0m\u001b[0m\n\u001b[0;32m    446\u001b[0m         return _minimize_tnc(fun, x0, args, jac, bounds, callback=callback,\n",
      "\u001b[1;32m/home/zhenwen/anaconda/lib/python2.7/site-packages/scipy/optimize/lbfgsb.pyc\u001b[0m in \u001b[0;36m_minimize_lbfgsb\u001b[1;34m(fun, x0, args, jac, bounds, disp, maxcor, ftol, gtol, eps, maxfun, maxiter, iprint, callback, **unknown_options)\u001b[0m\n\u001b[0;32m    318\u001b[0m                 \u001b[1;31m# minimization routine wants f and g at the current x\u001b[0m\u001b[1;33m\u001b[0m\u001b[1;33m\u001b[0m\u001b[0m\n\u001b[0;32m    319\u001b[0m                 \u001b[1;31m# Overwrite f and g:\u001b[0m\u001b[1;33m\u001b[0m\u001b[1;33m\u001b[0m\u001b[0m\n\u001b[1;32m--> 320\u001b[1;33m                 \u001b[0mf\u001b[0m\u001b[1;33m,\u001b[0m \u001b[0mg\u001b[0m \u001b[1;33m=\u001b[0m \u001b[0mfunc_and_grad\u001b[0m\u001b[1;33m(\u001b[0m\u001b[0mx\u001b[0m\u001b[1;33m)\u001b[0m\u001b[1;33m\u001b[0m\u001b[0m\n\u001b[0m\u001b[0;32m    321\u001b[0m         \u001b[1;32melif\u001b[0m \u001b[0mtask_str\u001b[0m\u001b[1;33m.\u001b[0m\u001b[0mstartswith\u001b[0m\u001b[1;33m(\u001b[0m\u001b[1;34mb'NEW_X'\u001b[0m\u001b[1;33m)\u001b[0m\u001b[1;33m:\u001b[0m\u001b[1;33m\u001b[0m\u001b[0m\n\u001b[0;32m    322\u001b[0m             \u001b[1;31m# new iteration\u001b[0m\u001b[1;33m\u001b[0m\u001b[1;33m\u001b[0m\u001b[0m\n",
      "\u001b[1;32m/home/zhenwen/anaconda/lib/python2.7/site-packages/scipy/optimize/lbfgsb.pyc\u001b[0m in \u001b[0;36mfunc_and_grad\u001b[1;34m(x)\u001b[0m\n\u001b[0;32m    269\u001b[0m     \u001b[1;32melse\u001b[0m\u001b[1;33m:\u001b[0m\u001b[1;33m\u001b[0m\u001b[0m\n\u001b[0;32m    270\u001b[0m         \u001b[1;32mdef\u001b[0m \u001b[0mfunc_and_grad\u001b[0m\u001b[1;33m(\u001b[0m\u001b[0mx\u001b[0m\u001b[1;33m)\u001b[0m\u001b[1;33m:\u001b[0m\u001b[1;33m\u001b[0m\u001b[0m\n\u001b[1;32m--> 271\u001b[1;33m             \u001b[0mf\u001b[0m \u001b[1;33m=\u001b[0m \u001b[0mfun\u001b[0m\u001b[1;33m(\u001b[0m\u001b[0mx\u001b[0m\u001b[1;33m,\u001b[0m \u001b[1;33m*\u001b[0m\u001b[0margs\u001b[0m\u001b[1;33m)\u001b[0m\u001b[1;33m\u001b[0m\u001b[0m\n\u001b[0m\u001b[0;32m    272\u001b[0m             \u001b[0mg\u001b[0m \u001b[1;33m=\u001b[0m \u001b[0mjac\u001b[0m\u001b[1;33m(\u001b[0m\u001b[0mx\u001b[0m\u001b[1;33m,\u001b[0m \u001b[1;33m*\u001b[0m\u001b[0margs\u001b[0m\u001b[1;33m)\u001b[0m\u001b[1;33m\u001b[0m\u001b[0m\n\u001b[0;32m    273\u001b[0m             \u001b[1;32mreturn\u001b[0m \u001b[0mf\u001b[0m\u001b[1;33m,\u001b[0m \u001b[0mg\u001b[0m\u001b[1;33m\u001b[0m\u001b[0m\n",
      "\u001b[1;32m/home/zhenwen/anaconda/lib/python2.7/site-packages/scipy/optimize/optimize.pyc\u001b[0m in \u001b[0;36mfunction_wrapper\u001b[1;34m(*wrapper_args)\u001b[0m\n\u001b[0;32m    283\u001b[0m     \u001b[1;32mdef\u001b[0m \u001b[0mfunction_wrapper\u001b[0m\u001b[1;33m(\u001b[0m\u001b[1;33m*\u001b[0m\u001b[0mwrapper_args\u001b[0m\u001b[1;33m)\u001b[0m\u001b[1;33m:\u001b[0m\u001b[1;33m\u001b[0m\u001b[0m\n\u001b[0;32m    284\u001b[0m         \u001b[0mncalls\u001b[0m\u001b[1;33m[\u001b[0m\u001b[1;36m0\u001b[0m\u001b[1;33m]\u001b[0m \u001b[1;33m+=\u001b[0m \u001b[1;36m1\u001b[0m\u001b[1;33m\u001b[0m\u001b[0m\n\u001b[1;32m--> 285\u001b[1;33m         \u001b[1;32mreturn\u001b[0m \u001b[0mfunction\u001b[0m\u001b[1;33m(\u001b[0m\u001b[1;33m*\u001b[0m\u001b[1;33m(\u001b[0m\u001b[0mwrapper_args\u001b[0m \u001b[1;33m+\u001b[0m \u001b[0margs\u001b[0m\u001b[1;33m)\u001b[0m\u001b[1;33m)\u001b[0m\u001b[1;33m\u001b[0m\u001b[0m\n\u001b[0m\u001b[0;32m    286\u001b[0m \u001b[1;33m\u001b[0m\u001b[0m\n\u001b[0;32m    287\u001b[0m     \u001b[1;32mreturn\u001b[0m \u001b[0mncalls\u001b[0m\u001b[1;33m,\u001b[0m \u001b[0mfunction_wrapper\u001b[0m\u001b[1;33m\u001b[0m\u001b[0m\n",
      "\u001b[1;32m/home/zhenwen/anaconda/lib/python2.7/site-packages/scipy/optimize/optimize.pyc\u001b[0m in \u001b[0;36m__call__\u001b[1;34m(self, x, *args)\u001b[0m\n\u001b[0;32m     61\u001b[0m     \u001b[1;32mdef\u001b[0m \u001b[0m__call__\u001b[0m\u001b[1;33m(\u001b[0m\u001b[0mself\u001b[0m\u001b[1;33m,\u001b[0m \u001b[0mx\u001b[0m\u001b[1;33m,\u001b[0m \u001b[1;33m*\u001b[0m\u001b[0margs\u001b[0m\u001b[1;33m)\u001b[0m\u001b[1;33m:\u001b[0m\u001b[1;33m\u001b[0m\u001b[0m\n\u001b[0;32m     62\u001b[0m         \u001b[0mself\u001b[0m\u001b[1;33m.\u001b[0m\u001b[0mx\u001b[0m \u001b[1;33m=\u001b[0m \u001b[0mnumpy\u001b[0m\u001b[1;33m.\u001b[0m\u001b[0masarray\u001b[0m\u001b[1;33m(\u001b[0m\u001b[0mx\u001b[0m\u001b[1;33m)\u001b[0m\u001b[1;33m.\u001b[0m\u001b[0mcopy\u001b[0m\u001b[1;33m(\u001b[0m\u001b[1;33m)\u001b[0m\u001b[1;33m\u001b[0m\u001b[0m\n\u001b[1;32m---> 63\u001b[1;33m         \u001b[0mfg\u001b[0m \u001b[1;33m=\u001b[0m \u001b[0mself\u001b[0m\u001b[1;33m.\u001b[0m\u001b[0mfun\u001b[0m\u001b[1;33m(\u001b[0m\u001b[0mx\u001b[0m\u001b[1;33m,\u001b[0m \u001b[1;33m*\u001b[0m\u001b[0margs\u001b[0m\u001b[1;33m)\u001b[0m\u001b[1;33m\u001b[0m\u001b[0m\n\u001b[0m\u001b[0;32m     64\u001b[0m         \u001b[0mself\u001b[0m\u001b[1;33m.\u001b[0m\u001b[0mjac\u001b[0m \u001b[1;33m=\u001b[0m \u001b[0mfg\u001b[0m\u001b[1;33m[\u001b[0m\u001b[1;36m1\u001b[0m\u001b[1;33m]\u001b[0m\u001b[1;33m\u001b[0m\u001b[0m\n\u001b[0;32m     65\u001b[0m         \u001b[1;32mreturn\u001b[0m \u001b[0mfg\u001b[0m\u001b[1;33m[\u001b[0m\u001b[1;36m0\u001b[0m\u001b[1;33m]\u001b[0m\u001b[1;33m\u001b[0m\u001b[0m\n",
      "\u001b[1;32m/home/zhenwen/anaconda/lib/python2.7/site-packages/theano/compile/function_module.pyc\u001b[0m in \u001b[0;36m__call__\u001b[1;34m(self, *args, **kwargs)\u001b[0m\n\u001b[0;32m    593\u001b[0m         \u001b[0mt0_fn\u001b[0m \u001b[1;33m=\u001b[0m \u001b[0mtime\u001b[0m\u001b[1;33m.\u001b[0m\u001b[0mtime\u001b[0m\u001b[1;33m(\u001b[0m\u001b[1;33m)\u001b[0m\u001b[1;33m\u001b[0m\u001b[0m\n\u001b[0;32m    594\u001b[0m         \u001b[1;32mtry\u001b[0m\u001b[1;33m:\u001b[0m\u001b[1;33m\u001b[0m\u001b[0m\n\u001b[1;32m--> 595\u001b[1;33m             \u001b[0moutputs\u001b[0m \u001b[1;33m=\u001b[0m \u001b[0mself\u001b[0m\u001b[1;33m.\u001b[0m\u001b[0mfn\u001b[0m\u001b[1;33m(\u001b[0m\u001b[1;33m)\u001b[0m\u001b[1;33m\u001b[0m\u001b[0m\n\u001b[0m\u001b[0;32m    596\u001b[0m         \u001b[1;32mexcept\u001b[0m \u001b[0mException\u001b[0m\u001b[1;33m:\u001b[0m\u001b[1;33m\u001b[0m\u001b[0m\n\u001b[0;32m    597\u001b[0m             \u001b[1;32mif\u001b[0m \u001b[0mhasattr\u001b[0m\u001b[1;33m(\u001b[0m\u001b[0mself\u001b[0m\u001b[1;33m.\u001b[0m\u001b[0mfn\u001b[0m\u001b[1;33m,\u001b[0m \u001b[1;34m'position_of_error'\u001b[0m\u001b[1;33m)\u001b[0m\u001b[1;33m:\u001b[0m\u001b[1;33m\u001b[0m\u001b[0m\n",
      "\u001b[1;31mKeyboardInterrupt\u001b[0m: "
     ]
    }
   ],
   "source": [
    "# Noise is added randomly at 20% of pixels.\n",
    "noise = np.random.rand(N,D)\n",
    "noise = np.where(noise > 0.8, -1, 1)\n",
    "\n",
    "Yval = im * noise\n",
    "\n",
    "# Initialise the R parameters.\n",
    "RSval = Yval #np.ones_like(Yval)*0.5#Yval # np.random.randn(N,D)  # Init\n",
    "\n",
    "b_init = -50\n",
    "h_init = 0\n",
    "e_init = 2.1\n",
    "\n",
    "Ef = build_expected_energy_func()\n",
    "\n",
    "Ef(RSval.flatten(), Yval, b_init, h_init, e_init, N, D)\n",
    "\n",
    "options = dict()\n",
    "options['disp']=True\n",
    "options['maxiter']=300\n",
    "\n",
    "# This is a bit buggy, sometimes the output is displayed in the terminal instead of inline here...\n",
    "res=sp.optimize.minimize(Ef, RSval.flatten(), (Yval, b_init, h_init, e_init, N, D), jac=True, method='L-BFGS-B', options=options )\n"
   ]
  },
  {
   "cell_type": "markdown",
   "metadata": {},
   "source": [
    "Now display the results."
   ]
  },
  {
   "cell_type": "code",
   "execution_count": null,
   "metadata": {
    "collapsed": false
   },
   "outputs": [],
   "source": [
    "fig = pb.figure(figsize=(15,12))\n",
    "fig1=fig.add_subplot(121)\n",
    "fig1.matshow(Yval,cmap=pb.cm.gray)\n",
    "pb.title('Noisy image')\n",
    "\n",
    "RSVopt = res['x']\n",
    "A = T.dmatrix()\n",
    "sig = theano.function([A], T.nnet.sigmoid(A))\n",
    "Ropt = sig(RSVopt.reshape(N,D))\n",
    "\n",
    "fig2=fig.add_subplot(122)\n",
    "fig2.matshow(Ropt, cmap=pb.cm.gray)\n",
    "pb.title('Cleaned image')\n"
   ]
  },
  {
   "cell_type": "code",
   "execution_count": null,
   "metadata": {
    "collapsed": true
   },
   "outputs": [],
   "source": []
  },
  {
   "cell_type": "code",
   "execution_count": null,
   "metadata": {
    "collapsed": true
   },
   "outputs": [],
   "source": []
  }
 ],
 "metadata": {
  "kernelspec": {
   "display_name": "Python 2",
   "language": "python",
   "name": "python2"
  },
  "language_info": {
   "codemirror_mode": {
    "name": "ipython",
    "version": 2
   },
   "file_extension": ".py",
   "mimetype": "text/x-python",
   "name": "python",
   "nbconvert_exporter": "python",
   "pygments_lexer": "ipython2",
   "version": "2.7.11"
  }
 },
 "nbformat": 4,
 "nbformat_minor": 0
}

{
 "cells": [
  {
   "cell_type": "markdown",
   "metadata": {},
   "source": [
    "# GPy Philosophy\n",
    "\n",
    "GPy has come a long way since it was initialized in November 2012. It started with a framework from the group for the group. After the first iteration of GPy development the first release was published, incorporating the newest ideas of the group (GPy 0.2). With many changes and a lot of effort we then developed the parameterization forward to be scalable for bigger models, having to handle hundrets, if not thousands of parameters at a time (SVIGP, BGPLVM, GPLVM, DeepGPs) with GPy 0.6. So for new developers, wanting to contribute to this great project evolving around cutting-edge applications of Gaussian processes we wanted to put together some notebooks in here.\n",
    "\n",
    "In the notebooks of this section we want to show case the three main pillars of GPy:\n",
    "\n",
    " * [Ease of Use](ease-of-use.ipynb)\n",
    " * [Reproduceability](reproduceability.ipynb)\n",
    " * [Scalability](scalability.ipynb)\n",
    " \n",
    "which all three come together to form a community effort of making Gaussian processes easy to apply for data scientists and fast to evolve for developers who want to contribute to GPy."
   ]
  }
 ],
 "metadata": {
  "kernelspec": {
   "display_name": "Python 2",
   "language": "python",
   "name": "python2"
  },
  "language_info": {
   "codemirror_mode": {
    "name": "ipython",
    "version": 2
   },
   "file_extension": ".py",
   "mimetype": "text/x-python",
   "name": "python",
   "nbconvert_exporter": "python",
   "pygments_lexer": "ipython2",
   "version": "2.7.10"
  }
 },
 "nbformat": 4,
 "nbformat_minor": 0
}

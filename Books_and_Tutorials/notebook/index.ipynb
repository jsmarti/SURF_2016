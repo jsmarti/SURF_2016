{
 "cells": [
  {
   "cell_type": "markdown",
   "metadata": {},
   "source": [
    "## Sheffield ML Notebooks\n",
    "\n",
    "This is a repository for the SheffieldML group's notebooks. They are broadly split into three categories.\n",
    "\n",
    "* [Computational Biology and Bioinformatics](./compbio/index.ipynb) These notebooks are focussed on data analysis and new methodologies in computational biology.\n",
    "* [GPy Examples](./GPy/index.ipynb) These notebooks give examples on how to use the group's GPy software. \n",
    "* [GPy Philosophy](./GPy-phil/index.ipynb) These notebooks give examples on how to use the group's GPy software. \n",
    "\n",
    "\n",
    "As well as these notebooks stored locally you can find examples of notebooks on our other github repositories.\n",
    "\n",
    "### Open Data Science\n",
    "\n",
    "For example [the ODS repo](https://github.com/sods/ods) has software for open data science including data set repositories. The notebooks can be found [here](https://github.com/sods/ods/blob/master/notebooks/pods/index.ipynb).\n",
    "\n",
    "### Datasets\n",
    "\n",
    "There are examples of the `pods` datasets avaiable [here](https://github.com/sods/ods/blob/master/notebooks/pods/datasets/index.ipynb).\n",
    "\n",
    "\n",
    "\n",
    "* [Lab Classes for Teaching](./lab_classes/index.ipynb) These notebooks give lab classes for teaching including notebooks from Neil's Level 4/MSc module in machine learning."
   ]
  },
  {
   "cell_type": "code",
   "execution_count": null,
   "metadata": {
    "collapsed": false
   },
   "outputs": [],
   "source": []
  }
 ],
 "metadata": {
  "kernelspec": {
   "display_name": "Python 2",
   "language": "python",
   "name": "python2"
  },
  "language_info": {
   "codemirror_mode": {
    "name": "ipython",
    "version": 2
   },
   "file_extension": ".py",
   "mimetype": "text/x-python",
   "name": "python",
   "nbconvert_exporter": "python",
   "pygments_lexer": "ipython2",
   "version": "2.7.10"
  }
 },
 "nbformat": 4,
 "nbformat_minor": 0
}

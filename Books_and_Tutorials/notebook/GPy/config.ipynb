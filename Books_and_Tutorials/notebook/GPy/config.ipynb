{
 "cells": [
  {
   "cell_type": "markdown",
   "metadata": {},
   "source": [
    "# GPy Configuration Settings\n",
    "\n",
    "The GPy default configuration settings are stored in a file in the main `GPy` directory called `defaults.cfg`. These settings should not be changed in this file. The file gives you an overview of what the configuration settings are for the install. "
   ]
  },
  {
   "cell_type": "code",
   "execution_count": null,
   "metadata": {
    "collapsed": false
   },
   "outputs": [],
   "source": [
    "# This is the default configuration file for GPy\n",
    "\n",
    "# Do note edit this file.\n",
    "\n",
    "# For machine specific changes (i.e. those specific to a given installation) edit GPy/installation.cfg\n",
    "\n",
    "# For user specific changes edit $HOME/.gpy_user.cfg\n",
    "[parallel]\n",
    "# Enable openmp support. This speeds up some computations, depending on the number\n",
    "# of cores available. Setting up a compiler with openmp support can be difficult on\n",
    "# some platforms, hence by default it is off.\n",
    "openmp=False\n",
    "\n",
    "[anaconda]\n",
    "# if you have an anaconda python installation please specify it here.\n",
    "installed = False\n",
    "location = None\n",
    "MKL = False # set this to true if you have the MKL optimizations installed"
   ]
  },
  {
   "cell_type": "markdown",
   "metadata": {},
   "source": [
    "### Machine Dependent Options\n",
    "\n",
    "Each installation of GPy also creates an `installation.cfg` file. This file should include any installation specific settings for your GPy installation. For example, if a particular machine is set up to run OpenMP then the `installation.cfg` file should contain"
   ]
  },
  {
   "cell_type": "code",
   "execution_count": null,
   "metadata": {
    "collapsed": false
   },
   "outputs": [],
   "source": [
    "# This is the local installation configuration file for GPy\n",
    "[parallel]\n",
    "openmp=True"
   ]
  },
  {
   "cell_type": "markdown",
   "metadata": {},
   "source": [
    "### User Dependent Options\n",
    "\n",
    "Options that are user dependent should be installed in the user's home directory in `.gpy_user.cfg`. "
   ]
  }
 ],
 "metadata": {
  "kernelspec": {
   "display_name": "Python 2",
   "language": "python",
   "name": "python2"
  },
  "language_info": {
   "codemirror_mode": {
    "name": "ipython",
    "version": 2
   },
   "file_extension": ".py",
   "mimetype": "text/x-python",
   "name": "python",
   "nbconvert_exporter": "python",
   "pygments_lexer": "ipython2",
   "version": "2.7.11"
  }
 },
 "nbformat": 4,
 "nbformat_minor": 0
}

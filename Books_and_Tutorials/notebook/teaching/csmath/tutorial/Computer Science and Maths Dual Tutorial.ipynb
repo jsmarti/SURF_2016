{
 "metadata": {
  "name": "",
  "signature": "sha256:293857ae6256ff95b0b823d6b462c2054ab9127eb453a97106733a38fe64f2f3"
 },
 "nbformat": 3,
 "nbformat_minor": 0,
 "worksheets": [
  {
   "cells": [
    {
     "cell_type": "markdown",
     "metadata": {},
     "source": [
      "# Computer Science and Maths Dual Tutorial System\n",
      "\n",
      "## Week 0: 25th September 2009 Neil Lawrence\n",
      "\n",
      "This week we welcomed the new students to the degree program. In a meeting with Neil's research group we talked about the different applications that arise from the interface between computer science and maths including applications in spatial disease prediction (malaria) computational biology (gene expressiond data), clinical data modelling and face identification.\n",
      "\n",
      "We tried to put a lot of emphasis on the importance of the interface between computer science and mathematics, and we also tried to emphasize some of the difficulties students will face working at the interface. \n",
      "\n",
      "We decided to do our tutorial sessions at 10:30 on Mondays to allow everyone time to come from the morning lecture. We will run to 12:00 to allow you all some time to have lunch. \n",
      "\n",
      "We talked about the differences in philosophy between the taught programs: how in Computer Science they will teach differently from maths and vice versa. Some of the group made points about particular difficulties that face students in dual programs. Javier made the point that words in different subject areas are not always used in the same way, even though they are the same word. This can be confusing. Max made the point that it is not always easy to see the connections between the subjects because they aren't always pointed out, but they are there.\n",
      "\n",
      "After the meeting the group were speaking a little and Alessandra pointed out a cool website that connects Computer Science and Maths: [Project Euler](https://projecteuler.net/). This may be a useful resource for our future meetings. \n",
      "\n",
      "We talked a little bit about graphs in computer science, the four color problem and the Konigsberg bridge crossing problem. This came up because we'd discussed a little how routing was done in Google Maps (when talking about how to get to SITraN from DCS).\n",
      "\n",
      "For future meetings, we might also think a bit about spell checking and how that is applied in computers, the mathematics and the Computer Science. \n",
      "\n",
      "Future meetings will be either in Barber House or SITraN. SITraN is at 385a Glossop Road. It can be found here.\n",
      "\n"
     ]
    },
    {
     "cell_type": "markdown",
     "metadata": {},
     "source": [
      "Code snippet from [here](http://nbviewer.ipython.org/github/jckantor/CBE40455/blob/master/notebooks/.ipynb_checkpoints/GeoCoding-checkpoint.ipynb)"
     ]
    },
    {
     "cell_type": "code",
     "collapsed": false,
     "input": [
      "# you need this package to run this code.\n",
      "!pip install geopy"
     ],
     "language": "python",
     "metadata": {},
     "outputs": []
    },
    {
     "cell_type": "code",
     "collapsed": false,
     "input": [
      "from geopy import geocoders\n",
      "g = geocoders.GoogleV3()\n",
      "place,(lat,lng) = g.geocode(\"385a Glossop Road, Sheffield, UK\")\n",
      "print lat,lng\n",
      "\n",
      "from IPython.display import IFrame\n",
      "from IPython.core.display import display\n",
      "\n",
      "# Google Maps URL template for an iframe\n",
      "\n",
      "google_maps_url = \"https://www.google.com/maps/embed/v1/view?zoom=16&center={0}%2C{0}\".format(lat, lng)\n",
      "    \n",
      "url = display(IFrame(google_maps_url,'200px','200px')) #\"http://maps.googleapis.com/maps/api/staticmap?center=-15.800513,-47.91378&zoom=11&size=200x200&sensor=false\",'200px','200px'))"
     ],
     "language": "python",
     "metadata": {},
     "outputs": [
      {
       "output_type": "stream",
       "stream": "stdout",
       "text": [
        "53.3779545 -1.4909064\n"
       ]
      },
      {
       "html": [
        "\n",
        "        <iframe\n",
        "            width=\"200px\"\n",
        "            height=200px\"\n",
        "            src=\"https://www.google.com/maps/embed/v1/view?zoom=16&center=53.3779545%2C53.3779545\"\n",
        "            frameborder=\"0\"\n",
        "            allowfullscreen\n",
        "        ></iframe>\n",
        "        "
       ],
       "metadata": {},
       "output_type": "display_data",
       "text": [
        "<IPython.lib.display.IFrame at 0x104758190>"
       ]
      }
     ],
     "prompt_number": 8
    },
    {
     "cell_type": "code",
     "collapsed": false,
     "input": [],
     "language": "python",
     "metadata": {},
     "outputs": []
    }
   ],
   "metadata": {}
  }
 ]
}
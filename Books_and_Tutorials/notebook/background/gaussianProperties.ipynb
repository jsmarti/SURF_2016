{
 "cells": [
  {
   "cell_type": "markdown",
   "metadata": {},
   "source": [
    "## Multivariate Gaussian Properties"
   ]
  },
  {
   "cell_type": "markdown",
   "metadata": {},
   "source": [
    "### 29th May 2014"
   ]
  },
  {
   "cell_type": "markdown",
   "metadata": {},
   "source": [
    "### Neil Lawrence"
   ]
  },
  {
   "cell_type": "markdown",
   "metadata": {},
   "source": [
    "The Gaussian density is a remarkable density. It has some very unusual properties. In particular, the sum of a set of Gaussian random variables is also Gaussian distributed. So if we are given that"
   ]
  },
  {
   "cell_type": "markdown",
   "metadata": {},
   "source": [
    "$$x_i \\sim \\mathcal{N}(\\mu_i, \\sigma_i^2)$$"
   ]
  },
  {
   "cell_type": "markdown",
   "metadata": {},
   "source": [
    "and we wish to know the distribution of"
   ]
  },
  {
   "cell_type": "markdown",
   "metadata": {},
   "source": [
    "$$\\sum_{i=1}^k x_i$$"
   ]
  },
  {
   "cell_type": "markdown",
   "metadata": {},
   "source": [
    "we know the result is given by "
   ]
  },
  {
   "cell_type": "markdown",
   "metadata": {},
   "source": [
    "$$\\sum_{i=1}^k x_i \\sim \\mathcal{N}\\left(\\sum_{i=1}^k\\mu_i, \\sum_{i=1}^k \\sigma_i^2\\right).$$"
   ]
  },
  {
   "cell_type": "markdown",
   "metadata": {},
   "source": [
    "Note that the new mean is the sum of the old means, and the new variance is the sum of the old variances."
   ]
  },
  {
   "cell_type": "markdown",
   "metadata": {},
   "source": [
    "### Scaling a Gaussian"
   ]
  },
  {
   "cell_type": "markdown",
   "metadata": {},
   "source": [
    "Scaling a Gaussian also leads to a Gaussian form"
   ]
  },
  {
   "cell_type": "markdown",
   "metadata": {},
   "source": [
    "$$cx_i \\sim \\mathcal{N}(c\\mu_i, c^2\\sigma_i^2).$$"
   ]
  },
  {
   "cell_type": "markdown",
   "metadata": {},
   "source": [
    "### Multivariate Gaussians"
   ]
  },
  {
   "cell_type": "markdown",
   "metadata": {},
   "source": [
    "Since matrix multiplication is just a series of additions and multiplications (i.e. it's a linear operation), applying matrix multiplication to Gaussian random variables also leads to Gaussian densities. So if $\\mathbf{x}$ is drawn from a Gaussian density with covariance $\\boldsymbol{\\Sigma}$ and mean $\\boldsymbol{\\mu}$,\n",
    "$$\\mathbf{x} \\sim \\mathcal{N}(\\boldsymbol{\\mu}, \\boldsymbol{\\Sigma})$$\n",
    "then \n",
    "$$\\mathbf{f} = \\mathbf{W}\\mathbf{x}$$\n",
    "would also be drawn from a Gaussian density \n",
    "$$\\mathbf{f} \\sim \\mathcal{N}(\\mathbf{W}\\boldsymbol{\\mu}, \\mathbf{W}\\boldsymbol{\\Sigma}\\mathbf{W}^\\top).$$"
   ]
  },
  {
   "cell_type": "markdown",
   "metadata": {},
   "source": [
    "The simple linear algebraic relationship between these covariances is at the heart of Gaussian process models. It makes models based on Gaussian densities extremely easy to do Bayesian inference in. For example, if we further assume that $\\mathbf{f}$ is corrupted by additive independent zero mean Gaussian noise, with variance $\\sigma^2$, to form an observation $\\mathbf{y}$, then since adding a Gaussian variable also leads to another Gaussian distribution we know that \n",
    "$$\\mathbf{y} \\sim \\mathcal{N}(\\mathbf{W}\\boldsymbol{\\mu}, \\mathbf{W}\\boldsymbol{\\Sigma}\\mathbf{W}^\\top + \\sigma^2 \\mathbf{I}).$$"
   ]
  },
  {
   "cell_type": "markdown",
   "metadata": {},
   "source": [
    "If we further assume that $\\boldsymbol{\\Sigma} = \\mathbf{I}$ and $\\boldsymbol{\\mu} = \\mathbf{0}$ then we recover the probabilistic model underlying principal component analysis (PCA), probabilistic PCA ([Tipping and Bishop, 1999](http://www.di.ens.fr/~fbach/courses/fall2005/Bishop_Tipping_1999_Probabilistic_PCA.pdf), [Roweis, 1998](http://www.cs.nyu.edu/~roweis/papers/empca.pdf)). \n",
    "$$\\mathbf{y} \\sim \\mathcal{N}(\\mathbf{0}, \\mathbf{W}\\mathbf{W}^\\top + \\sigma^2 \\mathbf{I}).$$\n",
    "This perspective on PCA matches that introduced by Hotelling, 1933."
   ]
  },
  {
   "cell_type": "code",
   "execution_count": null,
   "metadata": {
    "collapsed": false
   },
   "outputs": [],
   "source": []
  }
 ],
 "metadata": {
  "kernelspec": {
   "display_name": "Python 2",
   "language": "python",
   "name": "python2"
  },
  "language_info": {
   "codemirror_mode": {
    "name": "ipython",
    "version": 2
   },
   "file_extension": ".py",
   "mimetype": "text/x-python",
   "name": "python",
   "nbconvert_exporter": "python",
   "pygments_lexer": "ipython2",
   "version": "2.7.6"
  }
 },
 "nbformat": 4,
 "nbformat_minor": 0
}

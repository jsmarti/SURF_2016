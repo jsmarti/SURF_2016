{
 "cells": [
  {
   "cell_type": "markdown",
   "metadata": {},
   "source": [
    "# Background\n",
    "\n",
    "This subdirectory contains notebooks on background mathematics useful for understanding Gaussian processes.\n",
    "\n",
    "* [Properties of Multivariate Gaussians](./gaussianProperties.ipynb) Details on the properties of multivariate Gaussians will appear here.\n",
    "* [Bayesian Perspective of Linear Regression](./BayesianLinearRegression.ipynb) The steps from Linear regression to non-linear regression and finally non-parametric (better: infinite parametric) regression."
   ]
  },
  {
   "cell_type": "code",
   "execution_count": null,
   "metadata": {
    "collapsed": false
   },
   "outputs": [],
   "source": []
  }
 ],
 "metadata": {
  "kernelspec": {
   "display_name": "Python 2",
   "language": "python",
   "name": "python2"
  },
  "language_info": {
   "codemirror_mode": {
    "name": "ipython",
    "version": 2
   },
   "file_extension": ".py",
   "mimetype": "text/x-python",
   "name": "python",
   "nbconvert_exporter": "python",
   "pygments_lexer": "ipython2",
   "version": "2.7.6"
  }
 },
 "nbformat": 4,
 "nbformat_minor": 0
}

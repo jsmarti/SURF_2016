{
 "metadata": {
  "name": "",
  "signature": "sha256:7249739a5ed63ee657dcb07a6feb09a18c7cd688eab391922dfbb0c43906b1f3"
 },
 "nbformat": 3,
 "nbformat_minor": 0,
 "worksheets": [
  {
   "cells": [
    {
     "cell_type": "markdown",
     "metadata": {},
     "source": [
      "# Dimensionality Reduction with Gaussian Processes\n",
      "\n",
      "# Gaussian Process Summer School, Melbourne, Australia\n",
      "### 25th-27th February 2015\n",
      "### written by Max Zwiessele, Neil D. Lawrence\n"
     ]
    },
    {
     "cell_type": "code",
     "collapsed": false,
     "input": [
      "%matplotlib inline\n",
      "import numpy as np\n",
      "import matplotlib.pyplot as plt\n",
      "from IPython.display import display\n",
      "import pods\n",
      "import GPy\n",
      "import string"
     ],
     "language": "python",
     "metadata": {},
     "outputs": [
      {
       "output_type": "stream",
       "stream": "stderr",
       "text": [
        "/Users/neil/Library/Enthought/Canopy_64bit/User/lib/python2.7/site-packages/pytz/__init__.py:29: UserWarning: Module pods was already imported from /Users/neil/sods/ods/pods/__init__.pyc, but /Users/neil/Library/Enthought/Canopy_64bit/User/lib/python2.7/site-packages is being added to sys.path\n",
        "  from pkg_resources import resource_stream\n"
       ]
      }
     ],
     "prompt_number": 4
    },
    {
     "cell_type": "markdown",
     "metadata": {},
     "source": [
      "For this lab, we've created a dataset `digits.npy` containing all handwritten digits from $0 \\cdots 9$ handwritten, provided by deCampos et al. [2009]. All digits were cropped and scaled down to an appropriate format.\n",
      "You can retrieve the dataset as follows:"
     ]
    },
    {
     "cell_type": "code",
     "collapsed": false,
     "input": [
      "import urllib\n",
      "#urllib.urlretrieve('http://staffwww.dcs.sheffield.ac.uk/people/J.Hensman/gpsummer/Lab3.zip', 'Lab3.zip')\n",
      "import zipfile\n",
      "zip = zipfile.ZipFile('Lab3.zip', 'r')\n",
      "for name in zip.namelist():\n",
      "    zip.extract(name, '.')\n",
      "from load_plotting import * # for plotting"
     ],
     "language": "python",
     "metadata": {},
     "outputs": [],
     "prompt_number": 2
    },
    {
     "cell_type": "markdown",
     "metadata": {},
     "source": [
      "We will only use some of the digits for the demonstrations in this lab class, but you can edit the code below to select different subsets of the digit data as you wish."
     ]
    },
    {
     "cell_type": "markdown",
     "metadata": {},
     "source": [
      "You can try to plot some sample using `plt.matshow`.\n",
      "\n",
      "## Principal Component Analysis\n",
      "\n",
      "Principal component analysis (PCA) finds a rotation of the observed outputs, such that the rotated principal component (PC) space maximizes the variance of the data observed, sorted from most to least important (most to least variable in the corresponding PC).\n",
      "\n",
      "In order to apply PCA in an easy way, we have included a PCA module in pca.py. You can import the module by \n",
      "import <path.to.pca> (without the ending .py!). \n",
      "To run PCA on the digits we have to reshape (Hint: np.reshape ) digits . \n",
      "\n",
      "* What is the right shape $n \\times d$ to use?\n",
      "\n",
      "We will call the reshaped observed outputs $\\mathbf{Y}$ in the following."
     ]
    },
    {
     "cell_type": "code",
     "collapsed": false,
     "input": [
      "data = pods.datasets.decampos_digits(which_digits=[0,1,2,6,7,9])\n",
      "Y = data['Y']\n",
      "labels = data['lbls']\n",
      "#Y = digits.reshape((digits.shape[0]*digits.shape[1],digits.shape[2]*digits.shape[3]))\n",
      "Yn = data['Y']-data['Y'].mean()"
     ],
     "language": "python",
     "metadata": {},
     "outputs": [],
     "prompt_number": 14
    },
    {
     "cell_type": "markdown",
     "metadata": {},
     "source": [
      "Now let\u2019s run PCA on the reshaped dataset $\\mathbf{Y}$:"
     ]
    },
    {
     "cell_type": "code",
     "collapsed": false,
     "input": [
      "import pca\n",
      "p = pca.PCA(Y) # create PCA class with digits dataset"
     ],
     "language": "python",
     "metadata": {},
     "outputs": [],
     "prompt_number": 15
    },
    {
     "cell_type": "markdown",
     "metadata": {},
     "source": [
      "The resulting plot will show the lower dimensional representation of the digits in 2 dimensions."
     ]
    },
    {
     "cell_type": "code",
     "collapsed": false,
     "input": [
      "colors = [\"#3FCC94\", \"#DD4F23\", \"#C6D63B\", \"#D44271\", \n",
      "          \"#E4A42C\", \"#4F9139\", \"#6DDA4C\", \"#85831F\", \n",
      "          \"#B36A29\", \"#CF4E4A\"]\n",
      "p.plot_fracs(20) # plot first 20 eigenvalue fractions\n",
      "p.plot_2d(Y,labels=labels.flatten(), colors=colors)\n",
      "plt.legend()"
     ],
     "language": "python",
     "metadata": {},
     "outputs": [
      {
       "metadata": {},
       "output_type": "pyout",
       "prompt_number": 19,
       "text": [
        "<matplotlib.legend.Legend at 0x1104e0710>"
       ]
      },
      {
       "metadata": {},
       "output_type": "display_data",
       "png": "[encoded data removed]",
       "text": [
        "<matplotlib.figure.Figure at 0x10eed0490>"
       ]
      },
      {
       "metadata": {},
       "output_type": "display_data",
       "png": "[encoded data removed]",
       "text": [
        "<matplotlib.figure.Figure at 0x10faca690>"
       ]
      }
     ],
     "prompt_number": 19
    },
    {
     "cell_type": "markdown",
     "metadata": {},
     "source": [
      "## Gaussian Process Latent Variable Model\n",
      "\n",
      "The Gaussian Process Latent Variable Model (GP-LVM) embeds of PCA into a Gaussian process framework, where the latent inputs $\\mathbf{X}$ are learnt as hyperparameters and the mapping variables $\\mathbf{W}$ are integrated out. The advantage of this interpretation is it allows PCA to be generalized in a non linear way by replacing the resulting *linear* covariance witha  non linear covariance. But first, let's see how GPLVM is equivalent to PCA using an automatic relevance determination (ARD, see e.g. Bishop et al. [2006]) linear kernel:"
     ]
    },
    {
     "cell_type": "code",
     "collapsed": false,
     "input": [
      "\n",
      "def plot_model(m, which_dims, labels):\n",
      "    fig = plt.figure(); ax = fig.add_subplot(111)\n",
      "    X = m.X[:,which_dims]\n",
      "    ulabs = []\n",
      "    for lab in labels:\n",
      "        if not lab in ulabs:\n",
      "            ulabs.append(lab)\n",
      "            pass\n",
      "        pass\n",
      "    for i, lab in enumerate(ulabs):\n",
      "        ax.scatter(*X[labels==lab].T,marker='o',color=colors[i],label=lab)\n",
      "        pass\n",
      "    pass\n"
     ],
     "language": "python",
     "metadata": {},
     "outputs": [],
     "prompt_number": 20
    },
    {
     "cell_type": "code",
     "collapsed": false,
     "input": [
      "input_dim = 4 # How many latent dimensions to use\n",
      "kernel = GPy.kern.Linear(input_dim, ARD=True) # ARD kernel\n",
      "#kernel += GPy.kern.white(input_dim) + GPy.kern.bias(input_dim)\n",
      "model = GPy.models.GPLVM(Yn, input_dim=input_dim, kernel=kernel)\n",
      "model.Gaussian_noise.variance = model.Y.var()/20. # start noise is 5% of datanoise"
     ],
     "language": "python",
     "metadata": {},
     "outputs": [],
     "prompt_number": 21
    },
    {
     "cell_type": "code",
     "collapsed": false,
     "input": [
      "model.optimize(messages=1, max_iters=1000) # optimize for 1000 iterations"
     ],
     "language": "python",
     "metadata": {},
     "outputs": [
      {
       "output_type": "stream",
       "stream": "stdout",
       "text": [
        "Running L-BFGS-B (Scipy implementation) Code:\n",
        " secs      i      f              |g|        \n",
        "\r",
        " 0.0027  0000   4.355172e+05           nan"
       ]
      },
      {
       "output_type": "stream",
       "stream": "stdout",
       "text": [
        " \r",
        "  0.093  0001   4.355172e+05   2.438664e+11"
       ]
      },
      {
       "output_type": "stream",
       "stream": "stdout",
       "text": [
        " \r",
        "   0.16  0002   1.384308e+05   2.430231e+10"
       ]
      },
      {
       "output_type": "stream",
       "stream": "stdout",
       "text": [
        " \r",
        "    0.2  0003   8.450368e+04   6.974448e+09"
       ]
      },
      {
       "output_type": "stream",
       "stream": "stdout",
       "text": [
        " \n",
        "\r",
        "   0.24  0004   5.471792e+04   1.088045e+09"
       ]
      },
      {
       "output_type": "stream",
       "stream": "stdout",
       "text": [
        " \r",
        "   0.28  0005   4.707640e+04   1.503908e+08"
       ]
      },
      {
       "output_type": "stream",
       "stream": "stdout",
       "text": [
        " \r",
        "   0.32  0006   4.552108e+04   1.023989e+07"
       ]
      },
      {
       "output_type": "stream",
       "stream": "stdout",
       "text": [
        " \r",
        "   0.37  0007   4.538796e+04   2.833594e+05"
       ]
      },
      {
       "output_type": "stream",
       "stream": "stdout",
       "text": [
        " \r",
        "   0.41  0008   4.538257e+04   7.908438e+04"
       ]
      },
      {
       "output_type": "stream",
       "stream": "stdout",
       "text": [
        " \n",
        "\r",
        "   0.45  0009   4.537917e+04   1.177091e+05"
       ]
      },
      {
       "output_type": "stream",
       "stream": "stdout",
       "text": [
        " \r",
        "   0.49  0010   4.536277e+04   6.575671e+05"
       ]
      },
      {
       "output_type": "stream",
       "stream": "stdout",
       "text": [
        " \r",
        "   0.53  0011   4.532666e+04   2.383917e+06"
       ]
      },
      {
       "output_type": "stream",
       "stream": "stdout",
       "text": [
        " \r",
        "   0.59  0012   4.522111e+04   8.512148e+06"
       ]
      },
      {
       "output_type": "stream",
       "stream": "stdout",
       "text": [
        " \r",
        "   0.64  0013   4.493080e+04   2.879010e+07"
       ]
      },
      {
       "output_type": "stream",
       "stream": "stdout",
       "text": [
        " \r",
        "    0.7  0014   4.420906e+04   9.880568e+07"
       ]
      },
      {
       "output_type": "stream",
       "stream": "stdout",
       "text": [
        " \r",
        "   0.75  0015   4.346922e+04   1.444005e+08"
       ]
      },
      {
       "output_type": "stream",
       "stream": "stdout",
       "text": [
        " \r",
        "    0.8  0016   4.211646e+04   1.040691e+08"
       ]
      },
      {
       "output_type": "stream",
       "stream": "stdout",
       "text": [
        " \r",
        "   0.83  0017   4.043720e+04   1.951209e+07"
       ]
      },
      {
       "output_type": "stream",
       "stream": "stdout",
       "text": [
        " \r",
        "   0.87  0018   4.020942e+04   6.131028e+05"
       ]
      },
      {
       "output_type": "stream",
       "stream": "stdout",
       "text": [
        " \r",
        "    0.9  0019   4.019568e+04   1.900306e+05"
       ]
      },
      {
       "output_type": "stream",
       "stream": "stdout",
       "text": [
        " \r",
        "   0.93  0020   4.018664e+04   3.253802e+05"
       ]
      },
      {
       "output_type": "stream",
       "stream": "stdout",
       "text": [
        " \r",
        "   0.97  0021   4.014775e+04   1.717902e+06"
       ]
      },
      {
       "output_type": "stream",
       "stream": "stdout",
       "text": [
        " \r",
        "      1  0022   4.006350e+04   5.885657e+06"
       ]
      },
      {
       "output_type": "stream",
       "stream": "stdout",
       "text": [
        " \r",
        "      1  0023   3.984718e+04   1.726840e+07"
       ]
      },
      {
       "output_type": "stream",
       "stream": "stdout",
       "text": [
        " \r",
        "    1.1  0024   3.942142e+04   3.443980e+07"
       ]
      },
      {
       "output_type": "stream",
       "stream": "stdout",
       "text": [
        " \r",
        "    1.1  0025   3.875812e+04   3.505154e+07"
       ]
      },
      {
       "output_type": "stream",
       "stream": "stdout",
       "text": [
        " \n",
        "\r",
        "    1.1  0026   4.434871e+04   2.744330e+08"
       ]
      },
      {
       "output_type": "stream",
       "stream": "stdout",
       "text": [
        " \r",
        "    1.2  0027   3.875988e+04   4.790510e+07"
       ]
      },
      {
       "output_type": "stream",
       "stream": "stdout",
       "text": [
        " \r",
        "    1.2  0028   3.864887e+04   4.030551e+07"
       ]
      },
      {
       "output_type": "stream",
       "stream": "stdout",
       "text": [
        " \r",
        "    1.2  0029   3.786040e+04   1.400375e+07"
       ]
      },
      {
       "output_type": "stream",
       "stream": "stdout",
       "text": [
        " \r",
        "    1.2  0030   3.746136e+04   4.983341e+05"
       ]
      },
      {
       "output_type": "stream",
       "stream": "stdout",
       "text": [
        " \r",
        "    1.3  0031   3.739249e+04   3.571982e+05"
       ]
      },
      {
       "output_type": "stream",
       "stream": "stdout",
       "text": [
        " \r",
        "    1.3  0032   3.736165e+04   8.699628e+05"
       ]
      },
      {
       "output_type": "stream",
       "stream": "stdout",
       "text": [
        " \r",
        "    1.4  0033   3.730860e+04   1.129489e+06"
       ]
      },
      {
       "output_type": "stream",
       "stream": "stdout",
       "text": [
        " \r",
        "    1.4  0034   3.712467e+04   1.817765e+05"
       ]
      },
      {
       "output_type": "stream",
       "stream": "stdout",
       "text": [
        " \r",
        "    1.5  0035   3.666925e+04   8.573404e+05"
       ]
      },
      {
       "output_type": "stream",
       "stream": "stdout",
       "text": [
        " \r",
        "    1.5  0036   3.598556e+04   9.201890e+05"
       ]
      },
      {
       "output_type": "stream",
       "stream": "stdout",
       "text": [
        " \r",
        "    1.5  0037   4.025655e+04   2.231188e+08"
       ]
      },
      {
       "output_type": "stream",
       "stream": "stdout",
       "text": [
        " \r",
        "    1.6  0038   3.589804e+04   2.287133e+06"
       ]
      },
      {
       "output_type": "stream",
       "stream": "stdout",
       "text": [
        " \r",
        "    1.6  0039   3.560343e+04   3.418704e+06"
       ]
      },
      {
       "output_type": "stream",
       "stream": "stdout",
       "text": [
        " \r",
        "    1.7  0040   5.044816e+04   2.886938e+08"
       ]
      },
      {
       "output_type": "stream",
       "stream": "stdout",
       "text": [
        " \r",
        "    1.7  0041   3.526137e+04   1.724915e+06"
       ]
      },
      {
       "output_type": "stream",
       "stream": "stdout",
       "text": [
        " \r",
        "    1.7  0042   3.529249e+04   1.144049e+06"
       ]
      },
      {
       "output_type": "stream",
       "stream": "stdout",
       "text": [
        " \r",
        "    1.8  0043   3.492772e+04   1.809587e+05"
       ]
      },
      {
       "output_type": "stream",
       "stream": "stdout",
       "text": [
        " \r",
        "    1.8  0044   3.478788e+04   9.426174e+05"
       ]
      },
      {
       "output_type": "stream",
       "stream": "stdout",
       "text": [
        " \r",
        "    1.9  0045   3.470872e+04   6.239673e+05"
       ]
      },
      {
       "output_type": "stream",
       "stream": "stdout",
       "text": [
        " \n",
        "\r",
        "    1.9  0046   3.447770e+04   6.380313e+04"
       ]
      },
      {
       "output_type": "stream",
       "stream": "stdout",
       "text": [
        " \r",
        "    1.9  0047   3.458615e+04   2.523646e+05"
       ]
      },
      {
       "output_type": "stream",
       "stream": "stdout",
       "text": [
        " \r",
        "      2  0048   3.442858e+04   7.444293e+04"
       ]
      },
      {
       "output_type": "stream",
       "stream": "stdout",
       "text": [
        " \r",
        "      2  0049   3.424707e+04   4.468568e+04"
       ]
      },
      {
       "output_type": "stream",
       "stream": "stdout",
       "text": [
        " \r",
        "    2.1  0050   3.386608e+04   1.088116e+06"
       ]
      },
      {
       "output_type": "stream",
       "stream": "stdout",
       "text": [
        " \r",
        "    2.1  0051   3.370304e+04   1.244718e+05"
       ]
      },
      {
       "output_type": "stream",
       "stream": "stdout",
       "text": [
        " \r",
        "    2.1  0052   3.365701e+04   2.254282e+05"
       ]
      },
      {
       "output_type": "stream",
       "stream": "stdout",
       "text": [
        " \r",
        "    2.2  0053   4.160173e+04   5.697073e+08"
       ]
      },
      {
       "output_type": "stream",
       "stream": "stdout",
       "text": [
        " \r",
        "    2.2  0054   3.365242e+04   2.109397e+04"
       ]
      },
      {
       "output_type": "stream",
       "stream": "stdout",
       "text": [
        " \r",
        "    2.3  0055   3.363883e+04   2.531882e+04"
       ]
      },
      {
       "output_type": "stream",
       "stream": "stdout",
       "text": [
        " \r",
        "    2.3  0056   3.358188e+04   1.988868e+05"
       ]
      },
      {
       "output_type": "stream",
       "stream": "stdout",
       "text": [
        " \r",
        "    2.3  0057   3.349183e+04   3.599032e+05"
       ]
      },
      {
       "output_type": "stream",
       "stream": "stdout",
       "text": [
        " \r",
        "    2.4  0058   3.348217e+04   1.872271e+04"
       ]
      },
      {
       "output_type": "stream",
       "stream": "stdout",
       "text": [
        " \r",
        "    2.4  0059   3.346552e+04   7.738472e+04"
       ]
      },
      {
       "output_type": "stream",
       "stream": "stdout",
       "text": [
        " \n",
        "\r",
        "    2.4  0060   3.344075e+04   2.847943e+03"
       ]
      },
      {
       "output_type": "stream",
       "stream": "stdout",
       "text": [
        " \r",
        "    2.5  0061   3.342996e+04   1.356215e+04"
       ]
      },
      {
       "output_type": "stream",
       "stream": "stdout",
       "text": [
        " \r",
        "    2.5  0062   3.342240e+04   3.405020e+04"
       ]
      },
      {
       "output_type": "stream",
       "stream": "stdout",
       "text": [
        " \r",
        "    2.6  0063   3.341192e+04   1.055149e+04"
       ]
      },
      {
       "output_type": "stream",
       "stream": "stdout",
       "text": [
        " \r",
        "    2.6  0064   3.339985e+04   2.121843e+03"
       ]
      },
      {
       "output_type": "stream",
       "stream": "stdout",
       "text": [
        " \r",
        "    2.7  0065   3.339655e+04   2.032223e+03"
       ]
      },
      {
       "output_type": "stream",
       "stream": "stdout",
       "text": [
        " \r",
        "    2.7  0066   4.199565e+04   3.807045e+08"
       ]
      },
      {
       "output_type": "stream",
       "stream": "stdout",
       "text": [
        " \r",
        "    2.7  0067   3.339632e+04   1.234207e+04"
       ]
      },
      {
       "output_type": "stream",
       "stream": "stdout",
       "text": [
        " \r",
        "    2.8  0068   3.338910e+04   1.881612e+03"
       ]
      },
      {
       "output_type": "stream",
       "stream": "stdout",
       "text": [
        " \r",
        "    2.8  0069   3.338554e+04   1.506978e+03"
       ]
      },
      {
       "output_type": "stream",
       "stream": "stdout",
       "text": [
        " \r",
        "    2.9  0070   3.337520e+04   3.465917e+03"
       ]
      },
      {
       "output_type": "stream",
       "stream": "stdout",
       "text": [
        " \r",
        "    2.9  0071   3.338010e+04   1.921654e+05"
       ]
      },
      {
       "output_type": "stream",
       "stream": "stdout",
       "text": [
        " \r",
        "    2.9  0072   3.337331e+04   1.435281e+04"
       ]
      },
      {
       "output_type": "stream",
       "stream": "stdout",
       "text": [
        " \r",
        "      3  0073   3.336976e+04   2.939449e+03"
       ]
      },
      {
       "output_type": "stream",
       "stream": "stdout",
       "text": [
        " \n",
        "\r",
        "      3  0074   3.336758e+04   6.072620e+02"
       ]
      },
      {
       "output_type": "stream",
       "stream": "stdout",
       "text": [
        " \r",
        "    3.1  0075   3.336624e+04   5.174834e+02"
       ]
      },
      {
       "output_type": "stream",
       "stream": "stdout",
       "text": [
        " \r",
        "    3.1  0076   3.346979e+04   9.211957e+05"
       ]
      },
      {
       "output_type": "stream",
       "stream": "stdout",
       "text": [
        " \r",
        "    3.1  0077   3.336589e+04   3.188264e+03"
       ]
      },
      {
       "output_type": "stream",
       "stream": "stdout",
       "text": [
        " \r",
        "    3.2  0078   3.336447e+04   1.721877e+03"
       ]
      },
      {
       "output_type": "stream",
       "stream": "stdout",
       "text": [
        " \r",
        "    3.2  0079   3.336250e+04   4.033550e+02"
       ]
      },
      {
       "output_type": "stream",
       "stream": "stdout",
       "text": [
        " \r",
        "    3.3  0080   3.336771e+04   2.797511e+05"
       ]
      },
      {
       "output_type": "stream",
       "stream": "stdout",
       "text": [
        " \r",
        "    3.3  0081   3.336236e+04   5.978603e+03"
       ]
      },
      {
       "output_type": "stream",
       "stream": "stdout",
       "text": [
        " \r",
        "    3.3  0082   3.336164e+04   4.183057e+02"
       ]
      },
      {
       "output_type": "stream",
       "stream": "stdout",
       "text": [
        " \r",
        "    3.4  0083   3.336135e+04   2.417918e+02"
       ]
      },
      {
       "output_type": "stream",
       "stream": "stdout",
       "text": [
        " \r",
        "    3.4  0084   3.335976e+04   7.989092e+02"
       ]
      },
      {
       "output_type": "stream",
       "stream": "stdout",
       "text": [
        " \r",
        "    3.5  0085   3.335750e+04   6.316052e+03"
       ]
      },
      {
       "output_type": "stream",
       "stream": "stdout",
       "text": [
        " \r",
        "    3.5  0086   3.335635e+04   2.406970e+04"
       ]
      },
      {
       "output_type": "stream",
       "stream": "stdout",
       "text": [
        " \r",
        "    3.5  0087   3.335113e+04   2.088055e+03"
       ]
      },
      {
       "output_type": "stream",
       "stream": "stdout",
       "text": [
        " \r",
        "    3.6  0088   3.334896e+04   3.363636e+03"
       ]
      },
      {
       "output_type": "stream",
       "stream": "stdout",
       "text": [
        " \r",
        "    3.6  0089   3.334642e+04   9.505415e+03"
       ]
      },
      {
       "output_type": "stream",
       "stream": "stdout",
       "text": [
        " \r",
        "    3.7  0090   3.335948e+04   1.701815e+05"
       ]
      },
      {
       "output_type": "stream",
       "stream": "stdout",
       "text": [
        " \r",
        "    3.7  0091   3.334412e+04   3.023105e+03"
       ]
      },
      {
       "output_type": "stream",
       "stream": "stdout",
       "text": [
        " \r",
        "    3.7  0092   3.334065e+04   4.069590e+03"
       ]
      },
      {
       "output_type": "stream",
       "stream": "stdout",
       "text": [
        " \r",
        "    3.8  0093   3.365687e+04   1.334355e+07"
       ]
      },
      {
       "output_type": "stream",
       "stream": "stdout",
       "text": [
        " \r",
        "    3.8  0094   3.334025e+04   5.258158e+03"
       ]
      },
      {
       "output_type": "stream",
       "stream": "stdout",
       "text": [
        " \r",
        "    3.8  0095   3.333173e+04   1.481409e+03"
       ]
      },
      {
       "output_type": "stream",
       "stream": "stdout",
       "text": [
        " \r",
        "    3.9  0096   3.333225e+04   4.682358e+04"
       ]
      },
      {
       "output_type": "stream",
       "stream": "stdout",
       "text": [
        " \r",
        "    3.9  0097   3.332858e+04   1.103605e+04"
       ]
      },
      {
       "output_type": "stream",
       "stream": "stdout",
       "text": [
        " \r",
        "      4  0098   3.332372e+04   6.332024e+03"
       ]
      },
      {
       "output_type": "stream",
       "stream": "stdout",
       "text": [
        " \r",
        "      4  0099   3.332403e+04   4.148598e+04"
       ]
      },
      {
       "output_type": "stream",
       "stream": "stdout",
       "text": [
        " \r",
        "      4  0100   3.332060e+04   4.850452e+03"
       ]
      },
      {
       "output_type": "stream",
       "stream": "stdout",
       "text": [
        " \r",
        "    4.1  0101   3.331749e+04   3.435334e+03"
       ]
      },
      {
       "output_type": "stream",
       "stream": "stdout",
       "text": [
        " \r",
        "    4.1  0102   3.348361e+04   1.458504e+06"
       ]
      },
      {
       "output_type": "stream",
       "stream": "stdout",
       "text": [
        " \r",
        "    4.2  0103   3.331670e+04   3.103661e+03"
       ]
      },
      {
       "output_type": "stream",
       "stream": "stdout",
       "text": [
        " \r",
        "    4.2  0104   3.331367e+04   5.064266e+03"
       ]
      },
      {
       "output_type": "stream",
       "stream": "stdout",
       "text": [
        " \r",
        "    4.2  0105   3.330118e+04   1.984835e+03"
       ]
      },
      {
       "output_type": "stream",
       "stream": "stdout",
       "text": [
        " \r",
        "    4.3  0106   3.385977e+04   4.357472e+06"
       ]
      },
      {
       "output_type": "stream",
       "stream": "stdout",
       "text": [
        " \r",
        "    4.3  0107   3.330052e+04   1.547329e+04"
       ]
      },
      {
       "output_type": "stream",
       "stream": "stdout",
       "text": [
        " \r",
        "    4.4  0108   3.329682e+04   3.940601e+03"
       ]
      },
      {
       "output_type": "stream",
       "stream": "stdout",
       "text": [
        " \r",
        "    4.4  0109   3.329544e+04   1.310044e+04"
       ]
      },
      {
       "output_type": "stream",
       "stream": "stdout",
       "text": [
        " \r",
        "    4.4  0110   3.329380e+04   1.853274e+04"
       ]
      },
      {
       "output_type": "stream",
       "stream": "stdout",
       "text": [
        " \r",
        "    4.5  0111   3.329028e+04   1.211398e+03"
       ]
      },
      {
       "output_type": "stream",
       "stream": "stdout",
       "text": [
        " \r",
        "    4.5  0112   3.328636e+04   2.822385e+04"
       ]
      },
      {
       "output_type": "stream",
       "stream": "stdout",
       "text": [
        " \r",
        "    4.5  0113   3.328477e+04   2.427417e+02"
       ]
      },
      {
       "output_type": "stream",
       "stream": "stdout",
       "text": [
        " \r",
        "    4.6  0114   3.328451e+04   3.323081e+02"
       ]
      },
      {
       "output_type": "stream",
       "stream": "stdout",
       "text": [
        " \r",
        "    4.6  0115   3.331098e+04   2.578037e+05"
       ]
      },
      {
       "output_type": "stream",
       "stream": "stdout",
       "text": [
        " \r",
        "    4.6  0116   3.328446e+04   1.993471e+02"
       ]
      },
      {
       "output_type": "stream",
       "stream": "stdout",
       "text": [
        " \r",
        "    4.7  0117   3.328439e+04   1.631069e+02"
       ]
      },
      {
       "output_type": "stream",
       "stream": "stdout",
       "text": [
        " \r",
        "    4.7  0118   3.328388e+04   5.834678e+02"
       ]
      },
      {
       "output_type": "stream",
       "stream": "stdout",
       "text": [
        " \r",
        "    4.7  0119   3.328352e+04   1.009584e+03"
       ]
      },
      {
       "output_type": "stream",
       "stream": "stdout",
       "text": [
        " \r",
        "    4.8  0120   3.328579e+04   1.728469e+04"
       ]
      },
      {
       "output_type": "stream",
       "stream": "stdout",
       "text": [
        " \r",
        "    4.8  0121   3.328344e+04   1.700072e+02"
       ]
      },
      {
       "output_type": "stream",
       "stream": "stdout",
       "text": [
        " \r",
        "    4.8  0122   3.328311e+04   1.361252e+03"
       ]
      },
      {
       "output_type": "stream",
       "stream": "stdout",
       "text": [
        " \r",
        "    4.9  0123   3.328272e+04   1.453070e+02"
       ]
      },
      {
       "output_type": "stream",
       "stream": "stdout",
       "text": [
        " \r",
        "    4.9  0124   3.328236e+04   3.625695e+03"
       ]
      },
      {
       "output_type": "stream",
       "stream": "stdout",
       "text": [
        " \r",
        "    4.9  0125   3.328215e+04   1.014942e+02"
       ]
      },
      {
       "output_type": "stream",
       "stream": "stdout",
       "text": [
        " \r",
        "    4.9  0126   3.328204e+04   4.216246e+02"
       ]
      },
      {
       "output_type": "stream",
       "stream": "stdout",
       "text": [
        " \r",
        "      5  0127   3.328196e+04   1.522543e+02"
       ]
      },
      {
       "output_type": "stream",
       "stream": "stdout",
       "text": [
        " \r",
        "      5  0128   3.328186e+04   5.914183e+02"
       ]
      },
      {
       "output_type": "stream",
       "stream": "stdout",
       "text": [
        " \r",
        "      5  0129   3.328191e+04   4.373787e+03"
       ]
      },
      {
       "output_type": "stream",
       "stream": "stdout",
       "text": [
        " \r",
        "    5.1  0130   3.328178e+04   3.261006e+02"
       ]
      },
      {
       "output_type": "stream",
       "stream": "stdout",
       "text": [
        " \r",
        "    5.1  0131   3.328174e+04   2.544581e+02"
       ]
      },
      {
       "output_type": "stream",
       "stream": "stdout",
       "text": [
        " \r",
        "    5.1  0132   3.328151e+04   2.097237e+02"
       ]
      },
      {
       "output_type": "stream",
       "stream": "stdout",
       "text": [
        " \r",
        "    5.2  0133   3.329474e+04   8.412583e+04"
       ]
      },
      {
       "output_type": "stream",
       "stream": "stdout",
       "text": [
        " \r",
        "    5.2  0134   3.328145e+04   9.362979e+02"
       ]
      },
      {
       "output_type": "stream",
       "stream": "stdout",
       "text": [
        " \r",
        "    5.2  0135   3.328102e+04   1.431244e+02"
       ]
      },
      {
       "output_type": "stream",
       "stream": "stdout",
       "text": [
        " \r",
        "    5.3  0136   3.328076e+04   1.671309e+02"
       ]
      },
      {
       "output_type": "stream",
       "stream": "stdout",
       "text": [
        " \r",
        "    5.3  0137   3.331212e+04   1.027552e+06"
       ]
      },
      {
       "output_type": "stream",
       "stream": "stdout",
       "text": [
        " \r",
        "    5.3  0138   3.328072e+04   6.656660e+02"
       ]
      },
      {
       "output_type": "stream",
       "stream": "stdout",
       "text": [
        " \r",
        "    5.4  0139   3.328051e+04   2.338000e+02"
       ]
      },
      {
       "output_type": "stream",
       "stream": "stdout",
       "text": [
        " \r",
        "    5.4  0140   3.328057e+04   4.006640e+03"
       ]
      },
      {
       "output_type": "stream",
       "stream": "stdout",
       "text": [
        " \r",
        "    5.4  0141   3.328045e+04   4.352550e+02"
       ]
      },
      {
       "output_type": "stream",
       "stream": "stdout",
       "text": [
        " \r",
        "    5.5  0142   3.328032e+04   4.132555e+02"
       ]
      },
      {
       "output_type": "stream",
       "stream": "stdout",
       "text": [
        " \r",
        "    5.5  0143   3.327990e+04   5.012324e+02"
       ]
      },
      {
       "output_type": "stream",
       "stream": "stdout",
       "text": [
        " \r",
        "    5.5  0144   3.328058e+04   1.724593e+04"
       ]
      },
      {
       "output_type": "stream",
       "stream": "stdout",
       "text": [
        " \r",
        "    5.6  0145   3.327985e+04   2.841364e+02"
       ]
      },
      {
       "output_type": "stream",
       "stream": "stdout",
       "text": [
        " \r",
        "    5.6  0146   3.327977e+04   2.297433e+02"
       ]
      },
      {
       "output_type": "stream",
       "stream": "stdout",
       "text": [
        " \r",
        "    5.6  0147   3.327871e+04   1.180760e+02"
       ]
      },
      {
       "output_type": "stream",
       "stream": "stdout",
       "text": [
        " \r",
        "    5.7  0148   3.327991e+04   8.655565e+03"
       ]
      },
      {
       "output_type": "stream",
       "stream": "stdout",
       "text": [
        " \r",
        "    5.7  0149   3.327859e+04   3.661516e+02"
       ]
      },
      {
       "output_type": "stream",
       "stream": "stdout",
       "text": [
        " \r",
        "    5.7  0150   3.327839e+04   1.089922e+02"
       ]
      },
      {
       "output_type": "stream",
       "stream": "stdout",
       "text": [
        " \r",
        "    5.8  0151   3.327819e+04   1.449426e+02"
       ]
      },
      {
       "output_type": "stream",
       "stream": "stdout",
       "text": [
        " \r",
        "    5.8  0152   3.327762e+04   2.219475e+03"
       ]
      },
      {
       "output_type": "stream",
       "stream": "stdout",
       "text": [
        " \r",
        "    5.8  0153   3.327701e+04   2.775999e+03"
       ]
      },
      {
       "output_type": "stream",
       "stream": "stdout",
       "text": [
        " \r",
        "    5.9  0154   3.327665e+04   3.246142e+04"
       ]
      },
      {
       "output_type": "stream",
       "stream": "stdout",
       "text": [
        " \r",
        "    5.9  0155   3.327579e+04   6.326811e+03"
       ]
      },
      {
       "output_type": "stream",
       "stream": "stdout",
       "text": [
        " \r",
        "    5.9  0156   3.327494e+04   2.437950e+02"
       ]
      },
      {
       "output_type": "stream",
       "stream": "stdout",
       "text": [
        " \r",
        "      6  0157   3.327448e+04   2.902944e+03"
       ]
      },
      {
       "output_type": "stream",
       "stream": "stdout",
       "text": [
        " \r",
        "      6  0158   3.327437e+04   2.574228e+02"
       ]
      },
      {
       "output_type": "stream",
       "stream": "stdout",
       "text": [
        " \r",
        "      6  0159   3.327429e+04   1.051992e+02"
       ]
      },
      {
       "output_type": "stream",
       "stream": "stdout",
       "text": [
        " \r",
        "    6.1  0160   3.327416e+04   8.027857e+02"
       ]
      },
      {
       "output_type": "stream",
       "stream": "stdout",
       "text": [
        " \r",
        "    6.1  0161   3.327404e+04   1.196487e+03"
       ]
      },
      {
       "output_type": "stream",
       "stream": "stdout",
       "text": [
        " \r",
        "    6.1  0162   3.327342e+04   1.666092e+03"
       ]
      },
      {
       "output_type": "stream",
       "stream": "stdout",
       "text": [
        " \r",
        "    6.2  0163   3.328355e+04   5.591066e+04"
       ]
      },
      {
       "output_type": "stream",
       "stream": "stdout",
       "text": [
        " \r",
        "    6.2  0164   3.327333e+04   3.197540e+03"
       ]
      },
      {
       "output_type": "stream",
       "stream": "stdout",
       "text": [
        " \r",
        "    6.2  0165   3.327308e+04   4.063861e+03"
       ]
      },
      {
       "output_type": "stream",
       "stream": "stdout",
       "text": [
        " \r",
        "    6.3  0166   3.345737e+04   6.973080e+06"
       ]
      },
      {
       "output_type": "stream",
       "stream": "stdout",
       "text": [
        " \r",
        "    6.3  0167   3.327296e+04   1.849738e+02"
       ]
      },
      {
       "output_type": "stream",
       "stream": "stdout",
       "text": [
        " \r",
        "    6.3  0168   3.327292e+04   1.956261e+02"
       ]
      },
      {
       "output_type": "stream",
       "stream": "stdout",
       "text": [
        " \r",
        "    6.4  0169   3.327706e+04   1.016941e+05"
       ]
      },
      {
       "output_type": "stream",
       "stream": "stdout",
       "text": [
        " \r",
        "    6.4  0170   3.327289e+04   2.444498e+02"
       ]
      },
      {
       "output_type": "stream",
       "stream": "stdout",
       "text": [
        " \r",
        "    6.4  0171   3.327283e+04   1.533489e+02"
       ]
      },
      {
       "output_type": "stream",
       "stream": "stdout",
       "text": [
        " \r",
        "    6.4  0172   3.327266e+04   1.211232e+03"
       ]
      },
      {
       "output_type": "stream",
       "stream": "stdout",
       "text": [
        " \r",
        "    6.5  0173   3.327249e+04   2.218657e+02"
       ]
      },
      {
       "output_type": "stream",
       "stream": "stdout",
       "text": [
        " \n",
        "\r",
        "    6.5  0174   3.327238e+04   6.949670e+01"
       ]
      },
      {
       "output_type": "stream",
       "stream": "stdout",
       "text": [
        " \r",
        "    6.5  0175   3.327234e+04   1.218672e+02"
       ]
      },
      {
       "output_type": "stream",
       "stream": "stdout",
       "text": [
        " \r",
        "    6.6  0176   3.327221e+04   3.287218e+02"
       ]
      },
      {
       "output_type": "stream",
       "stream": "stdout",
       "text": [
        " \r",
        "    6.6  0177   3.327206e+04   5.009957e+02"
       ]
      },
      {
       "output_type": "stream",
       "stream": "stdout",
       "text": [
        " \r",
        "    6.6  0178   3.327458e+04   4.041260e+03"
       ]
      },
      {
       "output_type": "stream",
       "stream": "stdout",
       "text": [
        " \r",
        "    6.7  0179   3.327198e+04   1.157871e+02"
       ]
      },
      {
       "output_type": "stream",
       "stream": "stdout",
       "text": [
        " \r",
        "    6.7  0180   3.327192e+04   2.268521e+03"
       ]
      },
      {
       "output_type": "stream",
       "stream": "stdout",
       "text": [
        " \r",
        "    6.7  0181   3.327184e+04   3.444650e+02"
       ]
      },
      {
       "output_type": "stream",
       "stream": "stdout",
       "text": [
        " \r",
        "    6.8  0182   3.327181e+04   4.944978e+01"
       ]
      },
      {
       "output_type": "stream",
       "stream": "stdout",
       "text": [
        " \r",
        "    6.8  0183   3.327179e+04   1.474347e+01"
       ]
      },
      {
       "output_type": "stream",
       "stream": "stdout",
       "text": [
        " \r",
        "    6.8  0184   3.327180e+04   1.276093e+03"
       ]
      },
      {
       "output_type": "stream",
       "stream": "stdout",
       "text": [
        " \r",
        "    6.9  0185   3.327178e+04   2.177704e+02"
       ]
      },
      {
       "output_type": "stream",
       "stream": "stdout",
       "text": [
        " \r",
        "    6.9  0186   3.327175e+04   1.390614e+02"
       ]
      },
      {
       "output_type": "stream",
       "stream": "stdout",
       "text": [
        " \r",
        "    6.9  0187   3.327171e+04   3.634339e+01"
       ]
      },
      {
       "output_type": "stream",
       "stream": "stdout",
       "text": [
        " \r",
        "      7  0188   3.327166e+04   4.176074e+01"
       ]
      },
      {
       "output_type": "stream",
       "stream": "stdout",
       "text": [
        " \r",
        "      7  0189   3.327163e+04   7.725458e+01"
       ]
      },
      {
       "output_type": "stream",
       "stream": "stdout",
       "text": [
        " \r",
        "      7  0190   3.327157e+04   1.557284e+01"
       ]
      },
      {
       "output_type": "stream",
       "stream": "stdout",
       "text": [
        " \r",
        "    7.1  0191   3.327155e+04   2.770035e+02"
       ]
      },
      {
       "output_type": "stream",
       "stream": "stdout",
       "text": [
        " \r",
        "    7.1  0192   3.327167e+04   3.752467e+03"
       ]
      },
      {
       "output_type": "stream",
       "stream": "stdout",
       "text": [
        " \r",
        "    7.1  0193   3.327154e+04   2.967613e+01"
       ]
      },
      {
       "output_type": "stream",
       "stream": "stdout",
       "text": [
        " \r",
        "    7.2  0194   3.327150e+04   2.458178e+01"
       ]
      },
      {
       "output_type": "stream",
       "stream": "stdout",
       "text": [
        " \r",
        "    7.2  0195   3.327151e+04   6.241651e+02"
       ]
      },
      {
       "output_type": "stream",
       "stream": "stdout",
       "text": [
        " \r",
        "    7.2  0196   3.327150e+04   6.851493e+01"
       ]
      },
      {
       "output_type": "stream",
       "stream": "stdout",
       "text": [
        " \r",
        "    7.3  0197   3.327149e+04   2.021560e+01"
       ]
      },
      {
       "output_type": "stream",
       "stream": "stdout",
       "text": [
        " \n",
        "\r",
        "    7.3  0198   3.327148e+04   9.470240e+00"
       ]
      },
      {
       "output_type": "stream",
       "stream": "stdout",
       "text": [
        " \r",
        "    7.3  0199   3.327147e+04   1.077278e+01"
       ]
      },
      {
       "output_type": "stream",
       "stream": "stdout",
       "text": [
        " \r",
        "    7.4  0200   3.329298e+04   4.797533e+05"
       ]
      },
      {
       "output_type": "stream",
       "stream": "stdout",
       "text": [
        " \r",
        "    7.4  0201   3.327146e+04   7.809788e+01"
       ]
      },
      {
       "output_type": "stream",
       "stream": "stdout",
       "text": [
        " \r",
        "    7.4  0202   3.327145e+04   6.966041e+01"
       ]
      },
      {
       "output_type": "stream",
       "stream": "stdout",
       "text": [
        " \r",
        "    7.5  0203   3.327164e+04   1.796301e+02"
       ]
      },
      {
       "output_type": "stream",
       "stream": "stdout",
       "text": [
        " \r",
        "    7.5  0204   3.327142e+04   1.457753e+01"
       ]
      },
      {
       "output_type": "stream",
       "stream": "stdout",
       "text": [
        " \r",
        "    7.5  0205   3.327139e+04   1.765171e+01"
       ]
      },
      {
       "output_type": "stream",
       "stream": "stdout",
       "text": [
        " \r",
        "    7.6  0206   3.327136e+04   1.671543e+01"
       ]
      },
      {
       "output_type": "stream",
       "stream": "stdout",
       "text": [
        " \r",
        "    7.6  0207   3.327826e+04   1.679592e+05"
       ]
      },
      {
       "output_type": "stream",
       "stream": "stdout",
       "text": [
        " \r",
        "    7.6  0208   3.327136e+04   5.971740e+01"
       ]
      },
      {
       "output_type": "stream",
       "stream": "stdout",
       "text": [
        " \r",
        "    7.6  0209   3.327135e+04   2.818003e+01"
       ]
      },
      {
       "output_type": "stream",
       "stream": "stdout",
       "text": [
        " \r",
        "    7.7  0210   3.327155e+04   5.082093e+03"
       ]
      },
      {
       "output_type": "stream",
       "stream": "stdout",
       "text": [
        " \r",
        "    7.7  0211   3.327135e+04   2.447181e+00"
       ]
      },
      {
       "output_type": "stream",
       "stream": "stdout",
       "text": [
        " \r",
        "    7.7  0212   3.327135e+04   2.676738e+00"
       ]
      },
      {
       "output_type": "stream",
       "stream": "stdout",
       "text": [
        " \r",
        "    7.8  0213   3.327134e+04   2.331007e+00"
       ]
      },
      {
       "output_type": "stream",
       "stream": "stdout",
       "text": [
        " \r",
        "    7.8  0214   3.327131e+04   1.825686e+00"
       ]
      },
      {
       "output_type": "stream",
       "stream": "stdout",
       "text": [
        " \r",
        "    7.8  0215   3.327147e+04   4.054596e+03"
       ]
      },
      {
       "output_type": "stream",
       "stream": "stdout",
       "text": [
        " \r",
        "    7.9  0216   3.327131e+04   2.556711e+01"
       ]
      },
      {
       "output_type": "stream",
       "stream": "stdout",
       "text": [
        " \r",
        "    7.9  0217   3.327130e+04   1.642450e+01"
       ]
      },
      {
       "output_type": "stream",
       "stream": "stdout",
       "text": [
        " \r",
        "      8  0218   3.327139e+04   3.522076e+02"
       ]
      },
      {
       "output_type": "stream",
       "stream": "stdout",
       "text": [
        " \r",
        "      8  0219   3.327130e+04   1.445998e+00"
       ]
      },
      {
       "output_type": "stream",
       "stream": "stdout",
       "text": [
        " \r",
        "      8  0220   3.327129e+04   1.170449e+00"
       ]
      },
      {
       "output_type": "stream",
       "stream": "stdout",
       "text": [
        " \r",
        "      8  0221   3.327129e+04   6.919213e-01"
       ]
      },
      {
       "output_type": "stream",
       "stream": "stdout",
       "text": [
        " \r",
        "    8.1  0222   3.327135e+04   1.725166e+03"
       ]
      },
      {
       "output_type": "stream",
       "stream": "stdout",
       "text": [
        " \r",
        "    8.1  0223   3.327128e+04   2.256181e+01"
       ]
      },
      {
       "output_type": "stream",
       "stream": "stdout",
       "text": [
        " \r",
        "    8.1  0224   3.327128e+04   1.107741e+01"
       ]
      },
      {
       "output_type": "stream",
       "stream": "stdout",
       "text": [
        " \r",
        "    8.2  0225   3.327141e+04   3.492403e+03"
       ]
      },
      {
       "output_type": "stream",
       "stream": "stdout",
       "text": [
        " \r",
        "    8.2  0226   3.327128e+04   7.278544e-01"
       ]
      },
      {
       "output_type": "stream",
       "stream": "stdout",
       "text": [
        " \r",
        "    8.2  0227   3.327128e+04   1.040889e+00"
       ]
      },
      {
       "output_type": "stream",
       "stream": "stdout",
       "text": [
        " \r",
        "    8.3  0228   3.327128e+04   1.440992e+00"
       ]
      },
      {
       "output_type": "stream",
       "stream": "stdout",
       "text": [
        " \r",
        "    8.3  0229   3.327127e+04   5.331647e+00"
       ]
      },
      {
       "output_type": "stream",
       "stream": "stdout",
       "text": [
        " \r",
        "    8.3  0230   3.327136e+04   2.059341e+03"
       ]
      },
      {
       "output_type": "stream",
       "stream": "stdout",
       "text": [
        " \r",
        "    8.4  0231   3.327127e+04   3.045404e+00"
       ]
      },
      {
       "output_type": "stream",
       "stream": "stdout",
       "text": [
        " \r",
        "    8.4  0232   3.327126e+04   1.428591e+00"
       ]
      },
      {
       "output_type": "stream",
       "stream": "stdout",
       "text": [
        " \r",
        "    8.5  0233   3.327126e+04   6.277396e+00"
       ]
      },
      {
       "output_type": "stream",
       "stream": "stdout",
       "text": [
        " \r",
        "    8.5  0234   3.327125e+04   3.606139e+00"
       ]
      },
      {
       "output_type": "stream",
       "stream": "stdout",
       "text": [
        " \r",
        "    8.5  0235   3.327124e+04   3.295377e+00"
       ]
      },
      {
       "output_type": "stream",
       "stream": "stdout",
       "text": [
        " \r",
        "    8.6  0236   3.327171e+04   1.149391e+04"
       ]
      },
      {
       "output_type": "stream",
       "stream": "stdout",
       "text": [
        " \r",
        "    8.6  0237   3.327124e+04   1.233150e+01"
       ]
      },
      {
       "output_type": "stream",
       "stream": "stdout",
       "text": [
        " \r",
        "    8.6  0238   3.327122e+04   9.710524e+00"
       ]
      },
      {
       "output_type": "stream",
       "stream": "stdout",
       "text": [
        " \r",
        "    8.7  0239   3.327253e+04   3.488604e+04"
       ]
      },
      {
       "output_type": "stream",
       "stream": "stdout",
       "text": [
        " \r",
        "    8.7  0240   3.327122e+04   3.134647e+00"
       ]
      },
      {
       "output_type": "stream",
       "stream": "stdout",
       "text": [
        " \r",
        "    8.7  0241   3.327122e+04   3.251185e+00"
       ]
      },
      {
       "output_type": "stream",
       "stream": "stdout",
       "text": [
        " \r",
        "    8.8  0242   3.327120e+04   5.177518e+00"
       ]
      },
      {
       "output_type": "stream",
       "stream": "stdout",
       "text": [
        " \r",
        "    8.8  0243   3.327118e+04   9.649683e-01"
       ]
      },
      {
       "output_type": "stream",
       "stream": "stdout",
       "text": [
        " \r",
        "    8.8  0244   3.327119e+04   3.055100e+02"
       ]
      },
      {
       "output_type": "stream",
       "stream": "stdout",
       "text": [
        " \r",
        "    8.9  0245   3.327118e+04   8.265233e+00"
       ]
      },
      {
       "output_type": "stream",
       "stream": "stdout",
       "text": [
        " \r",
        "    8.9  0246   3.327118e+04   2.970357e+00"
       ]
      },
      {
       "output_type": "stream",
       "stream": "stdout",
       "text": [
        " \r",
        "    8.9  0247   3.327117e+04   4.700249e-01"
       ]
      },
      {
       "output_type": "stream",
       "stream": "stdout",
       "text": [
        " \r",
        "      9  0248   3.327117e+04   1.121990e+00"
       ]
      },
      {
       "output_type": "stream",
       "stream": "stdout",
       "text": [
        " \r",
        "      9  0249   3.327117e+04   1.195186e+00"
       ]
      },
      {
       "output_type": "stream",
       "stream": "stdout",
       "text": [
        " \r",
        "      9  0250   3.327131e+04   3.253655e+03"
       ]
      },
      {
       "output_type": "stream",
       "stream": "stdout",
       "text": [
        " \r",
        "    9.1  0251   3.327117e+04   1.141806e+00"
       ]
      },
      {
       "output_type": "stream",
       "stream": "stdout",
       "text": [
        " \r",
        "    9.1  0252   3.327117e+04   1.525785e+00"
       ]
      },
      {
       "output_type": "stream",
       "stream": "stdout",
       "text": [
        " \r",
        "    9.1  0253   3.327210e+04   2.568491e+04"
       ]
      },
      {
       "output_type": "stream",
       "stream": "stdout",
       "text": [
        " \r",
        "    9.2  0254   3.327117e+04   3.456812e-01"
       ]
      },
      {
       "output_type": "stream",
       "stream": "stdout",
       "text": [
        " \r",
        "    9.2  0255   3.327117e+04   3.456812e-01"
       ]
      },
      {
       "output_type": "stream",
       "stream": "stdout",
       "text": [
        "\n",
        "Optimization finished in 9.185 Seconds\n",
        "\n"
       ]
      }
     ],
     "prompt_number": 22
    },
    {
     "cell_type": "code",
     "collapsed": false,
     "input": [
      "model.kern.plot_ARD()\n",
      "plot_model(model, model.linear.variances.argsort()[-2:], labels.flatten())\n",
      "plt.legend()"
     ],
     "language": "python",
     "metadata": {},
     "outputs": [
      {
       "metadata": {},
       "output_type": "pyout",
       "prompt_number": 10,
       "text": [
        "<matplotlib.legend.Legend at 0x10fe427d0>"
       ]
      },
      {
       "metadata": {},
       "output_type": "display_data",
       "png": "[encoded data removed]",
       "text": [
        "<matplotlib.figure.Figure at 0x10fdf9050>"
       ]
      },
      {
       "metadata": {},
       "output_type": "display_data",
       "png": "[encoded data removed]",
       "text": [
        "<matplotlib.figure.Figure at 0x10eecd750>"
       ]
      }
     ],
     "prompt_number": 10
    },
    {
     "cell_type": "code",
     "collapsed": false,
     "input": [],
     "language": "python",
     "metadata": {},
     "outputs": [],
     "prompt_number": 10
    },
    {
     "cell_type": "markdown",
     "metadata": {},
     "source": [
      "As you can see the solution with a linear kernel is the same as the PCA solution with the exception of rotational changes and axis flips.\n",
      "\n",
      "For the sake of time, the solution you see was only running for 1000 iterations, thus it might not be converged fully yet. The GP-LVM proceeds by iterative optimization of the *inputs* to the covariance. As we saw in the lecture earlier, for the linear covariance, these latent points can be optimized with an eigenvalue problem, but generally, for non-linear covariance functions, we are obliged to use gradient based optimization."
     ]
    },
    {
     "cell_type": "markdown",
     "metadata": {},
     "source": [
      "### Exercise 1\n",
      "\n",
      "How do your linear solutions differ between PCA and GPLVM with a linear kernel? Look at the plots and also try and consider how the linear ARD parameters compare to the eigenvalues of the principal components."
     ]
    },
    {
     "cell_type": "raw",
     "metadata": {},
     "source": [
      "# Exercise 1 answer"
     ]
    },
    {
     "cell_type": "markdown",
     "metadata": {},
     "source": [
      "### Exercise 2 \n",
      "\n",
      "The next step is to use a non-linear mapping between inputs $\\mathbf{X}$ and ouputs $\\mathbf{Y}$ by selecting the exponentiated quadratic (`GPy.kern.RBF`) covariance function. How does the nonlinear model differe from the linear model? Are there digits that the GPLVM with an exponentiated quadratic covariance can separate, which PCA is not able to? Try modifying the covariance function and running the model again. For example you could try a combination of the linear and exponentiated quadratic covariance function or the Matern 5/2. If you run into stability problems try initializing the covariance function parameters differently."
     ]
    },
    {
     "cell_type": "code",
     "collapsed": false,
     "input": [
      "kern = GPy.kern.RBF(input_dim)"
     ],
     "language": "python",
     "metadata": {},
     "outputs": [],
     "prompt_number": 11
    },
    {
     "cell_type": "markdown",
     "metadata": {},
     "source": [
      "## Bayesian GPLVM\n",
      "\n",
      "In GP-LVM we use a point estimate of the distribution of the input $\\mathbf{X}$. This estimate is derived through maximum likelihood or through a maximum a posteriori (MAP) approach. Ideally, we would like to also estimate a distribution over the input $\\mathbf{X}$. In the Bayesian GPLVM we approximate the true distribution $p(\\mathbf{X}|\\mathbf{Y})$ by a variational approximation $q(\\mathbf{X})$ and integrate $\\mathbf{X}$ out. \n",
      "\n",
      "Approximating the posterior in this way allows us to optimize a lower bound on the marginal likelihood. Handling the uncertainty in a principled way allows the model to make an assessment of whether a particular latent dimension is required, or the variation is better explained by noise. This allows the algorithm to switch off latent dimensions. The switching off can take some time though, so below in Section 6 we provide a pre-learnt module, but to complete section 6 you'll need to be working in the IPython console instead of the notebook.\n",
      "\n",
      "For the moment we'll run a short experiment applying the Bayesian GP-LVM with an exponentiated quadratic covariance function."
     ]
    },
    {
     "cell_type": "code",
     "collapsed": false,
     "input": [
      "# Model optimization\n",
      "input_dim = 5 # How many latent dimensions to use\n",
      "kern = GPy.kern.RBF(input_dim,ARD=True) # ARD kernel\n",
      "model = GPy.models.BayesianGPLVM(Yn, input_dim=input_dim, kernel=kern, num_inducing=25)\n",
      "\n",
      "# initialize noise as 1% of variance in data\n",
      "model.Gaussian_noise.variance = model.Y.var()/100."
     ],
     "language": "python",
     "metadata": {},
     "outputs": [
      {
       "output_type": "stream",
       "stream": "stdout",
       "text": [
        "clang: warning: argument unused during compilation: '-fopenmp'\n",
        "In file included from /Users/neil/.cache/scipy/python27_compiled/sc_1790bf65208b11355ffcfd4b65a5f1096.cpp:11:\n",
        "In file included from /Users/neil/Library/Enthought/Canopy_64bit/User/lib/python2.7/site-packages/scipy/weave/blitz/blitz/array.h:26:\n",
        "In file included from /Users/neil/Library/Enthought/Canopy_64bit/User/lib/python2.7/site-packages/scipy/weave/blitz/blitz/array-impl.h:37:\n",
        "/Users/neil/Library/Enthought/Canopy_64bit/User/lib/python2.7/site-packages/scipy/weave/blitz/blitz/range.h:120:34: warning: '&&' within '||' [-Wlogical-op-parentheses]\n",
        "        return ((first_ < last_) && (stride_ == 1) || (first_ == last_));\n",
        "                ~~~~~~~~~~~~~~~~~^~~~~~~~~~~~~~~~~ ~~\n",
        "/Users/neil/Library/Enthought/Canopy_64bit/User/lib/python2.7/site-packages/scipy/weave/blitz/blitz/range.h:120:34: note: place parentheses around the '&&' expression to silence this warning\n",
        "        return ((first_ < last_) && (stride_ == 1) || (first_ == last_));\n",
        "                                 ^\n",
        "                (                                 )\n",
        "In file included from /Users/neil/.cache/scipy/python27_compiled/sc_1790bf65208b11355ffcfd4b65a5f1096.cpp:23:\n",
        "In file included from /Users/neil/Library/Enthought/Canopy_64bit/User/lib/python2.7/site-packages/numpy/core/include/numpy/arrayobject.h:4:\n",
        "In file included from /Users/neil/Library/Enthought/Canopy_64bit/User/lib/python2.7/site-packages/numpy/core/include/numpy/ndarrayobject.h:17:\n",
        "In file included from /Users/neil/Library/Enthought/Canopy_64bit/User/lib/python2.7/site-packages/numpy/core/include/numpy/ndarraytypes.h:1761:\n",
        "/Users/neil/Library/Enthought/Canopy_64bit/User/lib/python2.7/site-packages/numpy/core/include/numpy/npy_1_7_deprecated_api.h:15:2: warning: \"Using deprecated NumPy API, disable it by \"          \"#defining NPY_NO_DEPRECATED_API NPY_1_7_API_VERSION\" [-W#warnings]\n",
        "#warning \"Using deprecated NumPy API, disable it by \" \\\n",
        " ^\n",
        "/Users/neil/.cache/scipy/python27_compiled/sc_1790bf65208b11355ffcfd4b65a5f1096.cpp:24:10: fatal error: 'omp.h' file not found\n",
        "#include <omp.h>\n",
        "         ^\n",
        "2 warnings and 1 error generated.\n",
        "\n",
        " Weave compilation failed. Falling back to (slower) numpy implementation\n",
        "\n"
       ]
      }
     ],
     "prompt_number": 12
    },
    {
     "cell_type": "code",
     "collapsed": false,
     "input": [
      "model.optimize()"
     ],
     "language": "python",
     "metadata": {},
     "outputs": [],
     "prompt_number": 19
    },
    {
     "cell_type": "code",
     "collapsed": false,
     "input": [
      "def plot_model(m, which_dims, labels):\n",
      "    fig = plt.figure(); ax = fig.add_subplot(111)\n",
      "    X = m.X[:,which_dims]\n",
      "    ulabs = []\n",
      "    for lab in labels:\n",
      "        if not lab in ulabs:\n",
      "            ulabs.append(lab)\n",
      "            pass\n",
      "        pass\n",
      "    for i, lab in enumerate(ulabs):\n",
      "        ax.scatter(*X.mean[labels==lab].T,marker='o',color=colors[i],label=lab)\n",
      "        pass\n",
      "    pass\n"
     ],
     "language": "python",
     "metadata": {},
     "outputs": [],
     "prompt_number": 22
    },
    {
     "cell_type": "code",
     "collapsed": false,
     "input": [
      "# Plotting the model\n",
      "plot_model(model, model.rbf.lengthscale.argsort()[:2], labels.flatten())\n",
      "plt.legend()\n",
      "model.kern.plot_ARD()\n",
      "# Saving the model:\n",
      "model.pickle('bgplvm_rbf.pickle')"
     ],
     "language": "python",
     "metadata": {},
     "outputs": [
      {
       "ename": "IndexError",
       "evalue": "index 60 is out of bounds for axis 0 with size 60",
       "output_type": "pyerr",
       "traceback": [
        "\u001b[0;31m---------------------------------------------------------------------------\u001b[0m\n\u001b[0;31mIndexError\u001b[0m                                Traceback (most recent call last)",
        "\u001b[0;32m<ipython-input-23-722b24152cbf>\u001b[0m in \u001b[0;36m<module>\u001b[0;34m()\u001b[0m\n\u001b[1;32m      1\u001b[0m \u001b[0;31m# Plotting the model\u001b[0m\u001b[0;34m\u001b[0m\u001b[0;34m\u001b[0m\u001b[0m\n\u001b[0;32m----> 2\u001b[0;31m \u001b[0mplot_model\u001b[0m\u001b[0;34m(\u001b[0m\u001b[0mmodel\u001b[0m\u001b[0;34m,\u001b[0m \u001b[0mmodel\u001b[0m\u001b[0;34m.\u001b[0m\u001b[0mrbf\u001b[0m\u001b[0;34m.\u001b[0m\u001b[0mlengthscale\u001b[0m\u001b[0;34m.\u001b[0m\u001b[0margsort\u001b[0m\u001b[0;34m(\u001b[0m\u001b[0;34m)\u001b[0m\u001b[0;34m[\u001b[0m\u001b[0;34m:\u001b[0m\u001b[0;36m2\u001b[0m\u001b[0;34m]\u001b[0m\u001b[0;34m,\u001b[0m \u001b[0mlabels\u001b[0m\u001b[0;34m.\u001b[0m\u001b[0mflatten\u001b[0m\u001b[0;34m(\u001b[0m\u001b[0;34m)\u001b[0m\u001b[0;34m)\u001b[0m\u001b[0;34m\u001b[0m\u001b[0m\n\u001b[0m\u001b[1;32m      3\u001b[0m \u001b[0mplt\u001b[0m\u001b[0;34m.\u001b[0m\u001b[0mlegend\u001b[0m\u001b[0;34m(\u001b[0m\u001b[0;34m)\u001b[0m\u001b[0;34m\u001b[0m\u001b[0m\n\u001b[1;32m      4\u001b[0m \u001b[0mmodel\u001b[0m\u001b[0;34m.\u001b[0m\u001b[0mkern\u001b[0m\u001b[0;34m.\u001b[0m\u001b[0mplot_ARD\u001b[0m\u001b[0;34m(\u001b[0m\u001b[0;34m)\u001b[0m\u001b[0;34m\u001b[0m\u001b[0m\n\u001b[1;32m      5\u001b[0m \u001b[0;31m# Saving the model:\u001b[0m\u001b[0;34m\u001b[0m\u001b[0;34m\u001b[0m\u001b[0m\n",
        "\u001b[0;32m<ipython-input-22-c2682801fdef>\u001b[0m in \u001b[0;36mplot_model\u001b[0;34m(m, which_dims, labels)\u001b[0m\n\u001b[1;32m      9\u001b[0m         \u001b[0;32mpass\u001b[0m\u001b[0;34m\u001b[0m\u001b[0m\n\u001b[1;32m     10\u001b[0m     \u001b[0;32mfor\u001b[0m \u001b[0mi\u001b[0m\u001b[0;34m,\u001b[0m \u001b[0mlab\u001b[0m \u001b[0;32min\u001b[0m \u001b[0menumerate\u001b[0m\u001b[0;34m(\u001b[0m\u001b[0mulabs\u001b[0m\u001b[0;34m)\u001b[0m\u001b[0;34m:\u001b[0m\u001b[0;34m\u001b[0m\u001b[0m\n\u001b[0;32m---> 11\u001b[0;31m         \u001b[0max\u001b[0m\u001b[0;34m.\u001b[0m\u001b[0mscatter\u001b[0m\u001b[0;34m(\u001b[0m\u001b[0;34m*\u001b[0m\u001b[0mX\u001b[0m\u001b[0;34m.\u001b[0m\u001b[0mmean\u001b[0m\u001b[0;34m[\u001b[0m\u001b[0mlabels\u001b[0m\u001b[0;34m==\u001b[0m\u001b[0mlab\u001b[0m\u001b[0;34m]\u001b[0m\u001b[0;34m.\u001b[0m\u001b[0mT\u001b[0m\u001b[0;34m,\u001b[0m\u001b[0mmarker\u001b[0m\u001b[0;34m=\u001b[0m\u001b[0;34m'o'\u001b[0m\u001b[0;34m,\u001b[0m\u001b[0mcolor\u001b[0m\u001b[0;34m=\u001b[0m\u001b[0mcolors\u001b[0m\u001b[0;34m[\u001b[0m\u001b[0mi\u001b[0m\u001b[0;34m]\u001b[0m\u001b[0;34m,\u001b[0m\u001b[0mlabel\u001b[0m\u001b[0;34m=\u001b[0m\u001b[0mlab\u001b[0m\u001b[0;34m)\u001b[0m\u001b[0;34m\u001b[0m\u001b[0m\n\u001b[0m\u001b[1;32m     12\u001b[0m         \u001b[0;32mpass\u001b[0m\u001b[0;34m\u001b[0m\u001b[0m\n\u001b[1;32m     13\u001b[0m     \u001b[0;32mpass\u001b[0m\u001b[0;34m\u001b[0m\u001b[0m\n",
        "\u001b[0;32m/Users/neil/SheffieldML/GPy/GPy/core/parameterization/param.pyc\u001b[0m in \u001b[0;36m__getitem__\u001b[0;34m(self, s, *args, **kwargs)\u001b[0m\n\u001b[1;32m    127\u001b[0m         \u001b[0;31m#if not reduce(lambda a, b: a or numpy.any(b is Ellipsis), s, False) and len(s) <= self.ndim:\u001b[0m\u001b[0;34m\u001b[0m\u001b[0;34m\u001b[0m\u001b[0m\n\u001b[1;32m    128\u001b[0m         \u001b[0;31m#    s += (Ellipsis,)\u001b[0m\u001b[0;34m\u001b[0m\u001b[0;34m\u001b[0m\u001b[0m\n\u001b[0;32m--> 129\u001b[0;31m         \u001b[0mnew_arr\u001b[0m \u001b[0;34m=\u001b[0m \u001b[0msuper\u001b[0m\u001b[0;34m(\u001b[0m\u001b[0mParam\u001b[0m\u001b[0;34m,\u001b[0m \u001b[0mself\u001b[0m\u001b[0;34m)\u001b[0m\u001b[0;34m.\u001b[0m\u001b[0m__getitem__\u001b[0m\u001b[0;34m(\u001b[0m\u001b[0ms\u001b[0m\u001b[0;34m,\u001b[0m \u001b[0;34m*\u001b[0m\u001b[0margs\u001b[0m\u001b[0;34m,\u001b[0m \u001b[0;34m**\u001b[0m\u001b[0mkwargs\u001b[0m\u001b[0;34m)\u001b[0m\u001b[0;34m\u001b[0m\u001b[0m\n\u001b[0m\u001b[1;32m    130\u001b[0m         \u001b[0;32mtry\u001b[0m\u001b[0;34m:\u001b[0m\u001b[0;34m\u001b[0m\u001b[0m\n\u001b[1;32m    131\u001b[0m             \u001b[0mnew_arr\u001b[0m\u001b[0;34m.\u001b[0m\u001b[0m_current_slice_\u001b[0m \u001b[0;34m=\u001b[0m \u001b[0ms\u001b[0m\u001b[0;34m\u001b[0m\u001b[0m\n",
        "\u001b[0;31mIndexError\u001b[0m: index 60 is out of bounds for axis 0 with size 60"
       ]
      },
      {
       "metadata": {},
       "output_type": "display_data",
       "png": "[encoded data removed]",
       "text": [
        "<matplotlib.figure.Figure at 0x110fb0290>"
       ]
      }
     ],
     "prompt_number": 23
    },
    {
     "cell_type": "markdown",
     "metadata": {},
     "source": [
      "Because we are now also considering the uncertainty in the model, this optimization can take some time. However, you are free to interrupt the optimization at any point selecting `Kernel->Interupt` from the notepad menu. This will leave you with the model, `m` in the current state and you can plot and look into the model parameters. "
     ]
    },
    {
     "cell_type": "markdown",
     "metadata": {},
     "source": [
      "### Exercise 3\n",
      "\n",
      "How does the Bayesian GP-LVM compare with the standard model?"
     ]
    },
    {
     "cell_type": "raw",
     "metadata": {},
     "source": [
      "# Exercise 3 answer "
     ]
    },
    {
     "cell_type": "markdown",
     "metadata": {},
     "source": [
      "### Preoptimized Model\n",
      "\n",
      "A good way of working with latent variable models is to interact with the latent dimensions, generating data. This is a little bit tricky in the notebook, so below in section 6 we provide code for setting up an interactive demo in the standard IPython shell. If you are working on your own machine you can try this now. Otherwise continue with section 5.\n",
      "\n",
      "## Multiview Learning: Manifold Relevance Determination\n",
      "\n",
      "In Manifold Relevance Determination we try to find one latent space, common for $K$ observed output sets (modalities) $\\{\\mathbf{Y}_{k}\\}_{k=1}^{K}$. Each modality is associated with a separate set of ARD parameters so that it switches off different parts of the whole latent space and, therefore, $\\mathbf{X}$ is softly segmented into parts that are private to some, or shared for all modalities. Can you explain what happens in the following example?\n",
      "\n",
      "Again, you can stop the optimizer at any point and explore the result obtained with the so far training:"
     ]
    },
    {
     "cell_type": "code",
     "collapsed": false,
     "input": [
      "model = GPy.examples.dimensionality_reduction.mrd_simulation(optimize = False, plot=False)\n",
      "model.optimize()"
     ],
     "language": "python",
     "metadata": {},
     "outputs": [
      {
       "metadata": {},
       "output_type": "display_data",
       "png": "[encoded data removed]",
       "text": [
        "<matplotlib.figure.Figure at 0x112625e90>"
       ]
      }
     ],
     "prompt_number": 24
    },
    {
     "cell_type": "code",
     "collapsed": false,
     "input": [
      "model.optimize(messages=True)"
     ],
     "language": "python",
     "metadata": {},
     "outputs": [
      {
       "output_type": "stream",
       "stream": "stdout",
       "text": [
        "Running L-BFGS-B (Scipy implementation) Code:\n",
        " secs      i      f              |g|        \n",
        "\r"
       ]
      },
      {
       "output_type": "stream",
       "stream": "stdout",
       "text": [
        "   0.12  0000   3.818617e+03   6.988940e-02"
       ]
      },
      {
       "output_type": "stream",
       "stream": "stdout",
       "text": [
        " \r",
        "   0.19  0001   3.818617e+03   6.988940e-02"
       ]
      },
      {
       "output_type": "stream",
       "stream": "stdout",
       "text": [
        " \r",
        "   0.22  0002   4.742215e+03   5.258970e+06"
       ]
      },
      {
       "output_type": "stream",
       "stream": "stdout",
       "text": [
        " \r",
        "   0.24  0003   3.818617e+03   5.575502e-03"
       ]
      },
      {
       "output_type": "stream",
       "stream": "stdout",
       "text": [
        " \r",
        "   0.27  0004   3.818617e+03   3.459207e-03"
       ]
      },
      {
       "output_type": "stream",
       "stream": "stdout",
       "text": [
        " \r",
        "   0.27  0005   3.818617e+03   3.459207e-03"
       ]
      },
      {
       "output_type": "stream",
       "stream": "stdout",
       "text": [
        "\n",
        "Optimization finished in 0.26898 Seconds\n",
        "\n"
       ]
      }
     ],
     "prompt_number": 17
    },
    {
     "cell_type": "code",
     "collapsed": false,
     "input": [
      "_ = model.X.plot()\n",
      "model.plot_scales()"
     ],
     "language": "python",
     "metadata": {},
     "outputs": [
      {
       "metadata": {},
       "output_type": "pyout",
       "prompt_number": 18,
       "text": [
        "[<matplotlib.axes._subplots.AxesSubplot at 0x10fe42910>,\n",
        " <matplotlib.axes._subplots.AxesSubplot at 0x1115380d0>,\n",
        " <matplotlib.axes._subplots.AxesSubplot at 0x11260acd0>]"
       ]
      },
      {
       "metadata": {},
       "output_type": "display_data",
       "png": "[encoded data removed]",
       "text": [
        "<matplotlib.figure.Figure at 0x11154bad0>"
       ]
      },
      {
       "metadata": {},
       "output_type": "display_data",
       "png": "[encoded data removed]",
       "text": [
        "<matplotlib.figure.Figure at 0x10eec50d0>"
       ]
      }
     ],
     "prompt_number": 18
    },
    {
     "cell_type": "markdown",
     "metadata": {},
     "source": [
      "### Exercise 4\n",
      "\n",
      "The simulated data set is a sinusoid and a double frequency sinusoid function as input signals.\n",
      "\n",
      "Which signal is shared across the three datasets? Which are private? Are there signals shared only between two of the three datasets?"
     ]
    },
    {
     "cell_type": "raw",
     "metadata": {},
     "source": [
      "# Exercise 4"
     ]
    },
    {
     "cell_type": "markdown",
     "metadata": {},
     "source": [
      "## Interactive Demo: For Use Outside the Notebook\n",
      "\n",
      "The module below loads a pre-optimized Bayesian GPLVM model (like the one you just trained) and allows you to interact with the latent space. \n",
      "Three interactive figures pop up: the latent space, the ARD scales and a sample in the output space (corresponding to the current selected latent point of the other figure). \n",
      "You can sample with the mouse from the latent space and obtain samples in the output space. \n",
      "You can select different latent dimensions to vary by clicking on the corresponding scales with the left and right mouse buttons.\n",
      "This will also cause the latent space to be projected on the selected latent dimensions in the other figure."
     ]
    },
    {
     "cell_type": "code",
     "collapsed": false,
     "input": [
      "import urllib2, os, sys\n",
      "\n",
      "model_path =  'digit_bgplvm_demo.pickle' # local name for model file\n",
      "status = \"\"\n",
      "\n",
      "re = 0\n",
      "if len(sys.argv) == 2:\n",
      "    re = 1\n",
      "\n",
      "if re or not os.path.exists(model_path): # only download the model new, if it was not already\n",
      "    url = 'http://staffwww.dcs.sheffield.ac.uk/people/M.Zwiessele/gpss/lab3/digit_bgplvm_demo.pickle'\n",
      "    with open(model_path, 'wb') as f:\n",
      "        u = urllib2.urlopen(url)\n",
      "        meta = u.info()\n",
      "        file_size = int(meta.getheaders(\"Content-Length\")[0])\n",
      "        print \"Downloading: %s\" % (model_path)\n",
      "\n",
      "        file_size_dl = 0\n",
      "        block_sz = 8192\n",
      "        while True:\n",
      "            buff = u.read(block_sz)\n",
      "            if not buff:\n",
      "                break\n",
      "            file_size_dl += len(buff)\n",
      "            f.write(buff)\n",
      "            sys.stdout.write(\" \"*(len(status)) + \"\\r\")\n",
      "            status = r\"{:7.3f}/{:.3f}MB [{: >7.2%}]\".format(file_size_dl/(1.*1e6), file_size/(1.*1e6), float(file_size_dl)/file_size)\n",
      "            sys.stdout.write(status)\n",
      "            sys.stdout.flush()\n",
      "        sys.stdout.write(\" \"*(len(status)) + \"\\r\")\n",
      "        print status\n",
      "else:\n",
      "    print \"Already cached, to reload run with 'reload' as the only argument\""
     ],
     "language": "python",
     "metadata": {},
     "outputs": [
      {
       "output_type": "stream",
       "stream": "stdout",
       "text": [
        "Already cached, to reload run with 'reload' as the only argument\n"
       ]
      }
     ],
     "prompt_number": 26
    },
    {
     "cell_type": "code",
     "collapsed": false,
     "input": [
      "import cPickle as pickle\n",
      "with open('./digit_bgplvm_demo.pickle', 'rb') as f:\n",
      "    model = pickle.load(f)"
     ],
     "language": "python",
     "metadata": {},
     "outputs": [],
     "prompt_number": 27
    },
    {
     "cell_type": "markdown",
     "metadata": {},
     "source": [
      "Prepare for plotting of this model. If you run on a webserver the interactive plotting will not work. Thus, you can skip to the next codeblock and run it on your own machine, later."
     ]
    },
    {
     "cell_type": "code",
     "collapsed": false,
     "input": [
      "%matplotlib qt\n",
      "fig = plt.figure('Latent Space & Scales', figsize=(16,6))\n",
      "ax_latent = fig.add_subplot(121)\n",
      "ax_scales = fig.add_subplot(122)\n",
      "\n",
      "fig_out = plt.figure('Output', figsize=(1,1))\n",
      "ax_image  = fig_out.add_subplot(111)\n",
      "fig_out.tight_layout(pad=0)\n",
      "\n",
      "data_show = GPy.plotting.matplot_dep.visualize.image_show(model.Y[0:1, :], dimensions=(16, 16), transpose=0, invert=0, scale=False, axes=ax_image)\n",
      "lvm_visualizer = GPy.plotting.matplot_dep.visualize.lvm_dimselect(model.X.mean.copy(), model, data_show, ax_latent, ax_scales, labels=labels.flatten())"
     ],
     "language": "python",
     "metadata": {},
     "outputs": [
      {
       "output_type": "stream",
       "stream": "stdout",
       "text": [
        "    Index    |  \u001b[1m    mean     \u001b[0;0m  |  Constraint  |   Prior   |  Tied to\n",
        "    [0 0]    |     -1.2875148  |              |           |    N/A    \n",
        "    [0 1]    |    -0.23449731  |              |           |    N/A    \n",
        "    [0 2]    |    0.021141743  |              |           |    N/A    \n",
        "    [0 3]    |     -1.1064083  |              |           |    N/A    \n",
        "    [0 4]    |     -1.0419867  |              |           |    N/A    \n",
        "    [1 0]    |     -1.0494874  |              |           |    N/A    \n",
        "    [1 1]    |    -0.19597324  |              |           |    N/A    \n",
        "    [1 2]    |     0.11431049  |              |           |    N/A    \n",
        "    [1 3]    |     -0.7168742  |              |           |    N/A    \n",
        "    [1 4]    |     -1.1353298  |              |           |    N/A    \n",
        "    [2 0]    |     -1.7831573  |              |           |    N/A    \n",
        "    [2 1]    |    -0.39102269  |              |           |    N/A    \n",
        "    [2 2]    |      1.4732891  |              |           |    N/A    \n",
        "    [2 3]    |    0.088935034  |              |           |    N/A    \n",
        "    [2 4]    |    -0.76806973  |              |           |    N/A    \n",
        "    [3 0]    |    -0.99378649  |              |           |    N/A    \n",
        "    [3 1]    |     0.10770137  |              |           |    N/A    \n",
        "    [3 2]    |     0.13317655  |              |           |    N/A    \n",
        "    [3 3]    |     0.97261429  |              |           |    N/A    \n",
        "    [3 4]    |    -0.98947013  |              |           |    N/A    \n",
        "    [4 0]    |     -1.4105533  |              |           |    N/A    \n",
        "    [4 1]    |   -0.025334191  |              |           |    N/A    \n",
        "    [4 2]    |    -0.17219684  |              |           |    N/A    \n",
        "    [4 3]    |      1.0193768  |              |           |    N/A    \n",
        "    [4 4]    |     -1.4817101  |              |           |    N/A    \n",
        "    [5 0]    |    -0.38133961  |              |           |    N/A    \n",
        "    [5 1]    |     0.10082104  |              |           |    N/A    \n",
        "    [5 2]    |    -0.74633462  |              |           |    N/A    \n",
        "    [5 3]    |    -0.43987256  |              |           |    N/A    \n",
        "    [5 4]    |     -1.2530002  |              |           |    N/A    \n",
        "    [6 0]    |    -0.29501522  |              |           |    N/A    \n",
        "    [6 1]    |    0.079535029  |              |           |    N/A    \n",
        "    [6 2]    |    -0.98985724  |              |           |    N/A    \n",
        "    [6 3]    |       0.938468  |              |           |    N/A    \n",
        "    [6 4]    |     -1.4503978  |              |           |    N/A    \n",
        "    [7 0]    |     -1.0881307  |              |           |    N/A    \n",
        "    [7 1]    |     0.16567686  |              |           |    N/A    \n",
        "    [7 2]    |    0.049003439  |              |           |    N/A    \n",
        "    [7 3]    |     0.60245844  |              |           |    N/A    \n",
        "    [7 4]    |     -1.2225138  |              |           |    N/A    \n",
        "    [8 0]    |     -1.7947299  |              |           |    N/A    \n",
        "    [8 1]    |    -0.39587198  |              |           |    N/A    \n",
        "    [8 2]    |      1.4642626  |              |           |    N/A    \n",
        "    [8 3]    |     0.19817634  |              |           |    N/A    \n",
        "    [8 4]    |    -0.82434553  |              |           |    N/A    \n",
        "    [9 0]    |    -0.86013063  |              |           |    N/A    \n",
        "    [9 1]    |    0.080626498  |              |           |    N/A    \n",
        "    [9 2]    |   -0.062338038  |              |           |    N/A    \n",
        "    [9 3]    |      0.3047738  |              |           |    N/A    \n",
        "    [9 4]    |     -1.3470944  |              |           |    N/A    \n",
        "   [10  0]   |    -0.45013494  |              |           |    N/A    \n",
        "   [10  1]   |     0.13939767  |              |           |    N/A    \n",
        "   [10  2]   |    -0.41494957  |              |           |    N/A    \n",
        "   [10  3]   |     0.40539967  |              |           |    N/A    \n",
        "   [10  4]   |     -1.2524523  |              |           |    N/A    \n",
        "   [11  0]   |     -1.7297853  |              |           |    N/A    \n",
        "   [11  1]   |    -0.12058588  |              |           |    N/A    \n",
        "   [11  2]   |      1.0075511  |              |           |    N/A    \n",
        "   [11  3]   |     0.99835007  |              |           |    N/A    \n",
        "   [11  4]   |     -1.0629356  |              |           |    N/A    \n",
        "   [12  0]   |    -0.69427579  |              |           |    N/A    \n",
        "   [12  1]   |      0.2251535  |              |           |    N/A    \n",
        "   [12  2]   |    -0.11988893  |              |           |    N/A    \n",
        "   [12  3]   |     0.99866892  |              |           |    N/A    \n",
        "   [12  4]   |     -1.3175047  |              |           |    N/A    \n",
        "   [13  0]   |     -1.3625222  |              |           |    N/A    \n",
        "   [13  1]   |    -0.31724194  |              |           |    N/A    \n",
        "   [13  2]   |      1.5702513  |              |           |    N/A    \n",
        "   [13  3]   |    -0.84288357  |              |           |    N/A    \n",
        "   [13  4]   |    -0.51170594  |              |           |    N/A    \n",
        "   [14  0]   |     -1.6274691  |              |           |    N/A    \n",
        "   [14  1]   |    -0.13652015  |              |           |    N/A    \n",
        "   [14  2]   |     0.50835469  |              |           |    N/A    \n",
        "   [14  3]   |      1.1190293  |              |           |    N/A    \n",
        "   [14  4]   |     -1.0127023  |              |           |    N/A    \n",
        "   [15  0]   |    -0.78131366  |              |           |    N/A    \n",
        "   [15  1]   |     0.11813936  |              |           |    N/A    \n",
        "   [15  2]   |     0.02529459  |              |           |    N/A    \n",
        "   [15  3]   |     0.13395947  |              |           |    N/A    \n",
        "   [15  4]   |      -1.323848  |              |           |    N/A    \n",
        "   [16  0]   |     -1.5610036  |              |           |    N/A    \n",
        "   [16  1]   |    -0.36893836  |              |           |    N/A    \n",
        "   [16  2]   |      1.0336005  |              |           |    N/A    \n",
        "   [16  3]   |    -0.34261046  |              |           |    N/A    \n",
        "   [16  4]   |    -0.83944034  |              |           |    N/A    \n",
        "   [17  0]   |     -1.3114442  |              |           |    N/A    \n",
        "   [17  1]   |     0.13900899  |              |           |    N/A    \n",
        "   [17  2]   |    -0.11087409  |              |           |    N/A    \n",
        "   [17  3]   |      1.6914932  |              |           |    N/A    \n",
        "   [17  4]   |     -1.1594638  |              |           |    N/A    \n",
        "   [18  0]   |     -1.4202316  |              |           |    N/A    \n",
        "   [18  1]   |   -0.037367175  |              |           |    N/A    \n",
        "   [18  2]   |   -0.078721342  |              |           |    N/A    \n",
        "   [18  3]   |     0.56729146  |              |           |    N/A    \n",
        "   [18  4]   |     -1.3533693  |              |           |    N/A    \n",
        "   [19  0]   |    -0.67668244  |              |           |    N/A    \n",
        "   [19  1]   |     0.22949184  |              |           |    N/A    \n",
        "   [19  2]   |    -0.43979079  |              |           |    N/A    \n",
        "   [19  3]   |     0.94848926  |              |           |    N/A    \n",
        "   [19  4]   |     -1.5314685  |              |           |    N/A    \n",
        "   [20  0]   |     -1.2607565  |              |           |    N/A    \n",
        "   [20  1]   |    0.095709345  |              |           |    N/A    \n",
        "   [20  2]   |     0.36248257  |              |           |    N/A    \n",
        "   [20  3]   |     0.33347008  |              |           |    N/A    \n",
        "   [20  4]   |     -1.1327955  |              |           |    N/A    \n",
        "   [21  0]   |    -0.77926076  |              |           |    N/A    \n",
        "   [21  1]   |    0.095992814  |              |           |    N/A    \n",
        "   [21  2]   |    0.052352407  |              |           |    N/A    \n",
        "   [21  3]   |    -0.38729308  |              |           |    N/A    \n",
        "   [21  4]   |     -1.2612454  |              |           |    N/A    \n",
        "   [22  0]   |     -1.5388033  |              |           |    N/A    \n",
        "   [22  1]   |     -0.2602525  |              |           |    N/A    \n",
        "   [22  2]   |      1.0848588  |              |           |    N/A    \n",
        "   [22  3]   |     0.24956974  |              |           |    N/A    \n",
        "   [22  4]   |    -0.79132732  |              |           |    N/A    \n",
        "   [23  0]   |      -1.380618  |              |           |    N/A    \n",
        "   [23  1]   |  0.00092159901  |              |           |    N/A    \n",
        "   [23  2]   |    0.067600903  |              |           |    N/A    \n",
        "   [23  3]   |     0.97153395  |              |           |    N/A    \n",
        "   [23  4]   |     -1.3665104  |              |           |    N/A    \n",
        "   [24  0]   |     -1.6871887  |              |           |    N/A    \n",
        "   [24  1]   |    -0.18357747  |              |           |    N/A    \n",
        "   [24  2]   |     0.59648334  |              |           |    N/A    \n",
        "   [24  3]   |     0.87015877  |              |           |    N/A    \n",
        "   [24  4]   |     -1.1813841  |              |           |    N/A    \n",
        "   [25  0]   |     -1.4416102  |              |           |    N/A    \n",
        "   [25  1]   |    -0.19167098  |              |           |    N/A    \n",
        "   [25  2]   |     0.49483012  |              |           |    N/A    \n",
        "   [25  3]   |      0.5938973  |              |           |    N/A    \n",
        "   [25  4]   |     -1.0284283  |              |           |    N/A    \n",
        "   [26  0]   |     -1.3719645  |              |           |    N/A    \n",
        "   [26  1]   |   -0.069520929  |              |           |    N/A    \n",
        "   [26  2]   |   0.0082202872  |              |           |    N/A    \n",
        "   [26  3]   |     0.97835069  |              |           |    N/A    \n",
        "   [26  4]   |      -1.125555  |              |           |    N/A    \n",
        "   [27  0]   |     -1.1562362  |              |           |    N/A    \n",
        "   [27  1]   |   -0.010856099  |              |           |    N/A    \n",
        "   [27  2]   |     0.27798262  |              |           |    N/A    \n",
        "   [27  3]   |     0.68472056  |              |           |    N/A    \n",
        "   [27  4]   |     -1.1103574  |              |           |    N/A    \n",
        "   [28  0]   |    -0.80741648  |              |           |    N/A    \n",
        "   [28  1]   |    0.043960451  |              |           |    N/A    \n",
        "   [28  2]   |   -0.040076777  |              |           |    N/A    \n",
        "   [28  3]   |    -0.11056082  |              |           |    N/A    \n",
        "   [28  4]   |       -1.42242  |              |           |    N/A    \n",
        "   [29  0]   |     -1.2452388  |              |           |    N/A    \n",
        "   [29  1]   |    0.070611476  |              |           |    N/A    \n",
        "   [29  2]   |     0.62373232  |              |           |    N/A    \n",
        "   [29  3]   |     0.89917651  |              |           |    N/A    \n",
        "   [29  4]   |    -0.97164992  |              |           |    N/A    \n",
        "   [30  0]   |     -1.2044757  |              |           |    N/A    \n",
        "   [30  1]   |   0.0027143916  |              |           |    N/A    \n",
        "   [30  2]   |      1.1226677  |              |           |    N/A    \n",
        "   [30  3]   |    0.030847422  |              |           |    N/A    \n",
        "   [30  4]   |     -0.7024259  |              |           |    N/A    \n",
        "   [31  0]   |     -1.0785856  |              |           |    N/A    \n",
        "   [31  1]   |     0.17494202  |              |           |    N/A    \n",
        "   [31  2]   |    -0.44027603  |              |           |    N/A    \n",
        "   [31  3]   |      1.8718791  |              |           |    N/A    \n",
        "   [31  4]   |     -1.3444748  |              |           |    N/A    \n",
        "   [32  0]   |      -1.339818  |              |           |    N/A    \n",
        "   [32  1]   |   -0.029276441  |              |           |    N/A    \n",
        "   [32  2]   |     0.21862218  |              |           |    N/A    \n",
        "   [32  3]   |     0.19186776  |              |           |    N/A    \n",
        "   [32  4]   |     -1.1785243  |              |           |    N/A    \n",
        "   [33  0]   |    -0.66007498  |              |           |    N/A    \n",
        "   [33  1]   |     0.16092675  |              |           |    N/A    \n",
        "   [33  2]   |    -0.26940977  |              |           |    N/A    \n",
        "   [33  3]   |    0.080664161  |              |           |    N/A    \n",
        "   [33  4]   |     -1.4844387  |              |           |    N/A    \n",
        "   [34  0]   |     -0.7411235  |              |           |    N/A    \n",
        "   [34  1]   |     0.10701081  |              |           |    N/A    \n",
        "   [34  2]   |     0.21181226  |              |           |    N/A    \n",
        "   [34  3]   |    -0.33401034  |              |           |    N/A    \n",
        "   [34  4]   |     -1.2008109  |              |           |    N/A    \n",
        "   [35  0]   |     -1.0720687  |              |           |    N/A    \n",
        "   [35  1]   |    -0.43894886  |              |           |    N/A    \n",
        "   [35  2]   |     0.62101063  |              |           |    N/A    \n",
        "   [35  3]   |       -2.08453  |              |           |    N/A    \n",
        "   [35  4]   |    -0.61274989  |              |           |    N/A    \n",
        "   [36  0]   |      -1.257925  |              |           |    N/A    \n",
        "   [36  1]   |    -0.41433484  |              |           |    N/A    \n",
        "   [36  2]   |     0.69718163  |              |           |    N/A    \n",
        "   [36  3]   |      -1.750593  |              |           |    N/A    \n",
        "   [36  4]   |     -0.7589382  |              |           |    N/A    \n",
        "   [37  0]   |      -1.691719  |              |           |    N/A    \n",
        "   [37  1]   |    -0.38452491  |              |           |    N/A    \n",
        "   [37  2]   |      1.0164139  |              |           |    N/A    \n",
        "   [37  3]   |    -0.22913552  |              |           |    N/A    \n",
        "   [37  4]   |    -0.94314015  |              |           |    N/A    \n",
        "   [38  0]   |    -0.48402784  |              |           |    N/A    \n",
        "   [38  1]   |     0.20973347  |              |           |    N/A    \n",
        "   [38  2]   |    -0.57653038  |              |           |    N/A    \n",
        "   [38  3]   |     0.97915344  |              |           |    N/A    \n",
        "   [38  4]   |     -1.5523214  |              |           |    N/A    \n",
        "   [39  0]   |     -1.1657703  |              |           |    N/A    \n",
        "   [39  1]   |     0.01245768  |              |           |    N/A    \n",
        "   [39  2]   |     -0.2985338  |              |           |    N/A    \n",
        "   [39  3]   |     0.61470735  |              |           |    N/A    \n",
        "   [39  4]   |     -1.2926483  |              |           |    N/A    \n",
        "   [40  0]   |     -1.7180017  |              |           |    N/A    \n",
        "   [40  1]   |    -0.26432964  |              |           |    N/A    \n",
        "   [40  2]   |     0.86554006  |              |           |    N/A    \n",
        "   [40  3]   |     0.88011877  |              |           |    N/A    \n",
        "   [40  4]   |     -1.1076494  |              |           |    N/A    \n",
        "   [41  0]   |     -1.4842749  |              |           |    N/A    \n",
        "   [41  1]   |   -0.047085545  |              |           |    N/A    \n",
        "   [41  2]   |     0.23109379  |              |           |    N/A    \n",
        "   [41  3]   |       1.298264  |              |           |    N/A    \n",
        "   [41  4]   |     -1.2305949  |              |           |    N/A    \n",
        "   [42  0]   |     -1.7702539  |              |           |    N/A    \n",
        "   [42  1]   |    -0.30008294  |              |           |    N/A    \n",
        "   [42  2]   |       1.208562  |              |           |    N/A    \n",
        "   [42  3]   |      1.0288659  |              |           |    N/A    \n",
        "   [42  4]   |    -0.92736345  |              |           |    N/A    \n",
        "   [43  0]   |     -1.2523001  |              |           |    N/A    \n",
        "   [43  1]   |    -0.36012216  |              |           |    N/A    \n",
        "   [43  2]   |     0.98669178  |              |           |    N/A    \n",
        "   [43  3]   |     -1.5109242  |              |           |    N/A    \n",
        "   [43  4]   |    -0.77268998  |              |           |    N/A    \n",
        "   [44  0]   |     -1.5567122  |              |           |    N/A    \n",
        "   [44  1]   |     -0.3422431  |              |           |    N/A    \n",
        "   [44  2]   |     0.47043188  |              |           |    N/A    \n",
        "   [44  3]   |    -0.67521062  |              |           |    N/A    \n",
        "   [44  4]   |     -1.1061464  |              |           |    N/A    \n",
        "   [45  0]   |    -0.82814275  |              |           |    N/A    \n",
        "   [45  1]   |      0.1263314  |              |           |    N/A    \n",
        "   [45  2]   |    -0.30121029  |              |           |    N/A    \n",
        "   [45  3]   |      1.9287828  |              |           |    N/A    \n",
        "   [45  4]   |     -1.4377055  |              |           |    N/A    \n",
        "   [46  0]   |     -1.3151985  |              |           |    N/A    \n",
        "   [46  1]   |     0.04496179  |              |           |    N/A    \n",
        "   [46  2]   |    -0.64682224  |              |           |    N/A    \n",
        "   [46  3]   |      0.3180119  |              |           |    N/A    \n",
        "   [46  4]   |     -1.3864842  |              |           |    N/A    \n",
        "   [47  0]   |     -1.1570866  |              |           |    N/A    \n",
        "   [47  1]   |    -0.43403609  |              |           |    N/A    \n",
        "   [47  2]   |     0.93971194  |              |           |    N/A    \n",
        "   [47  3]   |     -1.8019281  |              |           |    N/A    \n",
        "   [47  4]   |    -0.63403486  |              |           |    N/A    \n",
        "   [48  0]   |    -0.93078968  |              |           |    N/A    \n",
        "   [48  1]   |      0.2405842  |              |           |    N/A    \n",
        "   [48  2]   |     0.37438759  |              |           |    N/A    \n",
        "   [48  3]   |     0.85875249  |              |           |    N/A    \n",
        "   [48  4]   |     -1.1511917  |              |           |    N/A    \n",
        "   [49  0]   |      -1.091084  |              |           |    N/A    \n",
        "   [49  1]   |    -0.07689441  |              |           |    N/A    \n",
        "   [49  2]   |     0.83655163  |              |           |    N/A    \n",
        "   [49  3]   |    -0.70292959  |              |           |    N/A    \n",
        "   [49  4]   |    -0.71648236  |              |           |    N/A    \n",
        "   [50  0]   |     -1.2098996  |              |           |    N/A    \n",
        "   [50  1]   |   -0.074390407  |              |           |    N/A    \n",
        "   [50  2]   |      0.1229143  |              |           |    N/A    \n",
        "   [50  3]   |   -0.030406697  |              |           |    N/A    \n",
        "   [50  4]   |     -1.0544861  |              |           |    N/A    \n",
        "   [51  0]   |     -1.2287694  |              |           |    N/A    \n",
        "   [51  1]   |   -0.017926632  |              |           |    N/A    \n",
        "   [51  2]   |    -0.13127978  |              |           |    N/A    \n",
        "   [51  3]   |      1.3421873  |              |           |    N/A    \n",
        "   [51  4]   |      -1.275728  |              |           |    N/A    \n",
        "   [52  0]   |     -1.1248658  |              |           |    N/A    \n",
        "   [52  1]   |    -0.30373428  |              |           |    N/A    \n",
        "   [52  2]   |     0.60357067  |              |           |    N/A    \n",
        "   [52  3]   |     -1.8015827  |              |           |    N/A    \n",
        "   [52  4]   |    -0.69942565  |              |           |    N/A    \n",
        "   [53  0]   |     -1.1406003  |              |           |    N/A    \n",
        "   [53  1]   |    -0.10054461  |              |           |    N/A    \n",
        "   [53  2]   |     0.55801746  |              |           |    N/A    \n",
        "   [53  3]   |     -0.7609749  |              |           |    N/A    \n",
        "   [53  4]   |    -0.87073706  |              |           |    N/A    \n",
        "   [54  0]   |     -1.2483793  |              |           |    N/A    \n",
        "   [54  1]   |    -0.29369503  |              |           |    N/A    \n",
        "   [54  2]   |     0.80916549  |              |           |    N/A    \n",
        "   [54  3]   |      -1.380307  |              |           |    N/A    \n",
        "   [54  4]   |    -0.59901189  |              |           |    N/A    \n",
        "   [55  0]   |     0.47127449  |              |           |    N/A    \n",
        "   [55  1]   |     0.44097014  |              |           |    N/A    \n",
        "   [55  2]   |    -0.71305046  |              |           |    N/A    \n",
        "   [55  3]   |    -0.57237539  |              |           |    N/A    \n",
        "   [55  4]   |      0.5691448  |              |           |    N/A    \n",
        "   [56  0]   |     0.23502688  |              |           |    N/A    \n",
        "   [56  1]   |    -0.75161408  |              |           |    N/A    \n",
        "   [56  2]   |   -0.024346393  |              |           |    N/A    \n",
        "   [56  3]   |     0.29645644  |              |           |    N/A    \n",
        "   [56  4]   |       1.501118  |              |           |    N/A    \n",
        "   [57  0]   |     0.32391131  |              |           |    N/A    \n",
        "   [57  1]   |      2.0866579  |              |           |    N/A    \n",
        "   [57  2]   |      0.8888028  |              |           |    N/A    \n",
        "   [57  3]   |      1.2641514  |              |           |    N/A    \n",
        "   [57  4]   |      1.5443565  |              |           |    N/A    \n",
        "   [58  0]   |     0.34926779  |              |           |    N/A    \n",
        "   [58  1]   |     0.52400093  |              |           |    N/A    \n",
        "   [58  2]   |     -1.0919157  |              |           |    N/A    \n",
        "   [58  3]   |      2.0531596  |              |           |    N/A    \n",
        "   [58  4]   |    -0.79859985  |              |           |    N/A    \n",
        "   [59  0]   |      0.1783122  |              |           |    N/A    \n",
        "   [59  1]   |     0.65125809  |              |           |    N/A    \n",
        "   [59  2]   |     -1.3427128  |              |           |    N/A    \n",
        "   [59  3]   |     0.50745642  |              |           |    N/A    \n",
        "   [59  4]   |    -0.74886499  |              |           |    N/A    \n",
        "   [60  0]   |     0.30930271  |              |           |    N/A    \n",
        "   [60  1]   |     0.33367582  |              |           |    N/A    \n",
        "   [60  2]   |     -1.1307539  |              |           |    N/A    \n",
        "   [60  3]   |     -1.1770539  |              |           |    N/A    \n",
        "   [60  4]   |    -0.21640105  |              |           |    N/A    \n",
        "   [61  0]   |     0.35497426  |              |           |    N/A    \n",
        "   [61  1]   |      1.7961725  |              |           |    N/A    \n",
        "   [61  2]   |     0.96866591  |              |           |    N/A    \n",
        "   [61  3]   |      1.8596859  |              |           |    N/A    \n",
        "   [61  4]   |      1.0676581  |              |           |    N/A    \n",
        "   [62  0]   |     0.69904661  |              |           |    N/A    \n",
        "   [62  1]   |     0.89232884  |              |           |    N/A    \n",
        "   [62  2]   |     0.55699177  |              |           |    N/A    \n",
        "   [62  3]   |     0.84744524  |              |           |    N/A    \n",
        "   [62  4]   |      1.4071842  |              |           |    N/A    \n",
        "   [63  0]   |     0.64662876  |              |           |    N/A    \n",
        "   [63  1]   |     -1.1013111  |              |           |    N/A    \n",
        "   [63  2]   |       0.176817  |              |           |    N/A    \n",
        "   [63  3]   |    -0.20488164  |              |           |    N/A    \n",
        "   [63  4]   |     0.87095259  |              |           |    N/A    \n",
        "   [64  0]   |     0.40461498  |              |           |    N/A    \n",
        "   [64  1]   |    -0.33138652  |              |           |    N/A    \n",
        "   [64  2]   |    -0.59040029  |              |           |    N/A    \n",
        "   [64  3]   |      1.4775862  |              |           |    N/A    \n",
        "   [64  4]   |    -0.32818954  |              |           |    N/A    \n",
        "   [65  0]   |     0.14301783  |              |           |    N/A    \n",
        "   [65  1]   |     0.48440558  |              |           |    N/A    \n",
        "   [65  2]   |     -1.2795281  |              |           |    N/A    \n",
        "   [65  3]   |      1.3089612  |              |           |    N/A    \n",
        "   [65  4]   |    -0.95679585  |              |           |    N/A    \n",
        "   [66  0]   |     0.28804939  |              |           |    N/A    \n",
        "   [66  1]   |    -0.10722456  |              |           |    N/A    \n",
        "   [66  2]   |    -0.83717731  |              |           |    N/A    \n",
        "   [66  3]   |      2.3903941  |              |           |    N/A    \n",
        "   [66  4]   |    -0.48470842  |              |           |    N/A    \n",
        "   [67  0]   |     0.66484543  |              |           |    N/A    \n",
        "   [67  1]   |     0.61867752  |              |           |    N/A    \n",
        "   [67  2]   |     0.78915892  |              |           |    N/A    \n",
        "   [67  3]   |       1.009124  |              |           |    N/A    \n",
        "   [67  4]   |     0.94101762  |              |           |    N/A    \n",
        "   [68  0]   |     0.76546908  |              |           |    N/A    \n",
        "   [68  1]   |      0.7348515  |              |           |    N/A    \n",
        "   [68  2]   |      1.6230274  |              |           |    N/A    \n",
        "   [68  3]   |    -0.35000098  |              |           |    N/A    \n",
        "   [68  4]   |      1.5872603  |              |           |    N/A    \n",
        "   [69  0]   |     0.39986474  |              |           |    N/A    \n",
        "   [69  1]   |    -0.84876137  |              |           |    N/A    \n",
        "   [69  2]   |     0.18037433  |              |           |    N/A    \n",
        "   [69  3]   |    -0.36866049  |              |           |    N/A    \n",
        "   [69  4]   |      1.0524382  |              |           |    N/A    \n",
        "   [70  0]   |      0.3193521  |              |           |    N/A    \n",
        "   [70  1]   |     0.55492875  |              |           |    N/A    \n",
        "   [70  2]   |      -1.121578  |              |           |    N/A    \n",
        "   [70  3]   |     -1.4054942  |              |           |    N/A    \n",
        "   [70  4]   |    -0.19546472  |              |           |    N/A    \n",
        "   [71  0]   |     0.62139897  |              |           |    N/A    \n",
        "   [71  1]   |     0.67417929  |              |           |    N/A    \n",
        "   [71  2]   |      1.5484394  |              |           |    N/A    \n",
        "   [71  3]   |    0.046509942  |              |           |    N/A    \n",
        "   [71  4]   |      1.3300257  |              |           |    N/A    \n",
        "   [72  0]   |    0.014221708  |              |           |    N/A    \n",
        "   [72  1]   |     -0.7191417  |              |           |    N/A    \n",
        "   [72  2]   |    -0.56084194  |              |           |    N/A    \n",
        "   [72  3]   |     0.15421407  |              |           |    N/A    \n",
        "   [72  4]   |      1.6084191  |              |           |    N/A    \n",
        "   [73  0]   |     0.22743708  |              |           |    N/A    \n",
        "   [73  1]   |     -1.0731867  |              |           |    N/A    \n",
        "   [73  2]   |     0.71892311  |              |           |    N/A    \n",
        "   [73  3]   |     0.78686692  |              |           |    N/A    \n",
        "   [73  4]   |      1.6685559  |              |           |    N/A    \n",
        "   [74  0]   |     0.34285046  |              |           |    N/A    \n",
        "   [74  1]   |     -0.9479463  |              |           |    N/A    \n",
        "   [74  2]   |     0.70244502  |              |           |    N/A    \n",
        "   [74  3]   |   -0.017096127  |              |           |    N/A    \n",
        "   [74  4]   |       1.574107  |              |           |    N/A    \n",
        "   [75  0]   |     0.49115202  |              |           |    N/A    \n",
        "   [75  1]   |      1.3836399  |              |           |    N/A    \n",
        "   [75  2]   |     0.48924073  |              |           |    N/A    \n",
        "   [75  3]   |      1.7686391  |              |           |    N/A    \n",
        "   [75  4]   |      1.6638412  |              |           |    N/A    \n",
        "   [76  0]   |     0.29418665  |              |           |    N/A    \n",
        "   [76  1]   |     0.61977005  |              |           |    N/A    \n",
        "   [76  2]   |     -1.0791473  |              |           |    N/A    \n",
        "   [76  3]   |      1.8883507  |              |           |    N/A    \n",
        "   [76  4]   |    -0.79267216  |              |           |    N/A    \n",
        "   [77  0]   |     0.66824688  |              |           |    N/A    \n",
        "   [77  1]   |      1.2591661  |              |           |    N/A    \n",
        "   [77  2]   |      1.2743335  |              |           |    N/A    \n",
        "   [77  3]   |    0.080974739  |              |           |    N/A    \n",
        "   [77  4]   |      2.0750742  |              |           |    N/A    \n",
        "   [78  0]   |     0.21734525  |              |           |    N/A    \n",
        "   [78  1]   |    0.012292683  |              |           |    N/A    \n",
        "   [78  2]   |    -0.98162627  |              |           |    N/A    \n",
        "   [78  3]   |      1.2680324  |              |           |    N/A    \n",
        "   [78  4]   |    -0.57942121  |              |           |    N/A    \n",
        "   [79  0]   |     0.54292542  |              |           |    N/A    \n",
        "   [79  1]   |      1.4933795  |              |           |    N/A    \n",
        "   [79  2]   |      1.6678868  |              |           |    N/A    \n",
        "   [79  3]   |      0.3779169  |              |           |    N/A    \n",
        "   [79  4]   |      2.2735676  |              |           |    N/A    \n",
        "   [80  0]   |     0.34663959  |              |           |    N/A    \n",
        "   [80  1]   |    -0.42335997  |              |           |    N/A    \n",
        "   [80  2]   |    0.088956747  |              |           |    N/A    \n",
        "   [80  3]   |      1.9759399  |              |           |    N/A    \n",
        "   [80  4]   |    -0.36239259  |              |           |    N/A    \n",
        "   [81  0]   |     0.49328372  |              |           |    N/A    \n",
        "   [81  1]   |  -0.0057312456  |              |           |    N/A    \n",
        "   [81  2]   |    -0.74534807  |              |           |    N/A    \n",
        "   [81  3]   |      2.5564256  |              |           |    N/A    \n",
        "   [81  4]   |    -0.60886628  |              |           |    N/A    \n",
        "   [82  0]   |     0.12032314  |              |           |    N/A    \n",
        "   [82  1]   |     0.20507937  |              |           |    N/A    \n",
        "   [82  2]   |     -1.1895574  |              |           |    N/A    \n",
        "   [82  3]   |     0.19176388  |              |           |    N/A    \n",
        "   [82  4]   |    -0.88913081  |              |           |    N/A    \n",
        "   [83  0]   |    0.098795832  |              |           |    N/A    \n",
        "   [83  1]   |   -0.031157082  |              |           |    N/A    \n",
        "   [83  2]   |     -1.5252481  |              |           |    N/A    \n",
        "   [83  3]   |    -0.52934446  |              |           |    N/A    \n",
        "   [83  4]   |    0.095282193  |              |           |    N/A    \n",
        "   [84  0]   |       0.064567  |              |           |    N/A    \n",
        "   [84  1]   |      0.1772639  |              |           |    N/A    \n",
        "   [84  2]   |     -1.2566249  |              |           |    N/A    \n",
        "   [84  3]   |      1.4085925  |              |           |    N/A    \n",
        "   [84  4]   |    -0.98607287  |              |           |    N/A    \n",
        "   [85  0]   |     0.14419197  |              |           |    N/A    \n",
        "   [85  1]   |    0.023173152  |              |           |    N/A    \n",
        "   [85  2]   |      -1.126651  |              |           |    N/A    \n",
        "   [85  3]   |      0.8171482  |              |           |    N/A    \n",
        "   [85  4]   |    -0.71304219  |              |           |    N/A    \n",
        "   [86  0]   |     0.33766916  |              |           |    N/A    \n",
        "   [86  1]   |    -0.32637456  |              |           |    N/A    \n",
        "   [86  2]   |    -0.34118122  |              |           |    N/A    \n",
        "   [86  3]   |      2.1873517  |              |           |    N/A    \n",
        "   [86  4]   |    -0.58550279  |              |           |    N/A    \n",
        "   [87  0]   |     0.11864693  |              |           |    N/A    \n",
        "   [87  1]   |     -1.1308406  |              |           |    N/A    \n",
        "   [87  2]   |     0.80490553  |              |           |    N/A    \n",
        "   [87  3]   |      1.3065016  |              |           |    N/A    \n",
        "   [87  4]   |      1.2415789  |              |           |    N/A    \n",
        "   [88  0]   |      0.6206257  |              |           |    N/A    \n",
        "   [88  1]   |      1.5260205  |              |           |    N/A    \n",
        "   [88  2]   |     -1.3016134  |              |           |    N/A    \n",
        "   [88  3]   |      1.8501646  |              |           |    N/A    \n",
        "   [88  4]   |      1.7888944  |              |           |    N/A    \n",
        "   [89  0]   |    0.088389646  |              |           |    N/A    \n",
        "   [89  1]   |     0.41241725  |              |           |    N/A    \n",
        "   [89  2]   |     -1.3657001  |              |           |    N/A    \n",
        "   [89  3]   |    -0.30036163  |              |           |    N/A    \n",
        "   [89  4]   |    -0.73955886  |              |           |    N/A    \n",
        "   [90  0]   |     0.31324873  |              |           |    N/A    \n",
        "   [90  1]   |     0.54686801  |              |           |    N/A    \n",
        "   [90  2]   |    -0.94545476  |              |           |    N/A    \n",
        "   [90  3]   |     -1.1691832  |              |           |    N/A    \n",
        "   [90  4]   |    -0.18659468  |              |           |    N/A    \n",
        "   [91  0]   |    0.089904508  |              |           |    N/A    \n",
        "   [91  1]   |     -1.2962176  |              |           |    N/A    \n",
        "   [91  2]   |      1.2366114  |              |           |    N/A    \n",
        "   [91  3]   |    -0.62887638  |              |           |    N/A    \n",
        "   [91  4]   |      1.5020548  |              |           |    N/A    \n",
        "   [92  0]   |     0.70239495  |              |           |    N/A    \n",
        "   [92  1]   |      1.3296561  |              |           |    N/A    \n",
        "   [92  2]   |      1.0020011  |              |           |    N/A    \n",
        "   [92  3]   |    -0.22597158  |              |           |    N/A    \n",
        "   [92  4]   |      2.4922033  |              |           |    N/A    \n",
        "   [93  0]   |     0.25967301  |              |           |    N/A    \n",
        "   [93  1]   |      2.0466967  |              |           |    N/A    \n",
        "   [93  2]   |     0.35612774  |              |           |    N/A    \n",
        "   [93  3]   |      2.1684332  |              |           |    N/A    \n",
        "   [93  4]   |      1.3487448  |              |           |    N/A    \n",
        "   [94  0]   |     0.14733716  |              |           |    N/A    \n",
        "   [94  1]   |     0.49794515  |              |           |    N/A    \n",
        "   [94  2]   |     -1.2379763  |              |           |    N/A    \n",
        "   [94  3]   |      1.0790159  |              |           |    N/A    \n",
        "   [94  4]   |    -0.98291793  |              |           |    N/A    \n",
        "   [95  0]   |      0.6436347  |              |           |    N/A    \n",
        "   [95  1]   |      1.3365236  |              |           |    N/A    \n",
        "   [95  2]   |     0.98410919  |              |           |    N/A    \n",
        "   [95  3]   |     0.63195561  |              |           |    N/A    \n",
        "   [95  4]   |      2.2911135  |              |           |    N/A    \n",
        "   [96  0]   |     0.52464684  |              |           |    N/A    \n",
        "   [96  1]   |      1.5616369  |              |           |    N/A    \n",
        "   [96  2]   |      1.2039617  |              |           |    N/A    \n",
        "   [96  3]   |      1.0681428  |              |           |    N/A    \n",
        "   [96  4]   |      2.0038873  |              |           |    N/A    \n",
        "   [97  0]   |     0.61876028  |              |           |    N/A    \n",
        "   [97  1]   |      1.6776997  |              |           |    N/A    \n",
        "   [97  2]   |     0.96884553  |              |           |    N/A    \n",
        "   [97  3]   |     0.19170397  |              |           |    N/A    \n",
        "   [97  4]   |      2.4967786  |              |           |    N/A    \n",
        "   [98  0]   |     0.52814821  |              |           |    N/A    \n",
        "   [98  1]   |     0.88416714  |              |           |    N/A    \n",
        "   [98  2]   |     -1.2387021  |              |           |    N/A    \n",
        "   [98  3]   |     -1.2417761  |              |           |    N/A    \n",
        "   [98  4]   |     0.69857482  |              |           |    N/A    \n",
        "   [99  0]   |     0.38543761  |              |           |    N/A    \n",
        "   [99  1]   |      1.6785971  |              |           |    N/A    \n",
        "   [99  2]   |       1.069482  |              |           |    N/A    \n",
        "   [99  3]   |      1.7658319  |              |           |    N/A    \n",
        "   [99  4]   |      2.0935175  |              |           |    N/A    \n",
        "  [100   0]  |     0.12497864  |              |           |    N/A    \n",
        "  [100   1]  |     0.40841362  |              |           |    N/A    \n",
        "  [100   2]  |     -1.1549148  |              |           |    N/A    \n",
        "  [100   3]  |      1.3094959  |              |           |    N/A    \n",
        "  [100   4]  |     -1.1042244  |              |           |    N/A    \n",
        "  [101   0]  |     0.67971626  |              |           |    N/A    \n",
        "  [101   1]  |       1.077259  |              |           |    N/A    \n",
        "  [101   2]  |     0.68344155  |              |           |    N/A    \n",
        "  [101   3]  |     0.18013594  |              |           |    N/A    \n",
        "  [101   4]  |      1.7945321  |              |           |    N/A    \n",
        "  [102   0]  |     0.17141074  |              |           |    N/A    \n",
        "  [102   1]  |     0.52591166  |              |           |    N/A    \n",
        "  [102   2]  |     -1.5102102  |              |           |    N/A    \n",
        "  [102   3]  |     0.94640606  |              |           |    N/A    \n",
        "  [102   4]  |    -0.67267332  |              |           |    N/A    \n",
        "  [103   0]  |    0.076015848  |              |           |    N/A    \n",
        "  [103   1]  |     -1.2122749  |              |           |    N/A    \n",
        "  [103   2]  |      1.2313817  |              |           |    N/A    \n",
        "  [103   3]  |     0.52236159  |              |           |    N/A    \n",
        "  [103   4]  |      1.7505918  |              |           |    N/A    \n",
        "  [104   0]  |     0.10452085  |              |           |    N/A    \n",
        "  [104   1]  |     0.33207113  |              |           |    N/A    \n",
        "  [104   2]  |     -1.3062117  |              |           |    N/A    \n",
        "  [104   3]  |    0.029957686  |              |           |    N/A    \n",
        "  [104   4]  |    -0.83981646  |              |           |    N/A    \n",
        "  [105   0]  |     0.21179555  |              |           |    N/A    \n",
        "  [105   1]  |     0.61016169  |              |           |    N/A    \n",
        "  [105   2]  |      -1.379273  |              |           |    N/A    \n",
        "  [105   3]  |    -0.29039232  |              |           |    N/A    \n",
        "  [105   4]  |    -0.57968008  |              |           |    N/A    \n",
        "  [106   0]  |    -0.16138239  |              |           |    N/A    \n",
        "  [106   1]  |     -1.3343625  |              |           |    N/A    \n",
        "  [106   2]  |      1.7847193  |              |           |    N/A    \n",
        "  [106   3]  |     0.21615843  |              |           |    N/A    \n",
        "  [106   4]  |       1.888242  |              |           |    N/A    \n",
        "  [107   0]  |     0.85792084  |              |           |    N/A    \n",
        "  [107   1]  |    -0.58053443  |              |           |    N/A    \n",
        "  [107   2]  |    -0.10522263  |              |           |    N/A    \n",
        "  [107   3]  |     -1.0787202  |              |           |    N/A    \n",
        "  [107   4]  |     0.74634344  |              |           |    N/A    \n",
        "  [108   0]  |     0.51820114  |              |           |    N/A    \n",
        "  [108   1]  |    -0.52237723  |              |           |    N/A    \n",
        "  [108   2]  |    -0.34572421  |              |           |    N/A    \n",
        "  [108   3]  |    -0.48955723  |              |           |    N/A    \n",
        "  [108   4]  |     0.73316312  |              |           |    N/A    \n",
        "  [109   0]  |     0.41767796  |              |           |    N/A    \n",
        "  [109   1]  |      -1.044575  |              |           |    N/A    \n",
        "  [109   2]  |     0.67023783  |              |           |    N/A    \n",
        "  [109   3]  |    -0.96397171  |              |           |    N/A    \n",
        "  [109   4]  |     0.92013923  |              |           |    N/A    \n",
        "  [110   0]  |      1.0017676  |              |           |    N/A    \n",
        "  [110   1]  |     0.45265443  |              |           |    N/A    \n",
        "  [110   2]  |      1.7499172  |              |           |    N/A    \n",
        "  [110   3]  |    -0.10991751  |              |           |    N/A    \n",
        "  [110   4]  |    -0.38947802  |              |           |    N/A    \n",
        "  [111   0]  |      1.2095775  |              |           |    N/A    \n",
        "  [111   1]  |     0.64030902  |              |           |    N/A    \n",
        "  [111   2]  |       1.459901  |              |           |    N/A    \n",
        "  [111   3]  |      1.0612148  |              |           |    N/A    \n",
        "  [111   4]  |    -0.31320184  |              |           |    N/A    \n",
        "  [112   0]  |      1.6884169  |              |           |    N/A    \n",
        "  [112   1]  |     0.06791331  |              |           |    N/A    \n",
        "  [112   2]  |      1.3362566  |              |           |    N/A    \n",
        "  [112   3]  |     0.91702217  |              |           |    N/A    \n",
        "  [112   4]  |     -0.7273492  |              |           |    N/A    \n",
        "  [113   0]  |     0.28612118  |              |           |    N/A    \n",
        "  [113   1]  |      1.9066151  |              |           |    N/A    \n",
        "  [113   2]  |      1.6705801  |              |           |    N/A    \n",
        "  [113   3]  |    -0.25179961  |              |           |    N/A    \n",
        "  [113   4]  |     0.69585084  |              |           |    N/A    \n",
        "  [114   0]  |     0.77512953  |              |           |    N/A    \n",
        "  [114   1]  |      1.9225001  |              |           |    N/A    \n",
        "  [114   2]  |     -1.6509121  |              |           |    N/A    \n",
        "  [114   3]  |       1.044113  |              |           |    N/A    \n",
        "  [114   4]  |      1.5846648  |              |           |    N/A    \n",
        "  [115   0]  |      1.2077584  |              |           |    N/A    \n",
        "  [115   1]  |       1.372759  |              |           |    N/A    \n",
        "  [115   2]  |     -1.9943037  |              |           |    N/A    \n",
        "  [115   3]  |     0.48188848  |              |           |    N/A    \n",
        "  [115   4]  |      1.3635665  |              |           |    N/A    \n",
        "  [116   0]  |      0.8557562  |              |           |    N/A    \n",
        "  [116   1]  |      1.5967625  |              |           |    N/A    \n",
        "  [116   2]  |    -0.63000032  |              |           |    N/A    \n",
        "  [116   3]  |       1.085521  |              |           |    N/A    \n",
        "  [116   4]  |     0.82934451  |              |           |    N/A    \n",
        "  [117   0]  |      0.9283899  |              |           |    N/A    \n",
        "  [117   1]  |      1.0338555  |              |           |    N/A    \n",
        "  [117   2]  |     0.15734838  |              |           |    N/A    \n",
        "  [117   3]  |      1.2040654  |              |           |    N/A    \n",
        "  [117   4]  |     0.59988666  |              |           |    N/A    \n",
        "  [118   0]  |     0.95776481  |              |           |    N/A    \n",
        "  [118   1]  |      1.2797853  |              |           |    N/A    \n",
        "  [118   2]  |     0.68571367  |              |           |    N/A    \n",
        "  [118   3]  |     -1.8675973  |              |           |    N/A    \n",
        "  [118   4]  |    -0.22820872  |              |           |    N/A    \n",
        "  [119   0]  |      1.1267425  |              |           |    N/A    \n",
        "  [119   1]  |      1.1923096  |              |           |    N/A    \n",
        "  [119   2]  |    -0.39363364  |              |           |    N/A    \n",
        "  [119   3]  |     0.96913474  |              |           |    N/A    \n",
        "  [119   4]  |     0.19080817  |              |           |    N/A    \n",
        "  [120   0]  |     0.54176498  |              |           |    N/A    \n",
        "  [120   1]  |      1.7534673  |              |           |    N/A    \n",
        "  [120   2]  |     -1.4025993  |              |           |    N/A    \n",
        "  [120   3]  |      2.3394955  |              |           |    N/A    \n",
        "  [120   4]  |      1.4656319  |              |           |    N/A    \n",
        "  [121   0]  |     0.83512483  |              |           |    N/A    \n",
        "  [121   1]  |      1.4755992  |              |           |    N/A    \n",
        "  [121   2]  |      1.4085262  |              |           |    N/A    \n",
        "  [121   3]  |    -0.51102436  |              |           |    N/A    \n",
        "  [121   4]  |     0.57023728  |              |           |    N/A    \n",
        "  [122   0]  |     0.59419584  |              |           |    N/A    \n",
        "  [122   1]  |      1.4966417  |              |           |    N/A    \n",
        "  [122   2]  |   -0.015384771  |              |           |    N/A    \n",
        "  [122   3]  |      1.2550201  |              |           |    N/A    \n",
        "  [122   4]  |     0.51207476  |              |           |    N/A    \n",
        "  [123   0]  |     0.72923173  |              |           |    N/A    \n",
        "  [123   1]  |      1.3084403  |              |           |    N/A    \n",
        "  [123   2]  |      1.2702877  |              |           |    N/A    \n",
        "  [123   3]  |     -1.4152112  |              |           |    N/A    \n",
        "  [123   4]  |     0.12936872  |              |           |    N/A    \n",
        "  [124   0]  |     0.99239885  |              |           |    N/A    \n",
        "  [124   1]  |     0.48563638  |              |           |    N/A    \n",
        "  [124   2]  |      1.9831259  |              |           |    N/A    \n",
        "  [124   3]  |     -0.4665909  |              |           |    N/A    \n",
        "  [124   4]  |    -0.15064971  |              |           |    N/A    \n",
        "  [125   0]  |      1.2798567  |              |           |    N/A    \n",
        "  [125   1]  |     0.69674079  |              |           |    N/A    \n",
        "  [125   2]  |      1.0953054  |              |           |    N/A    \n",
        "  [125   3]  |     0.59036677  |              |           |    N/A    \n",
        "  [125   4]  |   -0.051811588  |              |           |    N/A    \n",
        "  [126   0]  |     0.62434026  |              |           |    N/A    \n",
        "  [126   1]  |    -0.31396425  |              |           |    N/A    \n",
        "  [126   2]  |      2.5924076  |              |           |    N/A    \n",
        "  [126   3]  |    0.090606303  |              |           |    N/A    \n",
        "  [126   4]  |     -0.8375108  |              |           |    N/A    \n",
        "  [127   0]  |     0.51182134  |              |           |    N/A    \n",
        "  [127   1]  |     0.46694669  |              |           |    N/A    \n",
        "  [127   2]  |     0.69422445  |              |           |    N/A    \n",
        "  [127   3]  |    -0.96529765  |              |           |    N/A    \n",
        "  [127   4]  |     -0.2924822  |              |           |    N/A    \n",
        "  [128   0]  |     0.79486008  |              |           |    N/A    \n",
        "  [128   1]  |    -0.05266395  |              |           |    N/A    \n",
        "  [128   2]  |      2.4086583  |              |           |    N/A    \n",
        "  [128   3]  |     -0.6023594  |              |           |    N/A    \n",
        "  [128   4]  |     -1.0698543  |              |           |    N/A    \n",
        "  [129   0]  |      1.1162028  |              |           |    N/A    \n",
        "  [129   1]  |      1.5353853  |              |           |    N/A    \n",
        "  [129   2]  |     -0.7398911  |              |           |    N/A    \n",
        "  [129   3]  |     0.62964334  |              |           |    N/A    \n",
        "  [129   4]  |     0.52597794  |              |           |    N/A    \n",
        "  [130   0]  |      1.0599093  |              |           |    N/A    \n",
        "  [130   1]  |      1.3716375  |              |           |    N/A    \n",
        "  [130   2]  |     -1.7349234  |              |           |    N/A    \n",
        "  [130   3]  |     0.61591931  |              |           |    N/A    \n",
        "  [130   4]  |      1.0705262  |              |           |    N/A    \n",
        "  [131   0]  |     0.78600745  |              |           |    N/A    \n",
        "  [131   1]  |      1.6004757  |              |           |    N/A    \n",
        "  [131   2]  |     0.35571116  |              |           |    N/A    \n",
        "  [131   3]  |    0.090121925  |              |           |    N/A    \n",
        "  [131   4]  |     0.95201158  |              |           |    N/A    \n",
        "  [132   0]  |      1.0544531  |              |           |    N/A    \n",
        "  [132   1]  |      1.1283768  |              |           |    N/A    \n",
        "  [132   2]  |      1.1422202  |              |           |    N/A    \n",
        "  [132   3]  |   -0.079182012  |              |           |    N/A    \n",
        "  [132   4]  |     0.13006769  |              |           |    N/A    \n",
        "  [133   0]  |      1.0359744  |              |           |    N/A    \n",
        "  [133   1]  |      1.0075035  |              |           |    N/A    \n",
        "  [133   2]  |     0.83272876  |              |           |    N/A    \n",
        "  [133   3]  |     0.89467701  |              |           |    N/A    \n",
        "  [133   4]  |     0.10455973  |              |           |    N/A    \n",
        "  [134   0]  |     0.89685375  |              |           |    N/A    \n",
        "  [134   1]  |       1.456662  |              |           |    N/A    \n",
        "  [134   2]  |      1.2243136  |              |           |    N/A    \n",
        "  [134   3]  |    -0.16765253  |              |           |    N/A    \n",
        "  [134   4]  |     0.96250713  |              |           |    N/A    \n",
        "  [135   0]  |      1.1620116  |              |           |    N/A    \n",
        "  [135   1]  |     0.75367613  |              |           |    N/A    \n",
        "  [135   2]  |      1.3623528  |              |           |    N/A    \n",
        "  [135   3]  |    -0.27605204  |              |           |    N/A    \n",
        "  [135   4]  |     0.17973523  |              |           |    N/A    \n",
        "  [136   0]  |     0.44028353  |              |           |    N/A    \n",
        "  [136   1]  |      0.8779522  |              |           |    N/A    \n",
        "  [136   2]  |     0.65793248  |              |           |    N/A    \n",
        "  [136   3]  |    0.096514042  |              |           |    N/A    \n",
        "  [136   4]  |    -0.90728074  |              |           |    N/A    \n",
        "  [137   0]  |      1.1082214  |              |           |    N/A    \n",
        "  [137   1]  |     0.90382165  |              |           |    N/A    \n",
        "  [137   2]  |      1.5484204  |              |           |    N/A    \n",
        "  [137   3]  |     0.29815228  |              |           |    N/A    \n",
        "  [137   4]  |     0.14074364  |              |           |    N/A    \n",
        "  [138   0]  |     0.73821529  |              |           |    N/A    \n",
        "  [138   1]  |    0.047245848  |              |           |    N/A    \n",
        "  [138   2]  |      2.2871898  |              |           |    N/A    \n",
        "  [138   3]  |     0.10712552  |              |           |    N/A    \n",
        "  [138   4]  |     -0.6664158  |              |           |    N/A    \n",
        "  [139   0]  |     0.91466481  |              |           |    N/A    \n",
        "  [139   1]  |      1.1126219  |              |           |    N/A    \n",
        "  [139   2]  |     0.65051561  |              |           |    N/A    \n",
        "  [139   3]  |    -0.46453846  |              |           |    N/A    \n",
        "  [139   4]  |    0.029498286  |              |           |    N/A    \n",
        "  [140   0]  |      1.0915227  |              |           |    N/A    \n",
        "  [140   1]  |     0.68332697  |              |           |    N/A    \n",
        "  [140   2]  |      1.2040024  |              |           |    N/A    \n",
        "  [140   3]  |     0.29925399  |              |           |    N/A    \n",
        "  [140   4]  |     0.06274457  |              |           |    N/A    \n",
        "  [141   0]  |     0.98379441  |              |           |    N/A    \n",
        "  [141   1]  |      1.5458913  |              |           |    N/A    \n",
        "  [141   2]  |     -1.2489877  |              |           |    N/A    \n",
        "  [141   3]  |      1.5109086  |              |           |    N/A    \n",
        "  [141   4]  |     0.70468352  |              |           |    N/A    \n",
        "  [142   0]  |      1.0026036  |              |           |    N/A    \n",
        "  [142   1]  |    0.033972936  |              |           |    N/A    \n",
        "  [142   2]  |       1.937505  |              |           |    N/A    \n",
        "  [142   3]  |     0.69818667  |              |           |    N/A    \n",
        "  [142   4]  |     -1.5015852  |              |           |    N/A    \n",
        "  [143   0]  |     0.87120433  |              |           |    N/A    \n",
        "  [143   1]  |      1.8247318  |              |           |    N/A    \n",
        "  [143   2]  |     -2.1011924  |              |           |    N/A    \n",
        "  [143   3]  |     0.47557477  |              |           |    N/A    \n",
        "  [143   4]  |       1.723063  |              |           |    N/A    \n",
        "  [144   0]  |     0.69812487  |              |           |    N/A    \n",
        "  [144   1]  |      1.5102399  |              |           |    N/A    \n",
        "  [144   2]  |    0.031732744  |              |           |    N/A    \n",
        "  [144   3]  |    0.020908967  |              |           |    N/A    \n",
        "  [144   4]  |     0.50349107  |              |           |    N/A    \n",
        "  [145   0]  |      1.2112548  |              |           |    N/A    \n",
        "  [145   1]  |      1.5788801  |              |           |    N/A    \n",
        "  [145   2]  |     -1.8248288  |              |           |    N/A    \n",
        "  [145   3]  |    0.099923896  |              |           |    N/A    \n",
        "  [145   4]  |      1.3243544  |              |           |    N/A    \n",
        "  [146   0]  |     0.87683168  |              |           |    N/A    \n",
        "  [146   1]  |      1.7501846  |              |           |    N/A    \n",
        "  [146   2]  |     0.22593671  |              |           |    N/A    \n",
        "  [146   3]  |     0.60777909  |              |           |    N/A    \n",
        "  [146   4]  |     0.82771182  |              |           |    N/A    \n",
        "  [147   0]  |      1.5025387  |              |           |    N/A    \n",
        "  [147   1]  |     -0.1162381  |              |           |    N/A    \n",
        "  [147   2]  |      2.0034208  |              |           |    N/A    \n",
        "  [147   3]  |    0.083791749  |              |           |    N/A    \n",
        "  [147   4]  |    -0.96696114  |              |           |    N/A    \n",
        "  [148   0]  |      1.1413468  |              |           |    N/A    \n",
        "  [148   1]  |      1.1401221  |              |           |    N/A    \n",
        "  [148   2]  |     0.20142241  |              |           |    N/A    \n",
        "  [148   3]  |  -0.0091745197  |              |           |    N/A    \n",
        "  [148   4]  |     0.12477314  |              |           |    N/A    \n",
        "  [149   0]  |     0.99649198  |              |           |    N/A    \n",
        "  [149   1]  |     0.44024845  |              |           |    N/A    \n",
        "  [149   2]  |      1.1838626  |              |           |    N/A    \n",
        "  [149   3]  |    -0.23898241  |              |           |    N/A    \n",
        "  [149   4]  |    -0.84836939  |              |           |    N/A    \n",
        "  [150   0]  |     0.43432519  |              |           |    N/A    \n",
        "  [150   1]  |      1.8651496  |              |           |    N/A    \n",
        "  [150   2]  |      1.4806006  |              |           |    N/A    \n",
        "  [150   3]  |    0.040013937  |              |           |    N/A    \n",
        "  [150   4]  |     0.62337045  |              |           |    N/A    \n",
        "  [151   0]  |     0.88819047  |              |           |    N/A    \n",
        "  [151   1]  |      1.9718677  |              |           |    N/A    \n",
        "  [151   2]  |     -1.4050764  |              |           |    N/A    \n",
        "  [151   3]  |     0.18727603  |              |           |    N/A    \n",
        "  [151   4]  |      1.0322324  |              |           |    N/A    \n",
        "  [152   0]  |      1.3256822  |              |           |    N/A    \n",
        "  [152   1]  |   -0.067048955  |              |           |    N/A    \n",
        "  [152   2]  |      2.0933394  |              |           |    N/A    \n",
        "  [152   3]  |    -0.83382787  |              |           |    N/A    \n",
        "  [152   4]  |     -1.3234661  |              |           |    N/A    \n",
        "  [153   0]  |       1.251931  |              |           |    N/A    \n",
        "  [153   1]  |      1.3293365  |              |           |    N/A    \n",
        "  [153   2]  |     -2.0469417  |              |           |    N/A    \n",
        "  [153   3]  |     0.14953212  |              |           |    N/A    \n",
        "  [153   4]  |      1.5343947  |              |           |    N/A    \n",
        "  [154   0]  |      1.1653077  |              |           |    N/A    \n",
        "  [154   1]  |     0.11390447  |              |           |    N/A    \n",
        "  [154   2]  |      2.0779094  |              |           |    N/A    \n",
        "  [154   3]  |     0.74818067  |              |           |    N/A    \n",
        "  [154   4]  |    -0.97920823  |              |           |    N/A    \n",
        "  [155   0]  |     0.49124807  |              |           |    N/A    \n",
        "  [155   1]  |     0.37272585  |              |           |    N/A    \n",
        "  [155   2]  |     0.40709879  |              |           |    N/A    \n",
        "  [155   3]  |     0.33834975  |              |           |    N/A    \n",
        "  [155   4]  |     -1.1002439  |              |           |    N/A    \n",
        "  [156   0]  |      0.8757905  |              |           |    N/A    \n",
        "  [156   1]  |     0.82007053  |              |           |    N/A    \n",
        "  [156   2]  |      1.1865308  |              |           |    N/A    \n",
        "  [156   3]  |     -1.7636321  |              |           |    N/A    \n",
        "  [156   4]  |    -0.12922386  |              |           |    N/A    \n",
        "  [157   0]  |     0.68755488  |              |           |    N/A    \n",
        "  [157   1]  |      1.7206489  |              |           |    N/A    \n",
        "  [157   2]  |     -0.4389582  |              |           |    N/A    \n",
        "  [157   3]  |     0.28171988  |              |           |    N/A    \n",
        "  [157   4]  |   0.0039244578  |              |           |    N/A    \n",
        "  [158   0]  |     0.27456717  |              |           |    N/A    \n",
        "  [158   1]  |      1.9530979  |              |           |    N/A    \n",
        "  [158   2]  |     0.43073246  |              |           |    N/A    \n",
        "  [158   3]  |      1.2169568  |              |           |    N/A    \n",
        "  [158   4]  |     0.48812279  |              |           |    N/A    \n",
        "  [159   0]  |      1.0335449  |              |           |    N/A    \n",
        "  [159   1]  |      0.7220902  |              |           |    N/A    \n",
        "  [159   2]  |      1.6111492  |              |           |    N/A    \n",
        "  [159   3]  |    -0.40019008  |              |           |    N/A    \n",
        "  [159   4]  |    -0.89807148  |              |           |    N/A    \n",
        "  [160   0]  |      1.1983891  |              |           |    N/A    \n",
        "  [160   1]  |     0.16190674  |              |           |    N/A    \n",
        "  [160   2]  |      1.7317941  |              |           |    N/A    \n",
        "  [160   3]  |     0.85437403  |              |           |    N/A    \n",
        "  [160   4]  |    -0.40386546  |              |           |    N/A    \n",
        "  [161   0]  |      0.3895714  |              |           |    N/A    \n",
        "  [161   1]  |      1.9174208  |              |           |    N/A    \n",
        "  [161   2]  |      1.0590066  |              |           |    N/A    \n",
        "  [161   3]  |   -0.032772029  |              |           |    N/A    \n",
        "  [161   4]  |     0.43868904  |              |           |    N/A    \n",
        "  [162   0]  |      1.2265026  |              |           |    N/A    \n",
        "  [162   1]  |     0.48798111  |              |           |    N/A    \n",
        "  [162   2]  |      1.2844631  |              |           |    N/A    \n",
        "  [162   3]  |     0.88626793  |              |           |    N/A    \n",
        "  [162   4]  |    -0.67580484  |              |           |    N/A    \n",
        "  [163   0]  |     0.79172301  |              |           |    N/A    \n",
        "  [163   1]  |    0.089572933  |              |           |    N/A    \n",
        "  [163   2]  |      2.2456629  |              |           |    N/A    \n",
        "  [163   3]  |   0.0051178631  |              |           |    N/A    \n",
        "  [163   4]  |    -0.80233702  |              |           |    N/A    \n",
        "  [164   0]  |     0.73324081  |              |           |    N/A    \n",
        "  [164   1]  |   -0.056978695  |              |           |    N/A    \n",
        "  [164   2]  |      2.3862018  |              |           |    N/A    \n",
        "  [164   3]  |    -0.84758236  |              |           |    N/A    \n",
        "  [164   4]  |     -1.0860372  |              |           |    N/A    \n",
        "  [165   0]  |   -0.082985712  |              |           |    N/A    \n",
        "  [165   1]  |      1.6584744  |              |           |    N/A    \n",
        "  [165   2]  |    -0.60135353  |              |           |    N/A    \n",
        "  [165   3]  |    -0.85536732  |              |           |    N/A    \n",
        "  [165   4]  |     0.45773379  |              |           |    N/A    \n",
        "  [166   0]  |     -1.2666288  |              |           |    N/A    \n",
        "  [166   1]  |     0.26357605  |              |           |    N/A    \n",
        "  [166   2]  |     -1.4675743  |              |           |    N/A    \n",
        "  [166   3]  |      0.2463991  |              |           |    N/A    \n",
        "  [166   4]  |     0.47851761  |              |           |    N/A    \n",
        "  [167   0]  |      -1.337638  |              |           |    N/A    \n",
        "  [167   1]  |   -0.050654002  |              |           |    N/A    \n",
        "  [167   2]  |     0.19259431  |              |           |    N/A    \n",
        "  [167   3]  |   -0.058398637  |              |           |    N/A    \n",
        "  [167   4]  |     0.74094685  |              |           |    N/A    \n",
        "  [168   0]  |    -0.74246729  |              |           |    N/A    \n",
        "  [168   1]  |      1.3625493  |              |           |    N/A    \n",
        "  [168   2]  |      1.0473977  |              |           |    N/A    \n",
        "  [168   3]  |    -0.29591282  |              |           |    N/A    \n",
        "  [168   4]  |     0.14663234  |              |           |    N/A    \n",
        "  [169   0]  |     -1.7516546  |              |           |    N/A    \n",
        "  [169   1]  |     0.57961565  |              |           |    N/A    \n",
        "  [169   2]  |    -0.93722745  |              |           |    N/A    \n",
        "  [169   3]  |     -0.3760243  |              |           |    N/A    \n",
        "  [169   4]  |    -0.54070601  |              |           |    N/A    \n",
        "  [170   0]  |     -1.3401927  |              |           |    N/A    \n",
        "  [170   1]  |     0.60244813  |              |           |    N/A    \n",
        "  [170   2]  |     -1.8638386  |              |           |    N/A    \n",
        "  [170   3]  |    -0.37129122  |              |           |    N/A    \n",
        "  [170   4]  |    0.014120987  |              |           |    N/A    \n",
        "  [171   0]  |     -1.3595652  |              |           |    N/A    \n",
        "  [171   1]  |     0.66617924  |              |           |    N/A    \n",
        "  [171   2]  |    -0.88692101  |              |           |    N/A    \n",
        "  [171   3]  |    -0.48414518  |              |           |    N/A    \n",
        "  [171   4]  |      0.1992099  |              |           |    N/A    \n",
        "  [172   0]  |    -0.58734024  |              |           |    N/A    \n",
        "  [172   1]  |      1.1530583  |              |           |    N/A    \n",
        "  [172   2]  |     -0.8832163  |              |           |    N/A    \n",
        "  [172   3]  |    -0.46256039  |              |           |    N/A    \n",
        "  [172   4]  |    -0.10716343  |              |           |    N/A    \n",
        "  [173   0]  |     -1.5061097  |              |           |    N/A    \n",
        "  [173   1]  |     0.34884979  |              |           |    N/A    \n",
        "  [173   2]  |     0.89050515  |              |           |    N/A    \n",
        "  [173   3]  |    -0.72100058  |              |           |    N/A    \n",
        "  [173   4]  |      0.6953196  |              |           |    N/A    \n",
        "  [174   0]  |    -0.72064182  |              |           |    N/A    \n",
        "  [174   1]  |      1.0731736  |              |           |    N/A    \n",
        "  [174   2]  |      1.2160469  |              |           |    N/A    \n",
        "  [174   3]  |    -0.16821339  |              |           |    N/A    \n",
        "  [174   4]  |   -0.092112161  |              |           |    N/A    \n",
        "  [175   0]  |    -0.75710679  |              |           |    N/A    \n",
        "  [175   1]  |     0.88144755  |              |           |    N/A    \n",
        "  [175   2]  |    -0.95550404  |              |           |    N/A    \n",
        "  [175   3]  |    -0.21136646  |              |           |    N/A    \n",
        "  [175   4]  |       0.325881  |              |           |    N/A    \n",
        "  [176   0]  |     -1.3410145  |              |           |    N/A    \n",
        "  [176   1]  |    0.063646567  |              |           |    N/A    \n",
        "  [176   2]  |    -0.40040175  |              |           |    N/A    \n",
        "  [176   3]  |     0.20100837  |              |           |    N/A    \n",
        "  [176   4]  |     0.87497332  |              |           |    N/A    \n",
        "  [177   0]  |      -1.350612  |              |           |    N/A    \n",
        "  [177   1]  |     0.93468122  |              |           |    N/A    \n",
        "  [177   2]  |     0.28857988  |              |           |    N/A    \n",
        "  [177   3]  |    -0.82428377  |              |           |    N/A    \n",
        "  [177   4]  |    0.059753282  |              |           |    N/A    \n",
        "  [178   0]  |      -1.276305  |              |           |    N/A    \n",
        "  [178   1]  |     0.40546151  |              |           |    N/A    \n",
        "  [178   2]  |      1.0025826  |              |           |    N/A    \n",
        "  [178   3]  |    -0.34310448  |              |           |    N/A    \n",
        "  [178   4]  |     0.99487965  |              |           |    N/A    \n",
        "  [179   0]  |      -1.740922  |              |           |    N/A    \n",
        "  [179   1]  |      0.6175522  |              |           |    N/A    \n",
        "  [179   2]  |     -1.1234255  |              |           |    N/A    \n",
        "  [179   3]  |    -0.48719172  |              |           |    N/A    \n",
        "  [179   4]  |     -0.5590587  |              |           |    N/A    \n",
        "  [180   0]  |     -1.3019011  |              |           |    N/A    \n",
        "  [180   1]  |     0.55287135  |              |           |    N/A    \n",
        "  [180   2]  |    -0.24807659  |              |           |    N/A    \n",
        "  [180   3]  |    -0.40100993  |              |           |    N/A    \n",
        "  [180   4]  |     0.53570663  |              |           |    N/A    \n",
        "  [181   0]  |     -1.4596008  |              |           |    N/A    \n",
        "  [181   1]  |   -0.018462987  |              |           |    N/A    \n",
        "  [181   2]  |    -0.68124837  |              |           |    N/A    \n",
        "  [181   3]  |     -2.6988806  |              |           |    N/A    \n",
        "  [181   4]  |    -0.39893512  |              |           |    N/A    \n",
        "  [182   0]  |     -1.1351624  |              |           |    N/A    \n",
        "  [182   1]  |    0.034121654  |              |           |    N/A    \n",
        "  [182   2]  |     -1.1304327  |              |           |    N/A    \n",
        "  [182   3]  |     0.41417966  |              |           |    N/A    \n",
        "  [182   4]  |     0.54251922  |              |           |    N/A    \n",
        "  [183   0]  |     -1.0119664  |              |           |    N/A    \n",
        "  [183   1]  |     0.23386253  |              |           |    N/A    \n",
        "  [183   2]  |     -1.0164281  |              |           |    N/A    \n",
        "  [183   3]  |   -0.092703676  |              |           |    N/A    \n",
        "  [183   4]  |     0.71905668  |              |           |    N/A    \n",
        "  [184   0]  |       -1.40831  |              |           |    N/A    \n",
        "  [184   1]  |     0.41922525  |              |           |    N/A    \n",
        "  [184   2]  |     0.20785261  |              |           |    N/A    \n",
        "  [184   3]  |    -0.27944972  |              |           |    N/A    \n",
        "  [184   4]  |      0.6967641  |              |           |    N/A    \n",
        "  [185   0]  |     -1.2098677  |              |           |    N/A    \n",
        "  [185   1]  |     0.98702122  |              |           |    N/A    \n",
        "  [185   2]  |    -0.53419897  |              |           |    N/A    \n",
        "  [185   3]  |    -0.28014312  |              |           |    N/A    \n",
        "  [185   4]  |    -0.21769902  |              |           |    N/A    \n",
        "  [186   0]  |    0.010482025  |              |           |    N/A    \n",
        "  [186   1]  |      1.8169175  |              |           |    N/A    \n",
        "  [186   2]  |    -0.58713654  |              |           |    N/A    \n",
        "  [186   3]  |     -2.3243591  |              |           |    N/A    \n",
        "  [186   4]  |     0.55647094  |              |           |    N/A    \n",
        "  [187   0]  |      -1.429068  |              |           |    N/A    \n",
        "  [187   1]  |     0.82206337  |              |           |    N/A    \n",
        "  [187   2]  |     0.94413987  |              |           |    N/A    \n",
        "  [187   3]  |    -0.96417858  |              |           |    N/A    \n",
        "  [187   4]  |     0.17971537  |              |           |    N/A    \n",
        "  [188   0]  |     -1.4415627  |              |           |    N/A    \n",
        "  [188   1]  |      0.1784502  |              |           |    N/A    \n",
        "  [188   2]  |    -0.94521054  |              |           |    N/A    \n",
        "  [188   3]  |     -0.1767501  |              |           |    N/A    \n",
        "  [188   4]  |      0.6963196  |              |           |    N/A    \n",
        "  [189   0]  |     -1.2007477  |              |           |    N/A    \n",
        "  [189   1]  |     0.83457411  |              |           |    N/A    \n",
        "  [189   2]  |      1.2652726  |              |           |    N/A    \n",
        "  [189   3]  |     -1.2351702  |              |           |    N/A    \n",
        "  [189   4]  |     0.47630601  |              |           |    N/A    \n",
        "  [190   0]  |     -1.2519314  |              |           |    N/A    \n",
        "  [190   1]  |     0.84722462  |              |           |    N/A    \n",
        "  [190   2]  |    -0.29051904  |              |           |    N/A    \n",
        "  [190   3]  |    -0.58638343  |              |           |    N/A    \n",
        "  [190   4]  |     0.24761131  |              |           |    N/A    \n",
        "  [191   0]  |     -1.4722828  |              |           |    N/A    \n",
        "  [191   1]  |   -0.041753384  |              |           |    N/A    \n",
        "  [191   2]  |      -1.119129  |              |           |    N/A    \n",
        "  [191   3]  |     0.26502064  |              |           |    N/A    \n",
        "  [191   4]  |     0.66859317  |              |           |    N/A    \n",
        "  [192   0]  |     -1.2827502  |              |           |    N/A    \n",
        "  [192   1]  |    0.086436505  |              |           |    N/A    \n",
        "  [192   2]  |      -0.171497  |              |           |    N/A    \n",
        "  [192   3]  |    0.054768068  |              |           |    N/A    \n",
        "  [192   4]  |      1.1000862  |              |           |    N/A    \n",
        "  [193   0]  |     -1.6738883  |              |           |    N/A    \n",
        "  [193   1]  |     0.72049078  |              |           |    N/A    \n",
        "  [193   2]  |    -0.83088059  |              |           |    N/A    \n",
        "  [193   3]  |     -0.7352363  |              |           |    N/A    \n",
        "  [193   4]  |     -1.1884218  |              |           |    N/A    \n",
        "  [194   0]  |     -1.1174016  |              |           |    N/A    \n",
        "  [194   1]  |     0.92625011  |              |           |    N/A    \n",
        "  [194   2]  |       1.168318  |              |           |    N/A    \n",
        "  [194   3]  |    -0.51104157  |              |           |    N/A    \n",
        "  [194   4]  |     0.65308614  |              |           |    N/A    \n",
        "  [195   0]  |     -1.2412397  |              |           |    N/A    \n",
        "  [195   1]  |     0.93442541  |              |           |    N/A    \n",
        "  [195   2]  |    -0.77182615  |              |           |    N/A    \n",
        "  [195   3]  |      -0.579282  |              |           |    N/A    \n",
        "  [195   4]  |   -0.032537294  |              |           |    N/A    \n",
        "  [196   0]  |     -1.2453605  |              |           |    N/A    \n",
        "  [196   1]  |     0.62458832  |              |           |    N/A    \n",
        "  [196   2]  |    -0.42640618  |              |           |    N/A    \n",
        "  [196   3]  |   -0.011987663  |              |           |    N/A    \n",
        "  [196   4]  |     0.45165863  |              |           |    N/A    \n",
        "  [197   0]  |     -1.5602864  |              |           |    N/A    \n",
        "  [197   1]  |     0.82548622  |              |           |    N/A    \n",
        "  [197   2]  |     0.37571692  |              |           |    N/A    \n",
        "  [197   3]  |    -0.82044502  |              |           |    N/A    \n",
        "  [197   4]  |    -0.13047866  |              |           |    N/A    \n",
        "  [198   0]  |    -0.63961672  |              |           |    N/A    \n",
        "  [198   1]  |      1.1074693  |              |           |    N/A    \n",
        "  [198   2]  |     -1.3047197  |              |           |    N/A    \n",
        "  [198   3]  |     -1.3582298  |              |           |    N/A    \n",
        "  [198   4]  |     0.16814523  |              |           |    N/A    \n",
        "  [199   0]  |   -0.060358772  |              |           |    N/A    \n",
        "  [199   1]  |      1.6410294  |              |           |    N/A    \n",
        "  [199   2]  |     -1.2748522  |              |           |    N/A    \n",
        "  [199   3]  |     -2.0158021  |              |           |    N/A    \n",
        "  [199   4]  |     0.32527392  |              |           |    N/A    \n",
        "  [200   0]  |    -0.31386589  |              |           |    N/A    \n",
        "  [200   1]  |      1.8857685  |              |           |    N/A    \n",
        "  [200   2]  |    -0.38241732  |              |           |    N/A    \n",
        "  [200   3]  |     -1.9814314  |              |           |    N/A    \n",
        "  [200   4]  |      0.3644265  |              |           |    N/A    \n",
        "  [201   0]  |     -1.2119914  |              |           |    N/A    \n",
        "  [201   1]  |     0.13523947  |              |           |    N/A    \n",
        "  [201   2]  |    -0.81420564  |              |           |    N/A    \n",
        "  [201   3]  |    -0.58653783  |              |           |    N/A    \n",
        "  [201   4]  |      0.5047257  |              |           |    N/A    \n",
        "  [202   0]  |     -1.4541073  |              |           |    N/A    \n",
        "  [202   1]  |    -0.17706895  |              |           |    N/A    \n",
        "  [202   2]  |    -0.63598362  |              |           |    N/A    \n",
        "  [202   3]  |   -0.037948641  |              |           |    N/A    \n",
        "  [202   4]  |     0.85934261  |              |           |    N/A    \n",
        "  [203   0]  |     -1.6270759  |              |           |    N/A    \n",
        "  [203   1]  |      0.3157894  |              |           |    N/A    \n",
        "  [203   2]  |     -1.1112573  |              |           |    N/A    \n",
        "  [203   3]  |     0.27128595  |              |           |    N/A    \n",
        "  [203   4]  |     0.10336247  |              |           |    N/A    \n",
        "  [204   0]  |     -1.1807524  |              |           |    N/A    \n",
        "  [204   1]  |     0.96500297  |              |           |    N/A    \n",
        "  [204   2]  |    -0.35731819  |              |           |    N/A    \n",
        "  [204   3]  |    -0.67369006  |              |           |    N/A    \n",
        "  [204   4]  |     0.24033014  |              |           |    N/A    \n",
        "  [205   0]  |      -1.554744  |              |           |    N/A    \n",
        "  [205   1]  |   0.0089364793  |              |           |    N/A    \n",
        "  [205   2]  |    -0.66371466  |              |           |    N/A    \n",
        "  [205   3]  |    -0.01708671  |              |           |    N/A    \n",
        "  [205   4]  |     0.54637007  |              |           |    N/A    \n",
        "  [206   0]  |      -1.228704  |              |           |    N/A    \n",
        "  [206   1]  |      1.0270921  |              |           |    N/A    \n",
        "  [206   2]  |      1.0701756  |              |           |    N/A    \n",
        "  [206   3]  |    -0.91143096  |              |           |    N/A    \n",
        "  [206   4]  |     0.15601036  |              |           |    N/A    \n",
        "  [207   0]  |     -1.6996015  |              |           |    N/A    \n",
        "  [207   1]  |  -0.0089222125  |              |           |    N/A    \n",
        "  [207   2]  |    -0.26440311  |              |           |    N/A    \n",
        "  [207   3]  |    -0.26963687  |              |           |    N/A    \n",
        "  [207   4]  |     0.41376067  |              |           |    N/A    \n",
        "  [208   0]  |    -0.45104525  |              |           |    N/A    \n",
        "  [208   1]  |      1.4660365  |              |           |    N/A    \n",
        "  [208   2]  |  -0.0027497551  |              |           |    N/A    \n",
        "  [208   3]  |     -1.9421575  |              |           |    N/A    \n",
        "  [208   4]  |     0.25840182  |              |           |    N/A    \n",
        "  [209   0]  |     -1.1367244  |              |           |    N/A    \n",
        "  [209   1]  |     0.61567764  |              |           |    N/A    \n",
        "  [209   2]  |     0.41349453  |              |           |    N/A    \n",
        "  [209   3]  |    -0.38805667  |              |           |    N/A    \n",
        "  [209   4]  |     0.62350718  |              |           |    N/A    \n",
        "  [210   0]  |    -0.69528978  |              |           |    N/A    \n",
        "  [210   1]  |      1.1199851  |              |           |    N/A    \n",
        "  [210   2]  |      -0.829981  |              |           |    N/A    \n",
        "  [210   3]  |    -0.82366618  |              |           |    N/A    \n",
        "  [210   4]  |     0.17284962  |              |           |    N/A    \n",
        "  [211   0]  |     -1.3938026  |              |           |    N/A    \n",
        "  [211   1]  |      0.5312083  |              |           |    N/A    \n",
        "  [211   2]  |     -0.2073715  |              |           |    N/A    \n",
        "  [211   3]  |    -0.53290763  |              |           |    N/A    \n",
        "  [211   4]  |     0.48254503  |              |           |    N/A    \n",
        "  [212   0]  |    -0.89367413  |              |           |    N/A    \n",
        "  [212   1]  |      1.0371383  |              |           |    N/A    \n",
        "  [212   2]  |     0.11961214  |              |           |    N/A    \n",
        "  [212   3]  |    -0.66645906  |              |           |    N/A    \n",
        "  [212   4]  |     0.50789707  |              |           |    N/A    \n",
        "  [213   0]  |     -1.0997454  |              |           |    N/A    \n",
        "  [213   1]  |      1.2560698  |              |           |    N/A    \n",
        "  [213   2]  |     0.61002414  |              |           |    N/A    \n",
        "  [213   3]  |    -0.96455809  |              |           |    N/A    \n",
        "  [213   4]  |    0.069657131  |              |           |    N/A    \n",
        "  [214   0]  |     -1.2724259  |              |           |    N/A    \n",
        "  [214   1]  |     0.41124815  |              |           |    N/A    \n",
        "  [214   2]  |     0.16602347  |              |           |    N/A    \n",
        "  [214   3]  |    -0.58894863  |              |           |    N/A    \n",
        "  [214   4]  |     0.76924472  |              |           |    N/A    \n",
        "  [215   0]  |     -1.3551126  |              |           |    N/A    \n",
        "  [215   1]  |    -0.10211504  |              |           |    N/A    \n",
        "  [215   2]  |     -1.0388801  |              |           |    N/A    \n",
        "  [215   3]  |     0.15381488  |              |           |    N/A    \n",
        "  [215   4]  |     0.67487445  |              |           |    N/A    \n",
        "  [216   0]  |     -1.4514609  |              |           |    N/A    \n",
        "  [216   1]  |      0.4696875  |              |           |    N/A    \n",
        "  [216   2]  |    -0.41961801  |              |           |    N/A    \n",
        "  [216   3]  |   -0.079553051  |              |           |    N/A    \n",
        "  [216   4]  |     0.52087665  |              |           |    N/A    \n",
        "  [217   0]  |    -0.65055904  |              |           |    N/A    \n",
        "  [217   1]  |      1.4565894  |              |           |    N/A    \n",
        "  [217   2]  |    -0.63528141  |              |           |    N/A    \n",
        "  [217   3]  |     -1.3737066  |              |           |    N/A    \n",
        "  [217   4]  |     0.10077001  |              |           |    N/A    \n",
        "  [218   0]  |     -1.0613208  |              |           |    N/A    \n",
        "  [218   1]  |     0.59834954  |              |           |    N/A    \n",
        "  [218   2]  |     -1.5408635  |              |           |    N/A    \n",
        "  [218   3]  |    -0.10557701  |              |           |    N/A    \n",
        "  [218   4]  |     0.16134768  |              |           |    N/A    \n",
        "  [219   0]  |     -1.3916723  |              |           |    N/A    \n",
        "  [219   1]  |     0.75002979  |              |           |    N/A    \n",
        "  [219   2]  |    -0.95766443  |              |           |    N/A    \n",
        "  [219   3]  |     -0.2998695  |              |           |    N/A    \n",
        "  [219   4]  |    -0.24368228  |              |           |    N/A    \n",
        "  [220   0]  |      1.5023417  |              |           |    N/A    \n",
        "  [220   1]  |     0.12950851  |              |           |    N/A    \n",
        "  [220   2]  |     -1.0523144  |              |           |    N/A    \n",
        "  [220   3]  |     -1.1838966  |              |           |    N/A    \n",
        "  [220   4]  |     -1.1179983  |              |           |    N/A    \n",
        "  [221   0]  |      1.2649706  |              |           |    N/A    \n",
        "  [221   1]  |    -0.24118173  |              |           |    N/A    \n",
        "  [221   2]  |    -0.91721225  |              |           |    N/A    \n",
        "  [221   3]  |    -0.55747904  |              |           |    N/A    \n",
        "  [221   4]  |    -0.59693955  |              |           |    N/A    \n",
        "  [222   0]  |      1.3856108  |              |           |    N/A    \n",
        "  [222   1]  |    -0.26651613  |              |           |    N/A    \n",
        "  [222   2]  |     0.83041977  |              |           |    N/A    \n",
        "  [222   3]  |    -0.24433045  |              |           |    N/A    \n",
        "  [222   4]  |      -1.527922  |              |           |    N/A    \n",
        "  [223   0]  |      2.0637229  |              |           |    N/A    \n",
        "  [223   1]  |    -0.51142703  |              |           |    N/A    \n",
        "  [223   2]  |     0.47274556  |              |           |    N/A    \n",
        "  [223   3]  |     0.65945141  |              |           |    N/A    \n",
        "  [223   4]  |      -2.134762  |              |           |    N/A    \n",
        "  [224   0]  |      1.0586174  |              |           |    N/A    \n",
        "  [224   1]  |     -1.1578725  |              |           |    N/A    \n",
        "  [224   2]  |    -0.47528785  |              |           |    N/A    \n",
        "  [224   3]  |       0.532792  |              |           |    N/A    \n",
        "  [224   4]  |    -0.63529848  |              |           |    N/A    \n",
        "  [225   0]  |     0.77097646  |              |           |    N/A    \n",
        "  [225   1]  |     -1.0515724  |              |           |    N/A    \n",
        "  [225   2]  |    -0.53314562  |              |           |    N/A    \n",
        "  [225   3]  |    -0.73795145  |              |           |    N/A    \n",
        "  [225   4]  |     0.51307998  |              |           |    N/A    \n",
        "  [226   0]  |      1.5819052  |              |           |    N/A    \n",
        "  [226   1]  |    -0.12176156  |              |           |    N/A    \n",
        "  [226   2]  |    -0.91360773  |              |           |    N/A    \n",
        "  [226   3]  |      1.4907873  |              |           |    N/A    \n",
        "  [226   4]  |     -2.1142421  |              |           |    N/A    \n",
        "  [227   0]  |     0.76596465  |              |           |    N/A    \n",
        "  [227   1]  |    -0.66328887  |              |           |    N/A    \n",
        "  [227   2]  |     -1.0560966  |              |           |    N/A    \n",
        "  [227   3]  |     0.27936266  |              |           |    N/A    \n",
        "  [227   4]  |      -0.862081  |              |           |    N/A    \n",
        "  [228   0]  |       1.040484  |              |           |    N/A    \n",
        "  [228   1]  |     -1.2198849  |              |           |    N/A    \n",
        "  [228   2]  |     0.82591666  |              |           |    N/A    \n",
        "  [228   3]  |    -0.64339115  |              |           |    N/A    \n",
        "  [228   4]  |    -0.68049385  |              |           |    N/A    \n",
        "  [229   0]  |      1.5909729  |              |           |    N/A    \n",
        "  [229   1]  |  -0.0055724629  |              |           |    N/A    \n",
        "  [229   2]  |    -0.88187676  |              |           |    N/A    \n",
        "  [229   3]  |    -0.86988441  |              |           |    N/A    \n",
        "  [229   4]  |     -0.8398575  |              |           |    N/A    \n",
        "  [230   0]  |      1.2053244  |              |           |    N/A    \n",
        "  [230   1]  |     0.55251803  |              |           |    N/A    \n",
        "  [230   2]  |    -0.91117447  |              |           |    N/A    \n",
        "  [230   3]  |      -1.655982  |              |           |    N/A    \n",
        "  [230   4]  |    -0.89845764  |              |           |    N/A    \n",
        "  [231   0]  |      1.5727181  |              |           |    N/A    \n",
        "  [231   1]  |    -0.65274475  |              |           |    N/A    \n",
        "  [231   2]  |    -0.75729346  |              |           |    N/A    \n",
        "  [231   3]  |      1.5140621  |              |           |    N/A    \n",
        "  [231   4]  |     -1.4758103  |              |           |    N/A    \n",
        "  [232   0]  |      1.3931795  |              |           |    N/A    \n",
        "  [232   1]  |    0.064019575  |              |           |    N/A    \n",
        "  [232   2]  |    -0.63397844  |              |           |    N/A    \n",
        "  [232   3]  |     -1.3049945  |              |           |    N/A    \n",
        "  [232   4]  |    -0.80313882  |              |           |    N/A    \n",
        "  [233   0]  |      1.3393722  |              |           |    N/A    \n",
        "  [233   1]  |     0.56118496  |              |           |    N/A    \n",
        "  [233   2]  |     0.25158656  |              |           |    N/A    \n",
        "  [233   3]  |     -2.1435407  |              |           |    N/A    \n",
        "  [233   4]  |    -0.77716583  |              |           |    N/A    \n",
        "  [234   0]  |       1.232094  |              |           |    N/A    \n",
        "  [234   1]  |    -0.54390645  |              |           |    N/A    \n",
        "  [234   2]  |     -1.3967378  |              |           |    N/A    \n",
        "  [234   3]  |      0.4134416  |              |           |    N/A    \n",
        "  [234   4]  |    -0.71761981  |              |           |    N/A    \n",
        "  [235   0]  |      1.4859327  |              |           |    N/A    \n",
        "  [235   1]  |    0.072824188  |              |           |    N/A    \n",
        "  [235   2]  |    -0.96111873  |              |           |    N/A    \n",
        "  [235   3]  |    -0.83123963  |              |           |    N/A    \n",
        "  [235   4]  |     -1.4144059  |              |           |    N/A    \n",
        "  [236   0]  |       1.269026  |              |           |    N/A    \n",
        "  [236   1]  |     0.14148959  |              |           |    N/A    \n",
        "  [236   2]  |     -1.1397432  |              |           |    N/A    \n",
        "  [236   3]  |    -0.85229771  |              |           |    N/A    \n",
        "  [236   4]  |     -1.1169994  |              |           |    N/A    \n",
        "  [237   0]  |      1.4817643  |              |           |    N/A    \n",
        "  [237   1]  |     0.40238886  |              |           |    N/A    \n",
        "  [237   2]  |     -1.2392186  |              |           |    N/A    \n",
        "  [237   3]  |    -0.81508993  |              |           |    N/A    \n",
        "  [237   4]  |    -0.71908596  |              |           |    N/A    \n",
        "  [238   0]  |     0.39675881  |              |           |    N/A    \n",
        "  [238   1]  |     -1.6078641  |              |           |    N/A    \n",
        "  [238   2]  |     0.86908821  |              |           |    N/A    \n",
        "  [238   3]  |    -0.28013181  |              |           |    N/A    \n",
        "  [238   4]  |     0.34911504  |              |           |    N/A    \n",
        "  [239   0]  |      1.8188381  |              |           |    N/A    \n",
        "  [239   1]  |    -0.44933859  |              |           |    N/A    \n",
        "  [239   2]  |    -0.10914852  |              |           |    N/A    \n",
        "  [239   3]  |    -0.33063076  |              |           |    N/A    \n",
        "  [239   4]  |     -1.3851574  |              |           |    N/A    \n",
        "  [240   0]  |      1.0416998  |              |           |    N/A    \n",
        "  [240   1]  |    -0.99296771  |              |           |    N/A    \n",
        "  [240   2]  |    -0.32709209  |              |           |    N/A    \n",
        "  [240   3]  |    -0.68000969  |              |           |    N/A    \n",
        "  [240   4]  |    -0.28009393  |              |           |    N/A    \n",
        "  [241   0]  |      1.3705898  |              |           |    N/A    \n",
        "  [241   1]  |    -0.54535927  |              |           |    N/A    \n",
        "  [241   2]  |     0.62377543  |              |           |    N/A    \n",
        "  [241   3]  |     -1.3554417  |              |           |    N/A    \n",
        "  [241   4]  |     -1.1477312  |              |           |    N/A    \n",
        "  [242   0]  |      1.3303371  |              |           |    N/A    \n",
        "  [242   1]  |     0.27384554  |              |           |    N/A    \n",
        "  [242   2]  |    -0.56334299  |              |           |    N/A    \n",
        "  [242   3]  |     -1.3979519  |              |           |    N/A    \n",
        "  [242   4]  |     -1.3651679  |              |           |    N/A    \n",
        "  [243   0]  |       1.647826  |              |           |    N/A    \n",
        "  [243   1]  |    0.013556256  |              |           |    N/A    \n",
        "  [243   2]  |      0.2771632  |              |           |    N/A    \n",
        "  [243   3]  |     -1.6916383  |              |           |    N/A    \n",
        "  [243   4]  |    -0.88514924  |              |           |    N/A    \n",
        "  [244   0]  |      1.0571562  |              |           |    N/A    \n",
        "  [244   1]  |     -1.3967925  |              |           |    N/A    \n",
        "  [244   2]  |     0.62172998  |              |           |    N/A    \n",
        "  [244   3]  |    -0.79163436  |              |           |    N/A    \n",
        "  [244   4]  |    -0.68278386  |              |           |    N/A    \n",
        "  [245   0]  |       1.373024  |              |           |    N/A    \n",
        "  [245   1]  |    -0.68769988  |              |           |    N/A    \n",
        "  [245   2]  |    0.075176586  |              |           |    N/A    \n",
        "  [245   3]  |     -1.0923433  |              |           |    N/A    \n",
        "  [245   4]  |    -0.74313848  |              |           |    N/A    \n",
        "  [246   0]  |      1.1709326  |              |           |    N/A    \n",
        "  [246   1]  |      -1.089189  |              |           |    N/A    \n",
        "  [246   2]  |    -0.19443726  |              |           |    N/A    \n",
        "  [246   3]  |     0.75590109  |              |           |    N/A    \n",
        "  [246   4]  |    -0.61519866  |              |           |    N/A    \n",
        "  [247   0]  |      1.5775461  |              |           |    N/A    \n",
        "  [247   1]  |    0.035453657  |              |           |    N/A    \n",
        "  [247   2]  |    0.035037833  |              |           |    N/A    \n",
        "  [247   3]  |     -1.5241338  |              |           |    N/A    \n",
        "  [247   4]  |    -0.89657553  |              |           |    N/A    \n",
        "  [248   0]  |      1.0842779  |              |           |    N/A    \n",
        "  [248   1]  |     0.85855915  |              |           |    N/A    \n",
        "  [248   2]  |     -1.0285048  |              |           |    N/A    \n",
        "  [248   3]  |     -2.0987039  |              |           |    N/A    \n",
        "  [248   4]  |  0.00083361523  |              |           |    N/A    \n",
        "  [249   0]  |     0.71420199  |              |           |    N/A    \n",
        "  [249   1]  |     -1.0663256  |              |           |    N/A    \n",
        "  [249   2]  |    -0.17906179  |              |           |    N/A    \n",
        "  [249   3]  |    -0.12233165  |              |           |    N/A    \n",
        "  [249   4]  |    -0.33266356  |              |           |    N/A    \n",
        "  [250   0]  |      1.8654544  |              |           |    N/A    \n",
        "  [250   1]  |    -0.21416926  |              |           |    N/A    \n",
        "  [250   2]  |    -0.57360857  |              |           |    N/A    \n",
        "  [250   3]  |      1.0205986  |              |           |    N/A    \n",
        "  [250   4]  |     -1.9642817  |              |           |    N/A    \n",
        "  [251   0]  |     0.75207263  |              |           |    N/A    \n",
        "  [251   1]  |     -1.3669656  |              |           |    N/A    \n",
        "  [251   2]  |     0.35969276  |              |           |    N/A    \n",
        "  [251   3]  |    -0.51289449  |              |           |    N/A    \n",
        "  [251   4]  |     0.26155547  |              |           |    N/A    \n",
        "  [252   0]  |     0.63568323  |              |           |    N/A    \n",
        "  [252   1]  |     -1.4425356  |              |           |    N/A    \n",
        "  [252   2]  |     0.51507947  |              |           |    N/A    \n",
        "  [252   3]  |    -0.68763494  |              |           |    N/A    \n",
        "  [252   4]  |    -0.49110247  |              |           |    N/A    \n",
        "  [253   0]  |       1.227607  |              |           |    N/A    \n",
        "  [253   1]  |    -0.59262216  |              |           |    N/A    \n",
        "  [253   2]  |    -0.61383237  |              |           |    N/A    \n",
        "  [253   3]  |      1.9131739  |              |           |    N/A    \n",
        "  [253   4]  |     -1.4069083  |              |           |    N/A    \n",
        "  [254   0]  |      1.3719153  |              |           |    N/A    \n",
        "  [254   1]  |     0.65361095  |              |           |    N/A    \n",
        "  [254   2]  |    -0.67946659  |              |           |    N/A    \n",
        "  [254   3]  |     -1.5258112  |              |           |    N/A    \n",
        "  [254   4]  |    -0.44877015  |              |           |    N/A    \n",
        "  [255   0]  |       1.550834  |              |           |    N/A    \n",
        "  [255   1]  |     0.32731979  |              |           |    N/A    \n",
        "  [255   2]  |    0.040307214  |              |           |    N/A    \n",
        "  [255   3]  |     -1.9807104  |              |           |    N/A    \n",
        "  [255   4]  |    -0.85928956  |              |           |    N/A    \n",
        "  [256   0]  |      1.6334315  |              |           |    N/A    \n",
        "  [256   1]  |   -0.021295483  |              |           |    N/A    \n",
        "  [256   2]  |    -0.22861344  |              |           |    N/A    \n",
        "  [256   3]  |     -1.4713121  |              |           |    N/A    \n",
        "  [256   4]  |    -0.93345297  |              |           |    N/A    \n",
        "  [257   0]  |      1.0938254  |              |           |    N/A    \n",
        "  [257   1]  |     -1.1407344  |              |           |    N/A    \n",
        "  [257   2]  |     0.38605243  |              |           |    N/A    \n",
        "  [257   3]  |    -0.92615743  |              |           |    N/A    \n",
        "  [257   4]  |      -0.775072  |              |           |    N/A    \n",
        "  [258   0]  |      1.1783376  |              |           |    N/A    \n",
        "  [258   1]  |    -0.84733479  |              |           |    N/A    \n",
        "  [258   2]  |     -1.3293688  |              |           |    N/A    \n",
        "  [258   3]  |     0.64618434  |              |           |    N/A    \n",
        "  [258   4]  |    -0.76651108  |              |           |    N/A    \n",
        "  [259   0]  |      1.5492019  |              |           |    N/A    \n",
        "  [259   1]  |     0.16645435  |              |           |    N/A    \n",
        "  [259   2]  |     -1.0509702  |              |           |    N/A    \n",
        "  [259   3]  |    -0.88782752  |              |           |    N/A    \n",
        "  [259   4]  |    -0.83104944  |              |           |    N/A    \n",
        "  [260   0]  |      1.2660285  |              |           |    N/A    \n",
        "  [260   1]  |     -1.1945697  |              |           |    N/A    \n",
        "  [260   2]  |    0.062204729  |              |           |    N/A    \n",
        "  [260   3]  |    -0.24174016  |              |           |    N/A    \n",
        "  [260   4]  |    -0.16405757  |              |           |    N/A    \n",
        "  [261   0]  |      1.2375273  |              |           |    N/A    \n",
        "  [261   1]  |     -1.1224077  |              |           |    N/A    \n",
        "  [261   2]  |      0.2411175  |              |           |    N/A    \n",
        "  [261   3]  |    -0.98922245  |              |           |    N/A    \n",
        "  [261   4]  |    -0.40187428  |              |           |    N/A    \n",
        "  [262   0]  |      1.4385191  |              |           |    N/A    \n",
        "  [262   1]  |    -0.56381352  |              |           |    N/A    \n",
        "  [262   2]  |    -0.60924523  |              |           |    N/A    \n",
        "  [262   3]  |    -0.11530107  |              |           |    N/A    \n",
        "  [262   4]  |    -0.81486656  |              |           |    N/A    \n",
        "  [263   0]  |      1.2663611  |              |           |    N/A    \n",
        "  [263   1]  |    -0.91563984  |              |           |    N/A    \n",
        "  [263   2]  |     0.10542889  |              |           |    N/A    \n",
        "  [263   3]  |     -1.0992649  |              |           |    N/A    \n",
        "  [263   4]  |     -0.6182895  |              |           |    N/A    \n",
        "  [264   0]  |     0.53129395  |              |           |    N/A    \n",
        "  [264   1]  |     -1.5933585  |              |           |    N/A    \n",
        "  [264   2]  |    0.059953505  |              |           |    N/A    \n",
        "  [264   3]  |    -0.20749319  |              |           |    N/A    \n",
        "  [264   4]  |    0.054848835  |              |           |    N/A    \n",
        "  [265   0]  |     0.20809783  |              |           |    N/A    \n",
        "  [265   1]  |     -1.8109445  |              |           |    N/A    \n",
        "  [265   2]  |      1.4088404  |              |           |    N/A    \n",
        "  [265   3]  |    -0.38937848  |              |           |    N/A    \n",
        "  [265   4]  |     0.65005321  |              |           |    N/A    \n",
        "  [266   0]  |      1.4564482  |              |           |    N/A    \n",
        "  [266   1]  |    -0.34429458  |              |           |    N/A    \n",
        "  [266   2]  |     -1.3538463  |              |           |    N/A    \n",
        "  [266   3]  |     0.22657071  |              |           |    N/A    \n",
        "  [266   4]  |      -1.218924  |              |           |    N/A    \n",
        "  [267   0]  |      1.3853012  |              |           |    N/A    \n",
        "  [267   1]  |    -0.49791129  |              |           |    N/A    \n",
        "  [267   2]  |    -0.20417967  |              |           |    N/A    \n",
        "  [267   3]  |     -1.0088839  |              |           |    N/A    \n",
        "  [267   4]  |    -0.67923687  |              |           |    N/A    \n",
        "  [268   0]  |     0.93850157  |              |           |    N/A    \n",
        "  [268   1]  |     -1.2487162  |              |           |    N/A    \n",
        "  [268   2]  |    -0.11264797  |              |           |    N/A    \n",
        "  [268   3]  |    -0.14857672  |              |           |    N/A    \n",
        "  [268   4]  |     0.23053145  |              |           |    N/A    \n",
        "  [269   0]  |      1.6263163  |              |           |    N/A    \n",
        "  [269   1]  |     0.19756024  |              |           |    N/A    \n",
        "  [269   2]  |    -0.16354099  |              |           |    N/A    \n",
        "  [269   3]  |     -1.6079968  |              |           |    N/A    \n",
        "  [269   4]  |    -0.86395977  |              |           |    N/A    \n",
        "  [270   0]  |      1.4336207  |              |           |    N/A    \n",
        "  [270   1]  |     -1.1306745  |              |           |    N/A    \n",
        "  [270   2]  |    -0.17677898  |              |           |    N/A    \n",
        "  [270   3]  |    0.026346393  |              |           |    N/A    \n",
        "  [270   4]  |   -0.067318025  |              |           |    N/A    \n",
        "  [271   0]  |     0.96891888  |              |           |    N/A    \n",
        "  [271   1]  |     -1.5117588  |              |           |    N/A    \n",
        "  [271   2]  |     0.38292393  |              |           |    N/A    \n",
        "  [271   3]  |     0.21699701  |              |           |    N/A    \n",
        "  [271   4]  |     0.40027433  |              |           |    N/A    \n",
        "  [272   0]  |     0.60718555  |              |           |    N/A    \n",
        "  [272   1]  |     -1.3350276  |              |           |    N/A    \n",
        "  [272   2]  |     0.67365229  |              |           |    N/A    \n",
        "  [272   3]  |    -0.45982293  |              |           |    N/A    \n",
        "  [272   4]  |     -0.3741388  |              |           |    N/A    \n",
        "  [273   0]  |      1.2272048  |              |           |    N/A    \n",
        "  [273   1]  |    -0.45772637  |              |           |    N/A    \n",
        "  [273   2]  |     -1.4118475  |              |           |    N/A    \n",
        "  [273   3]  |      2.0157324  |              |           |    N/A    \n",
        "  [273   4]  |     -1.6251771  |              |           |    N/A    \n",
        "  [274   0]  |     0.95477729  |              |           |    N/A    \n",
        "  [274   1]  |    -0.84624004  |              |           |    N/A    \n",
        "  [274   2]  |    -0.57474795  |              |           |    N/A    \n",
        "  [274   3]  |      0.3874594  |              |           |    N/A    \n",
        "  [274   4]  |     -1.0430853  |              |           |    N/A    \n",
        "  [275   0]  |    -0.28956109  |              |           |    N/A    \n",
        "  [275   1]  |    -0.98717866  |              |           |    N/A    \n",
        "  [275   2]  |     0.58412528  |              |           |    N/A    \n",
        "  [275   3]  |      1.7117273  |              |           |    N/A    \n",
        "  [275   4]  |    0.060382711  |              |           |    N/A    \n",
        "  [276   0]  |    -0.18864417  |              |           |    N/A    \n",
        "  [276   1]  |     -1.3186609  |              |           |    N/A    \n",
        "  [276   2]  |     -1.6740805  |              |           |    N/A    \n",
        "  [276   3]  |     -0.5625592  |              |           |    N/A    \n",
        "  [276   4]  |     0.49585909  |              |           |    N/A    \n",
        "  [277   0]  |    -0.62496871  |              |           |    N/A    \n",
        "  [277   1]  |     -1.8241972  |              |           |    N/A    \n",
        "  [277   2]  |     0.69166033  |              |           |    N/A    \n",
        "  [277   3]  |     -1.3350519  |              |           |    N/A    \n",
        "  [277   4]  |      1.7673069  |              |           |    N/A    \n",
        "  [278   0]  |     0.79159152  |              |           |    N/A    \n",
        "  [278   1]  |     -1.3153642  |              |           |    N/A    \n",
        "  [278   2]  |    -0.17819017  |              |           |    N/A    \n",
        "  [278   3]  |       0.370884  |              |           |    N/A    \n",
        "  [278   4]  |     0.70754472  |              |           |    N/A    \n",
        "  [279   0]  |    -0.44203619  |              |           |    N/A    \n",
        "  [279   1]  |     -1.5239753  |              |           |    N/A    \n",
        "  [279   2]  |   -0.007817131  |              |           |    N/A    \n",
        "  [279   3]  |      1.8031073  |              |           |    N/A    \n",
        "  [279   4]  |      1.5853709  |              |           |    N/A    \n",
        "  [280   0]  |     0.20283178  |              |           |    N/A    \n",
        "  [280   1]  |     -1.4576344  |              |           |    N/A    \n",
        "  [280   2]  |     -1.2368305  |              |           |    N/A    \n",
        "  [280   3]  |    0.065385473  |              |           |    N/A    \n",
        "  [280   4]  |      1.0625415  |              |           |    N/A    \n",
        "  [281   0]  |    -0.43176794  |              |           |    N/A    \n",
        "  [281   1]  |     -1.7283052  |              |           |    N/A    \n",
        "  [281   2]  |    -0.19339227  |              |           |    N/A    \n",
        "  [281   3]  |      1.3549092  |              |           |    N/A    \n",
        "  [281   4]  |      1.5874792  |              |           |    N/A    \n",
        "  [282   0]  |    0.016325446  |              |           |    N/A    \n",
        "  [282   1]  |     -1.2445521  |              |           |    N/A    \n",
        "  [282   2]  |     0.32250311  |              |           |    N/A    \n",
        "  [282   3]  |      1.0698983  |              |           |    N/A    \n",
        "  [282   4]  |      1.6912002  |              |           |    N/A    \n",
        "  [283   0]  |    -0.57293485  |              |           |    N/A    \n",
        "  [283   1]  |     -1.6858442  |              |           |    N/A    \n",
        "  [283   2]  |    0.087553732  |              |           |    N/A    \n",
        "  [283   3]  |     -1.0192876  |              |           |    N/A    \n",
        "  [283   4]  |      1.5660044  |              |           |    N/A    \n",
        "  [284   0]  |     0.14720112  |              |           |    N/A    \n",
        "  [284   1]  |       -1.68052  |              |           |    N/A    \n",
        "  [284   2]  |     0.38785294  |              |           |    N/A    \n",
        "  [284   3]  |     0.61199678  |              |           |    N/A    \n",
        "  [284   4]  |     0.70235422  |              |           |    N/A    \n",
        "  [285   0]  |    -0.25291024  |              |           |    N/A    \n",
        "  [285   1]  |     -1.5529302  |              |           |    N/A    \n",
        "  [285   2]  |    -0.84212099  |              |           |    N/A    \n",
        "  [285   3]  |      1.1283542  |              |           |    N/A    \n",
        "  [285   4]  |      1.6894099  |              |           |    N/A    \n",
        "  [286   0]  |     0.10680774  |              |           |    N/A    \n",
        "  [286   1]  |     -1.8296834  |              |           |    N/A    \n",
        "  [286   2]  |     0.22024607  |              |           |    N/A    \n",
        "  [286   3]  |     0.52281929  |              |           |    N/A    \n",
        "  [286   4]  |     0.57377973  |              |           |    N/A    \n",
        "  [287   0]  |    -0.25071324  |              |           |    N/A    \n",
        "  [287   1]  |    -0.83304841  |              |           |    N/A    \n",
        "  [287   2]  |     0.69641969  |              |           |    N/A    \n",
        "  [287   3]  |     0.70875901  |              |           |    N/A    \n",
        "  [287   4]  |    -0.39860598  |              |           |    N/A    \n",
        "  [288   0]  |    0.060519585  |              |           |    N/A    \n",
        "  [288   1]  |     -1.6687119  |              |           |    N/A    \n",
        "  [288   2]  |    -0.76828951  |              |           |    N/A    \n",
        "  [288   3]  |     -1.5574972  |              |           |    N/A    \n",
        "  [288   4]  |      1.3272527  |              |           |    N/A    \n",
        "  [289   0]  |     0.76261463  |              |           |    N/A    \n",
        "  [289   1]  |     -1.1055319  |              |           |    N/A    \n",
        "  [289   2]  |    -0.86594122  |              |           |    N/A    \n",
        "  [289   3]  |     0.44800086  |              |           |    N/A    \n",
        "  [289   4]  |     0.27646443  |              |           |    N/A    \n",
        "  [290   0]  |     0.21122489  |              |           |    N/A    \n",
        "  [290   1]  |     -1.4654719  |              |           |    N/A    \n",
        "  [290   2]  |    -0.82783575  |              |           |    N/A    \n",
        "  [290   3]  |    0.024943797  |              |           |    N/A    \n",
        "  [290   4]  |     0.33651832  |              |           |    N/A    \n",
        "  [291   0]  |     0.19296968  |              |           |    N/A    \n",
        "  [291   1]  |     -1.5550711  |              |           |    N/A    \n",
        "  [291   2]  |     -1.5375729  |              |           |    N/A    \n",
        "  [291   3]  |     -1.3015707  |              |           |    N/A    \n",
        "  [291   4]  |      1.1171721  |              |           |    N/A    \n",
        "  [292   0]  |   -0.075272615  |              |           |    N/A    \n",
        "  [292   1]  |     -1.3656201  |              |           |    N/A    \n",
        "  [292   2]  |     -1.2435894  |              |           |    N/A    \n",
        "  [292   3]  |      -1.201071  |              |           |    N/A    \n",
        "  [292   4]  |      1.0866169  |              |           |    N/A    \n",
        "  [293   0]  |    -0.63122556  |              |           |    N/A    \n",
        "  [293   1]  |     -1.1443705  |              |           |    N/A    \n",
        "  [293   2]  |     -1.1690023  |              |           |    N/A    \n",
        "  [293   3]  |    0.044897533  |              |           |    N/A    \n",
        "  [293   4]  |    0.044429516  |              |           |    N/A    \n",
        "  [294   0]  |    -0.71883317  |              |           |    N/A    \n",
        "  [294   1]  |    -0.98170064  |              |           |    N/A    \n",
        "  [294   2]  |    -0.12979708  |              |           |    N/A    \n",
        "  [294   3]  |     -1.2590619  |              |           |    N/A    \n",
        "  [294   4]  |     0.49615593  |              |           |    N/A    \n",
        "  [295   0]  |     0.02721688  |              |           |    N/A    \n",
        "  [295   1]  |     -1.4923147  |              |           |    N/A    \n",
        "  [295   2]  |     -1.3935117  |              |           |    N/A    \n",
        "  [295   3]  |    0.018380115  |              |           |    N/A    \n",
        "  [295   4]  |      1.3372804  |              |           |    N/A    \n",
        "  [296   0]  |    -0.63992171  |              |           |    N/A    \n",
        "  [296   1]  |     -1.5752549  |              |           |    N/A    \n",
        "  [296   2]  |      1.7744251  |              |           |    N/A    \n",
        "  [296   3]  |      -1.609849  |              |           |    N/A    \n",
        "  [296   4]  |      2.0791899  |              |           |    N/A    \n",
        "  [297   0]  |    0.028494928  |              |           |    N/A    \n",
        "  [297   1]  |     -1.9563547  |              |           |    N/A    \n",
        "  [297   2]  |     0.10546141  |              |           |    N/A    \n",
        "  [297   3]  |      0.1663655  |              |           |    N/A    \n",
        "  [297   4]  |     0.54935476  |              |           |    N/A    \n",
        "  [298   0]  |     -0.4489622  |              |           |    N/A    \n",
        "  [298   1]  |     -1.7455185  |              |           |    N/A    \n",
        "  [298   2]  |     0.78640827  |              |           |    N/A    \n",
        "  [298   3]  |      1.2610935  |              |           |    N/A    \n",
        "  [298   4]  |      1.2589962  |              |           |    N/A    \n",
        "  [299   0]  |    -0.58262096  |              |           |    N/A    \n",
        "  [299   1]  |    -0.84261721  |              |           |    N/A    \n",
        "  [299   2]  |      1.6756126  |              |           |    N/A    \n",
        "  [299   3]  |     0.31782328  |              |           |    N/A    \n",
        "  [299   4]  |     0.80236797  |              |           |    N/A    \n",
        "  [300   0]  |    -0.46729376  |              |           |    N/A    \n",
        "  [300   1]  |     -1.7119039  |              |           |    N/A    \n",
        "  [300   2]  |   0.0091058492  |              |           |    N/A    \n",
        "  [300   3]  |      1.6778996  |              |           |    N/A    \n",
        "  [300   4]  |      1.4842851  |              |           |    N/A    \n",
        "  [301   0]  |    -0.16500867  |              |           |    N/A    \n",
        "  [301   1]  |     -1.8489952  |              |           |    N/A    \n",
        "  [301   2]  |    -0.53979109  |              |           |    N/A    \n",
        "  [301   3]  |     0.61455768  |              |           |    N/A    \n",
        "  [301   4]  |     0.99717959  |              |           |    N/A    \n",
        "  [302   0]  |    -0.21547063  |              |           |    N/A    \n",
        "  [302   1]  |     -1.7202098  |              |           |    N/A    \n",
        "  [302   2]  |        0.90159  |              |           |    N/A    \n",
        "  [302   3]  |      1.0949186  |              |           |    N/A    \n",
        "  [302   4]  |     0.78169895  |              |           |    N/A    \n",
        "  [303   0]  |    -0.46644639  |              |           |    N/A    \n",
        "  [303   1]  |    -0.81378327  |              |           |    N/A    \n",
        "  [303   2]  |    -0.57381631  |              |           |    N/A    \n",
        "  [303   3]  |    0.032419976  |              |           |    N/A    \n",
        "  [303   4]  |   -0.087583827  |              |           |    N/A    \n",
        "  [304   0]  |    -0.49289124  |              |           |    N/A    \n",
        "  [304   1]  |    -0.80634591  |              |           |    N/A    \n",
        "  [304   2]  |     0.45237796  |              |           |    N/A    \n",
        "  [304   3]  |    -0.14894555  |              |           |    N/A    \n",
        "  [304   4]  |   -0.031550492  |              |           |    N/A    \n",
        "  [305   0]  |    -0.37606301  |              |           |    N/A    \n",
        "  [305   1]  |     -1.5228454  |              |           |    N/A    \n",
        "  [305   2]  |    -0.57339499  |              |           |    N/A    \n",
        "  [305   3]  |     0.85769823  |              |           |    N/A    \n",
        "  [305   4]  |       1.650645  |              |           |    N/A    \n",
        "  [306   0]  |    -0.18975699  |              |           |    N/A    \n",
        "  [306   1]  |     -1.3062251  |              |           |    N/A    \n",
        "  [306   2]  |     -1.5362748  |              |           |    N/A    \n",
        "  [306   3]  |      -1.341293  |              |           |    N/A    \n",
        "  [306   4]  |     0.22736117  |              |           |    N/A    \n",
        "  [307   0]  |    -0.48980051  |              |           |    N/A    \n",
        "  [307   1]  |    -0.91379629  |              |           |    N/A    \n",
        "  [307   2]  |    -0.14981381  |              |           |    N/A    \n",
        "  [307   3]  |     0.86139654  |              |           |    N/A    \n",
        "  [307   4]  |     0.17053329  |              |           |    N/A    \n",
        "  [308   0]  |    -0.46040917  |              |           |    N/A    \n",
        "  [308   1]  |    -0.53206359  |              |           |    N/A    \n",
        "  [308   2]  |     0.23235583  |              |           |    N/A    \n",
        "  [308   3]  |       2.301328  |              |           |    N/A    \n",
        "  [308   4]  |     0.11125743  |              |           |    N/A    \n",
        "  [309   0]  |     0.40857925  |              |           |    N/A    \n",
        "  [309   1]  |     -1.6379197  |              |           |    N/A    \n",
        "  [309   2]  |     0.65068613  |              |           |    N/A    \n",
        "  [309   3]  |     0.51600147  |              |           |    N/A    \n",
        "  [309   4]  |      0.7611934  |              |           |    N/A    \n",
        "  [310   0]  |     0.82302009  |              |           |    N/A    \n",
        "  [310   1]  |     0.10987953  |              |           |    N/A    \n",
        "  [310   2]  |     -1.5562344  |              |           |    N/A    \n",
        "  [310   3]  |     -1.4369645  |              |           |    N/A    \n",
        "  [310   4]  |      0.2851506  |              |           |    N/A    \n",
        "  [311   0]  |   -0.070577454  |              |           |    N/A    \n",
        "  [311   1]  |     -1.2382726  |              |           |    N/A    \n",
        "  [311   2]  |     0.18697341  |              |           |    N/A    \n",
        "  [311   3]  |    -0.48780538  |              |           |    N/A    \n",
        "  [311   4]  |   -0.085003363  |              |           |    N/A    \n",
        "  [312   0]  |     0.49184604  |              |           |    N/A    \n",
        "  [312   1]  |     -1.5769251  |              |           |    N/A    \n",
        "  [312   2]  |     0.62645515  |              |           |    N/A    \n",
        "  [312   3]  |     0.13261042  |              |           |    N/A    \n",
        "  [312   4]  |      0.5457622  |              |           |    N/A    \n",
        "  [313   0]  |    -0.46621528  |              |           |    N/A    \n",
        "  [313   1]  |     -1.8677992  |              |           |    N/A    \n",
        "  [313   2]  |     0.66017943  |              |           |    N/A    \n",
        "  [313   3]  |     0.70921663  |              |           |    N/A    \n",
        "  [313   4]  |      1.1799784  |              |           |    N/A    \n",
        "  [314   0]  |    -0.37400936  |              |           |    N/A    \n",
        "  [314   1]  |     -1.6834969  |              |           |    N/A    \n",
        "  [314   2]  |    -0.55969844  |              |           |    N/A    \n",
        "  [314   3]  |     -1.0333583  |              |           |    N/A    \n",
        "  [314   4]  |      1.6937075  |              |           |    N/A    \n",
        "  [315   0]  |       -0.72537  |              |           |    N/A    \n",
        "  [315   1]  |     -1.8461147  |              |           |    N/A    \n",
        "  [315   2]  |      0.4531435  |              |           |    N/A    \n",
        "  [315   3]  |     0.68506947  |              |           |    N/A    \n",
        "  [315   4]  |      1.3201936  |              |           |    N/A    \n",
        "  [316   0]  |    -0.68078834  |              |           |    N/A    \n",
        "  [316   1]  |     -1.7669602  |              |           |    N/A    \n",
        "  [316   2]  |    -0.16612833  |              |           |    N/A    \n",
        "  [316   3]  |     0.13381419  |              |           |    N/A    \n",
        "  [316   4]  |       1.652347  |              |           |    N/A    \n",
        "  [317   0]  |    -0.42688314  |              |           |    N/A    \n",
        "  [317   1]  |     -1.4065926  |              |           |    N/A    \n",
        "  [317   2]  |    -0.11150564  |              |           |    N/A    \n",
        "  [317   3]  |     -1.1589298  |              |           |    N/A    \n",
        "  [317   4]  |     0.26852501  |              |           |    N/A    \n",
        "  [318   0]  |    0.021463562  |              |           |    N/A    \n",
        "  [318   1]  |     -1.7030605  |              |           |    N/A    \n",
        "  [318   2]  |    -0.32636872  |              |           |    N/A    \n",
        "  [318   3]  |     0.72989742  |              |           |    N/A    \n",
        "  [318   4]  |     0.80571791  |              |           |    N/A    \n",
        "  [319   0]  |    -0.54655674  |              |           |    N/A    \n",
        "  [319   1]  |     -0.5928447  |              |           |    N/A    \n",
        "  [319   2]  |      1.9761612  |              |           |    N/A    \n",
        "  [319   3]  |      1.2707787  |              |           |    N/A    \n",
        "  [319   4]  |   -0.018046675  |              |           |    N/A    \n",
        "  [320   0]  |    -0.22543537  |              |           |    N/A    \n",
        "  [320   1]  |     -1.4730983  |              |           |    N/A    \n",
        "  [320   2]  |     -1.1713179  |              |           |    N/A    \n",
        "  [320   3]  |     0.99582384  |              |           |    N/A    \n",
        "  [320   4]  |      1.3408475  |              |           |    N/A    \n",
        "  [321   0]  |    -0.33252908  |              |           |    N/A    \n",
        "  [321   1]  |     -0.9661308  |              |           |    N/A    \n",
        "  [321   2]  |      1.7735912  |              |           |    N/A    \n",
        "  [321   3]  |    -0.54017044  |              |           |    N/A    \n",
        "  [321   4]  |   -0.055975653  |              |           |    N/A    \n",
        "  [322   0]  |   -0.035358089  |              |           |    N/A    \n",
        "  [322   1]  |     -1.4837955  |              |           |    N/A    \n",
        "  [322   2]  |   -0.086440238  |              |           |    N/A    \n",
        "  [322   3]  |     -2.4694696  |              |           |    N/A    \n",
        "  [322   4]  |       1.270724  |              |           |    N/A    \n",
        "  [323   0]  |     0.23007479  |              |           |    N/A    \n",
        "  [323   1]  |     -1.5975994  |              |           |    N/A    \n",
        "  [323   2]  |     -1.8607377  |              |           |    N/A    \n",
        "  [323   3]  |    -0.82202625  |              |           |    N/A    \n",
        "  [323   4]  |      1.0422344  |              |           |    N/A    \n",
        "  [324   0]  |     0.56265934  |              |           |    N/A    \n",
        "  [324   1]  |     -1.6170419  |              |           |    N/A    \n",
        "  [324   2]  |     -1.9162011  |              |           |    N/A    \n",
        "  [324   3]  |     -1.3892741  |              |           |    N/A    \n",
        "  [324   4]  |     0.20411191  |              |           |    N/A    \n",
        "  [325   0]  |     -0.3744509  |              |           |    N/A    \n",
        "  [325   1]  |     -1.8383164  |              |           |    N/A    \n",
        "  [325   2]  |    -0.59546382  |              |           |    N/A    \n",
        "  [325   3]  |    -0.22285848  |              |           |    N/A    \n",
        "  [325   4]  |      1.4815139  |              |           |    N/A    \n",
        "  [326   0]  |    -0.62366405  |              |           |    N/A    \n",
        "  [326   1]  |     -1.7004402  |              |           |    N/A    \n",
        "  [326   2]  |    -0.40517124  |              |           |    N/A    \n",
        "  [326   3]  |     0.56138406  |              |           |    N/A    \n",
        "  [326   4]  |      1.5711392  |              |           |    N/A    \n",
        "  [327   0]  |     0.53551683  |              |           |    N/A    \n",
        "  [327   1]  |     -1.1793747  |              |           |    N/A    \n",
        "  [327   2]  |     -1.5227214  |              |           |    N/A    \n",
        "  [327   3]  |     0.15365292  |              |           |    N/A    \n",
        "  [327   4]  |    -0.38799009  |              |           |    N/A    \n",
        "  [328   0]  |    -0.25634027  |              |           |    N/A    \n",
        "  [328   1]  |    -0.77313394  |              |           |    N/A    \n",
        "  [328   2]  |     -1.4650413  |              |           |    N/A    \n",
        "  [328   3]  |    -0.12647891  |              |           |    N/A    \n",
        "  [328   4]  |     0.13726144  |              |           |    N/A    \n",
        "  [329   0]  |    -0.63074429  |              |           |    N/A    \n",
        "  [329   1]  |    -0.86712769  |              |           |    N/A    \n",
        "  [329   2]  |     -1.0220996  |              |           |    N/A    \n",
        "  [329   3]  |    0.082290092  |              |           |    N/A    \n",
        "  [329   4]  |      0.4475059  |              |           |    N/A    \n",
        "use left and right mouse buttons to select dimensions\n"
       ]
      }
     ],
     "prompt_number": 33
    },
    {
     "cell_type": "markdown",
     "metadata": {},
     "source": [
      "**Observations**\n",
      "\n",
      "Confirm the following observations by interacting with the demo:\n",
      "\n",
      "* We tend to obtain more \"strange\" outputs when sampling from latent space areas away from the training inputs.\n",
      "* When sampling from the two dominant latent dimensions (the ones corresponding to large scales) we differentiate between all digits. Also note that projecting the latent space into the two dominant dimensions better separates the classes.\n",
      "* When sampling from less dominant latent dimensions the outputs vary in a more subtle way.\n",
      "\n",
      "You can also run the dimensionality reduction example"
     ]
    },
    {
     "cell_type": "code",
     "collapsed": false,
     "input": [
      "%matplotlib qt\n",
      "GPy.examples.dimensionality_reduction.bgplvm_oil()"
     ],
     "language": "python",
     "metadata": {},
     "outputs": [
      {
       "output_type": "stream",
       "stream": "stdout",
       "text": [
        "Running L-BFGS-B (Scipy implementation) Code:\n",
        " secs      i      f              |g|        \n",
        "\r",
        " 0.0039  0000   5.128292e+03           nan"
       ]
      },
      {
       "output_type": "stream",
       "stream": "stdout",
       "text": [
        " \r",
        "   0.15  0001   5.128292e+03   3.089677e+05"
       ]
      },
      {
       "output_type": "stream",
       "stream": "stdout",
       "text": [
        " \r",
        "   0.31  0002   4.537025e+03   3.845141e+05"
       ]
      },
      {
       "output_type": "stream",
       "stream": "stdout",
       "text": [
        " \n",
        "\r",
        "   0.44  0003   3.398562e+03   6.093755e+06"
       ]
      },
      {
       "output_type": "stream",
       "stream": "stdout",
       "text": [
        " \r",
        "   0.54  0004   3.434286e+03   5.420131e+05"
       ]
      },
      {
       "output_type": "stream",
       "stream": "stdout",
       "text": [
        " \r",
        "   0.63  0005   2.890895e+07   1.044777e+14"
       ]
      },
      {
       "output_type": "stream",
       "stream": "stdout",
       "text": [
        " \r",
        "   0.72  0006   7.133203e+03   6.168488e+07"
       ]
      },
      {
       "output_type": "stream",
       "stream": "stdout",
       "text": [
        " \r",
        "   0.81  0007   2.936495e+03   1.610131e+06"
       ]
      },
      {
       "output_type": "stream",
       "stream": "stdout",
       "text": [
        " \r",
        "   0.91  0008   2.389125e+03   1.712767e+06"
       ]
      },
      {
       "output_type": "stream",
       "stream": "stdout",
       "text": [
        " \r",
        "      1  0009   1.769990e+03   1.341623e+05"
       ]
      },
      {
       "output_type": "stream",
       "stream": "stdout",
       "text": [
        " \r",
        "    1.1  0010   1.558068e+03   9.094944e+04"
       ]
      },
      {
       "output_type": "stream",
       "stream": "stdout",
       "text": [
        " \r",
        "    1.2  0011   1.262654e+03   4.465911e+04"
       ]
      },
      {
       "output_type": "stream",
       "stream": "stdout",
       "text": [
        " \r",
        "    1.3  0012   1.004880e+03   7.251390e+03"
       ]
      },
      {
       "output_type": "stream",
       "stream": "stdout",
       "text": [
        " \n",
        "\r",
        "    1.5  0013   8.786192e+02   2.494299e+04"
       ]
      },
      {
       "output_type": "stream",
       "stream": "stdout",
       "text": [
        " \r",
        "    1.6  0014   8.033313e+02   5.507588e+03"
       ]
      },
      {
       "output_type": "stream",
       "stream": "stdout",
       "text": [
        " \r",
        "    1.7  0015   7.606767e+02   5.978029e+03"
       ]
      },
      {
       "output_type": "stream",
       "stream": "stdout",
       "text": [
        " \r",
        "    1.8  0016   6.403019e+02   7.110395e+03"
       ]
      },
      {
       "output_type": "stream",
       "stream": "stdout",
       "text": [
        " \r",
        "    1.9  0017   5.851339e+02   2.727220e+03"
       ]
      },
      {
       "output_type": "stream",
       "stream": "stdout",
       "text": [
        " \r",
        "      2  0018   5.257136e+02   3.601650e+03"
       ]
      },
      {
       "output_type": "stream",
       "stream": "stdout",
       "text": [
        " \n",
        "\r",
        "    2.2  0019   4.889180e+02   2.319527e+03"
       ]
      },
      {
       "output_type": "stream",
       "stream": "stdout",
       "text": [
        " \r",
        "    2.3  0020   4.479824e+02   2.679501e+04"
       ]
      },
      {
       "output_type": "stream",
       "stream": "stdout",
       "text": [
        " \r",
        "    2.4  0021   4.205785e+02   2.200695e+03"
       ]
      },
      {
       "output_type": "stream",
       "stream": "stdout",
       "text": [
        " \r",
        "    2.5  0022   4.117107e+02   2.865936e+03"
       ]
      },
      {
       "output_type": "stream",
       "stream": "stdout",
       "text": [
        " \r",
        "    2.6  0023   3.815232e+02   2.005242e+03"
       ]
      },
      {
       "output_type": "stream",
       "stream": "stdout",
       "text": [
        " \r",
        "    2.7  0024   3.486675e+02   4.674961e+03"
       ]
      },
      {
       "output_type": "stream",
       "stream": "stdout",
       "text": [
        " \r",
        "    2.8  0025   3.449115e+02   2.002405e+04"
       ]
      },
      {
       "output_type": "stream",
       "stream": "stdout",
       "text": [
        " \r",
        "    2.9  0026   3.270270e+02   2.288833e+03"
       ]
      },
      {
       "output_type": "stream",
       "stream": "stdout",
       "text": [
        " \r",
        "      3  0027   3.058254e+02   1.623574e+03"
       ]
      },
      {
       "output_type": "stream",
       "stream": "stdout",
       "text": [
        " \r",
        "    3.2  0028   2.668789e+02   2.261931e+03"
       ]
      },
      {
       "output_type": "stream",
       "stream": "stdout",
       "text": [
        " \r",
        "    3.3  0029   2.433407e+02   4.302896e+03"
       ]
      },
      {
       "output_type": "stream",
       "stream": "stdout",
       "text": [
        " \r",
        "    3.3  0030   2.183127e+02   1.582485e+03"
       ]
      },
      {
       "output_type": "stream",
       "stream": "stdout",
       "text": [
        " \r",
        "    3.5  0031   2.007223e+02   1.706485e+03"
       ]
      },
      {
       "output_type": "stream",
       "stream": "stdout",
       "text": [
        " \r",
        "    3.6  0032   1.773776e+02   2.058117e+03"
       ]
      },
      {
       "output_type": "stream",
       "stream": "stdout",
       "text": [
        " \r",
        "    3.6  0033   2.162174e+02   7.002382e+04"
       ]
      },
      {
       "output_type": "stream",
       "stream": "stdout",
       "text": [
        " \r",
        "    3.7  0034   1.690754e+02   8.806154e+03"
       ]
      },
      {
       "output_type": "stream",
       "stream": "stdout",
       "text": [
        " \r",
        "    3.8  0035   1.544129e+02   2.506555e+03"
       ]
      },
      {
       "output_type": "stream",
       "stream": "stdout",
       "text": [
        " \r",
        "    3.9  0036   1.432033e+02   1.870393e+03"
       ]
      },
      {
       "output_type": "stream",
       "stream": "stdout",
       "text": [
        " \r",
        "      4  0037   1.280973e+02   2.734169e+03"
       ]
      },
      {
       "output_type": "stream",
       "stream": "stdout",
       "text": [
        " \r",
        "    4.1  0038   1.075548e+02   2.639771e+03"
       ]
      },
      {
       "output_type": "stream",
       "stream": "stdout",
       "text": [
        " \r",
        "    4.2  0039   1.576331e+02   9.541791e+04"
       ]
      },
      {
       "output_type": "stream",
       "stream": "stdout",
       "text": [
        " \n",
        "\r",
        "    4.3  0040   9.686651e+01   7.157377e+03"
       ]
      },
      {
       "output_type": "stream",
       "stream": "stdout",
       "text": [
        " \r",
        "    4.4  0041   7.821329e+01   1.995034e+03"
       ]
      },
      {
       "output_type": "stream",
       "stream": "stdout",
       "text": [
        " \r",
        "    4.5  0042   6.644578e+01   1.515073e+03"
       ]
      },
      {
       "output_type": "stream",
       "stream": "stdout",
       "text": [
        " \r",
        "    4.6  0043   4.991179e+01   3.140529e+03"
       ]
      },
      {
       "output_type": "stream",
       "stream": "stdout",
       "text": [
        " \r",
        "    4.7  0044   3.449330e+01   3.336396e+03"
       ]
      },
      {
       "output_type": "stream",
       "stream": "stdout",
       "text": [
        " \r",
        "    4.8  0045   1.986471e+01   1.693490e+03"
       ]
      },
      {
       "output_type": "stream",
       "stream": "stdout",
       "text": [
        " \r",
        "    4.8  0046   6.656598e+00   2.749920e+03"
       ]
      },
      {
       "output_type": "stream",
       "stream": "stdout",
       "text": [
        " \r",
        "    4.9  0047  -3.455430e+00   1.939973e+03"
       ]
      },
      {
       "output_type": "stream",
       "stream": "stdout",
       "text": [
        " \r",
        "      5  0048  -1.419036e+01   3.072399e+03"
       ]
      },
      {
       "output_type": "stream",
       "stream": "stdout",
       "text": [
        " \r",
        "    5.1  0049  -1.064838e+01   2.161049e+04"
       ]
      },
      {
       "output_type": "stream",
       "stream": "stdout",
       "text": [
        " \r",
        "    5.2  0050  -2.246648e+01   3.593959e+03"
       ]
      },
      {
       "output_type": "stream",
       "stream": "stdout",
       "text": [
        " \r",
        "    5.3  0051  -2.935927e+01   1.580740e+03"
       ]
      },
      {
       "output_type": "stream",
       "stream": "stdout",
       "text": [
        " \r",
        "    5.4  0052  -3.609931e+01   1.260771e+03"
       ]
      },
      {
       "output_type": "stream",
       "stream": "stdout",
       "text": [
        " \r",
        "    5.5  0053  -4.705852e+01   2.540678e+03"
       ]
      },
      {
       "output_type": "stream",
       "stream": "stdout",
       "text": [
        " \r",
        "    5.6  0054  -5.221206e+01   5.052037e+03"
       ]
      },
      {
       "output_type": "stream",
       "stream": "stdout",
       "text": [
        " \r",
        "    5.7  0055  -6.001489e+01   1.275065e+03"
       ]
      },
      {
       "output_type": "stream",
       "stream": "stdout",
       "text": [
        " \r",
        "    5.8  0056  -6.658729e+01   1.010081e+03"
       ]
      },
      {
       "output_type": "stream",
       "stream": "stdout",
       "text": [
        " \r",
        "    5.9  0057  -7.323415e+01   1.645696e+03"
       ]
      },
      {
       "output_type": "stream",
       "stream": "stdout",
       "text": [
        " \r",
        "      6  0058  -7.816773e+01   7.927086e+03"
       ]
      },
      {
       "output_type": "stream",
       "stream": "stdout",
       "text": [
        " \r",
        "    6.1  0059  -8.789077e+01   1.310640e+03"
       ]
      },
      {
       "output_type": "stream",
       "stream": "stdout",
       "text": [
        " \r",
        "    6.2  0060  -9.310484e+01   1.411537e+03"
       ]
      },
      {
       "output_type": "stream",
       "stream": "stdout",
       "text": [
        " \r",
        "    6.3  0061  -9.838919e+01   1.930499e+03"
       ]
      },
      {
       "output_type": "stream",
       "stream": "stdout",
       "text": [
        " \r",
        "    6.4  0062  -1.057303e+02   3.795507e+03"
       ]
      },
      {
       "output_type": "stream",
       "stream": "stdout",
       "text": [
        " \r",
        "    6.5  0063  -1.129187e+02   2.822683e+03"
       ]
      },
      {
       "output_type": "stream",
       "stream": "stdout",
       "text": [
        " \r",
        "    6.6  0064  -1.185176e+02   1.253735e+03"
       ]
      },
      {
       "output_type": "stream",
       "stream": "stdout",
       "text": [
        " \r",
        "    6.7  0065  -1.254078e+02   1.547518e+03"
       ]
      },
      {
       "output_type": "stream",
       "stream": "stdout",
       "text": [
        " \r",
        "    6.8  0066  -1.304752e+02   6.268071e+03"
       ]
      },
      {
       "output_type": "stream",
       "stream": "stdout",
       "text": [
        " \r",
        "    6.8  0067  -1.369265e+02   2.666113e+03"
       ]
      },
      {
       "output_type": "stream",
       "stream": "stdout",
       "text": [
        " \r",
        "    6.9  0068  -1.457999e+02   2.071742e+03"
       ]
      },
      {
       "output_type": "stream",
       "stream": "stdout",
       "text": [
        " \r",
        "      7  0069  -1.501874e+02   2.120515e+03"
       ]
      },
      {
       "output_type": "stream",
       "stream": "stdout",
       "text": [
        " \r",
        "    7.1  0070  -1.609381e+02   4.396636e+03"
       ]
      },
      {
       "output_type": "stream",
       "stream": "stdout",
       "text": [
        " \r",
        "    7.2  0071  -1.687614e+02   5.048323e+03"
       ]
      },
      {
       "output_type": "stream",
       "stream": "stdout",
       "text": [
        " \r",
        "    7.3  0072  -1.751796e+02   2.429017e+03"
       ]
      },
      {
       "output_type": "stream",
       "stream": "stdout",
       "text": [
        " \r",
        "    7.4  0073  -1.830048e+02   2.171952e+03"
       ]
      },
      {
       "output_type": "stream",
       "stream": "stdout",
       "text": [
        " \r",
        "    7.5  0074  -1.883808e+02   3.767394e+03"
       ]
      },
      {
       "output_type": "stream",
       "stream": "stdout",
       "text": [
        " \r",
        "    7.6  0075  -1.937566e+02   2.280852e+03"
       ]
      },
      {
       "output_type": "stream",
       "stream": "stdout",
       "text": [
        " \r",
        "    7.7  0076  -2.010830e+02   3.615972e+03"
       ]
      },
      {
       "output_type": "stream",
       "stream": "stdout",
       "text": [
        " \r",
        "    7.8  0077  -2.052893e+02   3.199191e+03"
       ]
      },
      {
       "output_type": "stream",
       "stream": "stdout",
       "text": [
        " \r",
        "    7.9  0078  -2.090767e+02   1.727283e+03"
       ]
      },
      {
       "output_type": "stream",
       "stream": "stdout",
       "text": [
        " \r",
        "      8  0079  -2.174238e+02   2.230265e+03"
       ]
      },
      {
       "output_type": "stream",
       "stream": "stdout",
       "text": [
        " \r",
        "    8.1  0080  -2.202447e+02   6.281785e+03"
       ]
      },
      {
       "output_type": "stream",
       "stream": "stdout",
       "text": [
        " \r",
        "    8.2  0081  -2.244024e+02   2.255406e+03"
       ]
      },
      {
       "output_type": "stream",
       "stream": "stdout",
       "text": [
        " \r",
        "    8.3  0082  -2.303468e+02   1.556271e+03"
       ]
      },
      {
       "output_type": "stream",
       "stream": "stdout",
       "text": [
        " \r",
        "    8.4  0083  -2.334569e+02   1.614830e+03"
       ]
      },
      {
       "output_type": "stream",
       "stream": "stdout",
       "text": [
        " \r",
        "    8.5  0084  -2.388202e+02   9.143345e+03"
       ]
      },
      {
       "output_type": "stream",
       "stream": "stdout",
       "text": [
        " \r",
        "    8.6  0085  -2.449552e+02   1.559001e+03"
       ]
      },
      {
       "output_type": "stream",
       "stream": "stdout",
       "text": [
        " \r",
        "    8.7  0086  -2.477113e+02   1.155211e+03"
       ]
      },
      {
       "output_type": "stream",
       "stream": "stdout",
       "text": [
        " \r",
        "    8.8  0087  -2.539905e+02   2.111163e+03"
       ]
      },
      {
       "output_type": "stream",
       "stream": "stdout",
       "text": [
        " \r",
        "    8.9  0088  -2.552547e+02   1.137357e+04"
       ]
      },
      {
       "output_type": "stream",
       "stream": "stdout",
       "text": [
        " \r",
        "      9  0089  -2.619121e+02   1.505422e+03"
       ]
      },
      {
       "output_type": "stream",
       "stream": "stdout",
       "text": [
        " \r",
        "    9.1  0090  -2.646514e+02   1.005771e+03"
       ]
      },
      {
       "output_type": "stream",
       "stream": "stdout",
       "text": [
        " \r",
        "    9.1  0091  -2.679142e+02   1.598200e+03"
       ]
      },
      {
       "output_type": "stream",
       "stream": "stdout",
       "text": [
        " \r",
        "    9.2  0092  -2.733237e+02   2.679684e+03"
       ]
      },
      {
       "output_type": "stream",
       "stream": "stdout",
       "text": [
        " \r",
        "    9.3  0093  -2.740296e+02   1.240809e+04"
       ]
      },
      {
       "output_type": "stream",
       "stream": "stdout",
       "text": [
        " \r",
        "    9.4  0094  -2.771040e+02   3.515246e+03"
       ]
      },
      {
       "output_type": "stream",
       "stream": "stdout",
       "text": [
        " \r",
        "    9.5  0095  -2.814514e+02   1.205772e+03"
       ]
      },
      {
       "output_type": "stream",
       "stream": "stdout",
       "text": [
        " \r",
        "    9.6  0096  -2.851725e+02   1.562948e+03"
       ]
      },
      {
       "output_type": "stream",
       "stream": "stdout",
       "text": [
        " \r",
        "    9.7  0097  -2.888672e+02   4.018625e+03"
       ]
      },
      {
       "output_type": "stream",
       "stream": "stdout",
       "text": [
        " \r",
        "    9.8  0098  -2.931492e+02   1.881438e+03"
       ]
      },
      {
       "output_type": "stream",
       "stream": "stdout",
       "text": [
        " \r",
        "    9.9  0099  -2.970293e+02   1.433231e+03"
       ]
      },
      {
       "output_type": "stream",
       "stream": "stdout",
       "text": [
        " \r",
        "     10  0100  -3.004951e+02   3.762275e+03"
       ]
      },
      {
       "output_type": "stream",
       "stream": "stdout",
       "text": [
        " \r",
        "     10  0101  -3.039081e+02   2.041167e+03"
       ]
      },
      {
       "output_type": "stream",
       "stream": "stdout",
       "text": [
        " \r",
        "     10  0102  -3.079683e+02   1.993589e+03"
       ]
      },
      {
       "output_type": "stream",
       "stream": "stdout",
       "text": [
        " \r",
        "     10  0103  -3.131087e+02   3.431279e+03"
       ]
      },
      {
       "output_type": "stream",
       "stream": "stdout",
       "text": [
        " \r",
        "     10  0104  -3.158119e+02   1.212112e+04"
       ]
      },
      {
       "output_type": "stream",
       "stream": "stdout",
       "text": [
        " \r",
        "     10  0105  -3.211611e+02   2.289031e+03"
       ]
      },
      {
       "output_type": "stream",
       "stream": "stdout",
       "text": [
        " \r",
        "     11  0106  -3.249171e+02   1.719579e+03"
       ]
      },
      {
       "output_type": "stream",
       "stream": "stdout",
       "text": [
        " \r",
        "     11  0107  -3.286729e+02   2.592855e+03"
       ]
      },
      {
       "output_type": "stream",
       "stream": "stdout",
       "text": [
        " \r",
        "     11  0108  -3.350956e+02   5.056942e+03"
       ]
      },
      {
       "output_type": "stream",
       "stream": "stdout",
       "text": [
        " \r",
        "     11  0109  -3.359862e+02   1.568130e+04"
       ]
      },
      {
       "output_type": "stream",
       "stream": "stdout",
       "text": [
        " \r",
        "     11  0110  -3.393327e+02   4.188023e+03"
       ]
      },
      {
       "output_type": "stream",
       "stream": "stdout",
       "text": [
        " \r",
        "     11  0111  -3.434127e+02   1.523170e+03"
       ]
      },
      {
       "output_type": "stream",
       "stream": "stdout",
       "text": [
        " \n",
        "\r",
        "     11  0112  -3.471303e+02   2.088271e+03"
       ]
      },
      {
       "output_type": "stream",
       "stream": "stdout",
       "text": [
        " \r",
        "     11  0113  -3.505903e+02   4.537647e+03"
       ]
      },
      {
       "output_type": "stream",
       "stream": "stdout",
       "text": [
        " \r",
        "     11  0114  -3.553447e+02   2.950915e+03"
       ]
      },
      {
       "output_type": "stream",
       "stream": "stdout",
       "text": [
        " \r",
        "     11  0115  -3.605687e+02   3.161818e+03"
       ]
      },
      {
       "output_type": "stream",
       "stream": "stdout",
       "text": [
        " \r",
        "     12  0116  -3.645852e+02   5.270732e+03"
       ]
      },
      {
       "output_type": "stream",
       "stream": "stdout",
       "text": [
        " \r",
        "     12  0117  -3.681462e+02   2.337869e+03"
       ]
      },
      {
       "output_type": "stream",
       "stream": "stdout",
       "text": [
        " \r",
        "     12  0118  -3.725771e+02   2.048432e+03"
       ]
      },
      {
       "output_type": "stream",
       "stream": "stdout",
       "text": [
        " \r",
        "     12  0119  -3.762424e+02   3.962778e+03"
       ]
      },
      {
       "output_type": "stream",
       "stream": "stdout",
       "text": [
        " \r",
        "     12  0120  -3.803105e+02   3.798856e+03"
       ]
      },
      {
       "output_type": "stream",
       "stream": "stdout",
       "text": [
        " \r",
        "     12  0121  -3.837759e+02   2.147288e+03"
       ]
      },
      {
       "output_type": "stream",
       "stream": "stdout",
       "text": [
        " \r",
        "     12  0122  -3.878295e+02   2.607191e+03"
       ]
      },
      {
       "output_type": "stream",
       "stream": "stdout",
       "text": [
        " \r",
        "     12  0123  -3.915696e+02   5.973834e+03"
       ]
      },
      {
       "output_type": "stream",
       "stream": "stdout",
       "text": [
        " \r",
        "     12  0124  -3.962524e+02   2.547019e+03"
       ]
      },
      {
       "output_type": "stream",
       "stream": "stdout",
       "text": [
        " \r",
        "     12  0125  -4.002405e+02   2.707212e+03"
       ]
      },
      {
       "output_type": "stream",
       "stream": "stdout",
       "text": [
        " \r",
        "     13  0126  -4.031887e+02   3.846235e+03"
       ]
      },
      {
       "output_type": "stream",
       "stream": "stdout",
       "text": [
        " \r",
        "     13  0127  -4.061242e+02   2.222412e+03"
       ]
      },
      {
       "output_type": "stream",
       "stream": "stdout",
       "text": [
        " \r",
        "     13  0128  -4.103792e+02   2.253542e+03"
       ]
      },
      {
       "output_type": "stream",
       "stream": "stdout",
       "text": [
        " \r",
        "     13  0129  -4.129718e+02   6.498092e+03"
       ]
      },
      {
       "output_type": "stream",
       "stream": "stdout",
       "text": [
        " \r",
        "     13  0130  -4.159466e+02   2.427416e+03"
       ]
      },
      {
       "output_type": "stream",
       "stream": "stdout",
       "text": [
        " \r",
        "     13  0131  -4.195815e+02   1.818476e+03"
       ]
      },
      {
       "output_type": "stream",
       "stream": "stdout",
       "text": [
        " \r",
        "     13  0132  -4.220687e+02   2.835967e+03"
       ]
      },
      {
       "output_type": "stream",
       "stream": "stdout",
       "text": [
        " \r",
        "     13  0133  -4.260565e+02   4.580541e+03"
       ]
      },
      {
       "output_type": "stream",
       "stream": "stdout",
       "text": [
        " \r",
        "     13  0134  -4.295965e+02   3.779694e+03"
       ]
      },
      {
       "output_type": "stream",
       "stream": "stdout",
       "text": [
        " \r",
        "     13  0135  -4.326759e+02   2.439823e+03"
       ]
      },
      {
       "output_type": "stream",
       "stream": "stdout",
       "text": [
        " \r",
        "     13  0136  -4.360172e+02   2.905476e+03"
       ]
      },
      {
       "output_type": "stream",
       "stream": "stdout",
       "text": [
        " \r",
        "     14  0137  -4.386551e+02   5.916621e+03"
       ]
      },
      {
       "output_type": "stream",
       "stream": "stdout",
       "text": [
        " \r",
        "     14  0138  -4.414545e+02   2.286183e+03"
       ]
      },
      {
       "output_type": "stream",
       "stream": "stdout",
       "text": [
        " \r",
        "     14  0139  -4.445658e+02   1.883631e+03"
       ]
      },
      {
       "output_type": "stream",
       "stream": "stdout",
       "text": [
        " \r",
        "     14  0140  -4.471590e+02   3.071743e+03"
       ]
      },
      {
       "output_type": "stream",
       "stream": "stdout",
       "text": [
        " \r",
        "     14  0141  -4.507451e+02   4.039809e+03"
       ]
      },
      {
       "output_type": "stream",
       "stream": "stdout",
       "text": [
        " \r",
        "     14  0142  -4.535771e+02   2.742946e+03"
       ]
      },
      {
       "output_type": "stream",
       "stream": "stdout",
       "text": [
        " \r",
        "     14  0143  -4.559937e+02   1.835231e+03"
       ]
      },
      {
       "output_type": "stream",
       "stream": "stdout",
       "text": [
        " \r",
        "     14  0144  -4.588639e+02   2.847830e+03"
       ]
      },
      {
       "output_type": "stream",
       "stream": "stdout",
       "text": [
        " \r",
        "     14  0145  -4.609568e+02   4.992323e+03"
       ]
      },
      {
       "output_type": "stream",
       "stream": "stdout",
       "text": [
        " \r",
        "     14  0146  -4.632540e+02   1.864635e+03"
       ]
      },
      {
       "output_type": "stream",
       "stream": "stdout",
       "text": [
        " \r",
        "     15  0147  -4.660152e+02   1.845729e+03"
       ]
      },
      {
       "output_type": "stream",
       "stream": "stdout",
       "text": [
        " \r",
        "     15  0148  -4.686336e+02   2.432757e+03"
       ]
      },
      {
       "output_type": "stream",
       "stream": "stdout",
       "text": [
        " \r",
        "     15  0149  -4.690237e+02   2.071517e+04"
       ]
      },
      {
       "output_type": "stream",
       "stream": "stdout",
       "text": [
        " \r",
        "     15  0150  -4.710151e+02   5.935574e+03"
       ]
      },
      {
       "output_type": "stream",
       "stream": "stdout",
       "text": [
        " \r",
        "     15  0151  -4.739819e+02   1.658295e+03"
       ]
      },
      {
       "output_type": "stream",
       "stream": "stdout",
       "text": [
        " \r",
        "     15  0152  -4.758788e+02   1.426114e+03"
       ]
      },
      {
       "output_type": "stream",
       "stream": "stdout",
       "text": [
        " \r",
        "     15  0153  -4.787375e+02   4.212528e+03"
       ]
      },
      {
       "output_type": "stream",
       "stream": "stdout",
       "text": [
        " \r",
        "     15  0154  -4.812567e+02   3.345208e+03"
       ]
      },
      {
       "output_type": "stream",
       "stream": "stdout",
       "text": [
        " \r",
        "     15  0155  -4.834850e+02   1.806696e+03"
       ]
      },
      {
       "output_type": "stream",
       "stream": "stdout",
       "text": [
        " \r",
        "     15  0156  -4.862024e+02   2.451192e+03"
       ]
      },
      {
       "output_type": "stream",
       "stream": "stdout",
       "text": [
        " \r",
        "     16  0157  -4.884486e+02   4.340944e+03"
       ]
      },
      {
       "output_type": "stream",
       "stream": "stdout",
       "text": [
        " \r",
        "     16  0158  -4.911381e+02   2.905729e+03"
       ]
      },
      {
       "output_type": "stream",
       "stream": "stdout",
       "text": [
        " \r",
        "     16  0159  -4.950804e+02   4.068473e+03"
       ]
      },
      {
       "output_type": "stream",
       "stream": "stdout",
       "text": [
        " \r",
        "     16  0160  -4.975368e+02   4.238588e+03"
       ]
      },
      {
       "output_type": "stream",
       "stream": "stdout",
       "text": [
        " \r",
        "     16  0161  -4.997483e+02   2.426838e+03"
       ]
      },
      {
       "output_type": "stream",
       "stream": "stdout",
       "text": [
        " \r",
        "     16  0162  -5.035204e+02   2.699949e+03"
       ]
      },
      {
       "output_type": "stream",
       "stream": "stdout",
       "text": [
        " \r",
        "     16  0163  -5.054804e+02   5.576249e+03"
       ]
      },
      {
       "output_type": "stream",
       "stream": "stdout",
       "text": [
        " \r",
        "     16  0164  -5.074924e+02   2.627133e+03"
       ]
      },
      {
       "output_type": "stream",
       "stream": "stdout",
       "text": [
        " \r",
        "     16  0165  -5.109126e+02   1.814743e+03"
       ]
      },
      {
       "output_type": "stream",
       "stream": "stdout",
       "text": [
        " \r",
        "     16  0166  -5.125462e+02   3.132975e+03"
       ]
      },
      {
       "output_type": "stream",
       "stream": "stdout",
       "text": [
        " \r",
        "     16  0167  -5.151010e+02   2.633935e+03"
       ]
      },
      {
       "output_type": "stream",
       "stream": "stdout",
       "text": [
        " \r",
        "     17  0168  -5.165650e+02   2.071829e+04"
       ]
      },
      {
       "output_type": "stream",
       "stream": "stdout",
       "text": [
        " \r",
        "     17  0169  -5.209614e+02   1.569368e+03"
       ]
      },
      {
       "output_type": "stream",
       "stream": "stdout",
       "text": [
        " \r",
        "     17  0170  -5.220543e+02   1.109815e+03"
       ]
      },
      {
       "output_type": "stream",
       "stream": "stdout",
       "text": [
        " \r",
        "     17  0171  -5.246924e+02   2.052162e+03"
       ]
      },
      {
       "output_type": "stream",
       "stream": "stdout",
       "text": [
        " \r",
        "     17  0172  -5.246747e+02   1.957907e+04"
       ]
      },
      {
       "output_type": "stream",
       "stream": "stdout",
       "text": [
        " \r",
        "     17  0173  -5.262926e+02   4.761690e+03"
       ]
      },
      {
       "output_type": "stream",
       "stream": "stdout",
       "text": [
        " \r",
        "     17  0174  -5.283148e+02   2.150037e+03"
       ]
      },
      {
       "output_type": "stream",
       "stream": "stdout",
       "text": [
        " \r",
        "     17  0175  -5.309044e+02   1.610009e+03"
       ]
      },
      {
       "output_type": "stream",
       "stream": "stdout",
       "text": [
        " \r",
        "     17  0176  -5.327686e+02   4.853009e+03"
       ]
      },
      {
       "output_type": "stream",
       "stream": "stdout",
       "text": [
        " \r",
        "     17  0177  -5.348429e+02   2.157015e+03"
       ]
      },
      {
       "output_type": "stream",
       "stream": "stdout",
       "text": [
        " \r",
        "     17  0178  -5.372831e+02   1.804944e+03"
       ]
      },
      {
       "output_type": "stream",
       "stream": "stdout",
       "text": [
        " \r",
        "     18  0179  -5.393553e+02   3.720257e+03"
       ]
      },
      {
       "output_type": "stream",
       "stream": "stdout",
       "text": [
        " \r",
        "     18  0180  -5.418381e+02   2.613768e+03"
       ]
      },
      {
       "output_type": "stream",
       "stream": "stdout",
       "text": [
        " \r",
        "     18  0181  -5.443463e+02   2.639490e+03"
       ]
      },
      {
       "output_type": "stream",
       "stream": "stdout",
       "text": [
        " \r",
        "     18  0182  -5.469814e+02   3.309123e+03"
       ]
      },
      {
       "output_type": "stream",
       "stream": "stdout",
       "text": [
        " \r",
        "     18  0183  -5.491039e+02   2.163543e+03"
       ]
      },
      {
       "output_type": "stream",
       "stream": "stdout",
       "text": [
        " \r",
        "     18  0184  -5.514974e+02   1.959065e+03"
       ]
      },
      {
       "output_type": "stream",
       "stream": "stdout",
       "text": [
        " \r",
        "     18  0185  -5.531691e+02   4.254844e+03"
       ]
      },
      {
       "output_type": "stream",
       "stream": "stdout",
       "text": [
        " \r",
        "     18  0186  -5.548556e+02   1.645967e+03"
       ]
      },
      {
       "output_type": "stream",
       "stream": "stdout",
       "text": [
        " \r",
        "     18  0187  -5.567188e+02   1.532825e+03"
       ]
      },
      {
       "output_type": "stream",
       "stream": "stdout",
       "text": [
        " \r",
        "     18  0188  -5.583549e+02   2.776783e+03"
       ]
      },
      {
       "output_type": "stream",
       "stream": "stdout",
       "text": [
        " \r",
        "     19  0189  -5.603821e+02   3.651870e+03"
       ]
      },
      {
       "output_type": "stream",
       "stream": "stdout",
       "text": [
        " \r",
        "     19  0190  -5.622295e+02   1.724528e+03"
       ]
      },
      {
       "output_type": "stream",
       "stream": "stdout",
       "text": [
        " \r",
        "     19  0191  -5.641563e+02   1.914646e+03"
       ]
      },
      {
       "output_type": "stream",
       "stream": "stdout",
       "text": [
        " \r",
        "     19  0192  -5.658800e+02   3.812379e+03"
       ]
      },
      {
       "output_type": "stream",
       "stream": "stdout",
       "text": [
        " \r",
        "     19  0193  -5.680346e+02   2.027738e+03"
       ]
      },
      {
       "output_type": "stream",
       "stream": "stdout",
       "text": [
        " \r",
        "     19  0194  -5.699211e+02   1.866476e+03"
       ]
      },
      {
       "output_type": "stream",
       "stream": "stdout",
       "text": [
        " \r",
        "     19  0195  -5.716617e+02   2.801441e+03"
       ]
      },
      {
       "output_type": "stream",
       "stream": "stdout",
       "text": [
        " \r",
        "     19  0196  -5.732977e+02   1.944781e+03"
       ]
      },
      {
       "output_type": "stream",
       "stream": "stdout",
       "text": [
        " \r",
        "     19  0197  -5.753854e+02   1.855785e+03"
       ]
      },
      {
       "output_type": "stream",
       "stream": "stdout",
       "text": [
        " \r",
        "     19  0198  -5.770293e+02   4.161386e+03"
       ]
      },
      {
       "output_type": "stream",
       "stream": "stdout",
       "text": [
        " \r",
        "     19  0199  -5.786957e+02   1.658949e+03"
       ]
      },
      {
       "output_type": "stream",
       "stream": "stdout",
       "text": [
        " \r",
        "     20  0200  -5.802543e+02   1.367411e+03"
       ]
      },
      {
       "output_type": "stream",
       "stream": "stdout",
       "text": [
        " \r",
        "     20  0201  -5.814573e+02   2.600616e+03"
       ]
      },
      {
       "output_type": "stream",
       "stream": "stdout",
       "text": [
        " \r",
        "     20  0202  -5.828048e+02   1.615137e+03"
       ]
      },
      {
       "output_type": "stream",
       "stream": "stdout",
       "text": [
        " \r",
        "     20  0203  -5.840595e+02   1.332801e+03"
       ]
      },
      {
       "output_type": "stream",
       "stream": "stdout",
       "text": [
        " \r",
        "     20  0204  -5.853811e+02   3.194552e+03"
       ]
      },
      {
       "output_type": "stream",
       "stream": "stdout",
       "text": [
        " \r",
        "     20  0205  -5.865536e+02   1.727675e+03"
       ]
      },
      {
       "output_type": "stream",
       "stream": "stdout",
       "text": [
        " \r",
        "     20  0206  -5.875809e+02   1.416081e+03"
       ]
      },
      {
       "output_type": "stream",
       "stream": "stdout",
       "text": [
        " \r",
        "     20  0207  -5.891881e+02   3.041419e+03"
       ]
      },
      {
       "output_type": "stream",
       "stream": "stdout",
       "text": [
        " \r",
        "     20  0208  -5.900875e+02   5.509717e+03"
       ]
      },
      {
       "output_type": "stream",
       "stream": "stdout",
       "text": [
        " \r",
        "     20  0209  -5.911860e+02   1.551020e+03"
       ]
      },
      {
       "output_type": "stream",
       "stream": "stdout",
       "text": [
        " \r",
        "     21  0210  -5.925612e+02   1.119897e+03"
       ]
      },
      {
       "output_type": "stream",
       "stream": "stdout",
       "text": [
        " \r",
        "     21  0211  -5.936046e+02   1.526162e+03"
       ]
      },
      {
       "output_type": "stream",
       "stream": "stdout",
       "text": [
        " \r",
        "     21  0212  -5.948808e+02   1.150734e+04"
       ]
      },
      {
       "output_type": "stream",
       "stream": "stdout",
       "text": [
        " \r",
        "     21  0213  -5.968266e+02   1.489017e+03"
       ]
      },
      {
       "output_type": "stream",
       "stream": "stdout",
       "text": [
        " \n",
        "\r",
        "     21  0214  -5.976222e+02   8.682157e+02"
       ]
      },
      {
       "output_type": "stream",
       "stream": "stdout",
       "text": [
        " \r",
        "     21  0215  -5.985912e+02   1.342012e+03"
       ]
      },
      {
       "output_type": "stream",
       "stream": "stdout",
       "text": [
        " \r",
        "     21  0216  -5.995495e+02   5.651544e+03"
       ]
      },
      {
       "output_type": "stream",
       "stream": "stdout",
       "text": [
        " \r",
        "     21  0217  -6.007952e+02   1.794496e+03"
       ]
      },
      {
       "output_type": "stream",
       "stream": "stdout",
       "text": [
        " \r",
        "     21  0218  -6.018249e+02   9.794166e+02"
       ]
      },
      {
       "output_type": "stream",
       "stream": "stdout",
       "text": [
        " \r",
        "     21  0219  -6.027638e+02   1.466493e+03"
       ]
      },
      {
       "output_type": "stream",
       "stream": "stdout",
       "text": [
        " \r",
        "     21  0220  -6.038924e+02   4.457227e+03"
       ]
      },
      {
       "output_type": "stream",
       "stream": "stdout",
       "text": [
        " \r",
        "     22  0221  -6.051987e+02   1.875226e+03"
       ]
      },
      {
       "output_type": "stream",
       "stream": "stdout",
       "text": [
        " \r",
        "     22  0222  -6.063659e+02   1.409094e+03"
       ]
      },
      {
       "output_type": "stream",
       "stream": "stdout",
       "text": [
        " \r",
        "     22  0223  -6.075435e+02   3.202083e+03"
       ]
      },
      {
       "output_type": "stream",
       "stream": "stdout",
       "text": [
        " \r",
        "     22  0224  -6.087005e+02   1.664676e+03"
       ]
      },
      {
       "output_type": "stream",
       "stream": "stdout",
       "text": [
        " \r",
        "     22  0225  -6.097106e+02   1.232985e+03"
       ]
      },
      {
       "output_type": "stream",
       "stream": "stdout",
       "text": [
        " \r",
        "     22  0226  -6.106939e+02   3.953765e+03"
       ]
      },
      {
       "output_type": "stream",
       "stream": "stdout",
       "text": [
        " \r",
        "     22  0227  -6.116227e+02   1.546574e+03"
       ]
      },
      {
       "output_type": "stream",
       "stream": "stdout",
       "text": [
        " \r",
        "     22  0228  -6.122724e+02   1.253313e+03"
       ]
      },
      {
       "output_type": "stream",
       "stream": "stdout",
       "text": [
        " \r",
        "     22  0229  -6.136058e+02   2.213344e+03"
       ]
      },
      {
       "output_type": "stream",
       "stream": "stdout",
       "text": [
        " \r",
        "     22  0230  -6.137230e+02   1.042847e+04"
       ]
      },
      {
       "output_type": "stream",
       "stream": "stdout",
       "text": [
        " \r",
        "     22  0231  -6.142470e+02   2.656133e+03"
       ]
      },
      {
       "output_type": "stream",
       "stream": "stdout",
       "text": [
        " \r",
        "     23  0232  -6.149438e+02   1.514593e+03"
       ]
      },
      {
       "output_type": "stream",
       "stream": "stdout",
       "text": [
        " \r",
        "     23  0233  -6.163165e+02   1.627234e+03"
       ]
      },
      {
       "output_type": "stream",
       "stream": "stdout",
       "text": [
        " \r",
        "     23  0234  -6.169085e+02   4.929140e+03"
       ]
      },
      {
       "output_type": "stream",
       "stream": "stdout",
       "text": [
        " \r",
        "     23  0235  -6.176851e+02   1.746608e+03"
       ]
      },
      {
       "output_type": "stream",
       "stream": "stdout",
       "text": [
        " \r",
        "     23  0236  -6.187549e+02   1.161406e+03"
       ]
      },
      {
       "output_type": "stream",
       "stream": "stdout",
       "text": [
        " \r",
        "     23  0237  -6.194167e+02   1.442590e+03"
       ]
      },
      {
       "output_type": "stream",
       "stream": "stdout",
       "text": [
        " \r",
        "     23  0238  -6.196195e+02   1.625633e+04"
       ]
      },
      {
       "output_type": "stream",
       "stream": "stdout",
       "text": [
        " \r",
        "     23  0239  -6.213865e+02   1.364217e+03"
       ]
      },
      {
       "output_type": "stream",
       "stream": "stdout",
       "text": [
        " \r",
        "     23  0240  -6.220116e+02   7.734173e+02"
       ]
      },
      {
       "output_type": "stream",
       "stream": "stdout",
       "text": [
        " \r",
        "     24  0241  -6.229423e+02   1.617989e+03"
       ]
      },
      {
       "output_type": "stream",
       "stream": "stdout",
       "text": [
        " \r",
        "     24  0242  -6.241078e+02   2.704634e+03"
       ]
      },
      {
       "output_type": "stream",
       "stream": "stdout",
       "text": [
        " \r",
        "     24  0243  -6.246300e+02   1.128638e+04"
       ]
      },
      {
       "output_type": "stream",
       "stream": "stdout",
       "text": [
        " \r",
        "     24  0244  -6.261184e+02   1.153742e+03"
       ]
      },
      {
       "output_type": "stream",
       "stream": "stdout",
       "text": [
        " \r",
        "     24  0245  -6.265607e+02   8.929086e+02"
       ]
      },
      {
       "output_type": "stream",
       "stream": "stdout",
       "text": [
        " \r",
        "     24  0246  -6.274586e+02   1.648859e+03"
       ]
      },
      {
       "output_type": "stream",
       "stream": "stdout",
       "text": [
        " \r",
        "     24  0247  -6.283970e+02   5.409864e+03"
       ]
      },
      {
       "output_type": "stream",
       "stream": "stdout",
       "text": [
        " \r",
        "     24  0248  -6.294272e+02   1.734109e+03"
       ]
      },
      {
       "output_type": "stream",
       "stream": "stdout",
       "text": [
        " \r",
        "     24  0249  -6.302020e+02   1.021726e+03"
       ]
      },
      {
       "output_type": "stream",
       "stream": "stdout",
       "text": [
        " \r",
        "     24  0250  -6.310084e+02   1.910782e+03"
       ]
      },
      {
       "output_type": "stream",
       "stream": "stdout",
       "text": [
        " \r",
        "     25  0251  -6.318146e+02   3.031037e+03"
       ]
      },
      {
       "output_type": "stream",
       "stream": "stdout",
       "text": [
        " \r",
        "     25  0252  -6.326667e+02   1.521229e+03"
       ]
      },
      {
       "output_type": "stream",
       "stream": "stdout",
       "text": [
        " \r",
        "     25  0253  -6.336604e+02   1.648876e+03"
       ]
      },
      {
       "output_type": "stream",
       "stream": "stdout",
       "text": [
        " \r",
        "     25  0254  -6.343933e+02   2.249224e+03"
       ]
      },
      {
       "output_type": "stream",
       "stream": "stdout",
       "text": [
        " \r",
        "     25  0255  -6.354036e+02   1.593530e+03"
       ]
      },
      {
       "output_type": "stream",
       "stream": "stdout",
       "text": [
        " \r",
        "     25  0256  -6.363481e+02   8.110621e+03"
       ]
      },
      {
       "output_type": "stream",
       "stream": "stdout",
       "text": [
        " \r",
        "     25  0257  -6.374857e+02   1.338218e+03"
       ]
      },
      {
       "output_type": "stream",
       "stream": "stdout",
       "text": [
        " \r",
        "     25  0258  -6.379143e+02   1.061831e+03"
       ]
      },
      {
       "output_type": "stream",
       "stream": "stdout",
       "text": [
        " \r",
        "     25  0259  -6.388524e+02   1.538087e+03"
       ]
      },
      {
       "output_type": "stream",
       "stream": "stdout",
       "text": [
        " \r",
        "     25  0260  -6.387176e+02   1.386575e+04"
       ]
      },
      {
       "output_type": "stream",
       "stream": "stdout",
       "text": [
        " \r",
        "     26  0261  -6.394372e+02   2.619842e+03"
       ]
      },
      {
       "output_type": "stream",
       "stream": "stdout",
       "text": [
        " \r",
        "     26  0262  -6.400654e+02   1.121063e+03"
       ]
      },
      {
       "output_type": "stream",
       "stream": "stdout",
       "text": [
        " \r",
        "     26  0263  -6.408120e+02   1.196435e+03"
       ]
      },
      {
       "output_type": "stream",
       "stream": "stdout",
       "text": [
        " \r",
        "     26  0264  -6.414514e+02   4.181481e+03"
       ]
      },
      {
       "output_type": "stream",
       "stream": "stdout",
       "text": [
        " \r",
        "     26  0265  -6.422317e+02   1.734748e+03"
       ]
      },
      {
       "output_type": "stream",
       "stream": "stdout",
       "text": [
        " \r",
        "     26  0266  -6.431549e+02   1.190234e+03"
       ]
      },
      {
       "output_type": "stream",
       "stream": "stdout",
       "text": [
        " \r",
        "     26  0267  -6.437951e+02   2.150663e+03"
       ]
      },
      {
       "output_type": "stream",
       "stream": "stdout",
       "text": [
        " \r",
        "     26  0268  -6.446638e+02   1.577712e+03"
       ]
      },
      {
       "output_type": "stream",
       "stream": "stdout",
       "text": [
        " \r",
        "     26  0269  -6.456387e+02   1.543431e+03"
       ]
      },
      {
       "output_type": "stream",
       "stream": "stdout",
       "text": [
        " \r",
        "     27  0270  -6.462074e+02   7.465385e+03"
       ]
      },
      {
       "output_type": "stream",
       "stream": "stdout",
       "text": [
        " \r",
        "     27  0271  -6.471350e+02   1.128279e+03"
       ]
      },
      {
       "output_type": "stream",
       "stream": "stdout",
       "text": [
        " \r",
        "     27  0272  -6.474980e+02   8.921837e+02"
       ]
      },
      {
       "output_type": "stream",
       "stream": "stdout",
       "text": [
        " \r",
        "     27  0273  -6.482655e+02   1.248191e+03"
       ]
      },
      {
       "output_type": "stream",
       "stream": "stdout",
       "text": [
        " \r",
        "     27  0274  -6.485338e+02   8.047935e+03"
       ]
      },
      {
       "output_type": "stream",
       "stream": "stdout",
       "text": [
        " \r",
        "     27  0275  -6.492838e+02   1.211183e+03"
       ]
      },
      {
       "output_type": "stream",
       "stream": "stdout",
       "text": [
        " \r",
        "     27  0276  -6.496678e+02   6.202479e+02"
       ]
      },
      {
       "output_type": "stream",
       "stream": "stdout",
       "text": [
        " \r",
        "     27  0277  -6.501121e+02   1.008149e+03"
       ]
      },
      {
       "output_type": "stream",
       "stream": "stdout",
       "text": [
        " \r",
        "     27  0278  -6.507775e+02   1.352390e+03"
       ]
      },
      {
       "output_type": "stream",
       "stream": "stdout",
       "text": [
        " \r",
        "     28  0279  -6.495831e+02   2.686977e+04"
       ]
      },
      {
       "output_type": "stream",
       "stream": "stdout",
       "text": [
        " \r",
        "     28  0280  -6.511375e+02   3.440649e+03"
       ]
      },
      {
       "output_type": "stream",
       "stream": "stdout",
       "text": [
        " \r",
        "     28  0281  -6.518122e+02   1.107884e+03"
       ]
      },
      {
       "output_type": "stream",
       "stream": "stdout",
       "text": [
        " \r",
        "     28  0282  -6.523229e+02   6.411707e+02"
       ]
      },
      {
       "output_type": "stream",
       "stream": "stdout",
       "text": [
        " \r",
        "     28  0283  -6.530012e+02   1.840951e+03"
       ]
      },
      {
       "output_type": "stream",
       "stream": "stdout",
       "text": [
        " \r",
        "     28  0284  -6.534894e+02   3.198114e+03"
       ]
      },
      {
       "output_type": "stream",
       "stream": "stdout",
       "text": [
        " \r",
        "     28  0285  -6.540284e+02   1.252218e+03"
       ]
      },
      {
       "output_type": "stream",
       "stream": "stdout",
       "text": [
        " \r",
        "     28  0286  -6.547949e+02   9.563053e+02"
       ]
      },
      {
       "output_type": "stream",
       "stream": "stdout",
       "text": [
        " \r",
        "     28  0287  -6.552270e+02   1.276969e+03"
       ]
      },
      {
       "output_type": "stream",
       "stream": "stdout",
       "text": [
        " \r",
        "     28  0288  -6.558040e+02   2.508507e+03"
       ]
      },
      {
       "output_type": "stream",
       "stream": "stdout",
       "text": [
        " \r",
        "     29  0289  -6.562977e+02   9.298581e+02"
       ]
      },
      {
       "output_type": "stream",
       "stream": "stdout",
       "text": [
        " \r",
        "     29  0290  -6.566839e+02   9.871206e+02"
       ]
      },
      {
       "output_type": "stream",
       "stream": "stdout",
       "text": [
        " \r",
        "     29  0291  -6.571820e+02   1.525114e+03"
       ]
      },
      {
       "output_type": "stream",
       "stream": "stdout",
       "text": [
        " \r",
        "     29  0292  -6.575777e+02   4.086975e+03"
       ]
      },
      {
       "output_type": "stream",
       "stream": "stdout",
       "text": [
        " \r",
        "     29  0293  -6.580878e+02   8.589514e+02"
       ]
      },
      {
       "output_type": "stream",
       "stream": "stdout",
       "text": [
        " \r",
        "     29  0294  -6.584191e+02   6.697677e+02"
       ]
      },
      {
       "output_type": "stream",
       "stream": "stdout",
       "text": [
        " \r",
        "     29  0295  -6.587767e+02   9.433277e+02"
       ]
      },
      {
       "output_type": "stream",
       "stream": "stdout",
       "text": [
        " \r",
        "     29  0296  -6.592722e+02   4.467408e+03"
       ]
      },
      {
       "output_type": "stream",
       "stream": "stdout",
       "text": [
        " \r",
        "     29  0297  -6.598562e+02   1.101072e+03"
       ]
      },
      {
       "output_type": "stream",
       "stream": "stdout",
       "text": [
        " \r",
        "     29  0298  -6.602252e+02   6.194849e+02"
       ]
      },
      {
       "output_type": "stream",
       "stream": "stdout",
       "text": [
        " \r",
        "     29  0299  -6.606429e+02   9.436736e+02"
       ]
      },
      {
       "output_type": "stream",
       "stream": "stdout",
       "text": [
        " \r",
        "     30  0300  -6.609988e+02   4.417560e+03"
       ]
      },
      {
       "output_type": "stream",
       "stream": "stdout",
       "text": [
        " \r",
        "     30  0301  -6.615048e+02   1.186763e+03"
       ]
      },
      {
       "output_type": "stream",
       "stream": "stdout",
       "text": [
        " \r",
        "     30  0302  -6.620042e+02   7.278241e+02"
       ]
      },
      {
       "output_type": "stream",
       "stream": "stdout",
       "text": [
        " \r",
        "     30  0303  -6.623217e+02   8.807425e+02"
       ]
      },
      {
       "output_type": "stream",
       "stream": "stdout",
       "text": [
        " \r",
        "     30  0304  -6.624620e+02   1.098759e+04"
       ]
      },
      {
       "output_type": "stream",
       "stream": "stdout",
       "text": [
        " \r",
        "     30  0305  -6.632996e+02   1.010861e+03"
       ]
      },
      {
       "output_type": "stream",
       "stream": "stdout",
       "text": [
        " \r",
        "     30  0306  -6.635629e+02   5.012927e+02"
       ]
      },
      {
       "output_type": "stream",
       "stream": "stdout",
       "text": [
        " \r",
        "     30  0307  -6.639116e+02   8.593082e+02"
       ]
      },
      {
       "output_type": "stream",
       "stream": "stdout",
       "text": [
        " \r",
        "     30  0308  -6.644406e+02   1.411142e+03"
       ]
      },
      {
       "output_type": "stream",
       "stream": "stdout",
       "text": [
        " \r",
        "     30  0309  -6.644033e+02   1.055660e+04"
       ]
      },
      {
       "output_type": "stream",
       "stream": "stdout",
       "text": [
        " \r",
        "     31  0310  -6.648372e+02   2.620577e+03"
       ]
      },
      {
       "output_type": "stream",
       "stream": "stdout",
       "text": [
        " \r",
        "     31  0311  -6.652950e+02   6.574566e+02"
       ]
      },
      {
       "output_type": "stream",
       "stream": "stdout",
       "text": [
        " \r",
        "     31  0312  -6.655711e+02   5.816955e+02"
       ]
      },
      {
       "output_type": "stream",
       "stream": "stdout",
       "text": [
        " \r",
        "     31  0313  -6.659990e+02   1.408891e+03"
       ]
      },
      {
       "output_type": "stream",
       "stream": "stdout",
       "text": [
        " \r",
        "     31  0314  -6.663401e+02   2.924176e+03"
       ]
      },
      {
       "output_type": "stream",
       "stream": "stdout",
       "text": [
        " \r",
        "     31  0315  -6.667230e+02   8.950466e+02"
       ]
      },
      {
       "output_type": "stream",
       "stream": "stdout",
       "text": [
        " \r",
        "     31  0316  -6.671089e+02   6.969750e+02"
       ]
      },
      {
       "output_type": "stream",
       "stream": "stdout",
       "text": [
        " \r",
        "     31  0317  -6.673894e+02   9.364701e+02"
       ]
      },
      {
       "output_type": "stream",
       "stream": "stdout",
       "text": [
        " \r",
        "     31  0318  -6.677930e+02   4.712640e+03"
       ]
      },
      {
       "output_type": "stream",
       "stream": "stdout",
       "text": [
        " \r",
        "     31  0319  -6.683369e+02   8.798943e+02"
       ]
      },
      {
       "output_type": "stream",
       "stream": "stdout",
       "text": [
        " \r",
        "     31  0320  -6.686075e+02   7.955903e+02"
       ]
      },
      {
       "output_type": "stream",
       "stream": "stdout",
       "text": [
        " \r",
        "     32  0321  -6.691453e+02   1.417847e+03"
       ]
      },
      {
       "output_type": "stream",
       "stream": "stdout",
       "text": [
        " \r",
        "     32  0322  -6.694522e+02   6.421321e+03"
       ]
      },
      {
       "output_type": "stream",
       "stream": "stdout",
       "text": [
        " \r",
        "     32  0323  -6.700579e+02   1.253167e+03"
       ]
      },
      {
       "output_type": "stream",
       "stream": "stdout",
       "text": [
        " \r",
        "     32  0324  -6.704990e+02   8.531403e+02"
       ]
      },
      {
       "output_type": "stream",
       "stream": "stdout",
       "text": [
        " \r",
        "     32  0325  -6.708869e+02   1.192388e+03"
       ]
      },
      {
       "output_type": "stream",
       "stream": "stdout",
       "text": [
        " \r",
        "     32  0326  -6.716875e+02   2.631471e+03"
       ]
      },
      {
       "output_type": "stream",
       "stream": "stdout",
       "text": [
        " \r",
        "     32  0327  -6.718341e+02   9.010438e+03"
       ]
      },
      {
       "output_type": "stream",
       "stream": "stdout",
       "text": [
        " \r",
        "     32  0328  -6.726777e+02   7.246942e+02"
       ]
      },
      {
       "output_type": "stream",
       "stream": "stdout",
       "text": [
        " \r",
        "     32  0329  -6.728771e+02   6.205771e+02"
       ]
      },
      {
       "output_type": "stream",
       "stream": "stdout",
       "text": [
        " \r",
        "     32  0330  -6.733126e+02   1.119258e+03"
       ]
      },
      {
       "output_type": "stream",
       "stream": "stdout",
       "text": [
        " \r",
        "     33  0331  -6.736007e+02   6.694988e+03"
       ]
      },
      {
       "output_type": "stream",
       "stream": "stdout",
       "text": [
        " \r",
        "     33  0332  -6.741832e+02   1.092715e+03"
       ]
      },
      {
       "output_type": "stream",
       "stream": "stdout",
       "text": [
        " \r",
        "     33  0333  -6.744983e+02   7.285107e+02"
       ]
      },
      {
       "output_type": "stream",
       "stream": "stdout",
       "text": [
        " \r",
        "     33  0334  -6.748229e+02   9.860596e+02"
       ]
      },
      {
       "output_type": "stream",
       "stream": "stdout",
       "text": [
        " \r",
        "     33  0335  -6.754295e+02   1.688393e+03"
       ]
      },
      {
       "output_type": "stream",
       "stream": "stdout",
       "text": [
        " \r",
        "     33  0336  -6.752797e+02   1.316341e+04"
       ]
      },
      {
       "output_type": "stream",
       "stream": "stdout",
       "text": [
        " \r",
        "     33  0337  -6.758181e+02   2.582990e+03"
       ]
      },
      {
       "output_type": "stream",
       "stream": "stdout",
       "text": [
        " \r",
        "     33  0338  -6.762711e+02   8.150328e+02"
       ]
      },
      {
       "output_type": "stream",
       "stream": "stdout",
       "text": [
        " \r",
        "     33  0339  -6.766255e+02   8.240895e+02"
       ]
      },
      {
       "output_type": "stream",
       "stream": "stdout",
       "text": [
        " \r",
        "     33  0340  -6.770966e+02   2.203338e+03"
       ]
      },
      {
       "output_type": "stream",
       "stream": "stdout",
       "text": [
        " \r",
        "     33  0341  -6.775868e+02   2.221808e+03"
       ]
      },
      {
       "output_type": "stream",
       "stream": "stdout",
       "text": [
        " \r",
        "     34  0342  -6.780338e+02   9.561800e+02"
       ]
      },
      {
       "output_type": "stream",
       "stream": "stdout",
       "text": [
        " \r",
        "     34  0343  -6.785902e+02   1.517895e+03"
       ]
      },
      {
       "output_type": "stream",
       "stream": "stdout",
       "text": [
        " \r",
        "     34  0344  -6.789227e+02   2.707544e+03"
       ]
      },
      {
       "output_type": "stream",
       "stream": "stdout",
       "text": [
        " \r",
        "     34  0345  -6.793312e+02   1.524220e+03"
       ]
      },
      {
       "output_type": "stream",
       "stream": "stdout",
       "text": [
        " \r",
        "     34  0346  -6.800252e+02   2.597994e+03"
       ]
      },
      {
       "output_type": "stream",
       "stream": "stdout",
       "text": [
        " \r",
        "     34  0347  -6.802942e+02   3.408345e+03"
       ]
      },
      {
       "output_type": "stream",
       "stream": "stdout",
       "text": [
        " \r",
        "     34  0348  -6.805680e+02   1.171065e+03"
       ]
      },
      {
       "output_type": "stream",
       "stream": "stdout",
       "text": [
        " \r",
        "     34  0349  -6.810438e+02   6.851008e+02"
       ]
      },
      {
       "output_type": "stream",
       "stream": "stdout",
       "text": [
        " \r",
        "     34  0350  -6.813921e+02   1.129975e+03"
       ]
      },
      {
       "output_type": "stream",
       "stream": "stdout",
       "text": [
        " \r",
        "     34  0351  -6.820229e+02   3.210922e+03"
       ]
      },
      {
       "output_type": "stream",
       "stream": "stdout",
       "text": [
        " \r",
        "     34  0352  -6.825321e+02   2.747323e+03"
       ]
      },
      {
       "output_type": "stream",
       "stream": "stdout",
       "text": [
        " \r",
        "     35  0353  -6.829300e+02   6.113447e+02"
       ]
      },
      {
       "output_type": "stream",
       "stream": "stdout",
       "text": [
        " \r",
        "     35  0354  -6.831994e+02   8.068015e+02"
       ]
      },
      {
       "output_type": "stream",
       "stream": "stdout",
       "text": [
        " \r",
        "     35  0355  -6.835383e+02   1.574647e+03"
       ]
      },
      {
       "output_type": "stream",
       "stream": "stdout",
       "text": [
        " \r",
        "     35  0356  -6.839588e+02   3.032858e+03"
       ]
      },
      {
       "output_type": "stream",
       "stream": "stdout",
       "text": [
        " \r",
        "     35  0357  -6.843413e+02   7.807991e+02"
       ]
      },
      {
       "output_type": "stream",
       "stream": "stdout",
       "text": [
        " \r",
        "     35  0358  -6.845892e+02   7.310284e+02"
       ]
      },
      {
       "output_type": "stream",
       "stream": "stdout",
       "text": [
        " \r",
        "     35  0359  -6.848543e+02   1.115090e+03"
       ]
      },
      {
       "output_type": "stream",
       "stream": "stdout",
       "text": [
        " \r",
        "     35  0360  -6.852086e+02   3.163073e+03"
       ]
      },
      {
       "output_type": "stream",
       "stream": "stdout",
       "text": [
        " \r",
        "     35  0361  -6.855985e+02   9.799070e+02"
       ]
      },
      {
       "output_type": "stream",
       "stream": "stdout",
       "text": [
        " \r",
        "     35  0362  -6.859150e+02   8.736395e+02"
       ]
      },
      {
       "output_type": "stream",
       "stream": "stdout",
       "text": [
        " \r",
        "     36  0363  -6.862516e+02   1.345857e+03"
       ]
      },
      {
       "output_type": "stream",
       "stream": "stdout",
       "text": [
        " \r",
        "     36  0364  -6.866381e+02   4.269952e+03"
       ]
      },
      {
       "output_type": "stream",
       "stream": "stdout",
       "text": [
        " \r",
        "     36  0365  -6.870903e+02   1.170222e+03"
       ]
      },
      {
       "output_type": "stream",
       "stream": "stdout",
       "text": [
        " \r",
        "     36  0366  -6.875143e+02   1.071277e+03"
       ]
      },
      {
       "output_type": "stream",
       "stream": "stdout",
       "text": [
        " \r",
        "     36  0367  -6.878600e+02   1.371425e+03"
       ]
      },
      {
       "output_type": "stream",
       "stream": "stdout",
       "text": [
        " \r",
        "     36  0368  -6.880110e+02   1.166244e+04"
       ]
      },
      {
       "output_type": "stream",
       "stream": "stdout",
       "text": [
        " \r",
        "     36  0369  -6.887495e+02   8.641232e+02"
       ]
      },
      {
       "output_type": "stream",
       "stream": "stdout",
       "text": [
        " \r",
        "     36  0370  -6.889518e+02   5.849725e+02"
       ]
      },
      {
       "output_type": "stream",
       "stream": "stdout",
       "text": [
        " \r",
        "     36  0371  -6.892425e+02   8.990082e+02"
       ]
      },
      {
       "output_type": "stream",
       "stream": "stdout",
       "text": [
        " \r",
        "     36  0372  -6.896618e+02   3.060270e+03"
       ]
      },
      {
       "output_type": "stream",
       "stream": "stdout",
       "text": [
        " \r",
        "     36  0373  -6.901340e+02   1.169492e+03"
       ]
      },
      {
       "output_type": "stream",
       "stream": "stdout",
       "text": [
        " \r",
        "     37  0374  -6.904472e+02   6.862316e+02"
       ]
      },
      {
       "output_type": "stream",
       "stream": "stdout",
       "text": [
        " \r",
        "     37  0375  -6.907952e+02   2.019923e+03"
       ]
      },
      {
       "output_type": "stream",
       "stream": "stdout",
       "text": [
        " \r",
        "     37  0376  -6.910901e+02   1.398262e+03"
       ]
      },
      {
       "output_type": "stream",
       "stream": "stdout",
       "text": [
        " \r",
        "     37  0377  -6.914327e+02   1.284326e+03"
       ]
      },
      {
       "output_type": "stream",
       "stream": "stdout",
       "text": [
        " \r",
        "     37  0378  -6.919489e+02   2.634270e+03"
       ]
      },
      {
       "output_type": "stream",
       "stream": "stdout",
       "text": [
        " \r",
        "     37  0379  -6.921907e+02   3.331794e+03"
       ]
      },
      {
       "output_type": "stream",
       "stream": "stdout",
       "text": [
        " \r",
        "     37  0380  -6.924702e+02   8.585474e+02"
       ]
      },
      {
       "output_type": "stream",
       "stream": "stdout",
       "text": [
        " \r",
        "     37  0381  -6.927753e+02   7.358019e+02"
       ]
      },
      {
       "output_type": "stream",
       "stream": "stdout",
       "text": [
        " \r",
        "     37  0382  -6.930435e+02   1.058605e+03"
       ]
      },
      {
       "output_type": "stream",
       "stream": "stdout",
       "text": [
        " \r",
        "     37  0383  -6.933998e+02   5.500692e+03"
       ]
      },
      {
       "output_type": "stream",
       "stream": "stdout",
       "text": [
        " \r",
        "     38  0384  -6.938457e+02   9.336976e+02"
       ]
      },
      {
       "output_type": "stream",
       "stream": "stdout",
       "text": [
        " \r",
        "     38  0385  -6.940577e+02   5.248152e+02"
       ]
      },
      {
       "output_type": "stream",
       "stream": "stdout",
       "text": [
        " \r",
        "     38  0386  -6.943024e+02   9.409891e+02"
       ]
      },
      {
       "output_type": "stream",
       "stream": "stdout",
       "text": [
        " \r",
        "     38  0387  -6.945472e+02   3.865646e+03"
       ]
      },
      {
       "output_type": "stream",
       "stream": "stdout",
       "text": [
        " \r",
        "     38  0388  -6.948839e+02   1.557739e+03"
       ]
      },
      {
       "output_type": "stream",
       "stream": "stdout",
       "text": [
        " \r",
        "     38  0389  -6.952809e+02   7.360619e+02"
       ]
      },
      {
       "output_type": "stream",
       "stream": "stdout",
       "text": [
        " \r",
        "     38  0390  -6.955059e+02   1.085476e+03"
       ]
      },
      {
       "output_type": "stream",
       "stream": "stdout",
       "text": [
        " \r",
        "     38  0391  -6.958515e+02   1.784600e+03"
       ]
      },
      {
       "output_type": "stream",
       "stream": "stdout",
       "text": [
        " \r",
        "     38  0392  -6.961874e+02   1.063818e+03"
       ]
      },
      {
       "output_type": "stream",
       "stream": "stdout",
       "text": [
        " \r",
        "     38  0393  -6.965086e+02   9.977242e+02"
       ]
      },
      {
       "output_type": "stream",
       "stream": "stdout",
       "text": [
        " \r",
        "     38  0394  -6.967857e+02   2.237877e+03"
       ]
      },
      {
       "output_type": "stream",
       "stream": "stdout",
       "text": [
        " \r",
        "     39  0395  -6.970903e+02   1.079440e+03"
       ]
      },
      {
       "output_type": "stream",
       "stream": "stdout",
       "text": [
        " \r",
        "     39  0396  -6.974615e+02   9.613974e+02"
       ]
      },
      {
       "output_type": "stream",
       "stream": "stdout",
       "text": [
        " \r",
        "     39  0397  -6.977232e+02   2.087819e+03"
       ]
      },
      {
       "output_type": "stream",
       "stream": "stdout",
       "text": [
        " \r",
        "     39  0398  -6.980439e+02   9.658748e+02"
       ]
      },
      {
       "output_type": "stream",
       "stream": "stdout",
       "text": [
        " \r",
        "     39  0399  -6.983525e+02   8.975755e+02"
       ]
      },
      {
       "output_type": "stream",
       "stream": "stdout",
       "text": [
        " \r",
        "     39  0400  -6.986719e+02   2.891473e+03"
       ]
      },
      {
       "output_type": "stream",
       "stream": "stdout",
       "text": [
        " \r",
        "     39  0401  -6.989733e+02   1.198863e+03"
       ]
      },
      {
       "output_type": "stream",
       "stream": "stdout",
       "text": [
        " \r",
        "     39  0402  -6.991810e+02   8.186352e+02"
       ]
      },
      {
       "output_type": "stream",
       "stream": "stdout",
       "text": [
        " \r",
        "     39  0403  -6.995290e+02   1.580682e+03"
       ]
      },
      {
       "output_type": "stream",
       "stream": "stdout",
       "text": [
        " \r",
        "     39  0404  -6.996912e+02   2.951219e+03"
       ]
      },
      {
       "output_type": "stream",
       "stream": "stdout",
       "text": [
        " \r",
        "     40  0405  -6.998874e+02   9.366163e+02"
       ]
      },
      {
       "output_type": "stream",
       "stream": "stdout",
       "text": [
        " \r",
        "     40  0406  -7.001642e+02   6.306432e+02"
       ]
      },
      {
       "output_type": "stream",
       "stream": "stdout",
       "text": [
        " \r",
        "     40  0407  -7.003522e+02   8.475581e+02"
       ]
      },
      {
       "output_type": "stream",
       "stream": "stdout",
       "text": [
        " \r",
        "     40  0408  -7.007000e+02   4.715011e+03"
       ]
      },
      {
       "output_type": "stream",
       "stream": "stdout",
       "text": [
        " \r",
        "     40  0409  -7.010804e+02   1.028011e+03"
       ]
      },
      {
       "output_type": "stream",
       "stream": "stdout",
       "text": [
        " \r",
        "     40  0410  -7.012678e+02   5.708375e+02"
       ]
      },
      {
       "output_type": "stream",
       "stream": "stdout",
       "text": [
        " \r",
        "     40  0411  -7.015241e+02   9.933342e+02"
       ]
      },
      {
       "output_type": "stream",
       "stream": "stdout",
       "text": [
        " \r",
        "     40  0412  -7.017475e+02   3.709703e+03"
       ]
      },
      {
       "output_type": "stream",
       "stream": "stdout",
       "text": [
        " \r",
        "     40  0413  -7.020421e+02   1.662146e+03"
       ]
      },
      {
       "output_type": "stream",
       "stream": "stdout",
       "text": [
        " \r",
        "     40  0414  -7.024448e+02   8.145523e+02"
       ]
      },
      {
       "output_type": "stream",
       "stream": "stdout",
       "text": [
        " \r",
        "     40  0415  -7.026242e+02   1.316661e+03"
       ]
      },
      {
       "output_type": "stream",
       "stream": "stdout",
       "text": [
        " \r",
        "     41  0416  -7.029083e+02   1.124142e+03"
       ]
      },
      {
       "output_type": "stream",
       "stream": "stdout",
       "text": [
        " \r",
        "     41  0417  -7.033634e+02   2.065222e+03"
       ]
      },
      {
       "output_type": "stream",
       "stream": "stdout",
       "text": [
        " \r",
        "     41  0418  -7.034552e+02   6.871507e+03"
       ]
      },
      {
       "output_type": "stream",
       "stream": "stdout",
       "text": [
        " \r",
        "     41  0419  -7.039105e+02   6.548661e+02"
       ]
      },
      {
       "output_type": "stream",
       "stream": "stdout",
       "text": [
        " \r",
        "     41  0420  -7.040529e+02   5.879548e+02"
       ]
      },
      {
       "output_type": "stream",
       "stream": "stdout",
       "text": [
        " \r",
        "     41  0421  -7.043484e+02   9.811334e+02"
       ]
      },
      {
       "output_type": "stream",
       "stream": "stdout",
       "text": [
        " \r",
        "     41  0422  -7.043769e+02   1.000296e+04"
       ]
      },
      {
       "output_type": "stream",
       "stream": "stdout",
       "text": [
        " \r",
        "     41  0423  -7.045392e+02   2.925533e+03"
       ]
      },
      {
       "output_type": "stream",
       "stream": "stdout",
       "text": [
        " \r",
        "     41  0424  -7.048371e+02   1.027755e+03"
       ]
      },
      {
       "output_type": "stream",
       "stream": "stdout",
       "text": [
        " \r",
        "     41  0425  -7.051138e+02   5.818511e+02"
       ]
      },
      {
       "output_type": "stream",
       "stream": "stdout",
       "text": [
        " \r",
        "     42  0426  -7.053523e+02   1.702797e+03"
       ]
      },
      {
       "output_type": "stream",
       "stream": "stdout",
       "text": [
        " \r",
        "     42  0427  -7.055920e+02   1.187585e+03"
       ]
      },
      {
       "output_type": "stream",
       "stream": "stdout",
       "text": [
        " \r",
        "     42  0428  -7.058213e+02   7.138690e+02"
       ]
      },
      {
       "output_type": "stream",
       "stream": "stdout",
       "text": [
        " \r",
        "     42  0429  -7.060961e+02   3.030184e+03"
       ]
      },
      {
       "output_type": "stream",
       "stream": "stdout",
       "text": [
        " \r",
        "     42  0430  -7.063382e+02   1.201698e+03"
       ]
      },
      {
       "output_type": "stream",
       "stream": "stdout",
       "text": [
        " \r",
        "     42  0431  -7.064763e+02   7.470659e+02"
       ]
      },
      {
       "output_type": "stream",
       "stream": "stdout",
       "text": [
        " \r",
        "     42  0432  -7.068305e+02   1.317083e+03"
       ]
      },
      {
       "output_type": "stream",
       "stream": "stdout",
       "text": [
        " \r",
        "     42  0433  -7.069517e+02   4.101018e+03"
       ]
      },
      {
       "output_type": "stream",
       "stream": "stdout",
       "text": [
        " \r",
        "     42  0434  -7.071597e+02   1.003148e+03"
       ]
      },
      {
       "output_type": "stream",
       "stream": "stdout",
       "text": [
        " \r",
        "     42  0435  -7.073621e+02   4.653961e+02"
       ]
      },
      {
       "output_type": "stream",
       "stream": "stdout",
       "text": [
        " \r",
        "     42  0436  -7.075177e+02   6.946181e+02"
       ]
      },
      {
       "output_type": "stream",
       "stream": "stdout",
       "text": [
        " \r",
        "     43  0437  -7.078058e+02   1.381677e+03"
       ]
      },
      {
       "output_type": "stream",
       "stream": "stdout",
       "text": [
        " \r",
        "     43  0438  -7.078080e+02   6.057677e+03"
       ]
      },
      {
       "output_type": "stream",
       "stream": "stdout",
       "text": [
        " \r",
        "     43  0439  -7.079950e+02   1.291978e+03"
       ]
      },
      {
       "output_type": "stream",
       "stream": "stdout",
       "text": [
        " \r",
        "     43  0440  -7.081663e+02   4.609663e+02"
       ]
      },
      {
       "output_type": "stream",
       "stream": "stdout",
       "text": [
        " \r",
        "     43  0441  -7.083376e+02   5.298257e+02"
       ]
      },
      {
       "output_type": "stream",
       "stream": "stdout",
       "text": [
        " \r",
        "     43  0442  -7.085363e+02   1.745374e+03"
       ]
      },
      {
       "output_type": "stream",
       "stream": "stdout",
       "text": [
        " \r",
        "     43  0443  -7.087397e+02   1.081354e+03"
       ]
      },
      {
       "output_type": "stream",
       "stream": "stdout",
       "text": [
        " \r",
        "     43  0444  -7.088992e+02   5.533299e+02"
       ]
      },
      {
       "output_type": "stream",
       "stream": "stdout",
       "text": [
        " \r",
        "     43  0445  -7.091045e+02   1.023719e+03"
       ]
      },
      {
       "output_type": "stream",
       "stream": "stdout",
       "text": [
        " \r",
        "     43  0446  -7.092607e+02   1.184448e+03"
       ]
      },
      {
       "output_type": "stream",
       "stream": "stdout",
       "text": [
        " \r",
        "     44  0447  -7.094560e+02   9.272226e+02"
       ]
      },
      {
       "output_type": "stream",
       "stream": "stdout",
       "text": [
        " \r",
        "     44  0448  -7.096768e+02   4.371152e+03"
       ]
      },
      {
       "output_type": "stream",
       "stream": "stdout",
       "text": [
        " \r",
        "     44  0449  -7.099490e+02   7.260061e+02"
       ]
      },
      {
       "output_type": "stream",
       "stream": "stdout",
       "text": [
        " \r",
        "     44  0450  -7.100613e+02   5.701006e+02"
       ]
      },
      {
       "output_type": "stream",
       "stream": "stdout",
       "text": [
        " \r",
        "     44  0451  -7.103390e+02   1.072149e+03"
       ]
      },
      {
       "output_type": "stream",
       "stream": "stdout",
       "text": [
        " \r",
        "     44  0452  -7.102912e+02   6.887807e+03"
       ]
      },
      {
       "output_type": "stream",
       "stream": "stdout",
       "text": [
        " \r",
        "     44  0453  -7.104737e+02   1.152933e+03"
       ]
      },
      {
       "output_type": "stream",
       "stream": "stdout",
       "text": [
        " \r",
        "     44  0454  -7.106091e+02   6.191887e+02"
       ]
      },
      {
       "output_type": "stream",
       "stream": "stdout",
       "text": [
        " \r",
        "     44  0455  -7.108530e+02   5.927410e+02"
       ]
      },
      {
       "output_type": "stream",
       "stream": "stdout",
       "text": [
        " \r",
        "     44  0456  -7.109833e+02   2.708374e+03"
       ]
      },
      {
       "output_type": "stream",
       "stream": "stdout",
       "text": [
        " \r",
        "     44  0457  -7.111734e+02   9.013462e+02"
       ]
      },
      {
       "output_type": "stream",
       "stream": "stdout",
       "text": [
        " \r",
        "     45  0458  -7.113894e+02   6.178819e+02"
       ]
      },
      {
       "output_type": "stream",
       "stream": "stdout",
       "text": [
        " \r",
        "     45  0459  -7.115549e+02   7.654040e+02"
       ]
      },
      {
       "output_type": "stream",
       "stream": "stdout",
       "text": [
        " \r",
        "     45  0460  -7.116633e+02   7.577363e+03"
       ]
      },
      {
       "output_type": "stream",
       "stream": "stdout",
       "text": [
        " \r",
        "     45  0461  -7.120299e+02   7.993554e+02"
       ]
      },
      {
       "output_type": "stream",
       "stream": "stdout",
       "text": [
        " \r",
        "     45  0462  -7.121759e+02   4.698739e+02"
       ]
      },
      {
       "output_type": "stream",
       "stream": "stdout",
       "text": [
        " \r",
        "     45  0463  -7.123450e+02   7.467447e+02"
       ]
      },
      {
       "output_type": "stream",
       "stream": "stdout",
       "text": [
        " \r",
        "     45  0464  -7.126086e+02   1.587215e+03"
       ]
      },
      {
       "output_type": "stream",
       "stream": "stdout",
       "text": [
        " \r",
        "     45  0465  -7.128310e+02   2.664175e+03"
       ]
      },
      {
       "output_type": "stream",
       "stream": "stdout",
       "text": [
        " \r",
        "     45  0466  -7.130646e+02   5.821712e+02"
       ]
      },
      {
       "output_type": "stream",
       "stream": "stdout",
       "text": [
        " \r",
        "     45  0467  -7.132087e+02   8.953732e+02"
       ]
      },
      {
       "output_type": "stream",
       "stream": "stdout",
       "text": [
        " \r",
        "     46  0468  -7.134562e+02   1.393023e+03"
       ]
      },
      {
       "output_type": "stream",
       "stream": "stdout",
       "text": [
        " \r",
        "     46  0469  -7.134486e+02   1.229196e+04"
       ]
      },
      {
       "output_type": "stream",
       "stream": "stdout",
       "text": [
        " \r",
        "     46  0470  -7.136570e+02   3.627148e+03"
       ]
      },
      {
       "output_type": "stream",
       "stream": "stdout",
       "text": [
        " \r",
        "     46  0471  -7.139495e+02   1.038835e+03"
       ]
      },
      {
       "output_type": "stream",
       "stream": "stdout",
       "text": [
        " \r",
        "     46  0472  -7.141461e+02   5.241725e+02"
       ]
      },
      {
       "output_type": "stream",
       "stream": "stdout",
       "text": [
        " \r",
        "     46  0473  -7.143304e+02   1.114043e+03"
       ]
      },
      {
       "output_type": "stream",
       "stream": "stdout",
       "text": [
        " \r",
        "     46  0474  -7.145384e+02   1.772628e+03"
       ]
      },
      {
       "output_type": "stream",
       "stream": "stdout",
       "text": [
        " \r",
        "     46  0475  -7.147695e+02   1.103675e+03"
       ]
      },
      {
       "output_type": "stream",
       "stream": "stdout",
       "text": [
        " \r",
        "     46  0476  -7.149790e+02   1.078104e+03"
       ]
      },
      {
       "output_type": "stream",
       "stream": "stdout",
       "text": [
        " \r",
        "     46  0477  -7.151399e+02   8.488383e+02"
       ]
      },
      {
       "output_type": "stream",
       "stream": "stdout",
       "text": [
        " \r",
        "     46  0478  -7.152975e+02   8.424194e+02"
       ]
      },
      {
       "output_type": "stream",
       "stream": "stdout",
       "text": [
        " \r",
        "     47  0479  -7.155026e+02   6.368235e+03"
       ]
      },
      {
       "output_type": "stream",
       "stream": "stdout",
       "text": [
        " \r",
        "     47  0480  -7.158636e+02   8.355804e+02"
       ]
      },
      {
       "output_type": "stream",
       "stream": "stdout",
       "text": [
        " \r",
        "     47  0481  -7.159943e+02   7.196574e+02"
       ]
      },
      {
       "output_type": "stream",
       "stream": "stdout",
       "text": [
        " \r",
        "     47  0482  -7.163070e+02   1.173205e+03"
       ]
      },
      {
       "output_type": "stream",
       "stream": "stdout",
       "text": [
        " \r",
        "     47  0483  -7.162758e+02   8.983862e+03"
       ]
      },
      {
       "output_type": "stream",
       "stream": "stdout",
       "text": [
        " \r",
        "     47  0484  -7.164779e+02   1.805791e+03"
       ]
      },
      {
       "output_type": "stream",
       "stream": "stdout",
       "text": [
        " \r",
        "     47  0485  -7.166832e+02   7.666081e+02"
       ]
      },
      {
       "output_type": "stream",
       "stream": "stdout",
       "text": [
        " \r",
        "     47  0486  -7.169298e+02   6.656485e+02"
       ]
      },
      {
       "output_type": "stream",
       "stream": "stdout",
       "text": [
        " \r",
        "     47  0487  -7.170872e+02   3.030509e+03"
       ]
      },
      {
       "output_type": "stream",
       "stream": "stdout",
       "text": [
        " \r",
        "     47  0488  -7.172942e+02   7.778312e+02"
       ]
      },
      {
       "output_type": "stream",
       "stream": "stdout",
       "text": [
        " \r",
        "     48  0489  -7.174704e+02   5.430757e+02"
       ]
      },
      {
       "output_type": "stream",
       "stream": "stdout",
       "text": [
        " \r",
        "     48  0490  -7.176148e+02   8.938580e+02"
       ]
      },
      {
       "output_type": "stream",
       "stream": "stdout",
       "text": [
        " \r",
        "     48  0491  -7.177788e+02   3.677189e+03"
       ]
      },
      {
       "output_type": "stream",
       "stream": "stdout",
       "text": [
        " \r",
        "     48  0492  -7.180116e+02   8.852986e+02"
       ]
      },
      {
       "output_type": "stream",
       "stream": "stdout",
       "text": [
        " \r",
        "     48  0493  -7.182137e+02   6.593392e+02"
       ]
      },
      {
       "output_type": "stream",
       "stream": "stdout",
       "text": [
        " \r",
        "     48  0494  -7.183786e+02   8.545247e+02"
       ]
      },
      {
       "output_type": "stream",
       "stream": "stdout",
       "text": [
        " \r",
        "     48  0495  -7.186646e+02   2.389011e+03"
       ]
      },
      {
       "output_type": "stream",
       "stream": "stdout",
       "text": [
        " \r",
        "     48  0496  -7.189333e+02   1.663702e+03"
       ]
      },
      {
       "output_type": "stream",
       "stream": "stdout",
       "text": [
        " \r",
        "     48  0497  -7.191354e+02   6.252924e+02"
       ]
      },
      {
       "output_type": "stream",
       "stream": "stdout",
       "text": [
        " \r",
        "     48  0498  -7.193683e+02   9.598145e+02"
       ]
      },
      {
       "output_type": "stream",
       "stream": "stdout",
       "text": [
        " \r",
        "     49  0499  -7.195598e+02   2.102604e+03"
       ]
      },
      {
       "output_type": "stream",
       "stream": "stdout",
       "text": [
        " \r",
        "     49  0500  -7.198470e+02   1.165637e+03"
       ]
      },
      {
       "output_type": "stream",
       "stream": "stdout",
       "text": [
        " \r",
        "     49  0501  -7.201648e+02   2.548123e+03"
       ]
      },
      {
       "output_type": "stream",
       "stream": "stdout",
       "text": [
        " \r",
        "     49  0502  -7.203970e+02   1.944936e+03"
       ]
      },
      {
       "output_type": "stream",
       "stream": "stdout",
       "text": [
        " \r",
        "     49  0503  -7.205679e+02   8.858561e+02"
       ]
      },
      {
       "output_type": "stream",
       "stream": "stdout",
       "text": [
        " \r",
        "     49  0504  -7.208541e+02   6.631165e+02"
       ]
      },
      {
       "output_type": "stream",
       "stream": "stdout",
       "text": [
        " \r",
        "     49  0505  -7.210141e+02   2.456471e+03"
       ]
      },
      {
       "output_type": "stream",
       "stream": "stdout",
       "text": [
        " \r",
        "     49  0506  -7.212153e+02   9.363438e+02"
       ]
      },
      {
       "output_type": "stream",
       "stream": "stdout",
       "text": [
        " \r",
        "     49  0507  -7.214507e+02   6.885310e+02"
       ]
      },
      {
       "output_type": "stream",
       "stream": "stdout",
       "text": [
        " \r",
        "     49  0508  -7.216299e+02   1.503140e+03"
       ]
      },
      {
       "output_type": "stream",
       "stream": "stdout",
       "text": [
        " \r",
        "     49  0509  -7.218423e+02   1.099069e+03"
       ]
      },
      {
       "output_type": "stream",
       "stream": "stdout",
       "text": [
        " \r",
        "     50  0510  -7.220541e+02   7.951108e+02"
       ]
      },
      {
       "output_type": "stream",
       "stream": "stdout",
       "text": [
        " \r",
        "     50  0511  -7.222279e+02   2.899797e+03"
       ]
      },
      {
       "output_type": "stream",
       "stream": "stdout",
       "text": [
        " \r",
        "     50  0512  -7.224288e+02   8.067905e+02"
       ]
      },
      {
       "output_type": "stream",
       "stream": "stdout",
       "text": [
        " \r",
        "     50  0513  -7.225957e+02   8.496422e+02"
       ]
      },
      {
       "output_type": "stream",
       "stream": "stdout",
       "text": [
        " \r",
        "     50  0514  -7.228390e+02   1.221405e+03"
       ]
      },
      {
       "output_type": "stream",
       "stream": "stdout",
       "text": [
        " \r",
        "     50  0515  -7.229320e+02   7.295653e+03"
       ]
      },
      {
       "output_type": "stream",
       "stream": "stdout",
       "text": [
        " \r",
        "     50  0516  -7.232320e+02   1.067653e+03"
       ]
      },
      {
       "output_type": "stream",
       "stream": "stdout",
       "text": [
        " \r",
        "     50  0517  -7.233945e+02   4.936728e+02"
       ]
      },
      {
       "output_type": "stream",
       "stream": "stdout",
       "text": [
        " \r",
        "     50  0518  -7.235688e+02   1.006806e+03"
       ]
      },
      {
       "output_type": "stream",
       "stream": "stdout",
       "text": [
        " \r",
        "     50  0519  -7.238221e+02   1.276964e+03"
       ]
      },
      {
       "output_type": "stream",
       "stream": "stdout",
       "text": [
        " \r",
        "     51  0520  -7.231760e+02   3.114043e+04"
       ]
      },
      {
       "output_type": "stream",
       "stream": "stdout",
       "text": [
        " \r",
        "     51  0521  -7.239736e+02   3.568726e+03"
       ]
      },
      {
       "output_type": "stream",
       "stream": "stdout",
       "text": [
        " \r",
        "     51  0522  -7.242974e+02   9.882641e+02"
       ]
      },
      {
       "output_type": "stream",
       "stream": "stdout",
       "text": [
        " \r",
        "     51  0523  -7.245066e+02   5.018890e+02"
       ]
      },
      {
       "output_type": "stream",
       "stream": "stdout",
       "text": [
        " \r",
        "     51  0524  -7.247292e+02   1.254489e+03"
       ]
      },
      {
       "output_type": "stream",
       "stream": "stdout",
       "text": [
        " \r",
        "     51  0525  -7.248776e+02   2.874208e+03"
       ]
      },
      {
       "output_type": "stream",
       "stream": "stdout",
       "text": [
        " \r",
        "     51  0526  -7.250720e+02   9.841930e+02"
       ]
      },
      {
       "output_type": "stream",
       "stream": "stdout",
       "text": [
        " \r",
        "     51  0527  -7.253429e+02   7.831203e+02"
       ]
      },
      {
       "output_type": "stream",
       "stream": "stdout",
       "text": [
        " \r",
        "     51  0528  -7.255079e+02   9.242066e+02"
       ]
      },
      {
       "output_type": "stream",
       "stream": "stdout",
       "text": [
        " \r",
        "     51  0529  -7.255579e+02   1.076715e+04"
       ]
      },
      {
       "output_type": "stream",
       "stream": "stdout",
       "text": [
        " \r",
        "     51  0530  -7.259735e+02   9.933062e+02"
       ]
      },
      {
       "output_type": "stream",
       "stream": "stdout",
       "text": [
        " \r",
        "     52  0531  -7.261103e+02   5.080917e+02"
       ]
      },
      {
       "output_type": "stream",
       "stream": "stdout",
       "text": [
        " \r",
        "     52  0532  -7.263109e+02   9.136442e+02"
       ]
      },
      {
       "output_type": "stream",
       "stream": "stdout",
       "text": [
        " \r",
        "     52  0533  -7.265352e+02   1.499142e+03"
       ]
      },
      {
       "output_type": "stream",
       "stream": "stdout",
       "text": [
        " \r",
        "     52  0534  -7.267748e+02   2.530869e+03"
       ]
      },
      {
       "output_type": "stream",
       "stream": "stdout",
       "text": [
        " \r",
        "     52  0535  -7.270093e+02   6.553389e+02"
       ]
      },
      {
       "output_type": "stream",
       "stream": "stdout",
       "text": [
        " \r",
        "     52  0536  -7.272017e+02   9.466436e+02"
       ]
      },
      {
       "output_type": "stream",
       "stream": "stdout",
       "text": [
        " \r",
        "     52  0537  -7.273983e+02   1.397151e+03"
       ]
      },
      {
       "output_type": "stream",
       "stream": "stdout",
       "text": [
        " \r",
        "     52  0538  -7.275423e+02   6.206762e+03"
       ]
      },
      {
       "output_type": "stream",
       "stream": "stdout",
       "text": [
        " \r",
        "     52  0539  -7.278525e+02   7.326257e+02"
       ]
      },
      {
       "output_type": "stream",
       "stream": "stdout",
       "text": [
        " \r",
        "     52  0540  -7.279764e+02   6.919976e+02"
       ]
      },
      {
       "output_type": "stream",
       "stream": "stdout",
       "text": [
        " \r",
        "     53  0541  -7.281685e+02   1.178147e+03"
       ]
      },
      {
       "output_type": "stream",
       "stream": "stdout",
       "text": [
        " \r",
        "     53  0542  -7.284528e+02   3.211538e+03"
       ]
      },
      {
       "output_type": "stream",
       "stream": "stdout",
       "text": [
        " \r",
        "     53  0543  -7.287293e+02   1.702904e+03"
       ]
      },
      {
       "output_type": "stream",
       "stream": "stdout",
       "text": [
        " \r",
        "     53  0544  -7.289216e+02   7.119086e+02"
       ]
      },
      {
       "output_type": "stream",
       "stream": "stdout",
       "text": [
        " \r",
        "     53  0545  -7.291608e+02   1.164782e+03"
       ]
      },
      {
       "output_type": "stream",
       "stream": "stdout",
       "text": [
        " \r",
        "     53  0546  -7.293189e+02   2.181645e+03"
       ]
      },
      {
       "output_type": "stream",
       "stream": "stdout",
       "text": [
        " \r",
        "     53  0547  -7.295247e+02   1.222965e+03"
       ]
      },
      {
       "output_type": "stream",
       "stream": "stdout",
       "text": [
        " \r",
        "     53  0548  -7.298414e+02   2.127468e+03"
       ]
      },
      {
       "output_type": "stream",
       "stream": "stdout",
       "text": [
        " \r",
        "     53  0549  -7.299853e+02   2.492791e+03"
       ]
      },
      {
       "output_type": "stream",
       "stream": "stdout",
       "text": [
        " \r",
        "     53  0550  -7.301090e+02   9.217527e+02"
       ]
      },
      {
       "output_type": "stream",
       "stream": "stdout",
       "text": [
        " \r",
        "     53  0551  -7.303537e+02   6.227589e+02"
       ]
      },
      {
       "output_type": "stream",
       "stream": "stdout",
       "text": [
        " \r",
        "     54  0552  -7.305273e+02   1.040264e+03"
       ]
      },
      {
       "output_type": "stream",
       "stream": "stdout",
       "text": [
        " \r",
        "     54  0553  -7.307192e+02   7.551639e+03"
       ]
      },
      {
       "output_type": "stream",
       "stream": "stdout",
       "text": [
        " \r",
        "     54  0554  -7.310508e+02   1.126645e+03"
       ]
      },
      {
       "output_type": "stream",
       "stream": "stdout",
       "text": [
        " \r",
        "     54  0555  -7.312056e+02   5.042692e+02"
       ]
      },
      {
       "output_type": "stream",
       "stream": "stdout",
       "text": [
        " \r",
        "     54  0556  -7.313405e+02   8.002230e+02"
       ]
      },
      {
       "output_type": "stream",
       "stream": "stdout",
       "text": [
        " \r",
        "     54  0557  -7.315477e+02   2.654367e+03"
       ]
      },
      {
       "output_type": "stream",
       "stream": "stdout",
       "text": [
        " \r",
        "     54  0558  -7.318321e+02   1.430267e+03"
       ]
      },
      {
       "output_type": "stream",
       "stream": "stdout",
       "text": [
        " \r",
        "     54  0559  -7.321077e+02   9.955947e+02"
       ]
      },
      {
       "output_type": "stream",
       "stream": "stdout",
       "text": [
        " \r",
        "     54  0560  -7.322863e+02   3.048866e+03"
       ]
      },
      {
       "output_type": "stream",
       "stream": "stdout",
       "text": [
        " \r",
        "     54  0561  -7.324899e+02   9.882278e+02"
       ]
      },
      {
       "output_type": "stream",
       "stream": "stdout",
       "text": [
        " \r",
        "     55  0562  -7.326750e+02   1.061750e+03"
       ]
      },
      {
       "output_type": "stream",
       "stream": "stdout",
       "text": [
        " \r",
        "     55  0563  -7.329264e+02   1.459451e+03"
       ]
      },
      {
       "output_type": "stream",
       "stream": "stdout",
       "text": [
        " \r",
        "     55  0564  -7.329633e+02   8.951002e+03"
       ]
      },
      {
       "output_type": "stream",
       "stream": "stdout",
       "text": [
        " \r",
        "     55  0565  -7.332793e+02   9.957914e+02"
       ]
      },
      {
       "output_type": "stream",
       "stream": "stdout",
       "text": [
        " \r",
        "     55  0566  -7.333999e+02   5.475338e+02"
       ]
      },
      {
       "output_type": "stream",
       "stream": "stdout",
       "text": [
        " \r",
        "     55  0567  -7.335669e+02   1.051956e+03"
       ]
      },
      {
       "output_type": "stream",
       "stream": "stdout",
       "text": [
        " \r",
        "     55  0568  -7.337749e+02   1.306204e+03"
       ]
      },
      {
       "output_type": "stream",
       "stream": "stdout",
       "text": [
        " \r",
        "     55  0569  -7.334989e+02   1.991328e+04"
       ]
      },
      {
       "output_type": "stream",
       "stream": "stdout",
       "text": [
        " \r",
        "     55  0570  -7.339091e+02   3.234493e+03"
       ]
      },
      {
       "output_type": "stream",
       "stream": "stdout",
       "text": [
        " \r",
        "     55  0571  -7.341505e+02   8.968650e+02"
       ]
      },
      {
       "output_type": "stream",
       "stream": "stdout",
       "text": [
        " \r",
        "     55  0572  -7.343065e+02   4.975677e+02"
       ]
      },
      {
       "output_type": "stream",
       "stream": "stdout",
       "text": [
        " \r",
        "     56  0573  -7.344886e+02   9.696474e+02"
       ]
      },
      {
       "output_type": "stream",
       "stream": "stdout",
       "text": [
        " \r",
        "     56  0574  -7.345786e+02   3.961705e+03"
       ]
      },
      {
       "output_type": "stream",
       "stream": "stdout",
       "text": [
        " \r",
        "     56  0575  -7.347592e+02   8.200828e+02"
       ]
      },
      {
       "output_type": "stream",
       "stream": "stdout",
       "text": [
        " \r",
        "     56  0576  -7.349172e+02   6.371953e+02"
       ]
      },
      {
       "output_type": "stream",
       "stream": "stdout",
       "text": [
        " \r",
        "     56  0577  -7.350485e+02   9.839465e+02"
       ]
      },
      {
       "output_type": "stream",
       "stream": "stdout",
       "text": [
        " \r",
        "     56  0578  -7.352986e+02   1.397730e+03"
       ]
      },
      {
       "output_type": "stream",
       "stream": "stdout",
       "text": [
        " \r",
        "     56  0579  -7.347977e+02   2.559253e+04"
       ]
      },
      {
       "output_type": "stream",
       "stream": "stdout",
       "text": [
        " \r",
        "     56  0580  -7.354295e+02   2.452036e+03"
       ]
      },
      {
       "output_type": "stream",
       "stream": "stdout",
       "text": [
        " \r",
        "     56  0581  -7.356375e+02   7.699480e+02"
       ]
      },
      {
       "output_type": "stream",
       "stream": "stdout",
       "text": [
        " \r",
        "     56  0582  -7.358030e+02   5.952512e+02"
       ]
      },
      {
       "output_type": "stream",
       "stream": "stdout",
       "text": [
        " \r",
        "     57  0583  -7.360337e+02   1.315632e+03"
       ]
      },
      {
       "output_type": "stream",
       "stream": "stdout",
       "text": [
        " \r",
        "     57  0584  -7.361180e+02   6.783332e+03"
       ]
      },
      {
       "output_type": "stream",
       "stream": "stdout",
       "text": [
        " \r",
        "     57  0585  -7.363660e+02   1.194799e+03"
       ]
      },
      {
       "output_type": "stream",
       "stream": "stdout",
       "text": [
        " \r",
        "     57  0586  -7.365034e+02   5.547085e+02"
       ]
      },
      {
       "output_type": "stream",
       "stream": "stdout",
       "text": [
        " \r",
        "     57  0587  -7.366298e+02   8.795505e+02"
       ]
      },
      {
       "output_type": "stream",
       "stream": "stdout",
       "text": [
        " \r",
        "     57  0588  -7.368215e+02   1.077685e+03"
       ]
      },
      {
       "output_type": "stream",
       "stream": "stdout",
       "text": [
        " \r",
        "     57  0589  -7.364506e+02   2.245798e+04"
       ]
      },
      {
       "output_type": "stream",
       "stream": "stdout",
       "text": [
        " \r",
        "     57  0590  -7.369422e+02   3.009136e+03"
       ]
      },
      {
       "output_type": "stream",
       "stream": "stdout",
       "text": [
        " \r",
        "     57  0591  -7.371479e+02   9.878584e+02"
       ]
      },
      {
       "output_type": "stream",
       "stream": "stdout",
       "text": [
        " \r",
        "     57  0592  -7.373220e+02   5.382085e+02"
       ]
      },
      {
       "output_type": "stream",
       "stream": "stdout",
       "text": [
        " \r",
        "     57  0593  -7.374726e+02   9.667440e+02"
       ]
      },
      {
       "output_type": "stream",
       "stream": "stdout",
       "text": [
        " \r",
        "     58  0594  -7.375910e+02   3.469514e+03"
       ]
      },
      {
       "output_type": "stream",
       "stream": "stdout",
       "text": [
        " \n",
        "\r",
        "     58  0595  -7.377583e+02   9.380094e+02"
       ]
      },
      {
       "output_type": "stream",
       "stream": "stdout",
       "text": [
        " \r",
        "     58  0596  -7.379196e+02   6.092420e+02"
       ]
      },
      {
       "output_type": "stream",
       "stream": "stdout",
       "text": [
        " \r",
        "     58  0597  -7.380292e+02   7.708132e+02"
       ]
      },
      {
       "output_type": "stream",
       "stream": "stdout",
       "text": [
        " \r",
        "     58  0598  -7.382623e+02   2.141961e+03"
       ]
      },
      {
       "output_type": "stream",
       "stream": "stdout",
       "text": [
        " \r",
        "     58  0599  -7.384270e+02   2.257342e+03"
       ]
      },
      {
       "output_type": "stream",
       "stream": "stdout",
       "text": [
        " \r",
        "     58  0600  -7.385911e+02   5.209661e+02"
       ]
      },
      {
       "output_type": "stream",
       "stream": "stdout",
       "text": [
        " \r",
        "     58  0601  -7.387183e+02   6.591173e+02"
       ]
      },
      {
       "output_type": "stream",
       "stream": "stdout",
       "text": [
        " \r",
        "     58  0602  -7.388686e+02   9.740187e+02"
       ]
      },
      {
       "output_type": "stream",
       "stream": "stdout",
       "text": [
        " \r",
        "     58  0603  -7.389061e+02   7.913319e+03"
       ]
      },
      {
       "output_type": "stream",
       "stream": "stdout",
       "text": [
        " \r",
        "     59  0604  -7.392009e+02   6.668845e+02"
       ]
      },
      {
       "output_type": "stream",
       "stream": "stdout",
       "text": [
        " \r",
        "     59  0605  -7.392761e+02   4.545656e+02"
       ]
      },
      {
       "output_type": "stream",
       "stream": "stdout",
       "text": [
        " \r",
        "     59  0606  -7.394124e+02   6.931662e+02"
       ]
      },
      {
       "output_type": "stream",
       "stream": "stdout",
       "text": [
        " \r",
        "     59  0607  -7.395794e+02   1.362720e+03"
       ]
      },
      {
       "output_type": "stream",
       "stream": "stdout",
       "text": [
        " \r",
        "     59  0608  -7.397236e+02   1.966335e+03"
       ]
      },
      {
       "output_type": "stream",
       "stream": "stdout",
       "text": [
        " \r",
        "     59  0609  -7.398653e+02   5.524913e+02"
       ]
      },
      {
       "output_type": "stream",
       "stream": "stdout",
       "text": [
        " \r",
        "     59  0610  -7.400042e+02   7.447858e+02"
       ]
      },
      {
       "output_type": "stream",
       "stream": "stdout",
       "text": [
        " \r",
        "     59  0611  -7.401327e+02   1.083596e+03"
       ]
      },
      {
       "output_type": "stream",
       "stream": "stdout",
       "text": [
        " \r",
        "     59  0612  -7.402328e+02   5.549791e+03"
       ]
      },
      {
       "output_type": "stream",
       "stream": "stdout",
       "text": [
        " \r",
        "     59  0613  -7.404572e+02   6.272864e+02"
       ]
      },
      {
       "output_type": "stream",
       "stream": "stdout",
       "text": [
        " \r",
        "     60  0614  -7.405352e+02   4.936904e+02"
       ]
      },
      {
       "output_type": "stream",
       "stream": "stdout",
       "text": [
        " \r",
        "     60  0615  -7.406597e+02   7.612004e+02"
       ]
      },
      {
       "output_type": "stream",
       "stream": "stdout",
       "text": [
        " \r",
        "     60  0616  -7.408330e+02   2.474064e+03"
       ]
      },
      {
       "output_type": "stream",
       "stream": "stdout",
       "text": [
        " \r",
        "     60  0617  -7.410259e+02   1.029484e+03"
       ]
      },
      {
       "output_type": "stream",
       "stream": "stdout",
       "text": [
        " \r",
        "     60  0618  -7.411719e+02   5.903180e+02"
       ]
      },
      {
       "output_type": "stream",
       "stream": "stdout",
       "text": [
        " \r",
        "     60  0619  -7.413473e+02   1.580858e+03"
       ]
      },
      {
       "output_type": "stream",
       "stream": "stdout",
       "text": [
        " \r",
        "     60  0620  -7.414820e+02   1.328906e+03"
       ]
      },
      {
       "output_type": "stream",
       "stream": "stdout",
       "text": [
        " \r",
        "     60  0621  -7.416030e+02   8.600393e+02"
       ]
      },
      {
       "output_type": "stream",
       "stream": "stdout",
       "text": [
        " \r",
        "     60  0622  -7.417974e+02   1.721431e+03"
       ]
      },
      {
       "output_type": "stream",
       "stream": "stdout",
       "text": [
        " \r",
        "     60  0623  -7.419153e+02   1.348233e+03"
       ]
      },
      {
       "output_type": "stream",
       "stream": "stdout",
       "text": [
        " \r",
        "     60  0624  -7.420054e+02   8.605779e+02"
       ]
      },
      {
       "output_type": "stream",
       "stream": "stdout",
       "text": [
        " \r",
        "     61  0625  -7.422786e+02   1.131970e+03"
       ]
      },
      {
       "output_type": "stream",
       "stream": "stdout",
       "text": [
        " \r",
        "     61  0626  -7.423230e+02   5.130290e+03"
       ]
      },
      {
       "output_type": "stream",
       "stream": "stdout",
       "text": [
        " \r",
        "     61  0627  -7.424681e+02   1.052092e+03"
       ]
      },
      {
       "output_type": "stream",
       "stream": "stdout",
       "text": [
        " \r",
        "     61  0628  -7.425847e+02   3.712918e+02"
       ]
      },
      {
       "output_type": "stream",
       "stream": "stdout",
       "text": [
        " \r",
        "     61  0629  -7.427219e+02   8.762721e+02"
       ]
      },
      {
       "output_type": "stream",
       "stream": "stdout",
       "text": [
        " \r",
        "     61  0630  -7.428818e+02   1.086120e+03"
       ]
      },
      {
       "output_type": "stream",
       "stream": "stdout",
       "text": [
        " \r",
        "     61  0631  -7.430694e+02   8.498031e+03"
       ]
      },
      {
       "output_type": "stream",
       "stream": "stdout",
       "text": [
        " \r",
        "     61  0632  -7.434161e+02   8.634689e+02"
       ]
      },
      {
       "output_type": "stream",
       "stream": "stdout",
       "text": [
        " \r",
        "     61  0633  -7.435440e+02   4.064435e+02"
       ]
      },
      {
       "output_type": "stream",
       "stream": "stdout",
       "text": [
        " \r",
        "     61  0634  -7.436821e+02   7.159446e+02"
       ]
      },
      {
       "output_type": "stream",
       "stream": "stdout",
       "text": [
        " \r",
        "     62  0635  -7.437914e+02   3.771785e+03"
       ]
      },
      {
       "output_type": "stream",
       "stream": "stdout",
       "text": [
        " \r",
        "     62  0636  -7.439756e+02   1.118318e+03"
       ]
      },
      {
       "output_type": "stream",
       "stream": "stdout",
       "text": [
        " \r",
        "     62  0637  -7.441723e+02   5.592418e+02"
       ]
      },
      {
       "output_type": "stream",
       "stream": "stdout",
       "text": [
        " \r",
        "     62  0638  -7.442911e+02   7.204597e+02"
       ]
      },
      {
       "output_type": "stream",
       "stream": "stdout",
       "text": [
        " \r",
        "     62  0639  -7.443530e+02   5.642589e+03"
       ]
      },
      {
       "output_type": "stream",
       "stream": "stdout",
       "text": [
        " \r",
        "     62  0640  -7.445623e+02   7.424650e+02"
       ]
      },
      {
       "output_type": "stream",
       "stream": "stdout",
       "text": [
        " \r",
        "     62  0641  -7.446772e+02   4.784931e+02"
       ]
      },
      {
       "output_type": "stream",
       "stream": "stdout",
       "text": [
        " \r",
        "     62  0642  -7.448244e+02   8.394167e+02"
       ]
      },
      {
       "output_type": "stream",
       "stream": "stdout",
       "text": [
        " \r",
        "     62  0643  -7.450359e+02   1.282669e+03"
       ]
      },
      {
       "output_type": "stream",
       "stream": "stdout",
       "text": [
        " \r",
        "     62  0644  -7.449674e+02   9.950636e+03"
       ]
      },
      {
       "output_type": "stream",
       "stream": "stdout",
       "text": [
        " \r",
        "     62  0645  -7.451767e+02   1.933817e+03"
       ]
      },
      {
       "output_type": "stream",
       "stream": "stdout",
       "text": [
        " \r",
        "     63  0646  -7.453373e+02   5.229692e+02"
       ]
      },
      {
       "output_type": "stream",
       "stream": "stdout",
       "text": [
        " \r",
        "     63  0647  -7.454457e+02   5.820894e+02"
       ]
      },
      {
       "output_type": "stream",
       "stream": "stdout",
       "text": [
        " \r",
        "     63  0648  -7.456030e+02   1.541397e+03"
       ]
      },
      {
       "output_type": "stream",
       "stream": "stdout",
       "text": [
        " \r",
        "     63  0649  -7.457219e+02   1.999515e+03"
       ]
      },
      {
       "output_type": "stream",
       "stream": "stdout",
       "text": [
        " \r",
        "     63  0650  -7.458366e+02   5.797164e+02"
       ]
      },
      {
       "output_type": "stream",
       "stream": "stdout",
       "text": [
        " \r",
        "     63  0651  -7.459569e+02   6.477448e+02"
       ]
      },
      {
       "output_type": "stream",
       "stream": "stdout",
       "text": [
        " \r",
        "     63  0652  -7.460493e+02   8.744788e+02"
       ]
      },
      {
       "output_type": "stream",
       "stream": "stdout",
       "text": [
        " \r",
        "     63  0653  -7.461328e+02   6.992493e+03"
       ]
      },
      {
       "output_type": "stream",
       "stream": "stdout",
       "text": [
        " \r",
        "     63  0654  -7.463667e+02   6.777646e+02"
       ]
      },
      {
       "output_type": "stream",
       "stream": "stdout",
       "text": [
        " \r",
        "     63  0655  -7.464349e+02   3.976000e+02"
       ]
      },
      {
       "output_type": "stream",
       "stream": "stdout",
       "text": [
        " \r",
        "     63  0656  -7.465323e+02   6.486493e+02"
       ]
      },
      {
       "output_type": "stream",
       "stream": "stdout",
       "text": [
        " \r",
        "     64  0657  -7.466659e+02   1.081324e+03"
       ]
      },
      {
       "output_type": "stream",
       "stream": "stdout",
       "text": [
        " \r",
        "     64  0658  -7.467591e+02   3.638157e+03"
       ]
      },
      {
       "output_type": "stream",
       "stream": "stdout",
       "text": [
        " \r",
        "     64  0659  -7.469293e+02   5.158427e+02"
       ]
      },
      {
       "output_type": "stream",
       "stream": "stdout",
       "text": [
        " \r",
        "     64  0660  -7.470050e+02   4.779063e+02"
       ]
      },
      {
       "output_type": "stream",
       "stream": "stdout",
       "text": [
        " \r",
        "     64  0661  -7.471052e+02   6.636337e+02"
       ]
      },
      {
       "output_type": "stream",
       "stream": "stdout",
       "text": [
        " \r",
        "     64  0662  -7.472646e+02   2.195666e+03"
       ]
      },
      {
       "output_type": "stream",
       "stream": "stdout",
       "text": [
        " \r",
        "     64  0663  -7.474223e+02   9.810275e+02"
       ]
      },
      {
       "output_type": "stream",
       "stream": "stdout",
       "text": [
        " \r",
        "     64  0664  -7.475312e+02   4.581135e+02"
       ]
      },
      {
       "output_type": "stream",
       "stream": "stdout",
       "text": [
        " \r",
        "     64  0665  -7.476881e+02   8.280962e+02"
       ]
      },
      {
       "output_type": "stream",
       "stream": "stdout",
       "text": [
        " \r",
        "     64  0666  -7.477666e+02   2.793328e+03"
       ]
      },
      {
       "output_type": "stream",
       "stream": "stdout",
       "text": [
        " \r",
        "     65  0667  -7.478875e+02   9.414647e+02"
       ]
      },
      {
       "output_type": "stream",
       "stream": "stdout",
       "text": [
        " \r",
        "     65  0668  -7.480446e+02   5.010210e+02"
       ]
      },
      {
       "output_type": "stream",
       "stream": "stdout",
       "text": [
        " \r",
        "     65  0669  -7.481227e+02   5.244971e+02"
       ]
      },
      {
       "output_type": "stream",
       "stream": "stdout",
       "text": [
        " \r",
        "     65  0670  -7.482678e+02   4.125015e+03"
       ]
      },
      {
       "output_type": "stream",
       "stream": "stdout",
       "text": [
        " \r",
        "     65  0671  -7.484344e+02   6.023902e+02"
       ]
      },
      {
       "output_type": "stream",
       "stream": "stdout",
       "text": [
        " \r",
        "     65  0672  -7.485015e+02   3.493631e+02"
       ]
      },
      {
       "output_type": "stream",
       "stream": "stdout",
       "text": [
        " \r",
        "     65  0673  -7.486071e+02   5.334721e+02"
       ]
      },
      {
       "output_type": "stream",
       "stream": "stdout",
       "text": [
        " \r",
        "     65  0674  -7.486772e+02   3.802777e+03"
       ]
      },
      {
       "output_type": "stream",
       "stream": "stdout",
       "text": [
        " \r",
        "     65  0675  -7.488020e+02   9.232243e+02"
       ]
      },
      {
       "output_type": "stream",
       "stream": "stdout",
       "text": [
        " \r",
        "     65  0676  -7.488947e+02   3.782827e+02"
       ]
      },
      {
       "output_type": "stream",
       "stream": "stdout",
       "text": [
        " \r",
        "     65  0677  -7.489554e+02   5.525197e+02"
       ]
      },
      {
       "output_type": "stream",
       "stream": "stdout",
       "text": [
        " \r",
        "     66  0678  -7.490870e+02   9.013236e+02"
       ]
      },
      {
       "output_type": "stream",
       "stream": "stdout",
       "text": [
        " \r",
        "     66  0679  -7.491340e+02   5.128893e+03"
       ]
      },
      {
       "output_type": "stream",
       "stream": "stdout",
       "text": [
        " \r",
        "     66  0680  -7.493250e+02   6.113850e+02"
       ]
      },
      {
       "output_type": "stream",
       "stream": "stdout",
       "text": [
        " \r",
        "     66  0681  -7.494012e+02   4.089989e+02"
       ]
      },
      {
       "output_type": "stream",
       "stream": "stdout",
       "text": [
        " \r",
        "     66  0682  -7.495090e+02   6.353187e+02"
       ]
      },
      {
       "output_type": "stream",
       "stream": "stdout",
       "text": [
        " \r",
        "     66  0683  -7.496515e+02   1.170565e+03"
       ]
      },
      {
       "output_type": "stream",
       "stream": "stdout",
       "text": [
        " \r",
        "     66  0684  -7.497519e+02   2.745033e+03"
       ]
      },
      {
       "output_type": "stream",
       "stream": "stdout",
       "text": [
        " \r",
        "     66  0685  -7.498958e+02   5.263050e+02"
       ]
      },
      {
       "output_type": "stream",
       "stream": "stdout",
       "text": [
        " \r",
        "     66  0686  -7.499958e+02   6.524308e+02"
       ]
      },
      {
       "output_type": "stream",
       "stream": "stdout",
       "text": [
        " \r",
        "     66  0687  -7.501069e+02   8.971836e+02"
       ]
      },
      {
       "output_type": "stream",
       "stream": "stdout",
       "text": [
        " \r",
        "     66  0688  -7.502275e+02   5.466907e+03"
       ]
      },
      {
       "output_type": "stream",
       "stream": "stdout",
       "text": [
        " \r",
        "     67  0689  -7.504300e+02   8.685408e+02"
       ]
      },
      {
       "output_type": "stream",
       "stream": "stdout",
       "text": [
        " \r",
        "     67  0690  -7.505257e+02   4.458381e+02"
       ]
      },
      {
       "output_type": "stream",
       "stream": "stdout",
       "text": [
        " \r",
        "     67  0691  -7.506271e+02   8.249173e+02"
       ]
      },
      {
       "output_type": "stream",
       "stream": "stdout",
       "text": [
        " \r",
        "     67  0692  -7.507537e+02   1.214090e+03"
       ]
      },
      {
       "output_type": "stream",
       "stream": "stdout",
       "text": [
        " \r",
        "     67  0693  -7.507646e+02   7.581494e+03"
       ]
      },
      {
       "output_type": "stream",
       "stream": "stdout",
       "text": [
        " \r",
        "     67  0694  -7.508648e+02   2.333939e+03"
       ]
      },
      {
       "output_type": "stream",
       "stream": "stdout",
       "text": [
        " \r",
        "     67  0695  -7.510061e+02   6.737510e+02"
       ]
      },
      {
       "output_type": "stream",
       "stream": "stdout",
       "text": [
        " \r",
        "     67  0696  -7.511143e+02   4.689153e+02"
       ]
      },
      {
       "output_type": "stream",
       "stream": "stdout",
       "text": [
        " \r",
        "     67  0697  -7.512146e+02   7.949053e+02"
       ]
      },
      {
       "output_type": "stream",
       "stream": "stdout",
       "text": [
        " \r",
        "     67  0698  -7.513252e+02   2.839578e+03"
       ]
      },
      {
       "output_type": "stream",
       "stream": "stdout",
       "text": [
        " \r",
        "     68  0699  -7.514721e+02   8.807504e+02"
       ]
      },
      {
       "output_type": "stream",
       "stream": "stdout",
       "text": [
        " \r",
        "     68  0700  -7.516039e+02   6.609425e+02"
       ]
      },
      {
       "output_type": "stream",
       "stream": "stdout",
       "text": [
        " \r",
        "     68  0701  -7.517176e+02   8.505845e+02"
       ]
      },
      {
       "output_type": "stream",
       "stream": "stdout",
       "text": [
        " \r",
        "     68  0702  -7.518536e+02   3.601724e+03"
       ]
      },
      {
       "output_type": "stream",
       "stream": "stdout",
       "text": [
        " \r",
        "     68  0703  -7.520292e+02   8.274446e+02"
       ]
      },
      {
       "output_type": "stream",
       "stream": "stdout",
       "text": [
        " \r",
        "     68  0704  -7.521445e+02   6.003322e+02"
       ]
      },
      {
       "output_type": "stream",
       "stream": "stdout",
       "text": [
        " \r",
        "     68  0705  -7.522941e+02   8.966874e+02"
       ]
      },
      {
       "output_type": "stream",
       "stream": "stdout",
       "text": [
        " \r",
        "     68  0706  -7.524110e+02   3.478703e+03"
       ]
      },
      {
       "output_type": "stream",
       "stream": "stdout",
       "text": [
        " \r",
        "     68  0707  -7.525746e+02   8.194617e+02"
       ]
      },
      {
       "output_type": "stream",
       "stream": "stdout",
       "text": [
        " \r",
        "     68  0708  -7.526896e+02   5.052932e+02"
       ]
      },
      {
       "output_type": "stream",
       "stream": "stdout",
       "text": [
        " \r",
        "     69  0709  -7.527917e+02   8.136531e+02"
       ]
      },
      {
       "output_type": "stream",
       "stream": "stdout",
       "text": [
        " \r",
        "     69  0710  -7.529050e+02   2.434011e+03"
       ]
      },
      {
       "output_type": "stream",
       "stream": "stdout",
       "text": [
        " \r",
        "     69  0711  -7.530368e+02   6.545799e+02"
       ]
      },
      {
       "output_type": "stream",
       "stream": "stdout",
       "text": [
        " \r",
        "     69  0712  -7.531426e+02   5.300809e+02"
       ]
      },
      {
       "output_type": "stream",
       "stream": "stdout",
       "text": [
        " \r",
        "     69  0713  -7.532424e+02   7.825320e+02"
       ]
      },
      {
       "output_type": "stream",
       "stream": "stdout",
       "text": [
        " \r",
        "     69  0714  -7.533170e+02   4.106085e+03"
       ]
      },
      {
       "output_type": "stream",
       "stream": "stdout",
       "text": [
        " \r",
        "     69  0715  -7.534685e+02   5.988528e+02"
       ]
      },
      {
       "output_type": "stream",
       "stream": "stdout",
       "text": [
        " \r",
        "     69  0716  -7.535410e+02   4.356830e+02"
       ]
      },
      {
       "output_type": "stream",
       "stream": "stdout",
       "text": [
        " \r",
        "     69  0717  -7.536254e+02   6.048409e+02"
       ]
      },
      {
       "output_type": "stream",
       "stream": "stdout",
       "text": [
        " \r",
        "     69  0718  -7.537652e+02   1.451492e+03"
       ]
      },
      {
       "output_type": "stream",
       "stream": "stdout",
       "text": [
        " \r",
        "     69  0719  -7.538664e+02   1.773692e+03"
       ]
      },
      {
       "output_type": "stream",
       "stream": "stdout",
       "text": [
        " \r",
        "     70  0720  -7.539705e+02   4.105332e+02"
       ]
      },
      {
       "output_type": "stream",
       "stream": "stdout",
       "text": [
        " \r",
        "     70  0721  -7.540480e+02   4.626044e+02"
       ]
      },
      {
       "output_type": "stream",
       "stream": "stdout",
       "text": [
        " \r",
        "     70  0722  -7.541395e+02   7.368768e+02"
       ]
      },
      {
       "output_type": "stream",
       "stream": "stdout",
       "text": [
        " \r",
        "     70  0723  -7.542067e+02   4.801437e+03"
       ]
      },
      {
       "output_type": "stream",
       "stream": "stdout",
       "text": [
        " \r",
        "     70  0724  -7.543755e+02   6.285498e+02"
       ]
      },
      {
       "output_type": "stream",
       "stream": "stdout",
       "text": [
        " \r",
        "     70  0725  -7.544416e+02   4.342883e+02"
       ]
      },
      {
       "output_type": "stream",
       "stream": "stdout",
       "text": [
        " \r",
        "     70  0726  -7.545332e+02   6.531162e+02"
       ]
      },
      {
       "output_type": "stream",
       "stream": "stdout",
       "text": [
        " \r",
        "     70  0727  -7.546705e+02   1.004049e+03"
       ]
      },
      {
       "output_type": "stream",
       "stream": "stdout",
       "text": [
        " \r",
        "     70  0728  -7.546704e+02   7.222771e+03"
       ]
      },
      {
       "output_type": "stream",
       "stream": "stdout",
       "text": [
        " \r",
        "     70  0729  -7.547712e+02   1.960873e+03"
       ]
      },
      {
       "output_type": "stream",
       "stream": "stdout",
       "text": [
        " \r",
        "     70  0730  -7.548973e+02   6.486533e+02"
       ]
      },
      {
       "output_type": "stream",
       "stream": "stdout",
       "text": [
        " \r",
        "     71  0731  -7.550095e+02   4.948903e+02"
       ]
      },
      {
       "output_type": "stream",
       "stream": "stdout",
       "text": [
        " \r",
        "     71  0732  -7.551153e+02   9.384397e+02"
       ]
      },
      {
       "output_type": "stream",
       "stream": "stdout",
       "text": [
        " \r",
        "     71  0733  -7.552239e+02   1.546188e+03"
       ]
      },
      {
       "output_type": "stream",
       "stream": "stdout",
       "text": [
        " \r",
        "     71  0734  -7.553357e+02   5.626934e+02"
       ]
      },
      {
       "output_type": "stream",
       "stream": "stdout",
       "text": [
        " \r",
        "     71  0735  -7.554464e+02   6.392183e+02"
       ]
      },
      {
       "output_type": "stream",
       "stream": "stdout",
       "text": [
        " \r",
        "     71  0736  -7.555513e+02   8.306952e+02"
       ]
      },
      {
       "output_type": "stream",
       "stream": "stdout",
       "text": [
        " \r",
        "     71  0737  -7.555938e+02   6.706947e+03"
       ]
      },
      {
       "output_type": "stream",
       "stream": "stdout",
       "text": [
        " \r",
        "     71  0738  -7.558069e+02   7.238934e+02"
       ]
      },
      {
       "output_type": "stream",
       "stream": "stdout",
       "text": [
        " \r",
        "     71  0739  -7.558775e+02   4.610842e+02"
       ]
      },
      {
       "output_type": "stream",
       "stream": "stdout",
       "text": [
        " \r",
        "     71  0740  -7.559872e+02   7.378947e+02"
       ]
      },
      {
       "output_type": "stream",
       "stream": "stdout",
       "text": [
        " \r",
        "     72  0741  -7.561497e+02   1.295863e+03"
       ]
      },
      {
       "output_type": "stream",
       "stream": "stdout",
       "text": [
        " \r",
        "     72  0742  -7.562383e+02   4.372526e+03"
       ]
      },
      {
       "output_type": "stream",
       "stream": "stdout",
       "text": [
        " \r",
        "     72  0743  -7.564105e+02   5.795301e+02"
       ]
      },
      {
       "output_type": "stream",
       "stream": "stdout",
       "text": [
        " \r",
        "     72  0744  -7.564766e+02   4.754382e+02"
       ]
      },
      {
       "output_type": "stream",
       "stream": "stdout",
       "text": [
        " \r",
        "     72  0745  -7.565781e+02   7.307773e+02"
       ]
      },
      {
       "output_type": "stream",
       "stream": "stdout",
       "text": [
        " \r",
        "     72  0746  -7.567203e+02   2.746077e+03"
       ]
      },
      {
       "output_type": "stream",
       "stream": "stdout",
       "text": [
        " \r",
        "     72  0747  -7.568742e+02   9.606336e+02"
       ]
      },
      {
       "output_type": "stream",
       "stream": "stdout",
       "text": [
        " \r",
        "     72  0748  -7.569865e+02   5.704191e+02"
       ]
      },
      {
       "output_type": "stream",
       "stream": "stdout",
       "text": [
        " \r",
        "     72  0749  -7.571132e+02   1.254774e+03"
       ]
      },
      {
       "output_type": "stream",
       "stream": "stdout",
       "text": [
        " \r",
        "     72  0750  -7.572327e+02   1.315923e+03"
       ]
      },
      {
       "output_type": "stream",
       "stream": "stdout",
       "text": [
        " \r",
        "     72  0751  -7.573664e+02   9.458575e+02"
       ]
      },
      {
       "output_type": "stream",
       "stream": "stdout",
       "text": [
        " \r",
        "     73  0752  -7.575319e+02   3.099649e+03"
       ]
      },
      {
       "output_type": "stream",
       "stream": "stdout",
       "text": [
        " \r",
        "     73  0753  -7.576895e+02   1.085247e+03"
       ]
      },
      {
       "output_type": "stream",
       "stream": "stdout",
       "text": [
        " \r",
        "     73  0754  -7.577866e+02   7.734006e+02"
       ]
      },
      {
       "output_type": "stream",
       "stream": "stdout",
       "text": [
        " \r",
        "     73  0755  -7.580105e+02   1.559262e+03"
       ]
      },
      {
       "output_type": "stream",
       "stream": "stdout",
       "text": [
        " \r",
        "     73  0756  -7.581025e+02   4.065710e+03"
       ]
      },
      {
       "output_type": "stream",
       "stream": "stdout",
       "text": [
        " \r",
        "     73  0757  -7.582344e+02   1.068945e+03"
       ]
      },
      {
       "output_type": "stream",
       "stream": "stdout",
       "text": [
        " \r",
        "     73  0758  -7.583879e+02   5.666495e+02"
       ]
      },
      {
       "output_type": "stream",
       "stream": "stdout",
       "text": [
        " \r",
        "     73  0759  -7.584986e+02   9.086659e+02"
       ]
      },
      {
       "output_type": "stream",
       "stream": "stdout",
       "text": [
        " \r",
        "     73  0760  -7.586944e+02   2.189476e+03"
       ]
      },
      {
       "output_type": "stream",
       "stream": "stdout",
       "text": [
        " \r",
        "     73  0761  -7.588541e+02   2.124747e+03"
       ]
      },
      {
       "output_type": "stream",
       "stream": "stdout",
       "text": [
        " \r",
        "     73  0762  -7.589948e+02   4.941231e+02"
       ]
      },
      {
       "output_type": "stream",
       "stream": "stdout",
       "text": [
        " \r",
        "     74  0763  -7.590958e+02   6.363652e+02"
       ]
      },
      {
       "output_type": "stream",
       "stream": "stdout",
       "text": [
        " \r",
        "     74  0764  -7.592086e+02   1.161401e+03"
       ]
      },
      {
       "output_type": "stream",
       "stream": "stdout",
       "text": [
        " \r",
        "     74  0765  -7.593153e+02   2.014121e+03"
       ]
      },
      {
       "output_type": "stream",
       "stream": "stdout",
       "text": [
        " \r",
        "     74  0766  -7.594225e+02   4.335522e+02"
       ]
      },
      {
       "output_type": "stream",
       "stream": "stdout",
       "text": [
        " \r",
        "     74  0767  -7.594959e+02   5.500534e+02"
       ]
      },
      {
       "output_type": "stream",
       "stream": "stdout",
       "text": [
        " \r",
        "     74  0768  -7.595866e+02   8.043163e+02"
       ]
      },
      {
       "output_type": "stream",
       "stream": "stdout",
       "text": [
        " \r",
        "     74  0769  -7.596187e+02   6.530072e+03"
       ]
      },
      {
       "output_type": "stream",
       "stream": "stdout",
       "text": [
        " \r",
        "     74  0770  -7.597990e+02   6.273537e+02"
       ]
      },
      {
       "output_type": "stream",
       "stream": "stdout",
       "text": [
        " \r",
        "     74  0771  -7.598540e+02   3.493938e+02"
       ]
      },
      {
       "output_type": "stream",
       "stream": "stdout",
       "text": [
        " \r",
        "     74  0772  -7.599314e+02   5.600503e+02"
       ]
      },
      {
       "output_type": "stream",
       "stream": "stdout",
       "text": [
        " \r",
        "     75  0773  -7.600553e+02   1.029986e+03"
       ]
      },
      {
       "output_type": "stream",
       "stream": "stdout",
       "text": [
        " \r",
        "     75  0774  -7.601267e+02   4.528040e+03"
       ]
      },
      {
       "output_type": "stream",
       "stream": "stdout",
       "text": [
        " \r",
        "     75  0775  -7.603057e+02   6.010622e+02"
       ]
      },
      {
       "output_type": "stream",
       "stream": "stdout",
       "text": [
        " \r",
        "     75  0776  -7.603746e+02   5.091480e+02"
       ]
      },
      {
       "output_type": "stream",
       "stream": "stdout",
       "text": [
        " \r",
        "     75  0777  -7.604885e+02   6.814704e+02"
       ]
      },
      {
       "output_type": "stream",
       "stream": "stdout",
       "text": [
        " \r",
        "     75  0778  -7.606036e+02   3.890180e+03"
       ]
      },
      {
       "output_type": "stream",
       "stream": "stdout",
       "text": [
        " \r",
        "     75  0779  -7.607662e+02   7.967385e+02"
       ]
      },
      {
       "output_type": "stream",
       "stream": "stdout",
       "text": [
        " \r",
        "     75  0780  -7.608696e+02   5.453184e+02"
       ]
      },
      {
       "output_type": "stream",
       "stream": "stdout",
       "text": [
        " \r",
        "     75  0781  -7.609981e+02   7.494668e+02"
       ]
      },
      {
       "output_type": "stream",
       "stream": "stdout",
       "text": [
        " \r",
        "     75  0782  -7.610948e+02   4.440719e+03"
       ]
      },
      {
       "output_type": "stream",
       "stream": "stdout",
       "text": [
        " \r",
        "     75  0783  -7.612505e+02   8.673298e+02"
       ]
      },
      {
       "output_type": "stream",
       "stream": "stdout",
       "text": [
        " \r",
        "     76  0784  -7.613448e+02   4.359077e+02"
       ]
      },
      {
       "output_type": "stream",
       "stream": "stdout",
       "text": [
        " \r",
        "     76  0785  -7.614252e+02   6.891206e+02"
       ]
      },
      {
       "output_type": "stream",
       "stream": "stdout",
       "text": [
        " \r",
        "     76  0786  -7.615613e+02   1.554395e+03"
       ]
      },
      {
       "output_type": "stream",
       "stream": "stdout",
       "text": [
        " \r",
        "     76  0787  -7.616853e+02   1.654741e+03"
       ]
      },
      {
       "output_type": "stream",
       "stream": "stdout",
       "text": [
        " \r",
        "     76  0788  -7.617930e+02   5.631082e+02"
       ]
      },
      {
       "output_type": "stream",
       "stream": "stdout",
       "text": [
        " \r",
        "     76  0789  -7.618909e+02   6.079584e+02"
       ]
      },
      {
       "output_type": "stream",
       "stream": "stdout",
       "text": [
        " \r",
        "     76  0790  -7.619789e+02   8.691361e+02"
       ]
      },
      {
       "output_type": "stream",
       "stream": "stdout",
       "text": [
        " \r",
        "     76  0791  -7.621143e+02   2.128025e+03"
       ]
      },
      {
       "output_type": "stream",
       "stream": "stdout",
       "text": [
        " \r",
        "     76  0792  -7.622278e+02   1.102231e+03"
       ]
      },
      {
       "output_type": "stream",
       "stream": "stdout",
       "text": [
        " \r",
        "     76  0793  -7.623090e+02   6.261736e+02"
       ]
      },
      {
       "output_type": "stream",
       "stream": "stdout",
       "text": [
        " \r",
        "     77  0794  -7.624255e+02   6.732848e+02"
       ]
      },
      {
       "output_type": "stream",
       "stream": "stdout",
       "text": [
        " \r",
        "     77  0795  -7.625504e+02   1.623128e+03"
       ]
      },
      {
       "output_type": "stream",
       "stream": "stdout",
       "text": [
        " \r",
        "     77  0796  -7.627014e+02   1.156279e+03"
       ]
      },
      {
       "output_type": "stream",
       "stream": "stdout",
       "text": [
        " \r",
        "     77  0797  -7.628350e+02   6.430981e+02"
       ]
      },
      {
       "output_type": "stream",
       "stream": "stdout",
       "text": [
        " \r",
        "     77  0798  -7.630162e+02   1.037359e+03"
       ]
      },
      {
       "output_type": "stream",
       "stream": "stdout",
       "text": [
        " \r",
        "     77  0799  -7.630762e+02   4.241475e+03"
       ]
      },
      {
       "output_type": "stream",
       "stream": "stdout",
       "text": [
        " \r",
        "     77  0800  -7.632104e+02   8.545634e+02"
       ]
      },
      {
       "output_type": "stream",
       "stream": "stdout",
       "text": [
        " \r",
        "     77  0801  -7.633046e+02   5.482039e+02"
       ]
      },
      {
       "output_type": "stream",
       "stream": "stdout",
       "text": [
        " \r",
        "     77  0802  -7.633976e+02   7.621622e+02"
       ]
      },
      {
       "output_type": "stream",
       "stream": "stdout",
       "text": [
        " \r",
        "     77  0803  -7.635844e+02   1.464451e+03"
       ]
      },
      {
       "output_type": "stream",
       "stream": "stdout",
       "text": [
        " \r",
        "     77  0804  -7.635478e+02   8.045477e+03"
       ]
      },
      {
       "output_type": "stream",
       "stream": "stdout",
       "text": [
        " \r",
        "     78  0805  -7.636907e+02   1.561550e+03"
       ]
      },
      {
       "output_type": "stream",
       "stream": "stdout",
       "text": [
        " \r",
        "     78  0806  -7.638095e+02   5.280933e+02"
       ]
      },
      {
       "output_type": "stream",
       "stream": "stdout",
       "text": [
        " \r",
        "     78  0807  -7.639080e+02   6.318041e+02"
       ]
      },
      {
       "output_type": "stream",
       "stream": "stdout",
       "text": [
        " \r",
        "     78  0808  -7.640357e+02   2.611321e+03"
       ]
      },
      {
       "output_type": "stream",
       "stream": "stdout",
       "text": [
        " \r",
        "     78  0809  -7.641702e+02   1.132361e+03"
       ]
      },
      {
       "output_type": "stream",
       "stream": "stdout",
       "text": [
        " \r",
        "     78  0810  -7.642843e+02   6.125322e+02"
       ]
      },
      {
       "output_type": "stream",
       "stream": "stdout",
       "text": [
        " \r",
        "     78  0811  -7.643869e+02   1.103702e+03"
       ]
      },
      {
       "output_type": "stream",
       "stream": "stdout",
       "text": [
        " \r",
        "     78  0812  -7.644954e+02   1.327620e+03"
       ]
      },
      {
       "output_type": "stream",
       "stream": "stdout",
       "text": [
        " \r",
        "     78  0813  -7.646267e+02   9.292019e+02"
       ]
      },
      {
       "output_type": "stream",
       "stream": "stdout",
       "text": [
        " \r",
        "     78  0814  -7.647683e+02   4.209989e+03"
       ]
      },
      {
       "output_type": "stream",
       "stream": "stdout",
       "text": [
        " \r",
        "     79  0815  -7.649350e+02   8.024371e+02"
       ]
      },
      {
       "output_type": "stream",
       "stream": "stdout",
       "text": [
        " \r",
        "     79  0816  -7.649998e+02   5.254693e+02"
       ]
      },
      {
       "output_type": "stream",
       "stream": "stdout",
       "text": [
        " \r",
        "     79  0817  -7.651436e+02   9.204971e+02"
       ]
      },
      {
       "output_type": "stream",
       "stream": "stdout",
       "text": [
        " \r",
        "     79  0818  -7.652055e+02   4.529245e+03"
       ]
      },
      {
       "output_type": "stream",
       "stream": "stdout",
       "text": [
        " \r",
        "     79  0819  -7.653409e+02   8.855592e+02"
       ]
      },
      {
       "output_type": "stream",
       "stream": "stdout",
       "text": [
        " \r",
        "     79  0820  -7.654470e+02   4.871815e+02"
       ]
      },
      {
       "output_type": "stream",
       "stream": "stdout",
       "text": [
        " \r",
        "     79  0821  -7.655355e+02   6.738516e+02"
       ]
      },
      {
       "output_type": "stream",
       "stream": "stdout",
       "text": [
        " \r",
        "     79  0822  -7.657037e+02   1.265103e+03"
       ]
      },
      {
       "output_type": "stream",
       "stream": "stdout",
       "text": [
        " \r",
        "     79  0823  -7.656981e+02   7.264627e+03"
       ]
      },
      {
       "output_type": "stream",
       "stream": "stdout",
       "text": [
        " \r",
        "     79  0824  -7.658092e+02   1.529474e+03"
       ]
      },
      {
       "output_type": "stream",
       "stream": "stdout",
       "text": [
        " \r",
        "     80  0825  -7.659155e+02   5.085008e+02"
       ]
      },
      {
       "output_type": "stream",
       "stream": "stdout",
       "text": [
        " \r",
        "     80  0826  -7.660023e+02   5.970043e+02"
       ]
      },
      {
       "output_type": "stream",
       "stream": "stdout",
       "text": [
        " \r",
        "     80  0827  -7.661111e+02   1.659301e+03"
       ]
      },
      {
       "output_type": "stream",
       "stream": "stdout",
       "text": [
        " \r",
        "     80  0828  -7.662251e+02   9.506942e+02"
       ]
      },
      {
       "output_type": "stream",
       "stream": "stdout",
       "text": [
        " \r",
        "     80  0829  -7.663393e+02   6.853922e+02"
       ]
      },
      {
       "output_type": "stream",
       "stream": "stdout",
       "text": [
        " \r",
        "     80  0830  -7.664695e+02   1.381254e+03"
       ]
      },
      {
       "output_type": "stream",
       "stream": "stdout",
       "text": [
        " \r",
        "     80  0831  -7.665927e+02   1.352953e+03"
       ]
      },
      {
       "output_type": "stream",
       "stream": "stdout",
       "text": [
        " \r",
        "     80  0832  -7.667087e+02   7.680980e+02"
       ]
      },
      {
       "output_type": "stream",
       "stream": "stdout",
       "text": [
        " \r",
        "     80  0833  -7.668535e+02   1.103648e+03"
       ]
      },
      {
       "output_type": "stream",
       "stream": "stdout",
       "text": [
        " \r",
        "     80  0834  -7.669804e+02   1.281923e+03"
       ]
      },
      {
       "output_type": "stream",
       "stream": "stdout",
       "text": [
        " \r",
        "     80  0835  -7.671407e+02   1.189040e+03"
       ]
      },
      {
       "output_type": "stream",
       "stream": "stdout",
       "text": [
        " \r",
        "     81  0836  -7.672045e+02   6.748642e+03"
       ]
      },
      {
       "output_type": "stream",
       "stream": "stdout",
       "text": [
        " \r",
        "     81  0837  -7.673885e+02   6.840590e+02"
       ]
      },
      {
       "output_type": "stream",
       "stream": "stdout",
       "text": [
        " \r",
        "     81  0838  -7.674536e+02   4.814151e+02"
       ]
      },
      {
       "output_type": "stream",
       "stream": "stdout",
       "text": [
        " \r",
        "     81  0839  -7.675629e+02   8.946472e+02"
       ]
      },
      {
       "output_type": "stream",
       "stream": "stdout",
       "text": [
        " \r",
        "     81  0840  -7.676919e+02   1.147701e+03"
       ]
      },
      {
       "output_type": "stream",
       "stream": "stdout",
       "text": [
        " \r",
        "     81  0841  -7.677124e+02   5.990089e+03"
       ]
      },
      {
       "output_type": "stream",
       "stream": "stdout",
       "text": [
        " \r",
        "     81  0842  -7.679054e+02   4.349758e+02"
       ]
      },
      {
       "output_type": "stream",
       "stream": "stdout",
       "text": [
        " \r",
        "     81  0843  -7.679542e+02   3.939102e+02"
       ]
      },
      {
       "output_type": "stream",
       "stream": "stdout",
       "text": [
        " \r",
        "     81  0844  -7.680480e+02   6.188063e+02"
       ]
      },
      {
       "output_type": "stream",
       "stream": "stdout",
       "text": [
        " \r",
        "     81  0845  -7.680957e+02   4.760771e+03"
       ]
      },
      {
       "output_type": "stream",
       "stream": "stdout",
       "text": [
        " \r",
        "     82  0846  -7.682337e+02   6.996635e+02"
       ]
      },
      {
       "output_type": "stream",
       "stream": "stdout",
       "text": [
        " \r",
        "     82  0847  -7.683112e+02   3.867120e+02"
       ]
      },
      {
       "output_type": "stream",
       "stream": "stdout",
       "text": [
        " \r",
        "     82  0848  -7.683859e+02   6.000557e+02"
       ]
      },
      {
       "output_type": "stream",
       "stream": "stdout",
       "text": [
        " \r",
        "     82  0849  -7.685193e+02   7.736321e+02"
       ]
      },
      {
       "output_type": "stream",
       "stream": "stdout",
       "text": [
        " \r",
        "     82  0850  -7.683167e+02   1.812521e+04"
       ]
      },
      {
       "output_type": "stream",
       "stream": "stdout",
       "text": [
        " \r",
        "     82  0851  -7.686022e+02   2.491648e+03"
       ]
      },
      {
       "output_type": "stream",
       "stream": "stdout",
       "text": [
        " \r",
        "     82  0852  -7.687580e+02   6.476170e+02"
       ]
      },
      {
       "output_type": "stream",
       "stream": "stdout",
       "text": [
        " \r",
        "     82  0853  -7.688485e+02   4.621137e+02"
       ]
      },
      {
       "output_type": "stream",
       "stream": "stdout",
       "text": [
        " \r",
        "     82  0854  -7.689599e+02   1.296812e+03"
       ]
      },
      {
       "output_type": "stream",
       "stream": "stdout",
       "text": [
        " \r",
        "     82  0855  -7.690540e+02   8.690190e+02"
       ]
      },
      {
       "output_type": "stream",
       "stream": "stdout",
       "text": [
        " \r",
        "     82  0856  -7.691366e+02   6.352820e+02"
       ]
      },
      {
       "output_type": "stream",
       "stream": "stdout",
       "text": [
        " \r",
        "     83  0857  -7.692605e+02   1.621483e+03"
       ]
      },
      {
       "output_type": "stream",
       "stream": "stdout",
       "text": [
        " \r",
        "     83  0858  -7.693582e+02   1.033169e+03"
       ]
      },
      {
       "output_type": "stream",
       "stream": "stdout",
       "text": [
        " \r",
        "     83  0859  -7.694353e+02   7.316178e+02"
       ]
      },
      {
       "output_type": "stream",
       "stream": "stdout",
       "text": [
        " \r",
        "     83  0860  -7.695773e+02   1.725333e+03"
       ]
      },
      {
       "output_type": "stream",
       "stream": "stdout",
       "text": [
        " \r",
        "     83  0861  -7.696530e+02   1.612720e+03"
       ]
      },
      {
       "output_type": "stream",
       "stream": "stdout",
       "text": [
        " \r",
        "     83  0862  -7.697209e+02   5.839200e+02"
       ]
      },
      {
       "output_type": "stream",
       "stream": "stdout",
       "text": [
        " \r",
        "     83  0863  -7.698315e+02   4.236692e+02"
       ]
      },
      {
       "output_type": "stream",
       "stream": "stdout",
       "text": [
        " \r",
        "     83  0864  -7.699022e+02   4.745851e+02"
       ]
      },
      {
       "output_type": "stream",
       "stream": "stdout",
       "text": [
        " \r",
        "     83  0865  -7.698194e+02   1.140310e+04"
       ]
      },
      {
       "output_type": "stream",
       "stream": "stdout",
       "text": [
        " \r",
        "     83  0866  -7.699727e+02   1.987381e+03"
       ]
      },
      {
       "output_type": "stream",
       "stream": "stdout",
       "text": [
        " \r",
        "     84  0867  -7.700901e+02   4.179505e+02"
       ]
      },
      {
       "output_type": "stream",
       "stream": "stdout",
       "text": [
        " \r",
        "     84  0868  -7.701505e+02   3.002654e+02"
       ]
      },
      {
       "output_type": "stream",
       "stream": "stdout",
       "text": [
        " \r",
        "     84  0869  -7.702340e+02   1.271287e+03"
       ]
      },
      {
       "output_type": "stream",
       "stream": "stdout",
       "text": [
        " \r",
        "     84  0870  -7.703074e+02   7.729928e+02"
       ]
      },
      {
       "output_type": "stream",
       "stream": "stdout",
       "text": [
        " \r",
        "     84  0871  -7.703670e+02   4.809741e+02"
       ]
      },
      {
       "output_type": "stream",
       "stream": "stdout",
       "text": [
        " \r",
        "     84  0872  -7.704674e+02   6.678246e+02"
       ]
      },
      {
       "output_type": "stream",
       "stream": "stdout",
       "text": [
        " \r",
        "     84  0873  -7.705351e+02   1.492218e+03"
       ]
      },
      {
       "output_type": "stream",
       "stream": "stdout",
       "text": [
        " \r",
        "     84  0874  -7.706084e+02   8.242687e+02"
       ]
      },
      {
       "output_type": "stream",
       "stream": "stdout",
       "text": [
        " \r",
        "     84  0875  -7.707571e+02   8.584123e+02"
       ]
      },
      {
       "output_type": "stream",
       "stream": "stdout",
       "text": [
        " \r",
        "     84  0876  -7.708303e+02   1.130735e+03"
       ]
      },
      {
       "output_type": "stream",
       "stream": "stdout",
       "text": [
        " \r",
        "     85  0877  -7.709218e+02   1.094300e+03"
       ]
      },
      {
       "output_type": "stream",
       "stream": "stdout",
       "text": [
        " \r",
        "     85  0878  -7.710633e+02   6.053858e+03"
       ]
      },
      {
       "output_type": "stream",
       "stream": "stdout",
       "text": [
        " \r",
        "     85  0879  -7.712362e+02   9.460185e+02"
       ]
      },
      {
       "output_type": "stream",
       "stream": "stdout",
       "text": [
        " \r",
        "     85  0880  -7.712972e+02   4.777978e+02"
       ]
      },
      {
       "output_type": "stream",
       "stream": "stdout",
       "text": [
        " \r",
        "     85  0881  -7.714316e+02   4.054713e+02"
       ]
      },
      {
       "output_type": "stream",
       "stream": "stdout",
       "text": [
        " \r",
        "     85  0882  -7.714713e+02   5.206944e+03"
       ]
      },
      {
       "output_type": "stream",
       "stream": "stdout",
       "text": [
        " \r",
        "     85  0883  -7.716013e+02   7.963547e+02"
       ]
      },
      {
       "output_type": "stream",
       "stream": "stdout",
       "text": [
        " \r",
        "     85  0884  -7.716689e+02   3.834530e+02"
       ]
      },
      {
       "output_type": "stream",
       "stream": "stdout",
       "text": [
        " \r",
        "     85  0885  -7.717471e+02   6.925548e+02"
       ]
      },
      {
       "output_type": "stream",
       "stream": "stdout",
       "text": [
        " \r",
        "     85  0886  -7.718596e+02   8.542551e+02"
       ]
      },
      {
       "output_type": "stream",
       "stream": "stdout",
       "text": [
        " \r",
        "     85  0887  -7.717522e+02   1.319613e+04"
       ]
      },
      {
       "output_type": "stream",
       "stream": "stdout",
       "text": [
        " \r",
        "     86  0888  -7.719266e+02   2.262367e+03"
       ]
      },
      {
       "output_type": "stream",
       "stream": "stdout",
       "text": [
        " \r",
        "     86  0889  -7.720510e+02   5.926185e+02"
       ]
      },
      {
       "output_type": "stream",
       "stream": "stdout",
       "text": [
        " \r",
        "     86  0890  -7.721361e+02   4.002356e+02"
       ]
      },
      {
       "output_type": "stream",
       "stream": "stdout",
       "text": [
        " \r",
        "     86  0891  -7.722611e+02   1.171645e+03"
       ]
      },
      {
       "output_type": "stream",
       "stream": "stdout",
       "text": [
        " \r",
        "     86  0892  -7.723603e+02   2.036805e+03"
       ]
      },
      {
       "output_type": "stream",
       "stream": "stdout",
       "text": [
        " \r",
        "     86  0893  -7.724666e+02   7.465925e+02"
       ]
      },
      {
       "output_type": "stream",
       "stream": "stdout",
       "text": [
        " \r",
        "     86  0894  -7.725955e+02   6.829265e+02"
       ]
      },
      {
       "output_type": "stream",
       "stream": "stdout",
       "text": [
        " \r",
        "     86  0895  -7.726830e+02   9.314534e+02"
       ]
      },
      {
       "output_type": "stream",
       "stream": "stdout",
       "text": [
        " \r",
        "     86  0896  -7.728246e+02   1.215697e+03"
       ]
      },
      {
       "output_type": "stream",
       "stream": "stdout",
       "text": [
        " \r",
        "     86  0897  -7.729494e+02   8.551980e+02"
       ]
      },
      {
       "output_type": "stream",
       "stream": "stdout",
       "text": [
        " \r",
        "     86  0898  -7.730688e+02   9.090658e+02"
       ]
      },
      {
       "output_type": "stream",
       "stream": "stdout",
       "text": [
        " \r",
        "     87  0899  -7.731917e+02   1.586132e+03"
       ]
      },
      {
       "output_type": "stream",
       "stream": "stdout",
       "text": [
        " \r",
        "     87  0900  -7.732883e+02   1.643605e+03"
       ]
      },
      {
       "output_type": "stream",
       "stream": "stdout",
       "text": [
        " \r",
        "     87  0901  -7.733725e+02   4.970447e+02"
       ]
      },
      {
       "output_type": "stream",
       "stream": "stdout",
       "text": [
        " \r",
        "     87  0902  -7.734552e+02   4.944267e+02"
       ]
      },
      {
       "output_type": "stream",
       "stream": "stdout",
       "text": [
        " \r",
        "     87  0903  -7.735289e+02   6.501898e+02"
       ]
      },
      {
       "output_type": "stream",
       "stream": "stdout",
       "text": [
        " \r",
        "     87  0904  -7.735848e+02   5.990824e+03"
       ]
      },
      {
       "output_type": "stream",
       "stream": "stdout",
       "text": [
        " \r",
        "     87  0905  -7.737571e+02   5.814826e+02"
       ]
      },
      {
       "output_type": "stream",
       "stream": "stdout",
       "text": [
        " \r",
        "     87  0906  -7.738048e+02   4.081752e+02"
       ]
      },
      {
       "output_type": "stream",
       "stream": "stdout",
       "text": [
        " \r",
        "     87  0907  -7.738823e+02   5.154204e+02"
       ]
      },
      {
       "output_type": "stream",
       "stream": "stdout",
       "text": [
        " \r",
        "     87  0908  -7.739532e+02   3.869275e+03"
       ]
      },
      {
       "output_type": "stream",
       "stream": "stdout",
       "text": [
        " \r",
        "     88  0909  -7.740681e+02   8.410482e+02"
       ]
      },
      {
       "output_type": "stream",
       "stream": "stdout",
       "text": [
        " \r",
        "     88  0910  -7.741443e+02   4.232552e+02"
       ]
      },
      {
       "output_type": "stream",
       "stream": "stdout",
       "text": [
        " \r",
        "     88  0911  -7.742074e+02   5.697309e+02"
       ]
      },
      {
       "output_type": "stream",
       "stream": "stdout",
       "text": [
        " \r",
        "     88  0912  -7.743150e+02   7.797472e+02"
       ]
      },
      {
       "output_type": "stream",
       "stream": "stdout",
       "text": [
        " \r",
        "     88  0913  -7.741810e+02   1.314689e+04"
       ]
      },
      {
       "output_type": "stream",
       "stream": "stdout",
       "text": [
        " \r",
        "     88  0914  -7.743777e+02   1.822015e+03"
       ]
      },
      {
       "output_type": "stream",
       "stream": "stdout",
       "text": [
        " \r",
        "     88  0915  -7.744752e+02   5.820677e+02"
       ]
      },
      {
       "output_type": "stream",
       "stream": "stdout",
       "text": [
        " \r",
        "     88  0916  -7.745522e+02   3.692511e+02"
       ]
      },
      {
       "output_type": "stream",
       "stream": "stdout",
       "text": [
        " \r",
        "     88  0917  -7.746468e+02   6.967693e+02"
       ]
      },
      {
       "output_type": "stream",
       "stream": "stdout",
       "text": [
        " \r",
        "     88  0918  -7.746879e+02   3.172551e+03"
       ]
      },
      {
       "output_type": "stream",
       "stream": "stdout",
       "text": [
        " \r",
        "     89  0919  -7.747849e+02   5.058674e+02"
       ]
      },
      {
       "output_type": "stream",
       "stream": "stdout",
       "text": [
        " \r",
        "     89  0920  -7.748376e+02   3.775331e+02"
       ]
      },
      {
       "output_type": "stream",
       "stream": "stdout",
       "text": [
        " \r",
        "     89  0921  -7.748968e+02   5.452364e+02"
       ]
      },
      {
       "output_type": "stream",
       "stream": "stdout",
       "text": [
        " \r",
        "     89  0922  -7.750094e+02   1.072655e+03"
       ]
      },
      {
       "output_type": "stream",
       "stream": "stdout",
       "text": [
        " \r",
        "     89  0923  -7.750014e+02   5.710796e+03"
       ]
      },
      {
       "output_type": "stream",
       "stream": "stdout",
       "text": [
        " \r",
        "     89  0924  -7.750804e+02   1.313632e+03"
       ]
      },
      {
       "output_type": "stream",
       "stream": "stdout",
       "text": [
        " \r",
        "     89  0925  -7.751638e+02   4.764029e+02"
       ]
      },
      {
       "output_type": "stream",
       "stream": "stdout",
       "text": [
        " \r",
        "     89  0926  -7.752347e+02   4.259521e+02"
       ]
      },
      {
       "output_type": "stream",
       "stream": "stdout",
       "text": [
        " \r",
        "     89  0927  -7.753217e+02   1.147303e+03"
       ]
      },
      {
       "output_type": "stream",
       "stream": "stdout",
       "text": [
        " \r",
        "     89  0928  -7.754059e+02   1.258089e+03"
       ]
      },
      {
       "output_type": "stream",
       "stream": "stdout",
       "text": [
        " \r",
        "     90  0929  -7.754808e+02   5.652561e+02"
       ]
      },
      {
       "output_type": "stream",
       "stream": "stdout",
       "text": [
        " \r",
        "     90  0930  -7.755824e+02   6.513540e+02"
       ]
      },
      {
       "output_type": "stream",
       "stream": "stdout",
       "text": [
        " \r",
        "     90  0931  -7.756435e+02   1.035166e+03"
       ]
      },
      {
       "output_type": "stream",
       "stream": "stdout",
       "text": [
        " \r",
        "     90  0932  -7.757284e+02   7.747764e+02"
       ]
      },
      {
       "output_type": "stream",
       "stream": "stdout",
       "text": [
        " \r",
        "     90  0933  -7.758365e+02   2.456126e+03"
       ]
      },
      {
       "output_type": "stream",
       "stream": "stdout",
       "text": [
        " \r",
        "     90  0934  -7.759504e+02   7.224563e+02"
       ]
      },
      {
       "output_type": "stream",
       "stream": "stdout",
       "text": [
        " \r",
        "     90  0935  -7.760064e+02   6.098959e+02"
       ]
      },
      {
       "output_type": "stream",
       "stream": "stdout",
       "text": [
        " \r",
        "     90  0936  -7.761266e+02   2.271644e+03"
       ]
      },
      {
       "output_type": "stream",
       "stream": "stdout",
       "text": [
        " \r",
        "     90  0937  -7.762347e+02   1.234312e+03"
       ]
      },
      {
       "output_type": "stream",
       "stream": "stdout",
       "text": [
        " \r",
        "     90  0938  -7.763072e+02   6.332612e+02"
       ]
      },
      {
       "output_type": "stream",
       "stream": "stdout",
       "text": [
        " \r",
        "     90  0939  -7.764412e+02   7.747481e+02"
       ]
      },
      {
       "output_type": "stream",
       "stream": "stdout",
       "text": [
        " \r",
        "     91  0940  -7.765115e+02   2.665817e+03"
       ]
      },
      {
       "output_type": "stream",
       "stream": "stdout",
       "text": [
        " \r",
        "     91  0941  -7.766045e+02   9.544117e+02"
       ]
      },
      {
       "output_type": "stream",
       "stream": "stdout",
       "text": [
        " \r",
        "     91  0942  -7.767260e+02   5.284206e+02"
       ]
      },
      {
       "output_type": "stream",
       "stream": "stdout",
       "text": [
        " \r",
        "     91  0943  -7.767936e+02   6.071658e+02"
       ]
      },
      {
       "output_type": "stream",
       "stream": "stdout",
       "text": [
        " \r",
        "     91  0944  -7.767864e+02   9.882470e+03"
       ]
      },
      {
       "output_type": "stream",
       "stream": "stdout",
       "text": [
        " \r",
        "     91  0945  -7.768904e+02   2.524157e+03"
       ]
      },
      {
       "output_type": "stream",
       "stream": "stdout",
       "text": [
        " \r",
        "     91  0946  -7.770267e+02   5.031178e+02"
       ]
      },
      {
       "output_type": "stream",
       "stream": "stdout",
       "text": [
        " \r",
        "     91  0947  -7.770907e+02   3.684369e+02"
       ]
      },
      {
       "output_type": "stream",
       "stream": "stdout",
       "text": [
        " \r",
        "     91  0948  -7.771868e+02   7.200679e+02"
       ]
      },
      {
       "output_type": "stream",
       "stream": "stdout",
       "text": [
        " \r",
        "     91  0949  -7.772253e+02   4.057516e+03"
       ]
      },
      {
       "output_type": "stream",
       "stream": "stdout",
       "text": [
        " \r",
        "     92  0950  -7.773422e+02   5.999984e+02"
       ]
      },
      {
       "output_type": "stream",
       "stream": "stdout",
       "text": [
        " \r",
        "     92  0951  -7.774208e+02   3.664151e+02"
       ]
      },
      {
       "output_type": "stream",
       "stream": "stdout",
       "text": [
        " \r",
        "     92  0952  -7.774906e+02   6.073574e+02"
       ]
      },
      {
       "output_type": "stream",
       "stream": "stdout",
       "text": [
        " \r",
        "     92  0953  -7.776198e+02   1.980945e+03"
       ]
      },
      {
       "output_type": "stream",
       "stream": "stdout",
       "text": [
        " \r",
        "     92  0954  -7.777501e+02   9.592477e+02"
       ]
      },
      {
       "output_type": "stream",
       "stream": "stdout",
       "text": [
        " \r",
        "     92  0955  -7.778303e+02   3.892655e+02"
       ]
      },
      {
       "output_type": "stream",
       "stream": "stdout",
       "text": [
        " \r",
        "     92  0956  -7.779161e+02   6.675192e+02"
       ]
      },
      {
       "output_type": "stream",
       "stream": "stdout",
       "text": [
        " \r",
        "     92  0957  -7.779920e+02   1.592035e+03"
       ]
      },
      {
       "output_type": "stream",
       "stream": "stdout",
       "text": [
        " \r",
        "     92  0958  -7.781021e+02   8.593860e+02"
       ]
      },
      {
       "output_type": "stream",
       "stream": "stdout",
       "text": [
        " \r",
        "     92  0959  -7.782245e+02   9.582076e+02"
       ]
      },
      {
       "output_type": "stream",
       "stream": "stdout",
       "text": [
        " \r",
        "     93  0960  -7.783032e+02   1.034137e+03"
       ]
      },
      {
       "output_type": "stream",
       "stream": "stdout",
       "text": [
        " \r",
        "     93  0961  -7.783687e+02   6.609588e+02"
       ]
      },
      {
       "output_type": "stream",
       "stream": "stdout",
       "text": [
        " \r",
        "     93  0962  -7.785170e+02   8.514826e+02"
       ]
      },
      {
       "output_type": "stream",
       "stream": "stdout",
       "text": [
        " \r",
        "     93  0963  -7.785981e+02   2.133303e+03"
       ]
      },
      {
       "output_type": "stream",
       "stream": "stdout",
       "text": [
        " \r",
        "     93  0964  -7.786753e+02   8.564252e+02"
       ]
      },
      {
       "output_type": "stream",
       "stream": "stdout",
       "text": [
        " \r",
        "     93  0965  -7.787840e+02   4.483418e+02"
       ]
      },
      {
       "output_type": "stream",
       "stream": "stdout",
       "text": [
        " \r",
        "     93  0966  -7.788441e+02   7.307873e+02"
       ]
      },
      {
       "output_type": "stream",
       "stream": "stdout",
       "text": [
        " \r",
        "     93  0967  -7.789525e+02   7.419699e+02"
       ]
      },
      {
       "output_type": "stream",
       "stream": "stdout",
       "text": [
        " \r",
        "     93  0968  -7.790475e+02   2.033846e+03"
       ]
      },
      {
       "output_type": "stream",
       "stream": "stdout",
       "text": [
        " \r",
        "     93  0969  -7.791572e+02   8.181073e+02"
       ]
      },
      {
       "output_type": "stream",
       "stream": "stdout",
       "text": [
        " \r",
        "     93  0970  -7.792738e+02   6.954992e+02"
       ]
      },
      {
       "output_type": "stream",
       "stream": "stdout",
       "text": [
        " \r",
        "     94  0971  -7.793436e+02   1.393240e+03"
       ]
      },
      {
       "output_type": "stream",
       "stream": "stdout",
       "text": [
        " \r",
        "     94  0972  -7.794300e+02   7.931210e+02"
       ]
      },
      {
       "output_type": "stream",
       "stream": "stdout",
       "text": [
        " \r",
        "     94  0973  -7.795713e+02   7.976179e+02"
       ]
      },
      {
       "output_type": "stream",
       "stream": "stdout",
       "text": [
        " \r",
        "     94  0974  -7.796635e+02   2.663439e+03"
       ]
      },
      {
       "output_type": "stream",
       "stream": "stdout",
       "text": [
        " \r",
        "     94  0975  -7.797711e+02   9.101782e+02"
       ]
      },
      {
       "output_type": "stream",
       "stream": "stdout",
       "text": [
        " \r",
        "     94  0976  -7.798737e+02   6.187055e+02"
       ]
      },
      {
       "output_type": "stream",
       "stream": "stdout",
       "text": [
        " \r",
        "     94  0977  -7.799504e+02   8.541387e+02"
       ]
      },
      {
       "output_type": "stream",
       "stream": "stdout",
       "text": [
        " \r",
        "     94  0978  -7.800725e+02   1.774448e+03"
       ]
      },
      {
       "output_type": "stream",
       "stream": "stdout",
       "text": [
        " \r",
        "     94  0979  -7.801795e+02   6.526419e+02"
       ]
      },
      {
       "output_type": "stream",
       "stream": "stdout",
       "text": [
        " \r",
        "     94  0980  -7.802625e+02   6.551365e+02"
       ]
      },
      {
       "output_type": "stream",
       "stream": "stdout",
       "text": [
        " \r",
        "     95  0981  -7.803463e+02   1.201352e+03"
       ]
      },
      {
       "output_type": "stream",
       "stream": "stdout",
       "text": [
        " \r",
        "     95  0982  -7.804635e+02   1.146331e+03"
       ]
      },
      {
       "output_type": "stream",
       "stream": "stdout",
       "text": [
        " \r",
        "     95  0983  -7.805765e+02   9.322694e+02"
       ]
      },
      {
       "output_type": "stream",
       "stream": "stdout",
       "text": [
        " \r",
        "     95  0984  -7.806878e+02   1.016982e+03"
       ]
      },
      {
       "output_type": "stream",
       "stream": "stdout",
       "text": [
        " \r",
        "     95  0985  -7.807700e+02   9.220713e+02"
       ]
      },
      {
       "output_type": "stream",
       "stream": "stdout",
       "text": [
        " \r",
        "     95  0986  -7.808678e+02   7.606860e+02"
       ]
      },
      {
       "output_type": "stream",
       "stream": "stdout",
       "text": [
        " \r",
        "     95  0987  -7.810126e+02   1.834020e+03"
       ]
      },
      {
       "output_type": "stream",
       "stream": "stdout",
       "text": [
        " \r",
        "     95  0988  -7.811028e+02   2.239860e+03"
       ]
      },
      {
       "output_type": "stream",
       "stream": "stdout",
       "text": [
        " \r",
        "     95  0989  -7.811937e+02   7.154282e+02"
       ]
      },
      {
       "output_type": "stream",
       "stream": "stdout",
       "text": [
        " \r",
        "     95  0990  -7.813019e+02   6.298490e+02"
       ]
      },
      {
       "output_type": "stream",
       "stream": "stdout",
       "text": [
        " \r",
        "     95  0991  -7.814016e+02   7.999773e+02"
       ]
      },
      {
       "output_type": "stream",
       "stream": "stdout",
       "text": [
        " \r",
        "     96  0992  -7.814599e+02   7.966246e+03"
       ]
      },
      {
       "output_type": "stream",
       "stream": "stdout",
       "text": [
        " \r",
        "     96  0993  -7.816545e+02   7.097196e+02"
       ]
      },
      {
       "output_type": "stream",
       "stream": "stdout",
       "text": [
        " \r",
        "     96  0994  -7.817170e+02   4.078224e+02"
       ]
      },
      {
       "output_type": "stream",
       "stream": "stdout",
       "text": [
        " \r",
        "     96  0995  -7.818071e+02   5.785890e+02"
       ]
      },
      {
       "output_type": "stream",
       "stream": "stdout",
       "text": [
        " \r",
        "     96  0996  -7.819098e+02   1.547962e+03"
       ]
      },
      {
       "output_type": "stream",
       "stream": "stdout",
       "text": [
        " \r",
        "     96  0997  -7.820245e+02   7.430401e+02"
       ]
      },
      {
       "output_type": "stream",
       "stream": "stdout",
       "text": [
        " \r",
        "     96  0998  -7.821022e+02   4.877203e+02"
       ]
      },
      {
       "output_type": "stream",
       "stream": "stdout",
       "text": [
        " \r",
        "     96  0999  -7.821905e+02   7.981532e+02"
       ]
      },
      {
       "output_type": "stream",
       "stream": "stdout",
       "text": [
        " \r",
        "     96  1000  -7.822618e+02   9.546395e+02"
       ]
      },
      {
       "output_type": "stream",
       "stream": "stdout",
       "text": [
        " \r",
        "     96  1001  -7.823543e+02   7.222718e+02"
       ]
      },
      {
       "output_type": "stream",
       "stream": "stdout",
       "text": [
        " \r",
        "     96  1002  -7.823543e+02   7.222718e+02"
       ]
      },
      {
       "output_type": "stream",
       "stream": "stdout",
       "text": [
        "\n",
        "Optimization finished in 96.48 Seconds\n",
        "\n",
        "[[-0.93275971  0.20591837 -0.4610867   0.66199318  1.16663132  1.47692188\n",
        "  -0.08402013]]"
       ]
      },
      {
       "output_type": "stream",
       "stream": "stdout",
       "text": [
        "\n",
        "use left and right mouse buttons to select dimensions\n"
       ]
      },
      {
       "name": "stdout",
       "output_type": "stream",
       "stream": "stdout",
       "text": [
        "Press enter to finish\n"
       ]
      },
      {
       "html": [
        "<style type=\"text/css\">\n",
        ".pd{\n",
        "    font-family: \"Courier New\", Courier, monospace !important;\n",
        "    width: 100%;\n",
        "    padding: 3px;\n",
        "}\n",
        "</style>\n",
        "\n",
        "<p class=pd>\n",
        "<b>Model</b>: bayesian gplvm<br>\n",
        "<b>Log-likelihood</b>: 782.458919874<br>\n",
        "<b>Number of Parameters</b>: 3089<br>\n",
        "<b>Updates</b>: True<br>\n",
        "</p>\n",
        "<style type=\"text/css\">\n",
        ".tg  {font-family:\"Courier New\", Courier, monospace !important;padding:2px 3px;word-break:normal;border-collapse:collapse;border-spacing:0;border-color:#DCDCDC;margin:0px auto;width:100%;}\n",
        ".tg td{font-family:\"Courier New\", Courier, monospace !important;font-weight:bold;color:#444;background-color:#F7FDFA;border-style:solid;border-width:1px;overflow:hidden;word-break:normal;border-color:#DCDCDC;}\n",
        ".tg th{font-family:\"Courier New\", Courier, monospace !important;font-weight:normal;color:#fff;background-color:#26ADE4;border-style:solid;border-width:1px;overflow:hidden;word-break:normal;border-color:#DCDCDC;}\n",
        ".tg .tg-left{font-family:\"Courier New\", Courier, monospace !important;font-weight:normal;text-align:left;}\n",
        ".tg .tg-right{font-family:\"Courier New\", Courier, monospace !important;font-weight:normal;text-align:right;}\n",
        "</style>\n",
        "<table class=\"tg\">\n",
        "<tr>\n",
        "  <th><b>bayesian_gplvm.</b></th>\n",
        "  <th><b>Value</b></th>\n",
        "  <th><b>Constraint</b></th>\n",
        "  <th><b>Prior</b></th>\n",
        "  <th><b>Tied to</b></th>\n",
        "</tr>\n",
        "<tr><td class=tg-left>latent space_1.mean    </td><td class=tg-right>         (200, 7)</td><td class=tg-left>          </td><td class=tg-left>     </td><td class=tg-left>       </td></tr>\n",
        "<tr><td class=tg-left>latent space_1.variance</td><td class=tg-right>         (200, 7)</td><td class=tg-left>   +ve    </td><td class=tg-left>     </td><td class=tg-left>       </td></tr>\n",
        "<tr><td class=tg-left>inducing inputs        </td><td class=tg-right>          (40, 7)</td><td class=tg-left>          </td><td class=tg-left>     </td><td class=tg-left>       </td></tr>\n",
        "<tr><td class=tg-left>rbf.variance           </td><td class=tg-right>    2.23004727201</td><td class=tg-left>   +ve    </td><td class=tg-left>     </td><td class=tg-left>       </td></tr>\n",
        "<tr><td class=tg-left>rbf.lengthscale        </td><td class=tg-right>             (7,)</td><td class=tg-left>   +ve    </td><td class=tg-left>     </td><td class=tg-left>       </td></tr>\n",
        "<tr><td class=tg-left>Gaussian_noise.variance</td><td class=tg-right>0.000940014759403</td><td class=tg-left>   +ve    </td><td class=tg-left>     </td><td class=tg-left>       </td></tr>\n",
        "</table>"
       ],
       "metadata": {},
       "output_type": "pyout",
       "prompt_number": 35,
       "text": [
        "<GPy.models.bayesian_gplvm.BayesianGPLVM at 0x110c41950>"
       ]
      }
     ],
     "prompt_number": 35
    },
    {
     "cell_type": "markdown",
     "metadata": {},
     "source": [
      "**Questions**\n",
      "\n",
      "* Can you see a difference in the ARD parameters to the non Bayesian GPLVM?\n",
      "* How does the Bayesian GPLVM allow the ARD parameters of the RBF kernel magnify the two first dimensions?\n",
      "* Is Bayesian GPLVM better in differentiating between different kinds of digits?\n",
      "* Why does the starting noise variance have to be lower then the variance of the observed values?\n",
      "* How come we use the lowest variance when using a linear kernel, but the highest lengtscale when using an RBF kernel?"
     ]
    },
    {
     "cell_type": "heading",
     "level": 2,
     "metadata": {},
     "source": [
      "References"
     ]
    },
    {
     "cell_type": "markdown",
     "metadata": {},
     "source": [
      "C. M. Bishop. Pattern recognition and machine learning, volume 1. springer New York, 2006.\n",
      "\n",
      "T. de Campos, B. R. Babu, and M. Varma. Character recognition in natural images. VISAPP 2009.\n",
      "\n",
      "N. D. Lawrence. Probabilistic non-linear principal component analysis with Gaussian process latent variable models. In Journal of Machine Learning Research 6, pp 1783--1816, 2005"
     ]
    }
   ],
   "metadata": {}
  }
 ]
}
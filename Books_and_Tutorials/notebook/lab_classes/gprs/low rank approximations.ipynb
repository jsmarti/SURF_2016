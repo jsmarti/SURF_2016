{
 "metadata": {
  "name": "",
  "signature": "sha256:cca7df3778414be6ed71f2d5da083a906dea73e58bd2125ed98a63bf0b3a1da0"
 },
 "nbformat": 3,
 "nbformat_minor": 0,
 "worksheets": [
  {
   "cells": [
    {
     "cell_type": "markdown",
     "metadata": {},
     "source": [
      "# Low Rank Approximations\n",
      "\n",
      "# Gaussian Process Summer School, Melbourne, Australia\n",
      "### 25th-27th February 2015\n",
      "### written by Neil D. Lawrence and James Hensman\n",
      "\n",
      "In this lab we are going to consider low rank approximations to Gaussian process models."
     ]
    },
    {
     "cell_type": "code",
     "collapsed": false,
     "input": [
      "%matplotlib inline\n",
      "import numpy as np\n",
      "import matplotlib.pyplot as plt\n",
      "import GPy\n",
      "import pods"
     ],
     "language": "python",
     "metadata": {},
     "outputs": [
      {
       "output_type": "stream",
       "stream": "stdout",
       "text": [
        "Populating the interactive namespace from numpy and matplotlib\n"
       ]
      }
     ],
     "prompt_number": 1
    },
    {
     "cell_type": "markdown",
     "metadata": {},
     "source": [
      "## Low Rank Approximations\n",
      "\n",
      "In the worst case, inference in a Gaussian process is $\\mathcal{O}(n^3)$ computational complexity and $\\mathcal{O}(n^2)$ storage. For efficient inference in larger data sets we need to consider approximations. One approach is low rank approximation of the covariance matrix (also known as sparse approximations or perhaps more accurately parsimonious approximations). We'll study these approximations by first creating a simple data set by sampling from a GP."
     ]
    },
    {
     "cell_type": "code",
     "collapsed": false,
     "input": [
      "X = np.sort(np.random.rand(50,1)*12,0)\n",
      "k = GPy.kern.RBF(1)\n",
      "K = k.K(X)\n",
      "K+= np.eye(50)*0.01 # add some independence (noise) to K\n",
      "y = np.random.multivariate_normal(np.zeros(50), K).reshape(50,1)"
     ],
     "language": "python",
     "metadata": {},
     "outputs": [],
     "prompt_number": 21
    },
    {
     "cell_type": "markdown",
     "metadata": {},
     "source": [
      "Build a straightforward GP model of our simulation. We\u2019ll also plot the posterior of $f$."
     ]
    },
    {
     "cell_type": "code",
     "collapsed": false,
     "input": [
      "m = GPy.models.GPRegression(X,y)\n",
      "m.optimize()\n",
      "fig = plt.figure()\n",
      "ax = fig.add_subplot(111)\n",
      "m.plot_f(ax=ax)\n",
      "m._raw_predict?\n",
      "mu, var = m._raw_predict(X) # this fetches the posterior of f\n",
      "\n",
      "plt.vlines(X[:,0], mu[:,0]-2.*np.sqrt(var[:,0]), mu[:,0]+2.*np.sqrt(var[:,0]),color='r',lw=2)"
     ],
     "language": "python",
     "metadata": {},
     "outputs": [
      {
       "metadata": {},
       "output_type": "pyout",
       "prompt_number": 22,
       "text": [
        "<matplotlib.collections.LineCollection at 0x1115ec990>"
       ]
      },
      {
       "metadata": {},
       "output_type": "display_data",
       "png": "[encoded data removed]",
       "text": [
        "<matplotlib.figure.Figure at 0x111579910>"
       ]
      }
     ],
     "prompt_number": 22
    },
    {
     "cell_type": "markdown",
     "metadata": {},
     "source": [
      "### Exercise 1\n",
      "\n",
      "One thought that occurs is as follows. Do we need all the data to create this posterior estimate? Are any of the data points redundant? What happens to the model if you remove some data?\n",
      "\n",
      "*Hint:* \n",
      "```python\n",
      "X2 = np.delete(X,range(8),0)\n",
      "y2 = np.delete(y,range(8),0)\n",
      "```"
     ]
    },
    {
     "cell_type": "code",
     "collapsed": false,
     "input": [
      "# Exercise 2 answer here"
     ],
     "language": "python",
     "metadata": {},
     "outputs": [],
     "prompt_number": 25
    },
    {
     "cell_type": "markdown",
     "metadata": {},
     "source": [
      "### Building the Low Rank Approximation\n",
      "\n",
      "Now we\u2019ll consider a GP that uses a low rank approximation to fit the data."
     ]
    },
    {
     "cell_type": "code",
     "collapsed": false,
     "input": [
      "from IPython.display import display\n",
      "Z = np.random.rand(3,1)*12\n",
      "m = GPy.models.SparseGPRegression(X,y,Z=Z)\n",
      "display(m)"
     ],
     "language": "python",
     "metadata": {},
     "outputs": [
      {
       "output_type": "stream",
       "stream": "stdout",
       "text": [
        "creating /var/folders/22/6ls22g994bdfdpwx4f9gcmsw0000gn/T/scipy-neil-tKO4Yo/python27_intermediate/compiler_08f57918657bc3b6af9ef49d104a532a\n"
       ]
      },
      {
       "output_type": "stream",
       "stream": "stdout",
       "text": [
        "clang: warning: argument unused during compilation: '-fopenmp'\n",
        "In file included from /Users/neil/.cache/scipy/python27_compiled/sc_1790bf65208b11355ffcfd4b65a5f1090.cpp:11:\n",
        "In file included from /Users/neil/Library/Enthought/Canopy_64bit/User/lib/python2.7/site-packages/scipy/weave/blitz/blitz/array.h:26:\n",
        "In file included from /Users/neil/Library/Enthought/Canopy_64bit/User/lib/python2.7/site-packages/scipy/weave/blitz/blitz/array-impl.h:37:\n",
        "/Users/neil/Library/Enthought/Canopy_64bit/User/lib/python2.7/site-packages/scipy/weave/blitz/blitz/range.h:120:34: warning: '&&' within '||' [-Wlogical-op-parentheses]\n",
        "        return ((first_ < last_) && (stride_ == 1) || (first_ == last_));\n",
        "                ~~~~~~~~~~~~~~~~~^~~~~~~~~~~~~~~~~ ~~\n",
        "/Users/neil/Library/Enthought/Canopy_64bit/User/lib/python2.7/site-packages/scipy/weave/blitz/blitz/range.h:120:34: note: place parentheses around the '&&' expression to silence this warning\n",
        "        return ((first_ < last_) && (stride_ == 1) || (first_ == last_));\n",
        "                                 ^\n",
        "                (                                 )\n",
        "In file included from /Users/neil/.cache/scipy/python27_compiled/sc_1790bf65208b11355ffcfd4b65a5f1090.cpp:23:\n",
        "In file included from /Users/neil/Library/Enthought/Canopy_64bit/User/lib/python2.7/site-packages/numpy/core/include/numpy/arrayobject.h:4:\n",
        "In file included from /Users/neil/Library/Enthought/Canopy_64bit/User/lib/python2.7/site-packages/numpy/core/include/numpy/ndarrayobject.h:17:\n",
        "In file included from /Users/neil/Library/Enthought/Canopy_64bit/User/lib/python2.7/site-packages/numpy/core/include/numpy/ndarraytypes.h:1761:\n",
        "/Users/neil/Library/Enthought/Canopy_64bit/User/lib/python2.7/site-packages/numpy/core/include/numpy/npy_1_7_deprecated_api.h:15:2: warning: \"Using deprecated NumPy API, disable it by \"          \"#defining NPY_NO_DEPRECATED_API NPY_1_7_API_VERSION\" [-W#warnings]\n",
        "#warning \"Using deprecated NumPy API, disable it by \" \\\n",
        " ^\n",
        "/Users/neil/.cache/scipy/python27_compiled/sc_1790bf65208b11355ffcfd4b65a5f1090.cpp:24:10: fatal error: 'omp.h' file not found\n",
        "#include <omp.h>\n",
        "         ^\n",
        "2 warnings and 1 error generated.\n",
        "\n",
        " Weave compilation failed. Falling back to (slower) numpy implementation\n",
        "\n"
       ]
      },
      {
       "html": [
        "<style type=\"text/css\">\n",
        ".pd{\n",
        "    font-family:\"Courier New\", Courier, monospace !important;\n",
        "}\n",
        "</style>\n",
        "\n",
        "<p class=pd>\n",
        "<b>Model</b>: sparse gp mpi<br>\n",
        "<b>Log-likelihood</b>: -89.7838229455<br>\n",
        "<b>Number of Parameters</b>: 6<br>\n",
        "</p>\n",
        "<style type=\"text/css\">\n",
        ".tg  {border-collapse:collapse;border-spacing:0;border-color:#999;}\n",
        ".tg td{font-family:Arial, sans-serif;font-size:14px;padding:2px 3px;border-style:solid;border-width:1px;overflow:hidden;word-break:normal;border-color:#999;color:#444;background-color:#F7FDFA;}\n",
        ".tg th{font-family:Arial, sans-serif;font-size:14px;font-weight:normal;padding:2px 3px;border-style:solid;border-width:1px;overflow:hidden;word-break:normal;border-color:#999;color:#fff;background-color:#26ADE4;}\n",
        ".tg .tg-left{font-family:\"Courier New\", Courier, monospace !important;;text-align:left}\n",
        ".tg .tg-right{font-family:\"Courier New\", Courier, monospace !important;;text-align:right}\n",
        "</style>\n",
        "<table class=\"tg\">\n",
        "<tr>\n",
        "  <th><b>sparse_gp_mpi.</b></th>\n",
        "  <th><b>Value</b></th>\n",
        "  <th><b>Constraint</b></th>\n",
        "  <th><b>Prior</b></th>\n",
        "  <th><b>Tied to</b></th>\n",
        "</tr>\n",
        "<tr><td class=tg-left>inducing inputs        </td><td class=tg-right>(3, 1)</td><td class=tg-left>          </td><td class=tg-left>     </td><td class=tg-left>       </td></tr>\n",
        "<tr><td class=tg-left>rbf.variance           </td><td class=tg-right>   1.0</td><td class=tg-left>   +ve    </td><td class=tg-left>     </td><td class=tg-left>       </td></tr>\n",
        "<tr><td class=tg-left>rbf.lengthscale        </td><td class=tg-right>   1.0</td><td class=tg-left>   +ve    </td><td class=tg-left>     </td><td class=tg-left>       </td></tr>\n",
        "<tr><td class=tg-left>Gaussian_noise.variance</td><td class=tg-right>   1.0</td><td class=tg-left>   +ve    </td><td class=tg-left>     </td><td class=tg-left>       </td></tr>\n",
        "</table>"
       ],
       "metadata": {},
       "output_type": "display_data",
       "text": [
        "<GPy.models.sparse_gp_regression.SparseGPRegression at 0x111578b50>"
       ]
      }
     ],
     "prompt_number": 23
    },
    {
     "cell_type": "markdown",
     "metadata": {},
     "source": [
      "In GPy, the sparse inputs $\\mathbf{Z}$ are abbreviated 'iip' , for inducing input. Plot the posterior\n",
      "of $u$ in the same manner as for the full GP:"
     ]
    },
    {
     "cell_type": "code",
     "collapsed": false,
     "input": [
      "mu, var = m._raw_predict(Z) \n",
      "plt.vlines(Z[:,0], mu[:,0]-2.*np.sqrt(var[:,0]), mu[:,0]+2.*np.sqrt(var[:,0]),color='r')"
     ],
     "language": "python",
     "metadata": {},
     "outputs": [
      {
       "metadata": {},
       "output_type": "pyout",
       "prompt_number": 24,
       "text": [
        "<matplotlib.collections.LineCollection at 0x1115b99d0>"
       ]
      },
      {
       "metadata": {},
       "output_type": "display_data",
       "png": "[encoded data removed]",
       "text": [
        "<matplotlib.figure.Figure at 0x1115c5ad0>"
       ]
      }
     ],
     "prompt_number": 24
    },
    {
     "cell_type": "markdown",
     "metadata": {},
     "source": [
      "### Exercise 2\n",
      "\n",
      "a) Optimise and plot the model. The inducing inputs are marked \u2013 how\n",
      "are they placed? You can move them around with e.g. `m['iip_2_0'] = 100` . What\n",
      "happens to the likelihood? What happens to the fit if you remove an input?"
     ]
    },
    {
     "cell_type": "code",
     "collapsed": false,
     "input": [
      "# Exercise 3 a answer"
     ],
     "language": "python",
     "metadata": {},
     "outputs": [],
     "prompt_number": 28
    },
    {
     "cell_type": "markdown",
     "metadata": {},
     "source": [
      "b) How does the fit of the sparse compare with the full GP? Play around\n",
      "with the number of inducing inputs, the fit should improve as $M$ increases. How many\n",
      "inducing points are needed? What do you think happens in higher dimensions?"
     ]
    },
    {
     "cell_type": "raw",
     "metadata": {},
     "source": [
      "# Exercise 3 b answer"
     ]
    },
    {
     "cell_type": "markdown",
     "metadata": {},
     "source": [
      "### Exercise 3\n",
      "\n",
      "Can you build a low rank Gaussian process with the intrinsic model of coregionalization? Do you have to treat the 2nd input (which specifies the event number) in a special way?"
     ]
    }
   ],
   "metadata": {}
  }
 ]
}
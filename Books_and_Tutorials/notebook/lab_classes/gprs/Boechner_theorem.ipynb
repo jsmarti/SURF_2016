{
 "cells": [
  {
   "cell_type": "markdown",
   "metadata": {},
   "source": [
    "# Fourtier Transform of a Data Set\n",
    "\n",
    "### 20th January 2014\n",
    "\n",
    "### Neil D. Lawrence\n",
    "\n",
    "Imagine we are given data and we wish to generalize from it. Without making further assumptions, we have no more information than the given data set. We can think of this ssomewhat like a weighted sum of Dirac delta functions. The Dirac delta function is defined to be a function with an integral of one, which is zero at all places apart from zero, where it is infinite. Given observations at particular times (or locations) $x_i$ we can think of our observations as being a function,\n",
    "$$\n",
    "f(\\mathbf{x}) = \\sum_{i=1}^n y_i \\delta(\\mathbf{x}-\\mathbf{x}_i),\n",
    "$$\n",
    "This function is highly discontinuous, imagine if we wished to smooth it by filtering in Fourier space. The Fourier transform of a function is given by,\n",
    "$$\n",
    "F(\\boldsymbol{\\omega}) = \\int_{-\\infty}^\\infty f(\\mathbf{x}) \\exp\\left(-i2\\pi \\boldsymbol{\\omega}^\\top \\mathbf{x}\\right) \\text{d} \\mathbf{x}\n",
    "$$\n",
    "and since our function is a series of delta functions the the transform is easy to compute,\n",
    "$$\n",
    "F(\\boldsymbol{\\omega}) = \\sum_{i=1}^n y_i\\exp\\left(-i 2\\pi \\boldsymbol{\\omega}^\\top \\mathbf{x}_i\\right)\n",
    "$$ \n",
    "which has a real part given by a weighted sum of cosines and a complex part given by a weighted sum of sines. "
   ]
  },
  {
   "cell_type": "markdown",
   "metadata": {},
   "source": [
    "One theorem that gives insight into covariances is Boechner's theorem. Boechner's theorem states that any positive filter in Fourier space gives rise to a valid covariance function. Further, it gives a relationship between the filter and the form of the covariance function. The form of the covariance is given by the [Fourier transform](http://en.wikipedia.org/wiki/Fourier_transform) of the filter, with the argument of the transform being replaced by the distance between the points. \n",
    "\n",
    "Fourier space is a transformed space of the original function to a new basis. The transformation occurs through a convolution with a sine and cosine basis. Given a function of time $f(t)$ the Fourier transform moves it to a weighted linear sum of a sine and cosine basis,\n",
    "$$\n",
    "F(\\omega) = \\int_{-\\infty}^\\infty f(t) \\left[\\cos(2\\pi \\omega t) - i \\sin(2\\pi \\omega t) \\right]\\text{d} t\n",
    "$$\n",
    "where is the imaginary basis, $i=\\sqrt{-1}$. Through Euler's formula,\n",
    "$$\n",
    "\\exp(ix) = \\cos x + i\\sin x \n",
    "$$\n",
    "we can re-express this form as \n",
    "$$\n",
    "F(\\omega) = \\int_{-\\infty}^\\infty f(t) \\exp(-i 2\\pi\\omega)\\text{d} t\n",
    "$$\n",
    "which is a standard form for the Fourier transform. Fourier's theorem was that the *inverse* transform can also be expressed in a similar form so we have\n",
    "$$\n",
    "f(t) = \\int_{-\\infty}^\\infty F(\\omega) \\exp(2\\pi\\omega)\\text{d} \\omega.\n",
    "$$\n",
    "Although we've introduced the transform in the context of time Fourier's interest was an analytical theory of heat and the transform can be applied to a multidimensional spatial function, $f(\\mathbf{x})."
   ]
  },
  {
   "cell_type": "code",
   "execution_count": 3,
   "metadata": {
    "collapsed": false
   },
   "outputs": [
    {
     "data": {
      "text/html": [
       "<iframe frameborder=\"0\" scrolling=\"yes\" style=\"border:0px\" src=\"http://books.google.co.uk/books?id=TDQJAAAAIAAJ&pg=PAPA525&output=embed\", width=700 height=500></iframe>"
      ],
      "text/plain": [
       "<IPython.core.display.HTML object>"
      ]
     },
     "metadata": {},
     "output_type": "display_data"
    }
   ],
   "source": [
    "import pods\n",
    "pods.notebook.display_google_book('TDQJAAAAIAAJ', page='PA525')\n"
   ]
  },
  {
   "cell_type": "code",
   "execution_count": 5,
   "metadata": {
    "collapsed": false
   },
   "outputs": [],
   "source": [
    "%matplotlib inline\n",
    "import numpy as np\n",
    "import pods\n",
    "import pylab as plt\n",
    "from IPython.display import display"
   ]
  },
  {
   "cell_type": "code",
   "execution_count": null,
   "metadata": {
    "collapsed": true
   },
   "outputs": [],
   "source": []
  }
 ],
 "metadata": {
  "kernelspec": {
   "display_name": "Python 2",
   "language": "python",
   "name": "python2"
  },
  "language_info": {
   "codemirror_mode": {
    "name": "ipython",
    "version": 2
   },
   "file_extension": ".py",
   "mimetype": "text/x-python",
   "name": "python",
   "nbconvert_exporter": "python",
   "pygments_lexer": "ipython2",
   "version": "2.7.10"
  }
 },
 "nbformat": 4,
 "nbformat_minor": 0
}

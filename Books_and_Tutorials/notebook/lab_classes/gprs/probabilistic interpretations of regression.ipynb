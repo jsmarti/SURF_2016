{
 "metadata": {
  "name": "",
  "signature": "sha256:1cef4e5868f3307029713a5e8b00de90db2eb3cff529c981aadc53662b2a3f36"
 },
 "nbformat": 3,
 "nbformat_minor": 0,
 "worksheets": [
  {
   "cells": [
    {
     "cell_type": "markdown",
     "metadata": {},
     "source": [
      "# Probabilistic Interpretations of Regression\n",
      "\n",
      "# Gaussian Process Summer School, Melbourne, Australia\n",
      "### 25th-27th February 2015\n",
      "### Neil D. Lawrence\n",
      "\n",
      "\n",
      "### Overdetermined Systems\n",
      "\n",
      "We motivated the introduction of probability by considering systems where there were more observations than unknowns. In particular we thought about the simple fitting of the gradient and an offset of a line,\n",
      "\n",
      "$$ y= mx +c $$\n",
      "\n",
      "and what happens if we have three pairs of observations of $x$ and $y$, $\\{x_i, y_i\\}_{i=1}^3$. We solved this issue by introducing a type of [slack variable](http://en.wikipedia.org/wiki/Slack_variable), $\\epsilon_i$, known as noise, such that for each observation we had the equation,\n",
      "\n",
      "$$y_i = mx_i + c + \\epsilon_i.$$\n",
      "\n",
      "The slack variable represented the difference between our actual prediction and the true observation. This is also known as the *residual*. By introducing the slack variable we now have an additional $n$ variables to estimate, one for each data point, $\\{\\epsilon_i\\}$. This actually turns the overdetermined system into an underdetermined system. Introduction of $n$ variables, plus the original $m$ and $c$ gives us $n+2$ parameters to be estimated from $n$ observations, which actually makes the system *underdetermined*. However, we then made a probabilistic assumption about the slack variables, we assumed that the slack variables were distributed according to a probability density. And for the moment we have been assuming that density was the Gaussian,\n",
      "\n",
      "$$\\epsilon_i \\sim \\mathcal{N}(0, \\sigma^2),$$\n",
      "\n",
      "with zero mean and variance $\\sigma^2$. \n",
      "\n",
      "#### Sum of Squares and Probability\n",
      "\n",
      "In the overdetermined system we introduced a new set of slack variables, $\\{\\epsilon_i\\}_{i=1}^n$, on top of our parameters $m$ and $c$. We deal with the variables by placing a probability distribution over them. This gives rise to the likelihood and for the case of Gaussian distributed variables, it gives rise to the sum of squares error. It was Gauss who first made this connection in his volume on \"Theoria Motus Corprum Coelestium\" (written in Latin)"
     ]
    },
    {
     "cell_type": "code",
     "collapsed": false,
     "input": [
      "import pods\n",
      "pods.notebook.display_google_book(id='ORUOAAAAQAAJ', page='213')"
     ],
     "language": "python",
     "metadata": {},
     "outputs": [
      {
       "output_type": "stream",
       "stream": "stderr",
       "text": [
        "/Users/neil/Library/Enthought/Canopy_64bit/User/lib/python2.7/site-packages/pytz/__init__.py:29: UserWarning: Module pods was already imported from /Users/neil/sods/ods/pods/__init__.pyc, but /Users/neil/Library/Enthought/Canopy_64bit/User/lib/python2.7/site-packages is being added to sys.path\n",
        "  from pkg_resources import resource_stream\n"
       ]
      },
      {
       "html": [
        "<iframe frameborder=\"0\" scrolling=\"yes\" style=\"border:0px\" src=\"http://books.google.co.uk/books?id=ORUOAAAAQAAJ&pg=PA213&output=embed\", width=700 height=500></iframe>"
       ],
       "metadata": {},
       "output_type": "display_data",
       "text": [
        "<IPython.core.display.HTML at 0x103d26ed0>"
       ]
      }
     ],
     "prompt_number": 1
    },
    {
     "cell_type": "markdown",
     "metadata": {},
     "source": [
      "The relevant section roughly translates as\n",
      "\n",
      "... It is clear, that for the product $\\Omega = h^\\mu \\pi ^{-frac{1}{2}\\mu} e^{-hh(vv + v^\\prime v^\\prime + v^{\\prime\\prime} v^{\\prime\\prime} + \\dots)}$ to be maximised the sum $vv + v ^\\prime v^\\prime + v^{\\prime\\prime} v^{\\prime\\prime} + \\text{etc}.$ ought to be minimized. *Therefore, the most probable values of the unknown quantities $p , q, r , s \\text{etc}.$, should be that in which the sum of the squares of the differences between the functions $V, V^\\prime, V^{\\prime\\prime} \\text{etc}$, and the observed values is minimized*, for all observations of the same degree of precision is presumed.\n",
      "\n",
      "It's on the strength of this paragraph that the density is known as the Gaussian, despite the fact that four pages later Gauss credits the necessary integral for the density to Laplace, and it was also Laplace that did a lot of the original work on dealing with these errors through probability. [Stephen Stigler's book on the measurement of uncertainty before 1900](http://www.hup.harvard.edu/catalog.php?isbn=9780674403413) has a nice chapter on this."
     ]
    },
    {
     "cell_type": "code",
     "collapsed": false,
     "input": [
      "pods.notebook.display_google_book(id='ORUOAAAAQAAJ', page='217')"
     ],
     "language": "python",
     "metadata": {},
     "outputs": [
      {
       "html": [
        "<iframe frameborder=\"0\" scrolling=\"yes\" style=\"border:0px\" src=\"http://books.google.co.uk/books?id=ORUOAAAAQAAJ&pg=PA217&output=embed\", width=700 height=500></iframe>"
       ],
       "metadata": {},
       "output_type": "display_data",
       "text": [
        "<IPython.core.display.HTML at 0x10dae7790>"
       ]
      }
     ],
     "prompt_number": 2
    },
    {
     "cell_type": "code",
     "collapsed": false,
     "input": [
      "%matplotlib inline\n",
      "import numpy as np\n",
      "import matplotlib.pyplot as plt\n",
      "import pods\n",
      "from IPython.display import display"
     ],
     "language": "python",
     "metadata": {},
     "outputs": [],
     "prompt_number": 3
    },
    {
     "cell_type": "markdown",
     "metadata": {},
     "source": [
      "Here `numpy` gives us the numerical array facility, `matplotlib` is for plotting and `pods` is a python open data science library which provides some convenient access to a range of data sets.\n",
      "\n",
      "## Iterative Solution\n",
      "\n",
      "Now we will code linear regression in python. We will do it in two ways, once using iterative updates (coordinate ascent) and then using linear algebra. \n",
      "For this part we are going to load in some data, we will use the example from the Olympics: the pace of Marathon winners. To load in the data we are going to use the `pods` library, an 'open data science' library for access to a range of data sets and with other facilities."
     ]
    },
    {
     "cell_type": "code",
     "collapsed": true,
     "input": [
      "data = pods.datasets.olympic_marathon_men()\n",
      "x = data['X']\n",
      "y = data['Y']"
     ],
     "language": "python",
     "metadata": {},
     "outputs": [],
     "prompt_number": 4
    },
    {
     "cell_type": "markdown",
     "metadata": {},
     "source": [
      "You can see what these values are by typing:"
     ]
    },
    {
     "cell_type": "code",
     "collapsed": false,
     "input": [
      "print(x)\n",
      "print(y)"
     ],
     "language": "python",
     "metadata": {},
     "outputs": [
      {
       "output_type": "stream",
       "stream": "stdout",
       "text": [
        "[[ 1896.]\n",
        " [ 1900.]\n",
        " [ 1904.]\n",
        " [ 1908.]\n",
        " [ 1912.]\n",
        " [ 1920.]\n",
        " [ 1924.]\n",
        " [ 1928.]\n",
        " [ 1932.]\n",
        " [ 1936.]\n",
        " [ 1948.]\n",
        " [ 1952.]\n",
        " [ 1956.]\n",
        " [ 1960.]\n",
        " [ 1964.]\n",
        " [ 1968.]\n",
        " [ 1972.]\n",
        " [ 1976.]\n",
        " [ 1980.]\n",
        " [ 1984.]\n",
        " [ 1988.]\n",
        " [ 1992.]\n",
        " [ 1996.]\n",
        " [ 2000.]\n",
        " [ 2004.]\n",
        " [ 2008.]\n",
        " [ 2012.]]\n",
        "[[ 4.47083333]\n",
        " [ 4.46472926]\n",
        " [ 5.22208333]\n",
        " [ 4.15467867]\n",
        " [ 3.90331675]\n",
        " [ 3.56951267]\n",
        " [ 3.82454477]\n",
        " [ 3.62483707]\n",
        " [ 3.59284275]\n",
        " [ 3.53880792]\n",
        " [ 3.67010309]\n",
        " [ 3.39029111]\n",
        " [ 3.43642612]\n",
        " [ 3.20583007]\n",
        " [ 3.13275665]\n",
        " [ 3.32819844]\n",
        " [ 3.13583758]\n",
        " [ 3.0789588 ]\n",
        " [ 3.10581822]\n",
        " [ 3.06552909]\n",
        " [ 3.09357349]\n",
        " [ 3.16111704]\n",
        " [ 3.14255244]\n",
        " [ 3.08527867]\n",
        " [ 3.10265829]\n",
        " [ 2.99877553]\n",
        " [ 3.03392977]]\n"
       ]
      }
     ],
     "prompt_number": 5
    },
    {
     "cell_type": "markdown",
     "metadata": {},
     "source": [
      "## Plotting the Data\n",
      "\n",
      "And you can make a plot of $y$ vs $x$ with the following command:"
     ]
    },
    {
     "cell_type": "code",
     "collapsed": false,
     "input": [
      "plt.plot(x, y, 'rx')"
     ],
     "language": "python",
     "metadata": {},
     "outputs": [
      {
       "metadata": {},
       "output_type": "pyout",
       "prompt_number": 6,
       "text": [
        "[<matplotlib.lines.Line2D at 0x10dc0fc10>]"
       ]
      },
      {
       "metadata": {},
       "output_type": "display_data",
       "png": "[encoded data removed]",
       "text": [
        "<matplotlib.figure.Figure at 0x10db06e90>"
       ]
      }
     ],
     "prompt_number": 6
    },
    {
     "cell_type": "markdown",
     "metadata": {},
     "source": [
      "## Maximum Likelihood: Iterative Solution\n",
      "\n",
      "Now we are going to fit a line, $y_i=mx_i + c$, to the data you've plotted. We are trying to minimize the error function:\n",
      "\n",
      "$$E(m, c, \\sigma^2) = \\frac{n}{2} \\log \\sigma^2 + \\frac{1}{2\\sigma^2} \\sum_{i=1}^n(y_i-mx_i-c)^2$$\n",
      "\n",
      "with respect to $m$, $c$ and $\\sigma^2$. We can start with an initial guess for $m$, "
     ]
    },
    {
     "cell_type": "code",
     "collapsed": true,
     "input": [
      "m = -0.4\n",
      "c = 80"
     ],
     "language": "python",
     "metadata": {},
     "outputs": [],
     "prompt_number": 7
    },
    {
     "cell_type": "markdown",
     "metadata": {},
     "source": [
      "Then we use the maximum likelihood update, derived in the lecture, to find an estimate for the offset, $c$,\n",
      "\n",
      "$$c^* = \\frac{\\sum_{i=1}^n(y_i-m^*x_i)}{n}$$"
     ]
    },
    {
     "cell_type": "code",
     "collapsed": false,
     "input": [
      "c = (y - m*x).mean()\n",
      "print c"
     ],
     "language": "python",
     "metadata": {},
     "outputs": [
      {
       "output_type": "stream",
       "stream": "stdout",
       "text": [
        "786.019771145\n"
       ]
      }
     ],
     "prompt_number": 8
    },
    {
     "cell_type": "markdown",
     "metadata": {},
     "source": [
      "And now we can make an estimate for the gradient of the line,\n",
      "\n",
      "$$m^* = \\frac{\\sum_{i=1}^n ((y_i - c)*x_i))}{\\sum_{i=1}^n x_i^2}$$"
     ]
    },
    {
     "cell_type": "code",
     "collapsed": false,
     "input": [
      "m = ((y - c)*x).sum()/(x**2).sum()\n",
      "print m"
     ],
     "language": "python",
     "metadata": {},
     "outputs": [
      {
       "output_type": "stream",
       "stream": "stdout",
       "text": [
        "-0.3998724073\n"
       ]
      }
     ],
     "prompt_number": 9
    },
    {
     "cell_type": "markdown",
     "metadata": {},
     "source": [
      "We can have a look at how good our fit is by computing the prediction across the input space. First create a vector of 'test points',"
     ]
    },
    {
     "cell_type": "code",
     "collapsed": false,
     "input": [
      "x_test = np.linspace(1890, 2020, 130)[:, None]"
     ],
     "language": "python",
     "metadata": {},
     "outputs": [],
     "prompt_number": 10
    },
    {
     "cell_type": "markdown",
     "metadata": {},
     "source": [
      "Now use this vector to compute some test predictions,"
     ]
    },
    {
     "cell_type": "code",
     "collapsed": false,
     "input": [
      "f_test = m*x_test + c"
     ],
     "language": "python",
     "metadata": {},
     "outputs": [],
     "prompt_number": 11
    },
    {
     "cell_type": "markdown",
     "metadata": {},
     "source": [
      "Now plot those test predictions with a blue line on the same plot as the data,"
     ]
    },
    {
     "cell_type": "code",
     "collapsed": false,
     "input": [
      "plt.plot(x_test, f_test, 'b-')\n",
      "plt.plot(x, y, 'rx')"
     ],
     "language": "python",
     "metadata": {},
     "outputs": [
      {
       "metadata": {},
       "output_type": "pyout",
       "prompt_number": 12,
       "text": [
        "[<matplotlib.lines.Line2D at 0x10dc18590>]"
       ]
      },
      {
       "metadata": {},
       "output_type": "display_data",
       "png": "[encoded data removed]",
       "text": [
        "<matplotlib.figure.Figure at 0x10dc18c50>"
       ]
      }
     ],
     "prompt_number": 12
    },
    {
     "cell_type": "markdown",
     "metadata": {},
     "source": [
      "The fit isn't very good, we need to iterate between these parameter updates in a loop to improve the fit, we have to do this several times,"
     ]
    },
    {
     "cell_type": "code",
     "collapsed": false,
     "input": [
      "for i in np.arange(10):\n",
      "    m = ((y - c)*x).sum()/(x*x).sum()\n",
      "    c = (y-m*x).sum()/y.shape[0]\n",
      "print(m)\n",
      "print(c)"
     ],
     "language": "python",
     "metadata": {},
     "outputs": [
      {
       "output_type": "stream",
       "stream": "stdout",
       "text": [
        "-0.398725964251\n",
        "783.527379727\n"
       ]
      }
     ],
     "prompt_number": 13
    },
    {
     "cell_type": "markdown",
     "metadata": {},
     "source": [
      "And let's try plotting the result again"
     ]
    },
    {
     "cell_type": "code",
     "collapsed": false,
     "input": [
      "f_test = m*x_test + c\n",
      "plt.plot(x_test, f_test, 'b-')\n",
      "plt.plot(x, y, 'rx')"
     ],
     "language": "python",
     "metadata": {},
     "outputs": [
      {
       "metadata": {},
       "output_type": "pyout",
       "prompt_number": 14,
       "text": [
        "[<matplotlib.lines.Line2D at 0x10dc311d0>]"
       ]
      },
      {
       "metadata": {},
       "output_type": "display_data",
       "png": "[encoded data removed]",
       "text": [
        "<matplotlib.figure.Figure at 0x10dc316d0>"
       ]
      }
     ],
     "prompt_number": 14
    },
    {
     "cell_type": "markdown",
     "metadata": {},
     "source": [
      "Clearly we need more iterations than 10! \n",
      "\n",
      "Try add more iterations above to try and get closer to the solution.\n",
      "\n",
      "## Direct Solution with Linear Algebra\n",
      "\n",
      "Hopefully, you are now persuaded of the merits of solving the entire system, simultaneously, using linear algebra. To do that, we need to make a design matrix of the data, which includes the $x_0=1$ column, to represent the bias, remember (from the lecture notes) that we are now moving to a system where our prediction is given by an inner product:\n",
      "\n",
      "$$f(\\mathbf{x}_i) = \\mathbf{x}_i^\\top\\mathbf{w}$$\n",
      "\n",
      "where each vector $\\mathbf{x}_i$ is given by appending a 1 onto the original vector\n",
      "\n",
      "$$\\mathbf{x}_i = \n",
      "\\begin{bmatrix} \n",
      "1 \\\\\\\n",
      "x_i\n",
      "\\end{bmatrix}$$\n",
      "\n",
      "We can do this for the entire data set to form a design matrix $\\mathbf{X}$,\n",
      "\n",
      "$$\\mathbf{X} = \\begin{bmatrix} \n",
      "\\mathbf{x}_1^\\top \\\\\\ \n",
      "\\mathbf{x}_2^\\top \\\\\\ \n",
      "\\vdots \\\\\\\n",
      "\\mathbf{x}_N^\\top\n",
      "\\end{bmatrix} = \\begin{bmatrix}\n",
      "1 & x_1 \\\\\\\n",
      "1 & x_2 \\\\\\\n",
      "\\vdots & \\vdots \\\\\\\n",
      "1 & x_N \n",
      "\\end{bmatrix},$$\n",
      "\n",
      "which in `numpy` is done with the following commands:"
     ]
    },
    {
     "cell_type": "code",
     "collapsed": false,
     "input": [
      "X = np.hstack((np.ones_like(x), x)) # [ones(size(x)) x]\n",
      "print(X)"
     ],
     "language": "python",
     "metadata": {},
     "outputs": [
      {
       "output_type": "stream",
       "stream": "stdout",
       "text": [
        "[[  1.00000000e+00   1.89600000e+03]\n",
        " [  1.00000000e+00   1.90000000e+03]\n",
        " [  1.00000000e+00   1.90400000e+03]\n",
        " [  1.00000000e+00   1.90800000e+03]\n",
        " [  1.00000000e+00   1.91200000e+03]\n",
        " [  1.00000000e+00   1.92000000e+03]\n",
        " [  1.00000000e+00   1.92400000e+03]\n",
        " [  1.00000000e+00   1.92800000e+03]\n",
        " [  1.00000000e+00   1.93200000e+03]\n",
        " [  1.00000000e+00   1.93600000e+03]\n",
        " [  1.00000000e+00   1.94800000e+03]\n",
        " [  1.00000000e+00   1.95200000e+03]\n",
        " [  1.00000000e+00   1.95600000e+03]\n",
        " [  1.00000000e+00   1.96000000e+03]\n",
        " [  1.00000000e+00   1.96400000e+03]\n",
        " [  1.00000000e+00   1.96800000e+03]\n",
        " [  1.00000000e+00   1.97200000e+03]\n",
        " [  1.00000000e+00   1.97600000e+03]\n",
        " [  1.00000000e+00   1.98000000e+03]\n",
        " [  1.00000000e+00   1.98400000e+03]\n",
        " [  1.00000000e+00   1.98800000e+03]\n",
        " [  1.00000000e+00   1.99200000e+03]\n",
        " [  1.00000000e+00   1.99600000e+03]\n",
        " [  1.00000000e+00   2.00000000e+03]\n",
        " [  1.00000000e+00   2.00400000e+03]\n",
        " [  1.00000000e+00   2.00800000e+03]\n",
        " [  1.00000000e+00   2.01200000e+03]]\n"
       ]
      }
     ],
     "prompt_number": 15
    },
    {
     "cell_type": "markdown",
     "metadata": {},
     "source": [
      "From the multivariate regression solution we derived in the lecture, the maximum likelihood solution for $\\mathbf{w}^*$ is given by\n",
      "\n",
      "$$\\mathbf{w}^* = \\left[\\mathbf{X}^\\top \\mathbf{X}\\right]^{-1} \\mathbf{X}^\\top \\mathbf{y}$$ \n",
      "\n",
      "First let's persuade ourselves of a few things. We suggested in the lecture that\n",
      "\n",
      "$$\\sum_{i=1}^n \\mathbf{x}_i\\mathbf{x}_i^\\top = \\mathbf{X}^\\top\\mathbf{X}$$\n",
      "\n",
      "We can show that this is, indeed the case for our data. First we need to know how to do matrix multiplication and transpose using numpy, this is done as"
     ]
    },
    {
     "cell_type": "code",
     "collapsed": false,
     "input": [
      "np.dot(X.T, X)"
     ],
     "language": "python",
     "metadata": {},
     "outputs": [
      {
       "metadata": {},
       "output_type": "pyout",
       "prompt_number": 16,
       "text": [
        "array([[  2.70000000e+01,   5.28200000e+04],\n",
        "       [  5.28200000e+04,   1.03365648e+08]])"
       ]
      }
     ],
     "prompt_number": 16
    },
    {
     "cell_type": "markdown",
     "metadata": {},
     "source": [
      "Now we will compute the same thing with a for loop"
     ]
    },
    {
     "cell_type": "code",
     "collapsed": false,
     "input": [
      "store = np.zeros((2, 2))\n",
      "for i in range(X.shape[0]):\n",
      "    store += np.outer(X[i, :], X[i, :])\n",
      "print store"
     ],
     "language": "python",
     "metadata": {},
     "outputs": [
      {
       "output_type": "stream",
       "stream": "stdout",
       "text": [
        "[[  2.70000000e+01   5.28200000e+04]\n",
        " [  5.28200000e+04   1.03365648e+08]]\n"
       ]
      }
     ],
     "prompt_number": 17
    },
    {
     "cell_type": "markdown",
     "metadata": {},
     "source": [
      "I hope that you agree that the first version is a little more compact. \n",
      "\n",
      "### Solving the System\n",
      "\n",
      "The solution for $\\mathbf{w}$ is given in terms of a matrix inverse, but numerically this isn't the best way to compute it. What we actually want python to do is to *solve* the system of linear equations given by\n",
      "\n",
      "$$\\mathbf{X}^\\top\\mathbf{X} \\mathbf{w} = \\mathbf{X}^\\top\\mathbf{y}$$\n",
      "\n",
      "for $\\mathbf{w}$. This can be done in numpy using the command"
     ]
    },
    {
     "cell_type": "code",
     "collapsed": false,
     "input": [
      "np.linalg.solve?"
     ],
     "language": "python",
     "metadata": {},
     "outputs": [],
     "prompt_number": 18
    },
    {
     "cell_type": "markdown",
     "metadata": {},
     "source": [
      "so we can obtain the solution using"
     ]
    },
    {
     "cell_type": "code",
     "collapsed": false,
     "input": [
      "w = np.linalg.solve(np.dot(X.T, X), np.dot(X.T, y))\n",
      "print w\n",
      "print c\n",
      "print m"
     ],
     "language": "python",
     "metadata": {},
     "outputs": [
      {
       "output_type": "stream",
       "stream": "stdout",
       "text": [
        "[[  2.88952457e+01]\n",
        " [ -1.29806477e-02]]\n",
        "783.527379727\n",
        "-0.398725964251\n"
       ]
      }
     ],
     "prompt_number": 19
    },
    {
     "cell_type": "markdown",
     "metadata": {},
     "source": [
      "Allowing us to plot the fit as follows"
     ]
    },
    {
     "cell_type": "code",
     "collapsed": false,
     "input": [
      "m = w[1]; c=w[0]\n",
      "f_test = m*x_test + c\n",
      "print(m)\n",
      "print(c)\n",
      "plt.plot(x_test, f_test, 'b-')\n",
      "plt.plot(x, y, 'rx')"
     ],
     "language": "python",
     "metadata": {},
     "outputs": [
      {
       "output_type": "stream",
       "stream": "stdout",
       "text": [
        "[-0.01298065]\n",
        "[ 28.89524574]\n"
       ]
      },
      {
       "metadata": {},
       "output_type": "pyout",
       "prompt_number": 20,
       "text": [
        "[<matplotlib.lines.Line2D at 0x10dfbcdd0>]"
       ]
      },
      {
       "metadata": {},
       "output_type": "display_data",
       "png": "[encoded data removed]",
       "text": [
        "<matplotlib.figure.Figure at 0x10dfbfd50>"
       ]
      }
     ],
     "prompt_number": 20
    },
    {
     "cell_type": "markdown",
     "metadata": {},
     "source": [
      "## Introducing a Basis: Quadratic Fit\n",
      "\n",
      "Now we will fit a quadratic model using basis functions. Given everything we've learnt above, this is now quite easy to do. Firstly, we need to create a design matrix that contains the quadratic basis, \n",
      "\n",
      "$$\\mathbf{\\Phi} = \\left[ \\mathbf{1} \\quad \\mathbf{x} \\quad \\mathbf{x}^2\\right]$$\n",
      "\n",
      "where this notation means that each column of $\\mathbf{\\Phi}$ is derived from the entire set of input years."
     ]
    },
    {
     "cell_type": "code",
     "collapsed": false,
     "input": [
      "Phi = np.hstack([np.ones(x.shape), x, x**2])"
     ],
     "language": "python",
     "metadata": {},
     "outputs": [],
     "prompt_number": 21
    },
    {
     "cell_type": "markdown",
     "metadata": {},
     "source": [
      "Now we can solve this system for $\\mathbf{w}$ just as we did for the linear case, so we have,"
     ]
    },
    {
     "cell_type": "code",
     "collapsed": false,
     "input": [
      "w = np.linalg.solve(np.dot(Phi.T, Phi), np.dot(Phi.T, y))\n",
      "print(w)"
     ],
     "language": "python",
     "metadata": {},
     "outputs": [
      {
       "output_type": "stream",
       "stream": "stdout",
       "text": [
        "[[  6.43641954e+02]\n",
        " [ -6.42502988e-01]\n",
        " [  1.61109704e-04]]\n"
       ]
      }
     ],
     "prompt_number": 22
    },
    {
     "cell_type": "markdown",
     "metadata": {},
     "source": [
      "We can plot the solution in two different ways, either we take"
     ]
    },
    {
     "cell_type": "code",
     "collapsed": false,
     "input": [
      "f_test = w[2]*x_test**2 + w[1]*x_test + w[0]\n",
      "plt.plot(x_test, f_test, 'b-')\n",
      "plt.plot(x, y, 'rx')"
     ],
     "language": "python",
     "metadata": {},
     "outputs": [
      {
       "metadata": {},
       "output_type": "pyout",
       "prompt_number": 23,
       "text": [
        "[<matplotlib.lines.Line2D at 0x10e381610>]"
       ]
      },
      {
       "metadata": {},
       "output_type": "display_data",
       "png": "[encoded data removed]",
       "text": [
        "<matplotlib.figure.Figure at 0x10e381850>"
       ]
      }
     ],
     "prompt_number": 23
    },
    {
     "cell_type": "markdown",
     "metadata": {},
     "source": [
      "Or we can do the matrix form of this equation which first involves creating a design matrix for the test points,\n"
     ]
    },
    {
     "cell_type": "code",
     "collapsed": false,
     "input": [
      "Phi_test = np.hstack((np.ones_like(x_test), x_test, x_test**2))"
     ],
     "language": "python",
     "metadata": {},
     "outputs": [],
     "prompt_number": 24
    },
    {
     "cell_type": "markdown",
     "metadata": {},
     "source": [
      "and then computing the value of the function using a matrix multiply"
     ]
    },
    {
     "cell_type": "code",
     "collapsed": false,
     "input": [
      "f_test = np.dot(Phi_test,w)\n",
      "plt.plot(x_test, f_test, 'b-')\n",
      "plt.plot(x, y, 'rx')\n",
      "w"
     ],
     "language": "python",
     "metadata": {},
     "outputs": [
      {
       "metadata": {},
       "output_type": "pyout",
       "prompt_number": 25,
       "text": [
        "array([[  6.43641954e+02],\n",
        "       [ -6.42502988e-01],\n",
        "       [  1.61109704e-04]])"
       ]
      },
      {
       "metadata": {},
       "output_type": "display_data",
       "png": "[encoded data removed]",
       "text": [
        "<matplotlib.figure.Figure at 0x10dc31850>"
       ]
      }
     ],
     "prompt_number": 25
    },
    {
     "cell_type": "markdown",
     "metadata": {},
     "source": [
      "Note the values of the coefficient $w_2$ in particular. It is relatively small, because it is multiplying a large number (square of 2000 is 4 million). This need to use small coefficients becomes worse as we increase the order of the fit. As an exercise for later, try fitting higher order polynomials to the data. See what happens as you increase the polynomial order.\n",
      "\n",
      "## Generalization\n",
      "\n",
      "The aim of this notebook is to review the different methods of model selection: hold out validation, leave one out cross validation and cross validation. \n",
      "\n",
      "## Training Error\n",
      "\n",
      "The first thing we'll do is plot the training error for the polynomial fit. To do this let's set up some parameters."
     ]
    },
    {
     "cell_type": "code",
     "collapsed": false,
     "input": [
      "num_data = x.shape[0]\n",
      "num_pred_data = 100 # how many points to use for plotting predictions\n",
      "x_pred = np.linspace(1890, 2016, num_pred_data)[:, None] # input locations for predictions\n",
      "order = 4 # The polynomial order to use.\n",
      "                 "
     ],
     "language": "python",
     "metadata": {},
     "outputs": [],
     "prompt_number": 26
    },
    {
     "cell_type": "markdown",
     "metadata": {},
     "source": [
      "now let's build the basis matrices.\n"
     ]
    },
    {
     "cell_type": "code",
     "collapsed": false,
     "input": [
      "# build the basis set\n",
      "Phi = np.zeros((num_data, order+1))\n",
      "Phi_pred = np.zeros((num_pred_data, order+1))\n",
      "for i in range(0, order+1):\n",
      "    Phi[:, i:i+1] = x**i\n",
      "    Phi_pred[:, i:i+1] = x_pred**i"
     ],
     "language": "python",
     "metadata": {},
     "outputs": [],
     "prompt_number": 27
    },
    {
     "cell_type": "markdown",
     "metadata": {},
     "source": [
      "now we can solve for the regression weights and make predictions both for the training data points, and the test data points. That involves solving the linear system given by\n",
      "\n",
      "$$\\boldsymbol{\\Phi}^\\top \\boldsymbol{\\Phi} \\mathbf{w}^* = \\boldsymbol{\\Phi}^\\top \\mathbf{y}$$"
     ]
    },
    {
     "cell_type": "code",
     "collapsed": false,
     "input": [
      "# solve the linear system\n",
      "w_star = np.linalg.solve(np.dot(Phi.T, Phi), np.dot(Phi.T, y))"
     ],
     "language": "python",
     "metadata": {},
     "outputs": [],
     "prompt_number": 28
    },
    {
     "cell_type": "markdown",
     "metadata": {},
     "source": [
      "and using the resulting vector to make predictions at the training points and test points,\n",
      "\n",
      "$$\\mathbf{f} = \\boldsymbol{\\Phi}\\mathbf{w}.$$\n",
      "\n",
      "To implement this in practice we need to use basis matrices for both the predictions and the training points."
     ]
    },
    {
     "cell_type": "code",
     "collapsed": false,
     "input": [
      "# predict at training and test points\n",
      "f = np.dot(Phi, w_star)\n",
      "f_pred = np.dot(Phi_pred, w_star)"
     ],
     "language": "python",
     "metadata": {},
     "outputs": [],
     "prompt_number": 29
    },
    {
     "cell_type": "markdown",
     "metadata": {},
     "source": [
      "These can be used to compute the error\n",
      "\n",
      "$$E(\\mathbf{w}) =  \\frac{n}{2} \\log \\sigma^2 + \\frac{1}{2\\sigma^2} \\sum_{i=1}^n \\left(y_i - \\mathbf{w}^\\top \\phi(\\mathbf{x}_i)\\right)^2 \\\\\\\n",
      "E(\\mathbf{w}) = \\frac{n}{2} \\log \\sigma^2 + \\frac{1}{2\\sigma^2} \\sum_{i=1}^n \\left(y_i - f_i\\right)^2$$"
     ]
    },
    {
     "cell_type": "code",
     "collapsed": false,
     "input": [
      "# compute the sum of squares term\n",
      "sum_squares = ((y-f)**2).sum()\n",
      "# fit the noise variance\n",
      "sigma2 = sum_squares/num_data\n",
      "error = 0.5*(num_data*np.log(sigma2) + sum_squares/sigma2)"
     ],
     "language": "python",
     "metadata": {},
     "outputs": [],
     "prompt_number": 30
    },
    {
     "cell_type": "markdown",
     "metadata": {},
     "source": [
      "Now we have the fit and the error, let's plot the fit and the error."
     ]
    },
    {
     "cell_type": "code",
     "collapsed": false,
     "input": [
      "# print the error and plot the predictions\n",
      "print(\"The error is: %2.4f\"%error)\n",
      "plt.plot(x_pred, f_pred)\n",
      "plt.plot(x, y, 'rx')\n",
      "ax = plt.gca()\n",
      "ax.set_title('Predictions for Order 5')\n",
      "ax.set_xlabel('year')\n",
      "ax.set_ylabel('pace (min/km)')"
     ],
     "language": "python",
     "metadata": {},
     "outputs": [
      {
       "output_type": "stream",
       "stream": "stdout",
       "text": [
        "The error is: -29.9371\n"
       ]
      },
      {
       "metadata": {},
       "output_type": "pyout",
       "prompt_number": 31,
       "text": [
        "<matplotlib.text.Text at 0x10e723a10>"
       ]
      },
      {
       "metadata": {},
       "output_type": "display_data",
       "png": "[encoded data removed]",
       "text": [
        "<matplotlib.figure.Figure at 0x10e376210>"
       ]
      }
     ],
     "prompt_number": 31
    },
    {
     "cell_type": "markdown",
     "metadata": {},
     "source": [
      "# Solution with QR Decomposition\n",
      "\n",
      "Performing a solve instead of a matrix inverse is the more numerically stable approach, but we can do even better. A [QR-decomposition](http://en.wikipedia.org/wiki/QR_decomposition) of a matrix factorises it into a matrix which is an orthogonal matrix $\\mathbf{Q}$, so that $\\mathbf{Q}^\\top \\mathbf{Q} = \\mathbf{I}$. And a matrix which is upper triangular, $\\mathbf{R}$. \n",
      "$$\n",
      "\\boldsymbol{\\Phi}^\\top \\boldsymbol{\\Phi} \\mathbf{w} = \\boldsymbol{\\Phi}^\\top \\mathbf{y}\n",
      "$$\n",
      "$$\n",
      "(\\mathbf{Q}\\mathbf{R})^\\top (\\mathbf{Q}\\mathbf{R})\\mathbf{w} = (\\mathbf{Q}\\mathbf{R})^\\top \\mathbf{y}\n",
      "$$\n",
      "$$\n",
      "\\mathbf{R}^\\top (\\mathbf{Q}^\\top \\mathbf{Q}) \\mathbf{R} \\mathbf{w} = \\mathbf{R}^\\top \\mathbf{Q}^\\top \\mathbf{y}\n",
      "$$\n",
      "$$\n",
      "\\mathbf{R}^\\top \\mathbf{R} \\mathbf{w} = \\mathbf{R}^\\top \\mathbf{Q}^\\top \\mathbf{y}\n",
      "$$\n",
      "$$\n",
      "\\mathbf{R} \\mathbf{w} = \\mathbf{Q}^\\top \\mathbf{y}\n",
      "$$\n",
      "This is a more numerically stable solution because it removes the need to compute $\\boldsymbol{\\Phi}^\\top\\boldsymbol{\\Phi}$ as an intermediate. Computing $\\boldsymbol{\\Phi}^\\top\\boldsymbol{\\Phi}$ is a bad idea because it involves squaring all the elements of $\\boldsymbol{\\Phi}$ and thereby potentially reducing the numerical precision with which we can represent the solution. Operating on $\\boldsymbol{\\Phi}$ directly preserves the numerical precision of the model.\n",
      "\n",
      "This can be more particularly seen when we begin to work with *basis functions* in the next session. Some systems that can be resolved with the QR decomposition can not be resolved by using solve directly."
     ]
    },
    {
     "cell_type": "code",
     "collapsed": false,
     "input": [
      "import scipy as sp\n",
      "Q, R = np.linalg.qr(X)\n",
      "w = sp.linalg.solve_triangular(R, np.dot(Q.T, y)) \n",
      "w"
     ],
     "language": "python",
     "metadata": {},
     "outputs": [
      {
       "metadata": {},
       "output_type": "pyout",
       "prompt_number": 32,
       "text": [
        "array([[  2.88952457e+01],\n",
        "       [ -1.29806477e-02]])"
       ]
      }
     ],
     "prompt_number": 32
    },
    {
     "cell_type": "markdown",
     "metadata": {},
     "source": [
      "## Putting it Together\n",
      "\n",
      "Now we look at how we can fit different polynomial basis sets to the olympic data and compute the training error."
     ]
    },
    {
     "cell_type": "code",
     "collapsed": false,
     "input": [
      "# import the time module to allow python to pause.\n",
      "import time\n",
      "# import the IPython display module to clear the output.\n",
      "from IPython.display import clear_output, display\n",
      "\n",
      "def polynomial(x, degree):\n",
      "    degrees = np.arange(degree+1)\n",
      "    return x**degrees\n",
      "\n",
      "num_data = len(x)\n",
      "error_list = []\n",
      "max_degree = 6\n",
      "sigma2 = 1\n",
      "fig, axes = plt.subplots(nrows=1, ncols=2, figsize=(12,6))\n",
      "for degree in range(0, max_degree+1):\n",
      "\n",
      "    # 1. build the basis set\n",
      "    Phi = polynomial(x, degree)\n",
      "    Phi_pred = polynomial(x_pred, degree)\n",
      "    \n",
      "    # 2. solve the linear system with QR decomposition\n",
      "    Q, R = np.linalg.qr(Phi)\n",
      "    w = sp.linalg.solve_triangular(R, np.dot(Q.T, y)) \n",
      "\n",
      "    # 3. make predictions at training and test points\n",
      "    f_pred = np.dot(Phi_pred, w)\n",
      "    f = np.dot(Phi, w)\n",
      "\n",
      "    # 4. compute the error and append it to a list.\n",
      "    error_list.append(((y-f)**2).sum() + num_data/2.*np.log(sigma2))\n",
      "\n",
      "    # 5. plot the predictions\n",
      "    axes[0].clear()\n",
      "    axes[1].clear()    \n",
      "    axes[0].plot(x_pred, f_pred, linewidth=2)\n",
      "    axes[0].plot(x, y, 'rx', markersize=10, linewidth=2)\n",
      "    axes[0].set_ylim((2.5, 5.5))\n",
      "    axes[0].set_title('Predictions for Degree ' + str(degree) + ' model.')\n",
      "    axes[1].plot(np.arange(0, degree+1), np.asarray(error_list), linewidth=2)\n",
      "    axes[1].set_xlim((0, max_degree))\n",
      "    axes[1].set_ylim((0, 10))\n",
      "    axes[1].set_title('Training Error')\n",
      "    display(fig)\n",
      "    time.sleep(1)\n",
      "    clear_output()"
     ],
     "language": "python",
     "metadata": {},
     "outputs": [
      {
       "metadata": {},
       "output_type": "display_data",
       "png": "[encoded data removed]",
       "text": [
        "<matplotlib.figure.Figure at 0x10e7c7990>"
       ]
      }
     ],
     "prompt_number": 33
    },
    {
     "cell_type": "code",
     "collapsed": false,
     "input": [],
     "language": "python",
     "metadata": {},
     "outputs": [],
     "prompt_number": 33
    }
   ],
   "metadata": {}
  }
 ]
}
{
 "metadata": {
  "name": "",
  "signature": "sha256:29cd3b2e4f18a9d0987ada29a3167cd82eb9a47260a7dccb3b3c93ee5ed4513c"
 },
 "nbformat": 3,
 "nbformat_minor": 0,
 "worksheets": [
  {
   "cells": [
    {
     "cell_type": "markdown",
     "metadata": {},
     "source": [
      "## Machines and Intelligence Lab Class\n",
      "\n",
      "* [Machines and Intelligence Lab Class 2013](./MI_Lab_class.ipynb)\n",
      "\n",
      "This lab class is designed to provide first year students an introduction to machine learning algorithms and python code. There is no coding required, the examples are written already. But students can change parameters and rerun the code. If you've never done machine learning before and haven't used Python, this is a good place to start!"
     ]
    },
    {
     "cell_type": "code",
     "collapsed": false,
     "input": [],
     "language": "python",
     "metadata": {},
     "outputs": []
    }
   ],
   "metadata": {}
  }
 ]
}
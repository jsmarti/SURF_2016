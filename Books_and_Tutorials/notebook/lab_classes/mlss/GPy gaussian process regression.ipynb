{
 "metadata": {
  "name": "",
  "signature": "sha256:0b9da3d8d8d7aa47f4390cebfe573c7132f48d0cec1ea5dbe1e117f7d389cdb7"
 },
 "nbformat": 3,
 "nbformat_minor": 0,
 "worksheets": [
  {
   "cells": [
    {
     "cell_type": "markdown",
     "metadata": {},
     "source": [
      "# Gaussian Process Regression in GPy\n",
      "\n",
      "## Machine Learning Summer School, Sydney, Australia\n",
      "\n",
      "### 23rd February 2015\n",
      "\n",
      "### Neil D. Lawrence and Nicolas Durrande\n",
      "\n",
      "In the introduction to `GPy` you saw how it was possible to build covariance functions with the GPy software. The covariance function contains the assumptions about the data in it. In the Gaussian process, the covariance funciton *encodes* the model. However, to make predictions, you need to combine the model with data. \n",
      "\n",
      "If the data we are given, $\\mathbf{y}$ is *real* valued, then the problem is known as a regression problem. If a Gaussian noise model is used, then this is known as Gaussian process regression.\n"
     ]
    },
    {
     "cell_type": "code",
     "collapsed": false,
     "input": [
      "%matplotlib inline\n",
      "import numpy as np\n",
      "import pods\n",
      "import pylab as plt\n",
      "import GPy\n",
      "from IPython.display import display"
     ],
     "language": "python",
     "metadata": {},
     "outputs": [
      {
       "output_type": "stream",
       "stream": "stderr",
       "text": [
        "/Users/neil/Library/Enthought/Canopy_64bit/User/lib/python2.7/site-packages/pytz/__init__.py:29: UserWarning: Module pods was already imported from /Users/neil/sods/ods/pods/__init__.pyc, but /Users/neil/Library/Enthought/Canopy_64bit/User/lib/python2.7/site-packages is being added to sys.path\n",
        "  from pkg_resources import resource_stream\n"
       ]
      }
     ],
     "prompt_number": 1
    },
    {
     "cell_type": "markdown",
     "metadata": {},
     "source": [
      "We will now combine the Gaussian process prior with some data to form a GP regression model with GPy. We will generate data from the function \n",
      "$$\n",
      "f(x) = \u2212 \\cos(\\pi x ) + \\sin(4\\pi x )\n",
      "$$ \n",
      "over $[0, 1]$, adding some noise to give $y(x) = f(x) + \\epsilon$, with the noise being Gaussian distributed, $\\epsilon \\sim \\mathcal{N}(0, 0.01)$. "
     ]
    },
    {
     "cell_type": "code",
     "collapsed": false,
     "input": [
      "X = np.linspace(0.05,0.95,10)[:,None]\n",
      "Y = -np.cos(np.pi*X) + np.sin(4*np.pi*X) + np.random.normal(loc=0.0, scale=0.1, size=(10,1)) \n",
      "plt.figure()\n",
      "plt.plot(X,Y,'kx',mew=1.5)"
     ],
     "language": "python",
     "metadata": {},
     "outputs": [
      {
       "metadata": {},
       "output_type": "pyout",
       "prompt_number": 2,
       "text": [
        "[<matplotlib.lines.Line2D at 0x10f69c810>]"
       ]
      },
      {
       "metadata": {},
       "output_type": "display_data",
       "png": "[encoded data removed]",
       "text": [
        "<matplotlib.figure.Figure at 0x10f6770d0>"
       ]
      }
     ],
     "prompt_number": 2
    },
    {
     "cell_type": "markdown",
     "metadata": {},
     "source": [
      "A GP regression model based on an exponentiated quadratic covariance function can be defined by first defining a covariance function, "
     ]
    },
    {
     "cell_type": "code",
     "collapsed": false,
     "input": [
      "k = GPy.kern.RBF(input_dim=1, variance=1., lengthscale=0.2)"
     ],
     "language": "python",
     "metadata": {},
     "outputs": [],
     "prompt_number": 3
    },
    {
     "cell_type": "markdown",
     "metadata": {},
     "source": [
      "And then combining it with the data to form a Gaussian process model,"
     ]
    },
    {
     "cell_type": "code",
     "collapsed": false,
     "input": [
      "model = GPy.models.GPRegression(X,Y,k)"
     ],
     "language": "python",
     "metadata": {},
     "outputs": [],
     "prompt_number": 6
    },
    {
     "cell_type": "markdown",
     "metadata": {},
     "source": [
      "Just as for the covariance function object, we can find out about the model using the command `display(m)`. "
     ]
    },
    {
     "cell_type": "code",
     "collapsed": false,
     "input": [
      "display(model)"
     ],
     "language": "python",
     "metadata": {},
     "outputs": [
      {
       "html": [
        "<style type=\"text/css\">\n",
        ".pd{\n",
        "    font-family: \"Courier New\", Courier, monospace !important;\n",
        "    width: 100%;\n",
        "    padding: 3px;\n",
        "}\n",
        "</style>\n",
        "\n",
        "<p class=pd>\n",
        "<b>Model</b>: GP regression<br>\n",
        "<b>Log-likelihood</b>: -13.2481164705<br>\n",
        "<b>Number of Parameters</b>: 3<br>\n",
        "<b>Updates</b>: True<br>\n",
        "</p>\n",
        "<style type=\"text/css\">\n",
        ".tg  {font-family:\"Courier New\", Courier, monospace !important;padding:2px 3px;word-break:normal;border-collapse:collapse;border-spacing:0;border-color:#DCDCDC;margin:0px auto;width:100%;}\n",
        ".tg td{font-family:\"Courier New\", Courier, monospace !important;font-weight:bold;color:#444;background-color:#F7FDFA;border-style:solid;border-width:1px;overflow:hidden;word-break:normal;border-color:#DCDCDC;}\n",
        ".tg th{font-family:\"Courier New\", Courier, monospace !important;font-weight:normal;color:#fff;background-color:#26ADE4;border-style:solid;border-width:1px;overflow:hidden;word-break:normal;border-color:#DCDCDC;}\n",
        ".tg .tg-left{font-family:\"Courier New\", Courier, monospace !important;font-weight:normal;text-align:left;}\n",
        ".tg .tg-right{font-family:\"Courier New\", Courier, monospace !important;font-weight:normal;text-align:right;}\n",
        "</style>\n",
        "<table class=\"tg\">\n",
        "<tr>\n",
        "  <th><b>GP_regression.</b></th>\n",
        "  <th><b>Value</b></th>\n",
        "  <th><b>Constraint</b></th>\n",
        "  <th><b>Prior</b></th>\n",
        "  <th><b>Tied to</b></th>\n",
        "</tr>\n",
        "<tr><td class=tg-left>rbf.variance           </td><td class=tg-right>  1.0</td><td class=tg-left>   +ve    </td><td class=tg-left>     </td><td class=tg-left>       </td></tr>\n",
        "<tr><td class=tg-left>rbf.lengthscale        </td><td class=tg-right>  0.2</td><td class=tg-left>   +ve    </td><td class=tg-left>     </td><td class=tg-left>       </td></tr>\n",
        "<tr><td class=tg-left>Gaussian_noise.variance</td><td class=tg-right>  1.0</td><td class=tg-left>   +ve    </td><td class=tg-left>     </td><td class=tg-left>       </td></tr>\n",
        "</table>"
       ],
       "metadata": {},
       "output_type": "display_data",
       "text": [
        "<GPy.models.gp_regression.GPRegression at 0x10f67f310>"
       ]
      }
     ],
     "prompt_number": 7
    },
    {
     "cell_type": "markdown",
     "metadata": {},
     "source": [
      "Note that by default the model includes some observation noise\n",
      "with variance 1. We can see the posterior mean prediction and visualize the marginal posterior variances using \n",
      "```python\n",
      "model.plot()\n",
      "```"
     ]
    },
    {
     "cell_type": "code",
     "collapsed": false,
     "input": [
      "_ = model.plot()"
     ],
     "language": "python",
     "metadata": {},
     "outputs": [
      {
       "metadata": {},
       "output_type": "display_data",
       "png": "[encoded data removed]",
       "text": [
        "<matplotlib.figure.Figure at 0x1035c6650>"
       ]
      }
     ],
     "prompt_number": 8
    },
    {
     "cell_type": "markdown",
     "metadata": {},
     "source": [
      "The actual predictions of the model for a set of points `Xstar`\n",
      "(an $m \\times p$ array) can be computed using \n",
      "\n",
      "```python\n",
      "Ystar, Vstar, up95, lo95 = model.predict(Xstar)`\n",
      "```\n",
      "\n",
      "### Exercise 1\n",
      "\n",
      "What do you think about this first fit? Does the prior given by the GP seem to be\n",
      "appropriate?"
     ]
    },
    {
     "cell_type": "raw",
     "metadata": {},
     "source": [
      "# Exercise 1 answer"
     ]
    },
    {
     "cell_type": "markdown",
     "metadata": {},
     "source": [
      "### Exercise 2\n",
      "\n",
      "The parameters of the models can be modified using the parameter name, for example \n",
      "```python\n",
      "model.Gaussian_noise.variance = 0.001\n",
      "```\n",
      "Change the values of the parameters to obtain a better fit."
     ]
    },
    {
     "cell_type": "code",
     "collapsed": false,
     "input": [
      "# Exercise 2 answer here"
     ],
     "language": "python",
     "metadata": {},
     "outputs": [],
     "prompt_number": 12
    },
    {
     "cell_type": "markdown",
     "metadata": {},
     "source": [
      "As we saw when we introduced GPy and covariance functions, random sample paths from the conditional GP can be obtained using\n",
      "```python\n",
      "np.random.multivariate_normal(mu[:,0],C)\n",
      "``` \n",
      "Now you can sample paths from the *posterior* process by first obtaining the mean and covariance of the posterior, `mu` and `C`. These can be obtained from the `predict` method, \n",
      "```python\n",
      "mu, C, up95, lo95 = model.predict(Xp,full_cov=True)\n",
      "```\n"
     ]
    },
    {
     "cell_type": "markdown",
     "metadata": {},
     "source": [
      "### Exercise 3\n",
      "\n",
      "Obtain 10 samples from the posterior sample and plot them alongside the data below."
     ]
    },
    {
     "cell_type": "code",
     "collapsed": false,
     "input": [
      "# Exercise 3"
     ],
     "language": "python",
     "metadata": {},
     "outputs": [],
     "prompt_number": 13
    }
   ],
   "metadata": {}
  }
 ]
}
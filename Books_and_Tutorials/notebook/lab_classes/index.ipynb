{
 "metadata": {
  "name": "",
  "signature": "sha256:fbd0b196c25e92f910f8dd15f140e9a7dde0b5c1149063b3b8d00c2c6dac75c9"
 },
 "nbformat": 3,
 "nbformat_minor": 0,
 "worksheets": [
  {
   "cells": [
    {
     "cell_type": "markdown",
     "metadata": {},
     "source": [
      "# Lab Class Notebooks\n",
      "\n",
      "### 9th March 2015\n",
      "\n",
      "This subdirectory contains a collection of notebooks designed for running lab classes. The lab classes are associated with different schools and courses we teach, often associated with our Open Data Science Agenda.\n",
      "\n",
      "# Schools\n",
      "\n",
      "For the Department of Computer Science's Ambassador Programme we created this notebook, targeted at 14 year olds and above.\n",
      "\n",
      "* [Learning from Data: Movie Recommendation in the IPython Notebook](./ambassadors/movie_recommender.ipynb) This notebook is used for introducing school children with good ability in maths, as well as the general public, to the ideas behind learning algorithms.\n",
      "\n",
      "# Undergraduates\n",
      "\n",
      "Targeted at first year undergraduates with a mathematical high school background, this notebook came at the end of a 6 week introduction to machine learning and artificial intelligence. \n",
      "\n",
      "* [Machines and Intelligence](./machines_and_intelligence/index.ipynb) This was a notebook used to introduce first year students to the ideas behind machine learning (target level: post high school maths).\n",
      "\n",
      "# Masters Students\n",
      "\n",
      "This set of notebooks is targeted at MSc students with an undergraduate degree in a numerical area.\n",
      "* [Machine Learning and Adaptive Intelligence](./machine_learning/index.ipynb) These notebooks are used in the lab classes of Neil's Level 4/MSc module on machine learning.\n",
      "\n",
      "# PhD and Other Post Graduate\n",
      "\n",
      "These short schools are targeted at PhD and other post-graduate level students. The Gaussian process schools assume that some prior background in machine learning has been taught. The data science school is targeted at students with a technical background, who may not have seen machine learning courses before.\n",
      "\n",
      "* [Data Science School](./dss/index.ipynb) These notebooks are the foundation of a short course on data science designed to be taught across three to five days. \n",
      "* [Gaussian Process Schools (External)](./gprs/index.ipynb) These notebooks are used for our Gaussian process schools when taught on the road by Neil, often hosted by collaboratorsin other institutions.\n",
      "* [Gaussian Process Summer School (Sheffield)](./gpss/index.ipynb) These notebooks are used for our Gaussian process summer school lab classes as taught in Sheffield."
     ]
    },
    {
     "cell_type": "code",
     "collapsed": false,
     "input": [],
     "language": "python",
     "metadata": {},
     "outputs": []
    }
   ],
   "metadata": {}
  }
 ]
}
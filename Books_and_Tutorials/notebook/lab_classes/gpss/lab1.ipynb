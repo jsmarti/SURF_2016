{
 "metadata": {
  "name": "",
<<<<<<< HEAD
  "signature": "sha256:a0bcd91b5ed91adb5264747af45733aa02e7bb791cef37c5ba1da38b555761c4"
=======
  "signature": "sha256:06696a62a819949eebf9b7e224c50850978280676f0085b0c5450a7273db5fe1"
>>>>>>> FETCH_HEAD
 },
 "nbformat": 3,
 "nbformat_minor": 0,
 "worksheets": [
  {
   "cells": [
    {
     "cell_type": "heading",
     "level": 1,
     "metadata": {},
     "source": [
      "Lab 1: Regression"
     ]
    },
    {
     "cell_type": "heading",
     "level": 3,
     "metadata": {},
     "source": [
      "11th February 2014\n",
      "Gaussian Process Road Show, Pereira, Colombia"
     ]
    },
    {
     "cell_type": "heading",
     "level": 2,
     "metadata": {},
     "source": [
      "written by Neil Lawrence"
     ]
    },
    {
     "cell_type": "markdown",
     "metadata": {},
     "source": [
      "$$\\newcommand{\\inputScalar}{x}\n",
      "\\newcommand{\\inputVector}{\\mathbf{x}}\n",
      "\\newcommand{\\inputMatrix}{\\mathbf{X}}\n",
      "\\newcommand{\\dataScalar}{y}\n",
      "\\newcommand{\\dataVector}{\\mathbf{y}}\n",
      "\\newcommand{\\dataMatrix}{\\mathbf{Y}}\n",
      "\\newcommand{\\lengthScale}{\\ell}\n",
      "\\newcommand{\\mappingScalar}{w}\n",
      "\\newcommand{\\mappingVector}{\\mathbf{w}}\n",
      "\\newcommand{\\mappingFunctionScalar}{f}\n",
      "\\newcommand{\\mappingFunctionVector}{\\mathbf{f}}\n",
      "\\newcommand{\\dataStd}{\\sigma}\n",
      "\\newcommand{\\numData}{n}\n",
      "\\newcommand{\\gaussianDist}[3]{\\mathcal{N}\\left(#1|#2,#3\\right)}\n",
      "\\newcommand{\\gaussianSamp}[2]{\\mathcal{N}\\left(#1,#2\\right)}\n",
      "\\newcommand{\\zerosVector}{\\mathbf{0}}\n",
      "\\newcommand{\\eye}{\\mathbf{I}}\n",
      "\\newcommand{\\noiseScalar}{\\epsilon}\n",
      "\\newcommand{\\noiseVector}{\\mathbf{\\epsilon}}\n",
      "\\newcommand{\\noiseMatrix}{\\mathbf{\\Epsilon}}\n",
      "\\newcommand{\\basisMatrix}{\\mathbf{\\Phi}}\n",
      "\\newcommand{\\basisVector}{\\mathbf{\\phi}}\n",
      "\\newcommand{\\basisScalar}{\\phi}\n",
      "\\newcommand{\\expSamp}[1]{\\left<#1\\right>}\n",
      "\\newcommand{\\expDist}[2]{\\left<#1\\right>_{#2}}\n",
      "\\newcommand{\\covarianceMatrix}{\\mathbf{C}}\n",
      "\\newcommand{\\meanVector}{\\boldsymbol{\\mu}}\n",
      "\\newcommand{\\kernelScalar}{k}\n",
      "\\newcommand{\\kernelVector}{\\mathbf{\\kernelScalar}}\n",
      "\\newcommand{\\kernelMatrix}{\\mathbf{K}}\n",
      "\\newcommand{\\meanScalar}{\\mu}\n",
      "\\newcommand{\\ltwoNorm}[1]{\\left\\Vert #1 \\right\\Vert_2}$$"
     ]
    },
    {
     "cell_type": "markdown",
     "metadata": {},
     "source": [
      "Welcome to the IPython notebook! We will be using the IPython notebook for all our lab classes and assignments. It is a really convenient way to interact with data using python. In this first lab session we are going to familiarise ourselves with the notebook and start getting used to python whilst we review some of the material from the first lecture.\n",
      "\n",
      "Python is a generic programming language with 'numerical' and scientific capabilities added on through the numpy and scipy libraries. There are excellent 2-D plotting facilities available through matplotlib.\n"
     ]
    },
    {
     "cell_type": "heading",
     "level": 3,
     "metadata": {},
     "source": [
      "Importing Libraries"
     ]
    },
    {
     "cell_type": "markdown",
     "metadata": {},
     "source": [
      "The numpy library provides most of the manipulations we need for arrays in python. numpy is short for numerical python, but as well as providing the numerics, numpy provides contiguous array objects. These objects weren't available in the original python. The first step is to import numpy. We'll then use it to draw samples from a \"standard normal\". A standard normal is a Gaussian density with mean of zero and variance of one. We'll draw 10 samples from the standard normal."
     ]
    },
    {
     "cell_type": "code",
     "collapsed": false,
     "input": [
      "%pylab inline\n",
      "import numpy as np\n",
      "import pylab as pb\n",
      "import GPy\n"
     ],
     "language": "python",
     "metadata": {},
     "outputs": [
      {
       "output_type": "stream",
       "stream": "stdout",
       "text": [
        "Populating the interactive namespace from numpy and matplotlib\n"
       ]
<<<<<<< HEAD
=======
      },
      {
       "output_type": "stream",
       "stream": "stderr",
       "text": [
        "/home/frb/anaconda/lib/python2.7/site-packages/GPy-0.4.6-py2.7.egg/GPy/util/linalg.py:49: UserWarning: warning: caught this exception:/home/frb/anaconda/lib/python2.7/site-packages/numpy/core/_dotblas.so: undefined symbol: dsyrk_\n",
        "  warnings.warn(\"warning: caught this exception:\" + str(e))\n"
       ]
>>>>>>> FETCH_HEAD
      }
     ],
     "prompt_number": 1
    },
    {
     "cell_type": "markdown",
     "metadata": {},
     "source": [
      "To get help about any command in the notebook simply type that command followed by a question mark."
     ]
    },
    {
     "cell_type": "code",
     "collapsed": false,
     "input": [
      "np.random.normal?\n",
      "X = np.random.normal(0, 1, size=(10))"
     ],
     "language": "python",
     "metadata": {},
     "outputs": [],
     "prompt_number": 2
    },
    {
     "cell_type": "markdown",
     "metadata": {},
     "source": [
      "Now let's look at the samples, we can show them using the print command."
     ]
    },
    {
     "cell_type": "code",
     "collapsed": false,
     "input": [
      "print X\n",
      "type(X)"
     ],
     "language": "python",
     "metadata": {},
     "outputs": [
      {
       "output_type": "stream",
       "stream": "stdout",
       "text": [
<<<<<<< HEAD
        "[ 1.30490063 -1.16523412  0.27651269 -0.64433448  2.10657119  0.22366496\n",
        "  0.44569053 -0.52822466 -0.00648016  0.85341948]\n"
=======
        "[ 0.44088425  0.70456602 -0.38120036 -0.13851911 -0.91925854 -2.11399485\n",
        " -0.35770287  0.54295011  0.69667477  2.70344225]\n"
       ]
      },
      {
       "metadata": {},
       "output_type": "pyout",
       "prompt_number": 3,
       "text": [
        "numpy.ndarray"
>>>>>>> FETCH_HEAD
       ]
      }
     ],
     "prompt_number": 3
    },
    {
     "cell_type": "heading",
     "level": 2,
     "metadata": {},
     "source": [
      "Estimating Moments"
     ]
    },
    {
     "cell_type": "markdown",
     "metadata": {},
     "source": [
      "We can compute the sample mean by adding all the samples together and dividing by the number of samples."
     ]
    },
    {
     "cell_type": "code",
     "collapsed": false,
     "input": [
      "X.mean()"
     ],
     "language": "python",
     "metadata": {},
     "outputs": [
      {
       "metadata": {},
       "output_type": "pyout",
       "prompt_number": 4,
       "text": [
<<<<<<< HEAD
        "0.28664860614452881"
=======
        "0.11778416673671548"
>>>>>>> FETCH_HEAD
       ]
      }
     ],
     "prompt_number": 4
    },
    {
     "cell_type": "markdown",
     "metadata": {},
     "source": [
      "which is easy to write in code as follows"
     ]
    },
    {
     "cell_type": "code",
     "collapsed": false,
     "input": [
      "X.var()"
     ],
     "language": "python",
     "metadata": {},
     "outputs": [
      {
       "metadata": {},
       "output_type": "pyout",
       "prompt_number": 5,
       "text": [
<<<<<<< HEAD
        "0.84241844834997459"
=======
        "1.4247274710605642"
>>>>>>> FETCH_HEAD
       ]
      }
     ],
     "prompt_number": 5
    },
    {
     "cell_type": "markdown",
     "metadata": {},
     "source": [
      "We know in this case, because we sampled from a standard normal, that the mean and variance of the distribution should be 0 and 1. Why do you not get a mean of 0 and a variance of 1? Let's explore what happens as we increase the number of samples. To do this we are going to use for loops and python lists. We start by creating empty lists for the means and variances. Then we create a list of integers to iterate through. In Python, a for loop always iterates through a list (in some languages this is called a foreach loop, its counterpart the counter for loop only exists by creating a list of integers, see http://en.wikipedia.org/wiki/Foreach_loop#Python). We can use the range command to create the numbers of samples. "
     ]
    },
    {
     "cell_type": "code",
     "collapsed": false,
     "input": [
      "means = []\n",
      "variances = []\n",
      "samples = [10, 50, 100, 500, 1000, 5000, 10000, 50000, 100000] \n",
      "for n in samples:\n",
      "    x = np.random.randn(n)\n",
      "    mean = x.mean()\n",
      "    variance = (x**2).mean() - mean**2\n",
      "    means.append(mean)\n",
      "    variances.append(variance)\n"
     ],
     "language": "python",
     "metadata": {},
     "outputs": [],
     "prompt_number": 6
    },
    {
     "cell_type": "heading",
     "level": 1,
     "metadata": {},
     "source": [
      "Plotting in Python"
     ]
    },
    {
     "cell_type": "markdown",
     "metadata": {},
     "source": [
      "We'll now plot the variance and the mean against the number of samples. To do this, we need to first convert the samples, varianes and means from Python lists, to numpy arrays."
     ]
    },
    {
     "cell_type": "code",
     "collapsed": false,
     "input": [
      "means = np.asarray(means)\n",
      "variances = np.asarray(variances)\n",
      "samples = np.asarray(samples)"
     ],
     "language": "python",
     "metadata": {},
     "outputs": [],
     "prompt_number": 7
    },
    {
     "cell_type": "markdown",
     "metadata": {},
     "source": [
      "Next we need to include the plotting functionality from matplotlib, and instruct IPython notebook to include the plots *inline* with the notebook, rather than in a different window. First we import the plotting library, matplotlib."
     ]
    },
    {
     "cell_type": "markdown",
     "metadata": {},
     "source": [
      "Here we plot the estimated mean against the number of samples. However, since the samples go up logarithmically it's better to use a logarithmic axis for the x axis, as follows."
     ]
    },
    {
     "cell_type": "code",
     "collapsed": false,
     "input": [
      "plt.semilogx(samples, means)\n",
      "xlabel('$\\log_{10}n$')\n",
      "ylabel('mean')"
     ],
     "language": "python",
     "metadata": {},
     "outputs": [
      {
       "metadata": {},
       "output_type": "pyout",
       "prompt_number": 8,
       "text": [
<<<<<<< HEAD
        "<matplotlib.text.Text at 0x10e661990>"
=======
        "<matplotlib.text.Text at 0x7fd84bd754d0>"
>>>>>>> FETCH_HEAD
       ]
      },
      {
       "metadata": {},
       "output_type": "display_data",
<<<<<<< HEAD
       "png": "iVBORw0KGgoAAAANSUhEUgAAAZYAAAEZCAYAAAC0HgObAAAABHNCSVQICAgIfAhkiAAAAAlwSFlz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\nRMRS/wdZO/A4gS8SlAAAAABJRU5ErkJggg==\n",
       "text": [
        "<matplotlib.figure.Figure at 0x103fee8d0>"
=======
       "png": "iVBORw0KGgoAAAANSUhEUgAAAZYAAAEZCAYAAAC0HgObAAAABHNCSVQICAgIfAhkiAAAAAlwSFlz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\niIiIiIiIiIiIiIiIiIjk7/8DUXSomXCJcmsAAAAASUVORK5CYII=\n",
       "text": [
        "<matplotlib.figure.Figure at 0x7fd84be790d0>"
>>>>>>> FETCH_HEAD
       ]
      }
     ],
     "prompt_number": 8
    },
    {
     "cell_type": "markdown",
     "metadata": {},
     "source": [
      "We can do the same for the variances, again using a logarithmic axis for the samples. This time, we're going to lavel the x axis using a latex formula."
     ]
    },
    {
     "cell_type": "code",
     "collapsed": false,
     "input": [
      "plt.semilogx(samples, variances)\n",
      "xlabel('$\\log_{10}n$')\n",
      "ylabel('variance')"
     ],
     "language": "python",
     "metadata": {},
     "outputs": [
      {
       "metadata": {},
       "output_type": "pyout",
       "prompt_number": 9,
       "text": [
<<<<<<< HEAD
        "<matplotlib.text.Text at 0x10e6d9c10>"
=======
        "<matplotlib.text.Text at 0x7fd84be79150>"
>>>>>>> FETCH_HEAD
       ]
      },
      {
       "metadata": {},
       "output_type": "display_data",
<<<<<<< HEAD
       "png": "iVBORw0KGgoAAAANSUhEUgAAAYgAAAEZCAYAAACNebLAAAAABHNCSVQICAgIfAhkiAAAAAlwSFlz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\ngg==\n",
       "text": [
        "<matplotlib.figure.Figure at 0x10e661710>"
=======
       "png": "iVBORw0KGgoAAAANSUhEUgAAAY4AAAEZCAYAAACAZ8KHAAAABHNCSVQICAgIfAhkiAAAAAlwSFlz\nAAALEgAACxIB0t1+/AAAIABJREFUeJzt3XeYFHW2xvHvkExIEIGVIIMYCJJ0QQxoKyKIBBUVE4oY\nUEBcdxXU9a7D7l4D14RgQBSBNaCyaw6AQgurMiBIBiVKUkBABBFJdf84NU4zTOieqeqq7nk/zzNP\nd1c8lsOc/mUQERERERERERERERERERERERERERGRkBoFbADmF3LMU8BSYC7QMmb7vcBC99xXgUN8\nilFEREKkLZYMCkocnYAP3fenAdPd95nACnKTxevA9f6EKCIiiSjj8/WnAVsL2d8VGOO+zwaqADWB\nn4E9wOFAOfd1nX9hiohIvPxOHEWpDayJ+bzW3bYFeAxYDawHfgI+SXp0IiJykKATB0BGPtsaAH/C\nqqxqARWBa5IYk4iIFKBcwPdfB9SN+VzH3RYBvgA2u9v/A5wBvBJ7coMGDZzly5f7H6WISHpZDhxf\n3JODLnG8C1znvm+DVUltAL5xPx+GlUjOBxblPXn58uU4juP7zwMPPOD7eUUdW9D+RLbn3VbU5zA9\ny0TOjec4PU/vnmdh++N5bvFsS8azLMl9kvFvvSTPM+9nrFan2MqW5OQ4vAb8AzgWuAXYBrQG/gjM\nwrrhno51ye3gHvM98ANWPfUMcKu77QFgf57rZ2VlZfn8n2AyMzN9P6+oYwvan8j2vNtiP0ejUSKR\nSKExeKG4zzKRc+M5Ts/Tu+dZ2P54nltR25L1LAuKw+vzgniesZ8HDx4MMLjQIAqRX/tCKnHc7Cke\nyMrKIlmJuDTQ8/SOnqW3MjIyoAR//4OuqpIQSdY3utJCz9M7epbhohKHiEgpoxKHiIgklRKHiIgk\nRIlDREQSosQhIiIJUeIQEZGEKHGIiEhClDhERCQhShwiIpIQJQ4REUmIEoeIiCREiUNERBKixCEi\nIglR4hARkYQocYiISEKUOEREJCFKHCIikpCUTxxax0lEJLn8ThyjgA3A/EKOeQpYCswFWsZsrwKM\nBxYDi4A2+Z08daoncYqISJz8ThwvAR0L2d8JOB44AbgFeDZm31DgQ6AR0AxLIAd5+mlP4hQRkTj5\nnTimAVsL2d8VGOO+z8ZKGTWBykBbrMQCsBfYlt8FJk2Cdes8iVVEROIQdBtHbWBNzOe1QB2gPrAJ\nK7HMBkYCh+d3gauuguef9zlKERH5XdCJAyAjz2cHKAecAjzjvv4C3JPfyf36wciRsHu3rzGKiIir\nXMD3XwfUjflcx92WgZU+Zrrbx1NA4njzzSwqVICrr4b+/SNEIhEfwxURST3RaJRoNOrZ9fJ+2/dD\nJvAe0DSffZ2A/u5rG+BJcntPTQVuAr4FsoDDgEF5znccx2H8eHjqKfWwEhGJR0ZGBpTg77/fieM1\n4BzgaKxb7gNAeXffCPd1ONbz6hfgBqxNA6A58AJQAVju7svbQO44jsOePVC/Pnz0ETTNLz2JiMjv\nwp44/OY47gjAv/8d1q+H554LOCIRkZBT4nATx/ffQ+PGsHIlVKkScFQiIiFW0sQRhl5VnjjmGOjQ\nAcaMKfpYEREpvrQpcQBMmwY33QSLF0OZtEmJIiLeUokjxllnwSGHwKefBh2JiEj6SqvEkZEB/ftr\n/ioRET+lVVUVwC+/wLHHwtdf26uIiBxIVVV5HHEE9OypbrkiIn5JuxIHwLffQtu2sHq1tXmIiEgu\nlTjyceKJ0Lw5vPlm0JGIiKSftEwcYLPmDh8edBQiIuknbRNH5842mnzWrKAjERFJL2mbOMqWhVtv\nVddcERGvpWXjeI5Nm6y9Y9kyqFYtiVGJiISYGscLUb06dOkCL70UdCQiIukjrUscANnZtjrg0qWa\nv0pEBFTiKFLr1lC1Knz8cdCRiIikh7RPHBkZ1jVXjeQiIt5I+6oqgF9/tXmrpk+HBg2SEJWISIip\nqioOhx0GvXrBs88GHYmISOrzO3GMAjYA8ws55ilgKTAXaJlnX1nga+C9kgZy220wejTs3FnSK4mI\nlG5+J46XgI6F7O8EHA+cANwC5C0T3AEsAoqujyrCccdBmzYwblxJryQiUrr5nTimAVsL2d8VyFkl\nPBuoAtR0P9fBEssLeNQWk9NIHkeziIiIFCDoNo7awJqYz2vdbQBPAHcD+726WYcOsG2bje0QEZHi\nCTpxwMGliQygM7ARa9/wrOdXmTLW1qGuuSIixVcu4PuvA+rGfK7jbuuOVWN1Ag4FKgFjgevyXiAr\nK+v395FIhEgkUugNb7jBuuRu3Ag1apQseBGRVBCNRolGo55dLxnjODKxXlFN89nXCejvvrYBnnRf\nY50D3AV0yef8uMZx5HXjjXD88XDvvQmfKiKS8sI+juM14AvgJKwtozfQx/0B+BBYASwDRgB9C7iO\np83Z/frZmI69e728qohI6VAqRo7n5/TTYdAguPhijyMSEQm5sJc4Qqt/fzWSi4gUR6ktcfz2G9Sr\nB599Bied5HFUIiIhphJHMR1yiDWSP/NM0JGIiKSWUlviAFi9Glq2hO++g4oVPYxKRCTEVOIogWOP\nhbPPhldeCToSEZHUUaoTB2j+KhGRRJX6xNGuHezeDdOmBR2JiEhqKPWJIyMD+vZV11wRkXiV6sbx\nHNu2QWYmLFoExxxT8qBERMJMjeMeqFwZrrwSnn8+6EhERMJPJQ7XggW2XseqVVC+vCeXFBEJJZU4\nPHLyyTZj7ttvBx2JiEi4KXHEyOmaKyIiBVNVVYw9e2z+qokTrQQiIpKOVFXlofLl4ZZbVOoQESmM\nShx5rF8PTZpYI3nlyp5eWkQkFFTi8FitWnDBBTB2bNCRiIiEk0oc+Zg6Ffr0sQGBGan+hERE8lCJ\nwwdt20K5cjB5ctCRiIiEj9+JYxSwAZhfyDFPAUuBuUBLd1tdYAqwEFgADPAxxoNkZKhrrohIQfyu\niGkL7ADGAk3z2d8J6O++ngYMBdoAf3B/5gAVgVnAxcDiPOf7UlUFsGOHdc2dMwfq1vXlFiIigQh7\nVdU0YGsh+7sCY9z32UAVoCbwA5Y0wBLPYqCWTzHmq2JFuOYaGDEimXcVEQm/oNs4agNrYj6vBerk\nOSYTq8LKTlJMv+vbF0aOhN9+S/adRUTCK+jEAQcXl2LrnioC44E7sJJHUjVsCE2bwvjxyb6ziEh4\nlQv4/uuwhvAcddxtAOWBfwMvAwVOPZiVlfX7+0gkQiQS8TTA/v1hyBCrthIRSUXRaJRoNOrZ9ZIx\nSiETeI+iG8fbAE+6rxlY28dm4M5Cru1b43iOvXvhuOPgnXegZcuijxcRCbuSNo77nTheA84Bjsa6\n5T6AlSQAcpqdhwMdgV+AG4DZwFnAVGAeuVVX9wIf57m+74kD4MEHYcUKeOEF328lIuK7sCcOvyUl\ncWzcCCedZMmjalXfbyci4quwd8dNCzVqwEUXwUsvBR2JiEjwVOKI05dfQs+e8O23UEbpVkRSmEoc\nSdKmDVSqBBMmBB2JiEiwlDjipPmrRERMPEWVMsA1QH3g78Cx2DxSM3yMK15Jq6oC2LkTjj0WZs6E\n+vWTdlsREU8lo6rqGeB04Gr38w53W6lz+OHQqxc8+2zQkUjYbdsG+/cHHYWIP+JJHKcBfYFf3c9b\nyB2LUercdpv1rvr116KPldLr3HNtCeIXX9RcZ5J+4kkcu4GyMZ+rA6X2u1SDBtCqFbz+etCRSFht\n3w7ffANDh9o8Z/XrwyOPwE8/BR2ZiDfiSRzDgLeAGsCDwOfAQ34GFXZqJJfCzJxp09NccAF89BF8\n/DEsWGBfOu6+G9auDTpCkZKJJ3G8DAzCksV6oBvwhp9BhV3HjrB5M8wIQ/cACZ3p0637do5mzeBf\n/4Kvv4Z9++xzr16WTERSUTyJow02Y+1w92cd1u5RapUta20dw4cHHYmEUd7EkePYY+Hxx2H5cjjx\nRDj/fOjcGaZOhSR2DhQpsXi6Y83BFlLK+dUuC3xF7vrgQUpqd9xYmzdb1cPSpVC9eiAhSAg5DtSs\nCbNnQ528S5LlsWsXjB0Ljz4KRx1l1VgXX2xfTET8lKyR47F/nfdxYGN5qVStGlx6qfWaEcmxciVU\nqFB00gA49FC45RZYvBgGDoT/+z9bPGzECPXak3CLJ3GsBAZgXXArYKvxrfAzqFTRrx8895zVW4sA\nZGfDaQlW5JYta19CvvwSRo2C99+3nlj/+7+wZYs/cYqURDyJ41bgTKxtYy3W5nGLn0GlilNPhT/8\nAT74IOhIJCwKat+IR0YGtG0L770Hn34Ky5bB8cfDnXfC6tXexilSEvEkjg1AD6w7bg3gKmCjn0Gl\nEnXNlVglSRyxmjSxgabz5kG5cta999prYe7ckl9bpKTiaRypAdyMLQGbs0a5A/T2KaZEBNY4nmPX\nLqhXD6ZNs54yUnrt2mVtX5s22fQ0Xtq2zdo+nnzSuvMOHGij0zNSfWEECUQyGsffASoBk4APYn4E\na+Ds3VvzV4mN02jY0PukAVC5siWLlSvhiiuspNuqFbzxBuzd6/39RAoTb3fcFn4HUkyBlzgAvvsO\nTjnF6qGPOCLoaCQoTzxh7RLJqLrcv98a0YcMge+/h7/8xQYV+pG0JP0ko8TxPnBRMa8/CmsjmV/I\nMU8BS4G5HDg2pCOwxN03qJj3T4p69axR85VXgo5EguRV+0Y8ypSBrl3hv/+1UemTJllPrMGD4ccf\nkxNDMmmiyHCJJ3H8CXgP2AVsd39+jvP6L2EJoCCdgOOBE7CeWjkVPmWxUeodgcZYg3yjOO8ZiJxG\n8hAUgCQgyUwcsc44A956Cz77zObBOvFEuP12q9ZKdfPnW1flI46wDgKDBsHkyUokQYsncVR0jzsU\nONL9qRTn9acBWwvZ3xUY477PBqpgi0S1BpYBq4A9wDhsjqzQatfOGkc//zzoSCQI69fDjh3WfTYo\nDRvCyJGwcCFUrGhtIFdeCbNmBRdTcS1ZYrG3bw9nnmnjWYYPtzbF++6z2RouugieesqO1Re25Ip3\n5HhV7I/52TE/XqgNrIn5vNbdVquA7aFVpgz07auuuaVVdraVNsLQy+mYY+Chh2DFCkse3brZvFgT\nJ4b/D+yyZdCzJ5x9NrRoYZ//8heoVMkSyODBVrJbtcradObNs+SSmWmj8MePh62FfVUVT8STOG4G\npgITgcHABCDLwxhC8E/NG9dfb1No//BD0JFIsgVVTVWYSpXsj+6KFXDddfDnP1t1z6uvwp49QUd3\noFWr4MYb7RmecIIljHvusZJTfo46Ci6/HF54wTqlfPwxNG5sI+/r1YPTT4esLPjiC/U680O5og/h\nDqAV8CVwLtAQ79bjWAfUjflcBytdlM+zva67/SBZWVm/v49EIkQiEY9CS1yVKtZVcuRI+J//CSwM\nCcD06XD//UFHkb8KFSxx9Oxp64MMGWLVPXfeaX+sC/rjnAxr1tjUKm++aSX2pUuhatXErpGRAY0a\n2c+f/pRbZTxhgl1z9Wo47zxbH6VDB0sspU00GiUajSb1nl+5r3Owdg6ARQmcn0nBvao6AR+679sA\n09335YDl7rkV3Hvn1zjuhM3cuY5Tu7bj7NkTdCSSLHv2OE7Fio7z009BRxK/6dMdp3t3xzn6aMe5\n/37H2bAhufdfv95xbr/dcapWdZyBAx1n0yZ/7zVmjONcc43jVK/uOCeeaPd+/33H2b7dv/uG0cqV\njnPXXY7DgRPXJiyeqqo1WBvH29ggwHexRut4vAZ8AZzkXqc30Mf9AUsaK7CG8BHY2uYAe4H+WLXY\nIuB1YHGc9wxUs2bWLfKdd4KORJJlwQJba6Ny5aAjid9pp1l7wBdf2Ej3k06yNWaWLfP3vhs3WvVZ\nkyY2lcrixbas7tFH+3fPY46xEtfLL1s18rhxUKsWPPaY7TvvPHj4YRvAuT8NF8V2HJgyBS65xObX\n8+K/MdH2hQjWo+pjbC3yoDlOCFv7Xn/dZs2dMiXoSCQZnnvOVoMcNSroSIpvwwbrtfTccxCJ2Nog\nrVt7d/3Nm23dkeefh6uusqqyWrW8u35x7dgB0ah1HJgwwdaFb9/eqrTat7dJTFPVzp02tuypp2wG\n7wEDbL6zihVLPgCwsBMrYeM1jipgfxgmfA5l4ti923p5TJpk36wkvfXqZWMpbkmDOaN37LA1Zh5/\n3ErOAwfChRcWv7fYTz/ZtZ5+Gi67DP76VyudhdWqVblJZPJkaw/p0MHaR846Cw45JOgIi7ZqFTzz\njH2ROeMMSxjt2h34/9DPxPEBNmJ8FQfXhznAccW9qYdCmTgAHnjARvCqe276a9jQ5oxq1izoSLyz\nZ4/9Nw0ZYlUbd99t4yoqVIjv/J9/hqFD7adLF+ssclwY/mIkYO9eK0nmJJKFCy155CSShg3D0f0a\nrDrqs8+sdPHZZ/Zlpl+/gp+5n4kjZ39dIKyrAYQ2caxbB02bWvavFO9wSUk5W7ZY6XLr1vRc8tVx\nrOQ8ZAh88431xLr5ZjjyyPyP/+UXq/J67DH74/q3v6XPrNFbtlgpZMIE+4HcJHL++Yn3BvNCTnXU\nsGGW6G6/3XrPFdVTrqSJoygZwAK/Lu6BwHonxOOyyxxn+PCgoxA/ffSR45x7btBRJMdXXzlOjx6O\nU62a49xzj/VWyrFzp+M8/rjj1KzpOJdf7jgLFwYXZzLs3+84ixc7ztChjtOpk+MceaTjtGnjOH/7\nm+N8/rn/vSpXrbLeaEcf7ThdujjOpEkWU7woYa+qeDLOGOBpYEZJbuQT9xmEUzRq/cgXLgxPkVa8\nlZVlbVoPPhh0JMmzYoW1W7zyirVbNGpkJYxWrWxkd/PmQUeYfL/9ljt2ZOJEq2mIHTuSmVnyezgO\nTJ1q1VHRqA047tcPGjRI/Fp+V1UBfINNRPgd8Iu7zQHCUKMb6sThOFZdNWyYLboj6adjR/ty0LVr\n0JEkX04b3uLF1gZy6qlBRxQeP/wAn3ySm0iqVMlNIpFIYoMud+600f7DhtmXlNtvt+7FJRm4mYzE\nkVnA9lXFvamHQp04wHo3TJ5sfeYlvezfbyv+LVkCNWsGHY2E1f79NqdWThKZMQP++MfcRNKihc11\nl9fq1fb348UXbSqWAQOsLcWL2otkJI4cNcgdOQ7haDAPfeLYvt269M2bB3XqBB2NeGnJEujUyapu\nROL1yy/W8ymnkX3LlgPHjixdatVRU6ZYyaJfP+9nXU5G4ugKPIbNWLsRqIeN4g7DCIXQJw6womWV\nKvCPfwQdiXhp9Gj7Bvnqq0FHIqnsu+/s92jiRKveqlnTShc9exbce62kkpE45gHnYdONtMQmOuyJ\nTR8StJRIHIsXW0PZd9/F3w9ewu/WW21G1gEDgo5E0sX+/VYV5XdnmmQsHbsH+NE9tiwwBfhjcW9Y\nGjVqZH9g/v3voCMRL4VxKnVJbWXKpEYPzHgSx1Zs1b9pwCvYGuE7/AwqHeUsLSvpYccOq4tu0SLo\nSESSL57EMQWbt+pP2OSGy4AufgaVjrp2taqquXODjkS8MGuWTTGiqkcpjeJJHOWx1f+i2PrjrwOb\nfYwpLZUrB336qNSRLlRNJaVZIrVpzYErgMuw1fja+RJRYlKicTzHhg02MdqKFcHMayPeueQSm/Sv\nR4+gIxFJXDIax3NsBH7AShvVi3vD0qxmTev3P3p00JFISTiOShxSusWTOPpi1VSfAkcDNxGO6UZS\nUr9+Nho0HVcaKy1Wu0Nfw7yuhIifysVxTF2sYXyOz7GUCqefbnPMTJpkI0Ul9eSUNlKh26SIH+Ip\ncdyLkoZnMjLUNTfVqZpKSrtE2jiKoyOwBFgKDMpnf1XgLWAukM2B05jcCywE5gOvAimwaGN8rr4a\nvvjCpl6W1KPEIaWdn4mjLDAcSx6NgauARnmOuQ+YjfXYug4Y6m7PBG4GTgGaute60sdYk+rww23y\nsueeCzoSSdRvv9mElX/U3AlSivmZOFpjgwVXYdOWjAO65TmmETbAEGzdj0ysx9bP7jmHY+0whwPr\nfIw16W67zRaT37Ur6EgkEXPm2FKoRxwRdCQiwfEzcdQG1sR8XutuizUXuNR93xqbebcOsAWbkXc1\nsB74CfjEx1iT7oQT4JRT4I03go5EEqFqKhF/E0c8I/MeBqoAXwP93dd9QAOsJ1cmNp17ReAaX6IM\nUP/+MHx40FFIIpQ4ROLrjltc67CuvDnqYqWOWNs5cHr2lcAK4CLgC3KnNvkPcAY2yeIBsrKyfn8f\niUSIRCIlizqJLrzQ1uqYOdPWa5bwmz7d1hkXSSXRaJRoNOrZ9fzsiV4Oa7doh1U3zcAayBfHHFMZ\n+BXYjTWGnwn0AloALwOtgF3AaPf8vJ1YU2rKkfwMGQKLFmk0eSrImTJm8+b8l/oUSRUlnXLEzxLH\nXqz6aQLWK+pFLGn0cfePwHpbjcaqtRYAN7r75gBjga+A/VjPq+d9jDUwvXtbe8ePP8LRRwcdjRQm\nOxtOO01JQyTVx76mfIkDoFcvW+hp4MCgI5HC3HefTaOuqipJdcmc5FB80q8fPPss7NsXdCRSGDWM\nixgljhBo1QqqV4ePPgo6EinIvn3w1VfQunXQkYgET4kjJDR/VbgtXAi1asFRRwUdiUjwlDhCokcP\nW4506dKgI5H8qJpKJJcSR0gceqj1sHr22aAjkfwocYjkUq+qEFm1yibPW73aJkKU8GjcGF59FVq0\nCDoSkZJTr6o0kpkJZ5xhf6CSae9e+M9/4Msvk3vfVPHTT7BmDZx8ctCRiISDEkfI5DSSJ6MgtWMH\nDBtms70++ih06wYTJvh/31QzYwaceiqU83O4rEgKUeIImfbt7Q+6n9/+v/8e/vpXqF8fPvsMXnnF\nFpZ6+23o2VPJIy+1b4gcSIkjZMqUgb59/emau2gR3HgjNGkC27ZZcho/3tZBB6sme+stSx4TJ3p/\n/1SlxCFyIDWOh9DWrXDccbBkCdSsWbJrOQ5Eo1YVNWuWTeV+221QrVrB5/z3v3DppVYSad++ZPdP\ndY5jc4gtWADHHBN0NCLeUON4GqpaFS6/HEaOLP419uyB116zXlp9+8Ill1ivrfvvLzxpAJx1ljWW\nX301TJpU/BjSwbJlULGikoZILCWOkOrXD0aMsB5Pidi+HZ54Ao4/3s4fPNhGPd90k40ViVds8vgk\nrdZeTIyqqUQOpsQRUs2bQ7168O678R2/bh0MGmQN3tnZ1nYRjULnzsWfBrxtW0seV11VepOHEofI\nwZQ4Qiye+avmzYPrr4emTeG332wivnHjvFtRsG1b+Pe/LXl8+qk310wlShwiB1PjeIjt3m2ljsmT\noVGj3O2OYyWARx+F+fNhwADo08faRvwydSp07w6vvw7nnefffcJk506btXjz5sSq+UTCTo3jaaxC\nBWubeOYZ+7x7N/zrXzbtxZ13Wilg5Uq45x5/kwbA2Wdb9VePHpbISoNZs2y0uJKGyIE0Fjbk+vSB\nZs2gdm0YPtzWvH7kEejQATKSXF485xx4803r8fXGG3Duucm9f7KpmkokfypxhFydOlayWLAA3nvP\nqqg6dkx+0sgRiVjyuOIKa3xPZ0ocIvnz+89PR+BJoCzwAvBInv1VgVHAccAuoDew0N1XxT2nCeC4\n+6bnOT+t2zjCbMoUSx7jx1tJJN04jpXyPv/ceqqJpJMwt3GUBYZjyaMxcBXQKM8x9wGzgebAdcDQ\nmH1DgQ/dc5oBi32MVRJ07rnWUH7ZZTbfVbpZu9aWi83MDDoSkfDxM3G0BpYBq4A9wDigW55jGgFT\n3PffAJlAdaAy0BYrjQDsBbb5GKsUw3nnWdffyy6zXlfpJKeaKqgqQZEw8zNx1AbWxHxe626LNRe4\n1H3fGqgH1AHqA5uAl7ASyUhASxuFULt2uclj2rSgo/GO2jdECuZn4oin8eFhrC3ja6C/+7oP6+11\nCvCM+/oLcI8/YUpJtWtn82J1754+yUOJQ6RgfnbHXQfUjflcFyt1xNqONXrnWAmsACq6x850t4+n\ngMSRlZX1+/tIJEIkEilByFJc7drZyoXdu9s0JWedFXRExbd7N8yZYxNEiqSDaDRK1MNukH7W4JbD\n2i3aAeuBGVgDeWwjd2XgV2A3cDNwJtDL3TcVuAn4FsgCDgMG5bmHelWFzKRJcM01tq7HmWcGHU3x\nfPUV9O5t07mIpKMw96rai1U/TQAWAa9jSaOP+wPW22o+sAToANwRc/7twCtYO0gz4EEfYxWPtG8P\nL79s07h//nnQ0RSPqqlECpfqfUZU4gipiRPh2mtTs+Rx7bXWY6x376KPFUlFYS5xSCl2wQU2r9Yl\nl9h65qlEJQ6RwilxiG86dICxY+Hii21981SwaRP8+KPNCSYi+VPiEF917GjJo1u31Ege2dnQunXx\nF78SKQ30z0N817EjjBljyWN63tnGQkbVVCJFU+KQpLjwQhg9Grp2tW/1YaXEIVI09aqSpPrgA7jh\nBpsi/rTTgo7mQPv2wVFHwYoVUK1a0NGI+Ee9qiSlXHQRvPQSdOkCM2YEHc2BFi+GmjWVNESKosQh\nSXfRRTBqlCWPmTOLPj5ZVE0lEh8lDglE587w4ov2GpbkocQhEh8lDglM587wwgv2+tVXQUejxCES\nLzWOS+DefRduvhk+/BBOPTWYGH7+GWrVgq1boXz5YGIQSZaSNo77Oa26SFy6drU1vjt1Ci55zJwJ\nLVsqaYjEQ4lDQqGbu6hwp07w0UdwyinJvb+qqUTipzYOCY1u3WDECBssOHt2cu+txCESP7VxSOi8\n9RbcemvySh6OAzVq2Kp/tWv7fz+RoKmNQ9LOJZfYH/MLL4SPP7a2Bz+tWAGHHqqkIRIvJQ4JpUsv\nPTB5tGjh371UTSWSGCUOCa3u3e21Y0d/k4cSh0hi/G4c74itJ74UGJTP/qrAW9i64tlAkzz7ywJf\nA+/5GKOEWPfu8PTTljzmzvXnHkocIonxM3GUBYZjyaMxcBXQKM8x9wGzgebAdcDQPPvvABYBagEv\nxbp3h+HDbUVBr5PHr7/CokXJ7/4rksr8TBytgWXAKmAPMA7olueYRsAU9/03QCZQ3f1cB+gEvEDq\n9/6SErrQ8J2mAAAHiElEQVTsMhg2zEoe8+Z5d93Zs6FxYzjsMO+uKZLu/EwctYE1MZ/XuttizQUu\ndd+3BuphCQPgCeBuYL+PMUoKufxyGDrUSh7z53tzTVVTiSTOz8QRT/XSw0AVrB2jv/u6H+gMbHQ/\nq7Qhv7viCnjySbjgAm+ShxKHSOL87FW1Dqgb87kuVuqItR3oHfN5JbAC6AF0xaqqDgUqAWOxdpAD\nZGVl/f4+EokQiURKHLiEW48e9nrBBTBpEpx8cvGvNX06PPSQN3GJhFU0GiUajXp2PT+/zZfD2i3a\nAeuBGVgD+eKYYyoDvwK7gZuBM4Feea5zDnAX0CWfe2jkeCk2bhz8+c8wcWLxkse6ddC8OWzaBBkq\n10opEuaR43ux6qcJWA+rF7Gk0cfdPwLrbTUaq9ZaANxYwLWUHeQgV15pgwRzSh5N8nbmLkJ2tlVT\nKWmIJCbV/8moxCG8+ircdVfiyWPgQKhUCe6/37/YRMKopCUOzY4rKe/qq+HRR6F9exuTES81jIsU\nj6YckbRw9dVWbXX++fDJJzY2ozB79tgYjlatkhOfSDpR4pC0cc01ljzat7fk0SjvPAUx5s+HzEyo\nXDlp4YmkDSUOSSvXXmuvOSWPgpKHqqlEik+JQ9LOtdfmVlt9+ik0bHjwMdOnw9lnJz82kXSgxnFJ\nSz172sC+du1gyZKD96vEIVJ8KnFI2rruugNLHiedZNs3b4YNGwpvAxGRgilxSFq7/npLHu3a5SaP\n7GzrTVW2bNDRiaQmJQ5Je7165SaPyZNVTSVSUkocUirccENu8jjqKPjnP4OOSCR1acoRKVVGjYI+\nfWyCwxo1go5GJBglnXJEiUNKnc2boVq1oKMQCY4ShxKHiEhCNMmhiIgklRKHiIgkRIlDREQSosQh\nIiIJUeIQEZGEKHGIiEhCkpE4OgJLgKXAoHz2VwXeAuYC2UDOqtF1gSnAQmABMMD3SEVEpEh+J46y\nwHAseTQGrgLyzkl6HzAbaA5cBwx1t+8B7sQSSRugXz7nioei0WjQIaQVPU/v6FmGi9+JozWwDFiF\nJYJxQLc8xzTCShYA3wCZQHXgB2COu30HsBio5Wu0pZz+cXpLz9M7epbh4nfiqA2sifm81t0Way5w\nqfu+NVAPqJPnmEygJVaVlXTF/aVN5Lyiji1ofyLb824L4h9jSe4Z77nxHKfn6d3zLGx/PM8tkW1+\nC/O/9YL2BfG76XfiiGc+kIeBKsDXQH/3dV/M/orAeOAOrOSRdGH+ZdIfuuIdp+epxJGfMP9bL2hf\nEL+bfs9V1QbIwto4AO4F9gOPFHLOSqApliTKA+8DHwFP5nPsMqCBR7GKiJQWy4Hjgw6iIOWwADOB\nClibRd4G7sruPoCbgdHu+wxgLPCE30GKiEi4XIg1ei/DShwAfdwfgNPd/UuwKqnK7vazsNLJHKz6\n6mtySy4iIiIiIiIiIiIiIiLppD7wAvBm0IGkiW7A89jAzfYBx5LqGgLPAm8ANwYcS7o4ApgJXBR0\nIGkgAkzDfkfPCTaU4ChxeKsKlpCl5MpgyUNKbjBwF0ocXjgb+BAYRZoMcRgFbADm59le2OSJShwF\nK87zfBRo4X9oKSfRZ9kFG5N0KZKfRJ5ne6AHcD1KHAVJ5HnmjOmrAbyclOh81habbiT2P74s1r03\nExskmHd8iBJHwRJ5nhnYYM12yQ0xZRTndxPgnWQEl4ISeZ7/xMZ4TQDexv/BzKmoOL+fFYjj72c5\nz0L0zzTsPzJW7OSJkDt54gbgQezb8SAKH6FeWiXyPM/HkkYlbJTpiKREmDoSeZY1sJLGoeRO6ikH\nSuR53u9+vh7YRHzTG5U2iTzPhkAHrFp6WFEXToXEkZ/8Jk88DdgC3BpIRKmtoOd5O3H8EskBCnqW\nn7k/kpiCnmeOMckNJ+UV9DwfxtZFikuqrgCobxfe0vP0jp6lt/Q8veXJ80zVxLEOWyEwR10sc0rx\n6Hl6R8/SW3qe3ipVzzOTAxt44pk8UQqWiZ6nVzLRs/RSJnqeXsqklD7P14D1wG9Y3dwN7vb8Jk+U\noul5ekfP0lt6nt7S8xQRERERERERERERERERERERERERERERERERERERERERKZHzgb5BByEiIqmj\nPJAddBAiYZCq06qLJNseYGfQQYiEQaquACgSlCOwVSaXAScAjwPVgQHA19jSnJspfNnitkB3clcE\nbIKtoS2SElTiEEnMXdhazu9gi+L0wpbeXA+Mx5JAUWvd56zCthZbrvMEPwIV8YsSh0hickoUABuB\nVthCOUcC3YC7Y47tBtSKOe98oA/wX6ABMBOoDOz1PWoRDylxiMQvA0sSOUtv1gXmAccBb2KlkEXu\nvj8A18ecewXwCXAIcCywy93eCZgEnO5n4CJeUhuHSHwuBE4CHgLOAGoC1YDHsCTxAbAa+M7dtgaY\nG3P+4e7rDvf4nPaN7Vjp43N/wxcRkTC5F2s0LwucCIx1tz8A1HbfP+S+/hkrcYikrLJBByCSBg4H\nmgH1gEbAl8DPwLVY+8U8YDdWsqgJTAgmTBERERERERERERERERERERERERERERERERERERERERER\ngP8HMZq6lSA2gzYAAAAASUVORK5CYII=\n",
       "text": [
        "<matplotlib.figure.Figure at 0x7fd84bd3d790>"
>>>>>>> FETCH_HEAD
       ]
      }
     ],
     "prompt_number": 9
    },
    {
     "cell_type": "heading",
     "level": 2,
     "metadata": {},
     "source": [
      "Linear Regression: Iterative Solution"
     ]
    },
    {
     "cell_type": "markdown",
     "metadata": {},
     "source": [
      "Next we will code linear regression in python. We will do it in two ways, once using iterative updates (coordinate ascent) and then using linear algebra. \n",
      "For this part we are going to load in some real data, we will use the example from the Olympics: the pace of Marathon winners. To load their data (which is in comma separated values [csv] format) we first need to download it from [this link](http://staffwww.dcs.shef.ac.uk/people/N.Lawrence/dataset_mirror/olympic_marathon_men/olympicMarathonTimes.csv \"olympic marathon data\"), and then load it as follows:"
     ]
    },
    {
     "cell_type": "code",
     "collapsed": true,
     "input": [
      "data = GPy.util.datasets.olympic_marathon_men()\n",
      "x = data['X']\n",
      "y = data['Y']"
     ],
     "language": "python",
     "metadata": {},
<<<<<<< HEAD
     "outputs": [],
     "prompt_number": 12
=======
     "outputs": [
      {
       "output_type": "stream",
       "stream": "stdout",
       "text": [
        "Acquiring resource: olympic_marathon_men\n",
        "\n",
        "Details of data: \n",
        "Olympic mens' marathon gold medal winning times from 1896 to 2012. Time given in pace (minutes per kilometer). Data is originally downloaded and collated from Wikipedia, we are not responsible for errors in the data\n",
        "\n",
        "After downloading the data will take up 584 bytes of space.\n",
        "\n",
        "Data will be stored in /home/frb/tmp/GPy-datasets/olympic_marathon_men.\n",
        "\n",
        "Do you wish to proceed with the download? [yes/no]\n"
       ]
      },
      {
       "name": "stdout",
       "output_type": "stream",
       "stream": "stdout",
       "text": [
        "yes\n"
       ]
      },
      {
       "output_type": "stream",
       "stream": "stdout",
       "text": [
        "olympicMarathonTimes.csv\n",
        "Downloading  http://staffwww.dcs.shef.ac.uk/people/N.Lawrence/dataset_mirror/olympic_marathon_men/olympicMarathonTimes.csv -> olympic_marathon_men/olympicMarathonTimes.csv\n",
        "\r"
       ]
      },
      {
       "output_type": "stream",
       "stream": "stdout",
       "text": [
        "[==============================]   0.001/0.001MB"
       ]
      },
      {
       "output_type": "stream",
       "stream": "stdout",
       "text": [
        "                                                \r",
        "[==============================]   0.001/0.001MB\n"
       ]
      }
     ],
     "prompt_number": 10
>>>>>>> FETCH_HEAD
    },
    {
     "cell_type": "markdown",
     "metadata": {},
     "source": [
      "You can se what these values are by typing:"
     ]
    },
    {
<<<<<<< HEAD
     "cell_type": "code",
     "collapsed": false,
     "input": [
      "print(x)\n",
      "print(y)"
     ],
     "language": "python",
     "metadata": {},
     "outputs": [
      {
       "output_type": "stream",
       "stream": "stdout",
       "text": [
        "[[ 1896.]\n",
        " [ 1900.]\n",
        " [ 1904.]\n",
        " [ 1908.]\n",
        " [ 1912.]\n",
        " [ 1920.]\n",
        " [ 1924.]\n",
        " [ 1928.]\n",
        " [ 1932.]\n",
        " [ 1936.]\n",
        " [ 1948.]\n",
        " [ 1952.]\n",
        " [ 1956.]\n",
        " [ 1960.]\n",
        " [ 1964.]\n",
        " [ 1968.]\n",
        " [ 1972.]\n",
        " [ 1976.]\n",
        " [ 1980.]\n",
        " [ 1984.]\n",
        " [ 1988.]\n",
        " [ 1992.]\n",
        " [ 1996.]\n",
        " [ 2000.]\n",
        " [ 2004.]\n",
        " [ 2008.]\n",
        " [ 2012.]]\n",
        "[[ 4.47083333]\n",
        " [ 4.46472926]\n",
        " [ 5.22208333]\n",
        " [ 4.15467867]\n",
        " [ 3.90331675]\n",
        " [ 3.56951267]\n",
        " [ 3.82454477]\n",
        " [ 3.62483707]\n",
        " [ 3.59284275]\n",
        " [ 3.53880792]\n",
        " [ 3.67010309]\n",
        " [ 3.39029111]\n",
        " [ 3.43642612]\n",
        " [ 3.20583007]\n",
        " [ 3.13275665]\n",
        " [ 3.32819844]\n",
        " [ 3.13583758]\n",
        " [ 3.0789588 ]\n",
        " [ 3.10581822]\n",
        " [ 3.06552909]\n",
        " [ 3.09357349]\n",
        " [ 3.16111704]\n",
        " [ 3.14255244]\n",
        " [ 3.08527867]\n",
        " [ 3.10265829]\n",
        " [ 2.99877553]\n",
        " [ 3.03392977]]\n"
       ]
      }
     ],
     "prompt_number": 13
    },
    {
=======
>>>>>>> FETCH_HEAD
     "cell_type": "heading",
     "level": 3,
     "metadata": {},
     "source": [
      "Plotting the Data"
     ]
    },
    {
     "cell_type": "markdown",
     "metadata": {},
     "source": [
      "And you can make a plot of $y$ vs $x$ with the following command:"
     ]
    },
    {
     "cell_type": "code",
     "collapsed": false,
     "input": [
      "plt.plot(x, y, 'rx')"
     ],
     "language": "python",
     "metadata": {},
     "outputs": [
      {
       "metadata": {},
       "output_type": "pyout",
       "prompt_number": 14,
       "text": [
        "[<matplotlib.lines.Line2D at 0x10fb15310>]"
       ]
      },
      {
       "metadata": {},
       "output_type": "display_data",
       "png": "iVBORw0KGgoAAAANSUhEUgAAAXwAAAEACAYAAACwB81wAAAABHNCSVQICAgIfAhkiAAAAAlwSFlz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\nfABwCAIfAByCwAcAh/g/uHD1b2YbI+oAAAAASUVORK5CYII=\n",
       "text": [
        "<matplotlib.figure.Figure at 0x10e6e7a10>"
       ]
      }
     ],
     "prompt_number": 14
    },
    {
     "cell_type": "heading",
     "level": 3,
     "metadata": {},
     "source": [
      "Maximum Likelihood: Iterative Solution"
     ]
    },
    {
     "cell_type": "markdown",
     "metadata": {},
     "source": [
      "Now we are going to fit a line, $y_i=mx_i + c$, to the data you've plotted. We are trying to minimize the error function:"
     ]
    },
    {
     "cell_type": "markdown",
     "metadata": {},
     "source": [
      "$$E(m, c, \\sigma^2) = \\frac{N}{2} \\log \\sigma^2 + \\frac{1}{2\\sigma^2} \\sum_{i=1}^N(y_i-mx_i-c)^2$$"
     ]
    },
    {
     "cell_type": "markdown",
     "metadata": {},
     "source": [
      "with respect to $m$, $c$ and $\\sigma^2$. We can start with an initial guess for $m$, "
     ]
    },
    {
     "cell_type": "code",
     "collapsed": true,
     "input": [
      "m = -0.4\n",
      "c = 80 "
     ],
     "language": "python",
     "metadata": {},
     "outputs": [],
     "prompt_number": 15
    },
    {
     "cell_type": "markdown",
     "metadata": {},
     "source": [
      "Then we use the maximum likelihood update, derived in the lecture, to find an estimate for the offset, $c$,"
     ]
    },
    {
     "cell_type": "markdown",
     "metadata": {},
     "source": [
      "$$c^* = \\frac{\\sum_{i=1}^N(y_i-m^*x_i)}{N}$$"
     ]
    },
    {
     "cell_type": "code",
     "collapsed": false,
     "input": [
      "c = (y - m*x).mean()\n",
      "print c"
     ],
     "language": "python",
     "metadata": {},
     "outputs": [
      {
       "output_type": "stream",
       "stream": "stdout",
       "text": [
        "786.019771145\n"
       ]
      }
     ],
     "prompt_number": 16
    },
    {
     "cell_type": "markdown",
     "metadata": {},
     "source": [
      "And now we can make an estimate for the gradient of the line,"
     ]
    },
    {
     "cell_type": "markdown",
     "metadata": {},
     "source": [
      "$$m^* = \\frac{\\sum_{i=1}^N ((y_i - c)*x_i))}{\\sum_{i=1}^N x_i^2}$$"
     ]
    },
    {
     "cell_type": "code",
     "collapsed": false,
     "input": [
      "m = ((y - c)*x).sum()/(x**2).sum()\n",
      "print m"
     ],
     "language": "python",
     "metadata": {},
     "outputs": [
      {
       "output_type": "stream",
       "stream": "stdout",
       "text": [
        "-0.3998724073\n"
       ]
      }
     ],
     "prompt_number": 17
    },
    {
     "cell_type": "markdown",
     "metadata": {},
     "source": [
      "We can have a look at how good our fit is by computing the prediction across the input space. First create a vector of 'test points',"
     ]
    },
    {
     "cell_type": "code",
     "collapsed": false,
     "input": [
      "np.linspace?\n",
      "x_test = np.linspace(1890, 2020, 130)[:, None]"
     ],
     "language": "python",
     "metadata": {},
     "outputs": [],
     "prompt_number": 18
    },
    {
     "cell_type": "markdown",
     "metadata": {},
     "source": [
      "Now use this vector to compute some test predictions,"
     ]
    },
    {
     "cell_type": "code",
     "collapsed": false,
     "input": [
      "f_test = m*x_test + c\n",
      "print m\n",
      "print c"
     ],
     "language": "python",
     "metadata": {},
     "outputs": [],
     "prompt_number": 19
    },
    {
     "cell_type": "markdown",
     "metadata": {},
     "source": [
      "Now plot those test predictions with a blue line on the same plot as the data,"
     ]
    },
    {
     "cell_type": "code",
     "collapsed": false,
     "input": [
      "plt.plot(x_test, f_test, 'b-')\n",
      "plt.plot(x, y, 'rx')"
     ],
     "language": "python",
     "metadata": {},
     "outputs": [
      {
       "metadata": {},
       "output_type": "pyout",
       "prompt_number": 20,
       "text": [
        "[<matplotlib.lines.Line2D at 0x10fb0f110>]"
       ]
      },
      {
       "metadata": {},
       "output_type": "display_data",
       "png": "iVBORw0KGgoAAAANSUhEUgAAAYAAAAEACAYAAAC6d6FnAAAABHNCSVQICAgIfAhkiAAAAAlwSFlz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\n",
       "text": [
        "<matplotlib.figure.Figure at 0x10fb0f290>"
       ]
      }
     ],
     "prompt_number": 20
    },
    {
     "cell_type": "markdown",
     "metadata": {},
     "source": [
      "The fit isn't very good, we need to iterate between these parameter updates in a loop to improve the fit, we have to do this several times,"
     ]
    },
    {
     "cell_type": "code",
     "collapsed": false,
     "input": [
      "for i in np.arange(10):\n",
      "    m = ((y - c)*x).sum()/(x*x).sum()\n",
      "    c = (y-m*x).sum()/y.shape[0]"
     ],
     "language": "python",
     "metadata": {},
     "outputs": [
      {
       "output_type": "stream",
       "stream": "stdout",
       "text": [
        "-0.398725964251\n",
        "783.527379727\n"
       ]
      }
     ],
     "prompt_number": 21
    },
    {
     "cell_type": "markdown",
     "metadata": {},
     "source": [
      "And let's try plotting the result again"
     ]
    },
    {
     "cell_type": "code",
     "collapsed": false,
     "input": [
      "f_test = m*x_test + c\n",
      "plt.plot(x_test, f_test, 'b-')\n",
      "plt.plot(x, y, 'rx')"
     ],
     "language": "python",
     "metadata": {},
     "outputs": [
      {
       "metadata": {},
       "output_type": "pyout",
       "prompt_number": 22,
       "text": [
        "[<matplotlib.lines.Line2D at 0x10fbb3ed0>]"
       ]
      },
      {
       "metadata": {},
       "output_type": "display_data",
       "png": "iVBORw0KGgoAAAANSUhEUgAAAYAAAAEACAYAAAC6d6FnAAAABHNCSVQICAgIfAhkiAAAAAlwSFlz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\nc3UAAAAASUVORK5CYII=\n",
       "text": [
        "<matplotlib.figure.Figure at 0x10fbb3e10>"
       ]
      }
     ],
     "prompt_number": 22
    },
    {
     "cell_type": "markdown",
     "metadata": {},
     "source": [
      "Clearly we need more iterations than 10! Let's try add more iterations above to try and get closer to the solution. How many iterations does it need to get a reasonable answer?"
     ]
    },
    {
     "cell_type": "heading",
     "level": 3,
     "metadata": {},
     "source": [
      "Direct Solution with Linear Algebra"
     ]
    },
    {
     "cell_type": "markdown",
     "metadata": {},
     "source": [
      "Hopefully, you are now persuaded of the merits of solving the entire system, simultaneously, using linear algebra. To do that, we need to make a design matrix of the data, which includes the $x_0=1$ column, to represent the bias, remember (from the lecture notes) that we are now moving to a system where our prediction is given by an inner product:"
     ]
    },
    {
     "cell_type": "markdown",
     "metadata": {},
     "source": [
      "$$f(\\mathbf{x}_i) = \\mathbf{x}_i^\\top\\mathbf{w}$$"
     ]
    },
    {
     "cell_type": "markdown",
     "metadata": {},
     "source": [
      "where each vector $\\mathbf{x}_i$ is given by appending a 1 onto the original vector"
     ]
    },
    {
     "cell_type": "markdown",
     "metadata": {},
     "source": [
      "$$\\mathbf{x}_i = \n",
      "\\begin{bmatrix} \n",
      "1 \\\\\\\n",
      "x_i\n",
      "\\end{bmatrix}$$"
     ]
    },
    {
     "cell_type": "markdown",
     "metadata": {},
     "source": [
      "We can do this for the entire data set to form a design matrix $\\mathbf{X}$,"
     ]
    },
    {
     "cell_type": "markdown",
     "metadata": {},
     "source": [
      "$$\\mathbf{X} = \\begin{bmatrix} \n",
      "\\mathbf{x}_1^\\top \\\\\\ \n",
      "\\mathbf{x}_2^\\top \\\\\\ \n",
      "\\vdots \\\\\\\n",
      "\\mathbf{x}_N^\\top\n",
      "\\end{bmatrix} = \\begin{bmatrix}\n",
      "1 & x_1 \\\\\\\n",
      "1 & x_2 \\\\\\\n",
      "\\vdots & \\vdots \\\\\\\n",
      "1 & x_N \n",
      "\\end{bmatrix},$$"
     ]
    },
    {
     "cell_type": "markdown",
     "metadata": {},
     "source": [
      "which in numpy is done with the following commands:"
     ]
    },
    {
     "cell_type": "code",
     "collapsed": false,
     "input": [
      "X = np.hstack((np.ones_like(x), x))\n",
      "print(X)"
     ],
     "language": "python",
     "metadata": {},
     "outputs": [
      {
       "output_type": "stream",
       "stream": "stdout",
       "text": [
        "[[  1.00000000e+00   1.89600000e+03]\n",
        " [  1.00000000e+00   1.90000000e+03]\n",
        " [  1.00000000e+00   1.90400000e+03]\n",
        " [  1.00000000e+00   1.90800000e+03]\n",
        " [  1.00000000e+00   1.91200000e+03]\n",
        " [  1.00000000e+00   1.92000000e+03]\n",
        " [  1.00000000e+00   1.92400000e+03]\n",
        " [  1.00000000e+00   1.92800000e+03]\n",
        " [  1.00000000e+00   1.93200000e+03]\n",
        " [  1.00000000e+00   1.93600000e+03]\n",
        " [  1.00000000e+00   1.94800000e+03]\n",
        " [  1.00000000e+00   1.95200000e+03]\n",
        " [  1.00000000e+00   1.95600000e+03]\n",
        " [  1.00000000e+00   1.96000000e+03]\n",
        " [  1.00000000e+00   1.96400000e+03]\n",
        " [  1.00000000e+00   1.96800000e+03]\n",
        " [  1.00000000e+00   1.97200000e+03]\n",
        " [  1.00000000e+00   1.97600000e+03]\n",
        " [  1.00000000e+00   1.98000000e+03]\n",
        " [  1.00000000e+00   1.98400000e+03]\n",
        " [  1.00000000e+00   1.98800000e+03]\n",
        " [  1.00000000e+00   1.99200000e+03]\n",
        " [  1.00000000e+00   1.99600000e+03]\n",
        " [  1.00000000e+00   2.00000000e+03]\n",
        " [  1.00000000e+00   2.00400000e+03]\n",
        " [  1.00000000e+00   2.00800000e+03]\n",
        " [  1.00000000e+00   2.01200000e+03]]\n"
       ]
      }
     ],
     "prompt_number": 23
    },
    {
     "cell_type": "markdown",
     "metadata": {},
     "source": [
      "From the multivariate regression solution we derived in the lecture, the maximum likelihood solution for $\\mathbf{w}^*$ is given by"
     ]
    },
    {
     "cell_type": "markdown",
     "metadata": {},
     "source": [
      "$$\\mathbf{w}^* = \\left[\\mathbf{X}^\\top \\mathbf{X}\\right]^{-1} \\mathbf{X}^\\top \\mathbf{y}$$ "
     ]
    },
    {
     "cell_type": "markdown",
     "metadata": {},
     "source": [
      "First let's persuade ourselves of a few things. We suggested in the lecture that"
     ]
    },
    {
     "cell_type": "markdown",
     "metadata": {},
     "source": [
      "$$\\sum_{i=1}^N \\mathbf{x}_i\\mathbf{x}_i^\\top = \\mathbf{X}^\\top\\mathbf{X}$$"
     ]
    },
    {
     "cell_type": "markdown",
     "metadata": {},
     "source": [
      "We can show that this is, indeed the case for our data. First we need to know how to do matrix multiplication and transpose using numpy, this is done as"
     ]
    },
    {
     "cell_type": "code",
     "collapsed": false,
     "input": [
      "np.dot(X.T, X)"
     ],
     "language": "python",
     "metadata": {},
     "outputs": [
      {
       "metadata": {},
       "output_type": "pyout",
       "prompt_number": 24,
       "text": [
        "array([[  2.70000000e+01,   5.28200000e+04],\n",
        "       [  5.28200000e+04,   1.03365648e+08]])"
       ]
      }
     ],
     "prompt_number": 24
    },
    {
     "cell_type": "markdown",
     "metadata": {},
     "source": [
      "Now we will compute the same thing with a for loop"
     ]
    },
    {
     "cell_type": "code",
     "collapsed": false,
     "input": [
      "store = np.zeros((2, 2))\n",
      "for i in np.arange(X.shape[0]):\n",
      "    store += np.outer(X[i, :], X[i, :])\n",
      "print store\n"
     ],
     "language": "python",
     "metadata": {},
     "outputs": [
      {
       "output_type": "stream",
       "stream": "stdout",
       "text": [
        "[[  2.70000000e+01   5.28200000e+04]\n",
        " [  5.28200000e+04   1.03365648e+08]]\n"
       ]
      }
     ],
     "prompt_number": 25
    },
    {
     "cell_type": "markdown",
     "metadata": {},
     "source": [
      "I hope that you agree that the first version is a little more compact. But is it quicker? We'll use the `time` module to find out."
     ]
    },
    {
     "cell_type": "code",
     "collapsed": false,
     "input": [
      "# Create a larger matrix for test\n",
      "A = np.random.normal(loc=0.0, scale=1.0, size=(10000, 4))\n",
      "import time\n",
      "start = time.time()\n",
      "np.dot(A.T, A)\n",
      "end = time.time()\n",
      "print \"Matrix multiplication: \", end - start\n",
      "\n",
      "start = time.time()\n",
      "store = np.zeros((A.shape[1], A.shape[1]))\n",
      "for i in np.arange(A.shape[0]):\n",
      "    store += np.outer(A[i, :], A[i, :])\n",
      "end = time.time()\n",
      "print \"For loop over outer products: \", end - start"
     ],
     "language": "python",
     "metadata": {},
     "outputs": [
      {
       "output_type": "stream",
       "stream": "stdout",
       "text": [
        "Matrix multiplication:  0.00663089752197\n",
        "For loop over outer products: "
       ]
      },
      {
       "output_type": "stream",
       "stream": "stdout",
       "text": [
        " 0.297254085541\n"
       ]
      }
     ],
     "prompt_number": 26
    },
    {
     "cell_type": "heading",
     "level": 3,
     "metadata": {},
     "source": [
      "Solving the System"
     ]
    },
    {
     "cell_type": "markdown",
     "metadata": {},
     "source": [
      "The solution for $\\mathbf{w}$ is given in terms of a matrix inverse, but numerically this isn't the best way to compute it. What we actually want python to do is to *solve* the system of linear equations given by"
     ]
    },
    {
     "cell_type": "markdown",
     "metadata": {},
     "source": [
      "$$\\mathbf{X}^\\top\\mathbf{X} \\mathbf{w} = \\mathbf{X}^\\top\\mathbf{y}$$"
     ]
    },
    {
     "cell_type": "markdown",
     "metadata": {},
     "source": [
      "for $\\mathbf{w}$. This can be done in numpy using the command"
     ]
    },
    {
     "cell_type": "code",
     "collapsed": false,
     "input": [
      "np.linalg.solve?"
     ],
     "language": "python",
     "metadata": {},
     "outputs": [],
     "prompt_number": 27
    },
    {
     "cell_type": "markdown",
     "metadata": {},
     "source": [
      "so we can obtain the solution using"
     ]
    },
    {
     "cell_type": "code",
     "collapsed": false,
     "input": [
      "w = np.linalg.solve(np.dot(X.T, X), np.dot(X.T, y))\n",
      "print w"
     ],
     "language": "python",
     "metadata": {},
     "outputs": [
      {
       "output_type": "stream",
       "stream": "stdout",
       "text": [
        "[[  2.88952457e+01]\n",
        " [ -1.29806477e-02]]\n"
       ]
      }
     ],
     "prompt_number": 28
    },
    {
     "cell_type": "markdown",
     "metadata": {},
     "source": [
      "Allowing us to plot the fit as follows"
     ]
    },
    {
     "cell_type": "code",
     "collapsed": false,
     "input": [
      "m = w[1]; c=w[0]\n",
      "f_test = m*x_test + c\n",
      "print(m)\n",
      "print(c)\n",
      "plt.plot(x_test, f_test, 'b-')\n",
      "plt.plot(x, y, 'rx')"
     ],
     "language": "python",
     "metadata": {},
     "outputs": [
      {
       "output_type": "stream",
       "stream": "stdout",
       "text": [
        "[-0.01298065]\n",
        "[ 28.89524574]\n"
       ]
      },
      {
       "metadata": {},
       "output_type": "pyout",
       "prompt_number": 29,
       "text": [
        "[<matplotlib.lines.Line2D at 0x10fbf7910>]"
       ]
      },
      {
       "metadata": {},
       "output_type": "display_data",
       "png": "iVBORw0KGgoAAAANSUhEUgAAAXwAAAEACAYAAACwB81wAAAABHNCSVQICAgIfAhkiAAAAAlwSFlz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\nwici0gkmfCIinWDCJyLSCSZ8IiKd+P+YQbmhxaiCZgAAAABJRU5ErkJggg==\n",
       "text": [
        "<matplotlib.figure.Figure at 0x10fbdbc10>"
       ]
      }
     ],
     "prompt_number": 29
    },
    {
     "cell_type": "heading",
     "level": 2,
     "metadata": {},
     "source": [
      "Quadratic Fit"
     ]
    },
    {
     "cell_type": "markdown",
     "metadata": {},
     "source": [
      "Now we will fit a quadratic model using basis functions. Given everything we've learnt above, this is now quite easy to do. Firstly, we need to create a design matrix that contains the quadratic basis, "
     ]
    },
    {
     "cell_type": "markdown",
     "metadata": {},
     "source": [
      "$$\\mathbf{\\Phi} = \\left[ \\mathbf{1} \\quad \\mathbf{x} \\quad \\mathbf{x}^2\\right]$$"
     ]
    },
    {
     "cell_type": "markdown",
     "metadata": {},
     "source": [
      "where this notation means that each column of $\\mathbf{\\Phi}$ is derived from the entire set of input years."
     ]
    },
    {
     "cell_type": "code",
     "collapsed": false,
     "input": [
      "Phi = np.hstack([np.ones(x.shape), x, x**2])"
     ],
     "language": "python",
     "metadata": {},
     "outputs": [],
     "prompt_number": 30
    },
    {
     "cell_type": "markdown",
     "metadata": {},
     "source": [
      "Now we can solve this system for $\\mathbf{w}$ just as we did for the linear case, so we have,"
     ]
    },
    {
     "cell_type": "code",
     "collapsed": false,
     "input": [
      "w = np.linalg.solve(np.dot(Phi.T, Phi), np.dot(Phi.T, y))\n",
      "print(w)"
     ],
     "language": "python",
     "metadata": {},
     "outputs": [
      {
       "output_type": "stream",
       "stream": "stdout",
       "text": [
        "[[  6.43641954e+02]\n",
        " [ -6.42502988e-01]\n",
        " [  1.61109704e-04]]\n"
       ]
      }
     ],
     "prompt_number": 31
    },
    {
     "cell_type": "markdown",
     "metadata": {},
     "source": [
      "We can plot the solution in two different ways, either we take"
     ]
    },
    {
     "cell_type": "code",
     "collapsed": false,
     "input": [
      "f_test = w[2]*x_test**2 + w[1]*x_test + w[0]\n",
      "plt.plot(x_test, f_test, 'b-')\n",
      "plt.plot(x, y, 'rx')"
     ],
     "language": "python",
     "metadata": {},
     "outputs": [
      {
       "metadata": {},
       "output_type": "pyout",
       "prompt_number": 32,
       "text": [
        "[<matplotlib.lines.Line2D at 0x10fbd4890>]"
       ]
      },
      {
       "metadata": {},
       "output_type": "display_data",
       "png": "iVBORw0KGgoAAAANSUhEUgAAAXwAAAEACAYAAACwB81wAAAABHNCSVQICAgIfAhkiAAAAAlwSFlz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\nRU5ErkJggg==\n",
       "text": [
        "<matplotlib.figure.Figure at 0x10e6e85d0>"
       ]
      }
     ],
     "prompt_number": 32
    },
    {
     "cell_type": "markdown",
     "metadata": {},
     "source": [
      "Or we can do the matrix form of this equation which first involves creating a design matrix for the test points,\n"
     ]
    },
    {
     "cell_type": "code",
     "collapsed": false,
     "input": [
      "Phi_test = np.hstack((np.ones_like(x_test), x_test, x_test**2))"
     ],
     "language": "python",
     "metadata": {},
     "outputs": [],
     "prompt_number": 33
    },
    {
     "cell_type": "markdown",
     "metadata": {},
     "source": [
      "and then computing the value of the function using a matrix multiply"
     ]
    },
    {
     "cell_type": "code",
     "collapsed": false,
     "input": [
      "f_test = np.dot(Phi_test,w)\n",
      "plt.plot(x_test, f_test, 'b-')\n",
      "plt.plot(x, y, 'rx')"
     ],
     "language": "python",
     "metadata": {},
     "outputs": [
      {
       "metadata": {},
       "output_type": "pyout",
       "prompt_number": 34,
       "text": [
        "[<matplotlib.lines.Line2D at 0x10fbd8190>]"
       ]
      },
      {
       "metadata": {},
       "output_type": "display_data",
       "png": "iVBORw0KGgoAAAANSUhEUgAAAXwAAAEACAYAAACwB81wAAAABHNCSVQICAgIfAhkiAAAAAlwSFlz\nAAALEgAACxIB0t1+/AAAIABJREFUeJzt3XtcVHX+P/DXIOhqmoCJ+NsoQF0VFRkvoIKKlnkhvISt\nWlu2aqurtSXBVtK3qJXMkDV1s9gtN9PINl0voIZdHC9YoBt9N5Xc5IehmxEik3ghE97fPz5CIiAz\ncJgzw3k9H495wMycmfPCOu858z6f8zkmEREQEVGL56Z3ACIicgwWfCIig2DBJyIyCBZ8IiKDYMEn\nIjIIFnwiIoOwqeD7+/sjODgYZrMZoaGhtZ63WCzo2LEjzGYzzGYzFi9erHlQIiJqGndbFjKZTLBY\nLPD29q53mZEjR2Lbtm2aBSMiIm3Z3NJp6Pwsnr9FROTcbCr4JpMJo0ePxuTJk+vcizeZTDhw4ABC\nQkIQGxuL/Px8zYMSEVHTmGyZWuH06dPo2rUr8vLyEB0djf3798PX17f6+bKyMrRq1QoeHh5Yu3Yt\ntmzZgoyMjGYNTkRE9rGp4F8rNjYWvXv3xsMPP1zn8yICX19fFBYWok2bNtWPd+/enXv+RER26tat\nG44fP67JezXY0rl48SLKysoAAMXFxcjMzMS4ceNqLFNUVFTdw09PT0dwcHCNYg8A+fn5EBGXvT33\n3HO6ZzBqflfOzvz631w9v5Y7yg2O0ikqKsKUKVMAAJ06dcITTzwBPz8/pKamAgDmzp2LjRs34rXX\nXoO7uzuCg4ORkpKiWUAiItJGgwU/ICAAX3zxRa3H586dW/37ggULsGDBAm2TERGRpnimrY0iIyP1\njtAkrpzflbMDzK83V8+vJbsP2jZ6RSYTHLQqIqIWQ8vayT18IiKDYMEnIjIIFnwiIoNgwSciMggW\nfCIig2DBJyIyCBZ8IiKDYMEnIjIIFnwiIoNgwSciMggWfCIig2DBb6rt2wGrteZjVqt6nIjIibDg\nN1V4OJCQ8HPRt1rV/fBwfXMREV2Hs2VqoarIx8cDyclAUhLg6al3KiJqAbSsnSz4WjlxAggIAAoK\nAH9/vdMQUQvB6ZGdjdWq9uwLCtTP63v6REROgAW/qaraOUlJas8+KalmT5+IyEmwpdNU27erA7TX\n9uytViArC4iK0i8XEbUI7OETERkEe/hERGQ3FnwiIoNgwSciMggWfCIig2DBJyIyCBZ8IiKDYMEn\nIjIImwq+v78/goODYTabERoaWucyTz/9NAIDAzFw4EB89dVXmoYkIqKmc7dlIZPJBIvFAm9v7zqf\nz8nJwb59+3Do0CFkZmYiLi4OGRkZmgYlIqKmsbmlc6MzvbKzszF16lR4e3tjxowZyMvL0yQcERFp\nx6aCbzKZMHr0aEyePBnbtm2r9XxOTg6CgoKq73fu3Bn5+fnapSQioiazqaWTlZWFrl27Ii8vD9HR\n0QgNDYWvr2/18yJS6xuAyWTSNikRETWJTQW/a9euAIDevXtj4sSJSE9Px8MPP1z9fFhYGI4ePYqx\nY8cCAIqLixEYGFjrfRITE6t/j4yMRGRkZBOiExG1PBaLBRaLpVneu8HZMi9evIiKigp06NABxcXF\niIyMxAcffAA/P7/qZXJychAbG4utW7ciMzMTaWlptQ7acrZMIiL7aVk7G9zDLyoqwpQpUwAAnTp1\nwhNPPAE/Pz+kpqYCAObOnYvQ0FBERERg0KBB8Pb2xvr16zUJR0RE2uF8+ERETozz4RMRkd1Y8ImI\nDIIFn4jIIFjwiYgMggWfiMggWPCJiAyCBZ+IyCBY8ImIDIIFn4jIIFpEwV+9Gti8We8URETOzabZ\nMp3dkCHA+PGAhwdw9916pyEick4tYg9/wAAgPR2YNQvIzNQ7DRGRc2oRBR8AQkOBLVuABx4APv5Y\n7zRERM6nxRR8ABg2DNi4EZg+HdizR+80RETOpUUVfAAYMQJ47z3g3nuB/fv1TkNE5DxaXMEHgNGj\ngfXrgXvuAT77TO80RETOoUUWfAC46y7grbeASZOAQ4f0TkNEpL8WW/ABYMIE4G9/A6KigNxcvdMQ\nEemrRYzDv5GJE4GfflLj9D/8EOjXT+9ERET6aPEFHwBiYoArV4CxY4Fdu4C+ffVORETkeIYo+AAw\nbRogAowZA3zwAdC/v96JiIgcyzAFH1Dj81u1Unv6O3aoM3SJiIzCUAUfUOPz3d1VTz8jAxg8WO9E\nRESOYbiCDwBTpqiiHxUFbNumJl8jImrpWvSwzBuJjlbj9CdOBLKy9E5DRNT8DFvwATVOf/16tce/\nd6/eaYiImpehCz6gzsh9911g6lTgk0/0TkNE1HwMX/AB4I47gPffV0M3P/xQ7zRERM2DBf+qkSPV\nZRLvvx/YuVPvNERE2rOp4FdUVMBsNiM6OrrWcxaLBR07doTZbIbZbMbixYs1D+koERHA1q3AzJnA\npk16pyEi0pZNwzJXrFiBoKAglJWV1fn8yJEjsW3bNk2D6WXoUHWZxAkTgLIy4KGH9E5ERKSNBvfw\nT506hR07dmDOnDkQkTqXqe9xV2U2A7t3A88+C6xapXcaIiJtNFjwFy5ciOTkZLi51b2oyWTCgQMH\nEBISgtjYWOTn52seUnPbtwNWa83HrFb1+FW9egH79gErVwKLF6t5eIiIXNkNWzoZGRnw8fGB2WyG\nxWKpc5kBAwbg5MmT8PDwwNq1a/HYY48hIyOjzmUTExOrf4+MjERkZGRjczdNeDiQkAAkJQGenqrY\nV92/xu2Ht2N/RjjunOqJH34AXn4ZMP1gVWdqRUXpk52IWjSLxVJvvW0qk9ygH7No0SKsW7cO7u7u\nKC8vx7lz5xATE4O33367zuVFBL6+vigsLESbNm1qrshkcq7WT1WRj48HkpN/Lv51LFMal4Rx0z0x\ntLcVf26XALcX61iWiKgZaFk7b1jwr7Vnzx4sW7YM6enpNR4vKiqCj48PTCYTtm3bhlWrVuHDOgaz\nO13BB4ATJ4CAAKCgAPD3r3uZq0X//O/j8dHYZKQPScLrGzzh4eHIoERkVFrWTrvG4ZtMJgBAamoq\nUlNTAQAbN25Ev379EBISgo0bNyIlJUWTYM3OalV79gUF6uf1Pf0qnp5AfDza9wvAuI/j8f1lT0yZ\nAly65Ni4RERNZfMefpNX5Ex7+Nf27K/v4dfT1qlq/fyUmIQH/+CJ775TM2126KDPn0BExqBLS6fJ\nK3Kmgr99uzpwe21xt9ZxMLaeD4aKF5KwIMEThw6pt+rSxfF/AhEZAwu+o9zgg0EmROH559Vsm5mZ\nQLdu+sUkopaLBd+JvP468MILQHo6MHCg3mmIqKVhwXcymzcDc+cC77yjLpJORKQV3UbpUN2mTFGT\nrf3mN0Bamt5piIjqZshr2jaH4cOBjz9Wk6599x0QG6t3IiKimtjS0VhhITBunBrss3QpUM8URERE\nNmEP38mdPQvcfbcaubNmDXhWLhE1Gnv4Ts7bG/joI+CHH4DoaDWvPhGR3ljwm0m7dsA//6mm6ImI\nAE6d0jsRERkdC34zcncHXnsNeOABdSWt3Fy9ExGRkbGH7yCbNgHz5gF//7vq7xMR2YI9fBcUEwNk\nZAC/+x0vm0hE+uAevoMVFKghm3fdBaSkAK1a6Z2IiJwZh2W6uNJSYOpUoH17dWbuTTfpnYiInBVb\nOi7OywvYuVMN3xwxAvj2W70TEZERsODrpHVrdVJWTIwawfPvf+udiIhaOrZ0nMCGDcCjjwJvvAFM\nmqR3GiJyJmzpuKLt22tfN9dqBbZvx/Tp6ukFC4AlSwB+LhJRc2DBd5TwcHW5xKqiX3X5xPBwAEBo\nKJCdrc7O/c1veJF0ItIeC76jeHqqa+MmJAAnTtR50fRf/hLYuxeorARGjuTBXCLSFnv4jnbiBBAQ\noAbk+/vXuYiIau289pra4x882KEJiciJsIfvqqxWIDlZFfvk5No9/atMJmDRInVG7oQJvIoWEWmD\ne/iOUtWzr2rjXH+/Hl9+qUbu3HMP8NJLakI2IjIOnmnrirZvVwdory3uViuQlaXmWriBkhJgxgyg\nogJ47z3glluaOSsROQ0WfAOqqFBfCDZsUH39AQP0TkREjsAevgG1aqVaOsnJwNixwNtv652IiFwN\n9/Bd0OHDwJQpwPjxasZNXjOXqOVy+B5+RUUFzGYzoqOj63z+6aefRmBgIAYOHIivvvpKk2BUv759\ngYMHgfx84I47gNOn9U5ERK7ApoK/YsUKBAUFwWQy1XouJycH+/btw6FDhxAXF4e4uDjNQ1Jtnp5A\nejowejQwcCBgseidiIicXYMF/9SpU9ixYwfmzJlT59eK7OxsTJ06Fd7e3pgxYwby8vKaJSjV5uYG\nJCYCb70FTJ+uevyVlXqnIiJn1WDBX7hwIZKTk+HmVveiOTk5CAoKqr7fuXNn5Ofna5eQGnTXXarF\ns22bGrN/9qzeiYjIGd3wNJ6MjAz4+PjAbDbDUk/PQERq7fnX1foBgMTExOrfIyMjERkZaVdYqp+f\nn2rrPPmkavG8/z4waJDeqYjIXhaLpd5621Q3HKWzaNEirFu3Du7u7igvL8e5c+cQExODt68ZE7hq\n1SpcuXIFCxcuBAB069atzj18jtJxnE2bgHnzgBdeUD/r+fwlIhegy4lXe/bswbJly5Cenl7j8Zyc\nHMTGxmLr1q3IzMxEWloaMjIymjU0Nezrr9V1c3v3BlJTgY4d9U5ERI2h24lXVa2a1NRUpKamAgBC\nQ0MRERGBQYMGISUlBcnJyZoEo6bp0QP47DN13dwBA4CcHL0TEZHeeOKVs2nCnDv12bQJ+P3vgfh4\n4Ikn1OgeInINnFqhJWvgyliNEROjRvFs3qw+M77/XqOsRORSWPCdjQ1XxmqM228H9uwBzGZ1+/hj\nbeISketgS8dZ2XBlrMb66CNg5kzgwQeB558HWrfW9O2JSENs6bR0Nl4Zq7HuvBPIzVUXVxk2DOD0\nR0TGwILvbK69Epa//8/tHY2Lvo+Pmotnzhxg+HB1/Vx+ASNq2djScTbNMEqnofV97ROOGb/3hK8v\n8OabQJc2zbg+IrILWzotWVRU7QO0np7NV3zDw9HjrQQc2GFFSAgwItiKgvubNiqIiJwT9/Dp5zZS\nfDy+XZiMcf9KwtDxnli2DOjQQe9wRMbGPXzSlqenOisrIAD/b3k89n3piStXgOBgYPduvcMRkVZY\n8KnWqKCOYsWbbwJ/+QvwwAPAH/4AXLigd0giaioWfKO7waigqCg1dLO0FAgJAfbv1zssETUFe/hG\nZ+OooC1bgPnzgRkzgMWLgbZtdchKZEC6TI/c5BWx4Lu8M2eARx4BvvgCeOMNICJC70RELR8LPulq\n0ybg0UeBKVOAJUuAm2/WOxFRy8VROqSrmBjgyBHgxx+Bvn1VV4iInB/38KlJPvkEePhhIDQUWLFC\nTdlARNrhHj45jdGj1UieW28F+vUD1q3jnDxEzooFn5qsXTs1jH/HDiAlBRgzBjh2TO9U19m+vfYE\ndFYr+1FkKCz4pJmBA4FDh9RozvBw4NlngUuX9E51VTNcSYzI1bDgk6bc3YGFC9XQzbw8dVB35069\nU6HZriRG5Ep40JZs08hpmz/4AFiwQF1W8ZVXVK9fV814JTGi5sCDtuR4jWyJjBsHHD4MBAWp6RmW\nLQMuX3ZA3ro085XEiJwdCz7ZxpaWSD0HRtt+sh0vvAAcOKBm3+zXTx3gdSgHXUmMyJmxpUP2uVFL\n5Nqi6ulZ+/5V27erPv+vfgUsXw706OGA3I6+khiRRtjSIdtoPRSxoZaIjQdGo6JUm2fkSGDoUODJ\nJ4GyssZFspmjryRG5IRY8FsyLYci2toSueZiKoiPr3cUTOvW6unDh4Hvvwd69QLeeguoqLA/GhHZ\nhgW/JdNyKGJWVs3XVr13VlbN5ew8MOrrC/z978DmzcDf/qbG8n/0kf3xiKhh7OEbgaOGItrYw6+v\nny77s/DPH6Pw1FNA9+7Ayy+rA7xERubQHn55eTnCwsIQEhKCIUOGYPny5bWWsVgs6NixI8xmM8xm\nMxYvXqxJONKAI4ci2votoJ5WkykivHomzgkTgDvvBObMAb79tvkiExmK2ODChQsiIlJeXi59+vSR\nr7/+usbzu3fvlujo6Bu+h42rIi2VlorMn69+1nVfT1VZCgrqzVRaKvLkkyLe3iL/8z8iP/zg+JhE\netOydtrUw2/Xrh0A4Pz587hy5QratGlT1weHlp9DpAVb97j1YMPBXU9P4KWXgM8/B775Rg3fTE4G\nLl7UIS9RC2BTwa+srET//v3RpUsXPPLII/Dz86vxvMlkwoEDBxASEoLY2Fjk5+c3S1iykzMPRbSj\n1XT77cDateqkrexsVfhXr9bxjF0iF2XXQdsTJ05gwoQJeOedd2A2m6sfLysrQ6tWreDh4YG1a9di\ny5YtyMjIqLkikwnPPfdc9f3IyEhERkY2/S8g12Prwd16/OtfwDPPqCmYExOB++8HWrVq/thEjmCx\nWGCxWKrvP//88/pd0zYuLg7du3fHvHnz6nxeRODr64vCwsIarR+O0qFqGp31unev+pwoKVFTMd97\nLws/tTwOHaVz5swZWK9+3S4pKcGuXbswadKkGssUFRVVB0pPT0dwcHCdfX4iAJq1mkaMUEV/+XJg\n5UqgTx9g/XrgyhUNs9aFF1MhF9VgwT99+jRGjx6N/v3747777kNcXBy6du2K1NRUpKamAgA2btyI\nfv36ISQkBBs3bkRKSkqzBycCAJMJGDtWfTl49VXgr38FevdWZ+3+9FMzrZQXUyEXxROvqMWxWIAX\nXlDnmy1aBDz4oJrKQVNVRT4+Xh105sVUqJloWTtZ8KnF2r9fFf68PODxx4GHHwZuvlnDFfBiKuQA\nnC2TyAYREcCuXcDWrepau4GBwNNPA6dP1/MCe3rzvJgKuSAWfGrxBgwA3n0XyMlR0zAHBam9/WPH\nrlvQ1t48L6ZCLootHTKc4mJ1gHf1amDYMOCxx4DISHUA2KbePC+mQg7EHj6RBi5cANatU0M63d2B\nP/wBuO8+oN33J9ibJ6fBHj6RBm66CZg3T83OmZKiev39/Kz4NCYZ32Y5UW+e4/5JIyz4ZHgmEzBm\nDJC+zop/jU/AttAk9Iv2x8xTSTj5YAIqz+pc9DnunzTClg5RlWt682Vlqt2TttqK3mez0OPxKDz0\nEODjo1M2jvs3LPbwiRxERI3uSU1Vl2G86y5g7lx1kNfN0d+POe7fkNjDJ3IQkwkICwPWrFF1dsQI\ndRJXz55qJ7uw0EFBOO6fNMA9fCI7iah5+deuBf7xDyAkBJg5E7jnHqB9+2ZYYROnkybXxpYOkZMo\nLwfS01Xx378fmDRJFX9NWz4c929oLPhETqioCEhLU8W/uFjNzz99umoJmUx6pyNXxYJP5OTy8lS7\nZ8MG4NIl4Ne/BqZNU9M8sPiTPVjwiZzd1TaMdPTEl18C770H7EizYtCPWbhlZhQmTQJCQ3UY6UMu\nh6N0iJzd1ZOlTD9YERwMJMVb8fn4BCxIC4ebGzB7NvDLX6ohnjt2qGMBRM2Ne/hEzaWBk6WOH1fT\nOWzZAvz73+ps34kT1RW8unTRMTc5FbZ0iFyFjSdLFRcDGRnAtm3A7t1At26q8I8bBwwdCnh4OCwx\nORm2dIhcgR0nS3XuDPz2t+ps3uJi4JVX1MHd2Fj13JQpwOuvA//5jzoPoEXiJHG1FBdr+34s+ETN\noQkXSfHwAIYPVy85dEgV+ZgY4MAB4I47VO9/xgw13cOxY9d8ALh6wbRlkjhX/xsb8N13wKZN6hoN\nwcFAjx4ar0AcxIGrItJfRoZIaWnNx0pL1eONWe6qykqR/HyRN98UefBBET8/EV9fkWnTRF5/qVSK\nps6XH4tKf36f+fNrv78zq8pcUFB39uv/Jlf8G6+qrBQ5dkz9t3zoIZHu3UW8vETuvlvkpZdEsrNF\nfvpJ29rJHj6Rnpo4bYKIOkxgsQCffgocybJi5n8SsKt/PBZeScaZhUkYeIcnbr212f8S7TR03MNF\nZw4tLlbf2A4eVD+zs4Ff/EJde3n4cPUzKKj2UF0etCVqSTQuYGVfnkCH4AC8GleAzGP++PRTdUWv\nkBDAbFY/Q0KA7t1vcB6AXtM52PpvodXMoc3wd4qo1syXXwK5uT8XeKsVGDgQGDwYGDRInYdx220N\nv5+mtVOz7woNcOCqiFxPQYEIoH42RR0tkcpKkW++Edm6VSQxUWTyZBF/f5H27UWGDROZN09kxQqR\nXbtECgtVq0HT1omtbStb19lQ26c51lmPH34QOXBAJDVV5NFHRSIjRTp1UrfISJHHHxd55x2R//xH\npKLCpresRcvayYJPpDdbCpg979NQ8bpaDM+eFdm9W2TlSpHYWaXyVL8M8fVVHwQDB4o8fG+pHAyd\nL5uXF8i398yX03nqw6O5c9V67bVF2t4PBVsKeQP//ufPi3zxhcj774u8+KLIb38rEhEh0qWLSLt2\n6t/qoYdEUlJEMjNFvv1WGvfvVA8WfKKWwgn3pEtLRT79VGTNGpGX5hWIADIxuEBuuUWkbVuRXr1E\nxo9XL9nwQIasW1UqO3aI5OaKfPedSEXJDdbZ1A81ew5yN7DOykoRq1XtfWe/p/7O1X8skAULRKKj\nRUJC1J76L34hEhQkMmmSSFyc2pv/5BORkycbv9duDy1rJ3v4RHpy5l55Hcucd/fEiROqdV5QAJz9\n/1ZEfJCAV7sm4fgZT1z4rxXxPyRgVZcktPbxhLc34OWlbt1ancDTfw3AO4sL4Bboj7ZtgXbt1K3q\n97Zt1YFMN7faN5NJ3a5cAS5frvt2/jxQVgacO6dupm9OYN7SACTOLMDxK/4oLga+/14dQC0uBtq0\nAbp1suKZ8gRYBsVjxqlk/HtaErr09MRttwF+fuo8CD0nvONBWyJquhsd+LRn9NB1HwyXn0vCd+We\nKCkBzp4FSkuB86esCH4vAR+GxCN0bzLW9UxCSYUnLl5Us4le+7O8HKisVDeRn3+vuu/hAbRuXfvm\n4aEuQHPzzUCHDkCXNlbc+0UC/jU6HiNzknHkviR4BXjCx0cV8c6dgV+Ua3hxmWb68HbYQdtLly5J\naGio9O/fX8LCwuTPf/5zncs99dRTEhAQIAMGDJC8vLw6l2lgVUTkSA21WOw8P+CGB531GDuv5XED\nrddpJy1rZ4PvdOHCBRERKS8vlz59+sjXX39d4/ns7GwJDw+XkpISSUtLk6ioqLpXxIJP5By0Lkxa\nf3hoQY91Vq1Di2MV13Bowa9y5swZ6dmzpxQWFtZ4fOXKlbJ8+fLq+4GBgXWviAWfyDm4wF6tU9Hy\n204jaFk7G5xLp7KyEv3790eXLl3wyCOPwM/Pr8bzOTk5CAoKqr7fuXNn5Ofna9NvIiLtRUXV7k97\nejauz5yVVbPf7emp7mdlNT2ns7Bljp8qdkyYp4cGC76bmxv+93//F8ePH8fq1auRm5tb43lR3xJq\nPGbiNdyIjEHLDw9nVfUhlpCgDnQ3dPC6ERPmOYq7rQv6+/tjwoQJyM7Ohtlsrn48LCwMR48exdix\nYwEAxcXFCAwMrPM9EhMTq3+PjIxEZGRk41ITETmSp6cahVQ1qqmuETw3+rZjxwegxWKBxWLRJvd1\nbjgs88yZM3B3d4enpydKSkowatQoZGZmomvXrtXL5OTkIDY2Flu3bkVmZibS0tKQkZFRe0UclklE\nrkrHCdu0rJ033MM/ffo0Zs6ciYqKCvj6+iIuLg5du3ZFamoqAGDu3LkIDQ1FREQEBg0aBG9vb6xf\nv16TYERETuH6sflVrRoXmaXzWjzxiojoRvQ6G/oqnmlLRGQQvKYtERHZjQWfiMggWPCJiAyCBZ+I\nyCBY8ImIDIIFn4jIIFjwiYgMggWfiMggWPCJiAyCBZ+IyCBY8ImIDIIFn4jIIFjwiYgMggWfiMgg\nWPCJiAyCBZ+IyCBY8ImIDIIFn4jIIFjwiYgMggWfiMggWPCJiAyCBZ+IyCBY8ImIDIIFn4jIIFjw\niYgMggWfiMggWPCJiAyiwYJ/8uRJjBo1Cn369EFkZCTS0tJqLWOxWNCxY0eYzWaYzWYsXry4WcIS\nEVHjNVjwPTw8sHz5chw5cgQbN27EM888g7KyslrLjRw5Erm5ucjNzcUzzzzTLGH1ZLFY9I7QJK6c\n35WzA8yvN1fPr6UGC76vry9CQkIAALfccgv69OmDQ4cO1VpORLRP50Rc/X8aV87vytkB5tebq+fX\nkl09/OPHj+PIkSMIDQ2t8bjJZMKBAwcQEhKC2NhY5OfnaxqSiIiazuaCX1ZWhmnTpmH58uW46aab\najw3YMAAnDx5EgcPHkRQUBAee+wxzYMSEVETiQ0uX74sY8aMkeXLlze4bGVlpfj4+Eh5eXmNx7t1\n6yYAeOONN954s+PWrVs3W8q0TdzRABHB7Nmz0bdvXzz++ON1LlNUVAQfHx+YTCakp6cjODgYbdq0\nqbHM8ePHG1oVERE1I5PIjY+27t+/HyNGjEBwcDBMJhMA4MUXX0RhYSEAYO7cuXj11Vfx2muvwd3d\nHcHBwYiLi0NwcHDzpyciIps1WPCJiKhlaPSZtrNmzUKXLl3Qr1+/6seOHj2Ku+++GyEhIYiOjkZe\nXh4A1RZ67LHHMHDgQAwbNgxvvPFG9Wvy8vIwYMAABAYGIiEhoQl/StPzHzt2DPfffz+CgoIwffp0\nXLp0qfq5lStXokePHggKCsL+/ftdKv+HH36IQYMGITg4GJMnT0ZOTo5L5a9SWFiI9u3bIyUlxeXy\nHz9+HKNGjULPnj0RHByMH3/8Ubf89mR3xm23vpNBy8rKMGnSJNx2222YPHkyzp8/X/0aZ9p+7c2v\n6fbb2Ob/3r175fPPP5e+fftWPzZt2jR57733REQkLS1Npk+fLiIiO3fulKioKBEROXfunNx+++1S\nWloqIiLjx4+XDRs2yJkzZyQ8PFwOHjzY2EhNzj9jxgz5xz/+ISIiS5YskZUrV4qISFFRkfTs2VO+\n+eYbsVgsYjabq1/jCvlzc3Pl9OnTIiKyZ88eGT58uEvlrxITEyO//vWvZdmyZS6XPzw8XN5//30R\nETl79qzENl3+AAAFPklEQVRUVFTolt+e7M647Z4+fVpyc3NFRKS4uFgCAgLk3LlzsnTpUnnkkUek\nvLxcFixYIMnJySLifNuvvfm13H4bvYc/fPhweHl51XisY8eOKCkpQWVlJUpKSqqfv/nmm3Hx4kVc\nvHgRVqsVJpMJ7dq1A6D2LKZNm4ZOnTrhnnvuQXZ2dmMjNTm/xWJBdHQ0AGDixInIysoCAGRnZ2Pc\nuHG47bbbMHLkSIhI9aevK+QPCQmBr69v9esOHz6MiooKl8kPAFu2bEFgYCCCgoJqvMYV8n///fcw\nmUyYOnUqAMDLywtubm665bcnuzNuu3WdDHrw4EHk5ORg9uzZaNOmDWbNmlWdx9m2X3vza7n9ajp5\nWnJyMlasWAEvLy+8+uqrWLp0KQBg2LBhGDJkCLp06YLAwEC8/vrraN26NY4fPw4fH5/q1wcFBeGz\nzz7TMpJdxowZg7feegs//vgj1q5diwMHDgBQ/8P07t27ermePXsiOzvbZfJf691338XQoUPRqlUr\nl8l//vx5vPzyy0hMTKyxvKvk37VrF7y8vDBmzBjceeedePfddwE4V/76sjv7tnvtyaAHDx5Er169\nAAC9evWqbn048/ZrS/5rNXX71bTgz5o1C48++ihKSkowb948zJ49GwCQkZGBgwcPorCwEEeOHMGc\nOXNQUlJSazqG6+872vPPP4/Dhw9jyJAhqKioQNu2betdtmrE0rWcPf+XX36JZ599Fn/5y18A1M7r\nrPkTExOxcOFCtGvXrkZGV8lfXl6Ozz77DKmpqVi/fj2WLFmCb775xqny15fdmbfda08Gbd++vV0Z\nnGH7tTe/Fttvg+Pw7bF//36sW7cO7u7umD17NpYsWQIA2Lt3L2JiYuDl5QUvLy8MGzYMBw8exLhx\n41BUVFT9+qNHj2LIkCFaRrKLv79/9T/mzp07cfnyZQBAWFgYPvroo+rlvvrqKwwePBgdOnRwifwA\ncOrUKUydOhXr1q1DQEAAAKBHjx4ukT8nJwebNm3CH//4R1itVri5uaFt27aYP3++S+QfOnQoRo4c\nicDAQADA+PHjkZmZid/97ndOk7++7M667f7000+IiYnBAw88gEmTJgEABg8ejLy8PJjNZuTl5WHw\n4MEAnHP7tSc/oN32q+ke/qhRo7Bt2zYAwNatWzFmzBgAwB133IEPPvgAly9fxpkzZ3Do0CFEREQA\nUF9dNmzYgDNnzmDz5s0ICwvTMpJdiouLAQD//e9/sXr1aowdOxYAEBoaiszMTBQWFsJiscDNzQ0d\nOnRwmfxWqxVRUVFYunQphg4dWuM1rpB/7969KCgoQEFBAR5//HEkJCRg/vz5LpO/d+/eOHr0KEpL\nS3HhwgXs3r0bo0ePdqr89WV3xm1X6jkZNCwsDGvWrMGlS5ewZs2a6uLnbNuvvfk13X4be6R5+vTp\n0rVrV/Hw8JBbb71V1qxZI4cPH5bp06dLcHCw3HfffZKXlyciIleuXJFFixbJoEGDZMSIEbJu3brq\n9zly5IiYzWbx9/eXp556qrFxmpz/zTfflBUrVsivfvUr6dGjhyQlJdVY/pVXXpFu3bpJ7969Ze/e\nvS6V/09/+pPcdNNNEhISUn0rLi52mfzXSkxMlJSUlOr7rpJ/8+bNEhQUJEOGDJFVq1bpmt+e7M64\n7e7bt09MJpP079+/+v/nnTt3yrlz52TixIni5+cnkyZNkrKysurXONP2a29+LbdfnnhFRGQQvMQh\nEZFBsOATERkECz4RkUGw4BMRGQQLPhGRQbDgExEZBAs+EZFBsOATERnE/wEIHQ2cInPv2wAAAABJ\nRU5ErkJggg==\n",
       "text": [
        "<matplotlib.figure.Figure at 0x110bca3d0>"
       ]
      }
     ],
     "prompt_number": 34
    },
    {
     "cell_type": "markdown",
     "metadata": {},
     "source": [
      "Note the values of the coefficient $w_2$ in particular. It is relatively small, because it is multiplying a large number (square of 2000 is 4 million). This need to use small coefficients becomes worse as we increase the order of the fit. As an exercise for later, try fitting higher order polynomials to the data. See what happens as you increase the polynomial order."
     ]
    },
    {
     "cell_type": "heading",
     "level": 2,
     "metadata": {},
     "source": [
      "Generalization"
     ]
    },
    {
     "cell_type": "markdown",
     "metadata": {},
     "source": [
      "The aim of this notebook is to review the different methods of model selection: hold out validation, leave one out cross validation and cross validation. "
     ]
    },
    {
     "cell_type": "heading",
     "level": 2,
     "metadata": {},
     "source": [
      "Training Error"
     ]
    },
    {
     "cell_type": "markdown",
     "metadata": {},
     "source": [
      "The first thing we'll do is plot the training error for the polynomial fit. To do this let's set up some parameters."
     ]
    },
    {
     "cell_type": "code",
     "collapsed": false,
     "input": [
      "num_data = x.shape[0]\n",
      "num_pred_data = 100 # how many points to use for plotting predictions\n",
      "x_pred = linspace(1890, 2016, num_pred_data)[:, None] # input locations for predictions\n",
      "order = 4 # The polynomial order to use.             "
     ],
     "language": "python",
     "metadata": {},
     "outputs": [],
     "prompt_number": 35
    },
    {
     "cell_type": "markdown",
     "metadata": {},
     "source": [
      "now let's build the basis matrices.\n"
     ]
    },
    {
     "cell_type": "code",
     "collapsed": false,
     "input": [
      "# build the basis set\n",
      "Phi = np.zeros((num_data, order+1))\n",
      "Phi_pred = np.zeros((num_pred_data, order+1))\n",
      "for i in range(0, order+1):\n",
      "    Phi[:, i:i+1] = x**i\n",
      "    Phi_pred[:, i:i+1] = x_pred**i\n",
      "\n"
     ],
     "language": "python",
     "metadata": {},
     "outputs": [],
     "prompt_number": 36
    },
    {
     "cell_type": "markdown",
     "metadata": {},
     "source": [
      "now we can solve for the regression weights and make predictions both for the training data points, and the test data points. That involves solving the linear system given by"
     ]
    },
    {
     "cell_type": "markdown",
     "metadata": {},
     "source": [
      "$$\\basisMatrix^\\top \\basisMatrix \\mappingVector^* = \\basisMatrix^\\top \\dataVector$$"
     ]
    },
    {
     "cell_type": "code",
     "collapsed": false,
     "input": [
      "# solve the linear system\n",
      "w_star = np.linalg.solve(np.dot(Phi.T, Phi), np.dot(Phi.T, y))"
     ],
     "language": "python",
     "metadata": {},
     "outputs": [],
     "prompt_number": 37
    },
    {
     "cell_type": "markdown",
     "metadata": {},
     "source": [
      "and using the resulting vector to make predictions at the training points and test points,"
     ]
    },
    {
     "cell_type": "markdown",
     "metadata": {},
     "source": [
      "$$\\mathbf{f} = \\basisMatrix \\mappingVector.$$"
     ]
    },
    {
     "cell_type": "markdown",
     "metadata": {},
     "source": [
      "To implement this in practice we need to use basis matrices for both the predictions and the training points."
     ]
    },
    {
     "cell_type": "code",
     "collapsed": false,
     "input": [
      "# predict at training and test points\n",
      "f = np.dot(Phi, w_star)\n",
      "f_pred = np.dot(Phi_pred, w_star)"
     ],
     "language": "python",
     "metadata": {},
     "outputs": [],
     "prompt_number": 38
    },
    {
     "cell_type": "markdown",
     "metadata": {},
     "source": [
      "These can be used to compute the error"
     ]
    },
    {
     "cell_type": "markdown",
     "metadata": {},
     "source": [
      "$$E(\\mappingVector) =  \\frac{\\numData}{2} \\log \\dataStd^2 + \\frac{1}{2\\dataStd^2} \\sum_{i=1}^\\numData \\left(\\dataScalar_i - \\mappingVector^\\top \\phi(\\inputVector_i)\\right)^2 \\\\\\\n",
      "E(\\mappingVector) = \\frac{\\numData}{2} \\log \\dataStd^2 + \\frac{1}{2\\dataStd^2} \\sum_{i=1}^\\numData \\left(\\dataScalar_i - \\mappingFunctionScalar_i\\right)^2$$"
     ]
    },
    {
     "cell_type": "code",
     "collapsed": false,
     "input": [
      "# compute the sum of squares term\n",
      "sum_squares = ((y-f)**2).sum()\n",
      "# fit the noise variance\n",
      "sigma2 = sum_squares/num_data\n",
      "error = 0.5*(num_data*np.log(sigma2) + sum_squares/sigma2)"
     ],
     "language": "python",
     "metadata": {},
     "outputs": [],
     "prompt_number": 39
    },
    {
     "cell_type": "markdown",
     "metadata": {},
     "source": [
      "Now we have the fit and the error, let's plot the fit and the error."
     ]
    },
    {
     "cell_type": "code",
     "collapsed": false,
     "input": [
      "# print the error and plot the predictions\n",
      "print(\"The error is: %2.4f\"%error)\n",
      "plt.plot(x_pred, f_pred)\n",
      "plt.plot(x, y, 'rx')\n",
      "ax = plt.gca()\n",
      "ax.set_title('Predictions for Order 5')\n",
      "ax.set_xlabel('year')\n",
      "ax.set_ylabel('pace (min/km)')"
     ],
     "language": "python",
     "metadata": {},
     "outputs": [
      {
       "output_type": "stream",
       "stream": "stdout",
       "text": [
        "The error is: -29.9371\n"
       ]
      },
      {
       "metadata": {},
       "output_type": "pyout",
       "prompt_number": 40,
       "text": [
        "<matplotlib.text.Text at 0x110e694d0>"
       ]
      },
      {
       "metadata": {},
       "output_type": "display_data",
       "png": "iVBORw0KGgoAAAANSUhEUgAAAYsAAAEZCAYAAABmTgnDAAAABHNCSVQICAgIfAhkiAAAAAlwSFlz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\nERFpxWRBRERaMVkQEZFW/w+DWoi9uJWUCgAAAABJRU5ErkJggg==\n",
       "text": [
        "<matplotlib.figure.Figure at 0x110bf1290>"
       ]
      }
     ],
     "prompt_number": 40
    },
    {
     "cell_type": "markdown",
     "metadata": {},
     "source": [
      "Now use the loop structure below to compute the error for different model orders.\n"
     ]
    },
    {
     "cell_type": "code",
     "collapsed": false,
     "input": [
      "# import the time model to allow python to pause.\n",
      "import time\n",
      "# import the IPython display module to clear the output.\n",
      "from IPython.display import clear_output\n",
      "\n",
      "num_data = len(x)\n",
      "error_list = []\n",
      "max_order = 6\n",
      "sigma2 = 1\n",
      "fig, axes = plt.subplots(nrows=1, ncols=2)\n",
      "for order in range(0, max_order+1):\n",
      "    # 1. build the basis set\n",
      "    Phi = np.zeros((num_data, order+1))\n",
      "    Phi_pred = np.zeros((num_pred_data, order+1))\n",
      "    for i in range(0, order+1):\n",
      "        Phi[:, i] = x.flatten()**i\n",
      "        Phi_pred[:, i] = x_pred.flatten()**i\n",
      "    \n",
      "    # 2. solve the linear system\n",
      "    w = np.linalg.solve(np.dot(Phi.T, Phi), np.dot(Phi.T, y))\n",
      "    # 3. make predictions at training and test points\n",
      "    f_pred = np.dot(Phi_pred, w)\n",
      "    f = np.dot(Phi, w)\n",
      "    # 4. compute the error and append it to a list.\n",
      "    error_list.append(((y-f)**2).sum() + num_data/2.*np.log(sigma2))\n",
      "    # 5. plot the predictions\n",
      "    axes[0].clear()\n",
      "    axes[1].clear()    \n",
      "    axes[0].plot(x_pred, f_pred)\n",
      "    axes[0].plot(x, y, 'rx')\n",
      "    axes[0].set_ylim((2.5, 5.5))\n",
      "    axes[0].set_title('Predictions for Order ' + str(order) + ' model.')\n",
      "    axes[1].plot(np.arange(0, order+1), np.asarray(error_list))\n",
      "    axes[1].set_xlim((0, max_order))\n",
      "    axes[1].set_ylim((0, 10))\n",
      "    axes[1].set_title('Training Error')\n",
      "    display(fig)\n",
      "    time.sleep(1)\n",
      "    clear_output()"
     ],
     "language": "python",
     "metadata": {},
<<<<<<< HEAD
     "outputs": [
      {
       "metadata": {},
       "output_type": "display_data",
       "png": "iVBORw0KGgoAAAANSUhEUgAAAXIAAAEKCAYAAAAPVd6lAAAABHNCSVQICAgIfAhkiAAAAAlwSFlz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\nKiohn7CfDQAAAABJRU5ErkJggg==\n",
       "text": [
        "<matplotlib.figure.Figure at 0x110e90410>"
       ]
      }
     ],
     "prompt_number": 41
    },
    {
     "cell_type": "code",
     "collapsed": false,
     "input": [],
     "language": "python",
     "metadata": {},
     "outputs": [],
     "prompt_number": 41
    },
    {
     "cell_type": "code",
     "collapsed": false,
     "input": [],
     "language": "python",
     "metadata": {},
=======
>>>>>>> FETCH_HEAD
     "outputs": []
    }
   ],
   "metadata": {}
  }
 ]
}
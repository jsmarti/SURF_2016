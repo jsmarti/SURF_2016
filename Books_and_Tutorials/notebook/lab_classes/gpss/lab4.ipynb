{
 "metadata": {
  "name": "",
  "signature": "sha256:4517c7294a51126b5d58843e5519f5a5f82a3af623b7b36d5120d1035075aad5"
 },
 "nbformat": 3,
 "nbformat_minor": 0,
 "worksheets": [
  {
   "cells": [
    {
     "cell_type": "heading",
     "level": 1,
     "metadata": {},
     "source": [
      "Lab session 4: Dimensionality Reduction using Gaussian Processes"
     ]
    },
    {
     "cell_type": "markdown",
     "metadata": {},
     "source": [
      "Gaussian Process Road School, 16th February 2014\n",
      "written by Max Zwiessele, Neil Lawrence"
     ]
    },
    {
     "cell_type": "markdown",
     "metadata": {},
     "source": [
      "This lab session will focus on three aspects of GPs: sampling, the design of Experiments and uncertainty propagation."
     ]
    },
    {
     "cell_type": "heading",
     "level": 2,
     "metadata": {},
     "source": [
      "1 Getting Started and Downloading Data"
     ]
    },
    {
     "cell_type": "markdown",
     "metadata": {},
     "source": [
      "As for the last two lab sessions, the first thing to do is set the plots to appear inline and import relevant modules for the lab session."
     ]
    },
    {
     "cell_type": "code",
     "collapsed": false,
     "input": [
      "%pylab inline\n",
      "import numpy as np\n",
      "import pylab as pb\n",
      "import GPy\n",
      "import string"
     ],
     "language": "python",
     "metadata": {},
     "outputs": [
      {
       "output_type": "stream",
       "stream": "stdout",
       "text": [
        "Populating the interactive namespace from numpy and matplotlib\n"
       ]
      }
     ],
     "prompt_number": 1
    },
    {
     "cell_type": "markdown",
     "metadata": {},
     "source": [
      "For this lab, we've created a dataset `digits.npy` containing all handwritten digits from $0 \\cdots 9$ handwritten, provided by deCampos et al. [2009]. All digits were cropped and scaled down to an appropriate format.\n",
      "You can retrieve the dataset as follows:"
     ]
    },
    {
     "cell_type": "code",
     "collapsed": false,
     "input": [
      "import urllib\n",
      "urllib.urlretrieve('http://staffwww.dcs.sheffield.ac.uk/people/J.Hensman/gpsummer/Lab3.zip', 'Lab3.zip')\n",
      "import zipfile\n",
      "zip = zipfile.ZipFile('Lab3.zip', 'r')\n",
      "for name in zip.namelist():\n",
      "    zip.extract(name, '.')\n",
      "from load_plotting import * # for plotting"
     ],
     "language": "python",
     "metadata": {},
     "outputs": [],
     "prompt_number": 2
    },
    {
     "cell_type": "markdown",
     "metadata": {},
     "source": [
      "We will only use some of the digits for the demonstrations in this lab class, but you can edit the code below to select different subsets of the digit data as you wish."
     ]
    },
    {
     "cell_type": "code",
     "collapsed": false,
     "input": [
      "digits = np.load('digits.npy')\n",
      "which = [0,1,2,6,7,9] # which digits to work on\n",
      "digits = digits[which,:,:,:]\n",
      "num_classes, num_samples, height, width = digits.shape\n",
      "labels = np.array([[str(l)]*num_samples for l in which])"
     ],
     "language": "python",
     "metadata": {},
     "outputs": [],
     "prompt_number": 3
    },
    {
     "cell_type": "markdown",
     "metadata": {},
     "source": [
      "You can try to plot some sample using pb.matshow"
     ]
    },
    {
     "cell_type": "heading",
     "level": 2,
     "metadata": {},
     "source": [
      "2 Principal Component Analysis"
     ]
    },
    {
     "cell_type": "markdown",
     "metadata": {},
     "source": [
      "Principal component analysis (PCA) finds a rotation of the observed outputs, such that the rotated principal component (PC) space maximizes the variance of the data observed, sorted from most to least important (most to least variable in the corresponding PC).\n",
      "\n",
      "In order to apply PCA in an easy way, we have included a PCA module in pca.py. You can import the module by \n",
      "import <path.to.pca> (without the ending .py!). \n",
      "To run PCA on the digits we have to reshape (Hint: np.reshape ) digits . \n",
      "\n",
      "* What is the right shape $n \\times d$ to use?\n",
      "\n",
      "We will call the reshaped observed outputs $\\mathbf{Y}$ in the following."
     ]
    },
    {
     "cell_type": "code",
     "collapsed": false,
     "input": [
      "Y = digits.reshape((digits.shape[0]*digits.shape[1],digits.shape[2]*digits.shape[3]))\n",
      "Yn = Y-Y.mean()"
     ],
     "language": "python",
     "metadata": {},
     "outputs": [],
     "prompt_number": 4
    },
    {
     "cell_type": "markdown",
     "metadata": {},
     "source": [
      "Now let\u2019s run PCA on the reshaped dataset $\\mathbf{Y}$:"
     ]
    },
    {
     "cell_type": "code",
     "collapsed": false,
     "input": [
      "import pca\n",
      "p = pca.PCA(Y) # create PCA class with digits dataset"
     ],
     "language": "python",
     "metadata": {},
     "outputs": [],
     "prompt_number": 5
    },
    {
     "cell_type": "markdown",
     "metadata": {},
     "source": [
      "The resulting plot will show the lower dimensional representation of the digits in 2 dimensions."
     ]
    },
    {
     "cell_type": "code",
     "collapsed": false,
     "input": [
      "p.plot_fracs(20) # plot first 20 eigenvalue fractions\n",
      "p.plot_2d(Y,labels=labels.flatten(), colors=colors)\n",
      "pb.legend()"
     ],
     "language": "python",
     "metadata": {},
     "outputs": [
      {
       "metadata": {},
       "output_type": "pyout",
       "prompt_number": 6,
       "text": [
        "<matplotlib.legend.Legend at 0x4babf50>"
       ]
      },
      {
       "metadata": {},
       "output_type": "display_data",
       "png": "[encoded data removed]",
       "text": [
        "<matplotlib.figure.Figure at 0x47d0310>"
       ]
      },
      {
       "metadata": {},
       "output_type": "display_data",
       "png": "[encoded data removed]",
       "text": [
        "<matplotlib.figure.Figure at 0x47d02d0>"
       ]
      }
     ],
     "prompt_number": 6
    },
    {
     "cell_type": "heading",
     "level": 2,
     "metadata": {},
     "source": [
      "3 Gaussian Process Latent Variable Model"
     ]
    },
    {
     "cell_type": "markdown",
     "metadata": {},
     "source": [
      "The Gaussian Process Latent Variable Model (GP-LVM) embeds of PCA into a Gaussian process framework, where the latent inputs $\\mathbf{X}$ are learnt as hyperparameters and the mapping variables $\\mathbf{W}$ are integrated out. The advantage of this interpretation is it allows PCA to be generalized in a non linear way by replacing the resulting *linear* covariance witha  non linear covariance. But first, let's see how GPLVM is equivalent to PCA using an automatic relevance determination (ARD, see e.g. Bishop et al. [2006]) linear kernel:"
     ]
    },
    {
     "cell_type": "code",
     "collapsed": false,
     "input": [
      "input_dim = 4 # How many latent dimensions to use\n",
      "kernel = GPy.kern.Linear(input_dim, ARD=True) # ARD kernel\n",
      "#kernel += GPy.kern.White(input_dim) + GPy.kern.Bias(input_dim)\n",
      "m = GPy.models.GPLVM(Yn, input_dim=input_dim, kernel=kernel)\n",
      "#m.ensure_default_constraints()\n",
      "m['.*noise'] = m.Y.var()/20. # start noise is 5% of datanoise\n",
      "m.optimize(messages=1, max_iters=1000) # optimize for 1000 iterations\n",
      "print 'done'\n",
      "m.kern.plot_ARD()\n",
      "plot_model(m, m['.*linear.variances'].argsort()[-2:], labels.flatten())\n",
      "pb.legend()"
     ],
     "language": "python",
     "metadata": {},
     "outputs": [
      {
       "output_type": "stream",
       "stream": "stdout",
       "text": [
        " I      F              Scale          |g|        \n",
        "\r"
       ]
      },
      {
       "output_type": "stream",
       "stream": "stdout",
       "text": [
        "0001   1.496714e+05   1.000000e+00   2.441308e+11"
       ]
      },
      {
       "output_type": "stream",
       "stream": "stdout",
       "text": [
        " \r",
        "0002   6.458485e+04   5.000000e-01   2.948600e+10"
       ]
      },
      {
       "output_type": "stream",
       "stream": "stdout",
       "text": [
        " \r",
        "0003   4.594885e+04   2.500000e-01   2.960748e+09"
       ]
      },
      {
       "output_type": "stream",
       "stream": "stdout",
       "text": [
        " \r",
        "0004   4.385056e+04   1.250000e-01   1.856819e+08"
       ]
      },
      {
       "output_type": "stream",
       "stream": "stdout",
       "text": [
        " \n",
        "\r"
       ]
      },
      {
       "output_type": "stream",
       "stream": "stdout",
       "text": [
        "0005   4.305709e+04   6.250000e-02   4.217826e+06"
       ]
      },
      {
       "output_type": "stream",
       "stream": "stdout",
       "text": [
        " \r",
        "0006   4.290502e+04   6.250000e-02   1.361347e+08"
       ]
      },
      {
       "output_type": "stream",
       "stream": "stdout",
       "text": [
        " \r",
        "0007   3.980884e+04   3.125000e-02   1.595500e+08"
       ]
      },
      {
       "output_type": "stream",
       "stream": "stdout",
       "text": [
        " \r",
        "0008   3.910837e+04   3.125000e-02   5.779741e+07"
       ]
      },
      {
       "output_type": "stream",
       "stream": "stdout",
       "text": [
        " \n",
        "\r"
       ]
      },
      {
       "output_type": "stream",
       "stream": "stdout",
       "text": [
        "0009   3.795634e+04   1.562500e-02   1.442790e+06"
       ]
      },
      {
       "output_type": "stream",
       "stream": "stdout",
       "text": [
        " \r",
        "0010   3.787709e+04   7.812500e-03   5.728641e+06"
       ]
      },
      {
       "output_type": "stream",
       "stream": "stdout",
       "text": [
        " \r",
        "0011   3.677928e+04   3.906250e-03   2.017507e+06"
       ]
      },
      {
       "output_type": "stream",
       "stream": "stdout",
       "text": [
        " \r",
        "0012   3.651576e+04   3.906250e-03   5.026451e+07"
       ]
      },
      {
       "output_type": "stream",
       "stream": "stdout",
       "text": [
        " \r",
        "0013   3.615555e+04   1.953125e-03   1.016048e+07"
       ]
      },
      {
       "output_type": "stream",
       "stream": "stdout",
       "text": [
        " \r",
        "0014   3.611838e+04   1.953125e-03   1.144751e+06"
       ]
      },
      {
       "output_type": "stream",
       "stream": "stdout",
       "text": [
        " \r",
        "0015   3.548141e+04   9.765625e-04   1.611510e+06"
       ]
      },
      {
       "output_type": "stream",
       "stream": "stdout",
       "text": [
        " \r",
        "0016   3.542986e+04   4.882812e-04   3.802530e+06"
       ]
      },
      {
       "output_type": "stream",
       "stream": "stdout",
       "text": [
        " \r",
        "0017   3.459780e+04   2.441406e-04   6.500608e+05"
       ]
      },
      {
       "output_type": "stream",
       "stream": "stdout",
       "text": [
        " \n",
        "\r"
       ]
      },
      {
       "output_type": "stream",
       "stream": "stdout",
       "text": [
        "0018   3.456031e+04   1.220703e-04   1.457984e+06"
       ]
      },
      {
       "output_type": "stream",
       "stream": "stdout",
       "text": [
        " \r",
        "0019   3.383680e+04   6.103516e-05   2.022429e+06"
       ]
      },
      {
       "output_type": "stream",
       "stream": "stdout",
       "text": [
        " \r",
        "0020   3.374999e+04   3.051758e-05   6.078624e+06"
       ]
      },
      {
       "output_type": "stream",
       "stream": "stdout",
       "text": [
        " \r",
        "0021   3.334746e+04   1.525879e-05   5.877809e+05"
       ]
      },
      {
       "output_type": "stream",
       "stream": "stdout",
       "text": [
        " \r",
        "0022   3.334519e+04   7.629395e-06   1.276336e+05"
       ]
      },
      {
       "output_type": "stream",
       "stream": "stdout",
       "text": [
        " \r",
        "0023   3.332330e+04   3.814697e-06   6.264598e+04"
       ]
      },
      {
       "output_type": "stream",
       "stream": "stdout",
       "text": [
        " \r",
        "0024   3.332259e+04   1.907349e-06   1.435642e+04"
       ]
      },
      {
       "output_type": "stream",
       "stream": "stdout",
       "text": [
        " \r",
        "0025   3.330784e+04   9.536743e-07   3.674016e+04"
       ]
      },
      {
       "output_type": "stream",
       "stream": "stdout",
       "text": [
        " \r",
        "0026   3.330578e+04   4.768372e-07   2.862445e+04"
       ]
      },
      {
       "output_type": "stream",
       "stream": "stdout",
       "text": [
        " \n",
        "\r"
       ]
      },
      {
       "output_type": "stream",
       "stream": "stdout",
       "text": [
        "0027   3.329362e+04   2.384186e-07   1.062785e+05"
       ]
      },
      {
       "output_type": "stream",
       "stream": "stdout",
       "text": [
        " \r",
        "0028   3.329188e+04   1.192093e-07   2.659034e+04"
       ]
      },
      {
       "output_type": "stream",
       "stream": "stdout",
       "text": [
        " \r",
        "0029   3.328692e+04   5.960464e-08   7.698968e+04"
       ]
      },
      {
       "output_type": "stream",
       "stream": "stdout",
       "text": [
        " \r",
        "0030   3.328561e+04   2.980232e-08   1.917240e+04"
       ]
      },
      {
       "output_type": "stream",
       "stream": "stdout",
       "text": [
        " \r",
        "0031   3.328335e+04   1.490116e-08   4.753489e+04"
       ]
      },
      {
       "output_type": "stream",
       "stream": "stdout",
       "text": [
        " \r",
        "0032   3.328264e+04   7.450581e-09   1.025869e+04"
       ]
      },
      {
       "output_type": "stream",
       "stream": "stdout",
       "text": [
        " \r",
        "0033   3.328175e+04   3.725290e-09   2.178294e+04"
       ]
      },
      {
       "output_type": "stream",
       "stream": "stdout",
       "text": [
        " \r",
        "0034   3.328137e+04   1.862645e-09   5.096867e+03"
       ]
      },
      {
       "output_type": "stream",
       "stream": "stdout",
       "text": [
        " \n",
        "\r"
       ]
      },
      {
       "output_type": "stream",
       "stream": "stdout",
       "text": [
        "0035   3.328094e+04   9.313226e-10   1.092429e+04"
       ]
      },
      {
       "output_type": "stream",
       "stream": "stdout",
       "text": [
        " \r",
        "0036   3.328062e+04   4.656613e-10   3.549498e+03"
       ]
      },
      {
       "output_type": "stream",
       "stream": "stdout",
       "text": [
        " \r",
        "0037   3.328026e+04   2.328306e-10   8.963461e+03"
       ]
      },
      {
       "output_type": "stream",
       "stream": "stdout",
       "text": [
        " \r",
        "0038   3.327986e+04   1.164153e-10   3.967149e+03"
       ]
      },
      {
       "output_type": "stream",
       "stream": "stdout",
       "text": [
        " \r",
        "0039   3.327943e+04   5.820766e-11   1.062983e+04"
       ]
      },
      {
       "output_type": "stream",
       "stream": "stdout",
       "text": [
        " \r",
        "0040   3.327890e+04   2.910383e-11   5.368207e+03"
       ]
      },
      {
       "output_type": "stream",
       "stream": "stdout",
       "text": [
        " \r",
        "0041   3.327843e+04   1.455192e-11   1.240442e+04"
       ]
      },
      {
       "output_type": "stream",
       "stream": "stdout",
       "text": [
        " \r",
        "0042   3.327781e+04   7.275958e-12   6.623533e+03"
       ]
      },
      {
       "output_type": "stream",
       "stream": "stdout",
       "text": [
        " \r",
        "0043   3.327736e+04   3.637979e-12   1.228707e+04"
       ]
      },
      {
       "output_type": "stream",
       "stream": "stdout",
       "text": [
        " \r",
        "0044   3.327673e+04   1.818989e-12   7.196747e+03"
       ]
      },
      {
       "output_type": "stream",
       "stream": "stdout",
       "text": [
        " \r",
        "0045   3.327634e+04   9.094947e-13   1.074218e+04"
       ]
      },
      {
       "output_type": "stream",
       "stream": "stdout",
       "text": [
        " \r",
        "0046   3.327577e+04   4.547474e-13   6.999022e+03"
       ]
      },
      {
       "output_type": "stream",
       "stream": "stdout",
       "text": [
        " \r",
        "0047   3.327547e+04   2.273737e-13   8.124195e+03"
       ]
      },
      {
       "output_type": "stream",
       "stream": "stdout",
       "text": [
        " \r",
        "0048   3.327505e+04   1.136868e-13   5.798608e+03"
       ]
      },
      {
       "output_type": "stream",
       "stream": "stdout",
       "text": [
        " \r",
        "0049   3.327485e+04   5.684342e-14   5.213031e+03"
       ]
      },
      {
       "output_type": "stream",
       "stream": "stdout",
       "text": [
        " \r",
        "0050   3.327456e+04   2.842171e-14   4.212215e+03"
       ]
      },
      {
       "output_type": "stream",
       "stream": "stdout",
       "text": [
        " \r",
        "0051   3.327442e+04   1.421085e-14   3.257731e+03"
       ]
      },
      {
       "output_type": "stream",
       "stream": "stdout",
       "text": [
        " \r",
        "0052   3.327420e+04   7.105427e-15   3.231922e+03"
       ]
      },
      {
       "output_type": "stream",
       "stream": "stdout",
       "text": [
        " \r",
        "0053   3.327409e+04   3.552714e-15   2.442449e+03"
       ]
      },
      {
       "output_type": "stream",
       "stream": "stdout",
       "text": [
        " \r",
        "0054   3.327388e+04   1.776357e-15   3.096685e+03"
       ]
      },
      {
       "output_type": "stream",
       "stream": "stdout",
       "text": [
        " \r",
        "0055   3.327376e+04   1.000000e-15   2.287024e+03"
       ]
      },
      {
       "output_type": "stream",
       "stream": "stdout",
       "text": [
        " \r",
        "0056   3.327353e+04   1.000000e-15   3.488111e+03"
       ]
      },
      {
       "output_type": "stream",
       "stream": "stdout",
       "text": [
        " \r",
        "0057   3.327341e+04   1.000000e-15   2.237858e+03"
       ]
      },
      {
       "output_type": "stream",
       "stream": "stdout",
       "text": [
        " \r",
        "0058   3.327319e+04   1.000000e-15   3.759422e+03"
       ]
      },
      {
       "output_type": "stream",
       "stream": "stdout",
       "text": [
        " \r",
        "0059   3.327308e+04   1.000000e-15   1.942812e+03"
       ]
      },
      {
       "output_type": "stream",
       "stream": "stdout",
       "text": [
        " \r",
        "0060   3.327290e+04   1.000000e-15   3.521980e+03"
       ]
      },
      {
       "output_type": "stream",
       "stream": "stdout",
       "text": [
        " \r",
        "0061   3.327279e+04   1.000000e-15   1.528291e+03"
       ]
      },
      {
       "output_type": "stream",
       "stream": "stdout",
       "text": [
        " \r",
        "0062   3.327265e+04   1.000000e-15   3.086764e+03"
       ]
      },
      {
       "output_type": "stream",
       "stream": "stdout",
       "text": [
        " \r",
        "0063   3.327256e+04   1.000000e-15   1.208780e+03"
       ]
      },
      {
       "output_type": "stream",
       "stream": "stdout",
       "text": [
        " \r",
        "0064   3.327244e+04   1.000000e-15   2.761263e+03"
       ]
      },
      {
       "output_type": "stream",
       "stream": "stdout",
       "text": [
        " \r",
        "0065   3.327235e+04   1.000000e-15   1.008395e+03"
       ]
      },
      {
       "output_type": "stream",
       "stream": "stdout",
       "text": [
        " \r",
        "0066   3.327225e+04   1.000000e-15   2.585346e+03"
       ]
      },
      {
       "output_type": "stream",
       "stream": "stdout",
       "text": [
        " \r",
        "0067   3.327216e+04   1.000000e-15   9.099295e+02"
       ]
      },
      {
       "output_type": "stream",
       "stream": "stdout",
       "text": [
        " \n",
        "\r"
       ]
      },
      {
       "output_type": "stream",
       "stream": "stdout",
       "text": [
        "0068   3.327206e+04   1.000000e-15   2.605691e+03"
       ]
      },
      {
       "output_type": "stream",
       "stream": "stdout",
       "text": [
        " \r",
        "0069   3.327196e+04   1.000000e-15   9.058685e+02"
       ]
      },
      {
       "output_type": "stream",
       "stream": "stdout",
       "text": [
        " \r",
        "0070   3.327187e+04   1.000000e-15   2.723821e+03"
       ]
      },
      {
       "output_type": "stream",
       "stream": "stdout",
       "text": [
        " \r",
        "0071   3.327176e+04   1.000000e-15   8.775484e+02"
       ]
      },
      {
       "output_type": "stream",
       "stream": "stdout",
       "text": [
        " \r",
        "0072   3.327169e+04   1.000000e-15   2.360401e+03"
       ]
      },
      {
       "output_type": "stream",
       "stream": "stdout",
       "text": [
        " \r",
        "0073   3.327162e+04   1.000000e-15   6.436186e+02"
       ]
      },
      {
       "output_type": "stream",
       "stream": "stdout",
       "text": [
        " \r",
        "0074   3.327158e+04   1.000000e-15   1.413790e+03"
       ]
      },
      {
       "output_type": "stream",
       "stream": "stdout",
       "text": [
        " \r",
        "0075   3.327154e+04   1.000000e-15   3.482816e+02"
       ]
      },
      {
       "output_type": "stream",
       "stream": "stdout",
       "text": [
        " \r",
        "0076   3.327152e+04   1.000000e-15   7.016383e+02"
       ]
      },
      {
       "output_type": "stream",
       "stream": "stdout",
       "text": [
        " \r",
        "0077   3.327150e+04   1.000000e-15   1.965988e+02"
       ]
      },
      {
       "output_type": "stream",
       "stream": "stdout",
       "text": [
        " \r",
        "0078   3.327149e+04   1.000000e-15   4.432459e+02"
       ]
      },
      {
       "output_type": "stream",
       "stream": "stdout",
       "text": [
        " \r",
        "0079   3.327146e+04   1.000000e-15   1.680200e+02"
       ]
      },
      {
       "output_type": "stream",
       "stream": "stdout",
       "text": [
        " \r",
        "0080   3.327145e+04   1.000000e-15   4.332553e+02"
       ]
      },
      {
       "output_type": "stream",
       "stream": "stdout",
       "text": [
        " \r",
        "0081   3.327141e+04   1.000000e-15   2.066343e+02"
       ]
      },
      {
       "output_type": "stream",
       "stream": "stdout",
       "text": [
        " \r",
        "0082   3.327140e+04   1.000000e-15   4.672002e+02"
       ]
      },
      {
       "output_type": "stream",
       "stream": "stdout",
       "text": [
        " \r",
        "0083   3.327136e+04   1.000000e-15   2.383058e+02"
       ]
      },
      {
       "output_type": "stream",
       "stream": "stdout",
       "text": [
        " \r",
        "0084   3.327135e+04   1.000000e-15   3.753772e+02"
       ]
      },
      {
       "output_type": "stream",
       "stream": "stdout",
       "text": [
        " \r",
        "0085   3.327133e+04   1.000000e-15   2.002504e+02"
       ]
      },
      {
       "output_type": "stream",
       "stream": "stdout",
       "text": [
        " \r",
        "0086   3.327132e+04   1.000000e-15   2.326665e+02"
       ]
      },
      {
       "output_type": "stream",
       "stream": "stdout",
       "text": [
        " \r",
        "0087   3.327130e+04   1.000000e-15   1.431700e+02"
       ]
      },
      {
       "output_type": "stream",
       "stream": "stdout",
       "text": [
        " \r",
        "0088   3.327130e+04   1.000000e-15   1.432005e+02"
       ]
      },
      {
       "output_type": "stream",
       "stream": "stdout",
       "text": [
        " \r",
        "0089   3.327129e+04   1.000000e-15   1.102499e+02"
       ]
      },
      {
       "output_type": "stream",
       "stream": "stdout",
       "text": [
        " \r",
        "0090   3.327128e+04   1.000000e-15   1.016153e+02"
       ]
      },
      {
       "output_type": "stream",
       "stream": "stdout",
       "text": [
        " \r",
        "0091   3.327127e+04   1.000000e-15   1.005277e+02"
       ]
      },
      {
       "output_type": "stream",
       "stream": "stdout",
       "text": [
        " \r",
        "0092   3.327127e+04   1.000000e-15   8.550175e+01"
       ]
      },
      {
       "output_type": "stream",
       "stream": "stdout",
       "text": [
        " \n",
        "\r"
       ]
      },
      {
       "output_type": "stream",
       "stream": "stdout",
       "text": [
        "0093   3.327126e+04   1.000000e-15   1.076733e+02"
       ]
      },
      {
       "output_type": "stream",
       "stream": "stdout",
       "text": [
        " \r",
        "0094   3.327125e+04   1.000000e-15   8.010457e+01"
       ]
      },
      {
       "output_type": "stream",
       "stream": "stdout",
       "text": [
        " \r",
        "0095   3.327124e+04   1.000000e-15   1.207471e+02"
       ]
      },
      {
       "output_type": "stream",
       "stream": "stdout",
       "text": [
        " \r",
        "0096   3.327124e+04   1.000000e-15   6.943811e+01"
       ]
      },
      {
       "output_type": "stream",
       "stream": "stdout",
       "text": [
        " \r",
        "0097   3.327123e+04   1.000000e-15   1.142693e+02"
       ]
      },
      {
       "output_type": "stream",
       "stream": "stdout",
       "text": [
        " \r",
        "0098   3.327123e+04   1.000000e-15   4.792461e+01"
       ]
      },
      {
       "output_type": "stream",
       "stream": "stdout",
       "text": [
        " \r",
        "0099   3.327122e+04   1.000000e-15   8.474595e+01"
       ]
      },
      {
       "output_type": "stream",
       "stream": "stdout",
       "text": [
        " \r",
        "0100   3.327122e+04   1.000000e-15   3.011290e+01"
       ]
      },
      {
       "output_type": "stream",
       "stream": "stdout",
       "text": [
        " \r",
        "0101   3.327122e+04   1.000000e-15   6.330897e+01"
       ]
      },
      {
       "output_type": "stream",
       "stream": "stdout",
       "text": [
        " \r",
        "0102   3.327121e+04   1.000000e-15   2.383778e+01"
       ]
      },
      {
       "output_type": "stream",
       "stream": "stdout",
       "text": [
        " \r",
        "0103   3.327121e+04   1.000000e-15   6.556547e+01"
       ]
      },
      {
       "output_type": "stream",
       "stream": "stdout",
       "text": [
        " \r",
        "0104   3.327121e+04   1.000000e-15   2.729250e+01"
       ]
      },
      {
       "output_type": "stream",
       "stream": "stdout",
       "text": [
        " \r",
        "0105   3.327120e+04   1.000000e-15   9.057026e+01"
       ]
      },
      {
       "output_type": "stream",
       "stream": "stdout",
       "text": [
        " \r",
        "0106   3.327120e+04   1.000000e-15   3.513881e+01"
       ]
      },
      {
       "output_type": "stream",
       "stream": "stdout",
       "text": [
        " \r",
        "0107   3.327120e+04   1.000000e-15   1.136777e+02"
       ]
      },
      {
       "output_type": "stream",
       "stream": "stdout",
       "text": [
        " \r",
        "0108   3.327119e+04   1.000000e-15   3.513394e+01"
       ]
      },
      {
       "output_type": "stream",
       "stream": "stdout",
       "text": [
        " \r",
        "0109   3.327119e+04   1.000000e-15   9.740498e+01"
       ]
      },
      {
       "output_type": "stream",
       "stream": "stdout",
       "text": [
        " \r",
        "0110   3.327119e+04   1.000000e-15   2.511794e+01"
       ]
      },
      {
       "output_type": "stream",
       "stream": "stdout",
       "text": [
        " \r",
        "0111   3.327118e+04   1.000000e-15   6.237200e+01"
       ]
      },
      {
       "output_type": "stream",
       "stream": "stdout",
       "text": [
        " \r",
        "0112   3.327118e+04   1.000000e-15   1.601681e+01"
       ]
      },
      {
       "output_type": "stream",
       "stream": "stdout",
       "text": [
        " \r",
        "0113   3.327118e+04   1.000000e-15   3.963711e+01"
       ]
      },
      {
       "output_type": "stream",
       "stream": "stdout",
       "text": [
        " \r",
        "0114   3.327118e+04   1.000000e-15   1.168837e+01"
       ]
      },
      {
       "output_type": "stream",
       "stream": "stdout",
       "text": [
        " \r",
        "0115   3.327118e+04   1.000000e-15   3.067498e+01"
       ]
      },
      {
       "output_type": "stream",
       "stream": "stdout",
       "text": [
        " \r",
        "0116   3.327118e+04   1.000000e-15   1.090311e+01"
       ]
      },
      {
       "output_type": "stream",
       "stream": "stdout",
       "text": [
        " \r",
        "0117   3.327118e+04   1.000000e-15   2.944317e+01"
       ]
      },
      {
       "output_type": "stream",
       "stream": "stdout",
       "text": [
        " \r",
        "0118   3.327118e+04   1.000000e-15   1.219133e+01"
       ]
      },
      {
       "output_type": "stream",
       "stream": "stdout",
       "text": [
        " \r",
        "0119   3.327117e+04   1.000000e-15   3.002071e+01"
       ]
      },
      {
       "output_type": "stream",
       "stream": "stdout",
       "text": [
        " \r",
        "0120   3.327117e+04   1.000000e-15   1.353654e+01"
       ]
      },
      {
       "output_type": "stream",
       "stream": "stdout",
       "text": [
        " \r",
        "0121   3.327117e+04   1.000000e-15   2.636873e+01"
       ]
      },
      {
       "output_type": "stream",
       "stream": "stdout",
       "text": [
        " \r",
        "0122   3.327117e+04   1.000000e-15   1.249800e+01"
       ]
      },
      {
       "output_type": "stream",
       "stream": "stdout",
       "text": [
        " \r",
        "0123   3.327117e+04   1.000000e-15   1.832873e+01"
       ]
      },
      {
       "output_type": "stream",
       "stream": "stdout",
       "text": [
        " \r",
        "0124   3.327117e+04   1.000000e-15   9.477403e+00"
       ]
      },
      {
       "output_type": "stream",
       "stream": "stdout",
       "text": [
        " \n",
        "\r"
       ]
      },
      {
       "output_type": "stream",
       "stream": "stdout",
       "text": [
        "0125   3.327117e+04   1.000000e-15   1.132186e+01"
       ]
      },
      {
       "output_type": "stream",
       "stream": "stdout",
       "text": [
        " \r",
        "0126   3.327117e+04   1.000000e-15   6.946207e+00"
       ]
      },
      {
       "output_type": "stream",
       "stream": "stdout",
       "text": [
        " \r",
        "0127   3.327117e+04   1.000000e-15   7.559874e+00"
       ]
      },
      {
       "output_type": "stream",
       "stream": "stdout",
       "text": [
        " \r",
        "0128   3.327117e+04   1.000000e-15   5.880194e+00"
       ]
      },
      {
       "output_type": "stream",
       "stream": "stdout",
       "text": [
        " \r",
        "0129   3.327117e+04   1.000000e-15   6.062705e+00"
       ]
      },
      {
       "output_type": "stream",
       "stream": "stdout",
       "text": [
        " \r",
        "0130   3.327117e+04   1.000000e-15   5.984860e+00"
       ]
      },
      {
       "output_type": "stream",
       "stream": "stdout",
       "text": [
        " \r",
        "0131   3.327117e+04   1.000000e-15   5.497667e+00"
       ]
      },
      {
       "output_type": "stream",
       "stream": "stdout",
       "text": [
        " \r",
        "0132   3.327116e+04   1.000000e-15   6.530758e+00"
       ]
      },
      {
       "output_type": "stream",
       "stream": "stdout",
       "text": [
        " \r",
        "0133   3.327116e+04   1.000000e-15   4.826043e+00"
       ]
      },
      {
       "output_type": "stream",
       "stream": "stdout",
       "text": [
        " \r",
        "0134   3.327116e+04   1.000000e-15   6.495554e+00"
       ]
      },
      {
       "output_type": "stream",
       "stream": "stdout",
       "text": [
        " \r",
        "0135   3.327116e+04   1.000000e-15   3.632287e+00"
       ]
      },
      {
       "output_type": "stream",
       "stream": "stdout",
       "text": [
        " \r",
        "0136   3.327116e+04   1.000000e-15   5.366877e+00"
       ]
      },
      {
       "output_type": "stream",
       "stream": "stdout",
       "text": [
        " \r",
        "0137   3.327116e+04   1.000000e-15   2.333409e+00"
       ]
      },
      {
       "output_type": "stream",
       "stream": "stdout",
       "text": [
        " \r",
        "0138   3.327116e+04   1.000000e-15   3.835278e+00"
       ]
      },
      {
       "output_type": "stream",
       "stream": "stdout",
       "text": [
        " \r",
        "0139   3.327116e+04   1.000000e-15   1.444091e+00"
       ]
      },
      {
       "output_type": "stream",
       "stream": "stdout",
       "text": [
        " \r",
        "0140   3.327116e+04   1.000000e-15   2.785271e+00"
       ]
      },
      {
       "output_type": "stream",
       "stream": "stdout",
       "text": [
        " \r",
        "0141   3.327116e+04   1.000000e-15   1.032066e+00"
       ]
      },
      {
       "output_type": "stream",
       "stream": "stdout",
       "text": [
        " \r",
        "0142   3.327116e+04   1.000000e-15   2.461873e+00"
       ]
      },
      {
       "output_type": "stream",
       "stream": "stdout",
       "text": [
        " \r",
        "0143   3.327116e+04   1.000000e-15   9.504167e-01"
       ]
      },
      {
       "output_type": "stream",
       "stream": "stdout",
       "text": [
        " \r",
        "0144   3.327116e+04   1.000000e-15   2.746599e+00"
       ]
      },
      {
       "output_type": "stream",
       "stream": "stdout",
       "text": [
        " \r",
        "0145   3.327116e+04   1.000000e-15   1.042176e+00"
       ]
      },
      {
       "output_type": "stream",
       "stream": "stdout",
       "text": [
        " \r",
        "0146   3.327116e+04   1.000000e-15   3.254098e+00"
       ]
      },
      {
       "output_type": "stream",
       "stream": "stdout",
       "text": [
        " \r",
        "0147   3.327116e+04   1.000000e-15   1.091972e+00"
       ]
      },
      {
       "output_type": "stream",
       "stream": "stdout",
       "text": [
        " \r",
        "0148   3.327116e+04   1.000000e-15   3.224823e+00"
       ]
      },
      {
       "output_type": "stream",
       "stream": "stdout",
       "text": [
        " \r",
        "0149   3.327116e+04   1.000000e-15   9.192079e-01"
       ]
      },
      {
       "output_type": "stream",
       "stream": "stdout",
       "text": [
        " \r",
        "0150   3.327116e+04   1.000000e-15   2.425593e+00"
       ]
      },
      {
       "output_type": "stream",
       "stream": "stdout",
       "text": [
        " \r",
        "0151   3.327116e+04   1.000000e-15   6.323793e-01"
       ]
      },
      {
       "output_type": "stream",
       "stream": "stdout",
       "text": [
        " \r",
        "0152   3.327116e+04   1.000000e-15   1.555363e+00"
       ]
      },
      {
       "output_type": "stream",
       "stream": "stdout",
       "text": [
        " \r",
        "0153   3.327116e+04   1.000000e-15   4.253227e-01"
       ]
      },
      {
       "output_type": "stream",
       "stream": "stdout",
       "text": [
        " \r",
        "0154   3.327116e+04   1.000000e-15   1.061794e+00"
       ]
      },
      {
       "output_type": "stream",
       "stream": "stdout",
       "text": [
        " \r",
        "0155   3.327116e+04   1.000000e-15   3.417450e-01"
       ]
      },
      {
       "output_type": "stream",
       "stream": "stdout",
       "text": [
        " \r",
        "0156   3.327116e+04   1.000000e-15   9.022719e-01"
       ]
      },
      {
       "output_type": "stream",
       "stream": "stdout",
       "text": [
        " \r",
        "0157   3.327116e+04   1.000000e-15   3.493579e-01"
       ]
      },
      {
       "output_type": "stream",
       "stream": "stdout",
       "text": [
        " \r",
        "0158   3.327116e+04   1.000000e-15   9.002840e-01"
       ]
      },
      {
       "output_type": "stream",
       "stream": "stdout",
       "text": [
        " \r",
        "0159   3.327116e+04   1.000000e-15   3.922134e-01"
       ]
      },
      {
       "output_type": "stream",
       "stream": "stdout",
       "text": [
        " \r",
        "0160   3.327116e+04   1.000000e-15   8.388018e-01"
       ]
      },
      {
       "output_type": "stream",
       "stream": "stdout",
       "text": [
        " \r",
        "0161   3.327116e+04   1.000000e-15   3.869746e-01"
       ]
      },
      {
       "output_type": "stream",
       "stream": "stdout",
       "text": [
        " \r",
        "0162   3.327116e+04   1.000000e-15   6.286008e-01"
       ]
      },
      {
       "output_type": "stream",
       "stream": "stdout",
       "text": [
        " \r",
        "0163   3.327116e+04   1.000000e-15   3.146707e-01"
       ]
      },
      {
       "output_type": "stream",
       "stream": "stdout",
       "text": [
        " \r",
        "0164   3.327116e+04   1.000000e-15   4.150155e-01"
       ]
      },
      {
       "output_type": "stream",
       "stream": "stdout",
       "text": [
        " \r",
        "0165   3.327116e+04   1.000000e-15   2.474330e-01"
       ]
      },
      {
       "output_type": "stream",
       "stream": "stdout",
       "text": [
        " \r",
        "0166   3.327116e+04   1.000000e-15   3.021449e-01"
       ]
      },
      {
       "output_type": "stream",
       "stream": "stdout",
       "text": [
        " \r",
        "0167   3.327116e+04   1.000000e-15   2.329308e-01"
       ]
      },
      {
       "output_type": "stream",
       "stream": "stdout",
       "text": [
        " \r",
        "0168   3.327116e+04   1.000000e-15   2.783479e-01"
       ]
      },
      {
       "output_type": "stream",
       "stream": "stdout",
       "text": [
        " \r",
        "0169   3.327116e+04   1.000000e-15   2.766128e-01"
       ]
      },
      {
       "output_type": "stream",
       "stream": "stdout",
       "text": [
        " \r",
        "0170   3.327116e+04   1.000000e-15   2.950757e-01"
       ]
      },
      {
       "output_type": "stream",
       "stream": "stdout",
       "text": [
        " \r",
        "0171   3.327116e+04   1.000000e-15   3.467889e-01"
       ]
      },
      {
       "output_type": "stream",
       "stream": "stdout",
       "text": [
        " \r",
        "0172   3.327116e+04   1.000000e-15   2.784922e-01"
       ]
      },
      {
       "output_type": "stream",
       "stream": "stdout",
       "text": [
        " \r",
        "0173   3.327116e+04   1.000000e-15   3.539404e-01"
       ]
      },
      {
       "output_type": "stream",
       "stream": "stdout",
       "text": [
        " \r",
        "0174   3.327116e+04   1.000000e-15   1.977898e-01"
       ]
      },
      {
       "output_type": "stream",
       "stream": "stdout",
       "text": [
        " \r",
        "0175   3.327116e+04   1.000000e-15   2.678109e-01"
       ]
      },
      {
       "output_type": "stream",
       "stream": "stdout",
       "text": [
        " \r",
        "0176   3.327116e+04   1.000000e-15   1.154208e-01"
       ]
      },
      {
       "output_type": "stream",
       "stream": "stdout",
       "text": [
        " \r",
        "0177   3.327116e+04   1.000000e-15   1.775232e-01"
       ]
      },
      {
       "output_type": "stream",
       "stream": "stdout",
       "text": [
        " \r",
        "0178   3.327116e+04   1.000000e-15   7.048452e-02"
       ]
      },
      {
       "output_type": "stream",
       "stream": "stdout",
       "text": [
        " \n",
        "\r"
       ]
      },
      {
       "output_type": "stream",
       "stream": "stdout",
       "text": [
        "0179   3.327116e+04   1.000000e-15   1.336074e-01"
       ]
      },
      {
       "output_type": "stream",
       "stream": "stdout",
       "text": [
        " \r",
        "0180   3.327116e+04   1.000000e-15   5.452136e-02"
       ]
      },
      {
       "output_type": "stream",
       "stream": "stdout",
       "text": [
        " \r",
        "0181   3.327116e+04   1.000000e-15   1.304172e-01"
       ]
      },
      {
       "output_type": "stream",
       "stream": "stdout",
       "text": [
        " \r",
        "0182   3.327116e+04   1.000000e-15   5.391829e-02"
       ]
      },
      {
       "output_type": "stream",
       "stream": "stdout",
       "text": [
        " \r",
        "0183   3.327116e+04   1.000000e-15   1.525748e-01"
       ]
      },
      {
       "output_type": "stream",
       "stream": "stdout",
       "text": [
        " \r",
        "0184   3.327116e+04   1.000000e-15   5.869009e-02"
       ]
      },
      {
       "output_type": "stream",
       "stream": "stdout",
       "text": [
        " \r",
        "0185   3.327116e+04   1.000000e-15   1.758802e-01"
       ]
      },
      {
       "output_type": "stream",
       "stream": "stdout",
       "text": [
        " \r",
        "0186   3.327116e+04   1.000000e-15   5.819240e-02"
       ]
      },
      {
       "output_type": "stream",
       "stream": "stdout",
       "text": [
        " \r",
        "0187   3.327116e+04   1.000000e-15   1.658958e-01"
       ]
      },
      {
       "output_type": "stream",
       "stream": "stdout",
       "text": [
        " \r",
        "0188   3.327116e+04   1.000000e-15   4.615654e-02"
       ]
      },
      {
       "output_type": "stream",
       "stream": "stdout",
       "text": [
        " \r",
        "0189   3.327116e+04   1.000000e-15   1.189984e-01"
       ]
      },
      {
       "output_type": "stream",
       "stream": "stdout",
       "text": [
        " \r",
        "0190   3.327116e+04   1.000000e-15   3.013360e-02"
       ]
      },
      {
       "output_type": "stream",
       "stream": "stdout",
       "text": [
        " \r",
        "0191   3.327116e+04   1.000000e-15   7.428423e-02"
       ]
      },
      {
       "output_type": "stream",
       "stream": "stdout",
       "text": [
        " \r",
        "0192   3.327116e+04   1.000000e-15   2.023088e-02"
       ]
      },
      {
       "output_type": "stream",
       "stream": "stdout",
       "text": [
        " \r",
        "0193   3.327116e+04   1.000000e-15   5.374779e-02"
       ]
      },
      {
       "output_type": "stream",
       "stream": "stdout",
       "text": [
        " \r",
        "0194   3.327116e+04   1.000000e-15   1.789915e-02"
       ]
      },
      {
       "output_type": "stream",
       "stream": "stdout",
       "text": [
        " \r",
        "0195   3.327116e+04   1.000000e-15   5.218258e-02"
       ]
      },
      {
       "output_type": "stream",
       "stream": "stdout",
       "text": [
        " \r",
        "0196   3.327116e+04   1.000000e-15   2.023978e-02"
       ]
      },
      {
       "output_type": "stream",
       "stream": "stdout",
       "text": [
        " \r",
        "0197   3.327116e+04   1.000000e-15   5.285025e-02"
       ]
      },
      {
       "output_type": "stream",
       "stream": "stdout",
       "text": [
        " \r",
        "0198   3.327116e+04   1.000000e-15   2.057181e-02"
       ]
      },
      {
       "output_type": "stream",
       "stream": "stdout",
       "text": [
        " \r",
        "0199   3.327116e+04   1.000000e-15   3.864214e-02"
       ]
      },
      {
       "output_type": "stream",
       "stream": "stdout",
       "text": [
        " \r",
        "0200   3.327116e+04   1.000000e-15   1.464160e-02"
       ]
      },
      {
       "output_type": "stream",
       "stream": "stdout",
       "text": [
        " \r",
        "0201   3.327116e+04   1.000000e-15   2.080463e-02"
       ]
      },
      {
       "output_type": "stream",
       "stream": "stdout",
       "text": [
        " \r",
        "0201   3.327116e+04   1.000000e-15   2.080463e-02"
       ]
      },
      {
       "output_type": "stream",
       "stream": "stdout",
       "text": [
        " \n",
        "converged - relative reduction in objective\n",
        "done"
       ]
      },
      {
       "output_type": "stream",
       "stream": "stdout",
       "text": [
        "\n"
       ]
      },
      {
       "metadata": {},
       "output_type": "pyout",
       "prompt_number": 36,
       "text": [
        "<matplotlib.legend.Legend at 0x6e18c90>"
       ]
      },
      {
       "metadata": {},
       "output_type": "display_data",
       "png": "[encoded data removed]",
       "text": [
        "<matplotlib.figure.Figure at 0x7a55c90>"
       ]
      },
      {
       "metadata": {},
       "output_type": "display_data",
       "png": "[encoded data removed]",
       "text": [
        "<matplotlib.figure.Figure at 0x5592fd0>"
       ]
      }
     ],
     "prompt_number": 36
    },
    {
     "cell_type": "code",
     "collapsed": false,
     "input": [
      "print m"
     ],
     "language": "python",
     "metadata": {},
     "outputs": [
      {
       "output_type": "stream",
       "stream": "stdout",
       "text": [
        "  GPLVM.                   |      Value      |  Constraint  |  Prior  |  Tied to\n",
        "  \u001b[1mlatent_mean            \u001b[0;0m  |       (330, 4)  |              |         |         \n",
        "  \u001b[1mlinear.variances       \u001b[0;0m  |           (4,)  |     +ve      |         |         \n",
        "  \u001b[1mGaussian_noise.variance\u001b[0;0m  |  0.12206486192  |     +ve      |         |         \n"
       ]
      }
     ],
     "prompt_number": 38
    },
    {
     "cell_type": "markdown",
     "metadata": {},
     "source": [
      "As you can see the solution with a linear kernel is the same as the PCA solution with the exception of rotational changes and axis flips.\n",
      "\n",
      "For the sake of time, the solution you see was only running for 1000 iterations, thus it might not be converged fully yet. The GP-LVM proceeds by iterative optimization of the *inputs* to the covariance. As we saw in the lecture earlier, for the linear covariance, these latent points can be optimized with an eigenvalue problem, but generally, for non-linear covariance functions, we are obliged to use gradient based optimization."
     ]
    },
    {
     "cell_type": "heading",
     "level": 3,
     "metadata": {},
     "source": [
      "Exercise 1"
     ]
    },
    {
     "cell_type": "markdown",
     "metadata": {},
     "source": [
      "a) How do your linear solutions differ between PCA and GPLVM with a linear kernel? Look at the plots and also try and consider how the linear ARD parameters compare to the eigenvalues of the principal components."
     ]
    },
    {
     "cell_type": "raw",
     "metadata": {},
     "source": [
      "# Exercise 1 a) answer"
     ]
    },
    {
     "cell_type": "markdown",
     "metadata": {},
     "source": [
      "b) The next step is to use a non-linear mapping between inputs $\\mathbf{X}$ and ouputs $\\mathbf{Y}$ by selecting the exponentiated quadratic (`GPy.kern.rbf`) covariance function. "
     ]
    },
    {
     "cell_type": "code",
     "collapsed": false,
     "input": [
      "kern = GPy.kern.RBF(input_dim)"
     ],
     "language": "python",
     "metadata": {},
     "outputs": [],
     "prompt_number": 39
    },
    {
     "cell_type": "markdown",
     "metadata": {},
     "source": [
      "c) How does the nonlinear model differe from the linear model? Are there digits that the GPLVM with an exponentiated quadratic covariance can separate, which PCA is not able to?"
     ]
    },
    {
     "cell_type": "raw",
     "metadata": {},
     "source": [
      "# Exercise 1 c) answer"
     ]
    },
    {
     "cell_type": "markdown",
     "metadata": {},
     "source": [
      "d) Try modifying the covariance function and running the model again. For example you could try a combination of the linear and exponentiated quadratic covariance function or the Matern 5/2. If you run into stability problems try initializing the covariance function parameters differently."
     ]
    },
    {
     "cell_type": "raw",
     "metadata": {},
     "source": [
      "# Exercise 1 d) answer"
     ]
    },
    {
     "cell_type": "heading",
     "level": 2,
     "metadata": {},
     "source": [
      "4 Bayesian GPLVM"
     ]
    },
    {
     "cell_type": "markdown",
     "metadata": {},
     "source": [
      "In GP-LVM we use a point estimate of the distribution of the input $\\mathbf{X}$. This estimate is derived through maximum likelihood or through a maximum a posteriori (MAP) approach. Ideally, we would like to also estimate a distribution over the input $\\mathbf{X}$. In the Bayesian GPLVM we approximate the true distribution $p(\\mathbf{X}|\\mathbf{Y})$ by a variational approximation $q(\\mathbf{X})$ and integrate $\\mathbf{X}$ out. \n",
      "\n",
      "Approximating the posterior in this way allows us to optimize a lower bound on the marginal likelihood. Handling the uncertainty in a principled way allows the model to make an assessment of whether a particular latent dimension is required, or the variation is better explained by noise. This allows the algorithm to switch off latent dimensions. The switching off can take some time though, so below in Section 6 we provide a pre-learnt module, but to complete section 6 you'll need to be working in the IPython console instead of the notebook.\n",
      "\n",
      "For the moment we'll run a short experiment applying the Bayesian GP-LVM with an exponentiated quadratic covariance function."
     ]
    },
    {
     "cell_type": "code",
     "collapsed": false,
     "input": [
      "# Model optimization\n",
      "input_dim = 5 # How many latent dimensions to use\n",
      "kern = GPy.kern.RBF(input_dim,ARD=True) # ARD kernel\n",
      "m = GPy.models.BayesianGPLVM(Yn, input_dim=input_dim, kernel=kern, num_inducing=25)\n",
      "\n",
      "# initialize noise as 1% of variance in data\n",
      "m['*.noise.variance'] = m.likelihood.Y.var()/100.\n",
      "m.optimize('scg', messages=1, max_iters=1000)"
     ],
     "language": "python",
     "metadata": {},
     "outputs": [
      {
       "ename": "AttributeError",
       "evalue": "'Gaussian' object has no attribute 'Y'",
       "output_type": "pyerr",
       "traceback": [
        "\u001b[1;31m---------------------------------------------------------------------------\u001b[0m\n\u001b[1;31mAttributeError\u001b[0m                            Traceback (most recent call last)",
        "\u001b[1;32m<ipython-input-41-9031bf03348a>\u001b[0m in \u001b[0;36m<module>\u001b[1;34m()\u001b[0m\n\u001b[0;32m      6\u001b[0m \u001b[1;32mprint\u001b[0m \u001b[0mY\u001b[0m\u001b[1;33m\u001b[0m\u001b[0m\n\u001b[0;32m      7\u001b[0m \u001b[1;31m# initialize noise as 1% of variance in data\u001b[0m\u001b[1;33m\u001b[0m\u001b[1;33m\u001b[0m\u001b[0m\n\u001b[1;32m----> 8\u001b[1;33m \u001b[0mm\u001b[0m\u001b[1;33m[\u001b[0m\u001b[1;34m'*.noise.variance'\u001b[0m\u001b[1;33m]\u001b[0m \u001b[1;33m=\u001b[0m \u001b[0mm\u001b[0m\u001b[1;33m.\u001b[0m\u001b[0mlikelihood\u001b[0m\u001b[1;33m.\u001b[0m\u001b[0mY\u001b[0m\u001b[1;33m.\u001b[0m\u001b[0mvar\u001b[0m\u001b[1;33m(\u001b[0m\u001b[1;33m)\u001b[0m\u001b[1;33m/\u001b[0m\u001b[1;36m100.\u001b[0m\u001b[1;33m\u001b[0m\u001b[0m\n\u001b[0m\u001b[0;32m      9\u001b[0m \u001b[0mm\u001b[0m\u001b[1;33m.\u001b[0m\u001b[0moptimize\u001b[0m\u001b[1;33m(\u001b[0m\u001b[1;34m'scg'\u001b[0m\u001b[1;33m,\u001b[0m \u001b[0mmessages\u001b[0m\u001b[1;33m=\u001b[0m\u001b[1;36m1\u001b[0m\u001b[1;33m,\u001b[0m \u001b[0mmax_iters\u001b[0m\u001b[1;33m=\u001b[0m\u001b[1;36m1000\u001b[0m\u001b[1;33m)\u001b[0m\u001b[1;33m\u001b[0m\u001b[0m\n",
        "\u001b[1;31mAttributeError\u001b[0m: 'Gaussian' object has no attribute 'Y'"
       ]
      },
      {
       "output_type": "stream",
       "stream": "stdout",
       "text": [
        "  bayesian_gplvm.          |   Value    |  Constraint  |  Prior  |  Tied to\n",
        "  \u001b[1mlatent space.mean      \u001b[0;0m  |  (330, 5)  |              |         |         \n",
        "  \u001b[1mlatent space.variance  \u001b[0;0m  |  (330, 5)  |     +ve      |         |         \n",
        "  \u001b[1minducing inputs        \u001b[0;0m  |   (25, 5)  |              |         |         \n",
        "  \u001b[1mrbf.variance           \u001b[0;0m  |       1.0  |     +ve      |         |         \n",
        "  \u001b[1mrbf.lengthscale        \u001b[0;0m  |      (5,)  |     +ve      |         |         \n",
        "  \u001b[1mGaussian_noise.variance\u001b[0;0m  |       1.0  |     +ve      |         |         \n",
        "[[ 1.  1.  1. ...,  1.  1.  1.]\n",
        " [ 1.  1.  1. ...,  1.  1.  1.]\n",
        " [ 1.  1.  1. ...,  1.  1.  1.]\n",
        " ..., \n",
        " [ 1.  1.  1. ...,  1.  1.  1.]\n",
        " [ 1.  1.  1. ...,  1.  1.  1.]\n",
        " [ 1.  1.  1. ...,  1.  1.  1.]]\n"
       ]
      }
     ],
     "prompt_number": 41
    },
    {
     "cell_type": "code",
     "collapsed": false,
     "input": [
      "# Plotting the model\n",
      "plot_model(m, m['rbf_len'].argsort()[:2], labels.flatten())\n",
      "pb.legend()\n",
      "m.kern.plot_ARD()\n",
      "# Saving the model:\n",
      "m.pickle('bgplvm_rbf.pickle')"
     ],
     "language": "python",
     "metadata": {},
     "outputs": []
    },
    {
     "cell_type": "markdown",
     "metadata": {},
     "source": [
      "Because we are now also considering the uncertainty in the model, this optimization can take some time. However, you are free to interrupt the optimization at any point selecting `Kernel->Interupt` from the notepad menu. This will leave you with the model, `m` in the current state and you can plot and look into the model parameters. "
     ]
    },
    {
     "cell_type": "heading",
     "level": 3,
     "metadata": {},
     "source": [
      "Exercise 2"
     ]
    },
    {
     "cell_type": "markdown",
     "metadata": {},
     "source": [
      "a) How does the Bayesian GP-LVM compare with the standard model?"
     ]
    },
    {
     "cell_type": "raw",
     "metadata": {},
     "source": [
      "# Exercise 2 a) answer "
     ]
    },
    {
     "cell_type": "heading",
     "level": 3,
     "metadata": {},
     "source": [
      "Preoptimized Model"
     ]
    },
    {
     "cell_type": "markdown",
     "metadata": {},
     "source": [
      "A good way of working with latent variable models is to interact with the latent dimensions, generating data. This is a little bit tricky in the notebook, so below in section 6 we provide code for setting up an interactive demo in the standard IPython shell. If you are working on your own machine you can try this now. Otherwise continue with section 5."
     ]
    },
    {
     "cell_type": "heading",
     "level": 2,
     "metadata": {},
     "source": [
      "5 Multiview Learning: Manifold Relevance Determination"
     ]
    },
    {
     "cell_type": "markdown",
     "metadata": {},
     "source": [
      "In Manifold Relevance Determination we try to find one latent space, common for $K$ observed output sets (modalities) $\\{\\mathbf{Y}_{k}\\}_{k=1}^{K}$. Each modality is associated with a separate set of ARD parameters so that it switches off different parts of the whole latent space and, therefore, $\\mathbf{X}$ is softly segmented into parts that are private to some, or shared for all modalities. Can you explain what happens in the following example?"
     ]
    },
    {
     "cell_type": "markdown",
     "metadata": {},
     "source": [
      "Again, you can stop the optimizer at any point and explore the result obtained with the so far training:"
     ]
    },
    {
     "cell_type": "code",
     "collapsed": false,
     "input": [
      "m = GPy.examples.dimensionality_reduction.mrd_simulation(optimize = False)\n",
      "m.optimize(messages = True, max_iters=1000, optimizer = 'bfgs')"
     ],
     "language": "python",
     "metadata": {},
     "outputs": []
    },
    {
     "cell_type": "code",
     "collapsed": false,
     "input": [
      "m.plot_scales()\n",
      "m.plot_X_1d()"
     ],
     "language": "python",
     "metadata": {},
     "outputs": []
    },
    {
     "cell_type": "heading",
     "level": 3,
     "metadata": {},
     "source": [
      "Exercise 3"
     ]
    },
    {
     "cell_type": "markdown",
     "metadata": {},
     "source": [
      "The simulated data set is a sinusoid and a double frequency sinusoid function as input signals."
     ]
    },
    {
     "cell_type": "markdown",
     "metadata": {},
     "source": [
      "a) Which signal is shared across the three datasets? "
     ]
    },
    {
     "cell_type": "raw",
     "metadata": {},
     "source": [
      "# Exercise 3 a) answer"
     ]
    },
    {
     "cell_type": "markdown",
     "metadata": {},
     "source": [
      "b) Which are private? "
     ]
    },
    {
     "cell_type": "raw",
     "metadata": {},
     "source": [
      "# Exercise 3 b) answer"
     ]
    },
    {
     "cell_type": "markdown",
     "metadata": {},
     "source": [
      "c) Are there signals shared only between two of the three datasets?"
     ]
    },
    {
     "cell_type": "raw",
     "metadata": {},
     "source": [
      "# Exercise 3 c) answer"
     ]
    },
    {
     "cell_type": "heading",
     "level": 2,
     "metadata": {},
     "source": [
      "6 Interactive Demo: For Use Outside the Notepad"
     ]
    },
    {
     "cell_type": "markdown",
     "metadata": {},
     "source": [
      "The module below loads a pre-optimized Bayesian GPLVM model (like the one you just trained) and allows you to interact with the latent space. \n",
      "Three interactive figures pop up: the latent space, the ARD scales and a sample in the output space (corresponding to the current selected latent point of the other figure). \n",
      "You can sample with the mouse from the latent space and obtain samples in the output space. \n",
      "You can select different latent dimensions to vary by clicking on the corresponding scales with the left and right mouse buttons.\n",
      "This will also cause the latent space to be projected on the selected latent dimensions in the other figure."
     ]
    },
    {
     "cell_type": "code",
     "collapsed": false,
     "input": [
      "run load_bgplvm_dimension_select.py"
     ],
     "language": "python",
     "metadata": {},
     "outputs": [
      {
       "output_type": "stream",
       "stream": "stdout",
       "text": [
        "Already cached, to reload run with 'reload' as the only argument\n"
       ]
      }
     ],
     "prompt_number": 42
    },
    {
     "cell_type": "code",
     "collapsed": false,
     "input": [
      "import cPickle as pickle\n",
      "with open('./digit_bgplvm_demo.pickle', 'rb') as f:\n",
      "    m = pickle.load(f)"
     ],
     "language": "python",
     "metadata": {},
     "outputs": [
      {
       "ename": "EOFError",
       "evalue": "",
       "output_type": "pyerr",
       "traceback": [
        "\u001b[1;31m---------------------------------------------------------------------------\u001b[0m\n\u001b[1;31mEOFError\u001b[0m                                  Traceback (most recent call last)",
        "\u001b[1;32m<ipython-input-43-848b389c202c>\u001b[0m in \u001b[0;36m<module>\u001b[1;34m()\u001b[0m\n\u001b[0;32m      1\u001b[0m \u001b[1;32mimport\u001b[0m \u001b[0mcPickle\u001b[0m \u001b[1;32mas\u001b[0m \u001b[0mpickle\u001b[0m\u001b[1;33m\u001b[0m\u001b[0m\n\u001b[0;32m      2\u001b[0m \u001b[1;32mwith\u001b[0m \u001b[0mopen\u001b[0m\u001b[1;33m(\u001b[0m\u001b[1;34m'./digit_bgplvm_demo.pickle'\u001b[0m\u001b[1;33m,\u001b[0m \u001b[1;34m'rb'\u001b[0m\u001b[1;33m)\u001b[0m \u001b[1;32mas\u001b[0m \u001b[0mf\u001b[0m\u001b[1;33m:\u001b[0m\u001b[1;33m\u001b[0m\u001b[0m\n\u001b[1;32m----> 3\u001b[1;33m     \u001b[0mm\u001b[0m \u001b[1;33m=\u001b[0m \u001b[0mpickle\u001b[0m\u001b[1;33m.\u001b[0m\u001b[0mload\u001b[0m\u001b[1;33m(\u001b[0m\u001b[0mf\u001b[0m\u001b[1;33m)\u001b[0m\u001b[1;33m\u001b[0m\u001b[0m\n\u001b[0m",
        "\u001b[1;31mEOFError\u001b[0m: "
       ]
      }
     ],
     "prompt_number": 43
    },
    {
     "cell_type": "markdown",
     "metadata": {},
     "source": [
      "Prepare for plotting of this model. If you run on a webserver the interactive plotting will not work. Thus, you can skip to the next codeblock and run it on your own machine, later."
     ]
    },
    {
     "cell_type": "code",
     "collapsed": false,
     "input": [
      "fig = pb.figure('Latent Space & Scales', figsize=(16,6))\n",
      "ax_latent = fig.add_subplot(121)\n",
      "ax_scales = fig.add_subplot(122)\n",
      "\n",
      "fig_out = pb.figure('Output', figsize=(1,1))\n",
      "ax_image  = fig_out.add_subplot(111)\n",
      "fig_out.tight_layout(pad=0)\n",
      "\n",
      "data_show = GPy.util.visualize.image_show(m.likelihood.Y[0:1, :], dimensions=(16, 16), transpose=0, invert=0, scale=False, axes=ax_image)\n",
      "lvm_visualizer = GPy.util.visualize.lvm_dimselect(m.X.copy(), m, data_show, ax_latent, ax_scales, labels=labels.flatten())"
     ],
     "language": "python",
     "metadata": {},
     "outputs": []
    },
    {
     "cell_type": "markdown",
     "metadata": {},
     "source": [
      "**Observations**\n",
      "\n",
      "Confirm the following observations by interacting with the demo:\n",
      "\n",
      "* We tend to obtain more \"strange\" outputs when sampling from latent space areas away from the training inputs.\n",
      "* When sampling from the two dominant latent dimensions (the ones corresponding to large scales) we differentiate between all digits. Also note that projecting the latent space into the two dominant dimensions better separates the classes.\n",
      "* When sampling from less dominant latent dimensions the outputs vary in a more subtle way.\n",
      "\n",
      "You can also run the dimensionality reduction example"
     ]
    },
    {
     "cell_type": "code",
     "collapsed": false,
     "input": [
      "GPy.examples.dimensionality_reduction.bgplvm_simulation()"
     ],
     "language": "python",
     "metadata": {},
     "outputs": []
    },
    {
     "cell_type": "markdown",
     "metadata": {},
     "source": [
      "**Questions**\n",
      "\n",
      "* Can you see a difference in the ARD parameters to the non Bayesian GPLVM?\n",
      "* How does the Bayesian GPLVM allow the ARD parameters of the RBF kernel magnify the two first dimensions?\n",
      "* Is Bayesian GPLVM better in differentiating between different kinds of digits?\n",
      "* Why does the starting noise variance have to be lower then the variance of the observed values?\n",
      "* How come we use the lowest variance when using a linear kernel, but the highest lengtscale when using an RBF kernel?"
     ]
    },
    {
     "cell_type": "heading",
     "level": 2,
     "metadata": {},
     "source": [
      "References"
     ]
    },
    {
     "cell_type": "markdown",
     "metadata": {},
     "source": [
      "C. M. Bishop. Pattern recognition and machine learning, volume 1. springer New York, 2006.\n",
      "\n",
      "T. de Campos, B. R. Babu, and M. Varma. Character recognition in natural images. VISAPP 2009.\n",
      "\n",
      "N. D. Lawrence. Probabilistic non-linear principal component analysis with Gaussian process latent variable models. In Journal of Machine Learning Research 6, pp 1783--1816, 2005"
     ]
    }
   ],
   "metadata": {}
  }
 ]
}
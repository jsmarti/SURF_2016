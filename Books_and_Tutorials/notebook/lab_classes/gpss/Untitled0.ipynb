{
 "metadata": {
  "name": ""
 },
 "nbformat": 3,
 "nbformat_minor": 0,
 "worksheets": [
  {
   "cells": [
    {
     "cell_type": "code",
     "collapsed": false,
     "input": [
      "import GPy\n"
     ],
     "language": "python",
     "metadata": {},
     "outputs": [
      {
       "output_type": "stream",
       "stream": "stderr",
       "text": [
        "/usr/lib/pymodules/python2.7/mpl_toolkits/__init__.py:2: UserWarning: Module GPy was already imported from /home/neil/SheffieldML/GPy/GPy/__init__.pyc, but /home/neil/.local/lib/python2.7/site-packages is being added to sys.path\n",
        "  __import__('pkg_resources').declare_namespace(__name__)\n",
        "/usr/lib/pymodules/python2.7/mpl_toolkits/__init__.py:2: UserWarning: Module dap was already imported from None, but /usr/lib/python2.7/dist-packages is being added to sys.path\n",
        "  __import__('pkg_resources').declare_namespace(__name__)\n"
       ]
      }
     ],
     "prompt_number": 1
    },
    {
     "cell_type": "code",
     "collapsed": false,
     "input": [
      "GPy.kern.Matern32?"
     ],
     "language": "python",
     "metadata": {},
     "outputs": [],
     "prompt_number": 2
    },
    {
     "cell_type": "code",
     "collapsed": false,
     "input": [],
     "language": "python",
     "metadata": {},
     "outputs": []
    }
   ],
   "metadata": {}
  }
 ]
}
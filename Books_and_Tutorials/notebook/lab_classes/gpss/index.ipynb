{
 "metadata": {
  "name": "",
  "signature": "sha256:9cec3e864cf2be00e3a20ed1af550f23ddea2125fa1c8745e6ff9545aa96a43d"
 },
 "nbformat": 3,
 "nbformat_minor": 0,
 "worksheets": [
  {
   "cells": [
    {
     "cell_type": "markdown",
     "metadata": {},
     "source": [
      "## Gaussian Processes Lab Classes\n",
      "\n",
      "This subdirectory contains material taught at the Gaussian process summer school.\n",
      "\n",
      "* [Regression and Introduction to IPython Notebook](./lab1.ipynb)\n",
      "* [Regression and Introduction to IPython Notebook (edited)](./lab1_edited.ipynb)\n",
      "\n",
      "This lab gives a review of regression and an introduction to working with linear algebra in the IPython notebook. If you've come here from the machine learning course, you can skip this lab and move straight on to the Introduction to GPy.\n",
      "\n",
      "* [Bayesian Regression Regression](./lab2.ipynb)\n",
      "* [Multiple Outputs, Low Rank GPs and Likelihoods](./lab3.ipynb)\n",
      "* [Dimensionality Reduction using Gaussian Processes](./lab4.ipynb)"
     ]
    },
    {
     "cell_type": "code",
     "collapsed": false,
     "input": [],
     "language": "python",
     "metadata": {},
     "outputs": []
    }
   ],
   "metadata": {}
  }
 ]
}
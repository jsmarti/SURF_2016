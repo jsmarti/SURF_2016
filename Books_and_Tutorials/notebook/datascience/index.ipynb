{
 "cells": [
  {
   "cell_type": "markdown",
   "metadata": {},
   "source": [
    "# Sheffield Data Science Meet Ups: Notebooks\n",
    "\n",
    "## 2014/4/30 First Data Science Meeting\n",
    "\n",
    "The first Sheffield Data Science Meetup took place in the Pam Liveridge Building on 30th April 2014. We had talks from Fernando Perez on IPython and from Fabian Pedregosa on developing open source machine learning software. To our knowledge we also held the first ever IPython notebook poster session. Notebook posters from the meeting are hosted here.\n",
    "\n"
   ]
  },
  {
   "cell_type": "markdown",
   "metadata": {},
   "source": [
    "* [HRF estimation from the Natural images dataset](http://nbviewer.ipython.org/github/fabianp/hrf_estimation/blob/master/doc/figures_natural_images.ipynb), Fabian Pedregosa.\n",
    "\n",
    "* [Tutorial on Bayesian Optimization](http://nbviewer.ipython.org/github/SheffieldML/notebook/blob/master/datascience/Javier-BayesOpt.ipynb), Javier Gonzalez.\n",
    "\n",
    "* [Partial Differential Equation and Gaussian Process](http://nbviewer.ipython.org/github/SheffieldML/notebook/blob/master/datascience/Mu.ipynb), Mu Niu.\n",
    "\n",
    "* [Differentially Gene Expression  and Gaussian Processing Regression for ALS disease](http://nbviewer.ipython.org/github/SheffieldML/notebook/blob/master/datascience/Sura.ipynb), Sura Z. Alrashid.\n"
   ]
  },
  {
   "cell_type": "code",
   "execution_count": null,
   "metadata": {
    "collapsed": false
   },
   "outputs": [],
   "source": []
  }
 ],
 "metadata": {
  "kernelspec": {
   "display_name": "Python 2",
   "language": "python",
   "name": "python2"
  },
  "language_info": {
   "codemirror_mode": {
    "name": "ipython",
    "version": 2
   },
   "file_extension": ".py",
   "mimetype": "text/x-python",
   "name": "python",
   "nbconvert_exporter": "python",
   "pygments_lexer": "ipython2",
   "version": "2.7.11"
  }
 },
 "nbformat": 4,
 "nbformat_minor": 0
}

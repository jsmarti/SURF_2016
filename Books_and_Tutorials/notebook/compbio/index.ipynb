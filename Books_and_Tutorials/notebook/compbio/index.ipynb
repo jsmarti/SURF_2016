{
 "cells": [
  {
   "cell_type": "markdown",
   "metadata": {},
   "source": [
    "## Notebooks on Computational Biology Data\n",
    "\n",
    "* [Hierarchical](./Hierarchical.ipynb) James Hensman, Magnus Rattray and Neil Lawrence. Work funded by the [Iterative Project](http://staffwww.dcs.shef.ac.uk/people/N.Lawrence/projects/iterative/).\n",
    "* [Checking Replicate Time Series Quality with GPy](./TomancakDataWithGPy.ipynb) Marta Milo and Neil Lawrence\n",
    "* [Visualizing Single Cell Data with the GP-LVM](./SingleCellDataWithGPy.ipynb) Max Zwiessele, Oliver Stegle and Neil Lawrence. Work funded by the [BioPreDyn Project](http://staffwww.dcs.shef.ac.uk/people/N.Lawrence/projects/biopredyn/) and is an ongoing collaboration with Florian Buettner.\n",
    "* [Spatio-temporal Model of Gene Expression in Drosophila Blastoderm Development](./SpatioTemporalGeneProteinDrosophila.ipynb) Mu Niu, Nicolas Durrande and Neil Lawrence. Work funded by the [BioPreDyn Project](http://staffwww.dcs.shef.ac.uk/people/N.Lawrence/projects/biopredyn/). Ongoing collaboration with Johannes Jaeger's group.\n",
    "* [Inferring Transcription Factor Activities by Combining Binding Information with Gene Expression Profiles](./transcriptionFactorActivities.ipynb) M. Arif Rahman and Neil D. Lawrence. This work is funded by a Commonwealth Scholarship to Arif Rahman and by the EU FP7 RADIANT project.\n",
    "\n",
    "#### modified 30th March 2015 with Sura Al-Zaki"
   ]
  },
  {
   "cell_type": "code",
   "execution_count": null,
   "metadata": {
    "collapsed": false
   },
   "outputs": [],
   "source": []
  }
 ],
 "metadata": {
  "kernelspec": {
   "display_name": "Python 2",
   "language": "python",
   "name": "python2"
  },
  "language_info": {
   "codemirror_mode": {
    "name": "ipython",
    "version": 2
   },
   "file_extension": ".py",
   "mimetype": "text/x-python",
   "name": "python",
   "nbconvert_exporter": "python",
   "pygments_lexer": "ipython2",
   "version": "2.7.11"
  }
 },
 "nbformat": 4,
 "nbformat_minor": 0
}

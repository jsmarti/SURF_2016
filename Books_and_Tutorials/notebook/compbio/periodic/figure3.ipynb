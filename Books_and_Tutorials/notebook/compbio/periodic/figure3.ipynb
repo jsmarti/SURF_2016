{
 "cells": [
  {
   "cell_type": "markdown",
   "metadata": {},
   "source": [
    "# Supplementary materials : Details on generating Figure 3"
   ]
  },
  {
   "cell_type": "markdown",
   "metadata": {},
   "source": [
    "This document is a supplementary material of the article *Detecting periodicities with Gaussian\n",
    "processes* by N. Durrande, J. Hensman, M. Rattray and N. D. Lawrence. "
   ]
  },
  {
   "cell_type": "markdown",
   "metadata": {},
   "source": [
    "The first step is to import the required packages. This tutorial has been written with GPy 0.8.8 which includes the kernels discussed in the article. The latter can be downloaded on the [SheffieldML github page](https://github.com/SheffieldML/GPy). "
   ]
  },
  {
   "cell_type": "code",
   "execution_count": 1,
   "metadata": {
    "collapsed": false
   },
   "outputs": [
    {
     "name": "stdout",
     "output_type": "stream",
     "text": [
      "Populating the interactive namespace from numpy and matplotlib\n"
     ]
    }
   ],
   "source": [
    "%pylab inline\n",
    "import numpy as np\n",
    "import pylab as pb\n",
    "import GPy\n",
    "\n",
    "np.random.seed(1)"
   ]
  },
  {
   "cell_type": "markdown",
   "metadata": {},
   "source": [
    "The boundary limits for the plots are set to $[0,20]$, and we consider a period of $2 \\pi$. The test function for this example is $f_{test}=\\sin(x)+\\frac{1}{20} x$."
   ]
  },
  {
   "cell_type": "code",
   "execution_count": 2,
   "metadata": {
    "collapsed": false
   },
   "outputs": [],
   "source": [
    "# Domain Parameters\n",
    "a = 0.            # lower bound of the space\n",
    "b = 20            # upper bound\n",
    "\n",
    "# kernel parameters\n",
    "per = 2*np.pi     # period\n",
    "#var = 1.          # variance\n",
    "#lenscl=10.        # lengthscale\n",
    "#N = 20            # max frequency in the decomposition (the number of basis functions is 2N)\n",
    "\n",
    "# test function\n",
    "def ftest(X):\n",
    "    return(np.sin(X) + X/20.)\n",
    "\n",
    "# observations points and outputs\n",
    "X = np.linspace(5.,15.,10)[:,None]\n",
    "Y = ftest(X)\n",
    "\n",
    "# grid for plots\n",
    "Xgrid = np.linspace(a,b,100)[:,None]\n",
    "Ygrid = ftest(Xgrid)"
   ]
  },
  {
   "cell_type": "markdown",
   "metadata": {},
   "source": [
    "The kernel and models parameters are initialized with random value before the optimization."
   ]
  },
  {
   "cell_type": "code",
   "execution_count": 3,
   "metadata": {
    "collapsed": true
   },
   "outputs": [],
   "source": [
    "class AperiodicMatern52(GPy.kern.Kern):\n",
    "    \"\"\"\n",
    "    Kernel of the aperiodic subspace (up to a given frequency) of a Matern 5/2 RKHS.\n",
    "\n",
    "    Only defined for input_dim=1.\n",
    "    \"\"\"\n",
    "\n",
    "    def __init__(self, input_dim=1, variance=1., lengthscale=1., period=2.*np.pi,\n",
    "            n_freq=10, lower=0., upper=4*np.pi,\n",
    "            active_dims=None, name='aperiodic_Matern52'):\n",
    "        self.per_kern = GPy.kern.PeriodicMatern52(input_dim, variance, lengthscale, period, n_freq, lower, upper, active_dims, name='dummy kernel')\n",
    "        self.whole_kern = GPy.kern.Matern52(input_dim, variance, lengthscale, name='dummy kernel')\n",
    "        GPy.kern.Kern.__init__(self, input_dim, active_dims, name)\n",
    "\n",
    "        self.variance = GPy.core.Param('variance', np.float64(variance), GPy.core.parameterization.transformations.Logexp())\n",
    "        self.lengthscale = GPy.core.Param('lengthscale', np.float64(lengthscale), GPy.core.parameterization.transformations.Logexp())\n",
    "        self.period = GPy.core.Param('period', np.float64(period), GPy.core.parameterization.transformations.Logexp())\n",
    "        self.link_parameters(self.variance, self.lengthscale, self.period)\n",
    "\n",
    "\n",
    "    def parameters_changed(self):\n",
    "        self.whole_kern.variance = self.variance * 1.\n",
    "        self.per_kern.variance = self.variance * 1.\n",
    "\n",
    "        self.whole_kern.lengthscale = self.lengthscale * 1.\n",
    "        self.per_kern.lengthscale = self.lengthscale * 1.\n",
    "\n",
    "        self.per_kern.period = self.period * 1.\n",
    "    \n",
    "    def K(self, X, X2=None):\n",
    "        return self.whole_kern.K(X, X2) - self.per_kern.K(X, X2)\n",
    "\n",
    "    def Kdiag(self, X):\n",
    "        return np.diag(self.K(X))\n",
    "\n",
    "    def update_gradients_full(self, dL_dK, X, X2=None):\n",
    "        self.whole_kern.update_gradients_full(dL_dK, X, X2)\n",
    "        self.per_kern.update_gradients_full(-dL_dK, X, X2)\n",
    "        self.variance.gradient = self.whole_kern.variance.gradient + self.per_kern.variance.gradient\n",
    "        self.lengthscale.gradient = self.whole_kern.lengthscale.gradient + self.per_kern.lengthscale.gradient\n",
    "        self.period.gradient = self.per_kern.period.gradient\n",
    "\n"
   ]
  },
  {
   "cell_type": "code",
   "execution_count": 4,
   "metadata": {
    "collapsed": false
   },
   "outputs": [],
   "source": [
    "# kernel definitions\n",
    "kp = GPy.kern.PeriodicMatern52(input_dim=1,lower=a,upper=b)\n",
    "kp.period.fix()\n",
    "ka = AperiodicMatern52(input_dim=1,lower=a,upper=b)\n",
    "ka.period.fix()\n",
    "k = kp + ka\n",
    "\n",
    "# model definition\n",
    "m = GPy.models.GPRegression(X,Y,kernel = k)\n",
    "m.Gaussian_noise.variance.fix(1e-5)\n",
    "\n",
    "# model optimization\n",
    "m.randomize()\n",
    "m.optimize(messages=True)\n"
   ]
  },
  {
   "cell_type": "markdown",
   "metadata": {},
   "source": [
    "**Subfigure a: Global model $m$**"
   ]
  },
  {
   "cell_type": "code",
   "execution_count": 5,
   "metadata": {
    "collapsed": false
   },
   "outputs": [
    {
     "data": {
      "text/plain": [
       "(-1.5, 2.5)"
      ]
     },
     "execution_count": 5,
     "metadata": {},
     "output_type": "execute_result"
    },
    {
     "data": {
      "image/png": "[encoded data removed]",
      "text/plain": [
       "<matplotlib.figure.Figure at 0x7f300abbf910>"
      ]
     },
     "metadata": {},
     "output_type": "display_data"
    }
   ],
   "source": [
    "pb.figure(figsize=(4,4))\n",
    "ax=pb.subplot(111)\n",
    "pb.plot(Xgrid,Ygrid,'r-' , label='line 1', linewidth=1.5)\n",
    "m.plot(plot_limits=[a,b],ax=ax)\n",
    "pb.ylim([-1.5,2.5])\n"
   ]
  },
  {
   "cell_type": "markdown",
   "metadata": {},
   "source": [
    "**Subfigure b: periodic sub-model $m_p$**\n",
    "\n",
    "Submodels prediction require a prediction function that can take into account correlated noise:"
   ]
  },
  {
   "cell_type": "code",
   "execution_count": 6,
   "metadata": {
    "collapsed": false
   },
   "outputs": [],
   "source": [
    "def predict_submodels(x,X,Y,kernelSignal,kernelNoise):\n",
    "    kxX = kernelSignal.K(x,X)\n",
    "    K_1 = np.linalg.inv(kernelSignal.K(X)+kernelNoise.K(X))\n",
    "    lamb = np.dot(kxX,K_1)\n",
    "    mean = np.dot(lamb,Y)\n",
    "    var = (kernelSignal.Kdiag(x) - np.sum(lamb.T * kxX.T,0))[:,None]\n",
    "    lower = mean - 2*np.sqrt(np.abs(var))\n",
    "    upper = 2*mean - lower\n",
    "    return((mean,var,lower,upper))\n"
   ]
  },
  {
   "cell_type": "code",
   "execution_count": 7,
   "metadata": {
    "collapsed": false
   },
   "outputs": [
    {
     "data": {
      "text/plain": [
       "(-1.5, 2.5)"
      ]
     },
     "execution_count": 7,
     "metadata": {},
     "output_type": "execute_result"
    },
    {
     "data": {
      "text/plain": [
       "<matplotlib.figure.Figure at 0x7f300abbf250>"
      ]
     },
     "metadata": {},
     "output_type": "display_data"
    },
    {
     "data": {
      "image/png": "[encoded data removed]",
      "text/plain": [
       "<matplotlib.figure.Figure at 0x7f300abbf490>"
      ]
     },
     "metadata": {},
     "output_type": "display_data"
    }
   ],
   "source": [
    "pred_p = predict_submodels(Xgrid,X,Y,kp,ka)\n",
    "\n",
    "pb.figure(figsize=(4,4))\n",
    "GPy.plotting.matplot_dep.base_plots.gpplot(Xgrid,pred_p[0],pred_p[2],pred_p[3])\n",
    "pb.ylim([-1.5,2.5])"
   ]
  },
  {
   "cell_type": "markdown",
   "metadata": {},
   "source": [
    "**Subfigure c: aperiodic sub-model $m_a$**"
   ]
  },
  {
   "cell_type": "code",
   "execution_count": 8,
   "metadata": {
    "collapsed": false
   },
   "outputs": [
    {
     "data": {
      "text/plain": [
       "(-1.5, 2.5)"
      ]
     },
     "execution_count": 8,
     "metadata": {},
     "output_type": "execute_result"
    },
    {
     "data": {
      "text/plain": [
       "<matplotlib.figure.Figure at 0x7f2ffbf959d0>"
      ]
     },
     "metadata": {},
     "output_type": "display_data"
    },
    {
     "data": {
      "image/png": "[encoded data removed]",
      "text/plain": [
       "<matplotlib.figure.Figure at 0x7f2ffbf95890>"
      ]
     },
     "metadata": {},
     "output_type": "display_data"
    }
   ],
   "source": [
    "pred_a = predict_submodels(Xgrid,X,Y,ka,kp)\n",
    "\n",
    "pb.figure(figsize=(4,4))\n",
    "GPy.plotting.matplot_dep.base_plots.gpplot(Xgrid,pred_a[0],pred_a[2],pred_a[3])\n",
    "pb.ylim([-1.5,2.5])"
   ]
  },
  {
   "cell_type": "code",
   "execution_count": null,
   "metadata": {
    "collapsed": false
   },
   "outputs": [],
   "source": []
  }
 ],
 "metadata": {
  "kernelspec": {
   "display_name": "Python 2",
   "language": "python",
   "name": "python2"
  },
  "language_info": {
   "codemirror_mode": {
    "name": "ipython",
    "version": 2
   },
   "file_extension": ".py",
   "mimetype": "text/x-python",
   "name": "python",
   "nbconvert_exporter": "python",
   "pygments_lexer": "ipython2",
   "version": "2.7.11"
  }
 },
 "nbformat": 4,
 "nbformat_minor": 0
}
